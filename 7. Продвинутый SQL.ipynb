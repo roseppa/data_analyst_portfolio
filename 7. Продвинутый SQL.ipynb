{
 "cells": [
  {
   "cell_type": "markdown",
   "id": "ae0e647a-6be6-4036-8024-cd5f78a4b088",
   "metadata": {},
   "source": [
    "# Продвинутый SQL"
   ]
  },
  {
   "cell_type": "markdown",
   "id": "17cbf993-5193-4621-84e5-70d3f7a0d7ac",
   "metadata": {},
   "source": [
    "Проект состоит из двух частей: \n",
    "\n",
    "* В первой части вы решите несколько задач в SQL-тренажёре, чтобы закрепить пройденный материал.\n",
    "* Вторая часть проекта — аналитическая. Проверять задачи по-прежнему будет тренажёр. Однако мы рекомендуем самостоятельно анализировать полученные результаты и формулировать выводы.\n",
    "\n",
    "Внимательно читайте условия. Формулировки задач в проекте приближены к реальной жизни. В работе часто встретятся такие формулировки: «рассчитать LTV за последние 30 дней», «отобразить самых активных покупателей» или даже «определить, почему в компании упали продажи».\n",
    "\n",
    "В самостоятельном проекте вы будете работать с базой данных **StackOverflow** — сервиса вопросов и ответов о программировании. StackOverflow похож на социальную сеть — пользователи сервиса задают вопросы, отвечают на посты, оставляют комментарии и ставят оценки другим ответам.\n",
    "\n",
    "Вы будете работать с версией базы, где хранятся данные о постах за 2008 год, но в таблицах вы найдёте информацию и о более поздних оценках, которые эти посты получили. \n",
    "Изучите ER-диаграмму базы:"
   ]
  },
  {
   "cell_type": "markdown",
   "id": "8c462f04-d72f-4bbd-ac39-a5b58bec1f1c",
   "metadata": {},
   "source": [
    "<img \n",
    "     src=\"other/images/project7_sql.png\" \n",
    "     height=\"800\" \n",
    "     width=\"800\" />"
   ]
  },
  {
   "cell_type": "markdown",
   "id": "c44f7ab7-52b4-427a-aa9a-0fbd2c66674a",
   "metadata": {},
   "source": [
    "Теперь познакомьтесь с данными таблиц."
   ]
  },
  {
   "cell_type": "markdown",
   "id": "7e7c7ea9-8a9a-48a6-bafd-cee35db66176",
   "metadata": {},
   "source": [
    "**`stackoverflow.badges`**\n",
    "\n",
    "Хранит информацию о значках, которые присуждаются за разные достижения. Например, пользователь, правильно ответивший на большое количество вопросов про PostgreSQL, может получить значок postgresql. "
   ]
  },
  {
   "cell_type": "markdown",
   "id": "a305241a-d6ae-4240-8d52-6ff40d4f451b",
   "metadata": {},
   "source": [
    "* id\tИдентификатор значка, первичный ключ таблицы\n",
    "* name\tНазвание значка\n",
    "* user_id\tИдентификатор пользователя, которому присвоили значок, внешний ключ, отсылающий к таблице users\n",
    "* creation_date\tДата присвоения значка"
   ]
  },
  {
   "cell_type": "markdown",
   "id": "c32f069a-556b-4374-b7e3-a5a68cd224d2",
   "metadata": {},
   "source": [
    "**`stackoverflow.post_types`**"
   ]
  },
  {
   "cell_type": "markdown",
   "id": "e3c2d22e-0236-48a2-8df3-df59bd51c5f5",
   "metadata": {},
   "source": [
    "Содержит информацию о типе постов. Их может быть два:\n",
    "\n",
    "* Question — пост с вопросом;\n",
    "* Answer — пост с ответом."
   ]
  },
  {
   "cell_type": "markdown",
   "id": "fac26ffb-08ac-4a74-b005-97ec5f143171",
   "metadata": {},
   "source": [
    "* id\tИдентификатор поста, первичный ключ таблицы\n",
    "* type\tТип поста"
   ]
  },
  {
   "cell_type": "markdown",
   "id": "e7256534-8480-4312-9ff4-43e8a17729f0",
   "metadata": {},
   "source": [
    "**`stackoverflow.posts`**\n",
    "\n",
    "Содержит информацию о постах."
   ]
  },
  {
   "cell_type": "markdown",
   "id": "3d19bd7e-f228-44c9-94ac-a3eb319692c3",
   "metadata": {},
   "source": [
    "* id\tИдентификатор поста, первичный ключ таблицы\n",
    "* title\tЗаголовок поста\n",
    "* creation_date\tДата создания поста\n",
    "* favorites_count\tЧисло, которое показывает, сколько раз пост добавили в «Закладки»\n",
    "* last_activity_date\tДата последнего действия в посте, например комментария\n",
    "* last_edit_date\tДата последнего изменения поста\n",
    "* user_id\tИдентификатор пользователя, который создал пост, внешний ключ к таблице users\n",
    "* parent_id\tЕсли пост написали в ответ на другую публикацию, в это поле попадёт идентификатор поста с вопросом\n",
    "* post_type_id\tИдентификатор типа поста, внешний ключ к таблице post_types\n",
    "* score\tКоличество очков, которое набрал пост\n",
    "* views_count\tКоличество просмотров"
   ]
  },
  {
   "cell_type": "markdown",
   "id": "50bc1bd3-d95b-4d38-a940-308564596dac",
   "metadata": {},
   "source": [
    "**`stackoverflow.users`**\n",
    "\n",
    "Содержит информацию о пользователях."
   ]
  },
  {
   "cell_type": "markdown",
   "id": "7da475c1-586d-45f5-9b4f-de955bfd0dc2",
   "metadata": {},
   "source": [
    "* id\tИдентификатор пользователя, первичный ключ таблицы\n",
    "* creation_date\tДата регистрации пользователя\n",
    "* display_name\tИмя пользователя\n",
    "* last_access_date\tДата последнего входа\n",
    "* location\tМестоположение\n",
    "* reputation\tОчки репутации, которые получают за хорошие вопросы и полезные ответы\n",
    "* views\tЧисло просмотров профиля пользователя"
   ]
  },
  {
   "cell_type": "markdown",
   "id": "9faa235c-0a69-4ceb-9cbc-8f394a6c1ab2",
   "metadata": {},
   "source": [
    "**`stackoverflow.vote_types`**\n",
    "\n",
    "Содержит информацию о типах голосов. Голос — это метка, которую пользователи ставят посту. Типов бывает несколько: \n",
    "\n",
    "* UpMod — такую отметку получают посты с вопросами или ответами, которые пользователи посчитали уместными и полезными.\n",
    "* DownMod — такую отметку получают посты, которые показались пользователям наименее полезными.\n",
    "* Close — такую метку ставят опытные пользователи сервиса, если заданный вопрос нужно доработать или он вообще не подходит для платформы.\n",
    "* Offensive — такую метку могут поставить, если пользователь ответил на вопрос в грубой и оскорбительной манере, например, указав на неопытность автора поста.\n",
    "* Spam — такую метку ставят в случае, если пост пользователя выглядит откровенной рекламой."
   ]
  },
  {
   "cell_type": "markdown",
   "id": "8adce170-f05e-40c9-9b3b-162b19f5f7f1",
   "metadata": {},
   "source": [
    "* id\tИдентификатор типа голоса, первичный ключ\n",
    "* name\tНазвание метки"
   ]
  },
  {
   "cell_type": "markdown",
   "id": "25d2f013-1a07-40cc-bd1b-309bebdaecd0",
   "metadata": {},
   "source": [
    "**`stackoverflow.votes`**\n",
    "\n",
    "Содержит информацию о голосах за посты. "
   ]
  },
  {
   "cell_type": "markdown",
   "id": "0e3e9adb-6250-4bc4-b4aa-915a1491a578",
   "metadata": {},
   "source": [
    "* id\tИдентификатор голоса, первичный ключ\n",
    "* post_id\tИдентификатор поста, внешний ключ к таблице posts\n",
    "* user_id\tИдентификатор пользователя, который поставил посту голос, внешний ключ к таблице users\n",
    "* bounty_amount\tСумма вознаграждения, которое назначают, чтобы привлечь внимание к посту\n",
    "* vote_type_id\tИдентификатор типа голоса, внешний ключ к таблице vote_types\n",
    "* creation_date\tДата назначения голоса\n"
   ]
  },
  {
   "cell_type": "markdown",
   "id": "551a29eb-7dac-4874-a90e-3cc555b085fd",
   "metadata": {},
   "source": [
    "## **`ПЕРВАЯ ЧАСТЬ`**"
   ]
  },
  {
   "cell_type": "markdown",
   "id": "a86f4e0c-3eb7-48df-841f-5f5ccb44753e",
   "metadata": {},
   "source": [
    "## Задача 1"
   ]
  },
  {
   "cell_type": "markdown",
   "id": "081fa6d2-c9ac-4bfc-bd7f-b9d3a981a6b1",
   "metadata": {},
   "source": [
    "Найдите количество вопросов, которые набрали больше 300 очков или как минимум 100 раз были добавлены в «Закладки»."
   ]
  },
  {
   "cell_type": "code",
   "execution_count": 14,
   "id": "2ce89782-0248-4de5-b91b-290d2200c48f",
   "metadata": {},
   "outputs": [
    {
     "data": {
      "text/plain": [
       "'\\nSELECT COUNT(s_p.id)\\nFROM stackoverflow.posts AS s_p\\nWHERE s_p.post_type_id = 1\\n  AND s_p.score > 300\\n   OR s_p.favorites_count >= 100;\\n'"
      ]
     },
     "execution_count": 14,
     "metadata": {},
     "output_type": "execute_result"
    }
   ],
   "source": [
    "'''\n",
    "SELECT COUNT(s_p.id)\n",
    "FROM stackoverflow.posts AS s_p\n",
    "WHERE s_p.post_type_id = 1\n",
    "  AND s_p.score > 300\n",
    "   OR s_p.favorites_count >= 100;\n",
    "'''"
   ]
  },
  {
   "cell_type": "markdown",
   "id": "fcb33917-1cc7-4556-8dee-d7ebbee5a1aa",
   "metadata": {},
   "source": [
    "## Задача 2"
   ]
  },
  {
   "cell_type": "markdown",
   "id": "e2d2f627-1897-4c71-b24c-e8d44678b57e",
   "metadata": {},
   "source": [
    "Сколько в среднем в день задавали вопросов с 1 по 18 ноября 2008 включительно? Результат округлите до целого числа."
   ]
  },
  {
   "cell_type": "code",
   "execution_count": 15,
   "id": "858ca6bf-73d4-4220-be3d-3145372f2095",
   "metadata": {},
   "outputs": [
    {
     "data": {
      "text/plain": [
       "\"\\nWITH t_1 AS (\\nSELECT CAST(s_p.creation_date AS date) AS dt,\\n       COUNT(s_p.id) AS questions_count\\nFROM stackoverflow.posts AS s_p\\nWHERE s_p.post_type_id = 1\\nGROUP BY dt)\\n\\nSELECT ROUND(AVG(questions_count)) AS avg_questions_count\\nFROM t_1\\nWHERE dt BETWEEN '2008-11-1' AND '2008-11-18';\\n\""
      ]
     },
     "execution_count": 15,
     "metadata": {},
     "output_type": "execute_result"
    }
   ],
   "source": [
    "'''\n",
    "WITH t_1 AS (\n",
    "SELECT CAST(s_p.creation_date AS date) AS dt,\n",
    "       COUNT(s_p.id) AS questions_count\n",
    "FROM stackoverflow.posts AS s_p\n",
    "WHERE s_p.post_type_id = 1\n",
    "GROUP BY dt)\n",
    "\n",
    "SELECT ROUND(AVG(questions_count)) AS avg_questions_count\n",
    "FROM t_1\n",
    "WHERE dt BETWEEN '2008-11-1' AND '2008-11-18';\n",
    "'''"
   ]
  },
  {
   "cell_type": "markdown",
   "id": "0920196d-39bf-4882-83fb-1744abf5554a",
   "metadata": {},
   "source": [
    "## Задача 3"
   ]
  },
  {
   "cell_type": "markdown",
   "id": "780d6b73-dc00-4955-aced-3ab6b292fd0e",
   "metadata": {},
   "source": [
    "Сколько пользователей получили значки сразу в день регистрации? Выведите количество уникальных пользователей."
   ]
  },
  {
   "cell_type": "code",
   "execution_count": 16,
   "id": "165d54f5-33e3-41fe-9f56-a271e7ea6099",
   "metadata": {},
   "outputs": [
    {
     "data": {
      "text/plain": [
       "'\\nSELECT COUNT(DISTINCT(s_u.id))\\nFROM stackoverflow.users AS s_u\\nJOIN stackoverflow.badges AS s_b ON s_b.user_id = s_u.id\\nWHERE CAST(s_u.creation_date AS date) = CAST(s_b.creation_date AS date); \\n'"
      ]
     },
     "execution_count": 16,
     "metadata": {},
     "output_type": "execute_result"
    }
   ],
   "source": [
    "'''\n",
    "SELECT COUNT(DISTINCT(s_u.id))\n",
    "FROM stackoverflow.users AS s_u\n",
    "JOIN stackoverflow.badges AS s_b ON s_b.user_id = s_u.id\n",
    "WHERE CAST(s_u.creation_date AS date) = CAST(s_b.creation_date AS date); \n",
    "'''"
   ]
  },
  {
   "cell_type": "markdown",
   "id": "597b51cf-7720-446a-ac18-b78ed95b145e",
   "metadata": {},
   "source": [
    "## Задача 4"
   ]
  },
  {
   "cell_type": "markdown",
   "id": "c5d69b88-2877-4d1a-a62b-3b1199076d4e",
   "metadata": {},
   "source": [
    "Сколько уникальных постов пользователя с именем Joel Coehoorn получили хотя бы один голос?"
   ]
  },
  {
   "cell_type": "code",
   "execution_count": 20,
   "id": "6aa6a25e-16c6-4629-9aa2-607bdb2ed9cc",
   "metadata": {},
   "outputs": [
    {
     "data": {
      "text/plain": [
       "\"\\nSELECT COUNT(DISTINCT(s_p.id))\\nFROM stackoverflow.users AS s_u\\nJOIN stackoverflow.posts AS s_p ON s_u.id = s_p.user_id\\nRIGHT JOIN stackoverflow.votes AS s_v ON s_p.id = s_v.post_id\\nWHERE s_u.display_name = 'Joel Coehoorn';\\n\""
      ]
     },
     "execution_count": 20,
     "metadata": {},
     "output_type": "execute_result"
    }
   ],
   "source": [
    "'''\n",
    "SELECT COUNT(DISTINCT(s_p.id))\n",
    "FROM stackoverflow.users AS s_u\n",
    "JOIN stackoverflow.posts AS s_p ON s_u.id = s_p.user_id\n",
    "RIGHT JOIN stackoverflow.votes AS s_v ON s_p.id = s_v.post_id\n",
    "WHERE s_u.display_name = 'Joel Coehoorn';\n",
    "'''"
   ]
  },
  {
   "cell_type": "markdown",
   "id": "256705eb-8c26-4016-af8c-67cf5f517df8",
   "metadata": {},
   "source": [
    "## Задача 5"
   ]
  },
  {
   "cell_type": "markdown",
   "id": "38ff528f-caba-406c-b83d-75d1527b54a6",
   "metadata": {},
   "source": [
    "Выгрузите все поля таблицы vote_types. Добавьте к таблице поле rank, в которое войдут номера записей в обратном порядке. Таблица должна быть отсортирована по полю id."
   ]
  },
  {
   "cell_type": "code",
   "execution_count": 21,
   "id": "05a3a45a-a34a-4843-af97-ca9b4d9cef87",
   "metadata": {},
   "outputs": [
    {
     "data": {
      "text/plain": [
       "'\\nSELECT *,\\n       RANK () OVER (ORDER BY id DESC) AS rank\\nFROM stackoverflow.vote_types AS s_vt\\nORDER BY s_vt.id; \\n'"
      ]
     },
     "execution_count": 21,
     "metadata": {},
     "output_type": "execute_result"
    }
   ],
   "source": [
    "'''\n",
    "SELECT *,\n",
    "       RANK () OVER (ORDER BY id DESC) AS rank\n",
    "FROM stackoverflow.vote_types AS s_vt\n",
    "ORDER BY s_vt.id; \n",
    "'''"
   ]
  },
  {
   "cell_type": "markdown",
   "id": "e6aab262-a4c9-4723-8ec4-2e438e1a55d3",
   "metadata": {},
   "source": [
    "## Задача 6"
   ]
  },
  {
   "cell_type": "markdown",
   "id": "da00aaca-b688-4ac0-aabb-d8fc975fc40f",
   "metadata": {},
   "source": [
    "Отберите 10 пользователей, которые поставили больше всего голосов типа Close. Отобразите таблицу из двух полей: идентификатором пользователя и количеством голосов. Отсортируйте данные сначала по убыванию количества голосов, потом по убыванию значения идентификатора пользователя."
   ]
  },
  {
   "cell_type": "code",
   "execution_count": 22,
   "id": "76eb3c38-474c-4e01-880e-38b96d82bcb9",
   "metadata": {},
   "outputs": [
    {
     "data": {
      "text/plain": [
       "\"\\nSELECT s_v.user_id AS user_votes,\\n       COUNT(s_v.id) AS votes_cnt\\nFROM stackoverflow.votes AS s_v\\nJOIN stackoverflow.vote_types AS s_vt ON s_vt.id = s_v.vote_type_id\\nWHERE name = 'Close'  \\nGROUP BY user_votes\\nORDER BY votes_cnt DESC, user_votes DESC\\nLIMIT 10;\\n\""
      ]
     },
     "execution_count": 22,
     "metadata": {},
     "output_type": "execute_result"
    }
   ],
   "source": [
    "'''\n",
    "SELECT s_v.user_id AS user_votes,\n",
    "       COUNT(s_v.id) AS votes_cnt\n",
    "FROM stackoverflow.votes AS s_v\n",
    "JOIN stackoverflow.vote_types AS s_vt ON s_vt.id = s_v.vote_type_id\n",
    "WHERE name = 'Close'  \n",
    "GROUP BY user_votes\n",
    "ORDER BY votes_cnt DESC, user_votes DESC\n",
    "LIMIT 10;\n",
    "'''"
   ]
  },
  {
   "cell_type": "markdown",
   "id": "f5542bfb-73fe-401d-be21-4ecf7a0844e3",
   "metadata": {},
   "source": [
    "## Задача 7"
   ]
  },
  {
   "cell_type": "markdown",
   "id": "a53d021f-a86f-43a4-a9aa-4a281fe7017c",
   "metadata": {},
   "source": [
    "Отберите 10 пользователей по количеству значков, полученных в период с 15 ноября по 15 декабря 2008 года включительно.\n",
    "\n",
    "Отобразите несколько полей:\n",
    "\n",
    "* идентификатор пользователя;\n",
    "* число значков;\n",
    "* место в рейтинге — чем больше значков, тем выше рейтинг.\n",
    "\n",
    "Пользователям, которые набрали одинаковое количество значков, присвойте одно и то же место в рейтинге.\n",
    "\n",
    "Отсортируйте записи по количеству значков по убыванию, а затем по возрастанию значения идентификатора пользователя."
   ]
  },
  {
   "cell_type": "code",
   "execution_count": 23,
   "id": "823c0a3e-4480-4174-9c66-35aa81e0409b",
   "metadata": {},
   "outputs": [
    {
     "data": {
      "text/plain": [
       "\"\\nSELECT s_b.user_id,\\n       COUNT (s_b.id),\\n       DENSE_RANK () OVER (ORDER BY COUNT (s_b.id) DESC)\\nFROM stackoverflow.badges AS s_b      \\nWHERE CAST(s_b.creation_date AS date) BETWEEN '2008-11-15' AND '2008-12-15'\\nGROUP BY s_b.user_id\\nORDER BY COUNT (s_b.id) DESC,\\n         s_b.user_id\\nLIMIT 10; \\n\""
      ]
     },
     "execution_count": 23,
     "metadata": {},
     "output_type": "execute_result"
    }
   ],
   "source": [
    "'''\n",
    "SELECT s_b.user_id,\n",
    "       COUNT (s_b.id),\n",
    "       DENSE_RANK () OVER (ORDER BY COUNT (s_b.id) DESC)\n",
    "FROM stackoverflow.badges AS s_b      \n",
    "WHERE CAST(s_b.creation_date AS date) BETWEEN '2008-11-15' AND '2008-12-15'\n",
    "GROUP BY s_b.user_id\n",
    "ORDER BY COUNT (s_b.id) DESC,\n",
    "         s_b.user_id\n",
    "LIMIT 10; \n",
    "'''"
   ]
  },
  {
   "cell_type": "markdown",
   "id": "5026b49a-370e-4fbb-97ff-acf1c71da495",
   "metadata": {},
   "source": [
    "## Задача 8"
   ]
  },
  {
   "cell_type": "markdown",
   "id": "e9d42107-a7b9-4998-8b80-8ef9a9cdb792",
   "metadata": {},
   "source": [
    "Сколько в среднем очков получает пост каждого пользователя?\n",
    "\n",
    "Сформируйте таблицу из следующих полей:\n",
    "\n",
    "* заголовок поста;\n",
    "* идентификатор пользователя;\n",
    "* число очков поста;\n",
    "* среднее число очков пользователя за пост, округлённое до целого числа.\n",
    "\n",
    "Не учитывайте посты без заголовка, а также те, что набрали ноль очков."
   ]
  },
  {
   "cell_type": "code",
   "execution_count": 24,
   "id": "65ad238c-a668-42f6-a54a-620f96ba350e",
   "metadata": {},
   "outputs": [
    {
     "data": {
      "text/plain": [
       "'\\nSELECT s_p.title, \\n       s_p.user_id, \\n       s_p.score,\\n       ROUND(AVG(s_p.score) OVER (PARTITION BY s_p.user_id))::int\\nFROM stackoverflow.posts AS s_p    \\nWHERE s_p.title IS NOT NULL\\n      AND s_p.score != 0; \\n'"
      ]
     },
     "execution_count": 24,
     "metadata": {},
     "output_type": "execute_result"
    }
   ],
   "source": [
    "'''\n",
    "SELECT s_p.title, \n",
    "       s_p.user_id, \n",
    "       s_p.score,\n",
    "       ROUND(AVG(s_p.score) OVER (PARTITION BY s_p.user_id))::int\n",
    "FROM stackoverflow.posts AS s_p    \n",
    "WHERE s_p.title IS NOT NULL\n",
    "      AND s_p.score != 0; \n",
    "'''"
   ]
  },
  {
   "cell_type": "markdown",
   "id": "6e0dc5af-2058-4a99-8e17-5e2cd1c94674",
   "metadata": {},
   "source": [
    "## Задача 9"
   ]
  },
  {
   "cell_type": "markdown",
   "id": "a40e105e-e13b-40e7-8b27-2f9ab24c678f",
   "metadata": {},
   "source": [
    "Отобразите заголовки постов, которые были написаны пользователями, получившими более 1000 значков. Посты без заголовков не должны попасть в список."
   ]
  },
  {
   "cell_type": "code",
   "execution_count": 25,
   "id": "074ff07d-167f-4a8c-82a6-6ecc547e53bb",
   "metadata": {},
   "outputs": [
    {
     "data": {
      "text/plain": [
       "'\\nSELECT s_p.title\\nFROM stackoverflow.posts AS s_p\\nWHERE s_p.title IS NOT NULL \\n  AND s_p.user_id IN (\\n        SELECT s_b.user_id \\n        FROM stackoverflow.badges AS s_b\\n        GROUP BY s_b.user_id\\n        HAVING COUNT(s_b.id) > 1000); \\n'"
      ]
     },
     "execution_count": 25,
     "metadata": {},
     "output_type": "execute_result"
    }
   ],
   "source": [
    "'''\n",
    "SELECT s_p.title\n",
    "FROM stackoverflow.posts AS s_p\n",
    "WHERE s_p.title IS NOT NULL \n",
    "  AND s_p.user_id IN (\n",
    "        SELECT s_b.user_id \n",
    "        FROM stackoverflow.badges AS s_b\n",
    "        GROUP BY s_b.user_id\n",
    "        HAVING COUNT(s_b.id) > 1000); \n",
    "'''"
   ]
  },
  {
   "cell_type": "markdown",
   "id": "3300b05b-ac88-426d-b5d7-523786459a17",
   "metadata": {},
   "source": [
    "## Задача 10"
   ]
  },
  {
   "cell_type": "markdown",
   "id": "ae11c5be-c2cd-4b14-b837-f4a4f6869b2a",
   "metadata": {},
   "source": [
    "Напишите запрос, который выгрузит данные о пользователях из Канады (англ. Canada). Разделите пользователей на три группы в зависимости от количества просмотров их профилей:\n",
    "\n",
    "* пользователям с числом просмотров больше либо равным 350 присвойте группу 1;\n",
    "* пользователям с числом просмотров меньше 350, но больше либо равно 100 — группу 2;\n",
    "* пользователям с числом просмотров меньше 100 — группу 3.\n",
    "\n",
    "Отобразите в итоговой таблице идентификатор пользователя, количество просмотров профиля и группу. Пользователи с количеством просмотров меньше либо равным нулю не должны войти в итоговую таблицу."
   ]
  },
  {
   "cell_type": "code",
   "execution_count": 26,
   "id": "8a603b81-21be-4eca-8f0c-b93e735f7beb",
   "metadata": {},
   "outputs": [
    {
     "data": {
      "text/plain": [
       "\"\\nSELECT id,\\n       views,\\n       CASE\\n          WHEN views >= 350 THEN 1\\n          WHEN views < 350 AND views >= 100 THEN 2\\n          ELSE 3\\n       END AS group\\nFROM stackoverflow.users\\nWHERE location LIKE '%Canada%' AND views > 0\\nORDER BY views DESC; \\n\""
      ]
     },
     "execution_count": 26,
     "metadata": {},
     "output_type": "execute_result"
    }
   ],
   "source": [
    "'''\n",
    "SELECT id,\n",
    "       views,\n",
    "       CASE\n",
    "          WHEN views >= 350 THEN 1\n",
    "          WHEN views < 350 AND views >= 100 THEN 2\n",
    "          ELSE 3\n",
    "       END AS group\n",
    "FROM stackoverflow.users\n",
    "WHERE location LIKE '%Canada%' AND views > 0\n",
    "ORDER BY views DESC; \n",
    "'''"
   ]
  },
  {
   "cell_type": "markdown",
   "id": "c080d158-09ef-4c1b-be6c-d8c8667827e3",
   "metadata": {},
   "source": [
    "## Задача 11"
   ]
  },
  {
   "cell_type": "markdown",
   "id": "bbb03246-076b-46fb-b04d-ded4d4ca7fe0",
   "metadata": {},
   "source": [
    "Дополните предыдущий запрос. Отобразите лидеров каждой группы — пользователей, которые набрали максимальное число просмотров в своей группе. Выведите поля с идентификатором пользователя, группой и количеством просмотров. Отсортируйте таблицу по убыванию просмотров, а затем по возрастанию значения идентификатора."
   ]
  },
  {
   "cell_type": "code",
   "execution_count": 27,
   "id": "de52453f-bdf2-4586-b849-e5e7a2ae9fdc",
   "metadata": {},
   "outputs": [
    {
     "data": {
      "text/plain": [
       "\"\\nWITH t_1 AS (\\nSELECT id AS user_id,\\n       views AS views_cnt,\\n       CASE\\n          WHEN views >= 350 THEN 1\\n          WHEN views < 350 AND views >= 100 THEN 2\\n          ELSE 3\\n       END AS category\\nFROM stackoverflow.users\\nWHERE location LIKE '%Canada%' AND views > 0\\nORDER BY views DESC),\\n\\nt_2 AS (\\nSELECT user_id,\\n       views_cnt,\\n       category,\\n       MAX(views_cnt) OVER (PARTITION BY category ORDER BY views_cnt DESC) AS max_views\\nFROM t_1)\\n\\nSELECT user_id,\\n       category,\\n       views_cnt\\nFROM t_2\\nWHERE views_cnt =  max_views\\nORDER BY views_cnt DESC, user_id; \\n\""
      ]
     },
     "execution_count": 27,
     "metadata": {},
     "output_type": "execute_result"
    }
   ],
   "source": [
    "'''\n",
    "WITH t_1 AS (\n",
    "SELECT id AS user_id,\n",
    "       views AS views_cnt,\n",
    "       CASE\n",
    "          WHEN views >= 350 THEN 1\n",
    "          WHEN views < 350 AND views >= 100 THEN 2\n",
    "          ELSE 3\n",
    "       END AS category\n",
    "FROM stackoverflow.users\n",
    "WHERE location LIKE '%Canada%' AND views > 0\n",
    "ORDER BY views DESC),\n",
    "\n",
    "t_2 AS (\n",
    "SELECT user_id,\n",
    "       views_cnt,\n",
    "       category,\n",
    "       MAX(views_cnt) OVER (PARTITION BY category ORDER BY views_cnt DESC) AS max_views\n",
    "FROM t_1)\n",
    "\n",
    "SELECT user_id,\n",
    "       category,\n",
    "       views_cnt\n",
    "FROM t_2\n",
    "WHERE views_cnt =  max_views\n",
    "ORDER BY views_cnt DESC, user_id; \n",
    "'''"
   ]
  },
  {
   "cell_type": "markdown",
   "id": "73432dc8-1e93-4c4a-9e1d-a12456e43059",
   "metadata": {},
   "source": [
    "## Задача 12"
   ]
  },
  {
   "cell_type": "markdown",
   "id": "43cc69b2-d74b-4750-8a71-eed854ed179c",
   "metadata": {},
   "source": [
    "Посчитайте ежедневный прирост новых пользователей в ноябре 2008 года. Сформируйте таблицу с полями:\n",
    "\n",
    "* номер дня;\n",
    "* число пользователей, зарегистрированных в этот день;\n",
    "* сумму пользователей с накоплением."
   ]
  },
  {
   "cell_type": "code",
   "execution_count": 28,
   "id": "91f8b312-5da3-410e-858a-f5469fc7bd09",
   "metadata": {},
   "outputs": [
    {
     "data": {
      "text/plain": [
       "\"\\nWITH t_1 AS\\n(\\nSELECT CAST(creation_date AS date) AS days,\\n       COUNT(id) AS users_cnt\\nFROM stackoverflow.users\\nGROUP BY CAST(creation_date AS date)\\nORDER BY CAST(creation_date AS date)\\n)\\n\\nSELECT RANK() OVER (ORDER BY days),\\n       users_cnt,\\n       SUM(users_cnt) OVER (ORDER BY days)::int AS cum\\nFROM t_1 \\nWHERE CAST(days AS date) BETWEEN '2008-11-01' AND '2008-11-30'; \\n\""
      ]
     },
     "execution_count": 28,
     "metadata": {},
     "output_type": "execute_result"
    }
   ],
   "source": [
    "'''\n",
    "WITH t_1 AS\n",
    "(\n",
    "SELECT CAST(creation_date AS date) AS days,\n",
    "       COUNT(id) AS users_cnt\n",
    "FROM stackoverflow.users\n",
    "GROUP BY CAST(creation_date AS date)\n",
    "ORDER BY CAST(creation_date AS date)\n",
    ")\n",
    "\n",
    "SELECT RANK() OVER (ORDER BY days),\n",
    "       users_cnt,\n",
    "       SUM(users_cnt) OVER (ORDER BY days)::int AS cum\n",
    "FROM t_1 \n",
    "WHERE CAST(days AS date) BETWEEN '2008-11-01' AND '2008-11-30'; \n",
    "'''"
   ]
  },
  {
   "cell_type": "markdown",
   "id": "46a3d64b-d3ce-4fcd-b3e1-9605e386cf60",
   "metadata": {},
   "source": [
    "## Задача 13"
   ]
  },
  {
   "cell_type": "markdown",
   "id": "2c2d5ec2-134f-4f49-b71a-9405a252af7d",
   "metadata": {},
   "source": [
    "Для каждого пользователя, который написал хотя бы один пост, найдите интервал между регистрацией и временем создания первого поста. Отобразите:\n",
    "\n",
    "* идентификатор пользователя;\n",
    "* разницу во времени между регистрацией и первым постом."
   ]
  },
  {
   "cell_type": "code",
   "execution_count": 29,
   "id": "b5a4b6e0-ad21-49d6-b6fe-fd6a25879d08",
   "metadata": {},
   "outputs": [
    {
     "data": {
      "text/plain": [
       "'\\nWITH t_1 AS \\n(\\nSELECT s_p.user_id, \\n       s_p.creation_date,\\n       RANK() OVER (PARTITION BY s_p.user_id ORDER BY s_p.creation_date) AS first_pub\\nFROM stackoverflow.posts AS s_p\\nORDER BY s_p.user_id\\n)\\n\\nSELECT t_1.user_id,\\n       t_1.creation_date - s_u.creation_date AS delta\\nFROM t_1\\nJOIN stackoverflow.users AS s_u ON t_1.user_id = s_u.id\\nWHERE first_pub = 1; \\n'"
      ]
     },
     "execution_count": 29,
     "metadata": {},
     "output_type": "execute_result"
    }
   ],
   "source": [
    "'''\n",
    "WITH t_1 AS \n",
    "(\n",
    "SELECT s_p.user_id, \n",
    "       s_p.creation_date,\n",
    "       RANK() OVER (PARTITION BY s_p.user_id ORDER BY s_p.creation_date) AS first_pub\n",
    "FROM stackoverflow.posts AS s_p\n",
    "ORDER BY s_p.user_id\n",
    ")\n",
    "\n",
    "SELECT t_1.user_id,\n",
    "       t_1.creation_date - s_u.creation_date AS delta\n",
    "FROM t_1\n",
    "JOIN stackoverflow.users AS s_u ON t_1.user_id = s_u.id\n",
    "WHERE first_pub = 1; \n",
    "'''"
   ]
  },
  {
   "cell_type": "markdown",
   "id": "3b92b37a-dfab-4a7e-b786-d95bda8a6d49",
   "metadata": {},
   "source": [
    "---\n",
    "## **`ВТОРАЯ ЧАСТЬ`**"
   ]
  },
  {
   "cell_type": "markdown",
   "id": "fd0aaf8d-1fb1-4051-9539-338ec475b4e9",
   "metadata": {},
   "source": [
    "## Задача 1"
   ]
  },
  {
   "cell_type": "markdown",
   "id": "c8bdcfb3-a64c-4342-ba5e-2666880c3803",
   "metadata": {},
   "source": [
    "Выведите общую сумму просмотров у постов, опубликованных в каждый месяц 2008 года. Если данных за какой-либо месяц в базе нет, такой месяц можно пропустить. Результат отсортируйте по убыванию общего количества просмотров."
   ]
  },
  {
   "cell_type": "code",
   "execution_count": 1,
   "id": "448fb88c-dcc6-4eb9-b687-2a61b5cdf069",
   "metadata": {},
   "outputs": [
    {
     "data": {
      "text/plain": [
       "\"\\nSELECT CAST(DATE_TRUNC('month', creation_date) AS date) AS dt,\\n       SUM(views_count) AS sum_views\\nFROM stackoverflow.posts AS s_p\\nWHERE CAST(creation_date AS date) BETWEEN '2008-01-10' AND '2008-12-31'\\nGROUP BY dt\\nORDER BY sum_views DESC;\\n\""
      ]
     },
     "execution_count": 1,
     "metadata": {},
     "output_type": "execute_result"
    }
   ],
   "source": [
    "'''\n",
    "SELECT CAST(DATE_TRUNC('month', creation_date) AS date) AS dt,\n",
    "       SUM(views_count) AS sum_views\n",
    "FROM stackoverflow.posts AS s_p\n",
    "WHERE CAST(creation_date AS date) BETWEEN '2008-01-10' AND '2008-12-31'\n",
    "GROUP BY dt\n",
    "ORDER BY sum_views DESC;\n",
    "'''"
   ]
  },
  {
   "cell_type": "markdown",
   "id": "c38cf1c6-830a-42e1-a558-43cc80b25ca1",
   "metadata": {},
   "source": [
    "## Задача 2"
   ]
  },
  {
   "cell_type": "markdown",
   "id": "c15d5c88-1e4f-49d1-b368-25250a117556",
   "metadata": {},
   "source": [
    "Выведите имена самых активных пользователей, которые в первый месяц после регистрации (включая день регистрации) дали больше 100 ответов. Вопросы, которые задавали пользователи, не учитывайте. Для каждого имени пользователя выведите количество уникальных значений user_id. Отсортируйте результат по полю с именами в лексикографическом порядке."
   ]
  },
  {
   "cell_type": "code",
   "execution_count": 2,
   "id": "a91eea17-8dc6-4f27-8e4a-48098e65c0f1",
   "metadata": {},
   "outputs": [
    {
     "data": {
      "text/plain": [
       "\"\\nSELECT s_u.display_name,\\n       COUNT(DISTINCT s_p.user_id)\\nFROM stackoverflow.posts AS s_p\\nJOIN stackoverflow.users AS s_u ON s_p.user_id = s_u.id\\nJOIN stackoverflow.post_types AS s_pt ON s_pt.id = s_p.post_type_id\\nWHERE CAST(s_p.creation_date AS date) BETWEEN CAST(s_u.creation_date AS date) AND (CAST(s_u.creation_date AS date) + INTERVAL '1 month') \\n  AND s_pt.type LIKE 'Answer'\\nGROUP BY s_u.display_name\\nHAVING COUNT(s_p.id) > 100\\nORDER BY s_u.display_name;\\n\""
      ]
     },
     "execution_count": 2,
     "metadata": {},
     "output_type": "execute_result"
    }
   ],
   "source": [
    "'''\n",
    "SELECT s_u.display_name,\n",
    "       COUNT(DISTINCT s_p.user_id)\n",
    "FROM stackoverflow.posts AS s_p\n",
    "JOIN stackoverflow.users AS s_u ON s_p.user_id = s_u.id\n",
    "JOIN stackoverflow.post_types AS s_pt ON s_pt.id = s_p.post_type_id\n",
    "WHERE CAST(s_p.creation_date AS date) BETWEEN CAST(s_u.creation_date AS date) AND (CAST(s_u.creation_date AS date) + INTERVAL '1 month') \n",
    "  AND s_pt.type LIKE 'Answer'\n",
    "GROUP BY s_u.display_name\n",
    "HAVING COUNT(s_p.id) > 100\n",
    "ORDER BY s_u.display_name;\n",
    "'''"
   ]
  },
  {
   "cell_type": "markdown",
   "id": "5d91ef21-947e-4a89-81fc-7c2452586cc1",
   "metadata": {},
   "source": [
    "## Задача 3"
   ]
  },
  {
   "cell_type": "markdown",
   "id": "e582609b-6e91-42b9-b432-4b20efc34b89",
   "metadata": {},
   "source": [
    "Выведите количество постов за 2008 год по месяцам. Отберите посты от пользователей, которые зарегистрировались в сентябре 2008 года и сделали хотя бы один пост в декабре того же года. Отсортируйте таблицу по значению месяца по убыванию."
   ]
  },
  {
   "cell_type": "code",
   "execution_count": 3,
   "id": "9c0e0a0a-062d-4a73-b15e-418ee7e61c52",
   "metadata": {},
   "outputs": [
    {
     "data": {
      "text/plain": [
       "\"\\nWITH t_1 AS (\\nSELECT s_u.id\\nFROM stackoverflow.posts AS s_p\\nJOIN stackoverflow.users AS s_u ON s_p.user_id = s_u.id\\nWHERE CAST(s_u.creation_date AS date) BETWEEN '2008-09-01' AND '2008-09-30'\\n  AND CAST(s_p.creation_date AS date) BETWEEN '2008-12-01' AND '2008-12-31'\\nGROUP BY s_u.id)\\n\\nSELECT CAST(DATE_TRUNC('month', s_p.creation_date) AS date) AS month,\\n       COUNT(s_p.id)\\nFROM stackoverflow.posts AS s_p\\nWHERE s_p.user_id IN (SELECT *\\n                      FROM t_1)\\n  AND CAST(DATE_TRUNC('year', s_p.creation_date) AS date) = '2008-01-01'\\nGROUP BY CAST(DATE_TRUNC('month', s_p.creation_date) AS date)\\nORDER BY CAST(DATE_TRUNC('month', s_p.creation_date) AS date) DESC;\\n\""
      ]
     },
     "execution_count": 3,
     "metadata": {},
     "output_type": "execute_result"
    }
   ],
   "source": [
    "'''\n",
    "WITH t_1 AS (\n",
    "SELECT s_u.id\n",
    "FROM stackoverflow.posts AS s_p\n",
    "JOIN stackoverflow.users AS s_u ON s_p.user_id = s_u.id\n",
    "WHERE CAST(s_u.creation_date AS date) BETWEEN '2008-09-01' AND '2008-09-30'\n",
    "  AND CAST(s_p.creation_date AS date) BETWEEN '2008-12-01' AND '2008-12-31'\n",
    "GROUP BY s_u.id)\n",
    "\n",
    "SELECT CAST(DATE_TRUNC('month', s_p.creation_date) AS date) AS month,\n",
    "       COUNT(s_p.id)\n",
    "FROM stackoverflow.posts AS s_p\n",
    "WHERE s_p.user_id IN (SELECT *\n",
    "                      FROM t_1)\n",
    "  AND CAST(DATE_TRUNC('year', s_p.creation_date) AS date) = '2008-01-01'\n",
    "GROUP BY CAST(DATE_TRUNC('month', s_p.creation_date) AS date)\n",
    "ORDER BY CAST(DATE_TRUNC('month', s_p.creation_date) AS date) DESC;\n",
    "'''"
   ]
  },
  {
   "cell_type": "markdown",
   "id": "531de404-1328-4458-af3e-140d7b9fd7d1",
   "metadata": {},
   "source": [
    "## Задача 4"
   ]
  },
  {
   "cell_type": "markdown",
   "id": "8446a231-789e-4513-bd4c-972dfc49d27d",
   "metadata": {},
   "source": [
    "Используя данные о постах, выведите несколько полей:\n",
    "\n",
    "* идентификатор пользователя, который написал пост;\n",
    "* дата создания поста;\n",
    "* количество просмотров у текущего поста;\n",
    "* сумма просмотров постов автора с накоплением.\n",
    "\n",
    "Данные в таблице должны быть отсортированы по возрастанию идентификаторов пользователей, а данные об одном и том же пользователе — по возрастанию даты создания поста."
   ]
  },
  {
   "cell_type": "code",
   "execution_count": 4,
   "id": "d26c3a9b-1a2d-42c7-a785-12682d8fccc9",
   "metadata": {},
   "outputs": [
    {
     "data": {
      "text/plain": [
       "'\\nSELECT s_p.user_id, \\n       s_p.creation_date, \\n       s_p.views_count,\\n       SUM (s_p.views_count) OVER (PARTITION BY s_p.user_id ORDER BY s_p.creation_date) AS cumulative_count\\nFROM stackoverflow.posts AS s_p\\nORDER BY s_p.user_id, s_p.creation_date;\\n'"
      ]
     },
     "execution_count": 4,
     "metadata": {},
     "output_type": "execute_result"
    }
   ],
   "source": [
    "'''\n",
    "SELECT s_p.user_id, \n",
    "       s_p.creation_date, \n",
    "       s_p.views_count,\n",
    "       SUM (s_p.views_count) OVER (PARTITION BY s_p.user_id ORDER BY s_p.creation_date) AS cumulative_count\n",
    "FROM stackoverflow.posts AS s_p\n",
    "ORDER BY s_p.user_id, s_p.creation_date;\n",
    "'''"
   ]
  },
  {
   "cell_type": "markdown",
   "id": "da37912d-eaff-4a4e-b006-a6c9bc295524",
   "metadata": {},
   "source": [
    "## Задача 5"
   ]
  },
  {
   "cell_type": "markdown",
   "id": "833e09e4-04c9-499f-8e24-c011325f1131",
   "metadata": {},
   "source": [
    "Сколько в среднем дней в период с 1 по 7 декабря 2008 года включительно пользователи взаимодействовали с платформой? Для каждого пользователя отберите дни, в которые он или она опубликовали хотя бы один пост. Нужно получить одно целое число — не забудьте округлить результат."
   ]
  },
  {
   "cell_type": "code",
   "execution_count": 5,
   "id": "2f8e795d-8a76-4091-aade-66149525cd11",
   "metadata": {},
   "outputs": [
    {
     "data": {
      "text/plain": [
       "\"\\nWITH temp AS\\n(\\nSELECT user_id,\\n       COUNT(DISTINCT DATE_TRUNC('day', creation_date)::date)\\nFROM stackoverflow.posts\\nWHERE creation_date::date BETWEEN '2008-12-01' AND '2008-12-07'\\nGROUP BY user_id\\n)\\nSELECT ROUND(AVG(count))::int AS result\\nFROM temp;\\n\""
      ]
     },
     "execution_count": 5,
     "metadata": {},
     "output_type": "execute_result"
    }
   ],
   "source": [
    "'''\n",
    "WITH temp AS\n",
    "(\n",
    "SELECT user_id,\n",
    "       COUNT(DISTINCT DATE_TRUNC('day', creation_date)::date)\n",
    "FROM stackoverflow.posts\n",
    "WHERE creation_date::date BETWEEN '2008-12-01' AND '2008-12-07'\n",
    "GROUP BY user_id\n",
    ")\n",
    "SELECT ROUND(AVG(count))::int AS result\n",
    "FROM temp;\n",
    "'''"
   ]
  },
  {
   "cell_type": "markdown",
   "id": "5e5256ef-bf97-499a-9c59-c11ad0d21a14",
   "metadata": {},
   "source": [
    "## Задача 6"
   ]
  },
  {
   "cell_type": "markdown",
   "id": "e6e408eb-4415-4f77-803c-24cafdb7c87d",
   "metadata": {},
   "source": [
    "На сколько процентов менялось количество постов ежемесячно с 1 сентября по 31 декабря 2008 года? Отобразите таблицу со следующими полями:\n",
    "\n",
    "* Номер месяца.\n",
    "* Количество постов за месяц.\n",
    "* Процент, который показывает, насколько изменилось количество постов в текущем месяце по сравнению с предыдущим.\n",
    "\n",
    "Если постов стало меньше, значение процента должно быть отрицательным, если больше — положительным. Округлите значение процента до двух знаков после запятой.\n",
    "\n",
    "Напомним, что при делении одного целого числа на другое в PostgreSQL в результате получится целое число, округлённое до ближайшего целого вниз. Чтобы этого избежать, переведите делимое в тип numeric."
   ]
  },
  {
   "cell_type": "code",
   "execution_count": 6,
   "id": "186490cb-660a-4e40-9059-811b32e0d303",
   "metadata": {},
   "outputs": [
    {
     "data": {
      "text/plain": [
       "'\\nWITH temp AS\\n(\\nSELECT EXTRACT(MONTH FROM creation_date)::int AS creation_month,\\n       COUNT(id) AS posts_count\\nFROM stackoverflow.posts\\nWHERE EXTRACT(MONTH FROM creation_date)::int BETWEEN 9 AND 12\\nGROUP BY creation_month\\n)\\nSELECT *,\\n       ROUND((posts_count::numeric/LAG(posts_count) OVER()-1)*100, 2)\\nFROM temp;\\n'"
      ]
     },
     "execution_count": 6,
     "metadata": {},
     "output_type": "execute_result"
    }
   ],
   "source": [
    "'''\n",
    "WITH temp AS\n",
    "(\n",
    "SELECT EXTRACT(MONTH FROM creation_date)::int AS creation_month,\n",
    "       COUNT(id) AS posts_count\n",
    "FROM stackoverflow.posts\n",
    "WHERE EXTRACT(MONTH FROM creation_date)::int BETWEEN 9 AND 12\n",
    "GROUP BY creation_month\n",
    ")\n",
    "SELECT *,\n",
    "       ROUND((posts_count::numeric/LAG(posts_count) OVER()-1)*100, 2)\n",
    "FROM temp;\n",
    "'''"
   ]
  },
  {
   "cell_type": "markdown",
   "id": "68a73db3-a451-4187-95eb-fea4b5434c68",
   "metadata": {},
   "source": [
    "## Задача 7"
   ]
  },
  {
   "cell_type": "markdown",
   "id": "550732d6-111f-4888-a411-eba4f4029ddf",
   "metadata": {},
   "source": [
    "Найдите пользователя, который опубликовал больше всего постов за всё время с момента регистрации. Выведите данные его активности за октябрь 2008 года в таком виде:\n",
    "\n",
    "* номер недели;\n",
    "* дата и время последнего поста, опубликованного на этой неделе."
   ]
  },
  {
   "cell_type": "code",
   "execution_count": 7,
   "id": "98e5ae4f-9967-4651-9603-d2c206ac5660",
   "metadata": {},
   "outputs": [
    {
     "data": {
      "text/plain": [
       "\"\\nWITH active_user AS\\n(\\nSELECT user_id,\\n       COUNT(id)\\nFROM stackoverflow.posts\\nGROUP BY user_id\\nORDER BY COUNT(id) DESC\\nLIMIT 1\\n)\\nSELECT EXTRACT(WEEK FROM p.creation_date)::int AS week_creation,\\n       MAX(p.creation_date) AS creation_date\\nFROM active_user AS au\\nJOIN stackoverflow.posts AS p\\nON au.user_id=p.user_id\\nWHERE DATE_TRUNC('month', p.creation_date)::date = '2008-10-01'\\nGROUP BY week_creation;\\n\""
      ]
     },
     "execution_count": 7,
     "metadata": {},
     "output_type": "execute_result"
    }
   ],
   "source": [
    "'''\n",
    "WITH active_user AS\n",
    "(\n",
    "SELECT user_id,\n",
    "       COUNT(id)\n",
    "FROM stackoverflow.posts\n",
    "GROUP BY user_id\n",
    "ORDER BY COUNT(id) DESC\n",
    "LIMIT 1\n",
    ")\n",
    "SELECT EXTRACT(WEEK FROM p.creation_date)::int AS week_creation,\n",
    "       MAX(p.creation_date) AS creation_date\n",
    "FROM active_user AS au\n",
    "JOIN stackoverflow.posts AS p\n",
    "ON au.user_id=p.user_id\n",
    "WHERE DATE_TRUNC('month', p.creation_date)::date = '2008-10-01'\n",
    "GROUP BY week_creation;\n",
    "'''"
   ]
  }
 ],
 "metadata": {
  "kernelspec": {
   "display_name": "Python 3 (ipykernel)",
   "language": "python",
   "name": "python3"
  },
  "language_info": {
   "codemirror_mode": {
    "name": "ipython",
    "version": 3
   },
   "file_extension": ".py",
   "mimetype": "text/x-python",
   "name": "python",
   "nbconvert_exporter": "python",
   "pygments_lexer": "ipython3",
   "version": "3.9.5"
  }
 },
 "nbformat": 4,
 "nbformat_minor": 5
}
