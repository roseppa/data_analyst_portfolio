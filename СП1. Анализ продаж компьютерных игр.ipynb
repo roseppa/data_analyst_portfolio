{
 "cells": [
  {
   "cell_type": "markdown",
   "metadata": {},
   "source": [
    "# Анализ продаж компьютерных игр"
   ]
  },
  {
   "cell_type": "markdown",
   "metadata": {},
   "source": [
    "Вы работаете в интернет-магазине «Стримчик», который продаёт по всему миру компьютерные игры. Из открытых источников доступны исторические данные о продажах игр, оценки пользователей и экспертов, жанры и платформы (например, Xbox или PlayStation). Вам нужно выявить определяющие успешность игры закономерности. Это позволит сделать ставку на потенциально популярный продукт и спланировать рекламные кампании.\n",
    "\n",
    "Перед вами данные до 2016 года. Представим, что сейчас декабрь 2016 г., и вы планируете кампанию на 2017-й. Нужно отработать принцип работы с данными. Неважно, прогнозируете ли вы продажи на 2017 год по данным 2016-го или же 2027-й — по данным 2026 года.\n",
    "\n",
    "В наборе данных попадается аббревиатура ESRB (Entertainment Software Rating Board) — это ассоциация, определяющая возрастной рейтинг компьютерных игр. ESRB оценивает игровой контент и присваивает ему подходящую возрастную категорию, например, «Для взрослых», «Для детей младшего возраста» или «Для подростков»."
   ]
  },
  {
   "cell_type": "markdown",
   "metadata": {},
   "source": [
    "**Цель исследования:** выявить определяющие успешность игры закономерности для планирования рекламных кампаний."
   ]
  },
  {
   "cell_type": "markdown",
   "metadata": {},
   "source": [
    "**Вопросы заказчика:**\n",
    "\n",
    "1. Сколько игр выпускалось в разные годы?\n",
    "2. Какие самые популяные платформы по продажам (топ-5)? За какой характерный срок появляются новые и исчезают старые платформы? \n",
    "3. Какие платформы являются потенциально прибыльными?\n",
    "4. Как влияют на продажи внутри одной популярной платформы отзывы пользователей и критиков?\n",
    "5. Какие самые популярные (прибыльные) жанры (топ-5)? Выделяются ли жанры с высокими и низкими продажами?\n",
    "6. Какие самые популярные платформы (топ-5) в Северной Америке, Европе и Японии?\n",
    "7. Какие самые популярные жанры (топ-5) в Северной Америке, Европе и Японии?\n",
    "8. Влияет ли рейтинг ESRB на продажи в отдельном регионе?\n",
    "6. Явлвяются ли средние пользовательские рейтинги платформ Xbox One и PC одинаковыми?\n",
    "7. Явлвяются ли средние пользовательские рейтинги жанров Action и Sports  разными?"
   ]
  },
  {
   "cell_type": "markdown",
   "metadata": {},
   "source": [
    "**Исходные данные:** исторические данные о продажах игр, оценки пользователей и экспертов, жанры и платформы до 2016 года (данные за 2016 год могут быть неполными)."
   ]
  },
  {
   "cell_type": "markdown",
   "metadata": {},
   "source": [
    "<a id=\"doc\"></a>\n",
    "**Описание данных:**\n",
    "\n",
    "* **`Name`** — название игры;\n",
    "* **`Platform`** — платформа;\n",
    "* **`Year_of_Release`** — год выпуска;\n",
    "* **`Genre`** — жанр игры;\n",
    "* **`NA_sales`** — продажи в Северной Америке (миллионы проданных копий);\n",
    "* **`EU_sales`** — продажи в Европе (миллионы проданных копий);\n",
    "* **`JP_sales`** — продажи в Японии (миллионы проданных копий);\n",
    "* **`Other_sales`** — продажи в других странах (миллионы проданных копий);\n",
    "* **`Critic_Score`** — оценка критиков (максимум 100);\n",
    "* **`User_Score`** — оценка пользователей (максимум 10);\n",
    "* **`Rating`** — рейтинг от организации ESRB (англ. Entertainment Software Rating Board). Эта ассоциация определяет рейтинг компьютерных игр и присваивает им подходящую возрастную категорию."
   ]
  },
  {
   "cell_type": "markdown",
   "metadata": {},
   "source": [
    "## Шаг 1. Открытие файла с данными и изучение общей информации"
   ]
  },
  {
   "cell_type": "markdown",
   "metadata": {},
   "source": [
    "**(1) Импортируем библиотеки Pandas и NumPy, подключаем модуль модуль Pyplot из библиотеки Matplotlib и модуль Stats из библиотеки SciPy:**"
   ]
  },
  {
   "cell_type": "code",
   "execution_count": 1,
   "metadata": {},
   "outputs": [],
   "source": [
    "import pandas as pd\n",
    "import numpy as np\n",
    "import matplotlib.pyplot as plt\n",
    "from scipy import stats as st"
   ]
  },
  {
   "cell_type": "markdown",
   "metadata": {},
   "source": [
    "**(2) Cбрасываем ограничение на число выводимых столбцов таблицы:**"
   ]
  },
  {
   "cell_type": "code",
   "execution_count": 2,
   "metadata": {},
   "outputs": [],
   "source": [
    "pd.set_option('display.max_columns', None)"
   ]
  },
  {
   "cell_type": "markdown",
   "metadata": {
    "tags": []
   },
   "source": [
    "**(3) Импортируем файл CSV-формата в датафрейм:**"
   ]
  },
  {
   "cell_type": "code",
   "execution_count": 3,
   "metadata": {},
   "outputs": [],
   "source": [
    "try:\n",
    "    data_games = pd.read_csv('other/documents/games.csv', sep=',')\n",
    "except:\n",
    "    data_games = pd.read_csv('/datasets/games.csv', sep=',')"
   ]
  },
  {
   "cell_type": "markdown",
   "metadata": {},
   "source": [
    "**(4) Выведем первые строки таблицы:**"
   ]
  },
  {
   "cell_type": "code",
   "execution_count": 4,
   "metadata": {},
   "outputs": [
    {
     "data": {
      "text/html": [
       "<div>\n",
       "<style scoped>\n",
       "    .dataframe tbody tr th:only-of-type {\n",
       "        vertical-align: middle;\n",
       "    }\n",
       "\n",
       "    .dataframe tbody tr th {\n",
       "        vertical-align: top;\n",
       "    }\n",
       "\n",
       "    .dataframe thead th {\n",
       "        text-align: right;\n",
       "    }\n",
       "</style>\n",
       "<table border=\"1\" class=\"dataframe\">\n",
       "  <thead>\n",
       "    <tr style=\"text-align: right;\">\n",
       "      <th></th>\n",
       "      <th>Name</th>\n",
       "      <th>Platform</th>\n",
       "      <th>Year_of_Release</th>\n",
       "      <th>Genre</th>\n",
       "      <th>NA_sales</th>\n",
       "      <th>EU_sales</th>\n",
       "      <th>JP_sales</th>\n",
       "      <th>Other_sales</th>\n",
       "      <th>Critic_Score</th>\n",
       "      <th>User_Score</th>\n",
       "      <th>Rating</th>\n",
       "    </tr>\n",
       "  </thead>\n",
       "  <tbody>\n",
       "    <tr>\n",
       "      <th>0</th>\n",
       "      <td>Wii Sports</td>\n",
       "      <td>Wii</td>\n",
       "      <td>2006.0</td>\n",
       "      <td>Sports</td>\n",
       "      <td>41.36</td>\n",
       "      <td>28.96</td>\n",
       "      <td>3.77</td>\n",
       "      <td>8.45</td>\n",
       "      <td>76.0</td>\n",
       "      <td>8</td>\n",
       "      <td>E</td>\n",
       "    </tr>\n",
       "    <tr>\n",
       "      <th>1</th>\n",
       "      <td>Super Mario Bros.</td>\n",
       "      <td>NES</td>\n",
       "      <td>1985.0</td>\n",
       "      <td>Platform</td>\n",
       "      <td>29.08</td>\n",
       "      <td>3.58</td>\n",
       "      <td>6.81</td>\n",
       "      <td>0.77</td>\n",
       "      <td>NaN</td>\n",
       "      <td>NaN</td>\n",
       "      <td>NaN</td>\n",
       "    </tr>\n",
       "    <tr>\n",
       "      <th>2</th>\n",
       "      <td>Mario Kart Wii</td>\n",
       "      <td>Wii</td>\n",
       "      <td>2008.0</td>\n",
       "      <td>Racing</td>\n",
       "      <td>15.68</td>\n",
       "      <td>12.76</td>\n",
       "      <td>3.79</td>\n",
       "      <td>3.29</td>\n",
       "      <td>82.0</td>\n",
       "      <td>8.3</td>\n",
       "      <td>E</td>\n",
       "    </tr>\n",
       "    <tr>\n",
       "      <th>3</th>\n",
       "      <td>Wii Sports Resort</td>\n",
       "      <td>Wii</td>\n",
       "      <td>2009.0</td>\n",
       "      <td>Sports</td>\n",
       "      <td>15.61</td>\n",
       "      <td>10.93</td>\n",
       "      <td>3.28</td>\n",
       "      <td>2.95</td>\n",
       "      <td>80.0</td>\n",
       "      <td>8</td>\n",
       "      <td>E</td>\n",
       "    </tr>\n",
       "    <tr>\n",
       "      <th>4</th>\n",
       "      <td>Pokemon Red/Pokemon Blue</td>\n",
       "      <td>GB</td>\n",
       "      <td>1996.0</td>\n",
       "      <td>Role-Playing</td>\n",
       "      <td>11.27</td>\n",
       "      <td>8.89</td>\n",
       "      <td>10.22</td>\n",
       "      <td>1.00</td>\n",
       "      <td>NaN</td>\n",
       "      <td>NaN</td>\n",
       "      <td>NaN</td>\n",
       "    </tr>\n",
       "  </tbody>\n",
       "</table>\n",
       "</div>"
      ],
      "text/plain": [
       "                       Name Platform  Year_of_Release         Genre  NA_sales  \\\n",
       "0                Wii Sports      Wii           2006.0        Sports     41.36   \n",
       "1         Super Mario Bros.      NES           1985.0      Platform     29.08   \n",
       "2            Mario Kart Wii      Wii           2008.0        Racing     15.68   \n",
       "3         Wii Sports Resort      Wii           2009.0        Sports     15.61   \n",
       "4  Pokemon Red/Pokemon Blue       GB           1996.0  Role-Playing     11.27   \n",
       "\n",
       "   EU_sales  JP_sales  Other_sales  Critic_Score User_Score Rating  \n",
       "0     28.96      3.77         8.45          76.0          8      E  \n",
       "1      3.58      6.81         0.77           NaN        NaN    NaN  \n",
       "2     12.76      3.79         3.29          82.0        8.3      E  \n",
       "3     10.93      3.28         2.95          80.0          8      E  \n",
       "4      8.89     10.22         1.00           NaN        NaN    NaN  "
      ]
     },
     "execution_count": 4,
     "metadata": {},
     "output_type": "execute_result"
    }
   ],
   "source": [
    "data_games.head()"
   ]
  },
  {
   "cell_type": "markdown",
   "metadata": {},
   "source": [
    "---\n",
    "**(5) Выведем сводную информацию по всему датасету:** <a id=\"datainfo\"></a>"
   ]
  },
  {
   "cell_type": "code",
   "execution_count": 5,
   "metadata": {
    "tags": []
   },
   "outputs": [
    {
     "name": "stdout",
     "output_type": "stream",
     "text": [
      "<class 'pandas.core.frame.DataFrame'>\n",
      "RangeIndex: 16715 entries, 0 to 16714\n",
      "Data columns (total 11 columns):\n",
      " #   Column           Non-Null Count  Dtype  \n",
      "---  ------           --------------  -----  \n",
      " 0   Name             16713 non-null  object \n",
      " 1   Platform         16715 non-null  object \n",
      " 2   Year_of_Release  16446 non-null  float64\n",
      " 3   Genre            16713 non-null  object \n",
      " 4   NA_sales         16715 non-null  float64\n",
      " 5   EU_sales         16715 non-null  float64\n",
      " 6   JP_sales         16715 non-null  float64\n",
      " 7   Other_sales      16715 non-null  float64\n",
      " 8   Critic_Score     8137 non-null   float64\n",
      " 9   User_Score       10014 non-null  object \n",
      " 10  Rating           9949 non-null   object \n",
      "dtypes: float64(6), object(5)\n",
      "memory usage: 1.4+ MB\n",
      "\n",
      "Всего строк: 16715\n",
      "Всего столбцов: 11\n",
      "\n",
      "Количество явных дубликатов: 0\n"
     ]
    }
   ],
   "source": [
    "data_games.info()\n",
    "\n",
    "print('\\nВсего строк:', data_games.shape[0])\n",
    "print('Всего столбцов:', data_games.shape[1])\n",
    "\n",
    "print('\\nКоличество явных дубликатов:', data_games.duplicated().sum())"
   ]
  },
  {
   "cell_type": "markdown",
   "metadata": {},
   "source": [
    "---\n",
    "**(6) Выведем информацию по количеству пропущенных значений в каждом столбце:** <a id=\"isna\"></a>"
   ]
  },
  {
   "cell_type": "code",
   "execution_count": 6,
   "metadata": {},
   "outputs": [
    {
     "name": "stdout",
     "output_type": "stream",
     "text": [
      "Name                  2\n",
      "Platform              0\n",
      "Year_of_Release     269\n",
      "Genre                 2\n",
      "NA_sales              0\n",
      "EU_sales              0\n",
      "JP_sales              0\n",
      "Other_sales           0\n",
      "Critic_Score       8578\n",
      "User_Score         6701\n",
      "Rating             6766\n",
      "dtype: int64\n",
      "\n",
      "Количество столбцов с пропущенными значениями: 6\n"
     ]
    }
   ],
   "source": [
    "print(data_games.isna().sum())\n",
    "\n",
    "total_isna = []\n",
    "for value in data_games.isna().sum():\n",
    "    if value != 0:\n",
    "        total_isna.append(value)\n",
    "\n",
    "print('\\nКоличество столбцов с пропущенными значениями:', len(total_isna))"
   ]
  },
  {
   "cell_type": "code",
   "execution_count": 7,
   "metadata": {},
   "outputs": [
    {
     "data": {
      "text/html": [
       "<div>\n",
       "<style scoped>\n",
       "    .dataframe tbody tr th:only-of-type {\n",
       "        vertical-align: middle;\n",
       "    }\n",
       "\n",
       "    .dataframe tbody tr th {\n",
       "        vertical-align: top;\n",
       "    }\n",
       "\n",
       "    .dataframe thead th {\n",
       "        text-align: right;\n",
       "    }\n",
       "</style>\n",
       "<table border=\"1\" class=\"dataframe\">\n",
       "  <thead>\n",
       "    <tr style=\"text-align: right;\">\n",
       "      <th></th>\n",
       "      <th>Name</th>\n",
       "      <th>Platform</th>\n",
       "      <th>Year_of_Release</th>\n",
       "      <th>Genre</th>\n",
       "      <th>NA_sales</th>\n",
       "      <th>EU_sales</th>\n",
       "      <th>JP_sales</th>\n",
       "      <th>Other_sales</th>\n",
       "      <th>Critic_Score</th>\n",
       "      <th>User_Score</th>\n",
       "      <th>Rating</th>\n",
       "    </tr>\n",
       "  </thead>\n",
       "  <tbody>\n",
       "    <tr>\n",
       "      <th>659</th>\n",
       "      <td>NaN</td>\n",
       "      <td>GEN</td>\n",
       "      <td>1993.0</td>\n",
       "      <td>NaN</td>\n",
       "      <td>1.78</td>\n",
       "      <td>0.53</td>\n",
       "      <td>0.00</td>\n",
       "      <td>0.08</td>\n",
       "      <td>NaN</td>\n",
       "      <td>NaN</td>\n",
       "      <td>NaN</td>\n",
       "    </tr>\n",
       "    <tr>\n",
       "      <th>14244</th>\n",
       "      <td>NaN</td>\n",
       "      <td>GEN</td>\n",
       "      <td>1993.0</td>\n",
       "      <td>NaN</td>\n",
       "      <td>0.00</td>\n",
       "      <td>0.00</td>\n",
       "      <td>0.03</td>\n",
       "      <td>0.00</td>\n",
       "      <td>NaN</td>\n",
       "      <td>NaN</td>\n",
       "      <td>NaN</td>\n",
       "    </tr>\n",
       "  </tbody>\n",
       "</table>\n",
       "</div>"
      ],
      "text/plain": [
       "      Name Platform  Year_of_Release Genre  NA_sales  EU_sales  JP_sales  \\\n",
       "659    NaN      GEN           1993.0   NaN      1.78      0.53      0.00   \n",
       "14244  NaN      GEN           1993.0   NaN      0.00      0.00      0.03   \n",
       "\n",
       "       Other_sales  Critic_Score User_Score Rating  \n",
       "659           0.08           NaN        NaN    NaN  \n",
       "14244         0.00           NaN        NaN    NaN  "
      ]
     },
     "execution_count": 7,
     "metadata": {},
     "output_type": "execute_result"
    }
   ],
   "source": [
    "check_one_isna = data_games[data_games['Name'].isna() == True]\n",
    "check_one_isna"
   ]
  },
  {
   "cell_type": "code",
   "execution_count": 8,
   "metadata": {},
   "outputs": [
    {
     "data": {
      "text/html": [
       "<div>\n",
       "<style scoped>\n",
       "    .dataframe tbody tr th:only-of-type {\n",
       "        vertical-align: middle;\n",
       "    }\n",
       "\n",
       "    .dataframe tbody tr th {\n",
       "        vertical-align: top;\n",
       "    }\n",
       "\n",
       "    .dataframe thead th {\n",
       "        text-align: right;\n",
       "    }\n",
       "</style>\n",
       "<table border=\"1\" class=\"dataframe\">\n",
       "  <thead>\n",
       "    <tr style=\"text-align: right;\">\n",
       "      <th></th>\n",
       "      <th>Name</th>\n",
       "      <th>Platform</th>\n",
       "      <th>Year_of_Release</th>\n",
       "      <th>Genre</th>\n",
       "      <th>NA_sales</th>\n",
       "      <th>EU_sales</th>\n",
       "      <th>JP_sales</th>\n",
       "      <th>Other_sales</th>\n",
       "      <th>Critic_Score</th>\n",
       "      <th>User_Score</th>\n",
       "      <th>Rating</th>\n",
       "    </tr>\n",
       "  </thead>\n",
       "  <tbody>\n",
       "    <tr>\n",
       "      <th>183</th>\n",
       "      <td>Madden NFL 2004</td>\n",
       "      <td>PS2</td>\n",
       "      <td>NaN</td>\n",
       "      <td>Sports</td>\n",
       "      <td>4.26</td>\n",
       "      <td>0.26</td>\n",
       "      <td>0.01</td>\n",
       "      <td>0.71</td>\n",
       "      <td>94.0</td>\n",
       "      <td>8.5</td>\n",
       "      <td>E</td>\n",
       "    </tr>\n",
       "    <tr>\n",
       "      <th>377</th>\n",
       "      <td>FIFA Soccer 2004</td>\n",
       "      <td>PS2</td>\n",
       "      <td>NaN</td>\n",
       "      <td>Sports</td>\n",
       "      <td>0.59</td>\n",
       "      <td>2.36</td>\n",
       "      <td>0.04</td>\n",
       "      <td>0.51</td>\n",
       "      <td>84.0</td>\n",
       "      <td>6.4</td>\n",
       "      <td>E</td>\n",
       "    </tr>\n",
       "    <tr>\n",
       "      <th>456</th>\n",
       "      <td>LEGO Batman: The Videogame</td>\n",
       "      <td>Wii</td>\n",
       "      <td>NaN</td>\n",
       "      <td>Action</td>\n",
       "      <td>1.80</td>\n",
       "      <td>0.97</td>\n",
       "      <td>0.00</td>\n",
       "      <td>0.29</td>\n",
       "      <td>74.0</td>\n",
       "      <td>7.9</td>\n",
       "      <td>E10+</td>\n",
       "    </tr>\n",
       "    <tr>\n",
       "      <th>475</th>\n",
       "      <td>wwe Smackdown vs. Raw 2006</td>\n",
       "      <td>PS2</td>\n",
       "      <td>NaN</td>\n",
       "      <td>Fighting</td>\n",
       "      <td>1.57</td>\n",
       "      <td>1.02</td>\n",
       "      <td>0.00</td>\n",
       "      <td>0.41</td>\n",
       "      <td>NaN</td>\n",
       "      <td>NaN</td>\n",
       "      <td>NaN</td>\n",
       "    </tr>\n",
       "    <tr>\n",
       "      <th>609</th>\n",
       "      <td>Space Invaders</td>\n",
       "      <td>2600</td>\n",
       "      <td>NaN</td>\n",
       "      <td>Shooter</td>\n",
       "      <td>2.36</td>\n",
       "      <td>0.14</td>\n",
       "      <td>0.00</td>\n",
       "      <td>0.03</td>\n",
       "      <td>NaN</td>\n",
       "      <td>NaN</td>\n",
       "      <td>NaN</td>\n",
       "    </tr>\n",
       "    <tr>\n",
       "      <th>...</th>\n",
       "      <td>...</td>\n",
       "      <td>...</td>\n",
       "      <td>...</td>\n",
       "      <td>...</td>\n",
       "      <td>...</td>\n",
       "      <td>...</td>\n",
       "      <td>...</td>\n",
       "      <td>...</td>\n",
       "      <td>...</td>\n",
       "      <td>...</td>\n",
       "      <td>...</td>\n",
       "    </tr>\n",
       "    <tr>\n",
       "      <th>16373</th>\n",
       "      <td>PDC World Championship Darts 2008</td>\n",
       "      <td>PSP</td>\n",
       "      <td>NaN</td>\n",
       "      <td>Sports</td>\n",
       "      <td>0.01</td>\n",
       "      <td>0.00</td>\n",
       "      <td>0.00</td>\n",
       "      <td>0.00</td>\n",
       "      <td>43.0</td>\n",
       "      <td>tbd</td>\n",
       "      <td>E10+</td>\n",
       "    </tr>\n",
       "    <tr>\n",
       "      <th>16405</th>\n",
       "      <td>Freaky Flyers</td>\n",
       "      <td>GC</td>\n",
       "      <td>NaN</td>\n",
       "      <td>Racing</td>\n",
       "      <td>0.01</td>\n",
       "      <td>0.00</td>\n",
       "      <td>0.00</td>\n",
       "      <td>0.00</td>\n",
       "      <td>69.0</td>\n",
       "      <td>6.5</td>\n",
       "      <td>T</td>\n",
       "    </tr>\n",
       "    <tr>\n",
       "      <th>16448</th>\n",
       "      <td>Inversion</td>\n",
       "      <td>PC</td>\n",
       "      <td>NaN</td>\n",
       "      <td>Shooter</td>\n",
       "      <td>0.01</td>\n",
       "      <td>0.00</td>\n",
       "      <td>0.00</td>\n",
       "      <td>0.00</td>\n",
       "      <td>59.0</td>\n",
       "      <td>6.7</td>\n",
       "      <td>M</td>\n",
       "    </tr>\n",
       "    <tr>\n",
       "      <th>16458</th>\n",
       "      <td>Hakuouki: Shinsengumi Kitan</td>\n",
       "      <td>PS3</td>\n",
       "      <td>NaN</td>\n",
       "      <td>Adventure</td>\n",
       "      <td>0.01</td>\n",
       "      <td>0.00</td>\n",
       "      <td>0.00</td>\n",
       "      <td>0.00</td>\n",
       "      <td>NaN</td>\n",
       "      <td>NaN</td>\n",
       "      <td>NaN</td>\n",
       "    </tr>\n",
       "    <tr>\n",
       "      <th>16522</th>\n",
       "      <td>Virtua Quest</td>\n",
       "      <td>GC</td>\n",
       "      <td>NaN</td>\n",
       "      <td>Role-Playing</td>\n",
       "      <td>0.01</td>\n",
       "      <td>0.00</td>\n",
       "      <td>0.00</td>\n",
       "      <td>0.00</td>\n",
       "      <td>55.0</td>\n",
       "      <td>5.5</td>\n",
       "      <td>T</td>\n",
       "    </tr>\n",
       "  </tbody>\n",
       "</table>\n",
       "<p>269 rows × 11 columns</p>\n",
       "</div>"
      ],
      "text/plain": [
       "                                    Name Platform  Year_of_Release  \\\n",
       "183                      Madden NFL 2004      PS2              NaN   \n",
       "377                     FIFA Soccer 2004      PS2              NaN   \n",
       "456           LEGO Batman: The Videogame      Wii              NaN   \n",
       "475           wwe Smackdown vs. Raw 2006      PS2              NaN   \n",
       "609                       Space Invaders     2600              NaN   \n",
       "...                                  ...      ...              ...   \n",
       "16373  PDC World Championship Darts 2008      PSP              NaN   \n",
       "16405                      Freaky Flyers       GC              NaN   \n",
       "16448                          Inversion       PC              NaN   \n",
       "16458        Hakuouki: Shinsengumi Kitan      PS3              NaN   \n",
       "16522                       Virtua Quest       GC              NaN   \n",
       "\n",
       "              Genre  NA_sales  EU_sales  JP_sales  Other_sales  Critic_Score  \\\n",
       "183          Sports      4.26      0.26      0.01         0.71          94.0   \n",
       "377          Sports      0.59      2.36      0.04         0.51          84.0   \n",
       "456          Action      1.80      0.97      0.00         0.29          74.0   \n",
       "475        Fighting      1.57      1.02      0.00         0.41           NaN   \n",
       "609         Shooter      2.36      0.14      0.00         0.03           NaN   \n",
       "...             ...       ...       ...       ...          ...           ...   \n",
       "16373        Sports      0.01      0.00      0.00         0.00          43.0   \n",
       "16405        Racing      0.01      0.00      0.00         0.00          69.0   \n",
       "16448       Shooter      0.01      0.00      0.00         0.00          59.0   \n",
       "16458     Adventure      0.01      0.00      0.00         0.00           NaN   \n",
       "16522  Role-Playing      0.01      0.00      0.00         0.00          55.0   \n",
       "\n",
       "      User_Score Rating  \n",
       "183          8.5      E  \n",
       "377          6.4      E  \n",
       "456          7.9   E10+  \n",
       "475          NaN    NaN  \n",
       "609          NaN    NaN  \n",
       "...          ...    ...  \n",
       "16373        tbd   E10+  \n",
       "16405        6.5      T  \n",
       "16448        6.7      M  \n",
       "16458        NaN    NaN  \n",
       "16522        5.5      T  \n",
       "\n",
       "[269 rows x 11 columns]"
      ]
     },
     "execution_count": 8,
     "metadata": {},
     "output_type": "execute_result"
    }
   ],
   "source": [
    "check_two_isna = data_games[data_games['Year_of_Release'].isna() == True]\n",
    "check_two_isna"
   ]
  },
  {
   "cell_type": "markdown",
   "metadata": {},
   "source": [
    "---\n",
    "**(7) Проверим список уникальных значений столбца `Platform` на наличие неявных дубликатов:**"
   ]
  },
  {
   "cell_type": "code",
   "execution_count": 9,
   "metadata": {},
   "outputs": [
    {
     "name": "stdout",
     "output_type": "stream",
     "text": [
      "Количество уникальных значений: 31\n",
      "\n",
      "2600\n",
      "3DO\n",
      "3DS\n",
      "DC\n",
      "DS\n",
      "GB\n",
      "GBA\n",
      "GC\n",
      "GEN\n",
      "GG\n",
      "N64\n",
      "NES\n",
      "NG\n",
      "PC\n",
      "PCFX\n",
      "PS\n",
      "PS2\n",
      "PS3\n",
      "PS4\n",
      "PSP\n",
      "PSV\n",
      "SAT\n",
      "SCD\n",
      "SNES\n",
      "TG16\n",
      "WS\n",
      "Wii\n",
      "WiiU\n",
      "X360\n",
      "XB\n",
      "XOne\n"
     ]
    }
   ],
   "source": [
    "print('Количество уникальных значений:', data_games['Platform'].nunique())\n",
    "\n",
    "print()\n",
    "\n",
    "platform_name_sorted = data_games.sort_values(by='Platform', ascending=True)\n",
    "platform_name_sorted = platform_name_sorted['Platform'].unique()\n",
    "\n",
    "for name in platform_name_sorted:\n",
    "    print(name)"
   ]
  },
  {
   "cell_type": "markdown",
   "metadata": {},
   "source": [
    "---\n",
    "**(8) Проверим список уникальных значений столбца `Genre` на наличие неявных дубликатов:**"
   ]
  },
  {
   "cell_type": "code",
   "execution_count": 10,
   "metadata": {},
   "outputs": [
    {
     "name": "stdout",
     "output_type": "stream",
     "text": [
      "Action\n",
      "Adventure\n",
      "Fighting\n",
      "Misc\n",
      "Platform\n",
      "Puzzle\n",
      "Racing\n",
      "Role-Playing\n",
      "Shooter\n",
      "Simulation\n",
      "Sports\n",
      "Strategy\n",
      "nan\n"
     ]
    }
   ],
   "source": [
    "genre_name_sorted = data_games.sort_values(by='Genre', ascending=True)\n",
    "genre_name_sorted = genre_name_sorted['Genre'].unique()\n",
    "\n",
    "for name in genre_name_sorted:\n",
    "    print(name)"
   ]
  },
  {
   "cell_type": "markdown",
   "metadata": {},
   "source": [
    "---\n",
    "**(9) Cгенерируем описательную статистику для числовых столбцов (на текущий момент) для проверки наличия аномальных значений (артефактов):**"
   ]
  },
  {
   "cell_type": "code",
   "execution_count": 11,
   "metadata": {},
   "outputs": [
    {
     "data": {
      "text/html": [
       "<div>\n",
       "<style scoped>\n",
       "    .dataframe tbody tr th:only-of-type {\n",
       "        vertical-align: middle;\n",
       "    }\n",
       "\n",
       "    .dataframe tbody tr th {\n",
       "        vertical-align: top;\n",
       "    }\n",
       "\n",
       "    .dataframe thead th {\n",
       "        text-align: right;\n",
       "    }\n",
       "</style>\n",
       "<table border=\"1\" class=\"dataframe\">\n",
       "  <thead>\n",
       "    <tr style=\"text-align: right;\">\n",
       "      <th></th>\n",
       "      <th>Year_of_Release</th>\n",
       "      <th>NA_sales</th>\n",
       "      <th>EU_sales</th>\n",
       "      <th>JP_sales</th>\n",
       "      <th>Other_sales</th>\n",
       "      <th>Critic_Score</th>\n",
       "    </tr>\n",
       "  </thead>\n",
       "  <tbody>\n",
       "    <tr>\n",
       "      <th>count</th>\n",
       "      <td>16446.000000</td>\n",
       "      <td>16715.000000</td>\n",
       "      <td>16715.000000</td>\n",
       "      <td>16715.000000</td>\n",
       "      <td>16715.000000</td>\n",
       "      <td>8137.000000</td>\n",
       "    </tr>\n",
       "    <tr>\n",
       "      <th>mean</th>\n",
       "      <td>2006.484616</td>\n",
       "      <td>0.263377</td>\n",
       "      <td>0.145060</td>\n",
       "      <td>0.077617</td>\n",
       "      <td>0.047342</td>\n",
       "      <td>68.967679</td>\n",
       "    </tr>\n",
       "    <tr>\n",
       "      <th>std</th>\n",
       "      <td>5.877050</td>\n",
       "      <td>0.813604</td>\n",
       "      <td>0.503339</td>\n",
       "      <td>0.308853</td>\n",
       "      <td>0.186731</td>\n",
       "      <td>13.938165</td>\n",
       "    </tr>\n",
       "    <tr>\n",
       "      <th>min</th>\n",
       "      <td>1980.000000</td>\n",
       "      <td>0.000000</td>\n",
       "      <td>0.000000</td>\n",
       "      <td>0.000000</td>\n",
       "      <td>0.000000</td>\n",
       "      <td>13.000000</td>\n",
       "    </tr>\n",
       "    <tr>\n",
       "      <th>25%</th>\n",
       "      <td>2003.000000</td>\n",
       "      <td>0.000000</td>\n",
       "      <td>0.000000</td>\n",
       "      <td>0.000000</td>\n",
       "      <td>0.000000</td>\n",
       "      <td>60.000000</td>\n",
       "    </tr>\n",
       "    <tr>\n",
       "      <th>50%</th>\n",
       "      <td>2007.000000</td>\n",
       "      <td>0.080000</td>\n",
       "      <td>0.020000</td>\n",
       "      <td>0.000000</td>\n",
       "      <td>0.010000</td>\n",
       "      <td>71.000000</td>\n",
       "    </tr>\n",
       "    <tr>\n",
       "      <th>75%</th>\n",
       "      <td>2010.000000</td>\n",
       "      <td>0.240000</td>\n",
       "      <td>0.110000</td>\n",
       "      <td>0.040000</td>\n",
       "      <td>0.030000</td>\n",
       "      <td>79.000000</td>\n",
       "    </tr>\n",
       "    <tr>\n",
       "      <th>max</th>\n",
       "      <td>2016.000000</td>\n",
       "      <td>41.360000</td>\n",
       "      <td>28.960000</td>\n",
       "      <td>10.220000</td>\n",
       "      <td>10.570000</td>\n",
       "      <td>98.000000</td>\n",
       "    </tr>\n",
       "  </tbody>\n",
       "</table>\n",
       "</div>"
      ],
      "text/plain": [
       "       Year_of_Release      NA_sales      EU_sales      JP_sales  \\\n",
       "count     16446.000000  16715.000000  16715.000000  16715.000000   \n",
       "mean       2006.484616      0.263377      0.145060      0.077617   \n",
       "std           5.877050      0.813604      0.503339      0.308853   \n",
       "min        1980.000000      0.000000      0.000000      0.000000   \n",
       "25%        2003.000000      0.000000      0.000000      0.000000   \n",
       "50%        2007.000000      0.080000      0.020000      0.000000   \n",
       "75%        2010.000000      0.240000      0.110000      0.040000   \n",
       "max        2016.000000     41.360000     28.960000     10.220000   \n",
       "\n",
       "        Other_sales  Critic_Score  \n",
       "count  16715.000000   8137.000000  \n",
       "mean       0.047342     68.967679  \n",
       "std        0.186731     13.938165  \n",
       "min        0.000000     13.000000  \n",
       "25%        0.000000     60.000000  \n",
       "50%        0.010000     71.000000  \n",
       "75%        0.030000     79.000000  \n",
       "max       10.570000     98.000000  "
      ]
     },
     "execution_count": 11,
     "metadata": {},
     "output_type": "execute_result"
    }
   ],
   "source": [
    "data_games.describe()"
   ]
  },
  {
   "cell_type": "markdown",
   "metadata": {},
   "source": [
    "---\n",
    "**(10) Проверим столбцы `User_Score` и `Rating` на наличие аномальных значений (артефактов):**"
   ]
  },
  {
   "cell_type": "code",
   "execution_count": 12,
   "metadata": {},
   "outputs": [
    {
     "data": {
      "text/plain": [
       "array(['8', nan, '8.3', '8.5', '6.6', '8.4', '8.6', '7.7', '6.3', '7.4',\n",
       "       '8.2', '9', '7.9', '8.1', '8.7', '7.1', '3.4', '5.3', '4.8', '3.2',\n",
       "       '8.9', '6.4', '7.8', '7.5', '2.6', '7.2', '9.2', '7', '7.3', '4.3',\n",
       "       '7.6', '5.7', '5', '9.1', '6.5', 'tbd', '8.8', '6.9', '9.4', '6.8',\n",
       "       '6.1', '6.7', '5.4', '4', '4.9', '4.5', '9.3', '6.2', '4.2', '6',\n",
       "       '3.7', '4.1', '5.8', '5.6', '5.5', '4.4', '4.6', '5.9', '3.9',\n",
       "       '3.1', '2.9', '5.2', '3.3', '4.7', '5.1', '3.5', '2.5', '1.9', '3',\n",
       "       '2.7', '2.2', '2', '9.5', '2.1', '3.6', '2.8', '1.8', '3.8', '0',\n",
       "       '1.6', '9.6', '2.4', '1.7', '1.1', '0.3', '1.5', '0.7', '1.2',\n",
       "       '2.3', '0.5', '1.3', '0.2', '0.6', '1.4', '0.9', '1', '9.7'],\n",
       "      dtype=object)"
      ]
     },
     "execution_count": 12,
     "metadata": {},
     "output_type": "execute_result"
    }
   ],
   "source": [
    "data_games['User_Score'].unique()"
   ]
  },
  {
   "cell_type": "code",
   "execution_count": 13,
   "metadata": {},
   "outputs": [
    {
     "data": {
      "text/plain": [
       "array(['E', nan, 'M', 'T', 'E10+', 'K-A', 'AO', 'EC', 'RP'], dtype=object)"
      ]
     },
     "execution_count": 13,
     "metadata": {},
     "output_type": "execute_result"
    }
   ],
   "source": [
    "data_games['Rating'].unique()"
   ]
  },
  {
   "cell_type": "markdown",
   "metadata": {},
   "source": [
    "---\n",
    "**(11) Узнаем, за какой период представлены данные в датафрейме:**"
   ]
  },
  {
   "cell_type": "code",
   "execution_count": 14,
   "metadata": {},
   "outputs": [
    {
     "name": "stdout",
     "output_type": "stream",
     "text": [
      "Данные представлены за 37 лет: c 1980 по 2016 гг.\n",
      "\n",
      "1980.0\n",
      "1981.0\n",
      "1982.0\n",
      "1983.0\n",
      "1984.0\n",
      "1985.0\n",
      "1986.0\n",
      "1987.0\n",
      "1988.0\n",
      "1989.0\n",
      "1990.0\n",
      "1991.0\n",
      "1992.0\n",
      "1993.0\n",
      "1994.0\n",
      "1995.0\n",
      "1996.0\n",
      "1997.0\n",
      "1998.0\n",
      "1999.0\n",
      "2000.0\n",
      "2001.0\n",
      "2002.0\n",
      "2003.0\n",
      "2004.0\n",
      "2005.0\n",
      "2006.0\n",
      "2007.0\n",
      "2008.0\n",
      "2009.0\n",
      "2010.0\n",
      "2011.0\n",
      "2012.0\n",
      "2013.0\n",
      "2014.0\n",
      "2015.0\n",
      "2016.0\n",
      "nan\n"
     ]
    }
   ],
   "source": [
    "print('Данные представлены за', data_games['Year_of_Release'].nunique(),\\\n",
    "      'лет: c', int(data_games['Year_of_Release'].min()), 'по', int(data_games['Year_of_Release'].max()), 'гг.')\n",
    "\n",
    "print()\n",
    "\n",
    "year_sorted = data_games.sort_values(by='Year_of_Release', ascending=True)\n",
    "year_sorted = year_sorted['Year_of_Release'].unique()\n",
    "\n",
    "for year in year_sorted:\n",
    "    print(year)"
   ]
  },
  {
   "cell_type": "markdown",
   "metadata": {},
   "source": [
    "<a id=\"first_results\"></a>\n",
    "### <u>**Результаты и выявленные проблемы первичного анализа данных**</u>"
   ]
  },
  {
   "cell_type": "markdown",
   "metadata": {},
   "source": [
    "1. Датафрейм состоит из **[16 715 строк](#datainfo)** и **[11 столбцов](#datainfo)** различных типов данных:\n",
    "\n",
    "     * **float** (вещественные числа) - 6 столбцов; \n",
    "     * **object** (текстовые или смешанные числовые и нечисловые значения) - 5 столбцов;"
   ]
  },
  {
   "cell_type": "markdown",
   "metadata": {},
   "source": [
    "2. Названия всех столбцов **содержат символы верхнего регистра**. Необходимо переименовать столбцы в соответствии со стилем \"змеиного регистра\".  "
   ]
  },
  {
   "cell_type": "markdown",
   "metadata": {},
   "source": [
    "3. Выявлено **[6 столбцов с пропущенными значениями](#isna)**: `Name`, `Year_of_release`, `Genre`, `Critic_Score`, `User_Score`, `Rating`, Обзор пропусков:\n",
    "\n",
    "   * `Name` - **2 пропуска** (вероятная причина пропусков: технический сбой или человечечский фактор, строки с пропусками можно исключить из анализа по причине их малого количества);\n",
    "    \n",
    "   ---\n",
    "   * `Year_of_release` - **269 пропусков** (вероятная причина пропусков: технический сбой или человеческий фактор, пропуски возможно заменить, если одна и та же игра выпускалась на разных платформах (т.е. есть несколько игр с одинаковым названием, но по сути эта игра одна), и есть информация о годе выпуска хотя бы одной из них. Необходим дополнительный анализ. В противном случае, пропуски будут оставлены.\n",
    "    \n",
    "    ---\n",
    "    * `Genre` - **2 пропуска** (вероятная причина пропусков: технический сбой или человеческий фактор (пропуски совпадают с пропусками из столбца `Name`), строки с пропусками можно исключить из анализа по причине их малого количества);\n",
    "    \n",
    "    ---\n",
    "    * `Critic_Score` - **8 578 пропусков** (пропуски могли возникнуть из-за ряда причин: игра не оценивалась критиками, т.к. она была непопулярной, критики не оценивали данную игру на конкртеной платформе, имел место человеческий фактор (невнесение данных) и т.д. Замена пропусков медианным значением или средним арифметическим не представляется возможным, т.к. существует высокая угроза искажения данных => строки можно оставить в текущем виде;\n",
    "    \n",
    "    ---\n",
    "    * `User_Score` - **6 701 пропуск** (пропуски могли возникнуть из-за ряда причин: игра не оценивалась пользователями, т.к. она была непопулярной, пользователи не оценивали данную игру на конкртеной платформе, имел место человеческий фактор (невнесение данных) и т.д. Замена пропусков медианным значением или средним арифметическим не представляется возможным, т.к. существует высокая угроза искажения данных => строки можно оставить в текущем виде;\n",
    "    \n",
    "    ---\n",
    "    * `Rating` - **6 766 пропусков** (поскольку рейтинг не измеряется числовыми значениями, то пропуски можно заполнить текстом \"no info\" (т.е. данные неизвестны или неопределены)."
   ]
  },
  {
   "cell_type": "markdown",
   "metadata": {},
   "source": [
    "4. Наблюдается **несоответствие типа данных столбцов описанию из [документации](#doc)**:\n",
    "\n",
    "    * `Year_of_release` - текущий тип данных **float** (вещественные числа) необходимо заменить на **int** (целые числа) *(**замена возможна только при заполнении всех пропусков**)*;\n",
    "    * `User_Score` - текущий тип данных **object** (текстовые или смешанные числовые и нечисловые значения) необходимо заменить на **float** (вещественные числа);"
   ]
  },
  {
   "cell_type": "markdown",
   "metadata": {},
   "source": [
    "5. **Явных дубликатов НЕ выявлено**;"
   ]
  },
  {
   "cell_type": "markdown",
   "metadata": {},
   "source": [
    "6. **Неявных дубликатов НЕ выявлено**;"
   ]
  },
  {
   "cell_type": "markdown",
   "metadata": {},
   "source": [
    "7. **Аномальные значения (артефакты) отсутствуют, НО** в столбце `User_Score` среди числовых значений **присутствует текст в виде аббревиатуры 'tbd'**;"
   ]
  },
  {
   "cell_type": "markdown",
   "metadata": {},
   "source": [
    "8. Данные в датафрейме представлены **за 37 лет: c 1980 по 2016 гг.**"
   ]
  },
  {
   "cell_type": "code",
   "execution_count": 15,
   "metadata": {},
   "outputs": [
    {
     "data": {
      "text/plain": [
       "16715"
      ]
     },
     "execution_count": 15,
     "metadata": {},
     "output_type": "execute_result"
    }
   ],
   "source": [
    "# зафиксируем размер датасета до начала предобработки\n",
    "\n",
    "size_games = data_games.shape[0]\n",
    "size_games"
   ]
  },
  {
   "cell_type": "markdown",
   "metadata": {},
   "source": [
    "## Шаг 2. Предобработка данных"
   ]
  },
  {
   "cell_type": "markdown",
   "metadata": {},
   "source": [
    "**(1) Приведём названия столбцов к \"змеиному (нижнему) регистру\":**"
   ]
  },
  {
   "cell_type": "code",
   "execution_count": 16,
   "metadata": {
    "scrolled": true
   },
   "outputs": [
    {
     "data": {
      "text/plain": [
       "Index(['name', 'platform', 'year_of_release', 'genre', 'na_sales', 'eu_sales',\n",
       "       'jp_sales', 'other_sales', 'critic_score', 'user_score', 'rating'],\n",
       "      dtype='object')"
      ]
     },
     "execution_count": 16,
     "metadata": {},
     "output_type": "execute_result"
    }
   ],
   "source": [
    "data_games.columns = data_games.columns.str.lower()\n",
    "data_games.columns"
   ]
  },
  {
   "cell_type": "markdown",
   "metadata": {},
   "source": [
    "---\n",
    "**(2) Удалим строки с пропущенными значениями в столбцах `name` и `genre`:**"
   ]
  },
  {
   "cell_type": "code",
   "execution_count": 17,
   "metadata": {},
   "outputs": [],
   "source": [
    "data_games.dropna(subset=['name'], inplace=True)\n",
    "data_games.dropna(subset=['genre'], inplace=True)"
   ]
  },
  {
   "cell_type": "markdown",
   "metadata": {},
   "source": [
    "---\n",
    "**(3) Обработаем пропуски в столбце `year_of_release`:**"
   ]
  },
  {
   "cell_type": "markdown",
   "metadata": {},
   "source": [
    "На примере двух игр (где есть пропуски) убедимся, что выпуск производился на разных платформах (и в строках с другими платформами указан год):"
   ]
  },
  {
   "cell_type": "code",
   "execution_count": 18,
   "metadata": {},
   "outputs": [
    {
     "data": {
      "text/html": [
       "<div>\n",
       "<style scoped>\n",
       "    .dataframe tbody tr th:only-of-type {\n",
       "        vertical-align: middle;\n",
       "    }\n",
       "\n",
       "    .dataframe tbody tr th {\n",
       "        vertical-align: top;\n",
       "    }\n",
       "\n",
       "    .dataframe thead th {\n",
       "        text-align: right;\n",
       "    }\n",
       "</style>\n",
       "<table border=\"1\" class=\"dataframe\">\n",
       "  <thead>\n",
       "    <tr style=\"text-align: right;\">\n",
       "      <th></th>\n",
       "      <th>name</th>\n",
       "      <th>platform</th>\n",
       "      <th>year_of_release</th>\n",
       "      <th>genre</th>\n",
       "      <th>na_sales</th>\n",
       "      <th>eu_sales</th>\n",
       "      <th>jp_sales</th>\n",
       "      <th>other_sales</th>\n",
       "      <th>critic_score</th>\n",
       "      <th>user_score</th>\n",
       "      <th>rating</th>\n",
       "    </tr>\n",
       "  </thead>\n",
       "  <tbody>\n",
       "    <tr>\n",
       "      <th>377</th>\n",
       "      <td>FIFA Soccer 2004</td>\n",
       "      <td>PS2</td>\n",
       "      <td>NaN</td>\n",
       "      <td>Sports</td>\n",
       "      <td>0.59</td>\n",
       "      <td>2.36</td>\n",
       "      <td>0.04</td>\n",
       "      <td>0.51</td>\n",
       "      <td>84.0</td>\n",
       "      <td>6.4</td>\n",
       "      <td>E</td>\n",
       "    </tr>\n",
       "    <tr>\n",
       "      <th>2606</th>\n",
       "      <td>FIFA Soccer 2004</td>\n",
       "      <td>XB</td>\n",
       "      <td>2003.0</td>\n",
       "      <td>Sports</td>\n",
       "      <td>0.24</td>\n",
       "      <td>0.49</td>\n",
       "      <td>0.00</td>\n",
       "      <td>0.05</td>\n",
       "      <td>82.0</td>\n",
       "      <td>8.2</td>\n",
       "      <td>E</td>\n",
       "    </tr>\n",
       "    <tr>\n",
       "      <th>12029</th>\n",
       "      <td>FIFA Soccer 2004</td>\n",
       "      <td>GC</td>\n",
       "      <td>2003.0</td>\n",
       "      <td>Sports</td>\n",
       "      <td>0.05</td>\n",
       "      <td>0.01</td>\n",
       "      <td>0.00</td>\n",
       "      <td>0.00</td>\n",
       "      <td>83.0</td>\n",
       "      <td>6.2</td>\n",
       "      <td>E</td>\n",
       "    </tr>\n",
       "    <tr>\n",
       "      <th>13086</th>\n",
       "      <td>FIFA Soccer 2004</td>\n",
       "      <td>GBA</td>\n",
       "      <td>2003.0</td>\n",
       "      <td>Sports</td>\n",
       "      <td>0.04</td>\n",
       "      <td>0.01</td>\n",
       "      <td>0.00</td>\n",
       "      <td>0.00</td>\n",
       "      <td>82.0</td>\n",
       "      <td>7.9</td>\n",
       "      <td>E</td>\n",
       "    </tr>\n",
       "  </tbody>\n",
       "</table>\n",
       "</div>"
      ],
      "text/plain": [
       "                   name platform  year_of_release   genre  na_sales  eu_sales  \\\n",
       "377    FIFA Soccer 2004      PS2              NaN  Sports      0.59      2.36   \n",
       "2606   FIFA Soccer 2004       XB           2003.0  Sports      0.24      0.49   \n",
       "12029  FIFA Soccer 2004       GC           2003.0  Sports      0.05      0.01   \n",
       "13086  FIFA Soccer 2004      GBA           2003.0  Sports      0.04      0.01   \n",
       "\n",
       "       jp_sales  other_sales  critic_score user_score rating  \n",
       "377        0.04         0.51          84.0        6.4      E  \n",
       "2606       0.00         0.05          82.0        8.2      E  \n",
       "12029      0.00         0.00          83.0        6.2      E  \n",
       "13086      0.00         0.00          82.0        7.9      E  "
      ]
     },
     "execution_count": 18,
     "metadata": {},
     "output_type": "execute_result"
    }
   ],
   "source": [
    "check_one_game = data_games[data_games['name'] == 'FIFA Soccer 2004']\n",
    "check_one_game"
   ]
  },
  {
   "cell_type": "markdown",
   "metadata": {},
   "source": [
    "*=> игра была выпущена в 2003 году*"
   ]
  },
  {
   "cell_type": "code",
   "execution_count": 19,
   "metadata": {},
   "outputs": [
    {
     "data": {
      "text/html": [
       "<div>\n",
       "<style scoped>\n",
       "    .dataframe tbody tr th:only-of-type {\n",
       "        vertical-align: middle;\n",
       "    }\n",
       "\n",
       "    .dataframe tbody tr th {\n",
       "        vertical-align: top;\n",
       "    }\n",
       "\n",
       "    .dataframe thead th {\n",
       "        text-align: right;\n",
       "    }\n",
       "</style>\n",
       "<table border=\"1\" class=\"dataframe\">\n",
       "  <thead>\n",
       "    <tr style=\"text-align: right;\">\n",
       "      <th></th>\n",
       "      <th>name</th>\n",
       "      <th>platform</th>\n",
       "      <th>year_of_release</th>\n",
       "      <th>genre</th>\n",
       "      <th>na_sales</th>\n",
       "      <th>eu_sales</th>\n",
       "      <th>jp_sales</th>\n",
       "      <th>other_sales</th>\n",
       "      <th>critic_score</th>\n",
       "      <th>user_score</th>\n",
       "      <th>rating</th>\n",
       "    </tr>\n",
       "  </thead>\n",
       "  <tbody>\n",
       "    <tr>\n",
       "      <th>6917</th>\n",
       "      <td>PDC World Championship Darts 2008</td>\n",
       "      <td>Wii</td>\n",
       "      <td>2008.0</td>\n",
       "      <td>Sports</td>\n",
       "      <td>0.02</td>\n",
       "      <td>0.21</td>\n",
       "      <td>0.0</td>\n",
       "      <td>0.01</td>\n",
       "      <td>51.0</td>\n",
       "      <td>5.4</td>\n",
       "      <td>E10+</td>\n",
       "    </tr>\n",
       "    <tr>\n",
       "      <th>15953</th>\n",
       "      <td>PDC World Championship Darts 2008</td>\n",
       "      <td>DS</td>\n",
       "      <td>NaN</td>\n",
       "      <td>Sports</td>\n",
       "      <td>0.01</td>\n",
       "      <td>0.00</td>\n",
       "      <td>0.0</td>\n",
       "      <td>0.00</td>\n",
       "      <td>NaN</td>\n",
       "      <td>NaN</td>\n",
       "      <td>NaN</td>\n",
       "    </tr>\n",
       "    <tr>\n",
       "      <th>16373</th>\n",
       "      <td>PDC World Championship Darts 2008</td>\n",
       "      <td>PSP</td>\n",
       "      <td>NaN</td>\n",
       "      <td>Sports</td>\n",
       "      <td>0.01</td>\n",
       "      <td>0.00</td>\n",
       "      <td>0.0</td>\n",
       "      <td>0.00</td>\n",
       "      <td>43.0</td>\n",
       "      <td>tbd</td>\n",
       "      <td>E10+</td>\n",
       "    </tr>\n",
       "  </tbody>\n",
       "</table>\n",
       "</div>"
      ],
      "text/plain": [
       "                                    name platform  year_of_release   genre  \\\n",
       "6917   PDC World Championship Darts 2008      Wii           2008.0  Sports   \n",
       "15953  PDC World Championship Darts 2008       DS              NaN  Sports   \n",
       "16373  PDC World Championship Darts 2008      PSP              NaN  Sports   \n",
       "\n",
       "       na_sales  eu_sales  jp_sales  other_sales  critic_score user_score  \\\n",
       "6917       0.02      0.21       0.0         0.01          51.0        5.4   \n",
       "15953      0.01      0.00       0.0         0.00           NaN        NaN   \n",
       "16373      0.01      0.00       0.0         0.00          43.0        tbd   \n",
       "\n",
       "      rating  \n",
       "6917    E10+  \n",
       "15953    NaN  \n",
       "16373   E10+  "
      ]
     },
     "execution_count": 19,
     "metadata": {},
     "output_type": "execute_result"
    }
   ],
   "source": [
    "check_two_game = data_games[data_games['name'] == 'PDC World Championship Darts 2008']\n",
    "check_two_game"
   ]
  },
  {
   "cell_type": "markdown",
   "metadata": {},
   "source": [
    "*=> игра была выпущена в 2008 году*"
   ]
  },
  {
   "cell_type": "markdown",
   "metadata": {},
   "source": [
    "Теперь заполним пропуски на те года, которые стоят напротив одной и той же игры, выпущенной на разных платформах:"
   ]
  },
  {
   "cell_type": "code",
   "execution_count": 20,
   "metadata": {},
   "outputs": [],
   "source": [
    "data_games.loc[data_games['year_of_release'].isna(), 'year_of_release'] = \\\n",
    "data_games.loc[data_games['year_of_release'].isna(), 'name'].map(data_games.groupby('name')['year_of_release'].max())"
   ]
  },
  {
   "cell_type": "markdown",
   "metadata": {},
   "source": [
    "Проверим, как изменились данные:"
   ]
  },
  {
   "cell_type": "code",
   "execution_count": 21,
   "metadata": {},
   "outputs": [
    {
     "data": {
      "text/html": [
       "<div>\n",
       "<style scoped>\n",
       "    .dataframe tbody tr th:only-of-type {\n",
       "        vertical-align: middle;\n",
       "    }\n",
       "\n",
       "    .dataframe tbody tr th {\n",
       "        vertical-align: top;\n",
       "    }\n",
       "\n",
       "    .dataframe thead th {\n",
       "        text-align: right;\n",
       "    }\n",
       "</style>\n",
       "<table border=\"1\" class=\"dataframe\">\n",
       "  <thead>\n",
       "    <tr style=\"text-align: right;\">\n",
       "      <th></th>\n",
       "      <th>name</th>\n",
       "      <th>platform</th>\n",
       "      <th>year_of_release</th>\n",
       "      <th>genre</th>\n",
       "      <th>na_sales</th>\n",
       "      <th>eu_sales</th>\n",
       "      <th>jp_sales</th>\n",
       "      <th>other_sales</th>\n",
       "      <th>critic_score</th>\n",
       "      <th>user_score</th>\n",
       "      <th>rating</th>\n",
       "    </tr>\n",
       "  </thead>\n",
       "  <tbody>\n",
       "    <tr>\n",
       "      <th>377</th>\n",
       "      <td>FIFA Soccer 2004</td>\n",
       "      <td>PS2</td>\n",
       "      <td>2003.0</td>\n",
       "      <td>Sports</td>\n",
       "      <td>0.59</td>\n",
       "      <td>2.36</td>\n",
       "      <td>0.04</td>\n",
       "      <td>0.51</td>\n",
       "      <td>84.0</td>\n",
       "      <td>6.4</td>\n",
       "      <td>E</td>\n",
       "    </tr>\n",
       "    <tr>\n",
       "      <th>2606</th>\n",
       "      <td>FIFA Soccer 2004</td>\n",
       "      <td>XB</td>\n",
       "      <td>2003.0</td>\n",
       "      <td>Sports</td>\n",
       "      <td>0.24</td>\n",
       "      <td>0.49</td>\n",
       "      <td>0.00</td>\n",
       "      <td>0.05</td>\n",
       "      <td>82.0</td>\n",
       "      <td>8.2</td>\n",
       "      <td>E</td>\n",
       "    </tr>\n",
       "    <tr>\n",
       "      <th>12029</th>\n",
       "      <td>FIFA Soccer 2004</td>\n",
       "      <td>GC</td>\n",
       "      <td>2003.0</td>\n",
       "      <td>Sports</td>\n",
       "      <td>0.05</td>\n",
       "      <td>0.01</td>\n",
       "      <td>0.00</td>\n",
       "      <td>0.00</td>\n",
       "      <td>83.0</td>\n",
       "      <td>6.2</td>\n",
       "      <td>E</td>\n",
       "    </tr>\n",
       "    <tr>\n",
       "      <th>13086</th>\n",
       "      <td>FIFA Soccer 2004</td>\n",
       "      <td>GBA</td>\n",
       "      <td>2003.0</td>\n",
       "      <td>Sports</td>\n",
       "      <td>0.04</td>\n",
       "      <td>0.01</td>\n",
       "      <td>0.00</td>\n",
       "      <td>0.00</td>\n",
       "      <td>82.0</td>\n",
       "      <td>7.9</td>\n",
       "      <td>E</td>\n",
       "    </tr>\n",
       "  </tbody>\n",
       "</table>\n",
       "</div>"
      ],
      "text/plain": [
       "                   name platform  year_of_release   genre  na_sales  eu_sales  \\\n",
       "377    FIFA Soccer 2004      PS2           2003.0  Sports      0.59      2.36   \n",
       "2606   FIFA Soccer 2004       XB           2003.0  Sports      0.24      0.49   \n",
       "12029  FIFA Soccer 2004       GC           2003.0  Sports      0.05      0.01   \n",
       "13086  FIFA Soccer 2004      GBA           2003.0  Sports      0.04      0.01   \n",
       "\n",
       "       jp_sales  other_sales  critic_score user_score rating  \n",
       "377        0.04         0.51          84.0        6.4      E  \n",
       "2606       0.00         0.05          82.0        8.2      E  \n",
       "12029      0.00         0.00          83.0        6.2      E  \n",
       "13086      0.00         0.00          82.0        7.9      E  "
      ]
     },
     "execution_count": 21,
     "metadata": {},
     "output_type": "execute_result"
    }
   ],
   "source": [
    "check_three_game = data_games[data_games['name'] == 'FIFA Soccer 2004']\n",
    "check_three_game"
   ]
  },
  {
   "cell_type": "code",
   "execution_count": 22,
   "metadata": {},
   "outputs": [
    {
     "data": {
      "text/html": [
       "<div>\n",
       "<style scoped>\n",
       "    .dataframe tbody tr th:only-of-type {\n",
       "        vertical-align: middle;\n",
       "    }\n",
       "\n",
       "    .dataframe tbody tr th {\n",
       "        vertical-align: top;\n",
       "    }\n",
       "\n",
       "    .dataframe thead th {\n",
       "        text-align: right;\n",
       "    }\n",
       "</style>\n",
       "<table border=\"1\" class=\"dataframe\">\n",
       "  <thead>\n",
       "    <tr style=\"text-align: right;\">\n",
       "      <th></th>\n",
       "      <th>name</th>\n",
       "      <th>platform</th>\n",
       "      <th>year_of_release</th>\n",
       "      <th>genre</th>\n",
       "      <th>na_sales</th>\n",
       "      <th>eu_sales</th>\n",
       "      <th>jp_sales</th>\n",
       "      <th>other_sales</th>\n",
       "      <th>critic_score</th>\n",
       "      <th>user_score</th>\n",
       "      <th>rating</th>\n",
       "    </tr>\n",
       "  </thead>\n",
       "  <tbody>\n",
       "    <tr>\n",
       "      <th>6917</th>\n",
       "      <td>PDC World Championship Darts 2008</td>\n",
       "      <td>Wii</td>\n",
       "      <td>2008.0</td>\n",
       "      <td>Sports</td>\n",
       "      <td>0.02</td>\n",
       "      <td>0.21</td>\n",
       "      <td>0.0</td>\n",
       "      <td>0.01</td>\n",
       "      <td>51.0</td>\n",
       "      <td>5.4</td>\n",
       "      <td>E10+</td>\n",
       "    </tr>\n",
       "    <tr>\n",
       "      <th>15953</th>\n",
       "      <td>PDC World Championship Darts 2008</td>\n",
       "      <td>DS</td>\n",
       "      <td>2008.0</td>\n",
       "      <td>Sports</td>\n",
       "      <td>0.01</td>\n",
       "      <td>0.00</td>\n",
       "      <td>0.0</td>\n",
       "      <td>0.00</td>\n",
       "      <td>NaN</td>\n",
       "      <td>NaN</td>\n",
       "      <td>NaN</td>\n",
       "    </tr>\n",
       "    <tr>\n",
       "      <th>16373</th>\n",
       "      <td>PDC World Championship Darts 2008</td>\n",
       "      <td>PSP</td>\n",
       "      <td>2008.0</td>\n",
       "      <td>Sports</td>\n",
       "      <td>0.01</td>\n",
       "      <td>0.00</td>\n",
       "      <td>0.0</td>\n",
       "      <td>0.00</td>\n",
       "      <td>43.0</td>\n",
       "      <td>tbd</td>\n",
       "      <td>E10+</td>\n",
       "    </tr>\n",
       "  </tbody>\n",
       "</table>\n",
       "</div>"
      ],
      "text/plain": [
       "                                    name platform  year_of_release   genre  \\\n",
       "6917   PDC World Championship Darts 2008      Wii           2008.0  Sports   \n",
       "15953  PDC World Championship Darts 2008       DS           2008.0  Sports   \n",
       "16373  PDC World Championship Darts 2008      PSP           2008.0  Sports   \n",
       "\n",
       "       na_sales  eu_sales  jp_sales  other_sales  critic_score user_score  \\\n",
       "6917       0.02      0.21       0.0         0.01          51.0        5.4   \n",
       "15953      0.01      0.00       0.0         0.00           NaN        NaN   \n",
       "16373      0.01      0.00       0.0         0.00          43.0        tbd   \n",
       "\n",
       "      rating  \n",
       "6917    E10+  \n",
       "15953    NaN  \n",
       "16373   E10+  "
      ]
     },
     "execution_count": 22,
     "metadata": {},
     "output_type": "execute_result"
    }
   ],
   "source": [
    "check_four_game = data_games[data_games['name'] == 'PDC World Championship Darts 2008']\n",
    "check_four_game"
   ]
  },
  {
   "cell_type": "code",
   "execution_count": 23,
   "metadata": {},
   "outputs": [
    {
     "data": {
      "text/plain": [
       "146"
      ]
     },
     "execution_count": 23,
     "metadata": {},
     "output_type": "execute_result"
    }
   ],
   "source": [
    "data_games['year_of_release'].isna().sum()"
   ]
  },
  {
   "cell_type": "markdown",
   "metadata": {},
   "source": [
    "Осталось 146 пропусков => <u>изменение типа данных столбца невозможно</u>"
   ]
  },
  {
   "cell_type": "markdown",
   "metadata": {},
   "source": [
    "---\n",
    "**(4) Обработаем пропуски в столбце `rating`:**"
   ]
  },
  {
   "cell_type": "code",
   "execution_count": 24,
   "metadata": {},
   "outputs": [],
   "source": [
    "data_games['rating'] = data_games['rating'].fillna('no info') "
   ]
  },
  {
   "cell_type": "markdown",
   "metadata": {},
   "source": [
    "---\n",
    "**(5) Изменим тип данных столбцов `user_score` (изменение типа данных столбца `year_of_release` неосуществимо из-за наличия пропусков):**"
   ]
  },
  {
   "cell_type": "markdown",
   "metadata": {},
   "source": [
    "Перед тем, как изменять тип данных, необходимо устранить текст в виде аббревиатуры **'tbd'**."
   ]
  },
  {
   "cell_type": "markdown",
   "metadata": {},
   "source": [
    "<u>TBD</u> — это аббревиатура, которая обозначает «To Be Determined». Это выражение используется в различных областях и означает, что некоторые детали еще не известны или не определены."
   ]
  },
  {
   "cell_type": "markdown",
   "metadata": {},
   "source": [
    "Строки, содержащие данную аббревиатуру, **можно заменить на пропуски (Nan)**:"
   ]
  },
  {
   "cell_type": "code",
   "execution_count": 25,
   "metadata": {},
   "outputs": [],
   "source": [
    "data_games['user_score'] = data_games['user_score'].replace('tbd', np.nan, regex=True)"
   ]
  },
  {
   "cell_type": "markdown",
   "metadata": {},
   "source": [
    "Теперь изменим тип данных:"
   ]
  },
  {
   "cell_type": "code",
   "execution_count": 26,
   "metadata": {
    "tags": []
   },
   "outputs": [],
   "source": [
    "data_games['user_score'] = data_games['user_score'].astype('float64')"
   ]
  },
  {
   "cell_type": "markdown",
   "metadata": {},
   "source": [
    "---\n",
    "**(6) Посчитаем суммарные продажи во всех регионах и запишем их в отдельный столбец `total_sales`:**"
   ]
  },
  {
   "cell_type": "code",
   "execution_count": 27,
   "metadata": {},
   "outputs": [],
   "source": [
    "data_games['total_sales'] = data_games['na_sales'] + data_games['eu_sales'] + data_games['jp_sales'] + data_games['other_sales']"
   ]
  },
  {
   "cell_type": "markdown",
   "metadata": {},
   "source": [
    "---\n",
    "**(7) Выведем обновлённую сводную информацию по всему датасету:**"
   ]
  },
  {
   "cell_type": "code",
   "execution_count": 28,
   "metadata": {},
   "outputs": [
    {
     "name": "stdout",
     "output_type": "stream",
     "text": [
      "<class 'pandas.core.frame.DataFrame'>\n",
      "Int64Index: 16713 entries, 0 to 16714\n",
      "Data columns (total 12 columns):\n",
      " #   Column           Non-Null Count  Dtype  \n",
      "---  ------           --------------  -----  \n",
      " 0   name             16713 non-null  object \n",
      " 1   platform         16713 non-null  object \n",
      " 2   year_of_release  16567 non-null  float64\n",
      " 3   genre            16713 non-null  object \n",
      " 4   na_sales         16713 non-null  float64\n",
      " 5   eu_sales         16713 non-null  float64\n",
      " 6   jp_sales         16713 non-null  float64\n",
      " 7   other_sales      16713 non-null  float64\n",
      " 8   critic_score     8137 non-null   float64\n",
      " 9   user_score       7590 non-null   float64\n",
      " 10  rating           16713 non-null  object \n",
      " 11  total_sales      16713 non-null  float64\n",
      "dtypes: float64(8), object(4)\n",
      "memory usage: 1.7+ MB\n",
      "\n",
      "Всего строк: 16713\n",
      "Всего столбцов: 12\n",
      "\n",
      "Количество явных дубликатов: 0\n"
     ]
    }
   ],
   "source": [
    "data_games.info()\n",
    "\n",
    "print('\\nВсего строк:', data_games.shape[0])\n",
    "print('Всего столбцов:', data_games.shape[1])\n",
    "\n",
    "print('\\nКоличество явных дубликатов:', data_games.duplicated().sum())"
   ]
  },
  {
   "cell_type": "markdown",
   "metadata": {},
   "source": [
    "---\n",
    "**(8) Выведем обновлённую сводную информацию по всему датасету:**"
   ]
  },
  {
   "cell_type": "code",
   "execution_count": 29,
   "metadata": {},
   "outputs": [
    {
     "name": "stdout",
     "output_type": "stream",
     "text": [
      "name                  0\n",
      "platform              0\n",
      "year_of_release     146\n",
      "genre                 0\n",
      "na_sales              0\n",
      "eu_sales              0\n",
      "jp_sales              0\n",
      "other_sales           0\n",
      "critic_score       8576\n",
      "user_score         9123\n",
      "rating                0\n",
      "total_sales           0\n",
      "dtype: int64\n",
      "\n",
      "Количество столбцов с пропущенными значениями: 3\n"
     ]
    }
   ],
   "source": [
    "print(data_games.isna().sum())\n",
    "\n",
    "total_isna = []\n",
    "for value in data_games.isna().sum():\n",
    "    if value != 0:\n",
    "        total_isna.append(value)\n",
    "\n",
    "print('\\nКоличество столбцов с пропущенными значениями:', len(total_isna))"
   ]
  },
  {
   "cell_type": "markdown",
   "metadata": {},
   "source": [
    "---\n",
    "**(9) Выведем первые строки обновлённого датафрейма:**"
   ]
  },
  {
   "cell_type": "code",
   "execution_count": 30,
   "metadata": {},
   "outputs": [
    {
     "data": {
      "text/html": [
       "<div>\n",
       "<style scoped>\n",
       "    .dataframe tbody tr th:only-of-type {\n",
       "        vertical-align: middle;\n",
       "    }\n",
       "\n",
       "    .dataframe tbody tr th {\n",
       "        vertical-align: top;\n",
       "    }\n",
       "\n",
       "    .dataframe thead th {\n",
       "        text-align: right;\n",
       "    }\n",
       "</style>\n",
       "<table border=\"1\" class=\"dataframe\">\n",
       "  <thead>\n",
       "    <tr style=\"text-align: right;\">\n",
       "      <th></th>\n",
       "      <th>name</th>\n",
       "      <th>platform</th>\n",
       "      <th>year_of_release</th>\n",
       "      <th>genre</th>\n",
       "      <th>na_sales</th>\n",
       "      <th>eu_sales</th>\n",
       "      <th>jp_sales</th>\n",
       "      <th>other_sales</th>\n",
       "      <th>critic_score</th>\n",
       "      <th>user_score</th>\n",
       "      <th>rating</th>\n",
       "      <th>total_sales</th>\n",
       "    </tr>\n",
       "  </thead>\n",
       "  <tbody>\n",
       "    <tr>\n",
       "      <th>0</th>\n",
       "      <td>Wii Sports</td>\n",
       "      <td>Wii</td>\n",
       "      <td>2006.0</td>\n",
       "      <td>Sports</td>\n",
       "      <td>41.36</td>\n",
       "      <td>28.96</td>\n",
       "      <td>3.77</td>\n",
       "      <td>8.45</td>\n",
       "      <td>76.0</td>\n",
       "      <td>8.0</td>\n",
       "      <td>E</td>\n",
       "      <td>82.54</td>\n",
       "    </tr>\n",
       "    <tr>\n",
       "      <th>1</th>\n",
       "      <td>Super Mario Bros.</td>\n",
       "      <td>NES</td>\n",
       "      <td>1985.0</td>\n",
       "      <td>Platform</td>\n",
       "      <td>29.08</td>\n",
       "      <td>3.58</td>\n",
       "      <td>6.81</td>\n",
       "      <td>0.77</td>\n",
       "      <td>NaN</td>\n",
       "      <td>NaN</td>\n",
       "      <td>no info</td>\n",
       "      <td>40.24</td>\n",
       "    </tr>\n",
       "    <tr>\n",
       "      <th>2</th>\n",
       "      <td>Mario Kart Wii</td>\n",
       "      <td>Wii</td>\n",
       "      <td>2008.0</td>\n",
       "      <td>Racing</td>\n",
       "      <td>15.68</td>\n",
       "      <td>12.76</td>\n",
       "      <td>3.79</td>\n",
       "      <td>3.29</td>\n",
       "      <td>82.0</td>\n",
       "      <td>8.3</td>\n",
       "      <td>E</td>\n",
       "      <td>35.52</td>\n",
       "    </tr>\n",
       "    <tr>\n",
       "      <th>3</th>\n",
       "      <td>Wii Sports Resort</td>\n",
       "      <td>Wii</td>\n",
       "      <td>2009.0</td>\n",
       "      <td>Sports</td>\n",
       "      <td>15.61</td>\n",
       "      <td>10.93</td>\n",
       "      <td>3.28</td>\n",
       "      <td>2.95</td>\n",
       "      <td>80.0</td>\n",
       "      <td>8.0</td>\n",
       "      <td>E</td>\n",
       "      <td>32.77</td>\n",
       "    </tr>\n",
       "    <tr>\n",
       "      <th>4</th>\n",
       "      <td>Pokemon Red/Pokemon Blue</td>\n",
       "      <td>GB</td>\n",
       "      <td>1996.0</td>\n",
       "      <td>Role-Playing</td>\n",
       "      <td>11.27</td>\n",
       "      <td>8.89</td>\n",
       "      <td>10.22</td>\n",
       "      <td>1.00</td>\n",
       "      <td>NaN</td>\n",
       "      <td>NaN</td>\n",
       "      <td>no info</td>\n",
       "      <td>31.38</td>\n",
       "    </tr>\n",
       "  </tbody>\n",
       "</table>\n",
       "</div>"
      ],
      "text/plain": [
       "                       name platform  year_of_release         genre  na_sales  \\\n",
       "0                Wii Sports      Wii           2006.0        Sports     41.36   \n",
       "1         Super Mario Bros.      NES           1985.0      Platform     29.08   \n",
       "2            Mario Kart Wii      Wii           2008.0        Racing     15.68   \n",
       "3         Wii Sports Resort      Wii           2009.0        Sports     15.61   \n",
       "4  Pokemon Red/Pokemon Blue       GB           1996.0  Role-Playing     11.27   \n",
       "\n",
       "   eu_sales  jp_sales  other_sales  critic_score  user_score   rating  \\\n",
       "0     28.96      3.77         8.45          76.0         8.0        E   \n",
       "1      3.58      6.81         0.77           NaN         NaN  no info   \n",
       "2     12.76      3.79         3.29          82.0         8.3        E   \n",
       "3     10.93      3.28         2.95          80.0         8.0        E   \n",
       "4      8.89     10.22         1.00           NaN         NaN  no info   \n",
       "\n",
       "   total_sales  \n",
       "0        82.54  \n",
       "1        40.24  \n",
       "2        35.52  \n",
       "3        32.77  \n",
       "4        31.38  "
      ]
     },
     "execution_count": 30,
     "metadata": {},
     "output_type": "execute_result"
    }
   ],
   "source": [
    "data_games.head()"
   ]
  },
  {
   "cell_type": "markdown",
   "metadata": {},
   "source": [
    "<a id=\"preprocessing_results\"></a>\n",
    "### <u>**Результаты предобработки данных**</u>"
   ]
  },
  {
   "cell_type": "markdown",
   "metadata": {},
   "source": [
    "1. Все столбцы приведены к нижнему регистру. Новые названия столбцов:\n",
    "\n",
    "* `name` — название игры;\n",
    "* `platform` — платформа;\n",
    "* `year_of_release` — год выпуска;\n",
    "* `genre` — жанр игры;\n",
    "* `na_sales` — продажи в Северной Америке (миллионы проданных копий);\n",
    "* `eu_sales` — продажи в Европе (миллионы проданных копий);\n",
    "* `jp_sales` — продажи в Японии (миллионы проданных копий);\n",
    "* `other_sales` — продажи в других странах (миллионы проданных копий);\n",
    "* `critic_score` — оценка критиков (максимум 100);\n",
    "* `user_score` — оценка пользователей (максимум 10);\n",
    "* `rating` — рейтинг от организации ESRB (англ. Entertainment Software Rating Board). Эта ассоциация определяет рейтинг компьютерных игр и присваивает им подходящую возрастную категорию."
   ]
  },
  {
   "cell_type": "markdown",
   "metadata": {},
   "source": [
    "2. Был проведён анализ пропусков в 6 столбцах: выдвинуты гипотезы по причинам их возникновения и приняты решения по дальнейшей работе с ними (подробнее см. [Результаты и выявленные проблемы первичного анализа данных](#first_results)  **Пропущенные значения заполнены** в тех местах, где в этом была необходимость и возможность. **Удалены пропущенные строки** в столбцах `name` и `genre` из-за их малого количества."
   ]
  },
  {
   "cell_type": "markdown",
   "metadata": {},
   "source": [
    "3. Строки, содержащие текст в виде аббревиатуры **'tbd'** в столбце `user_score` **заменены на пропуски (Nan)**."
   ]
  },
  {
   "cell_type": "markdown",
   "metadata": {},
   "source": [
    "4. **Тип данных** в столбце `user_score` **изменён**. Теперь он соответствуют описанию из [документации](#doc), и их можно использовать для дальнейшего анализа. В столбце `year_of_release` **тип данных изменить не удалось**, покольку остались пропуски, которые нельзя заполнить (подробнее см. [Результаты и выявленные проблемы первичного анализа данных](#first_results) и п. 3 текущего раздела)."
   ]
  },
  {
   "cell_type": "markdown",
   "metadata": {},
   "source": [
    "5. Добавлен новый столбец `total_sales`, в котором содержится **информация о суммарных продажах во всех регионах**."
   ]
  },
  {
   "cell_type": "markdown",
   "metadata": {},
   "source": [
    "6. После проведённых манпуляций датафрейм имеет следующие параметры: **16 713 строк** и **12 столбцов** различных типов данных:\n",
    "\n",
    "     * **float** (вещественные числа) - 8 столбцов; \n",
    "     * **object** (текстовые или смешанные числовые и нечисловые значения) - 4 столбца;"
   ]
  },
  {
   "cell_type": "code",
   "execution_count": 31,
   "metadata": {
    "scrolled": true
   },
   "outputs": [
    {
     "name": "stdout",
     "output_type": "stream",
     "text": [
      "1.0\n",
      "\n",
      "Данные можно использовать для дальнейшего анализа\n"
     ]
    }
   ],
   "source": [
    "# проверка датасета data_games после предобработки данных\n",
    "\n",
    "print(round(data_games.shape[0] / size_games, 2))\n",
    "      \n",
    "if round(data_games.shape[0] / size_games, 2) >= 0.9:\n",
    "    print('\\nДанные можно использовать для дальнейшего анализа')\n",
    "else:\n",
    "    print('\\nДанные нельзя использовать для дальнейшего анализа')"
   ]
  },
  {
   "cell_type": "markdown",
   "metadata": {},
   "source": [
    "## Шаг 3. Исследовательский анализ данных"
   ]
  },
  {
   "cell_type": "markdown",
   "metadata": {},
   "source": [
    "### 3.1 Количество выпущенных игр в разные годы"
   ]
  },
  {
   "cell_type": "code",
   "execution_count": 32,
   "metadata": {},
   "outputs": [
    {
     "data": {
      "image/png": "[encoded data removed]",
      "text/plain": [
       "<Figure size 2160x504 with 1 Axes>"
      ]
     },
     "metadata": {
      "needs_background": "light"
     },
     "output_type": "display_data"
    }
   ],
   "source": [
    "# сводная таблица\n",
    "\n",
    "games_years = (\n",
    "    data_games\n",
    "    .pivot_table(index='year_of_release',\n",
    "                 values='name',\n",
    "                 aggfunc={'name': 'count'})\n",
    ")\n",
    "\n",
    "games_years = games_years.rename(columns={'name': 'number_of_games'})    \n",
    "games_years = games_years.reset_index()\n",
    "\n",
    "# график со значениями в натуральном выражении\n",
    "\n",
    "year_of_release = games_years['year_of_release']\n",
    "number_of_games = games_years['number_of_games']\n",
    "\n",
    "\n",
    "plt.figure(figsize=(30,7))\n",
    "plt.bar(year_of_release, number_of_games, color=['g','g','g','g','g','g','g','g','g','g','g','g','g','g','y','y','y','y','y','y','y','y','y','y','y','y','y','y','y','y','y','y','g','g','g','g'])\n",
    "plt.xticks(np.arange(min(year_of_release), max(year_of_release)+1, 1)) \n",
    "\n",
    "for i in range(len(number_of_games)):\n",
    "    plt.annotate(number_of_games[i], xy=(year_of_release[i], number_of_games[i]), ha='center', va='bottom')\n",
    "   \n",
    "plt.grid(alpha=0.5)\n",
    "plt.xlabel(\"Год выпуска\")\n",
    "plt.ylabel(\"Количество игр\")\n",
    "plt.title('Количество выпущенных игр с 1980 по 2016 г., ед.')\n",
    "\n",
    "plt.show()"
   ]
  },
  {
   "cell_type": "markdown",
   "metadata": {},
   "source": [
    "<u>**Вывод:**</u> историю развития рынка компьютерных игр в течение рассматриваемого периода **(37 лет)** можн разделить на **3 периода**: **(1) \"до 1994 года\"**, **(2) \"с 1994 по 2011 год\"** и **(3) \"после 2011 года\"**. \n",
    "\n",
    "* C 1980 по 1993 год включительно число выпускаемых игр было ничтожно мало и варьировалось от 9 до 60 единиц в год. Это объясняется тем, что в то время компьютерные технологии были недостаточно развиты, и не каждый человек мог позволить себе персональный компьютер (ПК) или игровую приставку, а если и мог, то устройства того времени были весьма примитивными, а их мощности не позволяли разработчикам создавать более сложные по сюжету игры.\n",
    "\n",
    "* Но в 1994 году число выпускаемых игр начало плавно увеличиваться, что можно связать c началом массового выпуска продвинутых игровых приставок (таких как Sony Playstation). Их возможности значительно расширились по сравнению с предшественниками, и это дало толчок к развитию игровой индустрии. В 2000-х годах в данной отрасли произошёл стремительный рост, который достиг своего пика в 2008 году (**1 440 ед.**). Это свзано с бумом в IT-индустрии в целом: ПК стали доступны для каждого человека, производились более мощные и продвинутые приставки и появлялось всё больше и больше высококвалифицированных специалистов в сфере геймдизайна. Одназначно, **промежуток с 1994 по 2011 год является \"золотой эпохой\" гейминдустрии**.\n",
    "\n",
    "* С 2012 года наблюдается резкий спад, произошедший по причине уменьшения спроса. Причиной этому послужило бурное развитие индустрии мобильных устройств, а также социальных сетей. Интерес к играм, как к таковым, значительно не упал, просто большиство пользователей стали отдавать предпочтение играм не на ПК или приставке, а на планшете или смартфоне."
   ]
  },
  {
   "cell_type": "markdown",
   "metadata": {},
   "source": [
    "### 3.2 Продажи игр по платформам"
   ]
  },
  {
   "cell_type": "markdown",
   "metadata": {},
   "source": [
    "**(1) Построим столбчатую (горизонтальую) диаграмму продаж по плаформам:**"
   ]
  },
  {
   "cell_type": "code",
   "execution_count": 33,
   "metadata": {},
   "outputs": [
    {
     "data": {
      "image/png": "[encoded data removed]",
      "text/plain": [
       "<Figure size 2160x720 with 1 Axes>"
      ]
     },
     "metadata": {
      "needs_background": "light"
     },
     "output_type": "display_data"
    }
   ],
   "source": [
    "# сводная таблица\n",
    "\n",
    "platform_sales = (\n",
    "    data_games\n",
    "    .pivot_table(index='platform',\n",
    "                 values='total_sales',\n",
    "                 aggfunc={'total_sales': sum})\n",
    ")\n",
    "\n",
    "platform_sales['total_sales'] = round(platform_sales['total_sales'], 2)\n",
    "platform_sales = platform_sales.reset_index().sort_values(by='total_sales', ascending=True)\n",
    "\n",
    "# график со значениями в натуральном выражении\n",
    "\n",
    "platform = platform_sales['platform']\n",
    "total_sales = platform_sales['total_sales']\n",
    "\n",
    "plt.figure(figsize=(30,10))\n",
    "plt.barh(platform, total_sales, height=0.7, color=['darkblue', 'blue'])\n",
    "\n",
    "for i in range(len(total_sales)):\n",
    "    plt.annotate(total_sales[i], xy=(total_sales[i],platform[i]), ha='left', va='center')\n",
    "   \n",
    "plt.grid(alpha=0.5)\n",
    "plt.title('Продажи по платформам, млн. копий')\n",
    "plt.xlabel(\"Количество проданных копий\")\n",
    "plt.ylabel(\"Название платформы\")\n",
    "\n",
    "plt.show()"
   ]
  },
  {
   "cell_type": "markdown",
   "metadata": {},
   "source": [
    "<u>**Вывод:**</u> самые популярные платформы с 1980 по 2016 г. **(топ-5)**:\n",
    "\n",
    "1. **PS2** (1 255,77 млн. проданных копий) - дата выхода: **2000 год**;\n",
    "2. **X360** (971,42 млн. проданных копий) - дата выхода: **2005 год**;\n",
    "3. **PS3** (939,65 млн. проданных копий) - дата выхода: **2006 год**;\n",
    "4. **Wii** (907,51 млн. проданных копий) - дата выхода: **2006 год**;\n",
    "5. **DS** (806,12 млн. проданных копий) - дата выхода: **2004 год**;"
   ]
  },
  {
   "cell_type": "markdown",
   "metadata": {},
   "source": [
    "<div class=\"alert alert-success\">\n",
    "<h2> Комментарий ревьюера v1 <a class=\"tocSkip\"> </h2>\n",
    "\n",
    "<b>Все супер!👍:</b> Полностью поддерживаю! "
   ]
  },
  {
   "cell_type": "markdown",
   "metadata": {},
   "source": [
    "<div class=\"alert alert-info\">\n",
    "<font size=\"4\", color = \"black\"><b>✍ Комментарий студента</b></font>\n",
    "    <br /> \n",
    "    <font size=\"3\", color = \"black\">\n",
    "<br /> Комментарий просмотрен."
   ]
  },
  {
   "cell_type": "markdown",
   "metadata": {},
   "source": [
    "---\n",
    "🔷 **Предварительно для анализа решено взять данные с 2000 по 2016 год**, т.е. за все представленные года в 21 веке. Принято такое решение по следующим причинам:\n",
    "\n",
    "* несмотря на то, что увеличение продаж началось с 1994 года, настоящий стремительный рост проявил себя именно в 2000-х гг., поскольку в конце 90-х сформировались благоприятные условия для развития индустрии компьютерных игр;\n",
    "* в 2000 году была выпущена самая популярная платформа по количеству проданных копий - PS2."
   ]
  },
  {
   "cell_type": "markdown",
   "metadata": {},
   "source": [
    "---\n",
    "**(2) Определим \"срок жизни\" каждой из платформ:**"
   ]
  },
  {
   "cell_type": "markdown",
   "metadata": {},
   "source": [
    "Посчитаем ежгодное количество продаж самых популярных игровых платформ (топ-5) с 2000 по 2016 год и выведем результат в виде графика:"
   ]
  },
  {
   "cell_type": "code",
   "execution_count": 34,
   "metadata": {},
   "outputs": [
    {
     "data": {
      "image/png": "[encoded data removed]",
      "text/plain": [
       "<Figure size 2160x504 with 1 Axes>"
      ]
     },
     "metadata": {
      "needs_background": "light"
     },
     "output_type": "display_data"
    }
   ],
   "source": [
    "top5_platforms = data_games.groupby('platform')['total_sales'].sum().sort_values()[-5:].index.tolist()\n",
    "\n",
    "top5_platforms = (\n",
    "    data_games\n",
    "    .query('platform in @top5_platforms & year_of_release >= 2000')\n",
    "    .pivot_table(index=['year_of_release'],\n",
    "                 values='total_sales', \n",
    "                 columns='platform',\n",
    "                 aggfunc={'total_sales': sum})\n",
    ")\n",
    "\n",
    "top5_platforms.plot(style='o-',\n",
    "                    figsize=(30,7))\n",
    "\n",
    "plt.xticks(np.arange(2000, 2016+1, 1)) \n",
    "plt.grid(alpha=0.5)\n",
    "plt.title('Ежегодные продажи по платформам (топ-5) c 2000 по 2016 г., млн. копий')\n",
    "plt.xlabel(\"Год\")\n",
    "plt.ylabel(\"Количество проданных копий\")\n",
    "plt.show()"
   ]
  },
  {
   "cell_type": "markdown",
   "metadata": {},
   "source": [
    "<u>**Вывод:**</u> срок жизни каждой из платформ составляет примерно **9-10 лет**. В год выпуска платформы продажи игр обычно совсем малы, поскольку нет необходимого предложения со стороны гейминдустрии. Также причиной может быть то, что потенциальные покупатели сразу не бегут в магазин за новинкой (за только что вышедшей платформой), а предпочитают подождать с приобретением, так как либо им в текущий момент не позволяют финансы, либо им необходимо время, чтобы оценить целесообразность такой покупки. Исключение: игровая платформа Wii (в год релиза свопало несколько факторов: повышенная привлекательность приставки из-за инновационного контроллера, её стоимость была ниже конкурентов, а также было выпущено большое количество игр, и некоторые из них полагались к комплекту с самой приставкой). Но в следующие 2-3 года ситуация меняется и продажи игр резко возрастают. **Снижение популярности платформы происходит по-разному, но в среднем можно считать после примерно 5-6 лет**. Платформы устаревают, так как появляются новинки с более мощными процессорами, более привлекательным дизайном и более широкими возможностями для пользователя. Также существуют и другие причины, из-за которых популярность консоли снижается: переориентация общества на другие виды досуга (напр., социальные сети), появление других устройств с игровыми возможностями (напр. смартфоны и планшеты), снижение доходов населения при одновременном повышении стоимости платформы из-за дорогих комплектующих и т.д."
   ]
  },
  {
   "cell_type": "code",
   "execution_count": 35,
   "metadata": {},
   "outputs": [
    {
     "name": "stdout",
     "output_type": "stream",
     "text": [
      "Средний срок жизни платформы (топ-5) составляет 11.4 лет*.\n"
     ]
    }
   ],
   "source": [
    "print('Средний срок жизни платформы (топ-5) составляет', top5_platforms.count().mean(), 'лет*.')"
   ]
  },
  {
   "cell_type": "markdown",
   "metadata": {},
   "source": [
    "---\n",
    "<a id=\"actual_period\"></a>\n",
    "🔶 **Приянято решение ИЗМЕНИТЬ актуальный период. Актуальным будем считать период с 2014 по 2016 год**, т.е. за последние 3 года, поскольку:\n",
    "\n",
    "* многие новые платформы начали появляться в середине 2000-х гг. и их популярность начала снижаться к 2013-2014 гг.;\n",
    "* индустрия компьютерных игр является динамично меняющейся, каждый год появляются новые тренды, именно поэтому для целей прогнозирования продаж нельзя брать слишком большой временной интервал.\n",
    "\n",
    "<u>**Эти данные можно использовать для построения прогноза на 2017 год.**</u>"
   ]
  },
  {
   "cell_type": "code",
   "execution_count": 36,
   "metadata": {},
   "outputs": [
    {
     "name": "stdout",
     "output_type": "stream",
     "text": [
      "<class 'pandas.core.frame.DataFrame'>\n",
      "Int64Index: 1690 entries, 31 to 16714\n",
      "Data columns (total 12 columns):\n",
      " #   Column           Non-Null Count  Dtype  \n",
      "---  ------           --------------  -----  \n",
      " 0   name             1690 non-null   object \n",
      " 1   platform         1690 non-null   object \n",
      " 2   year_of_release  1690 non-null   float64\n",
      " 3   genre            1690 non-null   object \n",
      " 4   na_sales         1690 non-null   float64\n",
      " 5   eu_sales         1690 non-null   float64\n",
      " 6   jp_sales         1690 non-null   float64\n",
      " 7   other_sales      1690 non-null   float64\n",
      " 8   critic_score     719 non-null    float64\n",
      " 9   user_score       889 non-null    float64\n",
      " 10  rating           1690 non-null   object \n",
      " 11  total_sales      1690 non-null   float64\n",
      "dtypes: float64(8), object(4)\n",
      "memory usage: 171.6+ KB\n"
     ]
    }
   ],
   "source": [
    "# сделаем срез акутального периода и выведем обновлённую информацию о данных\n",
    "\n",
    "data_games = data_games.query('year_of_release >= 2014')\n",
    "data_games.info()"
   ]
  },
  {
   "cell_type": "markdown",
   "metadata": {},
   "source": [
    "### 3.3 Продажи по платформам: общая ситуация и потенциально прибыльные платформы"
   ]
  },
  {
   "cell_type": "markdown",
   "metadata": {},
   "source": [
    "Проанализируем продажи с 2014 по 2016 год и определим, какие платформы лидируют по продажам, растут или падают. Выберем потенциально прибыльные платформы."
   ]
  },
  {
   "cell_type": "code",
   "execution_count": 37,
   "metadata": {},
   "outputs": [
    {
     "data": {
      "image/png": "[encoded data removed]",
      "text/plain": [
       "<Figure size 1080x720 with 1 Axes>"
      ]
     },
     "metadata": {
      "needs_background": "light"
     },
     "output_type": "display_data"
    }
   ],
   "source": [
    "profit_platforms = (\n",
    "    data_games\n",
    "    .pivot_table(index=['year_of_release'],\n",
    "                 values='total_sales', \n",
    "                 columns='platform',\n",
    "                 aggfunc={'total_sales': sum})\n",
    ")\n",
    "\n",
    "profit_platforms.plot(style='o-',\n",
    "                    figsize=(15,10))\n",
    "\n",
    "plt.xticks(np.arange(2014, 2016+1, 1)) \n",
    "plt.grid(alpha=0.5)\n",
    "plt.title('Ежегодные продажи по платформам c 2014 по 2016 г., млн. копий')\n",
    "plt.xlabel(\"Год\")\n",
    "plt.ylabel(\"Количество проданных копий\")\n",
    "plt.show()"
   ]
  },
  {
   "cell_type": "markdown",
   "metadata": {},
   "source": [
    "Для лучшей интерпретации результатов выведем данные за 2016 год:"
   ]
  },
  {
   "cell_type": "code",
   "execution_count": 38,
   "metadata": {},
   "outputs": [
    {
     "data": {
      "image/png": "[encoded data removed]",
      "text/plain": [
       "<Figure size 1080x432 with 1 Axes>"
      ]
     },
     "metadata": {
      "needs_background": "light"
     },
     "output_type": "display_data"
    }
   ],
   "source": [
    "# сводная таблица\n",
    "\n",
    "platform_sales = (\n",
    "    data_games\n",
    "    .query('year_of_release == 2016')\n",
    "    .pivot_table(index='platform',\n",
    "                 values='total_sales',\n",
    "                 aggfunc={'total_sales': sum})\n",
    ")\n",
    "\n",
    "platform_sales['total_sales'] = round(platform_sales['total_sales'], 2)\n",
    "platform_sales = platform_sales.reset_index().sort_values(by='total_sales', ascending=True)\n",
    "\n",
    "# график со значениями в натуральном выражении\n",
    "\n",
    "platform = platform_sales['platform']\n",
    "total_sales = platform_sales['total_sales']\n",
    "\n",
    "plt.figure(figsize=(15,6))\n",
    "plt.barh(platform, total_sales, height=0.7, color='orange')\n",
    "\n",
    "for i in range(len(total_sales)):\n",
    "    plt.annotate(total_sales[i], xy=(total_sales[i],platform[i]), ha='left', va='center')\n",
    "   \n",
    "plt.grid(alpha=0.5)\n",
    "plt.title('Продажи по платформам в 2016 году, млн. копий')\n",
    "plt.xlabel(\"Количество проданных копий\")\n",
    "plt.ylabel(\"Название платформы\")\n",
    "\n",
    "plt.show()"
   ]
  },
  {
   "cell_type": "markdown",
   "metadata": {},
   "source": [
    "<u>**Вывод:**</u> наблюдается общая тенденция снижения продаж, и в 2016 году такое снижения произошло по всем платформам. Потенциально прибыльными можно считать только 3 платформы:\n",
    "\n",
    "* **PS4** (на 2016 год 69,25 млн. проданных копий) - дата выхода: **2013 год**, предполагаемый \"срок жизни\": **до 2022-2023 г.**\n",
    "* **XOne** (на 2016 год 26,15 млн. проданных копий) - дата выхода: **2013 год**, предполагаемый \"срок жизни\": **до 2022-2023 г.**\n",
    "* **3DS** (на 2016 год 15,14 млн. проданных копий) - дата выхода: **2011 год**, предполагаемый \"срок жизни\": **до 2020-2021 г.**"
   ]
  },
  {
   "cell_type": "markdown",
   "metadata": {},
   "source": [
    "### 3.4 График \"ящик с усами\" по глобальным продажам игр в разбивке по платформам"
   ]
  },
  {
   "cell_type": "markdown",
   "metadata": {},
   "source": [
    "Построим график \"ящик с усами\" по глобальным продажам игр в разбивке по платформам (данные за 2014-2016 гг.):"
   ]
  },
  {
   "cell_type": "code",
   "execution_count": 39,
   "metadata": {},
   "outputs": [
    {
     "data": {
      "image/png": "[encoded data removed]",
      "text/plain": [
       "<Figure size 1080x720 with 1 Axes>"
      ]
     },
     "metadata": {
      "needs_background": "light"
     },
     "output_type": "display_data"
    }
   ],
   "source": [
    "games_platforms = (\n",
    "    data_games\n",
    "    .pivot_table(index='name',\n",
    "                 columns='platform',\n",
    "                 values='total_sales', \n",
    "                 aggfunc ='sum')\n",
    "    .plot(kind='box',\n",
    "          grid=True,\n",
    "          figsize=(15,10))\n",
    ")\n",
    "\n",
    "plt.ylim(0, 2.5)\n",
    "plt.yticks(np.arange(0, 2.5+0.25, 0.25)) \n",
    "plt.title('Диаграмма размаха глобальных продаж игр в разбивке по платформам')\n",
    "plt.xlabel('Платформы')\n",
    "plt.ylabel('Глобальные продажи игр')\n",
    "plt.show()"
   ]
  },
  {
   "cell_type": "markdown",
   "metadata": {},
   "source": [
    "Для лучшей интерпретации результатов выведем данные описательной статистики:"
   ]
  },
  {
   "cell_type": "code",
   "execution_count": 40,
   "metadata": {},
   "outputs": [
    {
     "data": {
      "text/html": [
       "<div>\n",
       "<style scoped>\n",
       "    .dataframe tbody tr th:only-of-type {\n",
       "        vertical-align: middle;\n",
       "    }\n",
       "\n",
       "    .dataframe tbody tr th {\n",
       "        vertical-align: top;\n",
       "    }\n",
       "\n",
       "    .dataframe thead th {\n",
       "        text-align: right;\n",
       "    }\n",
       "</style>\n",
       "<table border=\"1\" class=\"dataframe\">\n",
       "  <thead>\n",
       "    <tr style=\"text-align: right;\">\n",
       "      <th></th>\n",
       "      <th>count</th>\n",
       "      <th>mean</th>\n",
       "      <th>std</th>\n",
       "      <th>min</th>\n",
       "      <th>25%</th>\n",
       "      <th>50%</th>\n",
       "      <th>75%</th>\n",
       "      <th>max</th>\n",
       "    </tr>\n",
       "    <tr>\n",
       "      <th>platform</th>\n",
       "      <th></th>\n",
       "      <th></th>\n",
       "      <th></th>\n",
       "      <th></th>\n",
       "      <th></th>\n",
       "      <th></th>\n",
       "      <th></th>\n",
       "      <th></th>\n",
       "    </tr>\n",
       "  </thead>\n",
       "  <tbody>\n",
       "    <tr>\n",
       "      <th>XOne</th>\n",
       "      <td>228.0</td>\n",
       "      <td>0.615614</td>\n",
       "      <td>1.046513</td>\n",
       "      <td>0.01</td>\n",
       "      <td>0.0500</td>\n",
       "      <td>0.205</td>\n",
       "      <td>0.6325</td>\n",
       "      <td>7.39</td>\n",
       "    </tr>\n",
       "    <tr>\n",
       "      <th>WiiU</th>\n",
       "      <td>73.0</td>\n",
       "      <td>0.588767</td>\n",
       "      <td>1.161467</td>\n",
       "      <td>0.01</td>\n",
       "      <td>0.0500</td>\n",
       "      <td>0.190</td>\n",
       "      <td>0.5700</td>\n",
       "      <td>7.09</td>\n",
       "    </tr>\n",
       "    <tr>\n",
       "      <th>PS4</th>\n",
       "      <td>376.0</td>\n",
       "      <td>0.766356</td>\n",
       "      <td>1.614969</td>\n",
       "      <td>0.01</td>\n",
       "      <td>0.0575</td>\n",
       "      <td>0.185</td>\n",
       "      <td>0.6900</td>\n",
       "      <td>14.63</td>\n",
       "    </tr>\n",
       "    <tr>\n",
       "      <th>Wii</th>\n",
       "      <td>11.0</td>\n",
       "      <td>0.460909</td>\n",
       "      <td>0.625451</td>\n",
       "      <td>0.01</td>\n",
       "      <td>0.0350</td>\n",
       "      <td>0.180</td>\n",
       "      <td>0.7550</td>\n",
       "      <td>2.01</td>\n",
       "    </tr>\n",
       "    <tr>\n",
       "      <th>X360</th>\n",
       "      <td>111.0</td>\n",
       "      <td>0.434414</td>\n",
       "      <td>0.628967</td>\n",
       "      <td>0.01</td>\n",
       "      <td>0.0700</td>\n",
       "      <td>0.180</td>\n",
       "      <td>0.5050</td>\n",
       "      <td>4.28</td>\n",
       "    </tr>\n",
       "    <tr>\n",
       "      <th>PS3</th>\n",
       "      <td>219.0</td>\n",
       "      <td>0.311324</td>\n",
       "      <td>0.633059</td>\n",
       "      <td>0.01</td>\n",
       "      <td>0.0400</td>\n",
       "      <td>0.110</td>\n",
       "      <td>0.3250</td>\n",
       "      <td>5.27</td>\n",
       "    </tr>\n",
       "    <tr>\n",
       "      <th>3DS</th>\n",
       "      <td>212.0</td>\n",
       "      <td>0.408868</td>\n",
       "      <td>1.188368</td>\n",
       "      <td>0.01</td>\n",
       "      <td>0.0300</td>\n",
       "      <td>0.090</td>\n",
       "      <td>0.2500</td>\n",
       "      <td>11.68</td>\n",
       "    </tr>\n",
       "    <tr>\n",
       "      <th>PC</th>\n",
       "      <td>152.0</td>\n",
       "      <td>0.180263</td>\n",
       "      <td>0.328559</td>\n",
       "      <td>0.01</td>\n",
       "      <td>0.0200</td>\n",
       "      <td>0.060</td>\n",
       "      <td>0.2050</td>\n",
       "      <td>3.05</td>\n",
       "    </tr>\n",
       "    <tr>\n",
       "      <th>PSV</th>\n",
       "      <td>295.0</td>\n",
       "      <td>0.075932</td>\n",
       "      <td>0.141591</td>\n",
       "      <td>0.01</td>\n",
       "      <td>0.0200</td>\n",
       "      <td>0.040</td>\n",
       "      <td>0.0900</td>\n",
       "      <td>1.96</td>\n",
       "    </tr>\n",
       "    <tr>\n",
       "      <th>PSP</th>\n",
       "      <td>13.0</td>\n",
       "      <td>0.027692</td>\n",
       "      <td>0.027735</td>\n",
       "      <td>0.01</td>\n",
       "      <td>0.0100</td>\n",
       "      <td>0.020</td>\n",
       "      <td>0.0200</td>\n",
       "      <td>0.09</td>\n",
       "    </tr>\n",
       "  </tbody>\n",
       "</table>\n",
       "</div>"
      ],
      "text/plain": [
       "          count      mean       std   min     25%    50%     75%    max\n",
       "platform                                                               \n",
       "XOne      228.0  0.615614  1.046513  0.01  0.0500  0.205  0.6325   7.39\n",
       "WiiU       73.0  0.588767  1.161467  0.01  0.0500  0.190  0.5700   7.09\n",
       "PS4       376.0  0.766356  1.614969  0.01  0.0575  0.185  0.6900  14.63\n",
       "Wii        11.0  0.460909  0.625451  0.01  0.0350  0.180  0.7550   2.01\n",
       "X360      111.0  0.434414  0.628967  0.01  0.0700  0.180  0.5050   4.28\n",
       "PS3       219.0  0.311324  0.633059  0.01  0.0400  0.110  0.3250   5.27\n",
       "3DS       212.0  0.408868  1.188368  0.01  0.0300  0.090  0.2500  11.68\n",
       "PC        152.0  0.180263  0.328559  0.01  0.0200  0.060  0.2050   3.05\n",
       "PSV       295.0  0.075932  0.141591  0.01  0.0200  0.040  0.0900   1.96\n",
       "PSP        13.0  0.027692  0.027735  0.01  0.0100  0.020  0.0200   0.09"
      ]
     },
     "execution_count": 40,
     "metadata": {},
     "output_type": "execute_result"
    }
   ],
   "source": [
    "data_games.groupby('platform')['total_sales'].describe().sort_values(by='50%', ascending=False)"
   ]
  },
  {
   "cell_type": "markdown",
   "metadata": {},
   "source": [
    "<u>**Вывод:**</u> \n",
    "\n",
    "* Наибольшие медианные продажи (2014-2016 гг.) наблюдаются у платформ:\n",
    "\n",
    "  * **XOne**\n",
    "  * **WiiU**\n",
    "  * **PS4**\n",
    "\n",
    "Эти платформы являются флагманами на рынке гейминдустрии. Их широкие возможности позволяют создавать большое количество игр с уникальным и сложным сюжетом, при этом цена за одну игру всегда выше цены игр, предназначенных дла других консолей.\n",
    "\n",
    "* Наименьшие медианные продажи (2014-2016 гг.) демонстрируют платформы:\n",
    "\n",
    "  * **PSP**\n",
    "  * **PSV**\n",
    "  * **PC** (Персональный компьютер)\n",
    "\n",
    "В случае c первыми двумя (PSP и PSV), все эти консоли являются портативными, они уступают в популярности своим стационарным конкурентам, их возможности значительно меньше и для них выпускается значительно меньше игр. Персональный компьютер сам по себе менее предназначен для игр, чем приставки, плюс, игры, выпускаемые на ПК стоят намного дешевле.\n",
    "\n",
    "* Практически у всех платформ наблюдается большое число выбросов. Предполагаемое объяснение: игры шли в комплекте с приставкой или игры могли быть подарены в рамках рекламной акции."
   ]
  },
  {
   "cell_type": "markdown",
   "metadata": {},
   "source": [
    "### 3.5 Влияние отзывов пользователей и критиков на продажи внутри одной популярной платформы"
   ]
  },
  {
   "cell_type": "markdown",
   "metadata": {},
   "source": [
    "Для оценки влияния отзывов пользователей и критиков на продажи выберем платформу **PS4**.\n",
    "\n",
    "---\n",
    "\n",
    "**(1) Для выбранной платформы построим матрицу диаграмм рассеяния для столбцов:**\n",
    "\n",
    "`total_sales` - суммарные продажи во всех регионах (млн. копий);\n",
    "\n",
    "`critic_score` — оценка критиков (максимум 100);\n",
    "\n",
    "`user_score` — оценка пользователей (максимум 10)."
   ]
  },
  {
   "cell_type": "code",
   "execution_count": 41,
   "metadata": {},
   "outputs": [
    {
     "data": {
      "image/png": "[encoded data removed]",
      "text/plain": [
       "<Figure size 1080x1080 with 9 Axes>"
      ]
     },
     "metadata": {
      "needs_background": "light"
     },
     "output_type": "display_data"
    }
   ],
   "source": [
    "ps4 = data_games[data_games.platform == \"PS4\"][['total_sales', 'critic_score', 'user_score']]\n",
    "\n",
    "pd.plotting.scatter_matrix(ps4, figsize=(15,15), alpha=1)\n",
    "\n",
    "plt.show()"
   ]
  },
  {
   "cell_type": "markdown",
   "metadata": {},
   "source": [
    "Для лучшей интерпретации результатов выведем матрицу корреляции в табличной форме:"
   ]
  },
  {
   "cell_type": "code",
   "execution_count": 42,
   "metadata": {},
   "outputs": [
    {
     "data": {
      "text/html": [
       "<div>\n",
       "<style scoped>\n",
       "    .dataframe tbody tr th:only-of-type {\n",
       "        vertical-align: middle;\n",
       "    }\n",
       "\n",
       "    .dataframe tbody tr th {\n",
       "        vertical-align: top;\n",
       "    }\n",
       "\n",
       "    .dataframe thead th {\n",
       "        text-align: right;\n",
       "    }\n",
       "</style>\n",
       "<table border=\"1\" class=\"dataframe\">\n",
       "  <thead>\n",
       "    <tr style=\"text-align: right;\">\n",
       "      <th></th>\n",
       "      <th>total_sales</th>\n",
       "      <th>critic_score</th>\n",
       "      <th>user_score</th>\n",
       "    </tr>\n",
       "  </thead>\n",
       "  <tbody>\n",
       "    <tr>\n",
       "      <th>total_sales</th>\n",
       "      <td>1.000000</td>\n",
       "      <td>0.402661</td>\n",
       "      <td>-0.040132</td>\n",
       "    </tr>\n",
       "    <tr>\n",
       "      <th>critic_score</th>\n",
       "      <td>0.402661</td>\n",
       "      <td>1.000000</td>\n",
       "      <td>0.546434</td>\n",
       "    </tr>\n",
       "    <tr>\n",
       "      <th>user_score</th>\n",
       "      <td>-0.040132</td>\n",
       "      <td>0.546434</td>\n",
       "      <td>1.000000</td>\n",
       "    </tr>\n",
       "  </tbody>\n",
       "</table>\n",
       "</div>"
      ],
      "text/plain": [
       "              total_sales  critic_score  user_score\n",
       "total_sales      1.000000      0.402661   -0.040132\n",
       "critic_score     0.402661      1.000000    0.546434\n",
       "user_score      -0.040132      0.546434    1.000000"
      ]
     },
     "execution_count": 42,
     "metadata": {},
     "output_type": "execute_result"
    }
   ],
   "source": [
    "ps4.corr()"
   ]
  },
  {
   "cell_type": "markdown",
   "metadata": {},
   "source": [
    "<u>**Вывод:**</u> между параметрами `total_sales` и `critic_score` прослеживается **слабая** прямая связь (0,4) => можно утверждать, что **более высокая оценка критиков может повлиять на рост продаж, но этот фактор является далеко не первостепенным**. Между параметрами `total_sales` и `user_score` практически нет связи => **оценка пользователей никак не влияет на продажи**."
   ]
  },
  {
   "cell_type": "markdown",
   "metadata": {},
   "source": [
    "---\n",
    "**(2) Соотнесём результаты с другими популярными платформами:**"
   ]
  },
  {
   "cell_type": "markdown",
   "metadata": {},
   "source": [
    "***XOne***"
   ]
  },
  {
   "cell_type": "code",
   "execution_count": 43,
   "metadata": {},
   "outputs": [
    {
     "data": {
      "image/png": "[encoded data removed]",
      "text/plain": [
       "<Figure size 1080x1080 with 9 Axes>"
      ]
     },
     "metadata": {
      "needs_background": "light"
     },
     "output_type": "display_data"
    }
   ],
   "source": [
    "xone = data_games[data_games.platform == \"XOne\"][['total_sales', 'critic_score', 'user_score']]\n",
    "\n",
    "pd.plotting.scatter_matrix(xone, figsize=(15,15), alpha=1)\n",
    "\n",
    "plt.show()"
   ]
  },
  {
   "cell_type": "code",
   "execution_count": 44,
   "metadata": {
    "tags": []
   },
   "outputs": [
    {
     "data": {
      "text/html": [
       "<div>\n",
       "<style scoped>\n",
       "    .dataframe tbody tr th:only-of-type {\n",
       "        vertical-align: middle;\n",
       "    }\n",
       "\n",
       "    .dataframe tbody tr th {\n",
       "        vertical-align: top;\n",
       "    }\n",
       "\n",
       "    .dataframe thead th {\n",
       "        text-align: right;\n",
       "    }\n",
       "</style>\n",
       "<table border=\"1\" class=\"dataframe\">\n",
       "  <thead>\n",
       "    <tr style=\"text-align: right;\">\n",
       "      <th></th>\n",
       "      <th>total_sales</th>\n",
       "      <th>critic_score</th>\n",
       "      <th>user_score</th>\n",
       "    </tr>\n",
       "  </thead>\n",
       "  <tbody>\n",
       "    <tr>\n",
       "      <th>total_sales</th>\n",
       "      <td>1.000000</td>\n",
       "      <td>0.428677</td>\n",
       "      <td>-0.070384</td>\n",
       "    </tr>\n",
       "    <tr>\n",
       "      <th>critic_score</th>\n",
       "      <td>0.428677</td>\n",
       "      <td>1.000000</td>\n",
       "      <td>0.440977</td>\n",
       "    </tr>\n",
       "    <tr>\n",
       "      <th>user_score</th>\n",
       "      <td>-0.070384</td>\n",
       "      <td>0.440977</td>\n",
       "      <td>1.000000</td>\n",
       "    </tr>\n",
       "  </tbody>\n",
       "</table>\n",
       "</div>"
      ],
      "text/plain": [
       "              total_sales  critic_score  user_score\n",
       "total_sales      1.000000      0.428677   -0.070384\n",
       "critic_score     0.428677      1.000000    0.440977\n",
       "user_score      -0.070384      0.440977    1.000000"
      ]
     },
     "execution_count": 44,
     "metadata": {},
     "output_type": "execute_result"
    }
   ],
   "source": [
    "xone.corr()"
   ]
  },
  {
   "cell_type": "markdown",
   "metadata": {},
   "source": [
    "<u>**Вывод:**</u> между параметрами `total_sales` и `critic_score` прослеживается **слабая** прямая связь (0,4) => можно утверждать, что **более высокая оценка критиков может повлиять на рост продаж, но этот фактор является далеко не первостепенным**. Между параметрами `total_sales` и `user_score` практически нет связи => **оценка пользователей никак не влияет на продажи**."
   ]
  },
  {
   "cell_type": "markdown",
   "metadata": {},
   "source": [
    "***WiiU***"
   ]
  },
  {
   "cell_type": "code",
   "execution_count": 45,
   "metadata": {},
   "outputs": [
    {
     "data": {
      "image/png": "[encoded data removed]",
      "text/plain": [
       "<Figure size 1080x1080 with 9 Axes>"
      ]
     },
     "metadata": {
      "needs_background": "light"
     },
     "output_type": "display_data"
    }
   ],
   "source": [
    "wiiu = data_games[data_games.platform == \"WiiU\"][['total_sales', 'critic_score', 'user_score']]\n",
    "\n",
    "pd.plotting.scatter_matrix(wiiu, figsize=(15,15), alpha=1)\n",
    "\n",
    "plt.show()"
   ]
  },
  {
   "cell_type": "code",
   "execution_count": 46,
   "metadata": {
    "tags": []
   },
   "outputs": [
    {
     "data": {
      "text/html": [
       "<div>\n",
       "<style scoped>\n",
       "    .dataframe tbody tr th:only-of-type {\n",
       "        vertical-align: middle;\n",
       "    }\n",
       "\n",
       "    .dataframe tbody tr th {\n",
       "        vertical-align: top;\n",
       "    }\n",
       "\n",
       "    .dataframe thead th {\n",
       "        text-align: right;\n",
       "    }\n",
       "</style>\n",
       "<table border=\"1\" class=\"dataframe\">\n",
       "  <thead>\n",
       "    <tr style=\"text-align: right;\">\n",
       "      <th></th>\n",
       "      <th>total_sales</th>\n",
       "      <th>critic_score</th>\n",
       "      <th>user_score</th>\n",
       "    </tr>\n",
       "  </thead>\n",
       "  <tbody>\n",
       "    <tr>\n",
       "      <th>total_sales</th>\n",
       "      <td>1.000000</td>\n",
       "      <td>0.370201</td>\n",
       "      <td>0.407926</td>\n",
       "    </tr>\n",
       "    <tr>\n",
       "      <th>critic_score</th>\n",
       "      <td>0.370201</td>\n",
       "      <td>1.000000</td>\n",
       "      <td>0.763536</td>\n",
       "    </tr>\n",
       "    <tr>\n",
       "      <th>user_score</th>\n",
       "      <td>0.407926</td>\n",
       "      <td>0.763536</td>\n",
       "      <td>1.000000</td>\n",
       "    </tr>\n",
       "  </tbody>\n",
       "</table>\n",
       "</div>"
      ],
      "text/plain": [
       "              total_sales  critic_score  user_score\n",
       "total_sales      1.000000      0.370201    0.407926\n",
       "critic_score     0.370201      1.000000    0.763536\n",
       "user_score       0.407926      0.763536    1.000000"
      ]
     },
     "execution_count": 46,
     "metadata": {},
     "output_type": "execute_result"
    }
   ],
   "source": [
    "wiiu.corr()"
   ]
  },
  {
   "cell_type": "markdown",
   "metadata": {},
   "source": [
    "<u>**Вывод:**</u> между параметрами `total_sales` и `critic_score` прослеживается **слабая** прямая связь (0,4) => можно утверждать, что **более высокая оценка критиков может повлиять на рост продаж, но этот фактор является далеко не первостепенным**. Между параметрами `total_sales` и `user_score` такая же связь и коэффиицент корреляции также (0,4) => **более высокая оценка пользователей может повлиять на рост продаж, этот фактор является не первостепенным**. Таким образом, получается,что значимость оценки критиков и оценки пользователей имеет одинаковое значение**."
   ]
  },
  {
   "cell_type": "markdown",
   "metadata": {},
   "source": [
    "---\n",
    "<u>**Итоговый вывод:**</u> в целом по всем платформам за период с 2014 по 2016 г. прослеживается слабая прямая связь между оценкой критиков и продажами, т.е. **оценка критиков - это один из факторов, влияющих на увличение продаж игр**, чего не скажешь об оценках пользователей. Исключением стала платформа WiiU, где оценка пользователей более значима, чем оценка критиков, здесь также прослеживается слабая прямая связь."
   ]
  },
  {
   "cell_type": "markdown",
   "metadata": {},
   "source": [
    "### 3.6 Общее распределение игр по жанрам"
   ]
  },
  {
   "cell_type": "code",
   "execution_count": 47,
   "metadata": {},
   "outputs": [
    {
     "data": {
      "image/png": "[encoded data removed]",
      "text/plain": [
       "<Figure size 1080x432 with 1 Axes>"
      ]
     },
     "metadata": {
      "needs_background": "light"
     },
     "output_type": "display_data"
    },
    {
     "data": {
      "image/png": "[encoded data removed]",
      "text/plain": [
       "<Figure size 1080x432 with 1 Axes>"
      ]
     },
     "metadata": {
      "needs_background": "light"
     },
     "output_type": "display_data"
    }
   ],
   "source": [
    "# (1) Распределение по продажам\n",
    "\n",
    "# сводная таблица\n",
    "\n",
    "genre_games = (\n",
    "    data_games\n",
    "    .pivot_table(index='genre',\n",
    "                 values='total_sales',\n",
    "                 aggfunc={'total_sales': sum})\n",
    ")\n",
    "\n",
    "genre_games['total_sales'] = round(genre_games['total_sales'], 2)\n",
    "genre_games = genre_games.reset_index().sort_values(by='total_sales', ascending=True)\n",
    "\n",
    "# график\n",
    "\n",
    "genre = genre_games['genre']\n",
    "total_sales = genre_games['total_sales']\n",
    "\n",
    "plt.figure(figsize=(15,6))\n",
    "plt.barh(genre, total_sales, height=0.7, color=['darkred'])\n",
    "\n",
    "for i in range(len(total_sales)):\n",
    "    plt.annotate(total_sales[i], xy=(total_sales[i],genre[i]), ha='left', va='center')\n",
    "   \n",
    "plt.grid(alpha=0.5)\n",
    "plt.title('Продажи по жанрам с 2014 по 2016 г., млн. копий')\n",
    "plt.xlabel(\"Продажи\")\n",
    "plt.ylabel(\"Название жанара\")\n",
    "\n",
    "plt.show()\n",
    "\n",
    "\n",
    "# (2) Распределение по количеству\n",
    "\n",
    "# сводная таблица\n",
    "\n",
    "genre_games = (\n",
    "    data_games\n",
    "    .pivot_table(index='genre',\n",
    "                 values='total_sales',\n",
    "                 aggfunc={'total_sales': 'count'})\n",
    ")\n",
    "\n",
    "genre_games['total_sales'] = round(genre_games['total_sales'], 2)\n",
    "genre_games = genre_games.reset_index().sort_values(by='total_sales', ascending=True)\n",
    "\n",
    "# график\n",
    "\n",
    "genre = genre_games['genre']\n",
    "total_sales = genre_games['total_sales']\n",
    "\n",
    "plt.figure(figsize=(15,6))\n",
    "plt.barh(genre, total_sales, height=0.7, color=['darkgreen'])\n",
    "\n",
    "for i in range(len(total_sales)):\n",
    "    plt.annotate(total_sales[i], xy=(total_sales[i],genre[i]), ha='left', va='center')\n",
    "   \n",
    "plt.grid(alpha=0.5)\n",
    "plt.title('Количество выпущенных игр по жанрам с 2014 по 2016 г., ед.')\n",
    "plt.xlabel(\"Количество выпущенных игр\")\n",
    "plt.ylabel(\"Название жанара\")\n",
    "\n",
    "plt.show()"
   ]
  },
  {
   "cell_type": "markdown",
   "metadata": {},
   "source": [
    "Построим график \"ящик с усами\" по глобальным продажам игр в разбивке по жанрам (данные за 2014-2016 гг.):"
   ]
  },
  {
   "cell_type": "code",
   "execution_count": 48,
   "metadata": {},
   "outputs": [
    {
     "data": {
      "image/png": "[encoded data removed]",
      "text/plain": [
       "<Figure size 1080x720 with 1 Axes>"
      ]
     },
     "metadata": {
      "needs_background": "light"
     },
     "output_type": "display_data"
    }
   ],
   "source": [
    "games_genre = (\n",
    "    data_games\n",
    "    .pivot_table(index='name',\n",
    "                 columns='genre',\n",
    "                 values='total_sales', \n",
    "                 aggfunc ='sum')\n",
    "    .plot(kind='box',\n",
    "          grid=True,\n",
    "          figsize=(15,10))\n",
    ")\n",
    "\n",
    "plt.ylim(0, 2.5)\n",
    "plt.yticks(np.arange(0, 9+0.25, 0.25)) \n",
    "plt.title('Диаграмма размаха глобальных продаж игр в разбивке по жанрам')\n",
    "plt.xlabel('Платформы')\n",
    "plt.ylabel('Глобальные продажи игр')\n",
    "plt.show()"
   ]
  },
  {
   "cell_type": "markdown",
   "metadata": {},
   "source": [
    "Для лучшей интерпретации результатов выведем данные описательной статистики:"
   ]
  },
  {
   "cell_type": "code",
   "execution_count": 49,
   "metadata": {},
   "outputs": [
    {
     "data": {
      "text/html": [
       "<div>\n",
       "<style scoped>\n",
       "    .dataframe tbody tr th:only-of-type {\n",
       "        vertical-align: middle;\n",
       "    }\n",
       "\n",
       "    .dataframe tbody tr th {\n",
       "        vertical-align: top;\n",
       "    }\n",
       "\n",
       "    .dataframe thead th {\n",
       "        text-align: right;\n",
       "    }\n",
       "</style>\n",
       "<table border=\"1\" class=\"dataframe\">\n",
       "  <thead>\n",
       "    <tr style=\"text-align: right;\">\n",
       "      <th></th>\n",
       "      <th>count</th>\n",
       "      <th>mean</th>\n",
       "      <th>std</th>\n",
       "      <th>min</th>\n",
       "      <th>25%</th>\n",
       "      <th>50%</th>\n",
       "      <th>75%</th>\n",
       "      <th>max</th>\n",
       "    </tr>\n",
       "    <tr>\n",
       "      <th>genre</th>\n",
       "      <th></th>\n",
       "      <th></th>\n",
       "      <th></th>\n",
       "      <th></th>\n",
       "      <th></th>\n",
       "      <th></th>\n",
       "      <th></th>\n",
       "      <th></th>\n",
       "    </tr>\n",
       "  </thead>\n",
       "  <tbody>\n",
       "    <tr>\n",
       "      <th>Shooter</th>\n",
       "      <td>128.0</td>\n",
       "      <td>1.335469</td>\n",
       "      <td>2.050567</td>\n",
       "      <td>0.01</td>\n",
       "      <td>0.1725</td>\n",
       "      <td>0.515</td>\n",
       "      <td>1.6175</td>\n",
       "      <td>14.63</td>\n",
       "    </tr>\n",
       "    <tr>\n",
       "      <th>Sports</th>\n",
       "      <td>161.0</td>\n",
       "      <td>0.680000</td>\n",
       "      <td>1.239736</td>\n",
       "      <td>0.01</td>\n",
       "      <td>0.0600</td>\n",
       "      <td>0.180</td>\n",
       "      <td>0.6400</td>\n",
       "      <td>8.58</td>\n",
       "    </tr>\n",
       "    <tr>\n",
       "      <th>Platform</th>\n",
       "      <td>38.0</td>\n",
       "      <td>0.476053</td>\n",
       "      <td>0.722561</td>\n",
       "      <td>0.01</td>\n",
       "      <td>0.0625</td>\n",
       "      <td>0.140</td>\n",
       "      <td>0.4675</td>\n",
       "      <td>3.21</td>\n",
       "    </tr>\n",
       "    <tr>\n",
       "      <th>Fighting</th>\n",
       "      <td>60.0</td>\n",
       "      <td>0.470333</td>\n",
       "      <td>1.188053</td>\n",
       "      <td>0.01</td>\n",
       "      <td>0.0600</td>\n",
       "      <td>0.125</td>\n",
       "      <td>0.3200</td>\n",
       "      <td>7.55</td>\n",
       "    </tr>\n",
       "    <tr>\n",
       "      <th>Role-Playing</th>\n",
       "      <td>221.0</td>\n",
       "      <td>0.459005</td>\n",
       "      <td>1.177284</td>\n",
       "      <td>0.01</td>\n",
       "      <td>0.0500</td>\n",
       "      <td>0.110</td>\n",
       "      <td>0.3600</td>\n",
       "      <td>11.68</td>\n",
       "    </tr>\n",
       "    <tr>\n",
       "      <th>Simulation</th>\n",
       "      <td>44.0</td>\n",
       "      <td>0.298409</td>\n",
       "      <td>0.646925</td>\n",
       "      <td>0.01</td>\n",
       "      <td>0.0200</td>\n",
       "      <td>0.100</td>\n",
       "      <td>0.3275</td>\n",
       "      <td>3.05</td>\n",
       "    </tr>\n",
       "    <tr>\n",
       "      <th>Action</th>\n",
       "      <td>620.0</td>\n",
       "      <td>0.322113</td>\n",
       "      <td>0.797537</td>\n",
       "      <td>0.01</td>\n",
       "      <td>0.0300</td>\n",
       "      <td>0.090</td>\n",
       "      <td>0.2800</td>\n",
       "      <td>12.62</td>\n",
       "    </tr>\n",
       "    <tr>\n",
       "      <th>Misc</th>\n",
       "      <td>113.0</td>\n",
       "      <td>0.332301</td>\n",
       "      <td>0.736999</td>\n",
       "      <td>0.01</td>\n",
       "      <td>0.0300</td>\n",
       "      <td>0.090</td>\n",
       "      <td>0.3200</td>\n",
       "      <td>5.27</td>\n",
       "    </tr>\n",
       "    <tr>\n",
       "      <th>Racing</th>\n",
       "      <td>69.0</td>\n",
       "      <td>0.398841</td>\n",
       "      <td>0.963716</td>\n",
       "      <td>0.01</td>\n",
       "      <td>0.0300</td>\n",
       "      <td>0.090</td>\n",
       "      <td>0.2500</td>\n",
       "      <td>7.09</td>\n",
       "    </tr>\n",
       "    <tr>\n",
       "      <th>Strategy</th>\n",
       "      <td>37.0</td>\n",
       "      <td>0.107027</td>\n",
       "      <td>0.118412</td>\n",
       "      <td>0.01</td>\n",
       "      <td>0.0300</td>\n",
       "      <td>0.060</td>\n",
       "      <td>0.1400</td>\n",
       "      <td>0.52</td>\n",
       "    </tr>\n",
       "    <tr>\n",
       "      <th>Puzzle</th>\n",
       "      <td>14.0</td>\n",
       "      <td>0.157857</td>\n",
       "      <td>0.320629</td>\n",
       "      <td>0.01</td>\n",
       "      <td>0.0200</td>\n",
       "      <td>0.045</td>\n",
       "      <td>0.1000</td>\n",
       "      <td>1.19</td>\n",
       "    </tr>\n",
       "    <tr>\n",
       "      <th>Adventure</th>\n",
       "      <td>185.0</td>\n",
       "      <td>0.094865</td>\n",
       "      <td>0.203147</td>\n",
       "      <td>0.01</td>\n",
       "      <td>0.0200</td>\n",
       "      <td>0.030</td>\n",
       "      <td>0.0800</td>\n",
       "      <td>1.66</td>\n",
       "    </tr>\n",
       "  </tbody>\n",
       "</table>\n",
       "</div>"
      ],
      "text/plain": [
       "              count      mean       std   min     25%    50%     75%    max\n",
       "genre                                                                      \n",
       "Shooter       128.0  1.335469  2.050567  0.01  0.1725  0.515  1.6175  14.63\n",
       "Sports        161.0  0.680000  1.239736  0.01  0.0600  0.180  0.6400   8.58\n",
       "Platform       38.0  0.476053  0.722561  0.01  0.0625  0.140  0.4675   3.21\n",
       "Fighting       60.0  0.470333  1.188053  0.01  0.0600  0.125  0.3200   7.55\n",
       "Role-Playing  221.0  0.459005  1.177284  0.01  0.0500  0.110  0.3600  11.68\n",
       "Simulation     44.0  0.298409  0.646925  0.01  0.0200  0.100  0.3275   3.05\n",
       "Action        620.0  0.322113  0.797537  0.01  0.0300  0.090  0.2800  12.62\n",
       "Misc          113.0  0.332301  0.736999  0.01  0.0300  0.090  0.3200   5.27\n",
       "Racing         69.0  0.398841  0.963716  0.01  0.0300  0.090  0.2500   7.09\n",
       "Strategy       37.0  0.107027  0.118412  0.01  0.0300  0.060  0.1400   0.52\n",
       "Puzzle         14.0  0.157857  0.320629  0.01  0.0200  0.045  0.1000   1.19\n",
       "Adventure     185.0  0.094865  0.203147  0.01  0.0200  0.030  0.0800   1.66"
      ]
     },
     "execution_count": 49,
     "metadata": {},
     "output_type": "execute_result"
    }
   ],
   "source": [
    "data_games.groupby('genre')['total_sales'].describe().sort_values(by='50%', ascending=False)"
   ]
  },
  {
   "cell_type": "markdown",
   "metadata": {},
   "source": [
    "<u>**Вывод:**</u> безусловным лидером по продажам является жанр **Асtion** (жанр компьютерных игр, в котором делается упор на эксплуатацию физических возможностей игрока, таких как зрительно-моторная координация и скорость реакции), за период с 2014 по 2016 г. было продано 199,71 млн. копий. В топ-5 также входят следующие жанры:\n",
    "\n",
    "* **Shooter** (жанр компьютерных игр, в которых игровой процесс основывается на сражениях с использованием огнестрельного или любого другого оружия) - продано 170,94 млн. копий;\n",
    "* **Sports** (спортивный симулятор) - продано 109,48 млн. копий;\n",
    "* **Role-Playing** (жанр компьютерных игр, в котором игрок управляет одним или несколькими персонажами, каждый из которых описан набором численных характеристик, списком способностей и умений) - продано 101,44 млн. копий;\n",
    "* **Misc** (оъединяет в себе несколько жанров) - продано 37,55 млн. копий.\n",
    "\n",
    "На графике хорошо видно, что **выделяются жанры с самыми высокими продажами**.\n",
    "\n",
    "Если мы рассматриваем жанры по количеству выпущенных игр, то тут также лидирует жанр **Асtion** (жанр компьютерных игр, в котором делается упор на эксплуатацию физических возможностей игрока, таких как зрительно-моторная координация и скорость реакции), за период с 2014 по 2016 г. была выпущена 620 игр. С остальным топ-5 ситуация иная:\n",
    "\n",
    "* **Role-Playing** (жанр компьютерных игр, в котором игрок управляет одним или несколькими персонажами, каждый из которых описан набором численных характеристик, списком способностей и умений) - выпущено 221 игра;\n",
    "* **Adventure** (жанр компьютерных игр, представляющий собой интерактивную историю с главным героем, управляемым игроком) - выпущено 185 игр;\n",
    "* **Sports** (спортивный симулятор) - выпущено 161 игра.;\n",
    "* **Shooter** - выпущено 128 игр.\n",
    "\n",
    "<u>Наибольшие медианные продажи (2014-2016 гг.) наблюдаются у жанров:</u>\n",
    "\n",
    "* **Shooter** (жанр компьютерных игр, в которых игровой процесс основывается на сражениях с использованием огнестрельного или любого другого оружия)\n",
    "* **Sports** (спортивный симулятор)\n",
    "* **Platform** (жанр компьютерных игр, в которых основу игрового процесса составляют прыжки по платформам, лазанье по лестницам, сбор предметов, необходимых для победы над врагами или завершения уровня)\n",
    "* **Fighting** (жанр компьютерных игр, имитирующих рукопашный бой малого числа персонажей в пределах ограниченного пространства, называемого ареной)\n",
    "* **Role-Playing** (жанр компьютерных игр, в котором игрок управляет одним или несколькими персонажами, каждый из которых описан набором численных характеристик, списком способностей и умений)\n",
    "\n",
    "<u>Наименьшие медианные продажи (2014-2016 гг.) наблюдаются у жанров:</u>\n",
    "\n",
    "* **Adventure** (жанр компьютерных игр, представляющий собой интерактивную историю с главным героем, управляемым игроком)\n",
    "* **Puzzle** (жанр компьютерных игр, целью которых является решение логических задач, требующих от игрока задействования логики, стратегии и интуиции)\n",
    "* **Strategy** (жанр компьютерных игр, в котором игроку для победы необходимо применять стратегическое мышление)\n",
    "* **Racing** (гонки)\n",
    "* **Misc** (оъединяет в себе несколько жанров)\n",
    " \n",
    "Таким образом, мы можем констатировать, что самым прибыльным жанром является жанр **Shooter**, а самым убыточным - **Adventure**."
   ]
  },
  {
   "cell_type": "markdown",
   "metadata": {},
   "source": [
    "<a id=\"research_results\"></a>\n",
    "### <u>**Результаты исследовательского анализа данных**</u>"
   ]
  },
  {
   "cell_type": "markdown",
   "metadata": {},
   "source": [
    "1. Данные по рынку компьютерных игр разделили на **3 периода**: **(1) \"до 1994 года\"**, **(2) \"с 1994 по 2011 год\"** и **(3) \"после 2011 года\"**. Описаны все происходящие изменения в каждом периоде."
   ]
  },
  {
   "cell_type": "markdown",
   "metadata": {},
   "source": [
    "2. Самые популярные платформы с 1980 по 2016 г. **(топ-5)**:\n",
    "\n",
    "   * **PS2** (1 255,77 млн. проданных копий) - дата выхода: **2000 год**;\n",
    "   * **X360** (971,42 млн. проданных копий) - дата выхода: **2005 год**;\n",
    "   * **PS3** (939,65 млн. проданных копий) - дата выхода: **2006 год**;\n",
    "   * **Wii** (907,51 млн. проданных копий) - дата выхода: **2006 год**;\n",
    "   * **DS** (806,12 млн. проданных копий) - дата выхода: **2004 год**;"
   ]
  },
  {
   "cell_type": "markdown",
   "metadata": {},
   "source": [
    "3. Срок жизни каждой из платформ составляет примерно **9-10 лет**;"
   ]
  },
  {
   "cell_type": "markdown",
   "metadata": {},
   "source": [
    "4. Актуальный периодом был выбран **период с 2014 по 2016 год**;"
   ]
  },
  {
   "cell_type": "markdown",
   "metadata": {},
   "source": [
    "5. В 2014-2016 гг. наблюдается общая тенденция снижения продаж, и в 2016 году такое снижения произошло по всем платформам. Потенциально прибыльными можно считать только 3 платформы:\n",
    "\n",
    "   * **PS4** (на 2016 год 69,25 млн. проданных копий) - дата выхода: **2013 год**, предполагаемый \"срок жизни\": **до 2022-2023 г.**\n",
    "   * **XOne** (на 2016 год 26,15 млн. проданных копий) - дата выхода: **2013 год**, предполагаемый \"срок жизни\": **до 2022-2023 г.**\n",
    "   * **3DS** (на 2016 год 15,14 млн. проданных копий) - дата выхода: **2011 год**, предполагаемый \"срок жизни\": **до 2020-2021 г.**"
   ]
  },
  {
   "cell_type": "markdown",
   "metadata": {},
   "source": [
    "6. Наибольшие медианные продажи (2014-2016 гг.) наблюдаются у платформ:\n",
    "\n",
    "   * **XOne**\n",
    "   * **WiiU**\n",
    "   * **PS4**"
   ]
  },
  {
   "cell_type": "markdown",
   "metadata": {},
   "source": [
    "7. Наименьшие медианные продажи (2014-2016 гг.) демонстрируют платформы:\n",
    "\n",
    "   * **PSP**\n",
    "   * **PSV**\n",
    "   * **PC** (Персональный компьютер)"
   ]
  },
  {
   "cell_type": "markdown",
   "metadata": {},
   "source": [
    "8. В целом по всем платформам за период с 2014 по 2016 г. прослеживается слабая прямая связь между оценкой критиков и продажами, т.е. **оценка критиков - это один из факторов, влияющих на увличение продаж игр**, чего не скажешь об оценках пользователей. Исключением стала платформа WiiU, где оценка пользователей более значима, чем оценка критиков, здесь также прослеживается слабая прямая связь."
   ]
  },
  {
   "cell_type": "markdown",
   "metadata": {},
   "source": [
    "9. Жанры-лидеры по продажам за период с 2014 по 2016 г.:\n",
    "\n",
    "   * **Асtion** - продано 199,71 млн. копий;\n",
    "   * **Shooter** - продано 170,94 млн. копий;\n",
    "   * **Sports** - продано 109,48 млн. копий;\n",
    "   * **Role-Playing** - продано 101,44 млн. копий;\n",
    "   * **Misc** - продано 37,55 млн. копий."
   ]
  },
  {
   "cell_type": "markdown",
   "metadata": {},
   "source": [
    "\n",
    "10. Жанры-лидеры по количеству выпущенных игр за период с 2014 по 2016 г.: \n",
    "\n",
    "    * **Асtion** - выпущено 620 игр;\n",
    "    * **Role-Playing** - выпущена 221 игра;\n",
    "    * **Adventure** - выпущено 185 игр;\n",
    "    * **Sports** - выпущена 161 игра.;\n",
    "    * **Shooter** - выпущено 128 игр."
   ]
  },
  {
   "cell_type": "markdown",
   "metadata": {},
   "source": [
    "11. Наибольшие медианные продажи (2014-2016 гг.) наблюдаются у жанров:\n",
    "\n",
    "    * **Shooter**\n",
    "    * **Sports** \n",
    "    * **Platform**\n",
    "    * **Fighting**\n",
    "    * **Role-Playing**"
   ]
  },
  {
   "cell_type": "markdown",
   "metadata": {},
   "source": [
    "12. Наименьшие медианные продажи (2014-2016 гг.) наблюдаются у жанров:\n",
    "\n",
    "    * **Adventure**\n",
    "    * **Puzzle**\n",
    "    * **Strategy**\n",
    "    * **Racing**\n",
    "    * **Misc**"
   ]
  },
  {
   "cell_type": "markdown",
   "metadata": {},
   "source": [
    "13. Cамый прибыльный жанр - **Shooter**, а самый убыточный - **Adventure**."
   ]
  },
  {
   "cell_type": "markdown",
   "metadata": {},
   "source": [
    "## Шаг 4. Портрет пользователя каждого региона (NA, EU, JP)"
   ]
  },
  {
   "cell_type": "markdown",
   "metadata": {},
   "source": [
    "<a id=\"top_platforms\"></a>\n",
    "### 4.1 Самые популярные платформы в регионах"
   ]
  },
  {
   "cell_type": "code",
   "execution_count": 50,
   "metadata": {},
   "outputs": [],
   "source": [
    "# функция для формирования графиков\n",
    "\n",
    "def top_region_sales(groupby, region_sales, ax):\n",
    "    pivot = data_games.groupby(groupby).agg({region_sales: 'sum'}).sort_values(by=region_sales, ascending=False)[:5]\n",
    "    region = {'na_sales': 'North America', 'eu_sales': 'Europe', 'jp_sales': 'Japan'}\n",
    "    color = {'na_sales': 'green', 'eu_sales': 'darkblue', 'jp_sales': 'darkred'}\n",
    "    plot = pivot.plot(kind='bar',\n",
    "                      title=region[region_sales],\n",
    "                      ax=axes[ax], \n",
    "                      color=color[region_sales], \n",
    "                      rot=0)\n",
    "    plot.grid(alpha=0.5)\n",
    "    plot.legend()\n",
    "    plot.set_xlabel('Название платформы')\n",
    "    plot.set_ylabel('Продажи')    "
   ]
  },
  {
   "cell_type": "code",
   "execution_count": 51,
   "metadata": {},
   "outputs": [
    {
     "data": {
      "image/png": "[encoded data removed]",
      "text/plain": [
       "<Figure size 2160x432 with 3 Axes>"
      ]
     },
     "metadata": {
      "needs_background": "light"
     },
     "output_type": "display_data"
    }
   ],
   "source": [
    "fig, axes = plt.subplots(1, 3, figsize=(30,6))\n",
    "\n",
    "\n",
    "top_region_sales('platform', 'na_sales', 0)\n",
    "top_region_sales('platform', 'eu_sales', 1)\n",
    "top_region_sales('platform', 'jp_sales', 2)"
   ]
  },
  {
   "cell_type": "markdown",
   "metadata": {},
   "source": [
    "<u>**Вывод:**</u> Самые популярные платформы (топ-5) за период с 2014 по 2016 г.:\n",
    "\n",
    "* Северная Америка (NA):\n",
    "\n",
    "  * **PS4**\n",
    "  * **XOne**\n",
    "  * **X360**\n",
    "  * **3DS**\n",
    "  * **PS3**"
   ]
  },
  {
   "cell_type": "markdown",
   "metadata": {},
   "source": [
    "* Европа (EU):\n",
    "\n",
    "  * **PS4**\n",
    "  * **XOne**\n",
    "  * **PS3**\n",
    "  * **PC** (Персональный компьютер)\n",
    "  * **3DS**"
   ]
  },
  {
   "cell_type": "markdown",
   "metadata": {},
   "source": [
    "* Япония (JP):\n",
    "\n",
    "  * **3DS**\n",
    "  * **PS4**\n",
    "  * **PSV**\n",
    "  * **PS3**\n",
    "  * **WiUU**"
   ]
  },
  {
   "cell_type": "markdown",
   "metadata": {},
   "source": [
    "Полученные результаты дают нам понять, что в Северной Америке и Европе предпочитают практические одни и те же платформы, однако в Европе многие играют в игры на персональном компбютере. Но в Японии совершенно другая ситуация. Японцы, по всей видимости, отдают предпочтение только приставкам собственного производства, в топ-5 не представлена ни одна платформа американской компании Xbox. Кроме того, 3-е место по популярности занимает портативная приставка PSV. Все это даёт нам право утверждать, что японский рынок игр является уникальным."
   ]
  },
  {
   "cell_type": "markdown",
   "metadata": {},
   "source": [
    "<a id=\"top_genres\"></a>\n",
    "### 4.2 Самые популярные жанры в регионах"
   ]
  },
  {
   "cell_type": "code",
   "execution_count": 52,
   "metadata": {},
   "outputs": [],
   "source": [
    "# функция для формирования графиков\n",
    "\n",
    "def top_region_sales(groupby, region_sales, ax):\n",
    "    pivot = data_games.groupby(groupby).agg({region_sales: 'sum'}).sort_values(by=region_sales, ascending=False)[:5]\n",
    "    region = {'na_sales': 'North America', 'eu_sales': 'Europe', 'jp_sales': 'Japan'}\n",
    "    color = {'na_sales': 'green', 'eu_sales': 'darkblue', 'jp_sales': 'darkred'}\n",
    "    plot = pivot.plot(kind='bar',\n",
    "                      title=region[region_sales],\n",
    "                      ax=axes[ax], \n",
    "                      color=color[region_sales], \n",
    "                      rot=0)\n",
    "    plot.grid(alpha=0.5)\n",
    "    plot.legend()\n",
    "    plot.set_xlabel('Название жанра')\n",
    "    plot.set_ylabel('Продажи')    "
   ]
  },
  {
   "cell_type": "code",
   "execution_count": 53,
   "metadata": {},
   "outputs": [
    {
     "data": {
      "image/png": "[encoded data removed]",
      "text/plain": [
       "<Figure size 2160x432 with 3 Axes>"
      ]
     },
     "metadata": {
      "needs_background": "light"
     },
     "output_type": "display_data"
    }
   ],
   "source": [
    "fig, axes = plt.subplots(1, 3, figsize=(30,6))\n",
    "\n",
    "top_region_sales('genre', 'na_sales', 0)\n",
    "top_region_sales('genre', 'eu_sales', 1)\n",
    "top_region_sales('genre', 'jp_sales', 2)"
   ]
  },
  {
   "cell_type": "markdown",
   "metadata": {},
   "source": [
    "<u>**Вывод:**</u> и в Северной Америке и в Европе предпочтения по жанрам практически совпадают, однако в Европе любят игры жанра **Racing** (гонки), в то время как американцы больше играют в игры, объединяющие в себе несколько жанров (**Misc**). Японцы, как и в случае с платформами, показали совсем иной результат. В Японии геймеры больше всего играют в игры жанра **Role-Playing**, а также предпочитают жанр **Fighting** (жанр компьютерных игр, имитирующих рукопашный бой малого числа персонажей в пределах ограниченного пространства, называемого ареной)."
   ]
  },
  {
   "cell_type": "markdown",
   "metadata": {},
   "source": [
    "<a id=\"rating\"></a>\n",
    "### 4.3 Влияние рейтинга ESRB на продажи"
   ]
  },
  {
   "cell_type": "markdown",
   "metadata": {},
   "source": [
    "Для начала проясним, что такое ERSB."
   ]
  },
  {
   "cell_type": "markdown",
   "metadata": {},
   "source": [
    "ESRB (Entertainment Software Rating Board) — это ассоциация, определяющая возрастной рейтинг компьютерных игр. ESRB оценивает игровой контент и присваивает ему подходящую возрастную категорию.\n",
    "\n",
    "Категории в наших данных:\n",
    "\n",
    "* **`M`** - для детей от 17 лет и старше;\n",
    "* **`E`** - для детей всех возрастов;\n",
    "* **`E10+`** - для детей от 10 лет и старше;\n",
    "* **`T`** - для детей от 13 лет и старше"
   ]
  },
  {
   "cell_type": "code",
   "execution_count": 54,
   "metadata": {},
   "outputs": [
    {
     "data": {
      "text/plain": [
       "array(['no info', 'M', 'E', 'T', 'E10+'], dtype=object)"
      ]
     },
     "execution_count": 54,
     "metadata": {},
     "output_type": "execute_result"
    }
   ],
   "source": [
    "data_games['rating'].unique()"
   ]
  },
  {
   "cell_type": "markdown",
   "metadata": {},
   "source": [
    "Теперь узнаем от игр, с каким рейтингом, было полученое большее количество выручки:"
   ]
  },
  {
   "cell_type": "code",
   "execution_count": 55,
   "metadata": {},
   "outputs": [],
   "source": [
    "# функция для формирования графиков\n",
    "\n",
    "def top_region_sales(groupby, region_sales, ax):\n",
    "    pivot = data_games.groupby(groupby).agg({region_sales: 'sum'}).sort_values(by=region_sales, ascending=False)[:5]\n",
    "    region = {'na_sales': 'North America', 'eu_sales': 'Europe', 'jp_sales': 'Japan'}\n",
    "    color = {'na_sales': 'green', 'eu_sales': 'darkblue', 'jp_sales': 'darkred'}\n",
    "    plot = pivot.plot(kind='bar',\n",
    "                      title=region[region_sales],\n",
    "                      ax=axes[ax], \n",
    "                      color=color[region_sales], \n",
    "                      rot=0)\n",
    "    plot.grid(alpha=0.5)\n",
    "    plot.legend()\n",
    "    plot.set_xlabel('Рейтинг ESRB')\n",
    "    plot.set_ylabel('Продажи')    "
   ]
  },
  {
   "cell_type": "code",
   "execution_count": 56,
   "metadata": {},
   "outputs": [
    {
     "data": {
      "image/png": "[encoded data removed]",
      "text/plain": [
       "<Figure size 2160x432 with 3 Axes>"
      ]
     },
     "metadata": {
      "needs_background": "light"
     },
     "output_type": "display_data"
    }
   ],
   "source": [
    "fig, axes = plt.subplots(1, 3, figsize=(30,6))\n",
    "\n",
    "top_region_sales('rating', 'na_sales', 0)\n",
    "top_region_sales('rating', 'eu_sales', 1)\n",
    "top_region_sales('rating', 'jp_sales', 2)"
   ]
  },
  {
   "cell_type": "markdown",
   "metadata": {},
   "source": [
    "<u>**Вывод:**</u> в Северной Америке и в Европе картина полностью совпадает: большая часть продаж пришлась на игры с рейтингом **`M` - для детей от 17 лет и старше**, меньшая часть - на игры с рейтингом **`E10+` - для детей от 10 лет и старше**. В Японии самая крупная доля приходится на игры, где не указана информация о рейтинге. Возможно, так получилось из-за того, что японским играм в большинстве своём присваивает возрастной рейтинг организация CERO (Computer Entertainment Rating Organization), имеющая свою собственную систему оценки."
   ]
  },
  {
   "cell_type": "markdown",
   "metadata": {},
   "source": [
    "## Шаг 5. Проверка гипотез"
   ]
  },
  {
   "cell_type": "markdown",
   "metadata": {},
   "source": [
    "### Гипотеза № 1"
   ]
  },
  {
   "cell_type": "markdown",
   "metadata": {},
   "source": [
    "<u>**Вопрос заказчика**</u>: Явлвяются ли средние пользовательские рейтинги платформ Xbox One и PC одинаковыми?"
   ]
  },
  {
   "cell_type": "markdown",
   "metadata": {},
   "source": [
    "**Проверка гипотезы:** средние пользовательские рейтинги платформ Xbox One и PC являются одинаковыми."
   ]
  },
  {
   "cell_type": "markdown",
   "metadata": {},
   "source": [
    "---\n",
    "**H_0:** Средние пользовательские рейтинги (`user_score`) платформ Xbox One и PC одинаковые."
   ]
  },
  {
   "cell_type": "markdown",
   "metadata": {},
   "source": [
    "**H_1:** Средние пользовательские рейтинги (`user_score`) платформ Xbox One и PC различаются."
   ]
  },
  {
   "cell_type": "markdown",
   "metadata": {},
   "source": [
    "---\n",
    "**alpha = 0.05**"
   ]
  },
  {
   "cell_type": "code",
   "execution_count": 57,
   "metadata": {
    "tags": []
   },
   "outputs": [
    {
     "name": "stdout",
     "output_type": "stream",
     "text": [
      "p-значение: 0.1269024252036148\n",
      "Не получилось отвергнуть нулевую гипотезу\n"
     ]
    }
   ],
   "source": [
    "rating_xbox_one = data_games[data_games['platform'] == \"XOne\"]['user_score'].dropna()\n",
    "rating_pc = data_games[data_games['platform'] == \"PC\"]['user_score'].dropna()\n",
    "\n",
    "# проводим ttest для двух выборок, добавляем дополнительный праметр\n",
    "# equal_var = True, который будет считать дисперсии выборок равными\n",
    "\n",
    "results = st.ttest_ind(rating_xbox_one, \n",
    "                       rating_pc,\n",
    "                       equal_var = True)\n",
    "\n",
    "# зададим уровень статистической значимости\n",
    "\n",
    "alpha = 0.05\n",
    "\n",
    "# выведем на экран полученное p-значение\n",
    "\n",
    "print('p-значение:', results.pvalue)\n",
    "\n",
    "if results.pvalue < alpha:\n",
    "    print('Отвергаем нулевую гипотезу')\n",
    "else:\n",
    "    print('Не получилось отвергнуть нулевую гипотезу')"
   ]
  },
  {
   "cell_type": "markdown",
   "metadata": {},
   "source": [
    "<u>**Вывод:**</u> не получилось отвергнуть нулевую гипотезу => **средние пользовательские рейтинги платформ Xbox One и PC одинаковые**."
   ]
  },
  {
   "cell_type": "markdown",
   "metadata": {},
   "source": [
    "### Гипотеза № 2"
   ]
  },
  {
   "cell_type": "markdown",
   "metadata": {},
   "source": [
    "<u>**Вопрос заказчика**</u>: Явлвяются ли средние пользовательские рейтинги жанров Action и Sports разными?"
   ]
  },
  {
   "cell_type": "markdown",
   "metadata": {},
   "source": [
    "**Проверка гипотезы:** Средние пользовательские рейтинги жанров Action и Sports являются разными."
   ]
  },
  {
   "cell_type": "markdown",
   "metadata": {},
   "source": [
    "---\n",
    "**H_0:** Средние пользовательские рейтинги (`user_score`) жанров Action и Sports одинаковые."
   ]
  },
  {
   "cell_type": "markdown",
   "metadata": {},
   "source": [
    "**H_1:** Средние пользовательские рейтинги (`user_score`) жанров Action и Sports различаются."
   ]
  },
  {
   "cell_type": "markdown",
   "metadata": {},
   "source": [
    "---\n",
    "**alpha = 0.05**"
   ]
  },
  {
   "cell_type": "code",
   "execution_count": 58,
   "metadata": {
    "tags": []
   },
   "outputs": [
    {
     "name": "stdout",
     "output_type": "stream",
     "text": [
      "p-значение: 9.658176026869598e-15\n",
      "Отвергаем нулевую гипотезу\n"
     ]
    }
   ],
   "source": [
    "rating_action = data_games[data_games['genre'] == \"Action\"]['user_score'].dropna()\n",
    "rating_sports = data_games[data_games['genre'] == \"Sports\"]['user_score'].dropna()\n",
    "\n",
    "# проводим ttest для двух выборок, добавляем дополнительный праметр\n",
    "# equal_var = False, который НЕ будет считать дисперсии выборок равными\n",
    "\n",
    "results = st.ttest_ind(rating_action, \n",
    "                       rating_sports,\n",
    "                       equal_var = False)\n",
    "\n",
    "# зададим уровень статистической значимости\n",
    "\n",
    "alpha = 0.05\n",
    "\n",
    "# выведем на экран полученное p-значение\n",
    "\n",
    "print('p-значение:', results.pvalue)\n",
    "\n",
    "if results.pvalue < alpha:\n",
    "    print('Отвергаем нулевую гипотезу')\n",
    "else:\n",
    "    print('Не получилось отвергнуть нулевую гипотезу')"
   ]
  },
  {
   "cell_type": "markdown",
   "metadata": {},
   "source": [
    "<u>**Вывод:**</u> отвергаем нулевую гипотезу => **средние пользовательские рейтинги жанров Action и Sports различаются.**"
   ]
  },
  {
   "cell_type": "markdown",
   "metadata": {},
   "source": [
    "## Общий вывод"
   ]
  },
  {
   "cell_type": "markdown",
   "metadata": {},
   "source": [
    "Для заказчика было проведено исследование исторических данных о продажах игр, оценках пользователей и экспертов, жанрах и платформах с 1980 по 2016 года. Цель исследования заключалась в следующем: выявить определяющие успешность игры закономерности для планирования рекламных кампаний.\n",
    "\n",
    "Для анализа заказчик предоставил файл в CSV-формате. В файле были представлены следующие данные:"
   ]
  },
  {
   "cell_type": "markdown",
   "metadata": {},
   "source": [
    "* **`Name`** — название игры;\n",
    "* **`Platform`** — платформа;\n",
    "* **`Year_of_Release`** — год выпуска;\n",
    "* **`Genre`** — жанр игры;\n",
    "* **`NA_sales`** — продажи в Северной Америке (миллионы проданных копий);\n",
    "* **`EU_sales`** — продажи в Европе (миллионы проданных копий);\n",
    "* **`JP_sales`** — продажи в Японии (миллионы проданных копий);\n",
    "* **`Other_sales`** — продажи в других странах (миллионы проданных копий);\n",
    "* **`Critic_Score`** — оценка критиков (максимум 100);\n",
    "* **`User_Score`** — оценка пользователей (максимум 10);\n",
    "* **`Rating`** — рейтинг от организации ESRB (англ. Entertainment Software Rating Board). Эта ассоциация определяет рейтинг компьютерных игр и присваивает им подходящую возрастную категорию."
   ]
  },
  {
   "cell_type": "markdown",
   "metadata": {},
   "source": [
    "---\n",
    "Сначала был проведён первичный анализ данных, где были выявлены проблемы в виде пропущенных значений и несоответствия типа данных столбцов описанию из документации. Подробнее см. **[Результаты и выявленные проблемы первичного анализа данных](#first_results)**."
   ]
  },
  {
   "cell_type": "markdown",
   "metadata": {},
   "source": [
    "---\n",
    "Затем проведена предобработка данных, после которой стало возможным использовать датафрейм для исследовательского анализа. Подробнее см. **[Результаты предобработки данных](#preprocessing_results)**."
   ]
  },
  {
   "cell_type": "markdown",
   "metadata": {},
   "source": [
    "---\n",
    "На этапе исследовательского анализа сначала были изучены данные **за 37 лет с 1980 по 2016 г.**, где мы узнали количество выпущенных игр за все годы и продажи по платформам, а также определили срок жизни каждой из платформ, который составляет примерно **9-10 лет**. После этого в качестве актуального периода был выбран **период с 2014 по 2016 год** (причины выбора описаны в **[разделе 3.2](#actual_period)**). Данные за это время были использованы для оновного анализа, результаты которого представлены ниже:"
   ]
  },
  {
   "cell_type": "markdown",
   "metadata": {},
   "source": [
    "1. В 2014-2016 гг. наблюдается общая тенденция снижения продаж, и в 2016 году такое снижения произошло по всем платформам. Потенциально прибыльными можно считать только 3 платформы:\n",
    "\n",
    "   * **PS4** (на 2016 год 69,25 млн. проданных копий) - дата выхода: **2013 год**, предполагаемый \"срок жизни\": **до 2022-2023 г.**\n",
    "   * **XOne** (на 2016 год 26,15 млн. проданных копий) - дата выхода: **2013 год**, предполагаемый \"срок жизни\": **до 2022-2023 г.**\n",
    "   * **3DS** (на 2016 год 15,14 млн. проданных копий) - дата выхода: **2011 год**, предполагаемый \"срок жизни\": **до 2020-2021 г.**"
   ]
  },
  {
   "cell_type": "markdown",
   "metadata": {},
   "source": [
    "2. Наибольшие медианные продажи (2014-2016 гг.) наблюдаются у платформ:\n",
    "\n",
    "   * **XOne**\n",
    "   * **WiiU**\n",
    "   * **PS4**"
   ]
  },
  {
   "cell_type": "markdown",
   "metadata": {},
   "source": [
    "3. Наименьшие медианные продажи (2014-2016 гг.) демонстрируют платформы:\n",
    "\n",
    "   * **PSP**\n",
    "   * **PSV**\n",
    "   * **PC** (Персональный компьютер)"
   ]
  },
  {
   "cell_type": "markdown",
   "metadata": {},
   "source": [
    "4. В целом по всем платформам за период с 2014 по 2016 г. прослеживается слабая прямая связь между оценкой критиков и продажами, т.е. **оценка критиков - это один из факторов, влияющих на увличение продаж игр**, чего не скажешь об оценках пользователей. Исключением стала платформа WiiU, где оценка пользователей равнозначна оценке критиков, здесь также прослеживается слабая прямая связь."
   ]
  },
  {
   "cell_type": "markdown",
   "metadata": {},
   "source": [
    "5. Жанры-лидеры по продажам за период с 2014 по 2016 г.:\n",
    "\n",
    "   * **Асtion** - продано 199,71 млн. копий;\n",
    "   * **Shooter** - продано 170,94 млн. копий;\n",
    "   * **Sports** - продано 109,48 млн. копий;\n",
    "   * **Role-Playing** - продано 101,44 млн. копий;\n",
    "   * **Misc** - продано 37,55 млн. копий."
   ]
  },
  {
   "cell_type": "markdown",
   "metadata": {},
   "source": [
    "\n",
    "6. Жанры-лидеры по количеству выпущенных игр за период с 2014 по 2016 г.: \n",
    "\n",
    "    * **Асtion** - выпущено 620 игр;\n",
    "    * **Role-Playing** - выпущена 221 игра;\n",
    "    * **Adventure** - выпущено 185 игр;\n",
    "    * **Sports** - выпущена 161 игра.;\n",
    "    * **Shooter** - выпущено 128 игр."
   ]
  },
  {
   "cell_type": "markdown",
   "metadata": {},
   "source": [
    "7. Наибольшие медианные продажи (2014-2016 гг.) наблюдаются у жанров:\n",
    "\n",
    "    * **Shooter**\n",
    "    * **Sports** \n",
    "    * **Platform**\n",
    "    * **Fighting**\n",
    "    * **Role-Playing**"
   ]
  },
  {
   "cell_type": "markdown",
   "metadata": {},
   "source": [
    "8. Наименьшие медианные продажи (2014-2016 гг.) наблюдаются у жанров:\n",
    "\n",
    "    * **Adventure**\n",
    "    * **Puzzle**\n",
    "    * **Strategy**\n",
    "    * **Racing**\n",
    "    * **Misc**"
   ]
  },
  {
   "cell_type": "markdown",
   "metadata": {},
   "source": [
    "9. Cамый прибыльный жанр - **Shooter**, а самый неприбыльный - **Adventure**."
   ]
  },
  {
   "cell_type": "markdown",
   "metadata": {},
   "source": [
    "---\n",
    "Проведено исследование портрета пользователя в 3 регионах:\n",
    "\n",
    "* Северная Америка (NA)\n",
    "* Европа (EU)\n",
    "* Япония (JP)"
   ]
  },
  {
   "cell_type": "markdown",
   "metadata": {},
   "source": [
    "Определены **самые популярные платформы (топ-5)** за период с 2014 по 2016 г. \n",
    "\n",
    "В Северной Америке и Европе предпочитают практические одни и те же платформы, однако в Европе многие играют в игры на персональном компбютере. Но в Японии совершенно другая ситуация. Японцы, по всей видимости, отдают предпочтение только приставкам собственного производства, в топ-5 не представлена ни одна платформа американской компании Xbox. Кроме того, 3-е место по популярности занимает портативная приставка PSV. Все это даёт нам право утверждать, что японский рынок игр является уникальным. Подробнее см. в **[разделе 4.1](#top_platforms)**)."
   ]
  },
  {
   "cell_type": "markdown",
   "metadata": {},
   "source": [
    "Определены **самые популярные жанры игр (топ-5)** за период с 2014 по 2016 г.\n",
    "\n",
    "B в Северной Америке и в Европе предпочтения по жанрам практически совпадают, однако в Европе любят игры жанра **Racing** (гонки), в то время как американцы больше играют в игры, объединяющие в себе несколько жанров (**Misc**). Японцы, как и в случае с платформами, показали совсем иной результат. В Японии геймеры больше всего играют в игры жанра **Role-Playing**, а также предпочитают жанр **Fighting** (жанр компьютерных игр, имитирующих рукопашный бой малого числа персонажей в пределах ограниченного пространства, называемого ареной). Подробнее см. в **[разделе 4.2](#top_genres)**)."
   ]
  },
  {
   "cell_type": "markdown",
   "metadata": {},
   "source": [
    "Определено **влияние рейтинга ESRB на продажи** за период с 2014 по 2016 г.\n",
    "\n",
    "В Северной Америке и в Европе картина полностью совпадает: большая часть продаж пришлось на игры с рейтингом **`M` - для детей от 17 лет и старше**, меньшая часть - на игры с рейтингом **`E10+` - для детей от 10 лет и старше**. В Японии самая крупная доля приходится на игры, где не указана информация о рейтинге. Возможно, так получилось из-за того, что японским играм в большинстве своём присваивает возрастной рейтинг организация CERO (Computer Entertainment Rating Organization), имеющая свою собственную систему оценки. Подробнее см. в **[разделе 4.3](#rating)**)."
   ]
  },
  {
   "cell_type": "markdown",
   "metadata": {},
   "source": [
    "---\n",
    "Проверены гипотезы:"
   ]
  },
  {
   "cell_type": "markdown",
   "metadata": {},
   "source": [
    "**Гипотеза 1:** средние пользовательские рейтинги платформ Xbox One и PC являются одинаковыми."
   ]
  },
  {
   "cell_type": "markdown",
   "metadata": {},
   "source": [
    "<u>**Вывод:**</u> не получилось отвергнуть нулевую гипотезу => **средние пользовательские рейтинги платформ Xbox One и PC одинаковые**."
   ]
  },
  {
   "cell_type": "markdown",
   "metadata": {},
   "source": [
    "**Гипотеза 2:** Средние пользовательские рейтинги жанров Action и Sports являются разными."
   ]
  },
  {
   "cell_type": "markdown",
   "metadata": {},
   "source": [
    "<u>**Вывод:**</u> нулевая гипотеза отвергнута => **средние пользовательские рейтинги жанров Action и Sports различаются.**"
   ]
  },
  {
   "cell_type": "markdown",
   "metadata": {},
   "source": [
    "---\n",
    "**РЕЗУЛЬТИРУЮЩИЙ ВЫВОД:**"
   ]
  },
  {
   "cell_type": "markdown",
   "metadata": {
    "tags": []
   },
   "source": [
    "По результатам исследования можно утверждать, что на конец 2016 года игра будет иметь наибольший успех на мировом рынке, если будут соблюдены следующие факторы:\n",
    "\n",
    "1. Игра выпущена для платформы **PS4** или **XOne**;\n",
    "2. Игра **высоко** оценена критиками;\n",
    "3. Жанр игры: **Shooter**;\n",
    "4. Рейтинг игры по версии американской ассоциации ESRB - **`M` (для детей от 17 лет и старше)**.\n",
    "\n",
    "Выпуск игры принесёт наибольшие убытки станет, если:\n",
    "\n",
    "1. Игра выпущена для портативной приставки **PSP**;\n",
    "2. Игра **низко** оценена критиками;\n",
    "3. Жанр игры: **Adventure**;\n",
    "4. Рейтинг игры по версии американской ассоциации ESRB - **`E10+` - для детей от 10 лет и старше**.\n",
    "\n",
    "Таким образом, рынку компьютерных игр следует ориентироваться на новейшие стационарные платформы с широкими игровыми возможносятми. Портативные приставки доживают свои последние годы, и в ближайшем будущем они будут полностью вытеснены смартфонами и планшетами. Не стоит делать ставку на современных детей и подростков, так как у текущего поколения интересы меняются с небывалой ранее скоростью, и их довольно сложно привлечь на долгое время. С молодыми людьми старше 18 лет дела обстоят по-другому, для многих из них видеоигра - это один из способов проведения досуга. Большой популярностью среди данной группы людей пользуются так называемые \"стрелялки\", поэтому очень важно обращать внимание именно на этот жанр. Игра должна быть высококачественным продуктом, который пользователи захоят приобрести, и который будет не только отвечать современным тенденциям, но и будет сам задавать тренды.\n",
    "\n",
    "Данные факторы следует учесть при планировании рекламных компаний."
   ]
  }
 ],
 "metadata": {
  "ExecuteTimeLog": [
   {
    "duration": 1402,
    "start_time": "2023-11-28T10:54:08.104Z"
   },
   {
    "duration": 3,
    "start_time": "2023-11-28T10:54:09.509Z"
   },
   {
    "duration": 181,
    "start_time": "2023-11-28T10:54:09.513Z"
   },
   {
    "duration": 19,
    "start_time": "2023-11-28T10:54:09.696Z"
   },
   {
    "duration": 32,
    "start_time": "2023-11-28T10:54:09.716Z"
   },
   {
    "duration": 14,
    "start_time": "2023-11-28T10:54:09.750Z"
   },
   {
    "duration": 15,
    "start_time": "2023-11-28T10:54:09.766Z"
   },
   {
    "duration": 42,
    "start_time": "2023-11-28T10:54:09.782Z"
   },
   {
    "duration": 30,
    "start_time": "2023-11-28T10:54:09.826Z"
   },
   {
    "duration": 17,
    "start_time": "2023-11-28T10:54:09.859Z"
   },
   {
    "duration": 47,
    "start_time": "2023-11-28T10:54:09.877Z"
   },
   {
    "duration": 6,
    "start_time": "2023-11-28T10:54:09.926Z"
   },
   {
    "duration": 12,
    "start_time": "2023-11-28T10:54:09.933Z"
   },
   {
    "duration": 14,
    "start_time": "2023-11-28T10:54:09.947Z"
   },
   {
    "duration": 3,
    "start_time": "2023-11-28T10:54:09.963Z"
   },
   {
    "duration": 18,
    "start_time": "2023-11-28T10:54:09.968Z"
   },
   {
    "duration": 28,
    "start_time": "2023-11-28T10:54:09.987Z"
   },
   {
    "duration": 26,
    "start_time": "2023-11-28T10:54:10.017Z"
   },
   {
    "duration": 37,
    "start_time": "2023-11-28T10:54:10.045Z"
   },
   {
    "duration": 34,
    "start_time": "2023-11-28T10:54:10.084Z"
   },
   {
    "duration": 16,
    "start_time": "2023-11-28T10:54:10.119Z"
   },
   {
    "duration": 18,
    "start_time": "2023-11-28T10:54:10.137Z"
   },
   {
    "duration": 14,
    "start_time": "2023-11-28T10:54:10.157Z"
   },
   {
    "duration": 8,
    "start_time": "2023-11-28T10:54:10.173Z"
   },
   {
    "duration": 28,
    "start_time": "2023-11-28T10:54:10.183Z"
   },
   {
    "duration": 24,
    "start_time": "2023-11-28T10:54:10.213Z"
   },
   {
    "duration": 9,
    "start_time": "2023-11-28T10:54:10.239Z"
   },
   {
    "duration": 26,
    "start_time": "2023-11-28T10:54:10.252Z"
   },
   {
    "duration": 25,
    "start_time": "2023-11-28T10:54:10.279Z"
   },
   {
    "duration": 29,
    "start_time": "2023-11-28T10:54:10.306Z"
   },
   {
    "duration": 48,
    "start_time": "2023-11-28T10:54:10.337Z"
   },
   {
    "duration": 731,
    "start_time": "2023-11-28T10:54:10.387Z"
   },
   {
    "duration": 690,
    "start_time": "2023-11-28T10:54:11.119Z"
   },
   {
    "duration": 387,
    "start_time": "2023-11-28T10:54:11.811Z"
   },
   {
    "duration": 6,
    "start_time": "2023-11-28T10:54:12.199Z"
   },
   {
    "duration": 36,
    "start_time": "2023-11-28T10:54:12.206Z"
   },
   {
    "duration": 313,
    "start_time": "2023-11-28T10:54:12.244Z"
   },
   {
    "duration": 268,
    "start_time": "2023-11-28T10:54:12.558Z"
   },
   {
    "duration": 386,
    "start_time": "2023-11-28T10:54:12.828Z"
   },
   {
    "duration": 37,
    "start_time": "2023-11-28T10:54:13.216Z"
   },
   {
    "duration": 740,
    "start_time": "2023-11-28T10:54:13.255Z"
   },
   {
    "duration": 18,
    "start_time": "2023-11-28T10:54:13.996Z"
   },
   {
    "duration": 750,
    "start_time": "2023-11-28T10:54:14.015Z"
   },
   {
    "duration": 8,
    "start_time": "2023-11-28T10:54:14.767Z"
   },
   {
    "duration": 793,
    "start_time": "2023-11-28T10:54:14.777Z"
   },
   {
    "duration": 9,
    "start_time": "2023-11-28T10:54:15.572Z"
   },
   {
    "duration": 594,
    "start_time": "2023-11-28T10:54:15.583Z"
   },
   {
    "duration": 589,
    "start_time": "2023-11-28T10:54:16.179Z"
   },
   {
    "duration": 45,
    "start_time": "2023-11-28T10:54:16.770Z"
   },
   {
    "duration": 5,
    "start_time": "2023-11-28T10:54:16.817Z"
   },
   {
    "duration": 451,
    "start_time": "2023-11-28T10:54:16.824Z"
   },
   {
    "duration": 5,
    "start_time": "2023-11-28T10:54:17.277Z"
   },
   {
    "duration": 475,
    "start_time": "2023-11-28T10:54:17.284Z"
   },
   {
    "duration": 6,
    "start_time": "2023-11-28T10:54:17.761Z"
   },
   {
    "duration": 10,
    "start_time": "2023-11-28T10:54:17.769Z"
   },
   {
    "duration": 526,
    "start_time": "2023-11-28T10:54:17.781Z"
   },
   {
    "duration": 10,
    "start_time": "2023-11-28T10:54:18.309Z"
   },
   {
    "duration": 31,
    "start_time": "2023-11-28T10:54:18.321Z"
   }
  ],
  "kernelspec": {
   "display_name": "Python 3 (ipykernel)",
   "language": "python",
   "name": "python3"
  },
  "language_info": {
   "codemirror_mode": {
    "name": "ipython",
    "version": 3
   },
   "file_extension": ".py",
   "mimetype": "text/x-python",
   "name": "python",
   "nbconvert_exporter": "python",
   "pygments_lexer": "ipython3",
   "version": "3.9.5"
  },
  "toc": {
   "base_numbering": 1,
   "nav_menu": {},
   "number_sections": true,
   "sideBar": true,
   "skip_h1_title": true,
   "title_cell": "Table of Contents",
   "title_sidebar": "Contents",
   "toc_cell": false,
   "toc_position": {},
   "toc_section_display": true,
   "toc_window_display": true
  }
 },
 "nbformat": 4,
 "nbformat_minor": 4
}
