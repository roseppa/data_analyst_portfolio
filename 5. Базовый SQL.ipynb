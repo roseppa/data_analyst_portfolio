{
 "cells": [
  {
   "cell_type": "markdown",
   "id": "f1a91273-e965-463a-8f07-de519fa68b55",
   "metadata": {},
   "source": [
    "# Базовый SQL"
   ]
  },
  {
   "cell_type": "markdown",
   "id": "22e93b58-a621-4992-a4c2-cb17b91da22f",
   "metadata": {},
   "source": [
    "В самостоятельном проекте вам нужно проанализировать данные о фондах и инвестициях и написать запросы к базе. Задания будут постепенно усложняться, но всё необходимое для их выполнения: операторы, функции, методы работы с базой — вы уже изучили на курсе. К каждому заданию будет небольшая подсказка: она направит вас в нужную сторону, но подробного плана действий не предложит."
   ]
  },
  {
   "cell_type": "markdown",
   "id": "efab061a-3a92-4272-8003-c7f6558d639f",
   "metadata": {},
   "source": [
    "<img \n",
    "     src=\"other/images/project5.png\" \n",
    "     height=\"800\" \n",
    "     width=\"800\" />"
   ]
  },
  {
   "cell_type": "markdown",
   "id": "4e219dc5-844c-421f-a52b-a083cc72b55c",
   "metadata": {},
   "source": [
    "**`acquisition`**\n",
    "\n",
    "Содержит информацию о покупках одних компаний другими.\n",
    "\n",
    "* первичный ключ id — идентификатор или уникальный номер покупки;\n",
    "* внешний ключ acquiring_company_id — ссылается на таблицу company — идентификатор компании-покупателя, то есть той, что покупает другую компанию;\n",
    "* внешний ключ acquired_company_id — ссылается на таблицу company — идентификатор компании, которую покупают;\n",
    "* term_code — способ оплаты сделки:\n",
    "    * cash — наличными;\n",
    "    * stock — акциями компании;\n",
    "    * cash_and_stock — смешанный тип оплаты: наличные и акции.\n",
    "* price_amount — сумма покупки в долларах;\n",
    "* acquired_at — дата совершения сделки;\n",
    "* created_at — дата и время создания записи в таблице;\n",
    "* updated_at — дата и время обновления записи в таблице.\n",
    "\n",
    "**`company`**\n",
    "\n",
    "Содержит информацию о компаниях-стартапах.\n",
    "\n",
    "* первичный ключ id — идентификатор, или уникальный номер компании;\n",
    "* name — название компании;\n",
    "* category_code — категория деятельности компании, например:\n",
    "    * news — специализируется на работе с новостями;\n",
    "    * social — специализируется на социальной работе.\n",
    "* status — статус компании:\n",
    "    * acquired — приобретена;\n",
    "    * operating — действует;\n",
    "    * ipo — вышла на IPO;\n",
    "    * closed — перестала существовать.\n",
    "* founded_at — дата основания компании;\n",
    "* closed_at — дата закрытия компании, которую указывают в том случае, если компании больше не существует;\n",
    "* domain — домен сайта компании;\n",
    "* network_username — профиль фонда в корпоративной сети биржи;\n",
    "* country_code — код страны, например, USA для США, GBR для Великобритании;\n",
    "* investment_rounds — число раундов, в которых компания участвовала как инвестор;\n",
    "* funding_rounds — число раундов, в которых компания привлекала инвестиции;\n",
    "* funding_total — сумма привлечённых инвестиций в долларах;\n",
    "* milestones — количество важных этапов в истории компании;\n",
    "* created_at — дата и время создания записи в таблице;\n",
    "* updated_at — дата и время обновления записи в таблице.\n",
    "\n",
    "**`education`**\n",
    "\n",
    "Хранит информацию об уровне образования сотрудников компаний.\n",
    "\n",
    "* первичный ключ id — уникальный номер записи с информацией об образовании;\n",
    "* внешний ключ person_id — ссылается на таблицу people — идентификатор человека, информация о котором представлена в записи;\n",
    "* degree_type — учебная степень, например:\n",
    "    * BA — Bachelor of Arts — бакалавр гуманитарных наук;\n",
    "    * MS — Master of Science — магистр естественных наук.\n",
    "* instituition — учебное заведение, название университета;\n",
    "* graduated_at — дата завершения обучения, выпуска;\n",
    "* created_at — дата и время создания записи в таблице;\n",
    "* updated_at — дата и время обновления записи в таблице.\n",
    "\n",
    "**`fund`**\n",
    "\n",
    "Хранит информацию о венчурных фондах. \n",
    "\n",
    "* первичный ключ id — уникальный номер венчурного фонда;\n",
    "* name — название венчурного фонда;\n",
    "* founded_at — дата основания фонда;\n",
    "* domain — домен сайта фонда;\n",
    "* network_username — профиль фонда в корпоративной сети биржи;\n",
    "* country_code — код страны фонда;\n",
    "* investment_rounds — число инвестиционных раундов, в которых фонд принимал участие;\n",
    "* invested_companies — число компаний, в которые инвестировал фонд;\n",
    "* milestones — количество важных этапов в истории фонда;\n",
    "* created_at — дата и время создания записи в таблице;\n",
    "* updated_at — дата и время обновления записи в таблице.\n",
    "\n",
    "**`funding_round`**\n",
    "\n",
    "Содержит информацию о раундах инвестиций. \n",
    "\n",
    "* первичный ключ id — уникальный номер инвестиционного раунда;\n",
    "* внешний ключ company_id — ссылается на таблицу company — уникальный номер компании, участвовавшей в инвестиционном раунде;\n",
    "* funded_at — дата проведения раунда;\n",
    "* funding_round_type — тип инвестиционного раунда, например:\n",
    "    * venture — венчурный раунд;\n",
    "    * angel — ангельский раунд;\n",
    "    * series_a — раунд А.\n",
    "* raised_amount — сумма инвестиций, которую привлекла компания в этом раунде в долларах;\n",
    "* pre_money_valuation — предварительная, проведённая до инвестиций оценка стоимости компании в долларах;\n",
    "* participants — количество участников инвестиционного раунда;\n",
    "* is_first_round — является ли этот раунд первым для компании;\n",
    "* is_last_round — является ли этот раунд последним для компании;\n",
    "* created_at — дата и время создания записи в таблице;\n",
    "* updated_at — дата и время обновления записи в таблице.\n",
    "\n",
    "**`investment`**\n",
    "\n",
    "Содержит информацию об инвестициях венчурных фондов в компании-стартапы.\n",
    "\n",
    "* первичный ключ id — уникальный номер инвестиции;\n",
    "* внешний ключ funding_round_id — ссылается на таблицу funding_round — уникальный номер раунда инвестиции;\n",
    "* внешний ключ company_id — ссылается на таблицу company — уникальный номер компании-стартапа, в которую инвестируют;\n",
    "* внешний ключ fund_id — ссылается на таблицу fund — уникальный номер фонда, инвестирующего в компанию-стартап;\n",
    "* created_at — дата и время создания записи в таблице;\n",
    "* updated_at — дата и время обновления записи в таблице.\n",
    "\n",
    "**`people`**\n",
    "\n",
    "Содержит информацию о сотрудниках компаний-стартапов.\n",
    "\n",
    "* первичный ключ id — уникальный номер сотрудника;\n",
    "* first_name — имя сотрудника;\n",
    "* last_name — фамилия сотрудника;\n",
    "* внешний ключ company_id — ссылается на таблицу company — уникальный номер компании-стартапа;\n",
    "* network_username — профиль фонда в корпоративной сети биржи;\n",
    "* created_at — дата и время создания записи в таблице;\n",
    "* updated_at — дата и время обновления записи в таблице."
   ]
  },
  {
   "cell_type": "markdown",
   "id": "8b81d1ae-166a-48e3-9662-0f7bd205628f",
   "metadata": {},
   "source": [
    "## Задача 1"
   ]
  },
  {
   "cell_type": "markdown",
   "id": "12406be2-a4e7-4b69-915c-cb17a4ec3acd",
   "metadata": {},
   "source": [
    "Отобразите все записи из таблицы company по компаниям, которые закрылись."
   ]
  },
  {
   "cell_type": "code",
   "execution_count": 1,
   "id": "b92a351d-4905-473a-9f83-a0b1e588083c",
   "metadata": {},
   "outputs": [
    {
     "data": {
      "text/plain": [
       "\"\\nSELECT *\\nFROM company AS c\\nWHERE status IN ('closed');\\n\""
      ]
     },
     "execution_count": 1,
     "metadata": {},
     "output_type": "execute_result"
    }
   ],
   "source": [
    "'''\n",
    "SELECT *\n",
    "FROM company AS c\n",
    "WHERE status IN ('closed');\n",
    "'''"
   ]
  },
  {
   "cell_type": "markdown",
   "id": "e34c7d9a-ae72-4974-a95a-52f2c49fa580",
   "metadata": {},
   "source": [
    "## Задача 2"
   ]
  },
  {
   "cell_type": "markdown",
   "id": "cb392b75-0748-4b26-94f3-b71a19dc9d27",
   "metadata": {},
   "source": [
    "Отобразите количество привлечённых средств для новостных компаний США. Используйте данные из таблицы company. Отсортируйте таблицу по убыванию значений в поле funding_total."
   ]
  },
  {
   "cell_type": "code",
   "execution_count": 2,
   "id": "d1ce68ff-2679-4ba7-be21-f0698d58aafc",
   "metadata": {},
   "outputs": [
    {
     "data": {
      "text/plain": [
       "\"\\nSELECT c.funding_total\\nFROM company as c\\nWHERE c.category_code IN ('news')\\n  AND c.country_code IN ('USA')\\nORDER BY c.funding_total DESC;\\n\""
      ]
     },
     "execution_count": 2,
     "metadata": {},
     "output_type": "execute_result"
    }
   ],
   "source": [
    "'''\n",
    "SELECT c.funding_total\n",
    "FROM company as c\n",
    "WHERE c.category_code IN ('news')\n",
    "  AND c.country_code IN ('USA')\n",
    "ORDER BY c.funding_total DESC;\n",
    "'''"
   ]
  },
  {
   "cell_type": "markdown",
   "id": "22b9439e-ed0e-4fe1-8e63-4ebebc77d60a",
   "metadata": {},
   "source": [
    "## Задача 3"
   ]
  },
  {
   "cell_type": "markdown",
   "id": "9b660226-46c9-4871-8fdb-6a5f5841dac3",
   "metadata": {},
   "source": [
    "Найдите общую сумму сделок по покупке одних компаний другими в долларах. Отберите сделки, которые осуществлялись только за наличные с 2011 по 2013 год включительно."
   ]
  },
  {
   "cell_type": "code",
   "execution_count": 3,
   "id": "208543d7-f85b-4c4e-87fa-f13d01f3574d",
   "metadata": {},
   "outputs": [
    {
     "data": {
      "text/plain": [
       "\"\\nSELECT SUM(a.price_amount)\\nFROM acquisition AS a\\nWHERE a.term_code IN ('cash')\\n  AND EXTRACT(YEAR FROM CAST(a.acquired_at AS timestamp)) BETWEEN 2011 AND 2013;\\n\""
      ]
     },
     "execution_count": 3,
     "metadata": {},
     "output_type": "execute_result"
    }
   ],
   "source": [
    "'''\n",
    "SELECT SUM(a.price_amount)\n",
    "FROM acquisition AS a\n",
    "WHERE a.term_code IN ('cash')\n",
    "  AND EXTRACT(YEAR FROM CAST(a.acquired_at AS timestamp)) BETWEEN 2011 AND 2013;\n",
    "'''"
   ]
  },
  {
   "cell_type": "markdown",
   "id": "9627ff6b-64a0-4924-ab17-af1bae1e7553",
   "metadata": {},
   "source": [
    "## Задача 4"
   ]
  },
  {
   "cell_type": "markdown",
   "id": "2d0a8d51-e0ab-478a-bedf-3a1345f229be",
   "metadata": {},
   "source": [
    "Отобразите имя, фамилию и названия аккаунтов людей в поле network_username, у которых названия аккаунтов начинаются на 'Silver'."
   ]
  },
  {
   "cell_type": "code",
   "execution_count": 4,
   "id": "67c1004c-f587-4106-9ce1-fecb0426c338",
   "metadata": {},
   "outputs": [
    {
     "data": {
      "text/plain": [
       "\"\\nSELECT p.first_name,\\n       p.last_name,\\n       p.network_username\\nFROM people AS p\\nWHERE p.network_username LIKE 'Silver%';\\n\""
      ]
     },
     "execution_count": 4,
     "metadata": {},
     "output_type": "execute_result"
    }
   ],
   "source": [
    "'''\n",
    "SELECT p.first_name,\n",
    "       p.last_name,\n",
    "       p.network_username\n",
    "FROM people AS p\n",
    "WHERE p.network_username LIKE 'Silver%';\n",
    "'''"
   ]
  },
  {
   "cell_type": "markdown",
   "id": "d561d1b6-46cd-41d3-a767-bf1d90528a74",
   "metadata": {},
   "source": [
    "## Задача 5"
   ]
  },
  {
   "cell_type": "markdown",
   "id": "dcb95f55-b9d6-44e1-a433-136e63407070",
   "metadata": {},
   "source": [
    "Выведите на экран всю информацию о людях, у которых названия аккаунтов в поле network_username содержат подстроку 'money', а фамилия начинается на 'K'."
   ]
  },
  {
   "cell_type": "code",
   "execution_count": 5,
   "id": "b7ef1aea-289a-449e-90ad-27f6ab0da17b",
   "metadata": {},
   "outputs": [
    {
     "data": {
      "text/plain": [
       "\"\\nSELECT *\\nFROM people AS p\\nWHERE p.network_username LIKE '%money%'\\n    AND p.last_name LIKE 'K%';\\n\""
      ]
     },
     "execution_count": 5,
     "metadata": {},
     "output_type": "execute_result"
    }
   ],
   "source": [
    "'''\n",
    "SELECT *\n",
    "FROM people AS p\n",
    "WHERE p.network_username LIKE '%money%'\n",
    "    AND p.last_name LIKE 'K%';\n",
    "'''"
   ]
  },
  {
   "cell_type": "markdown",
   "id": "36bf9a65-ce38-4d5d-8c9b-b8de39a43462",
   "metadata": {},
   "source": [
    "## Задача 6"
   ]
  },
  {
   "cell_type": "markdown",
   "id": "14d70aa2-8b32-4ee6-9bae-d9090cf0ebb6",
   "metadata": {},
   "source": [
    "Для каждой страны отобразите общую сумму привлечённых инвестиций, которые получили компании, зарегистрированные в этой стране. Страну, в которой зарегистрирована компания, можно определить по коду страны. Отсортируйте данные по убыванию суммы."
   ]
  },
  {
   "cell_type": "code",
   "execution_count": 6,
   "id": "a85b549e-41f8-4de7-a905-4a2a0fc43218",
   "metadata": {},
   "outputs": [
    {
     "data": {
      "text/plain": [
       "'\\nSELECT c.country_code AS country,\\n       SUM(c.funding_total) AS sum_investment\\nFROM company as c\\nGROUP BY c.country_code\\nORDER BY sum_investment DESC;\\n'"
      ]
     },
     "execution_count": 6,
     "metadata": {},
     "output_type": "execute_result"
    }
   ],
   "source": [
    "'''\n",
    "SELECT c.country_code AS country,\n",
    "       SUM(c.funding_total) AS sum_investment\n",
    "FROM company as c\n",
    "GROUP BY c.country_code\n",
    "ORDER BY sum_investment DESC;\n",
    "'''"
   ]
  },
  {
   "cell_type": "markdown",
   "id": "539089f0-db1e-4145-823a-bbc6dd68af63",
   "metadata": {},
   "source": [
    "## Задача 7"
   ]
  },
  {
   "cell_type": "markdown",
   "id": "d2b1372c-bf37-4767-93f3-4dd28c104885",
   "metadata": {},
   "source": [
    "Составьте таблицу, в которую войдёт дата проведения раунда, а также минимальное и максимальное значения суммы инвестиций, привлечённых в эту дату.\n",
    "\n",
    "Оставьте в итоговой таблице только те записи, в которых минимальное значение суммы инвестиций не равно нулю и не равно максимальному значению."
   ]
  },
  {
   "cell_type": "code",
   "execution_count": 7,
   "id": "6f1b4265-4391-4544-89fa-8f09dcd12ab3",
   "metadata": {},
   "outputs": [
    {
     "data": {
      "text/plain": [
       "'\\nSELECT CAST(fr.funded_at AS date) AS date_round,\\n       MIN(fr.raised_amount) AS min_raised_amount,\\n       MAX(fr.raised_amount) AS max_raised_amount\\nFROM funding_round AS fr\\nGROUP BY date_round\\nHAVING MIN(fr.raised_amount) NOT IN (0, MAX(fr.raised_amount));\\n'"
      ]
     },
     "execution_count": 7,
     "metadata": {},
     "output_type": "execute_result"
    }
   ],
   "source": [
    "'''\n",
    "SELECT CAST(fr.funded_at AS date) AS date_round,\n",
    "       MIN(fr.raised_amount) AS min_raised_amount,\n",
    "       MAX(fr.raised_amount) AS max_raised_amount\n",
    "FROM funding_round AS fr\n",
    "GROUP BY date_round\n",
    "HAVING MIN(fr.raised_amount) NOT IN (0, MAX(fr.raised_amount));\n",
    "'''"
   ]
  },
  {
   "cell_type": "markdown",
   "id": "c690e09e-d449-40e4-8837-c6b1b5df45c7",
   "metadata": {},
   "source": [
    "## Задача 8"
   ]
  },
  {
   "cell_type": "markdown",
   "id": "2a92cd6c-e4e9-4821-94c6-187b382d9073",
   "metadata": {},
   "source": [
    "Создайте поле с категориями:\n",
    "\n",
    "* Для фондов, которые инвестируют в 100 и более компаний, назначьте категорию high_activity.\n",
    "* Для фондов, которые инвестируют в 20 и более компаний до 100, назначьте категорию middle_activity.\n",
    "* Если количество инвестируемых компаний фонда не достигает 20, назначьте категорию low_activity.\n",
    "\n",
    "Отобразите все поля таблицы fund и новое поле с категориями."
   ]
  },
  {
   "cell_type": "code",
   "execution_count": 8,
   "id": "3e8ce53e-89c3-4f9a-ade1-abe565e0f07e",
   "metadata": {},
   "outputs": [
    {
     "data": {
      "text/plain": [
       "\"\\nSELECT *,\\n       CASE \\n           WHEN f.invested_companies >= 100 THEN 'high_activity'\\n           WHEN f.invested_companies >= 20 AND f.invested_companies <= 100 THEN 'middle_activity'\\n           ELSE 'low_activity'\\n        END AS category\\nFROM fund AS f; \\n\""
      ]
     },
     "execution_count": 8,
     "metadata": {},
     "output_type": "execute_result"
    }
   ],
   "source": [
    "'''\n",
    "SELECT *,\n",
    "       CASE \n",
    "           WHEN f.invested_companies >= 100 THEN 'high_activity'\n",
    "           WHEN f.invested_companies >= 20 AND f.invested_companies <= 100 THEN 'middle_activity'\n",
    "           ELSE 'low_activity'\n",
    "        END AS category\n",
    "FROM fund AS f; \n",
    "'''"
   ]
  },
  {
   "cell_type": "markdown",
   "id": "921975b9-3c12-413e-9bdf-d85b987cd0df",
   "metadata": {},
   "source": [
    "## Задача 9"
   ]
  },
  {
   "cell_type": "markdown",
   "id": "345ba744-bfe0-40f2-87e5-4a1d9dd4dd3d",
   "metadata": {},
   "source": [
    "Для каждой из категорий, назначенных в предыдущем задании, посчитайте округлённое до ближайшего целого числа среднее количество инвестиционных раундов, в которых фонд принимал участие. Выведите на экран категории и среднее число инвестиционных раундов. Отсортируйте таблицу по возрастанию среднего."
   ]
  },
  {
   "cell_type": "code",
   "execution_count": 9,
   "id": "b049b243-38b6-453d-bdff-99ec5a5701a1",
   "metadata": {},
   "outputs": [
    {
     "data": {
      "text/plain": [
       "\"\\nSELECT CASE\\n           WHEN f.invested_companies >= 100 THEN 'high_activity'\\n           WHEN f.invested_companies >= 20 THEN 'middle_activity'\\n           ELSE 'low_activity'\\n       END AS activity_category,\\n       ROUND(AVG(f.investment_rounds)) AS avg_rounds\\nFROM fund AS f\\nGROUP BY activity_category\\nORDER BY avg_rounds ASC;\\n\""
      ]
     },
     "execution_count": 9,
     "metadata": {},
     "output_type": "execute_result"
    }
   ],
   "source": [
    "'''\n",
    "SELECT CASE\n",
    "           WHEN f.invested_companies >= 100 THEN 'high_activity'\n",
    "           WHEN f.invested_companies >= 20 THEN 'middle_activity'\n",
    "           ELSE 'low_activity'\n",
    "       END AS activity_category,\n",
    "       ROUND(AVG(f.investment_rounds)) AS avg_rounds\n",
    "FROM fund AS f\n",
    "GROUP BY activity_category\n",
    "ORDER BY avg_rounds ASC;\n",
    "'''"
   ]
  },
  {
   "cell_type": "markdown",
   "id": "ba4c80e9-cf01-4168-a9b9-b4563cc22690",
   "metadata": {},
   "source": [
    "## Задача 10"
   ]
  },
  {
   "cell_type": "markdown",
   "id": "39100b6f-5e20-4acb-b9d6-2e039f51b243",
   "metadata": {},
   "source": [
    "Проанализируйте, в каких странах находятся фонды, которые чаще всего инвестируют в стартапы. \n",
    "\n",
    "Для каждой страны посчитайте минимальное, максимальное и среднее число компаний, в которые инвестировали фонды этой страны, основанные с 2010 по 2012 год включительно. Исключите страны с фондами, у которых минимальное число компаний, получивших инвестиции, равно нулю. \n",
    "\n",
    "Выгрузите десять самых активных стран-инвесторов: отсортируйте таблицу по среднему количеству компаний от большего к меньшему. Затем добавьте сортировку по коду страны в лексикографическом порядке."
   ]
  },
  {
   "cell_type": "code",
   "execution_count": 10,
   "id": "4c268e6a-a5b4-4b09-aa91-1efcdc9af7df",
   "metadata": {},
   "outputs": [
    {
     "data": {
      "text/plain": [
       "'\\nSELECT f.country_code AS country,\\n       MIN(f.invested_companies) AS min_inv_companies,\\n       MAX(f.invested_companies) AS max_inv_companies,\\n       AVG(f.invested_companies) AS avg_inv_companies\\nFROM fund AS f\\nWHERE EXTRACT(YEAR FROM CAST(f.founded_at AS timestamp)) BETWEEN 2010 AND 2012\\nGROUP BY country\\nHAVING MIN(f.invested_companies) NOT IN (0)\\nORDER BY avg_inv_companies DESC, country ASC\\nLIMIT 10;\\n'"
      ]
     },
     "execution_count": 10,
     "metadata": {},
     "output_type": "execute_result"
    }
   ],
   "source": [
    "'''\n",
    "SELECT f.country_code AS country,\n",
    "       MIN(f.invested_companies) AS min_inv_companies,\n",
    "       MAX(f.invested_companies) AS max_inv_companies,\n",
    "       AVG(f.invested_companies) AS avg_inv_companies\n",
    "FROM fund AS f\n",
    "WHERE EXTRACT(YEAR FROM CAST(f.founded_at AS timestamp)) BETWEEN 2010 AND 2012\n",
    "GROUP BY country\n",
    "HAVING MIN(f.invested_companies) NOT IN (0)\n",
    "ORDER BY avg_inv_companies DESC, country ASC\n",
    "LIMIT 10;\n",
    "'''"
   ]
  },
  {
   "cell_type": "markdown",
   "id": "441bc2f2-f92a-457f-aee0-1d3a3fcec9a4",
   "metadata": {},
   "source": [
    "## Задача 11"
   ]
  },
  {
   "cell_type": "markdown",
   "id": "ee75cd91-56b8-4019-ac54-1009ffc75cce",
   "metadata": {},
   "source": [
    "Отобразите имя и фамилию всех сотрудников стартапов. Добавьте поле с названием учебного заведения, которое окончил сотрудник, если эта информация известна."
   ]
  },
  {
   "cell_type": "code",
   "execution_count": 11,
   "id": "d00c010e-f308-4fc0-ba0d-0b010c8176ae",
   "metadata": {},
   "outputs": [
    {
     "data": {
      "text/plain": [
       "'\\nSELECT p.first_name,\\n       p.last_name,\\n       t_1.instituition\\nFROM people AS p\\nLEFT JOIN (SELECT e.id,\\n                  e.instituition\\n           FROM education AS e) AS t_1 ON t_1.id = p.id;\\n'"
      ]
     },
     "execution_count": 11,
     "metadata": {},
     "output_type": "execute_result"
    }
   ],
   "source": [
    "'''\n",
    "SELECT p.first_name,\n",
    "       p.last_name,\n",
    "       t_1.instituition\n",
    "FROM people AS p\n",
    "LEFT JOIN (SELECT e.id,\n",
    "                  e.instituition\n",
    "           FROM education AS e) AS t_1 ON t_1.id = p.id;\n",
    "'''"
   ]
  },
  {
   "cell_type": "markdown",
   "id": "3366809a-0d6e-4d81-807c-3562dea61a14",
   "metadata": {},
   "source": [
    "## Задача 12"
   ]
  },
  {
   "cell_type": "markdown",
   "id": "ec5db3fa-8c89-4c98-bbbd-0703c9096e81",
   "metadata": {},
   "source": [
    "Для каждой компании найдите количество учебных заведений, которые окончили её сотрудники. Выведите название компании и число уникальных названий учебных заведений. Составьте топ-5 компаний по количеству университетов."
   ]
  },
  {
   "cell_type": "code",
   "execution_count": 12,
   "id": "f37021d4-7b4c-45b5-a258-6549c6cae541",
   "metadata": {},
   "outputs": [
    {
     "data": {
      "text/plain": [
       "'\\nSELECT c.name, \\n       COUNT(DISTINCT t_2.instituition)\\nFROM company AS c\\nLEFT JOIN \\n         (SELECT t_1.instituition,\\n                 p.company_id\\n          FROM       \\n               (SELECT person_id,\\n                       instituition \\n                FROM education \\n                WHERE instituition IS NOT NULL\\n               ) AS t_1\\n          INNER JOIN  people AS p ON p.id = t_1.person_id\\n         ) AS t_2 ON t_2.company_id = c.id\\nGROUP BY c.name\\nORDER BY COUNT(DISTINCT t_2.instituition) DESC\\nLIMIT 5;\\n'"
      ]
     },
     "execution_count": 12,
     "metadata": {},
     "output_type": "execute_result"
    }
   ],
   "source": [
    "'''\n",
    "SELECT c.name, \n",
    "       COUNT(DISTINCT t_2.instituition)\n",
    "FROM company AS c\n",
    "LEFT JOIN \n",
    "         (SELECT t_1.instituition,\n",
    "                 p.company_id\n",
    "          FROM       \n",
    "               (SELECT person_id,\n",
    "                       instituition \n",
    "                FROM education \n",
    "                WHERE instituition IS NOT NULL\n",
    "               ) AS t_1\n",
    "          INNER JOIN  people AS p ON p.id = t_1.person_id\n",
    "         ) AS t_2 ON t_2.company_id = c.id\n",
    "GROUP BY c.name\n",
    "ORDER BY COUNT(DISTINCT t_2.instituition) DESC\n",
    "LIMIT 5;\n",
    "'''"
   ]
  },
  {
   "cell_type": "markdown",
   "id": "a834ea0b-da69-4440-b9a0-f3ebaad0ce23",
   "metadata": {},
   "source": [
    "## Задача 13"
   ]
  },
  {
   "cell_type": "markdown",
   "id": "e0aca321-84b1-4693-970e-8ff52d182d7f",
   "metadata": {},
   "source": [
    "Составьте список с уникальными названиями закрытых компаний, для которых первый раунд финансирования оказался последним."
   ]
  },
  {
   "cell_type": "code",
   "execution_count": 13,
   "id": "c3108151-beea-4fab-a7b0-5982cbdc4935",
   "metadata": {},
   "outputs": [
    {
     "data": {
      "text/plain": [
       "\"\\nSELECT t_1.name AS company_name\\nFROM (SELECT c.id,\\n             c.name,\\n             c.status\\n      FROM company AS c\\n      GROUP BY c.id, c.name, c.status\\n      HAVING c.status IN ('closed')) AS t_1\\nJOIN (SELECT fr.company_id,\\n             fr.is_first_round,\\n             fr.is_last_round\\n      FROM funding_round AS fr\\n      GROUP BY fr.company_id, fr.is_first_round, fr.is_last_round\\n      HAVING fr.is_first_round IN (1)\\n         AND fr.is_last_round IN (1)) AS t_2 ON t_2.company_id = t_1.id;\\n\""
      ]
     },
     "execution_count": 13,
     "metadata": {},
     "output_type": "execute_result"
    }
   ],
   "source": [
    "'''\n",
    "SELECT t_1.name AS company_name\n",
    "FROM (SELECT c.id,\n",
    "             c.name,\n",
    "             c.status\n",
    "      FROM company AS c\n",
    "      GROUP BY c.id, c.name, c.status\n",
    "      HAVING c.status IN ('closed')) AS t_1\n",
    "JOIN (SELECT fr.company_id,\n",
    "             fr.is_first_round,\n",
    "             fr.is_last_round\n",
    "      FROM funding_round AS fr\n",
    "      GROUP BY fr.company_id, fr.is_first_round, fr.is_last_round\n",
    "      HAVING fr.is_first_round IN (1)\n",
    "         AND fr.is_last_round IN (1)) AS t_2 ON t_2.company_id = t_1.id;\n",
    "'''"
   ]
  },
  {
   "cell_type": "markdown",
   "id": "0f5cdddf-9b6c-466b-9bc0-9c81ed57a7b7",
   "metadata": {},
   "source": [
    "## Задача 14"
   ]
  },
  {
   "cell_type": "markdown",
   "id": "098ea66d-62d3-42e3-bd88-b3063b04ec8a",
   "metadata": {},
   "source": [
    "Составьте список уникальных номеров сотрудников, которые работают в компаниях, отобранных в предыдущем задании."
   ]
  },
  {
   "cell_type": "code",
   "execution_count": 14,
   "id": "8eda6898-7d8d-4318-ad2b-a44c0e29e19a",
   "metadata": {},
   "outputs": [
    {
     "data": {
      "text/plain": [
       "\"\\nSELECT t_1.id AS unique_number_employee\\nFROM (SELECT p.id,\\n             p.company_id\\n      FROM people AS p\\n      GROUP BY p.id, p.company_id) AS t_1\\n      \\nJOIN (SELECT c.id,\\n             c.name,\\n             c.status\\n      FROM company AS c\\n      GROUP BY c.id, c.name, c.status\\n      HAVING c.status IN ('closed')) AS t_2 ON t_2.id = t_1.company_id\\n\\nJOIN (SELECT fr.company_id,\\n             fr.is_first_round,\\n             fr.is_last_round\\n      FROM funding_round AS fr\\n      GROUP BY fr.company_id, fr.is_first_round, fr.is_last_round\\n      HAVING fr.is_first_round IN (1)\\n         AND fr.is_last_round IN (1)) AS t_3 ON t_3.company_id = t_2.id;\\n\""
      ]
     },
     "execution_count": 14,
     "metadata": {},
     "output_type": "execute_result"
    }
   ],
   "source": [
    "'''\n",
    "SELECT t_1.id AS unique_number_employee\n",
    "FROM (SELECT p.id,\n",
    "             p.company_id\n",
    "      FROM people AS p\n",
    "      GROUP BY p.id, p.company_id) AS t_1\n",
    "      \n",
    "JOIN (SELECT c.id,\n",
    "             c.name,\n",
    "             c.status\n",
    "      FROM company AS c\n",
    "      GROUP BY c.id, c.name, c.status\n",
    "      HAVING c.status IN ('closed')) AS t_2 ON t_2.id = t_1.company_id\n",
    "\n",
    "JOIN (SELECT fr.company_id,\n",
    "             fr.is_first_round,\n",
    "             fr.is_last_round\n",
    "      FROM funding_round AS fr\n",
    "      GROUP BY fr.company_id, fr.is_first_round, fr.is_last_round\n",
    "      HAVING fr.is_first_round IN (1)\n",
    "         AND fr.is_last_round IN (1)) AS t_3 ON t_3.company_id = t_2.id;\n",
    "'''"
   ]
  },
  {
   "cell_type": "markdown",
   "id": "34bd3545-17c0-48eb-a2a2-d1b90210404f",
   "metadata": {},
   "source": [
    "## Задача 15"
   ]
  },
  {
   "cell_type": "markdown",
   "id": "61144581-04c8-41ae-909b-cd62f6d43f9c",
   "metadata": {},
   "source": [
    "Составьте таблицу, куда войдут уникальные пары с номерами сотрудников из предыдущей задачи и учебным заведением, которое окончил сотрудник."
   ]
  },
  {
   "cell_type": "code",
   "execution_count": 15,
   "id": "e5f1299d-cde1-43c9-bdd7-822f67ab211c",
   "metadata": {},
   "outputs": [
    {
     "data": {
      "text/plain": [
       "\"\\nSELECT t_1.id AS unique_number_employee,\\n       t_4.instituition AS instituition_name\\nFROM (SELECT p.id,\\n             p.company_id\\n      FROM people AS p\\n      GROUP BY p.id, p.company_id) AS t_1\\n      \\nJOIN (SELECT c.id,\\n             c.name,\\n             c.status\\n      FROM company AS c\\n      GROUP BY c.id, c.name, c.status\\n      HAVING c.status IN ('closed')) AS t_2 ON t_2.id = t_1.company_id\\n\\nJOIN (SELECT fr.company_id,\\n             fr.is_first_round,\\n             fr.is_last_round\\n      FROM funding_round AS fr\\n      GROUP BY fr.company_id, fr.is_first_round, fr.is_last_round\\n      HAVING fr.is_first_round IN (1)\\n         AND fr.is_last_round IN (1)) AS t_3 ON t_3.company_id = t_2.id\\n\\nJOIN (SELECT e.instituition,\\n             e.person_id\\n      FROM education AS e\\n      GROUP BY e.instituition, e.person_id) AS t_4 ON t_4.person_id = t_1.id\\n\""
      ]
     },
     "execution_count": 15,
     "metadata": {},
     "output_type": "execute_result"
    }
   ],
   "source": [
    "'''\n",
    "SELECT t_1.id AS unique_number_employee,\n",
    "       t_4.instituition AS instituition_name\n",
    "FROM (SELECT p.id,\n",
    "             p.company_id\n",
    "      FROM people AS p\n",
    "      GROUP BY p.id, p.company_id) AS t_1\n",
    "      \n",
    "JOIN (SELECT c.id,\n",
    "             c.name,\n",
    "             c.status\n",
    "      FROM company AS c\n",
    "      GROUP BY c.id, c.name, c.status\n",
    "      HAVING c.status IN ('closed')) AS t_2 ON t_2.id = t_1.company_id\n",
    "\n",
    "JOIN (SELECT fr.company_id,\n",
    "             fr.is_first_round,\n",
    "             fr.is_last_round\n",
    "      FROM funding_round AS fr\n",
    "      GROUP BY fr.company_id, fr.is_first_round, fr.is_last_round\n",
    "      HAVING fr.is_first_round IN (1)\n",
    "         AND fr.is_last_round IN (1)) AS t_3 ON t_3.company_id = t_2.id\n",
    "\n",
    "JOIN (SELECT e.instituition,\n",
    "             e.person_id\n",
    "      FROM education AS e\n",
    "      GROUP BY e.instituition, e.person_id) AS t_4 ON t_4.person_id = t_1.id\n",
    "'''"
   ]
  },
  {
   "cell_type": "markdown",
   "id": "dcc16ed8-cc07-4e0d-b5e9-0aec5251875b",
   "metadata": {},
   "source": [
    "## Задача 16"
   ]
  },
  {
   "cell_type": "markdown",
   "id": "f12d428f-717b-4d3c-b528-dfb232f6f757",
   "metadata": {},
   "source": [
    "Посчитайте количество учебных заведений для каждого сотрудника из предыдущего задания. При подсчёте учитывайте, что некоторые сотрудники могли окончить одно и то же заведение дважды."
   ]
  },
  {
   "cell_type": "code",
   "execution_count": 16,
   "id": "e3889f09-f4f0-4aad-be02-07b4b42ba86a",
   "metadata": {},
   "outputs": [
    {
     "data": {
      "text/plain": [
       "\"\\nSELECT t_1.id AS unique_number_employee,\\n       COUNT(t_4.instituition) AS instituition_count\\nFROM (SELECT p.id,\\n             p.company_id\\n      FROM people AS p\\n      GROUP BY p.id, p.company_id) AS t_1\\n      \\nJOIN (SELECT c.id,\\n             c.name,\\n             c.status\\n      FROM company AS c\\n      GROUP BY c.id, c.name, c.status\\n      HAVING c.status IN ('closed')) AS t_2 ON t_2.id = t_1.company_id\\n\\nJOIN (SELECT fr.company_id,\\n             fr.is_first_round,\\n             fr.is_last_round\\n      FROM funding_round AS fr\\n      GROUP BY fr.company_id, fr.is_first_round, fr.is_last_round\\n      HAVING fr.is_first_round IN (1)\\n         AND fr.is_last_round IN (1)) AS t_3 ON t_3.company_id = t_2.id\\n\\nJOIN (SELECT e.instituition,\\n             person_id\\n       FROM education AS e) AS t_4 ON t_4.person_id = t_1.id\\n           \\nGROUP BY unique_number_employee\\n\""
      ]
     },
     "execution_count": 16,
     "metadata": {},
     "output_type": "execute_result"
    }
   ],
   "source": [
    "'''\n",
    "SELECT t_1.id AS unique_number_employee,\n",
    "       COUNT(t_4.instituition) AS instituition_count\n",
    "FROM (SELECT p.id,\n",
    "             p.company_id\n",
    "      FROM people AS p\n",
    "      GROUP BY p.id, p.company_id) AS t_1\n",
    "      \n",
    "JOIN (SELECT c.id,\n",
    "             c.name,\n",
    "             c.status\n",
    "      FROM company AS c\n",
    "      GROUP BY c.id, c.name, c.status\n",
    "      HAVING c.status IN ('closed')) AS t_2 ON t_2.id = t_1.company_id\n",
    "\n",
    "JOIN (SELECT fr.company_id,\n",
    "             fr.is_first_round,\n",
    "             fr.is_last_round\n",
    "      FROM funding_round AS fr\n",
    "      GROUP BY fr.company_id, fr.is_first_round, fr.is_last_round\n",
    "      HAVING fr.is_first_round IN (1)\n",
    "         AND fr.is_last_round IN (1)) AS t_3 ON t_3.company_id = t_2.id\n",
    "\n",
    "JOIN (SELECT e.instituition,\n",
    "             person_id\n",
    "       FROM education AS e) AS t_4 ON t_4.person_id = t_1.id\n",
    "           \n",
    "GROUP BY unique_number_employee\n",
    "'''"
   ]
  },
  {
   "cell_type": "markdown",
   "id": "a5487a66-93fc-4b86-a411-19d3f80125d4",
   "metadata": {},
   "source": [
    "## Задача 17"
   ]
  },
  {
   "cell_type": "markdown",
   "id": "ae48284f-3937-4813-9bf2-08f1fd439da2",
   "metadata": {},
   "source": [
    "Дополните предыдущий запрос и выведите среднее число учебных заведений (всех, не только уникальных), которые окончили сотрудники разных компаний. Нужно вывести только одну запись, группировка здесь не понадобится."
   ]
  },
  {
   "cell_type": "code",
   "execution_count": 17,
   "id": "404ff990-85aa-4872-a539-cf26cfd741e9",
   "metadata": {},
   "outputs": [
    {
     "data": {
      "text/plain": [
       "\"\\nSELECT AVG(instituition_count)\\nFROM(SELECT t_1.id AS unique_number_employee,\\n            COUNT(t_4.instituition) AS instituition_count\\n      FROM (SELECT p.id,\\n                   p.company_id\\n            FROM people AS p\\n            GROUP BY p.id, p.company_id) AS t_1\\n            \\n      JOIN (SELECT c.id,\\n                   c.name,\\n                   c.status\\n            FROM company AS c\\n            GROUP BY c.id, c.name, c.status\\n            HAVING c.status IN ('closed')) AS t_2 ON t_2.id = t_1.company_id\\n      \\n      JOIN (SELECT fr.company_id,\\n                   fr.is_first_round,\\n                   fr.is_last_round\\n            FROM funding_round AS fr\\n            GROUP BY fr.company_id, fr.is_first_round, fr.is_last_round\\n            HAVING fr.is_first_round IN (1)\\n               AND fr.is_last_round IN (1)) AS t_3 ON t_3.company_id = t_2.id\\n      \\n      JOIN (SELECT e.instituition,\\n                   person_id\\n             FROM education AS e) AS t_4 ON t_4.person_id = t_1.id\\n                 \\n      GROUP BY unique_number_employee) AS t_5;\\n\""
      ]
     },
     "execution_count": 17,
     "metadata": {},
     "output_type": "execute_result"
    }
   ],
   "source": [
    "'''\n",
    "SELECT AVG(instituition_count)\n",
    "FROM(SELECT t_1.id AS unique_number_employee,\n",
    "            COUNT(t_4.instituition) AS instituition_count\n",
    "      FROM (SELECT p.id,\n",
    "                   p.company_id\n",
    "            FROM people AS p\n",
    "            GROUP BY p.id, p.company_id) AS t_1\n",
    "            \n",
    "      JOIN (SELECT c.id,\n",
    "                   c.name,\n",
    "                   c.status\n",
    "            FROM company AS c\n",
    "            GROUP BY c.id, c.name, c.status\n",
    "            HAVING c.status IN ('closed')) AS t_2 ON t_2.id = t_1.company_id\n",
    "      \n",
    "      JOIN (SELECT fr.company_id,\n",
    "                   fr.is_first_round,\n",
    "                   fr.is_last_round\n",
    "            FROM funding_round AS fr\n",
    "            GROUP BY fr.company_id, fr.is_first_round, fr.is_last_round\n",
    "            HAVING fr.is_first_round IN (1)\n",
    "               AND fr.is_last_round IN (1)) AS t_3 ON t_3.company_id = t_2.id\n",
    "      \n",
    "      JOIN (SELECT e.instituition,\n",
    "                   person_id\n",
    "             FROM education AS e) AS t_4 ON t_4.person_id = t_1.id\n",
    "                 \n",
    "      GROUP BY unique_number_employee) AS t_5;\n",
    "'''"
   ]
  },
  {
   "cell_type": "markdown",
   "id": "59e5f8ca-66a9-4c99-bc75-b1e392d1cc8c",
   "metadata": {},
   "source": [
    "## Задача 18"
   ]
  },
  {
   "cell_type": "markdown",
   "id": "4702f99b-a874-41cc-adb8-6d4089053c4d",
   "metadata": {},
   "source": [
    "Напишите похожий запрос: выведите среднее число учебных заведений (всех, не только уникальных), которые окончили сотрудники Socialnet."
   ]
  },
  {
   "cell_type": "code",
   "execution_count": 18,
   "id": "13b20c6f-cf31-43f5-9fe7-f0ff73afe344",
   "metadata": {},
   "outputs": [
    {
     "data": {
      "text/plain": [
       "\"\\nSELECT AVG(instituition_count)\\nFROM(SELECT t_1.id AS unique_number_employee,\\n            COUNT(t_4.instituition) AS instituition_count\\n      FROM (SELECT p.id,\\n                   p.company_id\\n            FROM people AS p\\n            GROUP BY p.id, p.company_id) AS t_1\\n            \\n      JOIN (SELECT c.id,\\n                   c.name,\\n                   c.status\\n            FROM company AS c\\n            GROUP BY c.id, c.name, c.status\\n            HAVING c.name IN ('Socialnet')) AS t_2 ON t_2.id = t_1.company_id\\n\\n      JOIN (SELECT e.instituition,\\n                   person_id\\n             FROM education AS e) AS t_4 ON t_4.person_id = t_1.id\\n                 \\n      GROUP BY unique_number_employee) AS t_5;\\n\""
      ]
     },
     "execution_count": 18,
     "metadata": {},
     "output_type": "execute_result"
    }
   ],
   "source": [
    "'''\n",
    "SELECT AVG(instituition_count)\n",
    "FROM(SELECT t_1.id AS unique_number_employee,\n",
    "            COUNT(t_4.instituition) AS instituition_count\n",
    "      FROM (SELECT p.id,\n",
    "                   p.company_id\n",
    "            FROM people AS p\n",
    "            GROUP BY p.id, p.company_id) AS t_1\n",
    "            \n",
    "      JOIN (SELECT c.id,\n",
    "                   c.name,\n",
    "                   c.status\n",
    "            FROM company AS c\n",
    "            GROUP BY c.id, c.name, c.status\n",
    "            HAVING c.name IN ('Socialnet')) AS t_2 ON t_2.id = t_1.company_id\n",
    "\n",
    "      JOIN (SELECT e.instituition,\n",
    "                   person_id\n",
    "             FROM education AS e) AS t_4 ON t_4.person_id = t_1.id\n",
    "                 \n",
    "      GROUP BY unique_number_employee) AS t_5;\n",
    "'''"
   ]
  },
  {
   "cell_type": "markdown",
   "id": "58891250-154c-4f34-832a-d2f4beef3dad",
   "metadata": {},
   "source": [
    "## Задача 19"
   ]
  },
  {
   "cell_type": "markdown",
   "id": "8d299a7d-cc73-4043-b6f4-8615fa855d44",
   "metadata": {},
   "source": [
    "Составьте таблицу из полей:\n",
    "\n",
    "* name_of_fund — название фонда;\n",
    "* name_of_company — название компании;\n",
    "* amount — сумма инвестиций, которую привлекла компания в раунде.\n",
    "\n",
    "В таблицу войдут данные о компаниях, в истории которых было больше шести важных этапов, а раунды финансирования проходили с 2012 по 2013 год включительно."
   ]
  },
  {
   "cell_type": "code",
   "execution_count": 19,
   "id": "54bf72a5-2e34-4f1d-905f-fd8e363cccbb",
   "metadata": {},
   "outputs": [
    {
     "data": {
      "text/plain": [
       "'\\nSELECT f.name AS name_of_fund, \\n       C.name AS name_of_company, \\n       fr.raised_amount AS amount\\nFROM investment AS i\\n\\nJOIN company AS c ON i.company_id=c.id\\nJOIN fund AS f ON i.fund_id=f.id\\nJOIN funding_round AS fr ON i.funding_round_id = fr.id\\n\\nWHERE EXTRACT(YEAR FROM fr.funded_at) BETWEEN 2012 AND 2013\\n  AND c.milestones > 6;\\n'"
      ]
     },
     "execution_count": 19,
     "metadata": {},
     "output_type": "execute_result"
    }
   ],
   "source": [
    "'''\n",
    "SELECT f.name AS name_of_fund, \n",
    "       C.name AS name_of_company, \n",
    "       fr.raised_amount AS amount\n",
    "FROM investment AS i\n",
    "\n",
    "JOIN company AS c ON i.company_id=c.id\n",
    "JOIN fund AS f ON i.fund_id=f.id\n",
    "JOIN funding_round AS fr ON i.funding_round_id = fr.id\n",
    "\n",
    "WHERE EXTRACT(YEAR FROM fr.funded_at) BETWEEN 2012 AND 2013\n",
    "  AND c.milestones > 6;\n",
    "'''"
   ]
  },
  {
   "cell_type": "markdown",
   "id": "1b5580f7-6fd3-4131-a160-0a52178ad8a5",
   "metadata": {},
   "source": [
    "## Задача 20"
   ]
  },
  {
   "cell_type": "markdown",
   "id": "6fc0c268-a128-4ee3-b068-c6bedbb8c288",
   "metadata": {},
   "source": [
    "Выгрузите таблицу, в которой будут такие поля:\n",
    "\n",
    "* название компании-покупателя;\n",
    "* сумма сделки;\n",
    "* название компании, которую купили;\n",
    "* сумма инвестиций, вложенных в купленную компанию;\n",
    "* доля, которая отображает, во сколько раз сумма покупки превысила сумму вложенных в компанию инвестиций, округлённая до ближайшего целого числа.\n",
    "\n",
    "Не учитывайте те сделки, в которых сумма покупки равна нулю. Если сумма инвестиций в компанию равна нулю, исключите такую компанию из таблицы. \n",
    "\n",
    "Отсортируйте таблицу по сумме сделки от большей к меньшей, а затем по названию купленной компании в лексикографическом порядке. Ограничьте таблицу первыми десятью записями."
   ]
  },
  {
   "cell_type": "code",
   "execution_count": 20,
   "id": "cb88a81b-3c19-492f-85a3-289a2a4f6866",
   "metadata": {},
   "outputs": [
    {
     "data": {
      "text/plain": [
       "'\\nSELECT company.name AS acquiring_company,\\n       t_2.price_amount,\\n       t_2.acquired_company,\\n       t_2.funding_total,\\n       ROUND(t_2.price_amount / t_2.funding_total)\\nFROM\\n(\\n    SELECT c.name AS acquired_company,\\n           c.funding_total,\\n           t_1.acquiring_company_id,\\n           t_1.price_amount\\n    FROM company AS c\\n    RIGHT JOIN (\\n                SELECT acquiring_company_id,\\n                       acquired_company_id,\\n                       price_amount\\n                FROM acquisition\\n                WHERE price_amount > 0\\n               ) AS t_1 ON c.id = t_1.acquired_company_id\\n ) AS t_2 LEFT JOIN company ON company.id  = t_2.acquiring_company_id\\nWHERE t_2.funding_total > 0\\nORDER BY t_2.price_amount DESC, t_2.acquired_company\\nLIMIT 10;\\n'"
      ]
     },
     "execution_count": 20,
     "metadata": {},
     "output_type": "execute_result"
    }
   ],
   "source": [
    "'''\n",
    "SELECT company.name AS acquiring_company,\n",
    "       t_2.price_amount,\n",
    "       t_2.acquired_company,\n",
    "       t_2.funding_total,\n",
    "       ROUND(t_2.price_amount / t_2.funding_total)\n",
    "FROM\n",
    "(\n",
    "    SELECT c.name AS acquired_company,\n",
    "           c.funding_total,\n",
    "           t_1.acquiring_company_id,\n",
    "           t_1.price_amount\n",
    "    FROM company AS c\n",
    "    RIGHT JOIN (\n",
    "                SELECT acquiring_company_id,\n",
    "                       acquired_company_id,\n",
    "                       price_amount\n",
    "                FROM acquisition\n",
    "                WHERE price_amount > 0\n",
    "               ) AS t_1 ON c.id = t_1.acquired_company_id\n",
    " ) AS t_2 LEFT JOIN company ON company.id  = t_2.acquiring_company_id\n",
    "WHERE t_2.funding_total > 0\n",
    "ORDER BY t_2.price_amount DESC, t_2.acquired_company\n",
    "LIMIT 10;\n",
    "'''"
   ]
  },
  {
   "cell_type": "markdown",
   "id": "a99eeae4-49c3-486e-95c6-3d21cd6f5b14",
   "metadata": {},
   "source": [
    "## Задача 21"
   ]
  },
  {
   "cell_type": "markdown",
   "id": "99a0d51e-05a7-4f49-9feb-920f74e946e3",
   "metadata": {},
   "source": [
    "Выгрузите таблицу, в которую войдут названия компаний из категории social, получившие финансирование с 2010 по 2013 год включительно. Проверьте, что сумма инвестиций не равна нулю. Выведите также номер месяца, в котором проходил раунд финансирования."
   ]
  },
  {
   "cell_type": "code",
   "execution_count": 21,
   "id": "222aa8f2-33c9-43eb-b329-7ad2eb9a7a5a",
   "metadata": {},
   "outputs": [
    {
     "data": {
      "text/plain": [
       "\"\\nSELECT  c.name AS social_co,\\n        EXTRACT (MONTH FROM fr.funded_at) AS funding_month\\nFROM company AS c\\n\\nLEFT JOIN funding_round AS fr ON c.id = fr.company_id\\n\\nWHERE c.category_code = 'social'\\nAND fr.funded_at BETWEEN '2010-01-01' AND '2013-12-31'\\nAND fr.raised_amount <> 0;\\n\""
      ]
     },
     "execution_count": 21,
     "metadata": {},
     "output_type": "execute_result"
    }
   ],
   "source": [
    "'''\n",
    "SELECT  c.name AS social_co,\n",
    "        EXTRACT (MONTH FROM fr.funded_at) AS funding_month\n",
    "FROM company AS c\n",
    "\n",
    "LEFT JOIN funding_round AS fr ON c.id = fr.company_id\n",
    "\n",
    "WHERE c.category_code = 'social'\n",
    "AND fr.funded_at BETWEEN '2010-01-01' AND '2013-12-31'\n",
    "AND fr.raised_amount <> 0;\n",
    "'''"
   ]
  },
  {
   "cell_type": "markdown",
   "id": "3c9ec864-bc36-4822-9092-63e485b99062",
   "metadata": {},
   "source": [
    "## Задача 22"
   ]
  },
  {
   "cell_type": "markdown",
   "id": "6d696784-9623-493b-9506-b0c0e78206e2",
   "metadata": {},
   "source": [
    "Отберите данные по месяцам с 2010 по 2013 год, когда проходили инвестиционные раунды. Сгруппируйте данные по номеру месяца и получите таблицу, в которой будут поля:\n",
    "\n",
    "* номер месяца, в котором проходили раунды;\n",
    "* количество уникальных названий фондов из США, которые инвестировали в этом месяце;\n",
    "* количество компаний, купленных за этот месяц;\n",
    "* общая сумма сделок по покупкам в этом месяце."
   ]
  },
  {
   "cell_type": "code",
   "execution_count": 22,
   "id": "6793a8f9-1867-4135-ba34-dcb31f854907",
   "metadata": {},
   "outputs": [
    {
     "data": {
      "text/plain": [
       "\"\\nWITH\\n-- выбираем месяц инвестиционных раундов в 2010-2013 гг\\ntab1 AS (SELECT EXTRACT(MONTH FROM funded_at) AS month,\\n                id AS funding_round_id\\n                FROM funding_round\\n         WHERE EXTRACT(YEAR FROM funded_at) BETWEEN 2010 AND 2013\\n         ),\\n\\n-- считаем кол-во купленных и общую сумму по сделкам за 2010-2013 гг в разрезе месяца\\ntab2 AS (SELECT EXTRACT(MONTH FROM acquired_at) AS month,\\n                COUNT(acquired_company_id) AS count_acquired,\\n                SUM(price_amount) AS total_amount\\n         FROM acquisition\\n         WHERE EXTRACT(YEAR FROM acquired_at) BETWEEN 2010 AND 2013\\n         GROUP BY EXTRACT(MONTH FROM acquired_at)\\n        ),\\n\\n-- ищем фонды из США\\ntab3 AS (SELECT i.funding_round_id,\\n                f.name\\n        FROM investment AS i\\n        JOIN fund AS f ON f.id = i.fund_id\\n        WHERE fund_id IN (SELECT id\\n                          FROM fund\\n                          WHERE country_code LIKE 'USA')\\n        ),\\n\\ntab4 AS (SELECT month,\\n                COUNT(DISTINCT name) AS count_USA\\n         FROM tab1 \\n         LEFT JOIN tab3 ON tab1.funding_round_id = tab3.funding_round_id\\n         GROUP BY month)\\n         \\nSELECT tab4.month,\\n       tab4.count_USA,\\n       tab2.count_acquired,\\n       tab2.total_amount\\nFROM tab4 \\nLEFT JOIN tab2 ON tab4.month = tab2.month;\\n\""
      ]
     },
     "execution_count": 22,
     "metadata": {},
     "output_type": "execute_result"
    }
   ],
   "source": [
    "'''\n",
    "WITH\n",
    "-- выбираем месяц инвестиционных раундов в 2010-2013 гг\n",
    "tab1 AS (SELECT EXTRACT(MONTH FROM funded_at) AS month,\n",
    "                id AS funding_round_id\n",
    "                FROM funding_round\n",
    "         WHERE EXTRACT(YEAR FROM funded_at) BETWEEN 2010 AND 2013\n",
    "         ),\n",
    "\n",
    "-- считаем кол-во купленных и общую сумму по сделкам за 2010-2013 гг в разрезе месяца\n",
    "tab2 AS (SELECT EXTRACT(MONTH FROM acquired_at) AS month,\n",
    "                COUNT(acquired_company_id) AS count_acquired,\n",
    "                SUM(price_amount) AS total_amount\n",
    "         FROM acquisition\n",
    "         WHERE EXTRACT(YEAR FROM acquired_at) BETWEEN 2010 AND 2013\n",
    "         GROUP BY EXTRACT(MONTH FROM acquired_at)\n",
    "        ),\n",
    "\n",
    "-- ищем фонды из США\n",
    "tab3 AS (SELECT i.funding_round_id,\n",
    "                f.name\n",
    "        FROM investment AS i\n",
    "        JOIN fund AS f ON f.id = i.fund_id\n",
    "        WHERE fund_id IN (SELECT id\n",
    "                          FROM fund\n",
    "                          WHERE country_code LIKE 'USA')\n",
    "        ),\n",
    "\n",
    "tab4 AS (SELECT month,\n",
    "                COUNT(DISTINCT name) AS count_USA\n",
    "         FROM tab1 \n",
    "         LEFT JOIN tab3 ON tab1.funding_round_id = tab3.funding_round_id\n",
    "         GROUP BY month)\n",
    "         \n",
    "SELECT tab4.month,\n",
    "       tab4.count_USA,\n",
    "       tab2.count_acquired,\n",
    "       tab2.total_amount\n",
    "FROM tab4 \n",
    "LEFT JOIN tab2 ON tab4.month = tab2.month;\n",
    "'''"
   ]
  },
  {
   "cell_type": "markdown",
   "id": "22d68236-6dff-4aa4-8ab6-86b8f7e79d30",
   "metadata": {},
   "source": [
    "## Задача 23"
   ]
  },
  {
   "cell_type": "markdown",
   "id": "d6b48bf1-48ed-48d9-8504-1af6492e4699",
   "metadata": {},
   "source": [
    "Составьте сводную таблицу и выведите среднюю сумму инвестиций для стран, в которых есть стартапы, зарегистрированные в 2011, 2012 и 2013 годах. Данные за каждый год должны быть в отдельном поле. Отсортируйте таблицу по среднему значению инвестиций за 2011 год от большего к меньшему."
   ]
  },
  {
   "cell_type": "code",
   "execution_count": 23,
   "id": "1211b425-fb69-486a-a8c6-90f1a01267d0",
   "metadata": {},
   "outputs": [
    {
     "data": {
      "text/plain": [
       "'\\nWITH\\n\\ntotal_11 AS (SELECT AVG(funding_total) AS total_2011,\\n                      country_code\\n               FROM company\\n               GROUP BY country_code,\\n               EXTRACT(YEAR FROM founded_at)\\n               HAVING EXTRACT(YEAR FROM founded_at) = 2011),\\n               \\ntotal_12 AS (SELECT AVG(funding_total) AS total_2012,\\n                      country_code\\n               FROM company\\n               GROUP BY country_code,\\n               EXTRACT(YEAR FROM founded_at)\\n               HAVING EXTRACT(YEAR FROM founded_at) = 2012),\\n\\ntotal_13 AS (SELECT AVG(funding_total) AS total_2013,\\n                      country_code\\n               FROM company\\n               GROUP BY country_code,\\n               EXTRACT(YEAR FROM founded_at)\\n               HAVING EXTRACT(YEAR FROM founded_at) = 2013)\\n\\nSELECT total_11.country_code,\\n       total_11.total_2011,\\n       total_12.total_2012,\\n       total_13.total_2013\\nFROM total_11 \\nINNER JOIN total_12 ON total_11.country_code = total_12.country_code\\nINNER JOIN total_13 ON total_11.country_code = total_13.country_code\\nORDER BY total_11.total_2011 DESC;\\n'"
      ]
     },
     "execution_count": 23,
     "metadata": {},
     "output_type": "execute_result"
    }
   ],
   "source": [
    "'''\n",
    "WITH\n",
    "\n",
    "total_11 AS (SELECT AVG(funding_total) AS total_2011,\n",
    "                      country_code\n",
    "               FROM company\n",
    "               GROUP BY country_code,\n",
    "               EXTRACT(YEAR FROM founded_at)\n",
    "               HAVING EXTRACT(YEAR FROM founded_at) = 2011),\n",
    "               \n",
    "total_12 AS (SELECT AVG(funding_total) AS total_2012,\n",
    "                      country_code\n",
    "               FROM company\n",
    "               GROUP BY country_code,\n",
    "               EXTRACT(YEAR FROM founded_at)\n",
    "               HAVING EXTRACT(YEAR FROM founded_at) = 2012),\n",
    "\n",
    "total_13 AS (SELECT AVG(funding_total) AS total_2013,\n",
    "                      country_code\n",
    "               FROM company\n",
    "               GROUP BY country_code,\n",
    "               EXTRACT(YEAR FROM founded_at)\n",
    "               HAVING EXTRACT(YEAR FROM founded_at) = 2013)\n",
    "\n",
    "SELECT total_11.country_code,\n",
    "       total_11.total_2011,\n",
    "       total_12.total_2012,\n",
    "       total_13.total_2013\n",
    "FROM total_11 \n",
    "INNER JOIN total_12 ON total_11.country_code = total_12.country_code\n",
    "INNER JOIN total_13 ON total_11.country_code = total_13.country_code\n",
    "ORDER BY total_11.total_2011 DESC;\n",
    "'''"
   ]
  }
 ],
 "metadata": {
  "kernelspec": {
   "display_name": "Python 3 (ipykernel)",
   "language": "python",
   "name": "python3"
  },
  "language_info": {
   "codemirror_mode": {
    "name": "ipython",
    "version": 3
   },
   "file_extension": ".py",
   "mimetype": "text/x-python",
   "name": "python",
   "nbconvert_exporter": "python",
   "pygments_lexer": "ipython3",
   "version": "3.9.5"
  }
 },
 "nbformat": 4,
 "nbformat_minor": 5
}
