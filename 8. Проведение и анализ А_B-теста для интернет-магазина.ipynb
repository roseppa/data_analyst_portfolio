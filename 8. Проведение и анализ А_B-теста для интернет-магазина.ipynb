{
 "cells": [
  {
   "cell_type": "markdown",
   "metadata": {},
   "source": [
    "# Проведение и анализ А/B-теста для интернет-магазина"
   ]
  },
  {
   "cell_type": "markdown",
   "metadata": {},
   "source": [
    "Вы — аналитик крупного интернет-магазина. Вместе с отделом маркетинга вы подготовили список гипотез для увеличения выручки. Приоритизируйте гипотезы, запустите A/B-тест и проанализируйте результаты. "
   ]
  },
  {
   "cell_type": "markdown",
   "metadata": {},
   "source": [
    "**Цель исследования:** проведение A/B-теста и анализ его результатов (принятие решения по результатам теста)."
   ]
  },
  {
   "cell_type": "markdown",
   "metadata": {},
   "source": [
    "**Исходные данные:**\n",
    "\n",
    "* список гипотез;\n",
    "* информация о заказах;\n",
    "* информация о пользователях."
   ]
  },
  {
   "cell_type": "markdown",
   "metadata": {},
   "source": [
    "<a id=\"docum_data\"></a>\n",
    "**Описание данных:**\n",
    "\n",
    "<u>**(1) Список гипотез - hypothesis.csv**</u> 🎯\n",
    "\n",
    "* **`Hypothesis`** — краткое описание гипотезы;\n",
    "* **`Reach`** — охват пользователей по 10-балльной шкале;\n",
    "* **`Impact`** — влияние на пользователей по 10-балльной шкале;\n",
    "* **`Confidence`** — уверенность в гипотезе по 10-балльной шкале;\n",
    "* **`Efforts`** — затраты ресурсов на проверку гипотезы по 10-балльной шкале. Чем больше значение Efforts, тем дороже проверка гипотезы.\n",
    "\n",
    "<u>**(2) Информация о заказах - orders.csv**</u> 💰\n",
    "\n",
    "* **`transactionId`** — идентификатор заказа;\n",
    "* **`visitorId`** — идентификатор пользователя, совершившего заказ;\n",
    "* **`date`** — дата, когда был совершён заказ;\n",
    "* **`revenue`** — выручка заказа;\n",
    "* **`group`** — группа A/B-теста, в которую попал заказ.\n",
    "\n",
    "<u>**(3) Информация о пользователях - visitors.csv**</u> 👥\n",
    "\n",
    "* **`date`** — дата;\n",
    "* **`group`** — группа A/B-теста;\n",
    "* **`visitors`** — количество пользователей в указанную дату в указанной группе A/B-теста"
   ]
  },
  {
   "cell_type": "markdown",
   "metadata": {},
   "source": [
    "## Шаг 1. Загрузка даннных (первичный анализ данных)"
   ]
  },
  {
   "cell_type": "markdown",
   "metadata": {},
   "source": [
    "**(1) Импортируем библиотеки Pandas, NumPy и Seaborn, подключаем модуль Pyplot из библиотеки Matplotlib и модуль scipy.stats из библиотеки SciPy, подключаем модули Datetime и Warnings, а также запускаем конвертер register_matplotlib_converters, который позволяет использовать типы Pandas в Matplotlib:**"
   ]
  },
  {
   "cell_type": "code",
   "execution_count": 1,
   "metadata": {},
   "outputs": [],
   "source": [
    "import pandas as pd\n",
    "import numpy as np\n",
    "import seaborn as sns\n",
    "import matplotlib.pyplot as plt\n",
    "import scipy.stats as stats\n",
    "import datetime as dt\n",
    "import warnings\n",
    "from pandas.plotting import register_matplotlib_converters\n",
    "\n",
    "# конвертеры, которые позволяют использовать типы pandas в matplotlib  \n",
    "register_matplotlib_converters()"
   ]
  },
  {
   "cell_type": "markdown",
   "metadata": {},
   "source": [
    "**(2) Cбрасываем ограничение на число выводимых столбцов таблицы и ограничение на ширину столбцов:**"
   ]
  },
  {
   "cell_type": "code",
   "execution_count": 2,
   "metadata": {
    "tags": []
   },
   "outputs": [],
   "source": [
    "pd.set_option('display.max_columns', None)\n",
    "pd.set_option('display.max_colwidth', None)"
   ]
  },
  {
   "cell_type": "markdown",
   "metadata": {
    "tags": []
   },
   "source": [
    "**(3) Добавим разделитель разрядов и оставим 2 знака после запятой для числовых значений (тип данных: float):**"
   ]
  },
  {
   "cell_type": "code",
   "execution_count": 3,
   "metadata": {},
   "outputs": [],
   "source": [
    "pd.options.display.float_format = '{:,.2f}'.format"
   ]
  },
  {
   "cell_type": "markdown",
   "metadata": {},
   "source": [
    "<a id=\"hypo_first\"></a>\n",
    "### 1.1 Список гипотез (data_hypothesis)"
   ]
  },
  {
   "cell_type": "markdown",
   "metadata": {
    "tags": []
   },
   "source": [
    "**(1) Импортируем файл CSV-формата в датафрейм:**"
   ]
  },
  {
   "cell_type": "code",
   "execution_count": 4,
   "metadata": {},
   "outputs": [],
   "source": [
    "try:\n",
    "    data_hypothesis = pd.read_csv('other/documents/hypothesis.csv', sep=',')\n",
    "except:\n",
    "    data_hypothesis = pd.read_csv('/datasets/hypothesis.csv', sep=',')"
   ]
  },
  {
   "cell_type": "markdown",
   "metadata": {},
   "source": [
    "**(2) Выведем первые строки таблицы:**"
   ]
  },
  {
   "cell_type": "code",
   "execution_count": 5,
   "metadata": {},
   "outputs": [
    {
     "data": {
      "text/html": [
       "<div>\n",
       "<style scoped>\n",
       "    .dataframe tbody tr th:only-of-type {\n",
       "        vertical-align: middle;\n",
       "    }\n",
       "\n",
       "    .dataframe tbody tr th {\n",
       "        vertical-align: top;\n",
       "    }\n",
       "\n",
       "    .dataframe thead th {\n",
       "        text-align: right;\n",
       "    }\n",
       "</style>\n",
       "<table border=\"1\" class=\"dataframe\">\n",
       "  <thead>\n",
       "    <tr style=\"text-align: right;\">\n",
       "      <th></th>\n",
       "      <th>Hypothesis</th>\n",
       "      <th>Reach</th>\n",
       "      <th>Impact</th>\n",
       "      <th>Confidence</th>\n",
       "      <th>Efforts</th>\n",
       "    </tr>\n",
       "  </thead>\n",
       "  <tbody>\n",
       "    <tr>\n",
       "      <th>0</th>\n",
       "      <td>Добавить два новых канала привлечения трафика, что позволит привлекать на 30% больше пользователей</td>\n",
       "      <td>3</td>\n",
       "      <td>10</td>\n",
       "      <td>8</td>\n",
       "      <td>6</td>\n",
       "    </tr>\n",
       "    <tr>\n",
       "      <th>1</th>\n",
       "      <td>Запустить собственную службу доставки, что сократит срок доставки заказов</td>\n",
       "      <td>2</td>\n",
       "      <td>5</td>\n",
       "      <td>4</td>\n",
       "      <td>10</td>\n",
       "    </tr>\n",
       "    <tr>\n",
       "      <th>2</th>\n",
       "      <td>Добавить блоки рекомендаций товаров на сайт интернет магазина, чтобы повысить конверсию и средний чек заказа</td>\n",
       "      <td>8</td>\n",
       "      <td>3</td>\n",
       "      <td>7</td>\n",
       "      <td>3</td>\n",
       "    </tr>\n",
       "    <tr>\n",
       "      <th>3</th>\n",
       "      <td>Изменить структура категорий, что увеличит конверсию, т.к. пользователи быстрее найдут нужный товар</td>\n",
       "      <td>8</td>\n",
       "      <td>3</td>\n",
       "      <td>3</td>\n",
       "      <td>8</td>\n",
       "    </tr>\n",
       "    <tr>\n",
       "      <th>4</th>\n",
       "      <td>Изменить цвет фона главной страницы, чтобы увеличить вовлеченность пользователей</td>\n",
       "      <td>3</td>\n",
       "      <td>1</td>\n",
       "      <td>1</td>\n",
       "      <td>1</td>\n",
       "    </tr>\n",
       "  </tbody>\n",
       "</table>\n",
       "</div>"
      ],
      "text/plain": [
       "                                                                                                     Hypothesis  \\\n",
       "0            Добавить два новых канала привлечения трафика, что позволит привлекать на 30% больше пользователей   \n",
       "1                                     Запустить собственную службу доставки, что сократит срок доставки заказов   \n",
       "2  Добавить блоки рекомендаций товаров на сайт интернет магазина, чтобы повысить конверсию и средний чек заказа   \n",
       "3           Изменить структура категорий, что увеличит конверсию, т.к. пользователи быстрее найдут нужный товар   \n",
       "4                              Изменить цвет фона главной страницы, чтобы увеличить вовлеченность пользователей   \n",
       "\n",
       "   Reach  Impact  Confidence  Efforts  \n",
       "0      3      10           8        6  \n",
       "1      2       5           4       10  \n",
       "2      8       3           7        3  \n",
       "3      8       3           3        8  \n",
       "4      3       1           1        1  "
      ]
     },
     "execution_count": 5,
     "metadata": {},
     "output_type": "execute_result"
    }
   ],
   "source": [
    "data_hypothesis.head()"
   ]
  },
  {
   "cell_type": "markdown",
   "metadata": {},
   "source": [
    "**(3) Выведем сводную информацию по всему датасету:** <a id=\"visits_datainfo\"></a>"
   ]
  },
  {
   "cell_type": "code",
   "execution_count": 6,
   "metadata": {
    "tags": []
   },
   "outputs": [
    {
     "name": "stdout",
     "output_type": "stream",
     "text": [
      "<class 'pandas.core.frame.DataFrame'>\n",
      "RangeIndex: 9 entries, 0 to 8\n",
      "Data columns (total 5 columns):\n",
      " #   Column      Non-Null Count  Dtype \n",
      "---  ------      --------------  ----- \n",
      " 0   Hypothesis  9 non-null      object\n",
      " 1   Reach       9 non-null      int64 \n",
      " 2   Impact      9 non-null      int64 \n",
      " 3   Confidence  9 non-null      int64 \n",
      " 4   Efforts     9 non-null      int64 \n",
      "dtypes: int64(4), object(1)\n",
      "memory usage: 488.0+ bytes\n",
      "\n",
      "Всего строк: 9\n",
      "Всего столбцов: 5\n",
      "\n",
      "Количество явных дубликатов: 0\n"
     ]
    }
   ],
   "source": [
    "data_hypothesis.info()\n",
    "\n",
    "print('\\nВсего строк:', data_hypothesis.shape[0])\n",
    "print('Всего столбцов:', data_hypothesis.shape[1])\n",
    "\n",
    "print('\\nКоличество явных дубликатов:', data_hypothesis.duplicated().sum())"
   ]
  },
  {
   "cell_type": "markdown",
   "metadata": {},
   "source": [
    "**(4) Выведем информацию по количеству пропущенных значений в каждом столбце:** <a id=\"visits_isna\"></a>"
   ]
  },
  {
   "cell_type": "code",
   "execution_count": 7,
   "metadata": {},
   "outputs": [
    {
     "name": "stdout",
     "output_type": "stream",
     "text": [
      "Hypothesis    0\n",
      "Reach         0\n",
      "Impact        0\n",
      "Confidence    0\n",
      "Efforts       0\n",
      "dtype: int64\n",
      "\n",
      "Количество столбцов с пропущенными значениями: 0\n"
     ]
    }
   ],
   "source": [
    "print(data_hypothesis.isna().sum())\n",
    "\n",
    "total_isna = []\n",
    "for value in data_hypothesis.isna().sum():\n",
    "    if value != 0:\n",
    "        total_isna.append(value)\n",
    "\n",
    "print('\\nКоличество столбцов с пропущенными значениями:', len(total_isna))"
   ]
  },
  {
   "cell_type": "markdown",
   "metadata": {},
   "source": [
    "**(5) Проверим список уникальных значений столбцов на наличие неявных дубликатов:**"
   ]
  },
  {
   "cell_type": "markdown",
   "metadata": {},
   "source": [
    "**`Hypothesis`**"
   ]
  },
  {
   "cell_type": "code",
   "execution_count": 8,
   "metadata": {},
   "outputs": [
    {
     "name": "stdout",
     "output_type": "stream",
     "text": [
      "Добавить блоки рекомендаций товаров на сайт интернет магазина, чтобы повысить конверсию и средний чек заказа\n",
      "Добавить два новых канала привлечения трафика, что позволит привлекать на 30% больше пользователей\n",
      "Добавить страницу отзывов клиентов о магазине, что позволит увеличить количество заказов\n",
      "Добавить форму подписки на все основные страницы, чтобы собрать базу клиентов для email-рассылок\n",
      "Запустить акцию, дающую скидку на товар в день рождения\n",
      "Запустить собственную службу доставки, что сократит срок доставки заказов\n",
      "Изменить структура категорий, что увеличит конверсию, т.к. пользователи быстрее найдут нужный товар\n",
      "Изменить цвет фона главной страницы, чтобы увеличить вовлеченность пользователей\n",
      "Показать на главной странице баннеры с актуальными акциями и распродажами, чтобы увеличить конверсию\n"
     ]
    }
   ],
   "source": [
    "hypothesis_sorted = data_hypothesis.sort_values(by='Hypothesis', ascending=True)\n",
    "hypothesis_sorted = hypothesis_sorted['Hypothesis'].unique()\n",
    "\n",
    "for hypo in hypothesis_sorted:\n",
    "    print(hypo)"
   ]
  },
  {
   "cell_type": "markdown",
   "metadata": {},
   "source": [
    "**(6) Cгенерируем описательную статистику столбцов `Reach`, `Impact`, `Confidence`, `Efforts` для того, чтобы убедиться, что значения находятся в пределах 10-балльной шкалы:**"
   ]
  },
  {
   "cell_type": "code",
   "execution_count": 9,
   "metadata": {},
   "outputs": [
    {
     "data": {
      "text/html": [
       "<div>\n",
       "<style scoped>\n",
       "    .dataframe tbody tr th:only-of-type {\n",
       "        vertical-align: middle;\n",
       "    }\n",
       "\n",
       "    .dataframe tbody tr th {\n",
       "        vertical-align: top;\n",
       "    }\n",
       "\n",
       "    .dataframe thead th {\n",
       "        text-align: right;\n",
       "    }\n",
       "</style>\n",
       "<table border=\"1\" class=\"dataframe\">\n",
       "  <thead>\n",
       "    <tr style=\"text-align: right;\">\n",
       "      <th></th>\n",
       "      <th>Reach</th>\n",
       "      <th>Impact</th>\n",
       "      <th>Confidence</th>\n",
       "      <th>Efforts</th>\n",
       "    </tr>\n",
       "  </thead>\n",
       "  <tbody>\n",
       "    <tr>\n",
       "      <th>count</th>\n",
       "      <td>9.00</td>\n",
       "      <td>9.00</td>\n",
       "      <td>9.00</td>\n",
       "      <td>9.00</td>\n",
       "    </tr>\n",
       "    <tr>\n",
       "      <th>mean</th>\n",
       "      <td>4.78</td>\n",
       "      <td>4.78</td>\n",
       "      <td>5.56</td>\n",
       "      <td>4.89</td>\n",
       "    </tr>\n",
       "    <tr>\n",
       "      <th>std</th>\n",
       "      <td>3.15</td>\n",
       "      <td>3.19</td>\n",
       "      <td>3.05</td>\n",
       "      <td>2.80</td>\n",
       "    </tr>\n",
       "    <tr>\n",
       "      <th>min</th>\n",
       "      <td>1.00</td>\n",
       "      <td>1.00</td>\n",
       "      <td>1.00</td>\n",
       "      <td>1.00</td>\n",
       "    </tr>\n",
       "    <tr>\n",
       "      <th>25%</th>\n",
       "      <td>3.00</td>\n",
       "      <td>3.00</td>\n",
       "      <td>3.00</td>\n",
       "      <td>3.00</td>\n",
       "    </tr>\n",
       "    <tr>\n",
       "      <th>50%</th>\n",
       "      <td>3.00</td>\n",
       "      <td>3.00</td>\n",
       "      <td>7.00</td>\n",
       "      <td>5.00</td>\n",
       "    </tr>\n",
       "    <tr>\n",
       "      <th>75%</th>\n",
       "      <td>8.00</td>\n",
       "      <td>7.00</td>\n",
       "      <td>8.00</td>\n",
       "      <td>6.00</td>\n",
       "    </tr>\n",
       "    <tr>\n",
       "      <th>max</th>\n",
       "      <td>10.00</td>\n",
       "      <td>10.00</td>\n",
       "      <td>9.00</td>\n",
       "      <td>10.00</td>\n",
       "    </tr>\n",
       "  </tbody>\n",
       "</table>\n",
       "</div>"
      ],
      "text/plain": [
       "       Reach  Impact  Confidence  Efforts\n",
       "count   9.00    9.00        9.00     9.00\n",
       "mean    4.78    4.78        5.56     4.89\n",
       "std     3.15    3.19        3.05     2.80\n",
       "min     1.00    1.00        1.00     1.00\n",
       "25%     3.00    3.00        3.00     3.00\n",
       "50%     3.00    3.00        7.00     5.00\n",
       "75%     8.00    7.00        8.00     6.00\n",
       "max    10.00   10.00        9.00    10.00"
      ]
     },
     "execution_count": 9,
     "metadata": {},
     "output_type": "execute_result"
    }
   ],
   "source": [
    "data_hypothesis.describe()"
   ]
  },
  {
   "cell_type": "markdown",
   "metadata": {},
   "source": [
    "<a id=\"orders_first\"></a>\n",
    "### 1.2 Информация о заказах (data_orders)"
   ]
  },
  {
   "cell_type": "markdown",
   "metadata": {
    "tags": []
   },
   "source": [
    "**(1) Импортируем файл CSV-формата в датафрейм:**"
   ]
  },
  {
   "cell_type": "code",
   "execution_count": 10,
   "metadata": {},
   "outputs": [],
   "source": [
    "try:\n",
    "    data_orders = pd.read_csv('other/documents/orders.csv', sep=',')\n",
    "except:\n",
    "    data_orders = pd.read_csv('/datasets/orders.csv', sep=',')"
   ]
  },
  {
   "cell_type": "markdown",
   "metadata": {},
   "source": [
    "**(2) Выведем первые строки таблицы:**"
   ]
  },
  {
   "cell_type": "code",
   "execution_count": 11,
   "metadata": {},
   "outputs": [
    {
     "data": {
      "text/html": [
       "<div>\n",
       "<style scoped>\n",
       "    .dataframe tbody tr th:only-of-type {\n",
       "        vertical-align: middle;\n",
       "    }\n",
       "\n",
       "    .dataframe tbody tr th {\n",
       "        vertical-align: top;\n",
       "    }\n",
       "\n",
       "    .dataframe thead th {\n",
       "        text-align: right;\n",
       "    }\n",
       "</style>\n",
       "<table border=\"1\" class=\"dataframe\">\n",
       "  <thead>\n",
       "    <tr style=\"text-align: right;\">\n",
       "      <th></th>\n",
       "      <th>transactionId</th>\n",
       "      <th>visitorId</th>\n",
       "      <th>date</th>\n",
       "      <th>revenue</th>\n",
       "      <th>group</th>\n",
       "    </tr>\n",
       "  </thead>\n",
       "  <tbody>\n",
       "    <tr>\n",
       "      <th>0</th>\n",
       "      <td>3667963787</td>\n",
       "      <td>3312258926</td>\n",
       "      <td>2019-08-15</td>\n",
       "      <td>1650</td>\n",
       "      <td>B</td>\n",
       "    </tr>\n",
       "    <tr>\n",
       "      <th>1</th>\n",
       "      <td>2804400009</td>\n",
       "      <td>3642806036</td>\n",
       "      <td>2019-08-15</td>\n",
       "      <td>730</td>\n",
       "      <td>B</td>\n",
       "    </tr>\n",
       "    <tr>\n",
       "      <th>2</th>\n",
       "      <td>2961555356</td>\n",
       "      <td>4069496402</td>\n",
       "      <td>2019-08-15</td>\n",
       "      <td>400</td>\n",
       "      <td>A</td>\n",
       "    </tr>\n",
       "    <tr>\n",
       "      <th>3</th>\n",
       "      <td>3797467345</td>\n",
       "      <td>1196621759</td>\n",
       "      <td>2019-08-15</td>\n",
       "      <td>9759</td>\n",
       "      <td>B</td>\n",
       "    </tr>\n",
       "    <tr>\n",
       "      <th>4</th>\n",
       "      <td>2282983706</td>\n",
       "      <td>2322279887</td>\n",
       "      <td>2019-08-15</td>\n",
       "      <td>2308</td>\n",
       "      <td>B</td>\n",
       "    </tr>\n",
       "  </tbody>\n",
       "</table>\n",
       "</div>"
      ],
      "text/plain": [
       "   transactionId   visitorId        date  revenue group\n",
       "0     3667963787  3312258926  2019-08-15     1650     B\n",
       "1     2804400009  3642806036  2019-08-15      730     B\n",
       "2     2961555356  4069496402  2019-08-15      400     A\n",
       "3     3797467345  1196621759  2019-08-15     9759     B\n",
       "4     2282983706  2322279887  2019-08-15     2308     B"
      ]
     },
     "execution_count": 11,
     "metadata": {},
     "output_type": "execute_result"
    }
   ],
   "source": [
    "data_orders.head()"
   ]
  },
  {
   "cell_type": "markdown",
   "metadata": {},
   "source": [
    "**(3) Выведем сводную информацию по всему датасету:** <a id=\"visits_datainfo\"></a>"
   ]
  },
  {
   "cell_type": "code",
   "execution_count": 12,
   "metadata": {
    "tags": []
   },
   "outputs": [
    {
     "name": "stdout",
     "output_type": "stream",
     "text": [
      "<class 'pandas.core.frame.DataFrame'>\n",
      "RangeIndex: 1197 entries, 0 to 1196\n",
      "Data columns (total 5 columns):\n",
      " #   Column         Non-Null Count  Dtype \n",
      "---  ------         --------------  ----- \n",
      " 0   transactionId  1197 non-null   int64 \n",
      " 1   visitorId      1197 non-null   int64 \n",
      " 2   date           1197 non-null   object\n",
      " 3   revenue        1197 non-null   int64 \n",
      " 4   group          1197 non-null   object\n",
      "dtypes: int64(3), object(2)\n",
      "memory usage: 46.9+ KB\n",
      "\n",
      "Всего строк: 1197\n",
      "Всего столбцов: 5\n",
      "\n",
      "Количество явных дубликатов: 0\n"
     ]
    }
   ],
   "source": [
    "data_orders.info()\n",
    "\n",
    "print('\\nВсего строк:', data_orders.shape[0])\n",
    "print('Всего столбцов:', data_orders.shape[1])\n",
    "\n",
    "print('\\nКоличество явных дубликатов:', data_orders.duplicated().sum())"
   ]
  },
  {
   "cell_type": "markdown",
   "metadata": {},
   "source": [
    "**(4) Выведем информацию по количеству пропущенных значений в каждом столбце:** <a id=\"visits_isna\"></a>"
   ]
  },
  {
   "cell_type": "code",
   "execution_count": 13,
   "metadata": {},
   "outputs": [
    {
     "name": "stdout",
     "output_type": "stream",
     "text": [
      "transactionId    0\n",
      "visitorId        0\n",
      "date             0\n",
      "revenue          0\n",
      "group            0\n",
      "dtype: int64\n",
      "\n",
      "Количество столбцов с пропущенными значениями: 0\n"
     ]
    }
   ],
   "source": [
    "print(data_orders.isna().sum())\n",
    "\n",
    "total_isna = []\n",
    "for value in data_orders.isna().sum():\n",
    "    if value != 0:\n",
    "        total_isna.append(value)\n",
    "\n",
    "print('\\nКоличество столбцов с пропущенными значениями:', len(total_isna))"
   ]
  },
  {
   "cell_type": "markdown",
   "metadata": {},
   "source": [
    "**(5) Cгенерируем описательную статистику для столбцов для проверки наличия аномальных значений (артефактов):**"
   ]
  },
  {
   "cell_type": "markdown",
   "metadata": {},
   "source": [
    "**`revenue`**"
   ]
  },
  {
   "cell_type": "code",
   "execution_count": 14,
   "metadata": {},
   "outputs": [
    {
     "data": {
      "text/plain": [
       "count       1,197.00\n",
       "mean        8,348.01\n",
       "std        39,191.13\n",
       "min            50.00\n",
       "25%         1,220.00\n",
       "50%         2,978.00\n",
       "75%         8,290.00\n",
       "max     1,294,500.00\n",
       "Name: revenue, dtype: float64"
      ]
     },
     "execution_count": 14,
     "metadata": {},
     "output_type": "execute_result"
    }
   ],
   "source": [
    "data_orders['revenue'].describe()"
   ]
  },
  {
   "cell_type": "code",
   "execution_count": 15,
   "metadata": {},
   "outputs": [
    {
     "data": {
      "text/plain": [
       "425     1294500\n",
       "1196     202740\n",
       "858       93940\n",
       "1136      92550\n",
       "744       86620\n",
       "Name: revenue, dtype: int64"
      ]
     },
     "execution_count": 15,
     "metadata": {},
     "output_type": "execute_result"
    }
   ],
   "source": [
    "data_orders['revenue'].sort_values(ascending=False).head(5)"
   ]
  },
  {
   "cell_type": "code",
   "execution_count": 16,
   "metadata": {},
   "outputs": [
    {
     "data": {
      "text/plain": [
       "933     60\n",
       "459     50\n",
       "756     50\n",
       "584     50\n",
       "1091    50\n",
       "Name: revenue, dtype: int64"
      ]
     },
     "execution_count": 16,
     "metadata": {},
     "output_type": "execute_result"
    }
   ],
   "source": [
    "data_orders['revenue'].sort_values(ascending=False).tail(5)"
   ]
  },
  {
   "cell_type": "markdown",
   "metadata": {},
   "source": [
    "**(6) Проверим уникальные значения столбца `group`:**"
   ]
  },
  {
   "cell_type": "code",
   "execution_count": 17,
   "metadata": {},
   "outputs": [
    {
     "data": {
      "text/plain": [
       "array(['B', 'A'], dtype=object)"
      ]
     },
     "execution_count": 17,
     "metadata": {},
     "output_type": "execute_result"
    }
   ],
   "source": [
    "data_orders['group'].unique()"
   ]
  },
  {
   "cell_type": "markdown",
   "metadata": {},
   "source": [
    "**(7) Посчитаем общее количество пользователей в тесте и проверим корректность их распределения по группам:**"
   ]
  },
  {
   "cell_type": "code",
   "execution_count": 18,
   "metadata": {},
   "outputs": [
    {
     "name": "stdout",
     "output_type": "stream",
     "text": [
      "Всего пользователей в тесте: 1031\n",
      "Число пользователей, одновременно присутствующих в двух группах: 58\n"
     ]
    }
   ],
   "source": [
    "print('Всего пользователей в тесте:', data_orders['visitorId'].nunique())\n",
    "\n",
    "group_a = data_orders[data_orders['group'] == 'A']['visitorId']\n",
    "group_b = data_orders[data_orders['group'] == 'B']['visitorId']\n",
    "\n",
    "same_users = data_orders.query('visitorId in @group_a & visitorId in @group_b')\n",
    "print('Число пользователей, одновременно присутствующих в двух группах:', same_users['visitorId'].nunique())"
   ]
  },
  {
   "cell_type": "markdown",
   "metadata": {},
   "source": [
    "<a id=\"visitors_first\"></a>\n",
    "### 1.3 Информация о пользователях (data_visitors)"
   ]
  },
  {
   "cell_type": "markdown",
   "metadata": {
    "tags": []
   },
   "source": [
    "**(1) Импортируем файл CSV-формата в датафрейм:**"
   ]
  },
  {
   "cell_type": "code",
   "execution_count": 19,
   "metadata": {},
   "outputs": [],
   "source": [
    "try:\n",
    "    data_visitors = pd.read_csv('other/documents/visitors.csv', sep=',')\n",
    "except:\n",
    "    data_visitors = pd.read_csv('/datasets/visitors.csv', sep=',')"
   ]
  },
  {
   "cell_type": "markdown",
   "metadata": {},
   "source": [
    "**(2) Выведем первые строки таблицы:**"
   ]
  },
  {
   "cell_type": "code",
   "execution_count": 20,
   "metadata": {},
   "outputs": [
    {
     "data": {
      "text/html": [
       "<div>\n",
       "<style scoped>\n",
       "    .dataframe tbody tr th:only-of-type {\n",
       "        vertical-align: middle;\n",
       "    }\n",
       "\n",
       "    .dataframe tbody tr th {\n",
       "        vertical-align: top;\n",
       "    }\n",
       "\n",
       "    .dataframe thead th {\n",
       "        text-align: right;\n",
       "    }\n",
       "</style>\n",
       "<table border=\"1\" class=\"dataframe\">\n",
       "  <thead>\n",
       "    <tr style=\"text-align: right;\">\n",
       "      <th></th>\n",
       "      <th>date</th>\n",
       "      <th>group</th>\n",
       "      <th>visitors</th>\n",
       "    </tr>\n",
       "  </thead>\n",
       "  <tbody>\n",
       "    <tr>\n",
       "      <th>0</th>\n",
       "      <td>2019-08-01</td>\n",
       "      <td>A</td>\n",
       "      <td>719</td>\n",
       "    </tr>\n",
       "    <tr>\n",
       "      <th>1</th>\n",
       "      <td>2019-08-02</td>\n",
       "      <td>A</td>\n",
       "      <td>619</td>\n",
       "    </tr>\n",
       "    <tr>\n",
       "      <th>2</th>\n",
       "      <td>2019-08-03</td>\n",
       "      <td>A</td>\n",
       "      <td>507</td>\n",
       "    </tr>\n",
       "    <tr>\n",
       "      <th>3</th>\n",
       "      <td>2019-08-04</td>\n",
       "      <td>A</td>\n",
       "      <td>717</td>\n",
       "    </tr>\n",
       "    <tr>\n",
       "      <th>4</th>\n",
       "      <td>2019-08-05</td>\n",
       "      <td>A</td>\n",
       "      <td>756</td>\n",
       "    </tr>\n",
       "  </tbody>\n",
       "</table>\n",
       "</div>"
      ],
      "text/plain": [
       "         date group  visitors\n",
       "0  2019-08-01     A       719\n",
       "1  2019-08-02     A       619\n",
       "2  2019-08-03     A       507\n",
       "3  2019-08-04     A       717\n",
       "4  2019-08-05     A       756"
      ]
     },
     "execution_count": 20,
     "metadata": {},
     "output_type": "execute_result"
    }
   ],
   "source": [
    "data_visitors.head()"
   ]
  },
  {
   "cell_type": "markdown",
   "metadata": {},
   "source": [
    "**(3) Выведем сводную информацию по всему датасету:** <a id=\"visits_datainfo\"></a>"
   ]
  },
  {
   "cell_type": "code",
   "execution_count": 21,
   "metadata": {
    "tags": []
   },
   "outputs": [
    {
     "name": "stdout",
     "output_type": "stream",
     "text": [
      "<class 'pandas.core.frame.DataFrame'>\n",
      "RangeIndex: 62 entries, 0 to 61\n",
      "Data columns (total 3 columns):\n",
      " #   Column    Non-Null Count  Dtype \n",
      "---  ------    --------------  ----- \n",
      " 0   date      62 non-null     object\n",
      " 1   group     62 non-null     object\n",
      " 2   visitors  62 non-null     int64 \n",
      "dtypes: int64(1), object(2)\n",
      "memory usage: 1.6+ KB\n",
      "\n",
      "Всего строк: 62\n",
      "Всего столбцов: 3\n",
      "\n",
      "Количество явных дубликатов: 0\n"
     ]
    }
   ],
   "source": [
    "data_visitors.info()\n",
    "\n",
    "print('\\nВсего строк:', data_visitors.shape[0])\n",
    "print('Всего столбцов:', data_visitors.shape[1])\n",
    "\n",
    "print('\\nКоличество явных дубликатов:', data_visitors.duplicated().sum())"
   ]
  },
  {
   "cell_type": "markdown",
   "metadata": {},
   "source": [
    "**(4) Выведем информацию по количеству пропущенных значений в каждом столбце:** <a id=\"visits_isna\"></a>"
   ]
  },
  {
   "cell_type": "code",
   "execution_count": 22,
   "metadata": {},
   "outputs": [
    {
     "name": "stdout",
     "output_type": "stream",
     "text": [
      "date        0\n",
      "group       0\n",
      "visitors    0\n",
      "dtype: int64\n",
      "\n",
      "Количество столбцов с пропущенными значениями: 0\n"
     ]
    }
   ],
   "source": [
    "print(data_visitors.isna().sum())\n",
    "\n",
    "total_isna = []\n",
    "for value in data_visitors.isna().sum():\n",
    "    if value != 0:\n",
    "        total_isna.append(value)\n",
    "\n",
    "print('\\nКоличество столбцов с пропущенными значениями:', len(total_isna))"
   ]
  },
  {
   "cell_type": "markdown",
   "metadata": {},
   "source": [
    "**(5) Проверим уникальные значения столбца `group`:**"
   ]
  },
  {
   "cell_type": "code",
   "execution_count": 23,
   "metadata": {},
   "outputs": [
    {
     "data": {
      "text/plain": [
       "array(['A', 'B'], dtype=object)"
      ]
     },
     "execution_count": 23,
     "metadata": {},
     "output_type": "execute_result"
    }
   ],
   "source": [
    "data_visitors['group'].unique()"
   ]
  },
  {
   "cell_type": "markdown",
   "metadata": {},
   "source": [
    "---\n",
    "<a id=\"first_res_data\"></a>\n",
    "### 📌 <u>**Результаты и выявленные проблемы первичного анализа данных**</u>"
   ]
  },
  {
   "cell_type": "markdown",
   "metadata": {},
   "source": [
    "**[(1) Список гипотез (data_hypothesis)](#hypo_first)**"
   ]
  },
  {
   "cell_type": "markdown",
   "metadata": {},
   "source": [
    "1. Датафрейм состоит из **9 строк** и **5 столбцов** различных типов данных:\n",
    "\n",
    "    * **int** (целые числа) - 4 столбца;\n",
    "    * **object** (текстовые или смешанные числовые и нечисловые значения) - 1 столбец;"
   ]
  },
  {
   "cell_type": "markdown",
   "metadata": {},
   "source": [
    "2. Названия всех столбцов **содержат символы верхнего регистра**. Необходимо переименовать столбцы в соответствии со стилем \"змеиного регистра\".  "
   ]
  },
  {
   "cell_type": "markdown",
   "metadata": {},
   "source": [
    "3. **Столбцов с пропущенными значеняими НЕ выявлено**;"
   ]
  },
  {
   "cell_type": "markdown",
   "metadata": {},
   "source": [
    "4. **Типы данных соответствуют описанию столбцов из [документации](#docum_data)**;"
   ]
  },
  {
   "cell_type": "markdown",
   "metadata": {},
   "source": [
    "5. **Явных дубликатов НЕ выявлено**;"
   ]
  },
  {
   "cell_type": "markdown",
   "metadata": {},
   "source": [
    "6. **Неявных дубликатов НЕ выявлено**;"
   ]
  },
  {
   "cell_type": "markdown",
   "metadata": {},
   "source": [
    "7. **Аномальные значения (артефакты) отсутствуют**;"
   ]
  },
  {
   "cell_type": "markdown",
   "metadata": {},
   "source": [
    "8. Значения столбцов **`Reach`**, **`Impact`**, **`Confidence`**, **`Efforts`** **находятся в пределах 10-балльной шкалы**, как сказано в [документации](#docum_data)."
   ]
  },
  {
   "cell_type": "code",
   "execution_count": 24,
   "metadata": {
    "tags": []
   },
   "outputs": [
    {
     "data": {
      "text/plain": [
       "9"
      ]
     },
     "execution_count": 24,
     "metadata": {},
     "output_type": "execute_result"
    }
   ],
   "source": [
    "# зафиксируем размер датасета до начала предобработки\n",
    "\n",
    "size_hypothesis = data_hypothesis.shape[0]\n",
    "size_hypothesis"
   ]
  },
  {
   "cell_type": "markdown",
   "metadata": {},
   "source": [
    "---\n",
    "**[(2) Информация о заказах (data_orders)](#orders_first)**"
   ]
  },
  {
   "cell_type": "markdown",
   "metadata": {},
   "source": [
    "1. Датафрейм состоит из **1 197 строк** и **5 столбцов** различных типов данных:\n",
    "\n",
    "    * **int** (целые числа) - 3 столбца;\n",
    "    * **object** (текстовые или смешанные числовые и нечисловые значения) - 2 столбца;"
   ]
  },
  {
   "cell_type": "markdown",
   "metadata": {},
   "source": [
    "2. Названия столбцов **`transactionId`** и **`visitorId`** **содержат символы верхнего регистра**. Необходимо переименовать столбцы в соответствии со стилем \"змеиного регистра\".  "
   ]
  },
  {
   "cell_type": "markdown",
   "metadata": {},
   "source": [
    "3. **Столбцов с пропущенными значеняими НЕ выявлено**;"
   ]
  },
  {
   "cell_type": "markdown",
   "metadata": {},
   "source": [
    "4. Наблюдается **несоответствие типа данных столбцов описанию из [документации](#docum_data)**:\n",
    "\n",
    "    *  **`date`** - текущий тип данных **object** (текстовые или смешанные числовые и нечисловые значения) необходимо заменить на **datetime** (дата и время);"
   ]
  },
  {
   "cell_type": "markdown",
   "metadata": {},
   "source": [
    "5. **Явных дубликатов НЕ выявлено**;"
   ]
  },
  {
   "cell_type": "markdown",
   "metadata": {},
   "source": [
    "6. **Неявных дубликатов НЕ выявлено**;"
   ]
  },
  {
   "cell_type": "markdown",
   "metadata": {},
   "source": [
    "7. В столбце **`revenue`** **присутствуют аномальные значения**. Более детально данное наблюдение будт разобрано на шаге анализа A/B-теста;"
   ]
  },
  {
   "cell_type": "markdown",
   "metadata": {},
   "source": [
    "8. Обнаружено **58 пользователей, которые одновременно присутствуют в двух группах A и B**. В целях повышения корректности проведения A/B-теста принято решение исключить данных пользователей их анализа."
   ]
  },
  {
   "cell_type": "code",
   "execution_count": 25,
   "metadata": {
    "tags": []
   },
   "outputs": [
    {
     "data": {
      "text/plain": [
       "1197"
      ]
     },
     "execution_count": 25,
     "metadata": {},
     "output_type": "execute_result"
    }
   ],
   "source": [
    "# зафиксируем размер датасета до начала предобработки\n",
    "\n",
    "size_orders = data_orders.shape[0]\n",
    "size_orders"
   ]
  },
  {
   "cell_type": "markdown",
   "metadata": {},
   "source": [
    "---\n",
    "**[(3) Информация о пользователях (data_visitors)](#visitors_first)**"
   ]
  },
  {
   "cell_type": "markdown",
   "metadata": {},
   "source": [
    "1. Датафрейм состоит из **62 строки** и **3 столбца** различных типов данных:\n",
    "\n",
    "    * **int** (целые числа) - 1 столбец;\n",
    "    * **object** (текстовые или смешанные числовые и нечисловые значения) - 2 столбца;"
   ]
  },
  {
   "cell_type": "markdown",
   "metadata": {},
   "source": [
    "2. **Названия столбцов соответствуют стилю \"змеиного регистра\"**;"
   ]
  },
  {
   "cell_type": "markdown",
   "metadata": {},
   "source": [
    "3. **Столбцов с пропущенными значеняими НЕ выявлено**;"
   ]
  },
  {
   "cell_type": "markdown",
   "metadata": {},
   "source": [
    "4. Наблюдается **несоответствие типа данных столбцов описанию из [документации](#docum_data)**:\n",
    "\n",
    "    *  **`date`** - текущий тип данных **object** (текстовые или смешанные числовые и нечисловые значения) необходимо заменить на **datetime** (дата и время);"
   ]
  },
  {
   "cell_type": "markdown",
   "metadata": {},
   "source": [
    "5. **Явных дубликатов НЕ выявлено**;"
   ]
  },
  {
   "cell_type": "markdown",
   "metadata": {},
   "source": [
    "6. **Неявных дубликатов НЕ выявлено**;"
   ]
  },
  {
   "cell_type": "markdown",
   "metadata": {},
   "source": [
    "7. **Аномальные значения (артефакты) отсутствуют**."
   ]
  },
  {
   "cell_type": "code",
   "execution_count": 26,
   "metadata": {
    "tags": []
   },
   "outputs": [
    {
     "data": {
      "text/plain": [
       "62"
      ]
     },
     "execution_count": 26,
     "metadata": {},
     "output_type": "execute_result"
    }
   ],
   "source": [
    "# зафиксируем размер датасета до начала предобработки\n",
    "\n",
    "size_visitors = data_visitors.shape[0]\n",
    "size_visitors"
   ]
  },
  {
   "cell_type": "markdown",
   "metadata": {},
   "source": [
    "## Шаг 2. Предобработка данных"
   ]
  },
  {
   "cell_type": "markdown",
   "metadata": {},
   "source": [
    "<a id=\"hypo_pre\"></a>\n",
    "### 1.1 Список гипотез (data_hypothesis)"
   ]
  },
  {
   "cell_type": "markdown",
   "metadata": {},
   "source": [
    "**(1) Приведём названия столбцов к \"змеиному (нижнему) регистру\":**"
   ]
  },
  {
   "cell_type": "code",
   "execution_count": 27,
   "metadata": {},
   "outputs": [
    {
     "data": {
      "text/plain": [
       "Index(['hypothesis', 'reach', 'impact', 'confidence', 'efforts'], dtype='object')"
      ]
     },
     "execution_count": 27,
     "metadata": {},
     "output_type": "execute_result"
    }
   ],
   "source": [
    "data_hypothesis.columns = data_hypothesis.columns.str.lower()\n",
    "data_hypothesis.columns"
   ]
  },
  {
   "cell_type": "markdown",
   "metadata": {},
   "source": [
    "**(2) Выведем обновлённую сводную информацию по всему датасету:**"
   ]
  },
  {
   "cell_type": "code",
   "execution_count": 28,
   "metadata": {},
   "outputs": [
    {
     "name": "stdout",
     "output_type": "stream",
     "text": [
      "<class 'pandas.core.frame.DataFrame'>\n",
      "RangeIndex: 9 entries, 0 to 8\n",
      "Data columns (total 5 columns):\n",
      " #   Column      Non-Null Count  Dtype \n",
      "---  ------      --------------  ----- \n",
      " 0   hypothesis  9 non-null      object\n",
      " 1   reach       9 non-null      int64 \n",
      " 2   impact      9 non-null      int64 \n",
      " 3   confidence  9 non-null      int64 \n",
      " 4   efforts     9 non-null      int64 \n",
      "dtypes: int64(4), object(1)\n",
      "memory usage: 488.0+ bytes\n",
      "\n",
      "Всего строк: 9\n",
      "Всего столбцов: 5\n",
      "\n",
      "Количество явных дубликатов: 0\n"
     ]
    }
   ],
   "source": [
    "data_hypothesis.info()\n",
    "\n",
    "print('\\nВсего строк:', data_hypothesis.shape[0])\n",
    "print('Всего столбцов:', data_hypothesis.shape[1])\n",
    "\n",
    "print('\\nКоличество явных дубликатов:', data_hypothesis.duplicated().sum())"
   ]
  },
  {
   "cell_type": "code",
   "execution_count": 29,
   "metadata": {},
   "outputs": [
    {
     "name": "stdout",
     "output_type": "stream",
     "text": [
      "hypothesis    0\n",
      "reach         0\n",
      "impact        0\n",
      "confidence    0\n",
      "efforts       0\n",
      "dtype: int64\n",
      "\n",
      "Количество столбцов с пропущенными значениями: 0\n"
     ]
    }
   ],
   "source": [
    "print(data_hypothesis.isna().sum())\n",
    "\n",
    "total_isna = []\n",
    "for value in data_hypothesis.isna().sum():\n",
    "    if value != 0:\n",
    "        total_isna.append(value)\n",
    "\n",
    "print('\\nКоличество столбцов с пропущенными значениями:', len(total_isna))"
   ]
  },
  {
   "cell_type": "markdown",
   "metadata": {},
   "source": [
    "**(3) Выведем первые строки обновлённого датафрейма:**"
   ]
  },
  {
   "cell_type": "code",
   "execution_count": 30,
   "metadata": {},
   "outputs": [
    {
     "data": {
      "text/html": [
       "<div>\n",
       "<style scoped>\n",
       "    .dataframe tbody tr th:only-of-type {\n",
       "        vertical-align: middle;\n",
       "    }\n",
       "\n",
       "    .dataframe tbody tr th {\n",
       "        vertical-align: top;\n",
       "    }\n",
       "\n",
       "    .dataframe thead th {\n",
       "        text-align: right;\n",
       "    }\n",
       "</style>\n",
       "<table border=\"1\" class=\"dataframe\">\n",
       "  <thead>\n",
       "    <tr style=\"text-align: right;\">\n",
       "      <th></th>\n",
       "      <th>hypothesis</th>\n",
       "      <th>reach</th>\n",
       "      <th>impact</th>\n",
       "      <th>confidence</th>\n",
       "      <th>efforts</th>\n",
       "    </tr>\n",
       "  </thead>\n",
       "  <tbody>\n",
       "    <tr>\n",
       "      <th>0</th>\n",
       "      <td>Добавить два новых канала привлечения трафика, что позволит привлекать на 30% больше пользователей</td>\n",
       "      <td>3</td>\n",
       "      <td>10</td>\n",
       "      <td>8</td>\n",
       "      <td>6</td>\n",
       "    </tr>\n",
       "    <tr>\n",
       "      <th>1</th>\n",
       "      <td>Запустить собственную службу доставки, что сократит срок доставки заказов</td>\n",
       "      <td>2</td>\n",
       "      <td>5</td>\n",
       "      <td>4</td>\n",
       "      <td>10</td>\n",
       "    </tr>\n",
       "    <tr>\n",
       "      <th>2</th>\n",
       "      <td>Добавить блоки рекомендаций товаров на сайт интернет магазина, чтобы повысить конверсию и средний чек заказа</td>\n",
       "      <td>8</td>\n",
       "      <td>3</td>\n",
       "      <td>7</td>\n",
       "      <td>3</td>\n",
       "    </tr>\n",
       "    <tr>\n",
       "      <th>3</th>\n",
       "      <td>Изменить структура категорий, что увеличит конверсию, т.к. пользователи быстрее найдут нужный товар</td>\n",
       "      <td>8</td>\n",
       "      <td>3</td>\n",
       "      <td>3</td>\n",
       "      <td>8</td>\n",
       "    </tr>\n",
       "    <tr>\n",
       "      <th>4</th>\n",
       "      <td>Изменить цвет фона главной страницы, чтобы увеличить вовлеченность пользователей</td>\n",
       "      <td>3</td>\n",
       "      <td>1</td>\n",
       "      <td>1</td>\n",
       "      <td>1</td>\n",
       "    </tr>\n",
       "  </tbody>\n",
       "</table>\n",
       "</div>"
      ],
      "text/plain": [
       "                                                                                                     hypothesis  \\\n",
       "0            Добавить два новых канала привлечения трафика, что позволит привлекать на 30% больше пользователей   \n",
       "1                                     Запустить собственную службу доставки, что сократит срок доставки заказов   \n",
       "2  Добавить блоки рекомендаций товаров на сайт интернет магазина, чтобы повысить конверсию и средний чек заказа   \n",
       "3           Изменить структура категорий, что увеличит конверсию, т.к. пользователи быстрее найдут нужный товар   \n",
       "4                              Изменить цвет фона главной страницы, чтобы увеличить вовлеченность пользователей   \n",
       "\n",
       "   reach  impact  confidence  efforts  \n",
       "0      3      10           8        6  \n",
       "1      2       5           4       10  \n",
       "2      8       3           7        3  \n",
       "3      8       3           3        8  \n",
       "4      3       1           1        1  "
      ]
     },
     "execution_count": 30,
     "metadata": {},
     "output_type": "execute_result"
    }
   ],
   "source": [
    "data_hypothesis.head()"
   ]
  },
  {
   "cell_type": "markdown",
   "metadata": {},
   "source": [
    "<a id=\"orders_pre\"></a>\n",
    "### 1.2 Информация о заказах (data_orders)"
   ]
  },
  {
   "cell_type": "markdown",
   "metadata": {},
   "source": [
    "**(1) Приведём названия столбцов `transactionId` и `visitorId` к \"змеиному (нижнему) регистру\":**"
   ]
  },
  {
   "cell_type": "code",
   "execution_count": 31,
   "metadata": {},
   "outputs": [],
   "source": [
    "data_orders = data_orders.rename(\n",
    "    columns={'transactionId': 'transaction_id',\n",
    "             'visitorId': 'visitor_id'}\n",
    ")"
   ]
  },
  {
   "cell_type": "markdown",
   "metadata": {},
   "source": [
    "**(2) Исключим из анализа 58 пользователей, которые одновременно присутствуют в двух группах A и B:**"
   ]
  },
  {
   "cell_type": "code",
   "execution_count": 32,
   "metadata": {},
   "outputs": [],
   "source": [
    "group_a = data_orders[data_orders['group'] == 'A']['visitor_id']\n",
    "group_b = data_orders[data_orders['group'] == 'B']['visitor_id']\n",
    "\n",
    "same_users1 = data_orders.query('visitor_id in @group_a & visitor_id in @group_b')\n",
    "\n",
    "data_orders = data_orders.query('visitor_id not in @same_users1[\"visitor_id\"]').reset_index(drop=True)"
   ]
  },
  {
   "cell_type": "markdown",
   "metadata": {},
   "source": [
    "Проверим полученный результат:"
   ]
  },
  {
   "cell_type": "code",
   "execution_count": 33,
   "metadata": {},
   "outputs": [
    {
     "name": "stdout",
     "output_type": "stream",
     "text": [
      "Всего пользователей в тесте осталось: 973\n",
      "Число пользователей, одновременно присутствующих в двух группах: 0\n"
     ]
    }
   ],
   "source": [
    "group_a = data_orders[data_orders['group'] == 'A']['visitor_id']\n",
    "group_b = data_orders[data_orders['group'] == 'B']['visitor_id']\n",
    "\n",
    "same_users2 = data_orders.query('visitor_id in @group_a & visitor_id in @group_b')\n",
    "\n",
    "print('Всего пользователей в тесте осталось:', data_orders['visitor_id'].nunique())\n",
    "print('Число пользователей, одновременно присутствующих в двух группах:', same_users2['visitor_id'].nunique())"
   ]
  },
  {
   "cell_type": "markdown",
   "metadata": {},
   "source": [
    "**(3) Изменим тип данных *object* (текстовые или смешанные числовые и нечисловые значения) на *datetime* (дата и время) в столбце `date`:**"
   ]
  },
  {
   "cell_type": "code",
   "execution_count": 34,
   "metadata": {
    "tags": []
   },
   "outputs": [],
   "source": [
    "data_orders['date'] = pd.to_datetime(data_orders['date'])"
   ]
  },
  {
   "cell_type": "markdown",
   "metadata": {},
   "source": [
    "Теперь можно проверить период данных:"
   ]
  },
  {
   "cell_type": "code",
   "execution_count": 35,
   "metadata": {},
   "outputs": [
    {
     "name": "stdout",
     "output_type": "stream",
     "text": [
      "Датафрейм содержит данные с 2019-08-01 00:00:00 по 2019-08-31 00:00:00\n"
     ]
    }
   ],
   "source": [
    "print('Датафрейм содержит данные с', data_orders['date'].min(), 'по', data_orders['date'].max())"
   ]
  },
  {
   "cell_type": "markdown",
   "metadata": {},
   "source": [
    "**`Датафрейм содержит данные с 1 августа 2019 года по 31 августа 2019 года`**"
   ]
  },
  {
   "cell_type": "markdown",
   "metadata": {},
   "source": [
    "**(4) Выведем обновлённую сводную информацию по всему датасету:**"
   ]
  },
  {
   "cell_type": "code",
   "execution_count": 36,
   "metadata": {},
   "outputs": [
    {
     "name": "stdout",
     "output_type": "stream",
     "text": [
      "<class 'pandas.core.frame.DataFrame'>\n",
      "RangeIndex: 1016 entries, 0 to 1015\n",
      "Data columns (total 5 columns):\n",
      " #   Column          Non-Null Count  Dtype         \n",
      "---  ------          --------------  -----         \n",
      " 0   transaction_id  1016 non-null   int64         \n",
      " 1   visitor_id      1016 non-null   int64         \n",
      " 2   date            1016 non-null   datetime64[ns]\n",
      " 3   revenue         1016 non-null   int64         \n",
      " 4   group           1016 non-null   object        \n",
      "dtypes: datetime64[ns](1), int64(3), object(1)\n",
      "memory usage: 39.8+ KB\n",
      "\n",
      "Всего строк: 1016\n",
      "Всего столбцов: 5\n",
      "\n",
      "Количество явных дубликатов: 0\n"
     ]
    }
   ],
   "source": [
    "data_orders.info()\n",
    "\n",
    "print('\\nВсего строк:', data_orders.shape[0])\n",
    "print('Всего столбцов:', data_orders.shape[1])\n",
    "\n",
    "print('\\nКоличество явных дубликатов:', data_orders.duplicated().sum())"
   ]
  },
  {
   "cell_type": "code",
   "execution_count": 37,
   "metadata": {},
   "outputs": [
    {
     "name": "stdout",
     "output_type": "stream",
     "text": [
      "transaction_id    0\n",
      "visitor_id        0\n",
      "date              0\n",
      "revenue           0\n",
      "group             0\n",
      "dtype: int64\n",
      "\n",
      "Количество столбцов с пропущенными значениями: 0\n"
     ]
    }
   ],
   "source": [
    "print(data_orders.isna().sum())\n",
    "\n",
    "total_isna = []\n",
    "for value in data_orders.isna().sum():\n",
    "    if value != 0:\n",
    "        total_isna.append(value)\n",
    "\n",
    "print('\\nКоличество столбцов с пропущенными значениями:', len(total_isna))"
   ]
  },
  {
   "cell_type": "markdown",
   "metadata": {},
   "source": [
    "**(5) Выведем первые строки обновлённого датафрейма:**"
   ]
  },
  {
   "cell_type": "code",
   "execution_count": 38,
   "metadata": {},
   "outputs": [
    {
     "data": {
      "text/html": [
       "<div>\n",
       "<style scoped>\n",
       "    .dataframe tbody tr th:only-of-type {\n",
       "        vertical-align: middle;\n",
       "    }\n",
       "\n",
       "    .dataframe tbody tr th {\n",
       "        vertical-align: top;\n",
       "    }\n",
       "\n",
       "    .dataframe thead th {\n",
       "        text-align: right;\n",
       "    }\n",
       "</style>\n",
       "<table border=\"1\" class=\"dataframe\">\n",
       "  <thead>\n",
       "    <tr style=\"text-align: right;\">\n",
       "      <th></th>\n",
       "      <th>transaction_id</th>\n",
       "      <th>visitor_id</th>\n",
       "      <th>date</th>\n",
       "      <th>revenue</th>\n",
       "      <th>group</th>\n",
       "    </tr>\n",
       "  </thead>\n",
       "  <tbody>\n",
       "    <tr>\n",
       "      <th>0</th>\n",
       "      <td>3667963787</td>\n",
       "      <td>3312258926</td>\n",
       "      <td>2019-08-15</td>\n",
       "      <td>1650</td>\n",
       "      <td>B</td>\n",
       "    </tr>\n",
       "    <tr>\n",
       "      <th>1</th>\n",
       "      <td>2804400009</td>\n",
       "      <td>3642806036</td>\n",
       "      <td>2019-08-15</td>\n",
       "      <td>730</td>\n",
       "      <td>B</td>\n",
       "    </tr>\n",
       "    <tr>\n",
       "      <th>2</th>\n",
       "      <td>3797467345</td>\n",
       "      <td>1196621759</td>\n",
       "      <td>2019-08-15</td>\n",
       "      <td>9759</td>\n",
       "      <td>B</td>\n",
       "    </tr>\n",
       "    <tr>\n",
       "      <th>3</th>\n",
       "      <td>2282983706</td>\n",
       "      <td>2322279887</td>\n",
       "      <td>2019-08-15</td>\n",
       "      <td>2308</td>\n",
       "      <td>B</td>\n",
       "    </tr>\n",
       "    <tr>\n",
       "      <th>4</th>\n",
       "      <td>182168103</td>\n",
       "      <td>935554773</td>\n",
       "      <td>2019-08-15</td>\n",
       "      <td>2210</td>\n",
       "      <td>B</td>\n",
       "    </tr>\n",
       "  </tbody>\n",
       "</table>\n",
       "</div>"
      ],
      "text/plain": [
       "   transaction_id  visitor_id       date  revenue group\n",
       "0      3667963787  3312258926 2019-08-15     1650     B\n",
       "1      2804400009  3642806036 2019-08-15      730     B\n",
       "2      3797467345  1196621759 2019-08-15     9759     B\n",
       "3      2282983706  2322279887 2019-08-15     2308     B\n",
       "4       182168103   935554773 2019-08-15     2210     B"
      ]
     },
     "execution_count": 38,
     "metadata": {},
     "output_type": "execute_result"
    }
   ],
   "source": [
    "data_orders.head()"
   ]
  },
  {
   "cell_type": "markdown",
   "metadata": {},
   "source": [
    "<a id=\"visitors_pre\"></a>\n",
    "### 1.3 Информация о пользователях (data_visitors)"
   ]
  },
  {
   "cell_type": "markdown",
   "metadata": {},
   "source": [
    "**(1) Изменим тип данных *object* (текстовые или смешанные числовые и нечисловые значения) на *datetime* (дата и время) в столбце `date`:**"
   ]
  },
  {
   "cell_type": "code",
   "execution_count": 39,
   "metadata": {
    "tags": []
   },
   "outputs": [],
   "source": [
    "data_visitors['date'] = pd.to_datetime(data_visitors['date'])"
   ]
  },
  {
   "cell_type": "markdown",
   "metadata": {},
   "source": [
    "Теперь можно проверить период данных:"
   ]
  },
  {
   "cell_type": "code",
   "execution_count": 40,
   "metadata": {},
   "outputs": [
    {
     "name": "stdout",
     "output_type": "stream",
     "text": [
      "Датафрейм содержит данные с 2019-08-01 00:00:00 по 2019-08-31 00:00:00\n"
     ]
    }
   ],
   "source": [
    "print('Датафрейм содержит данные с', data_visitors['date'].min(), 'по', data_visitors['date'].max())"
   ]
  },
  {
   "cell_type": "markdown",
   "metadata": {},
   "source": [
    "**`Датафрейм содержит данные с 1 августа 2019 года по 31 августа 2019 года`**"
   ]
  },
  {
   "cell_type": "markdown",
   "metadata": {},
   "source": [
    "**(2) Выведем обновлённую сводную информацию по всему датасету:**"
   ]
  },
  {
   "cell_type": "code",
   "execution_count": 41,
   "metadata": {},
   "outputs": [
    {
     "name": "stdout",
     "output_type": "stream",
     "text": [
      "<class 'pandas.core.frame.DataFrame'>\n",
      "RangeIndex: 62 entries, 0 to 61\n",
      "Data columns (total 3 columns):\n",
      " #   Column    Non-Null Count  Dtype         \n",
      "---  ------    --------------  -----         \n",
      " 0   date      62 non-null     datetime64[ns]\n",
      " 1   group     62 non-null     object        \n",
      " 2   visitors  62 non-null     int64         \n",
      "dtypes: datetime64[ns](1), int64(1), object(1)\n",
      "memory usage: 1.6+ KB\n",
      "\n",
      "Всего строк: 62\n",
      "Всего столбцов: 3\n",
      "\n",
      "Количество явных дубликатов: 0\n"
     ]
    }
   ],
   "source": [
    "data_visitors.info()\n",
    "\n",
    "print('\\nВсего строк:', data_visitors.shape[0])\n",
    "print('Всего столбцов:', data_visitors.shape[1])\n",
    "\n",
    "print('\\nКоличество явных дубликатов:', data_visitors.duplicated().sum())"
   ]
  },
  {
   "cell_type": "code",
   "execution_count": 42,
   "metadata": {},
   "outputs": [
    {
     "name": "stdout",
     "output_type": "stream",
     "text": [
      "date        0\n",
      "group       0\n",
      "visitors    0\n",
      "dtype: int64\n",
      "\n",
      "Количество столбцов с пропущенными значениями: 0\n"
     ]
    }
   ],
   "source": [
    "print(data_visitors.isna().sum())\n",
    "\n",
    "total_isna = []\n",
    "for value in data_visitors.isna().sum():\n",
    "    if value != 0:\n",
    "        total_isna.append(value)\n",
    "\n",
    "print('\\nКоличество столбцов с пропущенными значениями:', len(total_isna))"
   ]
  },
  {
   "cell_type": "markdown",
   "metadata": {},
   "source": [
    "**(3) Выведем первые строки обновлённого датафрейма:**"
   ]
  },
  {
   "cell_type": "code",
   "execution_count": 43,
   "metadata": {},
   "outputs": [
    {
     "data": {
      "text/html": [
       "<div>\n",
       "<style scoped>\n",
       "    .dataframe tbody tr th:only-of-type {\n",
       "        vertical-align: middle;\n",
       "    }\n",
       "\n",
       "    .dataframe tbody tr th {\n",
       "        vertical-align: top;\n",
       "    }\n",
       "\n",
       "    .dataframe thead th {\n",
       "        text-align: right;\n",
       "    }\n",
       "</style>\n",
       "<table border=\"1\" class=\"dataframe\">\n",
       "  <thead>\n",
       "    <tr style=\"text-align: right;\">\n",
       "      <th></th>\n",
       "      <th>date</th>\n",
       "      <th>group</th>\n",
       "      <th>visitors</th>\n",
       "    </tr>\n",
       "  </thead>\n",
       "  <tbody>\n",
       "    <tr>\n",
       "      <th>0</th>\n",
       "      <td>2019-08-01</td>\n",
       "      <td>A</td>\n",
       "      <td>719</td>\n",
       "    </tr>\n",
       "    <tr>\n",
       "      <th>1</th>\n",
       "      <td>2019-08-02</td>\n",
       "      <td>A</td>\n",
       "      <td>619</td>\n",
       "    </tr>\n",
       "    <tr>\n",
       "      <th>2</th>\n",
       "      <td>2019-08-03</td>\n",
       "      <td>A</td>\n",
       "      <td>507</td>\n",
       "    </tr>\n",
       "    <tr>\n",
       "      <th>3</th>\n",
       "      <td>2019-08-04</td>\n",
       "      <td>A</td>\n",
       "      <td>717</td>\n",
       "    </tr>\n",
       "    <tr>\n",
       "      <th>4</th>\n",
       "      <td>2019-08-05</td>\n",
       "      <td>A</td>\n",
       "      <td>756</td>\n",
       "    </tr>\n",
       "  </tbody>\n",
       "</table>\n",
       "</div>"
      ],
      "text/plain": [
       "        date group  visitors\n",
       "0 2019-08-01     A       719\n",
       "1 2019-08-02     A       619\n",
       "2 2019-08-03     A       507\n",
       "3 2019-08-04     A       717\n",
       "4 2019-08-05     A       756"
      ]
     },
     "execution_count": 43,
     "metadata": {},
     "output_type": "execute_result"
    }
   ],
   "source": [
    "data_visitors.head()"
   ]
  },
  {
   "cell_type": "markdown",
   "metadata": {},
   "source": [
    "---\n",
    "<a id=\"preprocessing_res_data\"></a>\n",
    "### 📌 <u>**Результаты предобработки данных**</u>"
   ]
  },
  {
   "cell_type": "markdown",
   "metadata": {},
   "source": [
    "**[(1) Список гипотез (data_hypothesis)](#hypo_pre)**"
   ]
  },
  {
   "cell_type": "markdown",
   "metadata": {},
   "source": [
    "1. Все столбцы приведены к нижнему регистру. Новые названия столбцов:\n",
    "\n",
    "    * **`hypothesis`** — краткое описание гипотезы;\n",
    "    * **`reach`** — охват пользователей по 10-балльной шкале;\n",
    "    * **`impact`** — влияние на пользователей по 10-балльной шкале;\n",
    "    * **`confidence`** — уверенность в гипотезе по 10-балльной шкале;\n",
    "    * **`efforts`** — затраты ресурсов на проверку гипотезы по 10-балльной шкале. Чем больше значение Efforts, тем дороже проверка гипотезы."
   ]
  },
  {
   "cell_type": "markdown",
   "metadata": {},
   "source": [
    "2. После проведённых манпуляций датафрейм имеет следующие параметры: **9 строк** и **5 столбцов** различных типов данных:\n",
    "\n",
    "    * **int** (целые числа) - 4 столбца;\n",
    "    * **object** (текстовые или смешанные числовые и нечисловые значения) - 1 столбец.  "
   ]
  },
  {
   "cell_type": "code",
   "execution_count": 44,
   "metadata": {},
   "outputs": [
    {
     "name": "stdout",
     "output_type": "stream",
     "text": [
      "1.0\n",
      "\n",
      "Данные можно использовать для дальнейшего анализа\n"
     ]
    }
   ],
   "source": [
    "# проверка датасета data_hypothesis после предобработки данных\n",
    "\n",
    "print(round(data_hypothesis.shape[0] / size_hypothesis, 2))\n",
    "      \n",
    "if round(data_hypothesis.shape[0] / size_hypothesis, 2) >= 0.8:\n",
    "    print('\\nДанные можно использовать для дальнейшего анализа')\n",
    "else:\n",
    "    print('\\nДанные нельзя использовать для дальнейшего анализа')"
   ]
  },
  {
   "cell_type": "markdown",
   "metadata": {},
   "source": [
    "---\n",
    "**[(2) Информация о заказах (data_orders)](#orders_pre)**"
   ]
  },
  {
   "cell_type": "markdown",
   "metadata": {},
   "source": [
    "1. Все столбцы приведены к нижнему регистру. Новые названия столбцов:\n",
    "\n",
    "    * **`transaction_id`** — идентификатор заказа;\n",
    "    * **`visitor_id`** — идентификатор пользователя, совершившего заказ;\n",
    "    * **`date`** — дата, когда был совершён заказ;\n",
    "    * **`revenue`** — выручка заказа;\n",
    "    * **`group`** — группа A/B-теста, в которую попал заказ."
   ]
  },
  {
   "cell_type": "markdown",
   "metadata": {},
   "source": [
    "2. Из анализа **исключены 58 пользователей, которые одновременно присутствовали в двух группах A и B**;"
   ]
  },
  {
   "cell_type": "markdown",
   "metadata": {},
   "source": [
    "3. **Тип данных** в столбце **`date`** **изменён**. Теперь все столбцы соответствуют описанию из [документации](#docum_data), и их можно использовать для дальнейшего анализа;"
   ]
  },
  {
   "cell_type": "markdown",
   "metadata": {},
   "source": [
    "4. После проведённых манпуляций датафрейм имеет следующие параметры: **1 016 строк** и **5 столбцов** различных типов данных:\n",
    "\n",
    "    * **int** (целые числа) - 3 столбца;\n",
    "    * **datetime** (дата и время) - 1 столбец;\n",
    "    * **object** (текстовые или смешанные числовые и нечисловые значения) - 1 столбец."
   ]
  },
  {
   "cell_type": "markdown",
   "metadata": {},
   "source": [
    "5. Датафрейм содержит данные с **1 августа 2019 года** по **31 августа 2019 года**."
   ]
  },
  {
   "cell_type": "code",
   "execution_count": 45,
   "metadata": {},
   "outputs": [
    {
     "name": "stdout",
     "output_type": "stream",
     "text": [
      "0.85\n",
      "\n",
      "Данные можно использовать для дальнейшего анализа\n"
     ]
    }
   ],
   "source": [
    "# проверка датасета data_orders после предобработки данных\n",
    "\n",
    "print(round(data_orders.shape[0] / size_orders, 2))\n",
    "      \n",
    "if round(data_orders.shape[0] / size_orders, 2) >= 0.8:\n",
    "    print('\\nДанные можно использовать для дальнейшего анализа')\n",
    "else:\n",
    "    print('\\nДанные нельзя использовать для дальнейшего анализа')"
   ]
  },
  {
   "cell_type": "markdown",
   "metadata": {},
   "source": [
    "---\n",
    "**[(3) Информация о пользователях (data_visitors)](#visitors_pre)**"
   ]
  },
  {
   "cell_type": "markdown",
   "metadata": {},
   "source": [
    "1. **Тип данных** в столбце **`date`** **изменён**. Теперь все столбцы соответствуют описанию из [документации](#docum_data), и их можно использовать для дальнейшего анализа;"
   ]
  },
  {
   "cell_type": "markdown",
   "metadata": {},
   "source": [
    "2. После проведённых манпуляций датафрейм имеет следующие параметры: **62 строки** и **3 столбца** различных типов данных:\n",
    "\n",
    "    * **int** (целые числа) - 1 столбец;\n",
    "    * **datetime** (дата и время) - 1 столбец;\n",
    "    * **object** (текстовые или смешанные числовые и нечисловые значения) - 1 столбец;"
   ]
  },
  {
   "cell_type": "markdown",
   "metadata": {},
   "source": [
    "3. Датафрейм содержит данные с **1 августа 2019 года** по **31 августа 2019 года**."
   ]
  },
  {
   "cell_type": "code",
   "execution_count": 46,
   "metadata": {},
   "outputs": [
    {
     "name": "stdout",
     "output_type": "stream",
     "text": [
      "1.0\n",
      "\n",
      "Данные можно использовать для дальнейшего анализа\n"
     ]
    }
   ],
   "source": [
    "# проверка датасета data_visitors после предобработки данных\n",
    "\n",
    "print(round(data_visitors.shape[0] / size_visitors, 2))\n",
    "      \n",
    "if round(data_visitors.shape[0] / size_visitors, 2) >= 0.8:\n",
    "    print('\\nДанные можно использовать для дальнейшего анализа')\n",
    "else:\n",
    "    print('\\nДанные нельзя использовать для дальнейшего анализа')"
   ]
  },
  {
   "cell_type": "markdown",
   "metadata": {},
   "source": [
    "## Шаг 3. Приоритизация гипотез"
   ]
  },
  {
   "cell_type": "markdown",
   "metadata": {},
   "source": [
    "### 3.1 Применение фреймворка ICE"
   ]
  },
  {
   "cell_type": "markdown",
   "metadata": {},
   "source": [
    "Фреймворк **ICE** состоит из трёх компонентов:\n",
    "\n",
    "* **`I`mpact** — насколько сильно изменение повлияет на пользователей, их опыт и удовлетворение от продукта;\n",
    "* **`C`onfidence** — насколько вы уверены, что это изменение повлияет на пользователей именно так; \n",
    "* **`E`fforts** — сколько стоит протестировать эту гипотезу."
   ]
  },
  {
   "cell_type": "markdown",
   "metadata": {},
   "source": [
    "---\n",
    "**ICE SCORE = (IMPACT * CONFIDENCE) / EFFORTS**\n",
    "___"
   ]
  },
  {
   "cell_type": "markdown",
   "metadata": {},
   "source": [
    "**(1) Рассчитаем ICE SCORE для всех перечисленных и отсортируем их по убыванию приоритета:**"
   ]
  },
  {
   "cell_type": "code",
   "execution_count": 47,
   "metadata": {},
   "outputs": [
    {
     "data": {
      "text/html": [
       "<div>\n",
       "<style scoped>\n",
       "    .dataframe tbody tr th:only-of-type {\n",
       "        vertical-align: middle;\n",
       "    }\n",
       "\n",
       "    .dataframe tbody tr th {\n",
       "        vertical-align: top;\n",
       "    }\n",
       "\n",
       "    .dataframe thead th {\n",
       "        text-align: right;\n",
       "    }\n",
       "</style>\n",
       "<table border=\"1\" class=\"dataframe\">\n",
       "  <thead>\n",
       "    <tr style=\"text-align: right;\">\n",
       "      <th></th>\n",
       "      <th>hypothesis</th>\n",
       "      <th>impact</th>\n",
       "      <th>confidence</th>\n",
       "      <th>efforts</th>\n",
       "      <th>ice_score</th>\n",
       "    </tr>\n",
       "  </thead>\n",
       "  <tbody>\n",
       "    <tr>\n",
       "      <th>8</th>\n",
       "      <td>Запустить акцию, дающую скидку на товар в день рождения</td>\n",
       "      <td>9</td>\n",
       "      <td>9</td>\n",
       "      <td>5</td>\n",
       "      <td>16.20</td>\n",
       "    </tr>\n",
       "    <tr>\n",
       "      <th>0</th>\n",
       "      <td>Добавить два новых канала привлечения трафика, что позволит привлекать на 30% больше пользователей</td>\n",
       "      <td>10</td>\n",
       "      <td>8</td>\n",
       "      <td>6</td>\n",
       "      <td>13.33</td>\n",
       "    </tr>\n",
       "    <tr>\n",
       "      <th>7</th>\n",
       "      <td>Добавить форму подписки на все основные страницы, чтобы собрать базу клиентов для email-рассылок</td>\n",
       "      <td>7</td>\n",
       "      <td>8</td>\n",
       "      <td>5</td>\n",
       "      <td>11.20</td>\n",
       "    </tr>\n",
       "    <tr>\n",
       "      <th>6</th>\n",
       "      <td>Показать на главной странице баннеры с актуальными акциями и распродажами, чтобы увеличить конверсию</td>\n",
       "      <td>3</td>\n",
       "      <td>8</td>\n",
       "      <td>3</td>\n",
       "      <td>8.00</td>\n",
       "    </tr>\n",
       "    <tr>\n",
       "      <th>2</th>\n",
       "      <td>Добавить блоки рекомендаций товаров на сайт интернет магазина, чтобы повысить конверсию и средний чек заказа</td>\n",
       "      <td>3</td>\n",
       "      <td>7</td>\n",
       "      <td>3</td>\n",
       "      <td>7.00</td>\n",
       "    </tr>\n",
       "    <tr>\n",
       "      <th>1</th>\n",
       "      <td>Запустить собственную службу доставки, что сократит срок доставки заказов</td>\n",
       "      <td>5</td>\n",
       "      <td>4</td>\n",
       "      <td>10</td>\n",
       "      <td>2.00</td>\n",
       "    </tr>\n",
       "    <tr>\n",
       "      <th>5</th>\n",
       "      <td>Добавить страницу отзывов клиентов о магазине, что позволит увеличить количество заказов</td>\n",
       "      <td>2</td>\n",
       "      <td>2</td>\n",
       "      <td>3</td>\n",
       "      <td>1.33</td>\n",
       "    </tr>\n",
       "    <tr>\n",
       "      <th>3</th>\n",
       "      <td>Изменить структура категорий, что увеличит конверсию, т.к. пользователи быстрее найдут нужный товар</td>\n",
       "      <td>3</td>\n",
       "      <td>3</td>\n",
       "      <td>8</td>\n",
       "      <td>1.12</td>\n",
       "    </tr>\n",
       "    <tr>\n",
       "      <th>4</th>\n",
       "      <td>Изменить цвет фона главной страницы, чтобы увеличить вовлеченность пользователей</td>\n",
       "      <td>1</td>\n",
       "      <td>1</td>\n",
       "      <td>1</td>\n",
       "      <td>1.00</td>\n",
       "    </tr>\n",
       "  </tbody>\n",
       "</table>\n",
       "</div>"
      ],
      "text/plain": [
       "                                                                                                     hypothesis  \\\n",
       "8                                                       Запустить акцию, дающую скидку на товар в день рождения   \n",
       "0            Добавить два новых канала привлечения трафика, что позволит привлекать на 30% больше пользователей   \n",
       "7              Добавить форму подписки на все основные страницы, чтобы собрать базу клиентов для email-рассылок   \n",
       "6          Показать на главной странице баннеры с актуальными акциями и распродажами, чтобы увеличить конверсию   \n",
       "2  Добавить блоки рекомендаций товаров на сайт интернет магазина, чтобы повысить конверсию и средний чек заказа   \n",
       "1                                     Запустить собственную службу доставки, что сократит срок доставки заказов   \n",
       "5                      Добавить страницу отзывов клиентов о магазине, что позволит увеличить количество заказов   \n",
       "3           Изменить структура категорий, что увеличит конверсию, т.к. пользователи быстрее найдут нужный товар   \n",
       "4                              Изменить цвет фона главной страницы, чтобы увеличить вовлеченность пользователей   \n",
       "\n",
       "   impact  confidence  efforts  ice_score  \n",
       "8       9           9        5      16.20  \n",
       "0      10           8        6      13.33  \n",
       "7       7           8        5      11.20  \n",
       "6       3           8        3       8.00  \n",
       "2       3           7        3       7.00  \n",
       "1       5           4       10       2.00  \n",
       "5       2           2        3       1.33  \n",
       "3       3           3        8       1.12  \n",
       "4       1           1        1       1.00  "
      ]
     },
     "execution_count": 47,
     "metadata": {},
     "output_type": "execute_result"
    }
   ],
   "source": [
    "data_hypothesis['ice_score'] = (data_hypothesis['impact'] * data_hypothesis['confidence']) / data_hypothesis['efforts']\n",
    "ice = data_hypothesis[['hypothesis', 'impact', 'confidence', 'efforts', 'ice_score']].sort_values(by='ice_score', ascending=False) \n",
    "ice"
   ]
  },
  {
   "cell_type": "markdown",
   "metadata": {},
   "source": [
    "**(2) Построим тепловую карту для более наглядного отображения показателей **`I`mpact**, **`C`onfidence**, **`E`fforts**:**"
   ]
  },
  {
   "cell_type": "code",
   "execution_count": 48,
   "metadata": {},
   "outputs": [
    {
     "data": {
      "image/png": "[encoded data removed]",
      "text/plain": [
       "<Figure size 432x288 with 2 Axes>"
      ]
     },
     "metadata": {
      "needs_background": "light"
     },
     "output_type": "display_data"
    }
   ],
   "source": [
    "ice = ice[['hypothesis', 'impact', 'confidence', 'efforts']]\n",
    "ice = ice.set_index('hypothesis')\n",
    "\n",
    "sns.heatmap(ice, annot=True)\n",
    "\n",
    "plt.title('Оценка компнентов фреймворка ICE в баллах')\n",
    "plt.xlabel('Компоненты')\n",
    "plt.ylabel('Гипотезы')\n",
    "\n",
    "plt.show()"
   ]
  },
  {
   "cell_type": "markdown",
   "metadata": {
    "tags": []
   },
   "source": [
    "**(3) Построим столбчатую (горизонтальую) диаграмму рейтинга гипотез в соответствии с ICE SCORE:**"
   ]
  },
  {
   "cell_type": "code",
   "execution_count": 49,
   "metadata": {},
   "outputs": [
    {
     "data": {
      "image/png": "[encoded data removed]",
      "text/plain": [
       "<Figure size 720x360 with 1 Axes>"
      ]
     },
     "metadata": {
      "needs_background": "light"
     },
     "output_type": "display_data"
    }
   ],
   "source": [
    "data_hypothesis_ice = data_hypothesis.sort_values(by='ice_score', ascending=True)\n",
    "hypothesis = data_hypothesis_ice['hypothesis']\n",
    "ice_score = round(data_hypothesis_ice['ice_score'], 2)\n",
    "\n",
    "plt.figure(figsize=(10,5))\n",
    "plt.barh(hypothesis, ice_score, height=0.5)\n",
    "\n",
    "for i in range(len(ice_score)):\n",
    "    plt.annotate(ice_score[i], xy=(ice_score[i],hypothesis[i]), ha='left', va='center')\n",
    "   \n",
    "plt.grid(alpha=0.5)\n",
    "plt.title('Рейтинг гипотез в соответствии c ICE SCORE в баллах')\n",
    "plt.xlabel(\"Рейтинг\")\n",
    "plt.ylabel(\"Гипотезы\")\n",
    "\n",
    "plt.show()"
   ]
  },
  {
   "cell_type": "markdown",
   "metadata": {},
   "source": [
    "---\n",
    "**<u>Вывод:</u>**\n",
    "\n",
    "* **Наибольший рейтинг ICE SCORE** у гипотезы: <u>***№ 8 \"Запустить акцию, дающую скидку на товар в день рождения\"***</u> (**16,20 баллов**). \n",
    "\n",
    "    Запуск такой акции имеет практически наивысшие оценки по компонентам **Impact** и **Confidence** (по обои компонентам - **9 баллов**), при этом затраты оцениваются, как средние (оценка **Efforts** - **5 баллов**). Это позволяет нам утверждать, что воплощение данного предложения сможет простимулировать рост выручки и улучшит финансовое состояние компании. \n",
    "\n",
    "* **Наименьший рейтинг ICE SCORE** у гипотезы: <u>***№ 4 \"Изменить цвет фона главной страницы, чтобы увеличить вовлеченность пользователей\"***</u> (**1,00 балл**). \n",
    "\n",
    "    На изменение фона главной страницы требуется минимум затрат (оценка **Efforts** - **1 балл**), но такой ход с высокой степенью вероятности не принесёт желаемого результата: другое оформление никак не повлияет на желание пользователей делать больше покупок (оценка **Impact** и **Confidence** - **1 балл**)."
   ]
  },
  {
   "cell_type": "markdown",
   "metadata": {},
   "source": [
    "Если смотреть на картину в целом, то потенциально рабочими можно назвать **5 гипотез** (согласно рейтингу **ICE SCORE**):\n",
    "\n",
    "1. <u>***№ 8 \"Запустить акцию, дающую скидку на товар в день рождения\"***</u> (**16,20 баллов**)\n",
    "\n",
    "2. <u>***№ 0 \"Добавить два новых канала привлечения трафика, что позволит привлекать на 30% больше пользователей\"***</u> (**13,33 баллов**)\n",
    "\n",
    "3. <u>***№ 7 \"Добавить форму подписки на все основные страницы, чтобы собрать базу клиентов для email-рассылок\"***</u> (**11,20 баллов**)\n",
    "\n",
    "4. <u>***№ 6 \"Показать на главной странице баннеры с актуальными акциями и распродажами, чтобы увеличить конверсию\"***</u> (**8,00 баллов**)\n",
    "\n",
    "5. <u>***№ 2 \"Добавить блоки рекомендаций товаров на сайт интернет магазина, чтобы повысить конверсию и средний чек заказа\"***</u> (**7,00 баллов**)"
   ]
  },
  {
   "cell_type": "markdown",
   "metadata": {},
   "source": [
    "### 3.2 Применение фреймворка RICE"
   ]
  },
  {
   "cell_type": "markdown",
   "metadata": {},
   "source": [
    "Фреймворк **RICE** состоит из четырёх компонентов:\n",
    "\n",
    "* **`R`each** — скольких пользователей затронет изменение, которое вы хотите внести;\n",
    "* **`I`mpact** — насколько сильно изменение повлияет на пользователей, их опыт и удовлетворение от продукта;\n",
    "* **`C`onfidence** — насколько вы уверены, что это изменение повлияет на пользователей именно так; \n",
    "* **`E`fforts** — сколько стоит протестировать эту гипотезу."
   ]
  },
  {
   "cell_type": "markdown",
   "metadata": {},
   "source": [
    "---\n",
    "**RICE SCORE = (REACH * IMPACT * CONFIDENCE) / EFFORTS**\n",
    "___"
   ]
  },
  {
   "cell_type": "markdown",
   "metadata": {},
   "source": [
    "**(1) Рассчитаем RICE SCORE для всех перечисленных гипотез и отсортируем их по убыванию приоритета:**"
   ]
  },
  {
   "cell_type": "code",
   "execution_count": 50,
   "metadata": {},
   "outputs": [
    {
     "data": {
      "text/html": [
       "<div>\n",
       "<style scoped>\n",
       "    .dataframe tbody tr th:only-of-type {\n",
       "        vertical-align: middle;\n",
       "    }\n",
       "\n",
       "    .dataframe tbody tr th {\n",
       "        vertical-align: top;\n",
       "    }\n",
       "\n",
       "    .dataframe thead th {\n",
       "        text-align: right;\n",
       "    }\n",
       "</style>\n",
       "<table border=\"1\" class=\"dataframe\">\n",
       "  <thead>\n",
       "    <tr style=\"text-align: right;\">\n",
       "      <th></th>\n",
       "      <th>hypothesis</th>\n",
       "      <th>reach</th>\n",
       "      <th>impact</th>\n",
       "      <th>confidence</th>\n",
       "      <th>efforts</th>\n",
       "      <th>ice_score</th>\n",
       "      <th>rice_score</th>\n",
       "    </tr>\n",
       "  </thead>\n",
       "  <tbody>\n",
       "    <tr>\n",
       "      <th>7</th>\n",
       "      <td>Добавить форму подписки на все основные страницы, чтобы собрать базу клиентов для email-рассылок</td>\n",
       "      <td>10</td>\n",
       "      <td>7</td>\n",
       "      <td>8</td>\n",
       "      <td>5</td>\n",
       "      <td>11.20</td>\n",
       "      <td>112.00</td>\n",
       "    </tr>\n",
       "    <tr>\n",
       "      <th>2</th>\n",
       "      <td>Добавить блоки рекомендаций товаров на сайт интернет магазина, чтобы повысить конверсию и средний чек заказа</td>\n",
       "      <td>8</td>\n",
       "      <td>3</td>\n",
       "      <td>7</td>\n",
       "      <td>3</td>\n",
       "      <td>7.00</td>\n",
       "      <td>56.00</td>\n",
       "    </tr>\n",
       "    <tr>\n",
       "      <th>0</th>\n",
       "      <td>Добавить два новых канала привлечения трафика, что позволит привлекать на 30% больше пользователей</td>\n",
       "      <td>3</td>\n",
       "      <td>10</td>\n",
       "      <td>8</td>\n",
       "      <td>6</td>\n",
       "      <td>13.33</td>\n",
       "      <td>40.00</td>\n",
       "    </tr>\n",
       "    <tr>\n",
       "      <th>6</th>\n",
       "      <td>Показать на главной странице баннеры с актуальными акциями и распродажами, чтобы увеличить конверсию</td>\n",
       "      <td>5</td>\n",
       "      <td>3</td>\n",
       "      <td>8</td>\n",
       "      <td>3</td>\n",
       "      <td>8.00</td>\n",
       "      <td>40.00</td>\n",
       "    </tr>\n",
       "    <tr>\n",
       "      <th>8</th>\n",
       "      <td>Запустить акцию, дающую скидку на товар в день рождения</td>\n",
       "      <td>1</td>\n",
       "      <td>9</td>\n",
       "      <td>9</td>\n",
       "      <td>5</td>\n",
       "      <td>16.20</td>\n",
       "      <td>16.20</td>\n",
       "    </tr>\n",
       "    <tr>\n",
       "      <th>3</th>\n",
       "      <td>Изменить структура категорий, что увеличит конверсию, т.к. пользователи быстрее найдут нужный товар</td>\n",
       "      <td>8</td>\n",
       "      <td>3</td>\n",
       "      <td>3</td>\n",
       "      <td>8</td>\n",
       "      <td>1.12</td>\n",
       "      <td>9.00</td>\n",
       "    </tr>\n",
       "    <tr>\n",
       "      <th>1</th>\n",
       "      <td>Запустить собственную службу доставки, что сократит срок доставки заказов</td>\n",
       "      <td>2</td>\n",
       "      <td>5</td>\n",
       "      <td>4</td>\n",
       "      <td>10</td>\n",
       "      <td>2.00</td>\n",
       "      <td>4.00</td>\n",
       "    </tr>\n",
       "    <tr>\n",
       "      <th>5</th>\n",
       "      <td>Добавить страницу отзывов клиентов о магазине, что позволит увеличить количество заказов</td>\n",
       "      <td>3</td>\n",
       "      <td>2</td>\n",
       "      <td>2</td>\n",
       "      <td>3</td>\n",
       "      <td>1.33</td>\n",
       "      <td>4.00</td>\n",
       "    </tr>\n",
       "    <tr>\n",
       "      <th>4</th>\n",
       "      <td>Изменить цвет фона главной страницы, чтобы увеличить вовлеченность пользователей</td>\n",
       "      <td>3</td>\n",
       "      <td>1</td>\n",
       "      <td>1</td>\n",
       "      <td>1</td>\n",
       "      <td>1.00</td>\n",
       "      <td>3.00</td>\n",
       "    </tr>\n",
       "  </tbody>\n",
       "</table>\n",
       "</div>"
      ],
      "text/plain": [
       "                                                                                                     hypothesis  \\\n",
       "7              Добавить форму подписки на все основные страницы, чтобы собрать базу клиентов для email-рассылок   \n",
       "2  Добавить блоки рекомендаций товаров на сайт интернет магазина, чтобы повысить конверсию и средний чек заказа   \n",
       "0            Добавить два новых канала привлечения трафика, что позволит привлекать на 30% больше пользователей   \n",
       "6          Показать на главной странице баннеры с актуальными акциями и распродажами, чтобы увеличить конверсию   \n",
       "8                                                       Запустить акцию, дающую скидку на товар в день рождения   \n",
       "3           Изменить структура категорий, что увеличит конверсию, т.к. пользователи быстрее найдут нужный товар   \n",
       "1                                     Запустить собственную службу доставки, что сократит срок доставки заказов   \n",
       "5                      Добавить страницу отзывов клиентов о магазине, что позволит увеличить количество заказов   \n",
       "4                              Изменить цвет фона главной страницы, чтобы увеличить вовлеченность пользователей   \n",
       "\n",
       "   reach  impact  confidence  efforts  ice_score  rice_score  \n",
       "7     10       7           8        5      11.20      112.00  \n",
       "2      8       3           7        3       7.00       56.00  \n",
       "0      3      10           8        6      13.33       40.00  \n",
       "6      5       3           8        3       8.00       40.00  \n",
       "8      1       9           9        5      16.20       16.20  \n",
       "3      8       3           3        8       1.12        9.00  \n",
       "1      2       5           4       10       2.00        4.00  \n",
       "5      3       2           2        3       1.33        4.00  \n",
       "4      3       1           1        1       1.00        3.00  "
      ]
     },
     "execution_count": 50,
     "metadata": {},
     "output_type": "execute_result"
    }
   ],
   "source": [
    "data_hypothesis['rice_score'] = (data_hypothesis['reach'] * data_hypothesis['impact'] * data_hypothesis['confidence']) / data_hypothesis['efforts']\n",
    "rice = data_hypothesis.sort_values(by='rice_score', ascending=False) \n",
    "rice"
   ]
  },
  {
   "cell_type": "markdown",
   "metadata": {},
   "source": [
    "**(2) Построим тепловую карту для более наглядного отображения показателей **`R`each**, **`I`mpact**, **`C`onfidence**, **`E`fforts**:**"
   ]
  },
  {
   "cell_type": "code",
   "execution_count": 51,
   "metadata": {},
   "outputs": [
    {
     "data": {
      "image/png": "[encoded data removed]",
      "text/plain": [
       "<Figure size 432x288 with 2 Axes>"
      ]
     },
     "metadata": {
      "needs_background": "light"
     },
     "output_type": "display_data"
    }
   ],
   "source": [
    "rice = rice[['hypothesis', 'reach', 'impact', 'confidence', 'efforts']]\n",
    "rice = rice.set_index('hypothesis')\n",
    "\n",
    "sns.heatmap(rice, annot=True)\n",
    "\n",
    "plt.title('Оценка компнентов фреймворка RICE в баллах')\n",
    "plt.xlabel('Компоненты')\n",
    "plt.ylabel('Гипотезы')\n",
    "\n",
    "plt.show()"
   ]
  },
  {
   "cell_type": "markdown",
   "metadata": {
    "tags": []
   },
   "source": [
    "**(3) Построим столбчатую (горизонтальую) диаграмму рейтинга гипотез в соответствии с RICE SCORE:**"
   ]
  },
  {
   "cell_type": "code",
   "execution_count": 52,
   "metadata": {},
   "outputs": [
    {
     "data": {
      "image/png": "[encoded data removed]",
      "text/plain": [
       "<Figure size 720x360 with 1 Axes>"
      ]
     },
     "metadata": {
      "needs_background": "light"
     },
     "output_type": "display_data"
    }
   ],
   "source": [
    "data_hypothesis_rice = data_hypothesis.sort_values(by='rice_score', ascending=True)\n",
    "hypothesis = data_hypothesis_rice['hypothesis']\n",
    "rice_score = round(data_hypothesis_rice['rice_score'], 2)\n",
    "\n",
    "plt.figure(figsize=(10,5))\n",
    "plt.barh(hypothesis, rice_score, height=0.5, color='green')\n",
    "\n",
    "for i in range(len(rice_score)):\n",
    "    plt.annotate(rice_score[i], xy=(rice_score[i],hypothesis[i]), ha='left', va='center')\n",
    "   \n",
    "plt.grid(alpha=0.5)\n",
    "plt.title('Рейтинг гипотез в соответствии c RICE SCORE в баллах')\n",
    "plt.xlabel(\"Рейтинг\")\n",
    "plt.ylabel(\"Гипотезы\")\n",
    "\n",
    "plt.show()"
   ]
  },
  {
   "cell_type": "markdown",
   "metadata": {},
   "source": [
    "---\n",
    "**<u>Вывод:</u>**\n",
    "\n",
    "* **Наибольший рейтинг RICE SCORE** у гипотезы: <u>***№ 7 \"Добавить форму подписки на все основные страницы, чтобы собрать базу клиентов для email-рассылок\"***</u> (**112,00**)\n",
    "\n",
    "    Гипотеза лидирует с большим отрывом благодаря наивысшей оценке **Reach** (**10 баллов**), высоким **Impact** и **Confidence** (**7 и 8 баллов** соответственно) и среднему **Efforts** (**5 баллов**). Добавление формы подписки на все основные странциы не является очень затратной задачой, но в итоге нам удаётся охватить абсолютно всех пользователей, которые посещают сайт интернет-магазина. При этом есть уверенность в том, что предпринятые действия с высокой степенью вероятности сработают и позволят дать нам желаемый результат, а именно увеличение выручки.\n",
    "\n",
    "* **Наименьший рейтинг RICE SCORE** у гипотезы: <u>***№ 4 \"Изменить цвет фона главной страницы, чтобы увеличить вовлеченность пользователей\"***</u> (**3,00**)\n",
    "\n",
    "    Как и в рейтинге **ICE SCORE** гипотеза занимает последнее место, оценка компонента **Reach** (**3 балла** (что является одним из самых нзхких показателей)) не изменила ситуацию."
   ]
  },
  {
   "cell_type": "markdown",
   "metadata": {},
   "source": [
    "Если смотреть на картину в целом, то потенциально рабочими можно назвать **4 гипотезы** (согласно рейтингу **RICE SCORE**):\n",
    "\n",
    "1. <u>***№ 7 \"Добавить форму подписки на все основные страницы, чтобы собрать базу клиентов для email-рассылок\"***</u> (**112,00 баллов**)\n",
    "\n",
    "2. <u>***№ 2 \"Добавить блоки рекомендаций товаров на сайт интернет магазина, чтобы повысить конверсию и средний чек заказа\"***</u> (**56,00 баллов**)\n",
    "\n",
    "3. <u>***№ 6 \"Показать на главной странице баннеры с актуальными акциями и распродажами, чтобы увеличить конверсию\"***</u> (**40,00 баллов**)\n",
    "\n",
    "4. <u>***№ 0 \"Добавить два новых канала привлечения трафика, что позволит привлекать на 30% больше пользователей\"***</u> (**40,00 баллов**)"
   ]
  },
  {
   "cell_type": "markdown",
   "metadata": {},
   "source": [
    "### 3.3 Сравнение приоритизации гипотез по ICE и RICE"
   ]
  },
  {
   "cell_type": "code",
   "execution_count": 53,
   "metadata": {},
   "outputs": [
    {
     "data": {
      "image/png": "[encoded data removed]",
      "text/plain": [
       "<Figure size 432x288 with 2 Axes>"
      ]
     },
     "metadata": {
      "needs_background": "light"
     },
     "output_type": "display_data"
    }
   ],
   "source": [
    "# приоритет гипотез после применения фреймворка ICE\n",
    "\n",
    "ice_place = data_hypothesis[['hypothesis', 'impact', 'confidence', 'efforts', 'ice_score']].sort_values(by='ice_score', ascending=False) \n",
    "ice_place['ice_place'] = np.arange(len(ice_place))[::1]+1\n",
    "ice_place = ice_place[['hypothesis', 'ice_place']]\n",
    "ice_place = ice_place.set_index('hypothesis')\n",
    "\n",
    "# приоритет гипотез после применения фреймворка RICE\n",
    "\n",
    "rice_place = data_hypothesis.sort_values(by='rice_score', ascending=False) \n",
    "rice_place['rice_place'] = np.arange(len(rice_place))[::1]+1\n",
    "rice_place = rice_place[['hypothesis', 'rice_place']]\n",
    "rice_place = rice_place.set_index('hypothesis')\n",
    "\n",
    "# сравнение приоритетов гипотез после применения фреймворков ICE и RICE\n",
    "\n",
    "ice_rice_joined = ice_place.join(rice_place)\n",
    "\n",
    "# тепловая карта приоритетов гипотез\n",
    "\n",
    "sns.heatmap(ice_rice_joined, annot=True)\n",
    "\n",
    "plt.title('Сравнение приоритизации гипотез по ICE и RICE')\n",
    "plt.xlabel('Приоритет')\n",
    "plt.ylabel('Гипотезы')\n",
    "\n",
    "plt.show()"
   ]
  },
  {
   "cell_type": "markdown",
   "metadata": {},
   "source": [
    "---\n",
    "**<u>Вывод:</u>**\n",
    "\n",
    "Приоритет гипотез по **ICE** и **RICE** различается. Это объясняется наличием дополнительного компонента **Reach** в фреймворке **RICE**. Чем больше пользователей затронет изменение, которое компания собирается внести, тем больше будет оценка **Reach**. \n",
    "\n",
    "Первая по приоритету гипотеза из рейтинга **ICE SCORE** (<u>***№ 8 \"Запустить акцию, дающую скидку на товар в день рождения\"***</u>)  занимает лишь 5-е место в рейтинге **RICE SCORE** из-за самой низкой оценки **Reach** (**1 балл**), в то время как занимавшая 3-е место гипотеза из рейтинга **ICE SCORE** (<u>***№ 7 \"Добавить форму подписки на все основные страницы, чтобы собрать базу клиентов для email-рассылок\"***</u>) вырвалась в лидеры с внушительным отрывом после применения фреймворка **RICE**, поскольку оценка **Reach** составила **10 баллов**.\n",
    "\n",
    "В топ-3 и в том и в другом рейтинге вошли лишь 2 гипотезы:\n",
    "\n",
    "* <u>***№ 7 \"Добавить форму подписки на все основные страницы, чтобы собрать базу клиентов для email-рассылок\"***</u> (**ICE SCORE** - 3 место, **RICE SCORE** - 1 место)\n",
    "* <u>***№ 0 \"Добавить два новых канала привлечения трафика, что позволит привлекать на 30% больше пользователей\"***</u> (**ICE SCORE** - 2 место, **RICE SCORE** - 3 место)"
   ]
  },
  {
   "cell_type": "markdown",
   "metadata": {},
   "source": [
    "---\n",
    "<a id=\"hypo_results\"></a>\n",
    "### 📌 <u>**Результаты**</u>"
   ]
  },
  {
   "cell_type": "markdown",
   "metadata": {},
   "source": [
    "Для приоритизации гипотез были применены фреймворки **ICE** и **RICE**."
   ]
  },
  {
   "cell_type": "markdown",
   "metadata": {},
   "source": [
    "**(1) Результат применения фреймворка ICE:**"
   ]
  },
  {
   "cell_type": "markdown",
   "metadata": {},
   "source": [
    "* **Наибольший рейтинг ICE SCORE** у гипотезы: <u>***№ 8 \"Запустить акцию, дающую скидку на товар в день рождения\"***</u> (**16,20 баллов**). \n",
    "\n",
    "    Запуск такой акции имеет практически наивысшие оценки по компонентам **Impact** и **Confidence** (по обои компонентам - **9 баллов**), при этом затраты оцениваются, как средние (оценка **Efforts** - **5 баллов**). Это позволяет нам утверждать, что воплощение данного предложения сможет простимулировать рост выручки и улучшит финансовое состояние компании. \n",
    "\n",
    "* **Наименьший рейтинг ICE SCORE** у гипотезы: <u>***№ 4 \"Изменить цвет фона главной страницы, чтобы увеличить вовлеченность пользователей\"***</u> (**1,00 балл**). \n",
    "\n",
    "    На изменение фона главной страницы требуется минимум затрат (оценка **Efforts** - **1 балл**), но такой ход с высокой степенью вероятности не принесёт желаемого результата: другое оформление никак не повлияет на желание пользователей делать больше покупок (оценка **Impact** и **Confidence** - **1 балл**)."
   ]
  },
  {
   "cell_type": "markdown",
   "metadata": {},
   "source": [
    "---\n",
    "**(2) Результат применения фреймворка RICE:**"
   ]
  },
  {
   "cell_type": "markdown",
   "metadata": {},
   "source": [
    "* **Наибольший рейтинг RICE SCORE** у гипотезы: <u>***№ 7 \"Добавить форму подписки на все основные страницы, чтобы собрать базу клиентов для email-рассылок\"***</u> (**112,00**)\n",
    "\n",
    "    Гипотеза лидирует с большим отрывом благодаря наивысшей оценке **Reach** (**10 баллов**), высоким **Impact** и **Confidence** (**7 и 8 баллов** соответственно) и среднему **Efforts** (**5 баллов**). Добавление формы подписки на все основные странциы не является очень затратной задачой, но в итоге нам удаётся охватить абсолютно всех пользователей, которые посещают сайт интернет-магазина. При этом есть уверенность в том, что предпринятые действия с высокой степенью вероятности сработают и позволят дать нам желаемый результат, а именно увеличение выручки.\n",
    "\n",
    "* **Наименьший рейтинг RICE SCORE** у гипотезы: <u>***№ 4 \"Изменить цвет фона главной страницы, чтобы увеличить вовлеченность пользователей\"***</u> (**3,00**)\n",
    "\n",
    "    Как и в рейтинге **ICE SCORE** гипотеза занимает последнее место, оценка компонента **Reach** (**3 балла** (что является одним из самых нзхких показателей)) не изменила ситуацию."
   ]
  },
  {
   "cell_type": "markdown",
   "metadata": {},
   "source": [
    "---\n",
    "**(3) Результат сравнения приоритизации гипотез по ICE и RICE:**\n",
    "\n",
    "Приоритет гипотез по **ICE** и **RICE** различается. Это объясняется наличием дополнительного компонента **Reach** в фреймворке **RICE**. Чем больше пользователей затронет изменение, которое компания собирается внести, тем больше будет оценка **Reach**. \n",
    "\n",
    "Первая по приоритету гипотеза из рейтинга **ICE SCORE** (<u>***№ 8 \"Запустить акцию, дающую скидку на товар в день рождения\"***</u>)  занимает лишь 5-е место в рейтинге **RICE SCORE** из-за самой низкой оценки **Reach** (**1 балл**), в то время как занимавшая 3-е место гипотеза из рейтинга **ICE SCORE** (<u>***№ 7 \"Добавить форму подписки на все основные страницы, чтобы собрать базу клиентов для email-рассылок\"***</u>) вырвалась в лидеры с внушительным отрывом после применения фреймворка **RICE**, поскольку оценка **Reach** составила **10 баллов**.\n",
    "\n",
    "В топ-3 и в том и в другом рейтинге вошли лишь 2 гипотезы:\n",
    "\n",
    "* <u>***№ 7 \"Добавить форму подписки на все основные страницы, чтобы собрать базу клиентов для email-рассылок\"***</u> (**ICE SCORE** - 3 место, **RICE SCORE** - 1 место)\n",
    "* <u>***№ 0 \"Добавить два новых канала привлечения трафика, что позволит привлекать на 30% больше пользователей\"***</u> (**ICE SCORE** - 2 место, **RICE SCORE** - 3 место)"
   ]
  },
  {
   "cell_type": "markdown",
   "metadata": {},
   "source": [
    "---\n",
    "Для проведения A/B-теста приянто решение использовать гипотезу <u>***№ 7 \"Добавить форму подписки на все основные страницы, чтобы собрать базу клиентов для email-рассылок\"***</u>."
   ]
  },
  {
   "cell_type": "markdown",
   "metadata": {},
   "source": [
    "## Шаг 4. Анализ A/B-теста"
   ]
  },
  {
   "cell_type": "markdown",
   "metadata": {},
   "source": [
    "### 4.1 График кумулятивной выручки по группам"
   ]
  },
  {
   "cell_type": "markdown",
   "metadata": {},
   "source": [
    "Чтобы построить графики, нужно собрать кумулятивные данные."
   ]
  },
  {
   "cell_type": "code",
   "execution_count": 54,
   "metadata": {},
   "outputs": [],
   "source": [
    "# создаем массив уникальных пар значений дат и групп теста\n",
    "\n",
    "datesGroups = data_orders[['date','group']].drop_duplicates()"
   ]
  },
  {
   "cell_type": "code",
   "execution_count": 55,
   "metadata": {
    "tags": []
   },
   "outputs": [
    {
     "data": {
      "text/html": [
       "<div>\n",
       "<style scoped>\n",
       "    .dataframe tbody tr th:only-of-type {\n",
       "        vertical-align: middle;\n",
       "    }\n",
       "\n",
       "    .dataframe tbody tr th {\n",
       "        vertical-align: top;\n",
       "    }\n",
       "\n",
       "    .dataframe thead th {\n",
       "        text-align: right;\n",
       "    }\n",
       "</style>\n",
       "<table border=\"1\" class=\"dataframe\">\n",
       "  <thead>\n",
       "    <tr style=\"text-align: right;\">\n",
       "      <th></th>\n",
       "      <th>date</th>\n",
       "      <th>group</th>\n",
       "      <th>transaction_id</th>\n",
       "      <th>visitor_id</th>\n",
       "      <th>revenue</th>\n",
       "    </tr>\n",
       "  </thead>\n",
       "  <tbody>\n",
       "    <tr>\n",
       "      <th>45</th>\n",
       "      <td>2019-08-01</td>\n",
       "      <td>A</td>\n",
       "      <td>23</td>\n",
       "      <td>19</td>\n",
       "      <td>142779</td>\n",
       "    </tr>\n",
       "    <tr>\n",
       "      <th>54</th>\n",
       "      <td>2019-08-01</td>\n",
       "      <td>B</td>\n",
       "      <td>17</td>\n",
       "      <td>17</td>\n",
       "      <td>59758</td>\n",
       "    </tr>\n",
       "    <tr>\n",
       "      <th>149</th>\n",
       "      <td>2019-08-02</td>\n",
       "      <td>A</td>\n",
       "      <td>42</td>\n",
       "      <td>36</td>\n",
       "      <td>234381</td>\n",
       "    </tr>\n",
       "    <tr>\n",
       "      <th>147</th>\n",
       "      <td>2019-08-02</td>\n",
       "      <td>B</td>\n",
       "      <td>40</td>\n",
       "      <td>39</td>\n",
       "      <td>221801</td>\n",
       "    </tr>\n",
       "    <tr>\n",
       "      <th>245</th>\n",
       "      <td>2019-08-03</td>\n",
       "      <td>A</td>\n",
       "      <td>66</td>\n",
       "      <td>60</td>\n",
       "      <td>346854</td>\n",
       "    </tr>\n",
       "  </tbody>\n",
       "</table>\n",
       "</div>"
      ],
      "text/plain": [
       "          date group  transaction_id  visitor_id  revenue\n",
       "45  2019-08-01     A              23          19   142779\n",
       "54  2019-08-01     B              17          17    59758\n",
       "149 2019-08-02     A              42          36   234381\n",
       "147 2019-08-02     B              40          39   221801\n",
       "245 2019-08-03     A              66          60   346854"
      ]
     },
     "execution_count": 55,
     "metadata": {},
     "output_type": "execute_result"
    }
   ],
   "source": [
    "# получаем агрегированные кумулятивные по дням данные о заказах \n",
    "\n",
    "ordersAggregated = datesGroups.apply(\n",
    "    lambda x: data_orders[\n",
    "        np.logical_and(\n",
    "            data_orders['date'] <= x['date'], data_orders['group'] == x['group']\n",
    "        )\n",
    "    ].agg({\n",
    "            'date': 'max',\n",
    "            'group': 'max',\n",
    "            'transaction_id': 'nunique',\n",
    "            'visitor_id': 'nunique',\n",
    "            'revenue': 'sum',\n",
    "        }\n",
    "    ),\n",
    "    axis=1,\n",
    ").sort_values(by=['date', 'group'])\n",
    "\n",
    "ordersAggregated.head()"
   ]
  },
  {
   "cell_type": "code",
   "execution_count": 56,
   "metadata": {},
   "outputs": [
    {
     "data": {
      "text/html": [
       "<div>\n",
       "<style scoped>\n",
       "    .dataframe tbody tr th:only-of-type {\n",
       "        vertical-align: middle;\n",
       "    }\n",
       "\n",
       "    .dataframe tbody tr th {\n",
       "        vertical-align: top;\n",
       "    }\n",
       "\n",
       "    .dataframe thead th {\n",
       "        text-align: right;\n",
       "    }\n",
       "</style>\n",
       "<table border=\"1\" class=\"dataframe\">\n",
       "  <thead>\n",
       "    <tr style=\"text-align: right;\">\n",
       "      <th></th>\n",
       "      <th>date</th>\n",
       "      <th>group</th>\n",
       "      <th>visitors</th>\n",
       "    </tr>\n",
       "  </thead>\n",
       "  <tbody>\n",
       "    <tr>\n",
       "      <th>45</th>\n",
       "      <td>2019-08-01</td>\n",
       "      <td>A</td>\n",
       "      <td>719</td>\n",
       "    </tr>\n",
       "    <tr>\n",
       "      <th>54</th>\n",
       "      <td>2019-08-01</td>\n",
       "      <td>B</td>\n",
       "      <td>713</td>\n",
       "    </tr>\n",
       "    <tr>\n",
       "      <th>149</th>\n",
       "      <td>2019-08-02</td>\n",
       "      <td>A</td>\n",
       "      <td>1338</td>\n",
       "    </tr>\n",
       "    <tr>\n",
       "      <th>147</th>\n",
       "      <td>2019-08-02</td>\n",
       "      <td>B</td>\n",
       "      <td>1294</td>\n",
       "    </tr>\n",
       "    <tr>\n",
       "      <th>245</th>\n",
       "      <td>2019-08-03</td>\n",
       "      <td>A</td>\n",
       "      <td>1845</td>\n",
       "    </tr>\n",
       "  </tbody>\n",
       "</table>\n",
       "</div>"
      ],
      "text/plain": [
       "          date group  visitors\n",
       "45  2019-08-01     A       719\n",
       "54  2019-08-01     B       713\n",
       "149 2019-08-02     A      1338\n",
       "147 2019-08-02     B      1294\n",
       "245 2019-08-03     A      1845"
      ]
     },
     "execution_count": 56,
     "metadata": {},
     "output_type": "execute_result"
    }
   ],
   "source": [
    "# получаем агрегированные кумулятивные по дням данные о посетителях\n",
    "\n",
    "visitorsAggregated = datesGroups.apply(\n",
    "    lambda x: data_visitors[\n",
    "        np.logical_and(\n",
    "            data_visitors['date'] <= x['date'], data_visitors['group'] == x['group']\n",
    "        )\n",
    "    ].agg(\n",
    "        {\n",
    "            'date': 'max', \n",
    "            'group': 'max', \n",
    "            'visitors': 'sum'\n",
    "        }\n",
    "    ),\n",
    "    axis=1,\n",
    ").sort_values(by=['date', 'group'])\n",
    "\n",
    "visitorsAggregated.head()"
   ]
  },
  {
   "cell_type": "code",
   "execution_count": 57,
   "metadata": {},
   "outputs": [
    {
     "data": {
      "text/html": [
       "<div>\n",
       "<style scoped>\n",
       "    .dataframe tbody tr th:only-of-type {\n",
       "        vertical-align: middle;\n",
       "    }\n",
       "\n",
       "    .dataframe tbody tr th {\n",
       "        vertical-align: top;\n",
       "    }\n",
       "\n",
       "    .dataframe thead th {\n",
       "        text-align: right;\n",
       "    }\n",
       "</style>\n",
       "<table border=\"1\" class=\"dataframe\">\n",
       "  <thead>\n",
       "    <tr style=\"text-align: right;\">\n",
       "      <th></th>\n",
       "      <th>date</th>\n",
       "      <th>group</th>\n",
       "      <th>orders</th>\n",
       "      <th>buyers</th>\n",
       "      <th>revenue</th>\n",
       "      <th>visitors</th>\n",
       "    </tr>\n",
       "  </thead>\n",
       "  <tbody>\n",
       "    <tr>\n",
       "      <th>0</th>\n",
       "      <td>2019-08-01</td>\n",
       "      <td>A</td>\n",
       "      <td>23</td>\n",
       "      <td>19</td>\n",
       "      <td>142779</td>\n",
       "      <td>719</td>\n",
       "    </tr>\n",
       "    <tr>\n",
       "      <th>1</th>\n",
       "      <td>2019-08-01</td>\n",
       "      <td>B</td>\n",
       "      <td>17</td>\n",
       "      <td>17</td>\n",
       "      <td>59758</td>\n",
       "      <td>713</td>\n",
       "    </tr>\n",
       "    <tr>\n",
       "      <th>2</th>\n",
       "      <td>2019-08-02</td>\n",
       "      <td>A</td>\n",
       "      <td>42</td>\n",
       "      <td>36</td>\n",
       "      <td>234381</td>\n",
       "      <td>1338</td>\n",
       "    </tr>\n",
       "    <tr>\n",
       "      <th>3</th>\n",
       "      <td>2019-08-02</td>\n",
       "      <td>B</td>\n",
       "      <td>40</td>\n",
       "      <td>39</td>\n",
       "      <td>221801</td>\n",
       "      <td>1294</td>\n",
       "    </tr>\n",
       "    <tr>\n",
       "      <th>4</th>\n",
       "      <td>2019-08-03</td>\n",
       "      <td>A</td>\n",
       "      <td>66</td>\n",
       "      <td>60</td>\n",
       "      <td>346854</td>\n",
       "      <td>1845</td>\n",
       "    </tr>\n",
       "  </tbody>\n",
       "</table>\n",
       "</div>"
      ],
      "text/plain": [
       "        date group  orders  buyers  revenue  visitors\n",
       "0 2019-08-01     A      23      19   142779       719\n",
       "1 2019-08-01     B      17      17    59758       713\n",
       "2 2019-08-02     A      42      36   234381      1338\n",
       "3 2019-08-02     B      40      39   221801      1294\n",
       "4 2019-08-03     A      66      60   346854      1845"
      ]
     },
     "execution_count": 57,
     "metadata": {},
     "output_type": "execute_result"
    }
   ],
   "source": [
    "# объединяем кумулятивные данные в одной таблице и присваиваем ее столбцам понятные названия\n",
    "\n",
    "cumulativeData = ordersAggregated.merge(\n",
    "    visitorsAggregated, left_on=['date', 'group'], right_on=['date', 'group']\n",
    ")\n",
    "cumulativeData.columns = [\n",
    "    'date',\n",
    "    'group',\n",
    "    'orders',\n",
    "    'buyers',\n",
    "    'revenue',\n",
    "    'visitors',\n",
    "]\n",
    "\n",
    "cumulativeData.head()"
   ]
  },
  {
   "cell_type": "markdown",
   "metadata": {},
   "source": [
    "Построим график кумулятивной выручки по группам:"
   ]
  },
  {
   "cell_type": "code",
   "execution_count": 58,
   "metadata": {},
   "outputs": [
    {
     "data": {
      "image/png": "[encoded data removed]",
      "text/plain": [
       "<Figure size 1440x432 with 1 Axes>"
      ]
     },
     "metadata": {
      "needs_background": "light"
     },
     "output_type": "display_data"
    }
   ],
   "source": [
    "# датафрейм с кумулятивным количеством заказов и кумулятивной выручкой по дням в группе А\n",
    "\n",
    "cumulativeRevenueA = cumulativeData[cumulativeData['group']=='A'][['date','revenue', 'orders']]\n",
    "\n",
    "# датафрейм с кумулятивным количеством заказов и кумулятивной выручкой по дням в группе B\n",
    "\n",
    "cumulativeRevenueB = cumulativeData[cumulativeData['group']=='B'][['date','revenue', 'orders']]\n",
    "\n",
    "# строим график выручки группы А\n",
    "\n",
    "plt.figure(figsize=(20,6))\n",
    "\n",
    "plt.plot(cumulativeRevenueA['date'], cumulativeRevenueA['revenue'], label='A')\n",
    "\n",
    "# строим график выручки группы B\n",
    "\n",
    "plt.plot(cumulativeRevenueB['date'], cumulativeRevenueB['revenue'], label='B')\n",
    "\n",
    "plt.tick_params(width = 2)\n",
    "plt.grid(alpha=0.5)\n",
    "plt.xlabel('Дата')\n",
    "plt.ylabel('Кумулятивная выручка (частота значений)') \n",
    "plt.title('Кумулятивная выручка по группам')\n",
    "plt.legend()\n",
    "\n",
    "plt.show()"
   ]
  },
  {
   "cell_type": "markdown",
   "metadata": {},
   "source": [
    "---\n",
    "**<u>Вывод:</u>** \n",
    "\n",
    "* в течение всего рассматрваемого периода по двум группам **выручка увеличивается равномерно за исключением 19 августа 2019 года**, когда по **группе B** произошёл резкий рост, который мог возникнуть по причине многократного увеличения заказов, либо по причине появления очень дорогих заказов в выборке;\n",
    "* подавляющую чать времени **группа B** является лидером;\n",
    "* в период с **1 августа 2019 года** по **5 августа 2019 года**, а также **13 августа 2019 года** выручка в обеих группах практически одинаковая."
   ]
  },
  {
   "cell_type": "markdown",
   "metadata": {},
   "source": [
    "### 4.2 График кумулятивного среднего чека по группам"
   ]
  },
  {
   "cell_type": "markdown",
   "metadata": {},
   "source": [
    "Построим графики среднего чека по группам — разделим кумулятивную выручку на кумулятивное число заказов:"
   ]
  },
  {
   "cell_type": "code",
   "execution_count": 59,
   "metadata": {},
   "outputs": [
    {
     "data": {
      "image/png": "[encoded data removed]",
      "text/plain": [
       "<Figure size 1440x432 with 1 Axes>"
      ]
     },
     "metadata": {
      "needs_background": "light"
     },
     "output_type": "display_data"
    }
   ],
   "source": [
    "# строим график среднего чека группы А\n",
    "\n",
    "plt.figure(figsize=(20,6))\n",
    "\n",
    "plt.plot(cumulativeRevenueA['date'], cumulativeRevenueA['revenue']/cumulativeRevenueA['orders'], label='A')\n",
    "\n",
    "# строим график среднего чека группы B\n",
    "\n",
    "plt.plot(cumulativeRevenueB['date'], cumulativeRevenueB['revenue']/cumulativeRevenueB['orders'], label='B')\n",
    "\n",
    "plt.tick_params(width = 2)\n",
    "plt.grid(alpha=0.5)\n",
    "plt.xlabel('Дата')\n",
    "plt.ylabel('Кумулятивный средний чек (частота значений)') \n",
    "plt.title('Кумулятивный средний чек по группам')\n",
    "plt.legend()\n",
    "\n",
    "plt.show()"
   ]
  },
  {
   "cell_type": "markdown",
   "metadata": {},
   "source": [
    "---\n",
    "**<u>Вывод:</u>** \n",
    "\n",
    "* поведение графиков обеих групп можно разделить на два отрезка: \n",
    "\n",
    "    * **группа A**: нестабильное - с **1 августа 2019 года** по **14 августа 2019 года**, стабильное - с **15 августа 2019 года** и до окончания рассматриваемого периода;\n",
    "    * **группа B**: нестабильное - с **1 августа 2019 года** по **18 августа 2019 года**, стабильное - с **19 августа 2019 года** и до окончания рассматриваемого периода;"
   ]
  },
  {
   "cell_type": "markdown",
   "metadata": {},
   "source": [
    "* у **группы B** зафикисровано 2 резких скачка - **2 августа 2019 года** и **18 августа 2019 года**, т.е. в выборку возможно попали крупные заказы (2-ой скачок более ярко выраженный) => необходимо больше данных;     \n",
    "* в конце рассматриваемого периода у **группы A** наблюдается тенденция к росту, у **группы B** - к снижению;\n",
    "* большую часть времени **у группы B** кумулятивный средний чек выше."
   ]
  },
  {
   "cell_type": "markdown",
   "metadata": {},
   "source": [
    "### 4.3 График относительного изменения кумулятивного среднего чека группы B к группе A"
   ]
  },
  {
   "cell_type": "markdown",
   "metadata": {
    "tags": []
   },
   "source": [
    "Построим график относительного различия для среднего чека. Добавим горизонтальную ось методом **axhline()**:"
   ]
  },
  {
   "cell_type": "code",
   "execution_count": 60,
   "metadata": {
    "tags": []
   },
   "outputs": [
    {
     "data": {
      "image/png": "[encoded data removed]",
      "text/plain": [
       "<Figure size 1440x432 with 1 Axes>"
      ]
     },
     "metadata": {
      "needs_background": "light"
     },
     "output_type": "display_data"
    }
   ],
   "source": [
    "# собираем данные в одном датафрейме\n",
    "\n",
    "mergedCumulativeRevenue = cumulativeRevenueA.merge(\n",
    "    cumulativeRevenueB, \n",
    "    left_on='date', \n",
    "    right_on='date', \n",
    "    how='left', \n",
    "    suffixes=['A', 'B']\n",
    ")\n",
    "\n",
    "# cтроим отношение средних чеков\n",
    "\n",
    "plt.figure(figsize=(20,6))\n",
    "\n",
    "plt.plot(mergedCumulativeRevenue['date'], \n",
    "         (mergedCumulativeRevenue['revenueB']/mergedCumulativeRevenue['ordersB'])/(mergedCumulativeRevenue['revenueA']/mergedCumulativeRevenue['ordersA'])-1\n",
    ")\n",
    "\n",
    "# добавляем ось X\n",
    "\n",
    "plt.axhline(y=0, \n",
    "            color='black', \n",
    "            linestyle='--')\n",
    "\n",
    "plt.tick_params(width = 2)\n",
    "plt.grid(alpha=0.5)\n",
    "plt.xlabel('Дата')\n",
    "plt.ylabel('Кумулятивный средний чек (частота значений)') \n",
    "plt.title('Относительное изменение кумулятивного среднего чека группы B к группе A')\n",
    "\n",
    "plt.show()"
   ]
  },
  {
   "cell_type": "markdown",
   "metadata": {},
   "source": [
    "---\n",
    "**<u>Вывод:</u>** \n",
    "\n",
    "* график различия между группами в нескольких точках  резко «скачет» => это является признаком крупных заказов и выбросов;\n",
    "* в период с **12 августа 2019 года** по **18 августа 2019 года** **группа A** демонстрирует наилучший результат;\n",
    "* после крупного выброса **19 августа 2019** года график демонстрирует стабильное поведение;\n",
    "* большую часть времени показатели **группы B** выглядят более привлекательно относительно  показателей **группы A**."
   ]
  },
  {
   "cell_type": "markdown",
   "metadata": {},
   "source": [
    "### 4.4 График кумулятивного среднего количества заказов на посетителя по группам"
   ]
  },
  {
   "cell_type": "markdown",
   "metadata": {},
   "source": [
    "Проанализируем график кумулятивного среднего количества заказов на посетителя по группам:"
   ]
  },
  {
   "cell_type": "code",
   "execution_count": 61,
   "metadata": {
    "tags": []
   },
   "outputs": [
    {
     "data": {
      "image/png": "[encoded data removed]",
      "text/plain": [
       "<Figure size 1440x432 with 1 Axes>"
      ]
     },
     "metadata": {
      "needs_background": "light"
     },
     "output_type": "display_data"
    }
   ],
   "source": [
    "# считаем среднее количество заказов на посетителя\n",
    "\n",
    "cumulativeData['conversion'] = cumulativeData['orders']/cumulativeData['visitors']\n",
    "\n",
    "# отделяем данные по группе A\n",
    "\n",
    "cumulativeDataA = cumulativeData[cumulativeData['group']=='A']\n",
    "\n",
    "# отделяем данные по группе B\n",
    "\n",
    "cumulativeDataB = cumulativeData[cumulativeData['group']=='B']\n",
    "\n",
    "# строим графики\n",
    "\n",
    "plt.figure(figsize=(20,6))\n",
    "\n",
    "plt.plot(cumulativeDataA['date'], cumulativeDataA['conversion'], label='A')\n",
    "plt.plot(cumulativeDataB['date'], cumulativeDataB['conversion'], label='B')\n",
    "\n",
    "plt.tick_params(width = 2)\n",
    "plt.grid(alpha=0.5)\n",
    "plt.xlabel('Дата')\n",
    "plt.ylabel('Кумулятивное среднее кол-во заказов на посетителя (частота значений)') \n",
    "plt.title('График кумулятивного среднего количества заказов на посетителя по группам')\n",
    "plt.legend()\n",
    "\n",
    "plt.show()"
   ]
  },
  {
   "cell_type": "markdown",
   "metadata": {},
   "source": [
    "---\n",
    "**<u>Вывод:</u>** \n",
    "\n",
    "* за рассматриваемый период поведение графиков обеих групп можно разделить на три временных отрезка: \n",
    "    * сильное колебание -  с **1 августа 2019 года** по **6 августа 2019 года**;\n",
    "    * среднее колебание - с **7 августа 2019 года** по **18 августа 2019 года**;\n",
    "    * стабилизация - с **19 августа 2019 года** и до окночания теста;"
   ]
  },
  {
   "cell_type": "markdown",
   "metadata": {},
   "source": [
    "* подавляющую часть времени показатели **группы B** выглядят более привлекательно относительно  показателей **группы A**;\n",
    "* графики НЕ являются симметричными."
   ]
  },
  {
   "cell_type": "markdown",
   "metadata": {},
   "source": [
    "### 4.5 График относительного изменения кумулятивного среднего количества заказов на посетителя группы B к группе A"
   ]
  },
  {
   "cell_type": "markdown",
   "metadata": {
    "tags": []
   },
   "source": [
    "Построим график изменения кумулятивного среднего количества заказов на посетителя группы B к группе A:"
   ]
  },
  {
   "cell_type": "code",
   "execution_count": 62,
   "metadata": {
    "tags": []
   },
   "outputs": [
    {
     "data": {
      "image/png": "[encoded data removed]",
      "text/plain": [
       "<Figure size 1440x432 with 1 Axes>"
      ]
     },
     "metadata": {
      "needs_background": "light"
     },
     "output_type": "display_data"
    }
   ],
   "source": [
    "# собираем данные в одном датафрейме\n",
    "\n",
    "mergedCumulativeConversions = cumulativeDataA[['date','conversion']].merge(\n",
    "    cumulativeDataB[['date','conversion']], \n",
    "    left_on='date', \n",
    "    right_on='date', \n",
    "    how='left', \n",
    "    suffixes=['A', 'B']\n",
    ")\n",
    "\n",
    "# строим графики\n",
    "\n",
    "plt.figure(figsize=(20,6))\n",
    "\n",
    "plt.plot(mergedCumulativeConversions['date'], \n",
    "         mergedCumulativeConversions['conversionB']/mergedCumulativeConversions['conversionA']-1 \n",
    ")\n",
    "\n",
    "plt.axhline(y=0, \n",
    "            color='black', \n",
    "            linestyle='--'\n",
    ")\n",
    "plt.axhline(y=0.15, \n",
    "            color='grey', \n",
    "            linestyle='--'\n",
    ")\n",
    "\n",
    "plt.tick_params(width = 2)\n",
    "plt.grid(alpha=0.5)\n",
    "plt.xlabel('Дата')\n",
    "plt.ylabel('Кумулятивное среднее кол-во заказов на посетителя (частота значений)') \n",
    "plt.title('Относительное изменение кумулятивного среднего количества заказов на посетителя группы B к группе A')\n",
    "\n",
    "plt.show()"
   ]
  },
  {
   "cell_type": "markdown",
   "metadata": {},
   "source": [
    "---\n",
    "**<u>Вывод:</u>** \n",
    "\n",
    "* в самом начале теста группа A выигрывала у группы B, но затем с **7 августа 2019 года** упустила преимущество и далее не вырывалась в лидеры;\n",
    "* с **16 августа 2019 года** график начинает стремиться к стабилизация, но до конца периода все равно наблюдаются незначительные колебания на уровне примерно **15-17%** в пользу **группы B**."
   ]
  },
  {
   "cell_type": "markdown",
   "metadata": {},
   "source": [
    "### 4.6 Точечный график количества заказов по пользователям"
   ]
  },
  {
   "cell_type": "markdown",
   "metadata": {},
   "source": [
    "Подсчитаем количество заказов по пользователям и выведем топ-10 пользователей с наибольшим количеством заказов:"
   ]
  },
  {
   "cell_type": "code",
   "execution_count": 63,
   "metadata": {
    "tags": []
   },
   "outputs": [
    {
     "data": {
      "text/html": [
       "<div>\n",
       "<style scoped>\n",
       "    .dataframe tbody tr th:only-of-type {\n",
       "        vertical-align: middle;\n",
       "    }\n",
       "\n",
       "    .dataframe tbody tr th {\n",
       "        vertical-align: top;\n",
       "    }\n",
       "\n",
       "    .dataframe thead th {\n",
       "        text-align: right;\n",
       "    }\n",
       "</style>\n",
       "<table border=\"1\" class=\"dataframe\">\n",
       "  <thead>\n",
       "    <tr style=\"text-align: right;\">\n",
       "      <th></th>\n",
       "      <th>user_id</th>\n",
       "      <th>orders</th>\n",
       "    </tr>\n",
       "  </thead>\n",
       "  <tbody>\n",
       "    <tr>\n",
       "      <th>908</th>\n",
       "      <td>3967698036</td>\n",
       "      <td>3</td>\n",
       "    </tr>\n",
       "    <tr>\n",
       "      <th>55</th>\n",
       "      <td>249864742</td>\n",
       "      <td>3</td>\n",
       "    </tr>\n",
       "    <tr>\n",
       "      <th>478</th>\n",
       "      <td>2108163459</td>\n",
       "      <td>3</td>\n",
       "    </tr>\n",
       "    <tr>\n",
       "      <th>687</th>\n",
       "      <td>2988190573</td>\n",
       "      <td>3</td>\n",
       "    </tr>\n",
       "    <tr>\n",
       "      <th>890</th>\n",
       "      <td>3908431265</td>\n",
       "      <td>3</td>\n",
       "    </tr>\n",
       "    <tr>\n",
       "      <th>138</th>\n",
       "      <td>611059232</td>\n",
       "      <td>3</td>\n",
       "    </tr>\n",
       "    <tr>\n",
       "      <th>632</th>\n",
       "      <td>2742574263</td>\n",
       "      <td>3</td>\n",
       "    </tr>\n",
       "    <tr>\n",
       "      <th>157</th>\n",
       "      <td>678354126</td>\n",
       "      <td>2</td>\n",
       "    </tr>\n",
       "    <tr>\n",
       "      <th>323</th>\n",
       "      <td>1404560065</td>\n",
       "      <td>2</td>\n",
       "    </tr>\n",
       "    <tr>\n",
       "      <th>452</th>\n",
       "      <td>1985475298</td>\n",
       "      <td>2</td>\n",
       "    </tr>\n",
       "  </tbody>\n",
       "</table>\n",
       "</div>"
      ],
      "text/plain": [
       "        user_id  orders\n",
       "908  3967698036       3\n",
       "55    249864742       3\n",
       "478  2108163459       3\n",
       "687  2988190573       3\n",
       "890  3908431265       3\n",
       "138   611059232       3\n",
       "632  2742574263       3\n",
       "157   678354126       2\n",
       "323  1404560065       2\n",
       "452  1985475298       2"
      ]
     },
     "execution_count": 63,
     "metadata": {},
     "output_type": "execute_result"
    }
   ],
   "source": [
    "ordersByUsers = (\n",
    "    data_orders.groupby('visitor_id', as_index=False)\n",
    "    .agg({'transaction_id': 'nunique'})\n",
    ")\n",
    "\n",
    "ordersByUsers.columns = ['user_id', 'orders']\n",
    "\n",
    "ordersByUsers.sort_values(by='orders', ascending=False).head(10) "
   ]
  },
  {
   "cell_type": "markdown",
   "metadata": {
    "tags": []
   },
   "source": [
    "Построим точечный график количества заказов по пользователям:"
   ]
  },
  {
   "cell_type": "code",
   "execution_count": 64,
   "metadata": {},
   "outputs": [
    {
     "data": {
      "image/png": "[encoded data removed]",
      "text/plain": [
       "<Figure size 1440x432 with 1 Axes>"
      ]
     },
     "metadata": {
      "needs_background": "light"
     },
     "output_type": "display_data"
    }
   ],
   "source": [
    "x_values = pd.Series(range(0,len(ordersByUsers)))\n",
    "\n",
    "plt.figure(figsize=(20,6))\n",
    "\n",
    "plt.scatter(x_values, ordersByUsers['orders'])\n",
    "\n",
    "plt.tick_params(width = 2)\n",
    "plt.grid(alpha=0.5)\n",
    "plt.xlabel('Количество пользователей')\n",
    "plt.ylabel('Количество заказов') \n",
    "plt.title('Количество заказов по пользователям')\n",
    "\n",
    "plt.show()"
   ]
  },
  {
   "cell_type": "markdown",
   "metadata": {},
   "source": [
    "---\n",
    "**<u>Вывод:</u>** \n",
    "\n",
    "* в основном пользователи совершали по **1-му заказу**;\n",
    "* присутствуют пользователи, которые делали по **2 и 3 заказа**, но и их точная доля не ясна, именно поэтому нет ясности в том, считать их аномалиями или нет. "
   ]
  },
  {
   "cell_type": "markdown",
   "metadata": {},
   "source": [
    "### 4.7 Расчёт 95-ого и 99-ого перцентилей количества заказов на пользователя"
   ]
  },
  {
   "cell_type": "markdown",
   "metadata": {
    "tags": []
   },
   "source": [
    "Посчитаем выборочные перцентили (95-й и 99-й перцентили) количества заказов на одного пользователя:"
   ]
  },
  {
   "cell_type": "code",
   "execution_count": 65,
   "metadata": {
    "tags": []
   },
   "outputs": [
    {
     "name": "stdout",
     "output_type": "stream",
     "text": [
      "[1. 2.]\n"
     ]
    }
   ],
   "source": [
    "print(np.percentile(ordersByUsers['orders'], [95, 99]))"
   ]
  },
  {
   "cell_type": "markdown",
   "metadata": {},
   "source": [
    "---\n",
    "**<u>Вывод:</u>** не более **5 %** пользователей оформили больше чем **1 заказ** и не более **1%** пользователей - больше **2-х заказов**. Принимаем **1 заказ** на одного пользователя за верхнюю границу количества заказов и отсеиваем аномальных пользователей."
   ]
  },
  {
   "cell_type": "markdown",
   "metadata": {},
   "source": [
    "### 4.8 Точечный график стоимостей заказов"
   ]
  },
  {
   "cell_type": "markdown",
   "metadata": {
    "tags": []
   },
   "source": [
    "Отобразим топ-10 транзакций по стоимости заказов:"
   ]
  },
  {
   "cell_type": "code",
   "execution_count": 66,
   "metadata": {
    "tags": []
   },
   "outputs": [
    {
     "data": {
      "text/html": [
       "<div>\n",
       "<style scoped>\n",
       "    .dataframe tbody tr th:only-of-type {\n",
       "        vertical-align: middle;\n",
       "    }\n",
       "\n",
       "    .dataframe tbody tr th {\n",
       "        vertical-align: top;\n",
       "    }\n",
       "\n",
       "    .dataframe thead th {\n",
       "        text-align: right;\n",
       "    }\n",
       "</style>\n",
       "<table border=\"1\" class=\"dataframe\">\n",
       "  <thead>\n",
       "    <tr style=\"text-align: right;\">\n",
       "      <th></th>\n",
       "      <th>transaction_id</th>\n",
       "      <th>revenue</th>\n",
       "    </tr>\n",
       "  </thead>\n",
       "  <tbody>\n",
       "    <tr>\n",
       "      <th>365</th>\n",
       "      <td>590470918</td>\n",
       "      <td>1294500</td>\n",
       "    </tr>\n",
       "    <tr>\n",
       "      <th>1015</th>\n",
       "      <td>3936777065</td>\n",
       "      <td>202740</td>\n",
       "    </tr>\n",
       "    <tr>\n",
       "      <th>971</th>\n",
       "      <td>666610489</td>\n",
       "      <td>92550</td>\n",
       "    </tr>\n",
       "    <tr>\n",
       "      <th>632</th>\n",
       "      <td>3668308183</td>\n",
       "      <td>86620</td>\n",
       "    </tr>\n",
       "    <tr>\n",
       "      <th>631</th>\n",
       "      <td>3603576309</td>\n",
       "      <td>67990</td>\n",
       "    </tr>\n",
       "    <tr>\n",
       "      <th>939</th>\n",
       "      <td>1348774318</td>\n",
       "      <td>66350</td>\n",
       "    </tr>\n",
       "    <tr>\n",
       "      <th>937</th>\n",
       "      <td>316924019</td>\n",
       "      <td>65710</td>\n",
       "    </tr>\n",
       "    <tr>\n",
       "      <th>811</th>\n",
       "      <td>1347999392</td>\n",
       "      <td>60450</td>\n",
       "    </tr>\n",
       "    <tr>\n",
       "      <th>802</th>\n",
       "      <td>2420050534</td>\n",
       "      <td>58550</td>\n",
       "    </tr>\n",
       "    <tr>\n",
       "      <th>109</th>\n",
       "      <td>3163614039</td>\n",
       "      <td>53904</td>\n",
       "    </tr>\n",
       "  </tbody>\n",
       "</table>\n",
       "</div>"
      ],
      "text/plain": [
       "      transaction_id  revenue\n",
       "365        590470918  1294500\n",
       "1015      3936777065   202740\n",
       "971        666610489    92550\n",
       "632       3668308183    86620\n",
       "631       3603576309    67990\n",
       "939       1348774318    66350\n",
       "937        316924019    65710\n",
       "811       1347999392    60450\n",
       "802       2420050534    58550\n",
       "109       3163614039    53904"
      ]
     },
     "execution_count": 66,
     "metadata": {},
     "output_type": "execute_result"
    }
   ],
   "source": [
    "revenue_info = data_orders[['transaction_id', 'revenue']]\n",
    "revenue_info.sort_values(by='revenue', ascending=False).head(10)"
   ]
  },
  {
   "cell_type": "markdown",
   "metadata": {
    "tags": []
   },
   "source": [
    "Построим точечный график стоимостей заказов:"
   ]
  },
  {
   "cell_type": "code",
   "execution_count": 67,
   "metadata": {},
   "outputs": [
    {
     "data": {
      "image/png": "[encoded data removed]",
      "text/plain": [
       "<Figure size 1440x432 with 1 Axes>"
      ]
     },
     "metadata": {
      "needs_background": "light"
     },
     "output_type": "display_data"
    }
   ],
   "source": [
    "x_values = pd.Series(range(0,len(revenue_info)))\n",
    "\n",
    "plt.figure(figsize=(20,6))\n",
    "\n",
    "plt.scatter(x_values, revenue_info['revenue'])\n",
    "\n",
    "plt.tick_params(width = 2)\n",
    "plt.grid(alpha=0.5)\n",
    "plt.xlabel('Количество транзакций')\n",
    "plt.ylabel('Стоимость заказов') \n",
    "plt.title('Стоимость заказов')\n",
    "\n",
    "plt.show()"
   ]
  },
  {
   "cell_type": "markdown",
   "metadata": {},
   "source": [
    "---\n",
    "**<u>Вывод:</u>** \n",
    "\n",
    "* в большинстве своём заказы на превышают **100 000 у.е.**;\n",
    "* выявлено два аномальных заказа на сумму **1 294 500 у.е.** и **202 740 у.е.**"
   ]
  },
  {
   "cell_type": "markdown",
   "metadata": {},
   "source": [
    "### 4.9 Расчёт 95-ого 99-ого перцентилей стоимости заказов"
   ]
  },
  {
   "cell_type": "markdown",
   "metadata": {
    "tags": []
   },
   "source": [
    "Посчитаем выборочные перцентили (95-й и 99-й перцентили) стоимости заказов:"
   ]
  },
  {
   "cell_type": "code",
   "execution_count": 68,
   "metadata": {
    "tags": []
   },
   "outputs": [
    {
     "name": "stdout",
     "output_type": "stream",
     "text": [
      "[26785. 53904.]\n"
     ]
    }
   ],
   "source": [
    "print(np.percentile(revenue_info['revenue'], [95, 99]))"
   ]
  },
  {
   "cell_type": "markdown",
   "metadata": {},
   "source": [
    "---\n",
    "**<u>Вывод:</u>** не более **5 %** заказов превышают стоимость в **26 785 у.е.** и не более **1%** заказов превышают стоимость в **53 904 у.е.**. Устанавливаем верхнюю границу стоимости заказов по величине 95-го перцентиля (**26 785 у.е.**)."
   ]
  },
  {
   "cell_type": "markdown",
   "metadata": {},
   "source": [
    "### 4.10 Статистическая значимость различий в среднем количестве заказов на посетителя между группами по «сырым» данным"
   ]
  },
  {
   "cell_type": "markdown",
   "metadata": {
    "tags": []
   },
   "source": [
    "Посчитаем статистическую значимость различий в среднем числе заказов на пользователя между группами по «сырым» данным — без удаления аномальных пользователей."
   ]
  },
  {
   "cell_type": "markdown",
   "metadata": {},
   "source": [
    "**(1) Сформулируем гипотезы:**"
   ]
  },
  {
   "cell_type": "markdown",
   "metadata": {},
   "source": [
    "---\n",
    "**H_0:** Различий в среднем количестве заказов между группами нет."
   ]
  },
  {
   "cell_type": "markdown",
   "metadata": {},
   "source": [
    "**H_1:** Различия в среднем количестве заказов между группами есть."
   ]
  },
  {
   "cell_type": "markdown",
   "metadata": {},
   "source": [
    "---\n",
    "**alpha = 0.05**"
   ]
  },
  {
   "cell_type": "markdown",
   "metadata": {},
   "source": [
    "**(2) Подготовим данные:**"
   ]
  },
  {
   "cell_type": "code",
   "execution_count": 69,
   "metadata": {},
   "outputs": [
    {
     "data": {
      "text/html": [
       "<div>\n",
       "<style scoped>\n",
       "    .dataframe tbody tr th:only-of-type {\n",
       "        vertical-align: middle;\n",
       "    }\n",
       "\n",
       "    .dataframe tbody tr th {\n",
       "        vertical-align: top;\n",
       "    }\n",
       "\n",
       "    .dataframe thead th {\n",
       "        text-align: right;\n",
       "    }\n",
       "</style>\n",
       "<table border=\"1\" class=\"dataframe\">\n",
       "  <thead>\n",
       "    <tr style=\"text-align: right;\">\n",
       "      <th></th>\n",
       "      <th>date</th>\n",
       "      <th>orders_per_date_a</th>\n",
       "      <th>revenue_per_date_a</th>\n",
       "      <th>orders_per_date_b</th>\n",
       "      <th>revenue_per_date_b</th>\n",
       "      <th>orders_cummulative_a</th>\n",
       "      <th>revenue_cummulative_a</th>\n",
       "      <th>orders_cummulative_b</th>\n",
       "      <th>revenue_cummulative_b</th>\n",
       "      <th>visitors_per_date_a</th>\n",
       "      <th>visitors_per_date_b</th>\n",
       "      <th>visitors_cummulative_a</th>\n",
       "      <th>visitors_cummulative_b</th>\n",
       "    </tr>\n",
       "  </thead>\n",
       "  <tbody>\n",
       "    <tr>\n",
       "      <th>0</th>\n",
       "      <td>2019-08-01</td>\n",
       "      <td>23</td>\n",
       "      <td>142779</td>\n",
       "      <td>17</td>\n",
       "      <td>59758</td>\n",
       "      <td>23</td>\n",
       "      <td>142779</td>\n",
       "      <td>17</td>\n",
       "      <td>59758</td>\n",
       "      <td>719</td>\n",
       "      <td>713</td>\n",
       "      <td>719</td>\n",
       "      <td>713</td>\n",
       "    </tr>\n",
       "    <tr>\n",
       "      <th>1</th>\n",
       "      <td>2019-08-02</td>\n",
       "      <td>19</td>\n",
       "      <td>91602</td>\n",
       "      <td>23</td>\n",
       "      <td>162043</td>\n",
       "      <td>42</td>\n",
       "      <td>234381</td>\n",
       "      <td>40</td>\n",
       "      <td>221801</td>\n",
       "      <td>619</td>\n",
       "      <td>581</td>\n",
       "      <td>1338</td>\n",
       "      <td>1294</td>\n",
       "    </tr>\n",
       "    <tr>\n",
       "      <th>2</th>\n",
       "      <td>2019-08-03</td>\n",
       "      <td>24</td>\n",
       "      <td>112473</td>\n",
       "      <td>14</td>\n",
       "      <td>67049</td>\n",
       "      <td>66</td>\n",
       "      <td>346854</td>\n",
       "      <td>54</td>\n",
       "      <td>288850</td>\n",
       "      <td>507</td>\n",
       "      <td>509</td>\n",
       "      <td>1845</td>\n",
       "      <td>1803</td>\n",
       "    </tr>\n",
       "    <tr>\n",
       "      <th>3</th>\n",
       "      <td>2019-08-04</td>\n",
       "      <td>11</td>\n",
       "      <td>41176</td>\n",
       "      <td>14</td>\n",
       "      <td>96890</td>\n",
       "      <td>77</td>\n",
       "      <td>388030</td>\n",
       "      <td>68</td>\n",
       "      <td>385740</td>\n",
       "      <td>717</td>\n",
       "      <td>770</td>\n",
       "      <td>2562</td>\n",
       "      <td>2573</td>\n",
       "    </tr>\n",
       "    <tr>\n",
       "      <th>4</th>\n",
       "      <td>2019-08-05</td>\n",
       "      <td>22</td>\n",
       "      <td>86383</td>\n",
       "      <td>21</td>\n",
       "      <td>89908</td>\n",
       "      <td>99</td>\n",
       "      <td>474413</td>\n",
       "      <td>89</td>\n",
       "      <td>475648</td>\n",
       "      <td>756</td>\n",
       "      <td>707</td>\n",
       "      <td>3318</td>\n",
       "      <td>3280</td>\n",
       "    </tr>\n",
       "  </tbody>\n",
       "</table>\n",
       "</div>"
      ],
      "text/plain": [
       "        date  orders_per_date_a  revenue_per_date_a  orders_per_date_b  \\\n",
       "0 2019-08-01                 23              142779                 17   \n",
       "1 2019-08-02                 19               91602                 23   \n",
       "2 2019-08-03                 24              112473                 14   \n",
       "3 2019-08-04                 11               41176                 14   \n",
       "4 2019-08-05                 22               86383                 21   \n",
       "\n",
       "   revenue_per_date_b  orders_cummulative_a  revenue_cummulative_a  \\\n",
       "0               59758                    23                 142779   \n",
       "1              162043                    42                 234381   \n",
       "2               67049                    66                 346854   \n",
       "3               96890                    77                 388030   \n",
       "4               89908                    99                 474413   \n",
       "\n",
       "   orders_cummulative_b  revenue_cummulative_b  visitors_per_date_a  \\\n",
       "0                    17                  59758                  719   \n",
       "1                    40                 221801                  619   \n",
       "2                    54                 288850                  507   \n",
       "3                    68                 385740                  717   \n",
       "4                    89                 475648                  756   \n",
       "\n",
       "   visitors_per_date_b  visitors_cummulative_a  visitors_cummulative_b  \n",
       "0                  713                     719                     713  \n",
       "1                  581                    1338                    1294  \n",
       "2                  509                    1845                    1803  \n",
       "3                  770                    2562                    2573  \n",
       "4                  707                    3318                    3280  "
      ]
     },
     "execution_count": 69,
     "metadata": {},
     "output_type": "execute_result"
    }
   ],
   "source": [
    "visitorsADaily = data_visitors[data_visitors['group'] == 'A'][['date', 'visitors']]\n",
    "visitorsADaily.columns = ['date', 'visitors_per_date_a']\n",
    "\n",
    "visitorsACummulative = visitorsADaily.apply(\n",
    "    lambda x: visitorsADaily[visitorsADaily['date'] <= x['date']].agg(\n",
    "        {'date': 'max', 'visitors_per_date_a': 'sum'}\n",
    "    ),\n",
    "    axis=1,\n",
    ")\n",
    "visitorsACummulative.columns = ['date', 'visitors_cummulative_a']\n",
    "\n",
    "visitorsBDaily = data_visitors[data_visitors['group'] == 'B'][['date', 'visitors']]\n",
    "visitorsBDaily.columns = ['date', 'visitors_per_date_b']\n",
    "\n",
    "visitorsBCummulative = visitorsBDaily.apply(\n",
    "    lambda x: visitorsBDaily[visitorsBDaily['date'] <= x['date']].agg(\n",
    "        {'date': 'max', 'visitors_per_date_b': 'sum'}\n",
    "    ),\n",
    "    axis=1,\n",
    ")\n",
    "visitorsBCummulative.columns = ['date', 'visitors_cummulative_b']\n",
    "\n",
    "ordersADaily = (\n",
    "    data_orders[data_orders['group'] == 'A'][['date', 'transaction_id', 'visitor_id', 'revenue']]\n",
    "    .groupby('date', as_index=False)\n",
    "    .agg({'transaction_id': pd.Series.nunique, 'revenue': 'sum'})\n",
    ")\n",
    "ordersADaily.columns = ['date', 'orders_per_date_a', 'revenue_per_date_a']\n",
    "\n",
    "ordersACummulative = ordersADaily.apply(\n",
    "    lambda x: ordersADaily[ordersADaily['date'] <= x['date']].agg(\n",
    "        {'date': 'max', 'orders_per_date_a': 'sum', 'revenue_per_date_a': 'sum'}\n",
    "    ),\n",
    "    axis=1,\n",
    ").sort_values(by=['date'])\n",
    "\n",
    "ordersACummulative.columns = [\n",
    "    'date',\n",
    "    'orders_cummulative_a',\n",
    "    'revenue_cummulative_a',\n",
    "]\n",
    "\n",
    "ordersBDaily = (\n",
    "    data_orders[data_orders['group'] == 'B'][['date', 'transaction_id', 'visitor_id', 'revenue']]\n",
    "    .groupby('date', as_index=False)\n",
    "    .agg({'transaction_id': pd.Series.nunique, 'revenue': 'sum'})\n",
    ")\n",
    "ordersBDaily.columns = ['date', 'orders_per_date_b', 'revenue_per_date_b']\n",
    "\n",
    "ordersBCummulative = ordersBDaily.apply(\n",
    "    lambda x: ordersBDaily[ordersBDaily['date'] <= x['date']].agg(\n",
    "        {'date': 'max', 'orders_per_date_b': 'sum', 'revenue_per_date_b': 'sum'}\n",
    "    ),\n",
    "    axis=1,\n",
    ").sort_values(by=['date'])\n",
    "\n",
    "ordersBCummulative.columns = [\n",
    "    'date',\n",
    "    'orders_cummulative_b',\n",
    "    'revenue_cummulative_b',\n",
    "]\n",
    "\n",
    "data = (\n",
    "    ordersADaily.merge(\n",
    "        ordersBDaily, left_on='date', right_on='date', how='left'\n",
    "    )\n",
    "    .merge(ordersACummulative, left_on='date', right_on='date', how='left')\n",
    "    .merge(ordersBCummulative, left_on='date', right_on='date', how='left')\n",
    "    .merge(visitorsADaily, left_on='date', right_on='date', how='left')\n",
    "    .merge(visitorsBDaily, left_on='date', right_on='date', how='left')\n",
    "    .merge(visitorsACummulative, left_on='date', right_on='date', how='left')\n",
    "    .merge(visitorsBCummulative, left_on='date', right_on='date', how='left')\n",
    ")\n",
    "\n",
    "data.head(5)"
   ]
  },
  {
   "cell_type": "markdown",
   "metadata": {},
   "source": [
    "Названия столбцов данных:\n",
    "\n",
    "* **`date`** — дата;\n",
    "* **`orders_per_date_a`** — количество заказов в выбранную дату в группе A;\n",
    "* **`revenue_per_date_a`** — суммарная выручка в выбранную дату в группе A;\n",
    "* **`orders_per_date_b`** — количество заказов в выбранную дату в группе B;\n",
    "* **`revenue_per_date_b`** — суммарная выручка в выбранную дату в группе B;\n",
    "* **`orders_cummulative_a`** — суммарное число заказов до выбранной даты включительно в группе A;\n",
    "* **`revenue_cummulative_a`** — суммарная выручка до выбранной даты включительно в группе A;\n",
    "* **`orders_cummulative_b`** — суммарное количество заказов до выбранной даты включительно в группе B;\n",
    "* **`revenue_cummulative_b`** — суммарная выручка до выбранной даты включительно в группе B;\n",
    "* **`visitors_per_date_a`** — количество пользователей в выбранную дату в группе A;\n",
    "* **`visitors_per_date_b`** — количество пользователей в выбранную дату в группе B;\n",
    "* **`visitors_cummulative_a`** — количество пользователей до выбранной даты включительно в группе A;\n",
    "* **`visitors_cummulative_b`** — количество пользователей до выбранной даты включительно в группе B."
   ]
  },
  {
   "cell_type": "markdown",
   "metadata": {},
   "source": [
    "**(3) Создадим переменные <u>ordersByUsersA</u> и <u>ordersByUsersB</u> со столбцами `visitor_id`, `orders`. В них для пользователей, которые заказывали хотя бы 1 раз, укажем число совершённых заказов:**"
   ]
  },
  {
   "cell_type": "code",
   "execution_count": 70,
   "metadata": {},
   "outputs": [],
   "source": [
    "ordersByUsersA = (\n",
    "    data_orders[data_orders['group'] == 'A']\n",
    "    .groupby('visitor_id', as_index=False)\n",
    "    .agg({'transaction_id': pd.Series.nunique})\n",
    ")\n",
    "ordersByUsersA.columns = ['visitor_id', 'orders']\n",
    "\n",
    "ordersByUsersB = (\n",
    "    data_orders[data_orders['group'] == 'B']\n",
    "    .groupby('visitor_id', as_index=False)\n",
    "    .agg({'transaction_id': pd.Series.nunique})\n",
    ")\n",
    "ordersByUsersB.columns = ['visitor_id', 'orders']"
   ]
  },
  {
   "cell_type": "markdown",
   "metadata": {},
   "source": [
    "**(4) Объявим переменные <u>sampleA</u> и <u>sampleB</u>, в которых пользователям из разных групп будет соответствовать количество заказов. Тем, кто ничего не заказал, будут соответствовать нули:**"
   ]
  },
  {
   "cell_type": "code",
   "execution_count": 71,
   "metadata": {},
   "outputs": [],
   "source": [
    "sampleA = pd.concat(\n",
    "    [\n",
    "        ordersByUsersA['orders'],\n",
    "        pd.Series(\n",
    "            0,\n",
    "            index=np.arange(\n",
    "                data['visitors_per_date_a'].sum() - len(ordersByUsersA['orders'])\n",
    "            ),\n",
    "            name='orders',\n",
    "        ),\n",
    "    ],\n",
    "    axis=0,\n",
    ")\n",
    "\n",
    "sampleB = pd.concat(\n",
    "    [\n",
    "        ordersByUsersB['orders'],\n",
    "        pd.Series(\n",
    "            0,\n",
    "            index=np.arange(\n",
    "                data['visitors_per_date_b'].sum() - len(ordersByUsersB['orders'])\n",
    "            ),\n",
    "            name='orders',\n",
    "        ),\n",
    "    ],\n",
    "    axis=0,\n",
    ")"
   ]
  },
  {
   "cell_type": "markdown",
   "metadata": {},
   "source": [
    "**(5) Применим статистический критерий Манна-Уитни и отформатируем p-value, округлив его до трёх знаков после запятой. А также выведем относительный прирост среднего числа заказов группы B: ***`среднее число заказов группы B / среднее число заказов группы A - 1`***, также округлив его до трёх знаков после запятой:**"
   ]
  },
  {
   "cell_type": "code",
   "execution_count": 72,
   "metadata": {},
   "outputs": [
    {
     "name": "stdout",
     "output_type": "stream",
     "text": [
      "p-значение: 0.011\n",
      "Относительный прирост среднего числа заказов группы B к группе A: 15.980%\n"
     ]
    }
   ],
   "source": [
    "# критерий Манна-Уитни\n",
    "\n",
    "pvalue = stats.mannwhitneyu(sampleA, sampleB)[1]\n",
    "print('p-значение: {0:.3f}'.format(pvalue))\n",
    "\n",
    "print('Относительный прирост среднего числа заказов группы B к группе A: {0:.3%}'.format(sampleB.mean() / sampleA.mean() - 1))"
   ]
  },
  {
   "cell_type": "markdown",
   "metadata": {},
   "source": [
    "**(6) Проверим гипотезу и выведем результаты:**"
   ]
  },
  {
   "cell_type": "code",
   "execution_count": 73,
   "metadata": {},
   "outputs": [
    {
     "name": "stdout",
     "output_type": "stream",
     "text": [
      "p-значение: 0.011\n",
      "Отвергаем нулевую гипотезу\n",
      "Относительный прирост среднего числа заказов группы B к группе A: 15.980%\n"
     ]
    }
   ],
   "source": [
    "# зададим уровень статистической значимости\n",
    "\n",
    "alpha = 0.05\n",
    "\n",
    "# выведем на экран полученное p-значение\n",
    "\n",
    "print('p-значение: {0:.3f}'.format(pvalue))\n",
    "\n",
    "if pvalue < alpha:\n",
    "    print('Отвергаем нулевую гипотезу')\n",
    "else:\n",
    "    print('Не получилось отвергнуть нулевую гипотезу')\n",
    "\n",
    "print('Относительный прирост среднего числа заказов группы B к группе A: {0:.3%}'.format(sampleB.mean() / sampleA.mean() - 1))"
   ]
  },
  {
   "cell_type": "markdown",
   "metadata": {},
   "source": [
    "---\n",
    "**<u>Вывод:</u>** нулевая гипотеза отвергнута => по «сырым» данным между группами A и B **есть различия** в среднем количестве заказов. Относительный прирост среднего числа заказов группы B к группе A составил **15,98 %**."
   ]
  },
  {
   "cell_type": "markdown",
   "metadata": {},
   "source": [
    "### 4.11 Статистическая значимость различий в среднем чеке заказа между группами по «сырым» данным"
   ]
  },
  {
   "cell_type": "markdown",
   "metadata": {
    "tags": []
   },
   "source": [
    "Посчитаем статистическую значимость различий в среднем чеке между группами по «сырым» данным — без удаления аномальных пользователей."
   ]
  },
  {
   "cell_type": "markdown",
   "metadata": {},
   "source": [
    "**(1) Сформулируем гипотезы:**"
   ]
  },
  {
   "cell_type": "markdown",
   "metadata": {},
   "source": [
    "---\n",
    "**H_0:** Различий в среднем чеке заказа между группами нет."
   ]
  },
  {
   "cell_type": "markdown",
   "metadata": {},
   "source": [
    "**H_1:** Различия в среднем чеке заказа между группами есть."
   ]
  },
  {
   "cell_type": "markdown",
   "metadata": {},
   "source": [
    "---\n",
    "**alpha = 0.05**"
   ]
  },
  {
   "cell_type": "markdown",
   "metadata": {},
   "source": [
    "**(2)-(4) см. в  4.10**"
   ]
  },
  {
   "cell_type": "markdown",
   "metadata": {},
   "source": [
    "**(5) Применим статистический критерий Манна-Уитни и отформатируем p-value, округлив его до трёх знаков после запятой. А также выведем относительный прирост среднего чека заказа группы B: ***`средний чек заказа группы B / средний чек заказа группы A - 1`***, также округлив его до трёх знаков после запятой:**"
   ]
  },
  {
   "cell_type": "code",
   "execution_count": 74,
   "metadata": {},
   "outputs": [
    {
     "name": "stdout",
     "output_type": "stream",
     "text": [
      "p-значение: 0.829\n",
      "Относительный прирост среднего чека заказа группы B к группе A: 28.660%\n"
     ]
    }
   ],
   "source": [
    "# критерий Манна-Уитни\n",
    "\n",
    "pvalue2 = stats.mannwhitneyu(data_orders[data_orders['group']=='A']['revenue'], \n",
    "                             data_orders[data_orders['group']=='B']['revenue'])[1]\n",
    "\n",
    "print('p-значение: {0:.3f}'.format(pvalue2))\n",
    "\n",
    "print('Относительный прирост среднего чека заказа группы B к группе A: {0:.3%}'.format(data_orders[data_orders['group']=='B']['revenue'].mean()/data_orders[data_orders['group']=='A']['revenue'].mean()-1))"
   ]
  },
  {
   "cell_type": "markdown",
   "metadata": {},
   "source": [
    "**(6) Проверим гипотезу и выведем результаты:**"
   ]
  },
  {
   "cell_type": "code",
   "execution_count": 75,
   "metadata": {
    "tags": []
   },
   "outputs": [
    {
     "name": "stdout",
     "output_type": "stream",
     "text": [
      "p-значение: 0.829\n",
      "Не получилось отвергнуть нулевую гипотезу\n",
      "Относительный прирост среднего чека заказа группы B к группе A: 28.660%\n"
     ]
    }
   ],
   "source": [
    "# зададим уровень статистической значимости\n",
    "\n",
    "alpha = 0.05\n",
    "\n",
    "# выведем на экран полученное p-значение\n",
    "\n",
    "print('p-значение: {0:.3f}'.format(pvalue2))\n",
    "\n",
    "if pvalue2 < alpha:\n",
    "    print('Отвергаем нулевую гипотезу')\n",
    "else:\n",
    "    print('Не получилось отвергнуть нулевую гипотезу')\n",
    "\n",
    "print('Относительный прирост среднего чека заказа группы B к группе A: {0:.3%}'.format(data_orders[data_orders['group']=='B']['revenue'].mean()/data_orders[data_orders['group']=='A']['revenue'].mean()-1))"
   ]
  },
  {
   "cell_type": "markdown",
   "metadata": {},
   "source": [
    "---\n",
    "**<u>Вывод:</u>** не получилось отвергнуть нулевую гипотезу => по «сырым» данным между группами A и B **различий нет** в среднем чеке заказа. Наблюдаемое различие по показателю относительного прироста среднего чека заказа группы B к группе (**28,66 %**) НЕ является статичтически значимым."
   ]
  },
  {
   "cell_type": "markdown",
   "metadata": {},
   "source": [
    "### 4.12 Статистическая значимость различий в среднем количестве заказов на посетителя между группами по «очищенным» данным"
   ]
  },
  {
   "cell_type": "markdown",
   "metadata": {},
   "source": [
    "**(1) Продублируем выводы, сделанные после расчёта 95-ого 99-ого перцентилей количества заказов на пользователя и стоимости заказов:**"
   ]
  },
  {
   "cell_type": "markdown",
   "metadata": {},
   "source": [
    "1. Не более **5 %** пользователей оформили больше чем **1 заказ** и не более **1%** пользователей - больше **2-х заказов**. Принимаем **1 заказ** на одного пользователя за верхнюю границу количества заказов и отсеиваем аномальных пользователей;\n",
    "2. Не более **5 %** заказов превышают стоимость в **26 785 у.е.** и не более **1%** заказов превышают стоимость в **53 904 у.е.**. Устанавливаем верхнюю границу стоимости заказов по величине 95-го перцентиля (**26 785 у.е.**)."
   ]
  },
  {
   "cell_type": "markdown",
   "metadata": {
    "tags": []
   },
   "source": [
    "**(2) Сделаем срезы пользователей с числом заказов больше 1 — <u>usersWithManyOrders</u> и пользователей, совершивших заказы дороже 26 785 у.е. — <u>usersWithExpensiveOrders</u>. Объединим их в таблице <u>abnormalUsers</u>. Выясним, сколько всего аномальных пользователей:**"
   ]
  },
  {
   "cell_type": "code",
   "execution_count": 76,
   "metadata": {},
   "outputs": [
    {
     "name": "stdout",
     "output_type": "stream",
     "text": [
      "487    113298937\n",
      "937    148427295\n",
      "792    204675465\n",
      "33     249864742\n",
      "586    358944393\n",
      "Name: visitor_id, dtype: int64\n",
      "Число аномальных пользователей: 86\n"
     ]
    }
   ],
   "source": [
    "usersWithManyOrders = pd.concat(\n",
    "    [\n",
    "        ordersByUsersA[ordersByUsersA['orders'] > 1]['visitor_id'],\n",
    "        ordersByUsersB[ordersByUsersB['orders'] > 1]['visitor_id'],\n",
    "    ],\n",
    "    axis=0,\n",
    ")\n",
    "usersWithExpensiveOrders = data_orders[data_orders['revenue'] > 26785]['visitor_id']\n",
    "abnormalUsers = (\n",
    "    pd.concat([usersWithManyOrders, usersWithExpensiveOrders], axis=0)\n",
    "    .drop_duplicates()\n",
    "    .sort_values()\n",
    ")\n",
    "print(abnormalUsers.head(5))\n",
    "print('Число аномальных пользователей:', abnormalUsers.shape[0])"
   ]
  },
  {
   "cell_type": "markdown",
   "metadata": {},
   "source": [
    "Всего **86 аномальных пользователей**."
   ]
  },
  {
   "cell_type": "markdown",
   "metadata": {},
   "source": [
    "**(3) Подготовим выборки количества заказов по пользователям по группам теста по очищенным данным:**"
   ]
  },
  {
   "cell_type": "code",
   "execution_count": 77,
   "metadata": {},
   "outputs": [],
   "source": [
    "sampleAFiltered = pd.concat(\n",
    "    [\n",
    "        ordersByUsersA[\n",
    "            np.logical_not(ordersByUsersA['visitor_id'].isin(abnormalUsers))\n",
    "        ]['orders'],\n",
    "        pd.Series(\n",
    "            0,\n",
    "            index=np.arange(\n",
    "                data['visitors_per_date_a'].sum() - len(ordersByUsersA['orders'])\n",
    "            ),\n",
    "            name='orders',\n",
    "        ),\n",
    "    ],\n",
    "    axis=0,\n",
    ")\n",
    "\n",
    "sampleBFiltered = pd.concat(\n",
    "    [\n",
    "        ordersByUsersB[\n",
    "            np.logical_not(ordersByUsersB['visitor_id'].isin(abnormalUsers))\n",
    "        ]['orders'],\n",
    "        pd.Series(\n",
    "            0,\n",
    "            index=np.arange(\n",
    "                data['visitors_per_date_b'].sum() - len(ordersByUsersB['orders'])\n",
    "            ),\n",
    "            name='orders',\n",
    "        ),\n",
    "    ],\n",
    "    axis=0,\n",
    ")"
   ]
  },
  {
   "cell_type": "markdown",
   "metadata": {},
   "source": [
    "**(4) Посчитаем статистическую значимость различий в среднем количестве заказов между группами теста по очищенным данным:**"
   ]
  },
  {
   "cell_type": "code",
   "execution_count": 78,
   "metadata": {},
   "outputs": [
    {
     "name": "stdout",
     "output_type": "stream",
     "text": [
      "p-значение: 0.016\n",
      "Относительный прирост среднего числа заказов группы B к группе A: 17.393%\n"
     ]
    }
   ],
   "source": [
    "# критерий Манна-Уитни\n",
    "\n",
    "pvalue3 = stats.mannwhitneyu(sampleAFiltered, sampleBFiltered)[1]\n",
    "print('p-значение: {0:.3f}'.format(pvalue3))\n",
    "\n",
    "print('Относительный прирост среднего числа заказов группы B к группе A: {0:.3%}'.format(sampleBFiltered.mean() / sampleAFiltered.mean() - 1))"
   ]
  },
  {
   "cell_type": "markdown",
   "metadata": {},
   "source": [
    "**(5) Снова проверим гипотезу и выведем результаты:**"
   ]
  },
  {
   "cell_type": "code",
   "execution_count": 79,
   "metadata": {
    "tags": []
   },
   "outputs": [
    {
     "name": "stdout",
     "output_type": "stream",
     "text": [
      "p-значение: 0.016\n",
      "Отвергаем нулевую гипотезу\n",
      "Относительный прирост среднего числа заказов группы B к группе A: 17.393%\n"
     ]
    }
   ],
   "source": [
    "# зададим уровень статистической значимости\n",
    "\n",
    "alpha = 0.05\n",
    "\n",
    "# выведем на экран полученное p-значение\n",
    "\n",
    "print('p-значение: {0:.3f}'.format(pvalue3))\n",
    "\n",
    "if pvalue3 < alpha:\n",
    "    print('Отвергаем нулевую гипотезу')\n",
    "else:\n",
    "    print('Не получилось отвергнуть нулевую гипотезу')\n",
    "\n",
    "print('Относительный прирост среднего числа заказов группы B к группе A: {0:.3%}'.format(sampleBFiltered.mean() / sampleAFiltered.mean() - 1))"
   ]
  },
  {
   "cell_type": "markdown",
   "metadata": {},
   "source": [
    "**(6) Выясним, как действия аномальных пользователей повлияли на результаты теста. Сравним результаты, полученные с использованием «сырых» и «очищенных» данных:**"
   ]
  },
  {
   "cell_type": "markdown",
   "metadata": {},
   "source": [
    "P-значение и относительный прирост среднего числа заказов группы B к группе A по **«сырым»** данным:"
   ]
  },
  {
   "cell_type": "code",
   "execution_count": 80,
   "metadata": {},
   "outputs": [
    {
     "name": "stdout",
     "output_type": "stream",
     "text": [
      "p-значение: 0.011\n",
      "Относительный прирост среднего числа заказов группы B к группе A: 15.980%\n"
     ]
    }
   ],
   "source": [
    "pvalue = stats.mannwhitneyu(sampleA, sampleB)[1]\n",
    "print('p-значение: {0:.3f}'.format(pvalue))\n",
    "\n",
    "change = sampleB.mean() / sampleA.mean() - 1\n",
    "print('Относительный прирост среднего числа заказов группы B к группе A: {0:.3%}'.format(change))"
   ]
  },
  {
   "cell_type": "markdown",
   "metadata": {},
   "source": [
    "P-значение и относительный прирост среднего числа заказов группы B к группе A по **«очищенным»** данным:"
   ]
  },
  {
   "cell_type": "code",
   "execution_count": 81,
   "metadata": {},
   "outputs": [
    {
     "name": "stdout",
     "output_type": "stream",
     "text": [
      "p-значение: 0.016\n",
      "Относительный прирост среднего числа заказов группы B к группе A: 17.393%\n"
     ]
    }
   ],
   "source": [
    "pvalue3 = stats.mannwhitneyu(sampleAFiltered, sampleBFiltered)[1]\n",
    "print('p-значение: {0:.3f}'.format(pvalue3))\n",
    "\n",
    "change3 = sampleBFiltered.mean() / sampleAFiltered.mean() - 1\n",
    "print('Относительный прирост среднего числа заказов группы B к группе A: {0:.3%}'.format(change3))"
   ]
  },
  {
   "cell_type": "markdown",
   "metadata": {},
   "source": [
    "Разница:"
   ]
  },
  {
   "cell_type": "code",
   "execution_count": 82,
   "metadata": {},
   "outputs": [
    {
     "name": "stdout",
     "output_type": "stream",
     "text": [
      "Разница между p-значениями: 0.005\n",
      "Разница между относительным приростом среднего числа заказов группы B к группе A: 1.413%\n"
     ]
    }
   ],
   "source": [
    "diff_pvalue1 = pvalue3 - pvalue\n",
    "diff_change1 = change3 - change\n",
    "print('Разница между p-значениями: {0:.3f}'.format(diff_pvalue1))\n",
    "print('Разница между относительным приростом среднего числа заказов группы B к группе A: {0:.3%}'.format(diff_change1))"
   ]
  },
  {
   "cell_type": "markdown",
   "metadata": {},
   "source": [
    "---\n",
    "**<u>Вывод:</u>** после исключения аномальных значений нулевая гипотеза все равно отвергается => по «очищенным» данным между группами A и B всё также **есть различия** в среднем количестве заказов. Относительный прирост среднего числа заказов группы B к группе A составил **17,39 %** (что на **1,41 %** больше, чем с использованием «сырых» данных)."
   ]
  },
  {
   "cell_type": "markdown",
   "metadata": {},
   "source": [
    "### 4.13 Статистическая значимость различий в среднем чеке заказа между группами по «очищенным» данным"
   ]
  },
  {
   "cell_type": "markdown",
   "metadata": {},
   "source": [
    "**(1)-(2) cм. в 4.12**"
   ]
  },
  {
   "cell_type": "markdown",
   "metadata": {},
   "source": [
    "**(3) Посчитаем статистическую значимость различий в среднем чеке заказа между группами теста по очищенным данным:**"
   ]
  },
  {
   "cell_type": "code",
   "execution_count": 83,
   "metadata": {
    "tags": []
   },
   "outputs": [
    {
     "name": "stdout",
     "output_type": "stream",
     "text": [
      "p-значение: 0.727\n",
      "Относительный прирост среднего числа заказов группы B к группе A: -3.373%\n"
     ]
    }
   ],
   "source": [
    "pvalue4 = stats.mannwhitneyu(\n",
    "    data_orders[np.logical_and(data_orders['group'] == 'A', \n",
    "                               np.logical_not(data_orders['visitor_id'].isin(abnormalUsers)))]['revenue'],\n",
    "    data_orders[np.logical_and(data_orders['group'] == 'B', \n",
    "                               np.logical_not(data_orders['visitor_id'].isin(abnormalUsers)))]['revenue']\n",
    ")[1]\n",
    "\n",
    "print('p-значение: {0:.3f}'.format(pvalue4))\n",
    "\n",
    "change4 = data_orders[np.logical_and(\n",
    "    data_orders['group'] == 'B',\n",
    "    np.logical_not(data_orders['visitor_id'].isin(abnormalUsers)))]['revenue'].mean() / data_orders[np.logical_and(\n",
    "    data_orders['group'] == 'A', \n",
    "    np.logical_not(data_orders['visitor_id'].isin(abnormalUsers)))]['revenue'].mean() - 1\n",
    "\n",
    "print('Относительный прирост среднего числа заказов группы B к группе A: {0:.3%}'.format(change4))"
   ]
  },
  {
   "cell_type": "markdown",
   "metadata": {},
   "source": [
    "**(4) Снова проверим гипотезу и выведем результаты:**"
   ]
  },
  {
   "cell_type": "code",
   "execution_count": 84,
   "metadata": {
    "tags": []
   },
   "outputs": [
    {
     "name": "stdout",
     "output_type": "stream",
     "text": [
      "p-значение: 0.727\n",
      "Не получилось отвергнуть нулевую гипотезу\n",
      "Относительный прирост среднего числа заказов группы B к группе A: -3.373%\n"
     ]
    }
   ],
   "source": [
    "# зададим уровень статистической значимости\n",
    "\n",
    "alpha = 0.05\n",
    "\n",
    "# выведем на экран полученное p-значение\n",
    "\n",
    "print('p-значение: {0:.3f}'.format(pvalue4))\n",
    "\n",
    "if pvalue4 < alpha:\n",
    "    print('Отвергаем нулевую гипотезу')\n",
    "else:\n",
    "    print('Не получилось отвергнуть нулевую гипотезу')\n",
    "\n",
    "print('Относительный прирост среднего числа заказов группы B к группе A: {0:.3%}'.format(change4))"
   ]
  },
  {
   "cell_type": "markdown",
   "metadata": {},
   "source": [
    "**(5) Выясним, как действия аномальных пользователей повлияли на результаты теста. Сравним результаты, полученные с использованием «сырых» и «очищенных» данных:**"
   ]
  },
  {
   "cell_type": "markdown",
   "metadata": {},
   "source": [
    "P-значение и относительный прирост среднего чека заказа группы B к группе A по **«сырым»** данным:"
   ]
  },
  {
   "cell_type": "code",
   "execution_count": 85,
   "metadata": {},
   "outputs": [
    {
     "name": "stdout",
     "output_type": "stream",
     "text": [
      "p-значение: 0.829\n",
      "Относительный прирост среднего чека заказа группы B к группе A: 28.660%\n"
     ]
    }
   ],
   "source": [
    "pvalue2 = stats.mannwhitneyu(data_orders[data_orders['group']=='A']['revenue'], \n",
    "                             data_orders[data_orders['group']=='B']['revenue'])[1]\n",
    "\n",
    "print('p-значение: {0:.3f}'.format(pvalue2))\n",
    "\n",
    "change2 = data_orders[data_orders['group']=='B']['revenue'].mean()/data_orders[data_orders['group']=='A']['revenue'].mean()-1\n",
    "\n",
    "print('Относительный прирост среднего чека заказа группы B к группе A: {0:.3%}'.format(change2))"
   ]
  },
  {
   "cell_type": "markdown",
   "metadata": {},
   "source": [
    "P-значение и относительный прирост среднего числа заказов группы B к группе A по **«очищенным»** данным:"
   ]
  },
  {
   "cell_type": "code",
   "execution_count": 86,
   "metadata": {},
   "outputs": [
    {
     "name": "stdout",
     "output_type": "stream",
     "text": [
      "p-значение: 0.727\n",
      "Относительный прирост среднего числа заказов группы B к группе A: -3.373%\n"
     ]
    }
   ],
   "source": [
    "pvalue4 = stats.mannwhitneyu(\n",
    "    data_orders[np.logical_and(data_orders['group'] == 'A', \n",
    "                               np.logical_not(data_orders['visitor_id'].isin(abnormalUsers)))]['revenue'],\n",
    "    data_orders[np.logical_and(data_orders['group'] == 'B', \n",
    "                               np.logical_not(data_orders['visitor_id'].isin(abnormalUsers)))]['revenue']\n",
    ")[1]\n",
    "\n",
    "print('p-значение: {0:.3f}'.format(pvalue4))\n",
    "\n",
    "change4 = data_orders[np.logical_and(\n",
    "    data_orders['group'] == 'B',\n",
    "    np.logical_not(data_orders['visitor_id'].isin(abnormalUsers)))]['revenue'].mean() / data_orders[np.logical_and(\n",
    "    data_orders['group'] == 'A', \n",
    "    np.logical_not(data_orders['visitor_id'].isin(abnormalUsers)))]['revenue'].mean() - 1\n",
    "\n",
    "print('Относительный прирост среднего числа заказов группы B к группе A: {0:.3%}'.format(change4))"
   ]
  },
  {
   "cell_type": "markdown",
   "metadata": {},
   "source": [
    "Разница:"
   ]
  },
  {
   "cell_type": "code",
   "execution_count": 87,
   "metadata": {},
   "outputs": [
    {
     "name": "stdout",
     "output_type": "stream",
     "text": [
      "Разница между p-значениями: -0.102\n",
      "Разница между относительным приростом среднего чека заказа группы B к группе A: -32.034%\n"
     ]
    }
   ],
   "source": [
    "diff_pvalue2 = pvalue4 - pvalue2\n",
    "diff_change2 = change4 - change2\n",
    "print('Разница между p-значениями: {0:.3f}'.format(diff_pvalue2))\n",
    "print('Разница между относительным приростом среднего чека заказа группы B к группе A: {0:.3%}'.format(diff_change2))"
   ]
  },
  {
   "cell_type": "markdown",
   "metadata": {},
   "source": [
    "---\n",
    "**<u>Вывод:</u>** после исключения аномальных значений нулевую гипотезу все равно не получается отвергнуть => по «очищенным» данным между группами A и B всё также **нет различий** в среднем чеке заказа. Теперь относительный прирост среднего чека заказа группы B к группе A составляет **-3,37 %** (что на **32,03 %** меньше, чем с использованием «сырых» данных), т.е. разница стала в пользу группы, но полученный новый показатель НЕ является статистически значимым."
   ]
  },
  {
   "cell_type": "markdown",
   "metadata": {
    "tags": []
   },
   "source": [
    "---\n",
    "<a id=\"ab_results\"></a>\n",
    "### 📌 <u>**Результаты анализа A/B-теста**</u>"
   ]
  },
  {
   "cell_type": "markdown",
   "metadata": {},
   "source": [
    "**(1) График кумулятивной выручки по группам:**"
   ]
  },
  {
   "cell_type": "markdown",
   "metadata": {},
   "source": [
    "* в течение всего рассматрваемого периода по двум группам **выручка увеличивается равномерно за исключением 19 августа 2019 года**, когда по **группе B** произошёл резкий рост, который мог возникнуть по причине многократного увеличения заказов, либо по причине появления очень дорогих заказов в выборке;\n",
    "* подавляющую чать времени **группа B** является лидером;\n",
    "* в период с **1 августа 2019 года** по **5 августа 2019 года**, а также **13 августа 2019 года** выручка в обеих группах практически одинаковая."
   ]
  },
  {
   "cell_type": "markdown",
   "metadata": {},
   "source": [
    "---\n",
    "**(2) График кумулятивного среднего чека по группам:**"
   ]
  },
  {
   "cell_type": "markdown",
   "metadata": {},
   "source": [
    "* поведение графиков обеих групп можно разделить на два отрезка: \n",
    "\n",
    "    * **группа A**: нестабильное - с **1 августа 2019 года** по **14 августа 2019 года**, стабильное - с **15 августа 2019 года** и до окончания рассматриваемого периода;\n",
    "    * **группа B**: нестабильное - с **1 августа 2019 года** по **18 августа 2019 года**, стабильное - с **19 августа 2019 года** и до окончания рассматриваемого периода;"
   ]
  },
  {
   "cell_type": "markdown",
   "metadata": {},
   "source": [
    "* у **группы B** зафикисровано 2 резких скачка - **2 августа 2019 года** и **18 августа 2019 года**, т.е. в выборку возможно попали крупные заказы (2-ой скачок более ярко выраженный) => необходимо больше данных;     \n",
    "* в конце рассматриваемого периода у **группы A** наблюдается тенденция к росту, у **группы B** - к снижению;\n",
    "* большую часть времени **у группы B** кумулятивный средний чек выше."
   ]
  },
  {
   "cell_type": "markdown",
   "metadata": {},
   "source": [
    "---\n",
    "**(3) График относительного изменения кумулятивного среднего чека группы B к группе A:**"
   ]
  },
  {
   "cell_type": "markdown",
   "metadata": {},
   "source": [
    "* график различия между группами в нескольких точках  резко «скачет» => это является признаком крупных заказов и выбросов;\n",
    "* в период с **12 августа 2019 года** по **18 августа 2019 года** **группа A** демонстрирует наилучший результат;\n",
    "* после крупного выброса **19 августа 2019** года график демонстрирует стабильное поведение;\n",
    "* большую часть времени показатели **группы B** выглядят более привлекательно относительно  показателей **группы A**."
   ]
  },
  {
   "cell_type": "markdown",
   "metadata": {},
   "source": [
    "---\n",
    "**(4) График кумулятивного среднего количества заказов на посетителя по группам:**"
   ]
  },
  {
   "cell_type": "markdown",
   "metadata": {},
   "source": [
    "* за рассматриваемый период поведение графиков обеих групп можно разделить на три временных отрезка: \n",
    "    * сильное колебание -  с **1 августа 2019 года** по **6 августа 2019 года**;\n",
    "    * среднее колебание - с **7 августа 2019 года** по **18 августа 2019 года**;\n",
    "    * стабилизация - с **19 августа 2019 года** и до окночания теста;"
   ]
  },
  {
   "cell_type": "markdown",
   "metadata": {},
   "source": [
    "* подавляющую часть времени показатели **группы B** выглядят более привлекательно относительно  показателей **группы A**;\n",
    "* графики НЕ являются симметричными."
   ]
  },
  {
   "cell_type": "markdown",
   "metadata": {},
   "source": [
    "---\n",
    "**(5) График относительного изменения кумулятивного среднего количества заказов на посетителя группы B к группе A:**"
   ]
  },
  {
   "cell_type": "markdown",
   "metadata": {},
   "source": [
    "* в самом начале теста группа A выигрывала у группы B, но затем с **7 августа 2019 года** упустила преимущество и далее не вырывалась в лидеры;\n",
    "* с **16 августа 2019 года** график начинает стремиться к стабилизация, но до конца периода все равно наблюдаются незначительные колебания на уровне примерно **15-17%** в пользу **группы B**."
   ]
  },
  {
   "cell_type": "markdown",
   "metadata": {},
   "source": [
    "---\n",
    "**(6) Точечный график количества заказов по пользователям:**"
   ]
  },
  {
   "cell_type": "markdown",
   "metadata": {},
   "source": [
    "* в основном пользователи совершали по **1-му заказу**;\n",
    "* присутствуют пользователи, которые делали по **2 и 3 заказа**, но и их точная доля не ясна, именно поэтому нет ясности в том, считать их аномалиями или нет. "
   ]
  },
  {
   "cell_type": "markdown",
   "metadata": {},
   "source": [
    "---\n",
    "**(7) Расчёт 95-ого и 99-ого перцентилей количества заказов на пользователя:**"
   ]
  },
  {
   "cell_type": "markdown",
   "metadata": {},
   "source": [
    "Не более **5 %** пользователей оформили больше чем **1 заказ** и не более **1%** пользователей - больше **2-х заказов**. Принят **1 заказ** на одного пользователя за верхнюю границу количества заказов."
   ]
  },
  {
   "cell_type": "markdown",
   "metadata": {},
   "source": [
    "---\n",
    "**(8) Точечный график стоимостей заказов:**"
   ]
  },
  {
   "cell_type": "markdown",
   "metadata": {},
   "source": [
    "* в большинстве своём заказы на превышают **100 000 у.е.**;\n",
    "* выявлено два аномальных заказа на сумму **1 294 500 у.е.** и **202 740 у.е.**"
   ]
  },
  {
   "cell_type": "markdown",
   "metadata": {},
   "source": [
    "---\n",
    "**(9) Расчёт 95-ого 99-ого перцентилей стоимости заказов:**"
   ]
  },
  {
   "cell_type": "markdown",
   "metadata": {},
   "source": [
    "Не более **5 %** заказов превышают стоимость в **26 785 у.е.** и не более **1%** заказов превышают стоимость в **53 904 у.е.**. Устанавлена верхняя границу стоимости заказов по величине 95-го перцентиля (**26 785 у.е.**)."
   ]
  },
  {
   "cell_type": "markdown",
   "metadata": {},
   "source": [
    "---\n",
    "**(10) Статистическая значимость различий в среднем количестве заказов на посетителя между группами по «сырым» данным:**"
   ]
  },
  {
   "cell_type": "markdown",
   "metadata": {},
   "source": [
    "Нулевая гипотеза отвергнута => по «сырым» данным между группами A и B **есть различия** в среднем количестве заказов. Относительный прирост среднего числа заказов группы B к группе A составил **15,98 %**."
   ]
  },
  {
   "cell_type": "markdown",
   "metadata": {},
   "source": [
    "---\n",
    "**(11) Статистическая значимость различий в среднем чеке заказа между группами по «сырым» данным:**"
   ]
  },
  {
   "cell_type": "markdown",
   "metadata": {},
   "source": [
    "Не получилось отвергнуть нулевую гипотезу => по «сырым» данным между группами A и B **различий нет** в среднем чеке заказа. Наблюдаемое различие по показателю относительного прироста среднего чека заказа группы B к группе (**28,66 %**) НЕ является статичтически значимым."
   ]
  },
  {
   "cell_type": "markdown",
   "metadata": {},
   "source": [
    "---\n",
    "**(12) Статистическая значимость различий в среднем количестве заказов на посетителя между группами по «очищенным» данным:**"
   ]
  },
  {
   "cell_type": "markdown",
   "metadata": {},
   "source": [
    "После исключения аномальных значений нулевая гипотеза все равно отвергается => по «очищенным» данным между группами A и B всё также **есть различия** в среднем количестве заказов. Относительный прирост среднего числа заказов группы B к группе A составил **17,39 %** (что на **1,41 %** больше, чем с использованием «сырых» данных)."
   ]
  },
  {
   "cell_type": "markdown",
   "metadata": {},
   "source": [
    "---\n",
    "**(13) Статистическая значимость различий в среднем чеке заказа между группами по «очищенным» данным:**"
   ]
  },
  {
   "cell_type": "markdown",
   "metadata": {},
   "source": [
    "После исключения аномальных значений нулевую гипотезу все равно не получается отвергнуть => по «очищенным» данным между группами A и B всё также **нет различий** в среднем чеке заказа. Теперь относительный прирост среднего чека заказа группы B к группе A составляет **-3,37 %** (что на **32,03 %** меньше, чем с использованием «сырых» данных), т.е. разница стала в пользу группы, но полученный новый показатель НЕ является статистически значимым."
   ]
  },
  {
   "cell_type": "markdown",
   "metadata": {},
   "source": [
    "---\n",
    "**РЕШЕНИЕ ПО РЕЗУЛЬТАТАМ A/B-ТЕСТА:**\n",
    "\n",
    "Имеющиеся факты:\n",
    "\n",
    "* Есть статистически значимые различия по среднему количеству заказов между группами и по «сырым», и по данным после фильтрации аномалий;\n",
    "* Нет статистически значимого различия по среднему чеку между группами ни по «сырым», ни по данным после фильтрации аномалий;\n",
    "* График различия среднего количества заказов между группами сообщает, что результаты **группы B** намного лучше **группы A**;\n",
    "* График различия среднего чека говорит о том, что результаты **группы B** выглядят более привлекательно относительно показателей **группы A**, но всё же ярко выраженного преимущества не наблюдается.\n",
    "\n",
    "Исходя из обнаруженных фактов, <u>**тест следует остановить и признать его успешным**</u>. Группа B действительно лучше группы A."
   ]
  },
  {
   "cell_type": "markdown",
   "metadata": {
    "tags": []
   },
   "source": [
    "## Шаг 5. Общий вывод"
   ]
  },
  {
   "cell_type": "markdown",
   "metadata": {},
   "source": [
    "Для крупного интернет-магазина совместно с отделом маркетинга был подготовлен список гипотез для увеличения выручки. В ходе исседования гипотезы были приоритизированы, а затем проведён A/B-тест, результаты теста проанализированы. \n",
    "\n",
    "Для анализа были использованы **3 файла** в CSV-формате. В файлах были представлены следующие данные:"
   ]
  },
  {
   "cell_type": "markdown",
   "metadata": {},
   "source": [
    "<u>**(1) Список гипотез - hypothesis.csv**</u> 🎯\n",
    "\n",
    "* **`Hypothesis`** — краткое описание гипотезы;\n",
    "* **`Reach`** — охват пользователей по 10-балльной шкале;\n",
    "* **`Impact`** — влияние на пользователей по 10-балльной шкале;\n",
    "* **`Confidence`** — уверенность в гипотезе по 10-балльной шкале;\n",
    "* **`Efforts`** — затраты ресурсов на проверку гипотезы по 10-балльной шкале. Чем больше значение Efforts, тем дороже проверка гипотезы.\n",
    "\n",
    "<u>**(2) Информация о заказах - orders.csv**</u> 💰\n",
    "\n",
    "* **`transactionId`** — идентификатор заказа;\n",
    "* **`visitorId`** — идентификатор пользователя, совершившего заказ;\n",
    "* **`date`** — дата, когда был совершён заказ;\n",
    "* **`revenue`** — выручка заказа;\n",
    "* **`group`** — группа A/B-теста, в которую попал заказ.\n",
    "\n",
    "<u>**(3) Информация о пользователях - visitors.csv**</u> 👥\n",
    "\n",
    "* **`date`** — дата;\n",
    "* **`group`** — группа A/B-теста;\n",
    "* **`visitors`** — количество пользователей в указанную дату в указанной группе A/B-теста"
   ]
  },
  {
   "cell_type": "markdown",
   "metadata": {},
   "source": [
    "---\n",
    "Сначала был проведён первичный анализ данных, где были выявлены проблемы в виде наличия в столбцах символов верхнего регистра и несоответствия типа данных столбцов описанию из документации. Подробнее см. **[Результаты и выявленные проблемы первичного анализа данных](#first_res_data)**."
   ]
  },
  {
   "cell_type": "markdown",
   "metadata": {},
   "source": [
    "---\n",
    "Затем проведена предобработка данных, после которой стало возможным использовать датафрейм для дальнейшего исследования. Подробнее см. **[Результаты предобработки данных](#preprocessing_res_data)**."
   ]
  },
  {
   "cell_type": "markdown",
   "metadata": {},
   "source": [
    "---\n",
    "Для приоритизации гипотез были применены фреймворки **ICE** и **RICE**."
   ]
  },
  {
   "cell_type": "markdown",
   "metadata": {},
   "source": [
    "**(1) Результат применения фреймворка ICE:**"
   ]
  },
  {
   "cell_type": "markdown",
   "metadata": {},
   "source": [
    "* **Наибольший рейтинг ICE SCORE** у гипотезы: <u>***№ 8 \"Запустить акцию, дающую скидку на товар в день рождения\"***</u> (**16,20 баллов**). \n",
    "\n",
    "    Запуск такой акции имеет практически наивысшие оценки по компонентам **Impact** и **Confidence** (по обои компонентам - **9 баллов**), при этом затраты оцениваются, как средние (оценка **Efforts** - **5 баллов**). Это позволяет нам утверждать, что воплощение данного предложения сможет простимулировать рост выручки и улучшит финансовое состояние компании. \n",
    "\n",
    "* **Наименьший рейтинг ICE SCORE** у гипотезы: <u>***№ 4 \"Изменить цвет фона главной страницы, чтобы увеличить вовлеченность пользователей\"***</u> (**1,00 балл**). \n",
    "\n",
    "    На изменение фона главной страницы требуется минимум затрат (оценка **Efforts** - **1 балл**), но такой ход с высокой степенью вероятности не принесёт желаемого результата: другое оформление никак не повлияет на желание пользователей делать больше покупок (оценка **Impact** и **Confidence** - **1 балл**)."
   ]
  },
  {
   "cell_type": "markdown",
   "metadata": {},
   "source": [
    "---\n",
    "**(2) Результат применения фреймворка RICE:**"
   ]
  },
  {
   "cell_type": "markdown",
   "metadata": {},
   "source": [
    "* **Наибольший рейтинг RICE SCORE** у гипотезы: <u>***№ 7 \"Добавить форму подписки на все основные страницы, чтобы собрать базу клиентов для email-рассылок\"***</u> (**112,00**)\n",
    "\n",
    "    Гипотеза лидирует с большим отрывом благодаря наивысшей оценке **Reach** (**10 баллов**), высоким **Impact** и **Confidence** (**7 и 8 баллов** соответственно) и среднему **Efforts** (**5 баллов**). Добавление формы подписки на все основные странциы не является очень затратной задачой, но в итоге нам удаётся охватить абсолютно всех пользователей, которые посещают сайт интернет-магазина. При этом есть уверенность в том, что предпринятые действия с высокой степенью вероятности сработают и позволят дать нам желаемый результат, а именно увеличение выручки.\n",
    "\n",
    "* **Наименьший рейтинг RICE SCORE** у гипотезы: <u>***№ 4 \"Изменить цвет фона главной страницы, чтобы увеличить вовлеченность пользователей\"***</u> (**3,00**)\n",
    "\n",
    "    Как и в рейтинге **ICE SCORE** гипотеза занимает последнее место, оценка компонента **Reach** (**3 балла** (что является одним из самых нзхких показателей)) не изменила ситуацию."
   ]
  },
  {
   "cell_type": "markdown",
   "metadata": {},
   "source": [
    "---\n",
    "**(3) Результат сравнения приоритизации гипотез по ICE и RICE:**\n",
    "\n",
    "Приоритет гипотез по **ICE** и **RICE** различается. Это объясняется наличием дополнительного компонента **Reach** в фреймворке **RICE**. Чем больше пользователей затронет изменение, которое компания собирается внести, тем больше будет оценка **Reach**. \n",
    "\n",
    "Первая по приоритету гипотеза из рейтинга **ICE SCORE** (<u>***№ 8 \"Запустить акцию, дающую скидку на товар в день рождения\"***</u>)  занимает лишь 5-е место в рейтинге **RICE SCORE** из-за самой низкой оценки **Reach** (**1 балл**), в то время как занимавшая 3-е место гипотеза из рейтинга **ICE SCORE** (<u>***№ 7 \"Добавить форму подписки на все основные страницы, чтобы собрать базу клиентов для email-рассылок\"***</u>) вырвалась в лидеры с внушительным отрывом после применения фреймворка **RICE**, поскольку оценка **Reach** составила **10 баллов**.\n",
    "\n",
    "В топ-3 и в том и в другом рейтинге вошли лишь 2 гипотезы:\n",
    "\n",
    "* <u>***№ 7 \"Добавить форму подписки на все основные страницы, чтобы собрать базу клиентов для email-рассылок\"***</u> (**ICE SCORE** - 3 место, **RICE SCORE** - 1 место)\n",
    "* <u>***№ 0 \"Добавить два новых канала привлечения трафика, что позволит привлекать на 30% больше пользователей\"***</u> (**ICE SCORE** - 2 место, **RICE SCORE** - 3 место)"
   ]
  },
  {
   "cell_type": "markdown",
   "metadata": {},
   "source": [
    "---\n",
    "Для проведения A/B-теста приянто решение использовать гипотезу <u>***№ 7 \"Добавить форму подписки на все основные страницы, чтобы собрать базу клиентов для email-рассылок\"***</u>."
   ]
  },
  {
   "cell_type": "markdown",
   "metadata": {},
   "source": [
    "---\n",
    "**РЕШЕНИЕ ПО РЕЗУЛЬТАТАМ A/B-ТЕСТА:**\n",
    "\n",
    "Имеющиеся факты:\n",
    "\n",
    "* Есть статистически значимые различия по среднему количеству заказов между группами и по «сырым», и по данным после фильтрации аномалий;\n",
    "* Нет статистически значимого различия по среднему чеку между группами ни по «сырым», ни по данным после фильтрации аномалий;\n",
    "* График различия среднего количества заказов между группами сообщает, что результаты **группы B** намного лучше **группы A**;\n",
    "* График различия среднего чека говорит о том, что результаты **группы B** выглядят более привлекательно относительно показателей **группы A**, но всё же ярко выраженного преимущества не наблюдается.\n",
    "\n",
    "Исходя из обнаруженных фактов, <u>**тест следует остановить и признать его успешным**</u>. Группа B действительно лучше группы A."
   ]
  },
  {
   "cell_type": "markdown",
   "metadata": {},
   "source": [
    "---\n",
    "## ℹ️ Инструкция по выполнению проекта"
   ]
  },
  {
   "cell_type": "markdown",
   "metadata": {
    "id": "r-BO88CnWVwe"
   },
   "source": [
    "**(1) Загрузите данные и подготовьте их к анализу** ✅"
   ]
  },
  {
   "cell_type": "markdown",
   "metadata": {},
   "source": [
    "---\n",
    "**(2) Приоритизируйте гипотезы** ✅\n",
    "\n",
    "В файле `/datasets/hypothesis.csv` 9 гипотез по увеличению выручки интернет-магазина с указанными параметрами `Reach`, `Impact`, `Confidence`, `Effort`.\n",
    "\n",
    "**Задача**\n",
    "\n",
    "1. Примените фреймворк ICE для приоритизации гипотез. Отсортируйте их по убыванию приоритета. ✅\n",
    "2. Примените фреймворк RICE для приоритизации гипотез. Отсортируйте их по убыванию приоритета. ✅\n",
    "3. Укажите, как изменилась приоритизация гипотез при применении RICE вместо ICE. Объясните, почему так произошло. ✅"
   ]
  },
  {
   "cell_type": "markdown",
   "metadata": {},
   "source": [
    "---\n",
    "**(3) Проанализируйте результаты A/B-теста** ✅\n",
    "\n",
    "Вы провели A/B-тест и получили результаты, которые описаны в файлах `/datasets/orders.csv` и `/datasets/visitors.csv`.\n",
    "\n",
    "**Задача**\n",
    "\n",
    "1. Постройте график кумулятивной выручки по группам. Сделайте выводы и предположения. ✅\n",
    "2. Постройте график кумулятивного среднего чека по группам. Сделайте выводы и предположения. ✅\n",
    "3. Постройте график относительного изменения кумулятивного среднего чека группы B к группе A. Сделайте выводы и предположения. ✅\n",
    "4. Постройте график кумулятивного среднего количества заказов на посетителя по группам. Сделайте выводы и предположения. ✅\n",
    "5. Постройте график относительного изменения кумулятивного среднего количества заказов на посетителя группы B к группе A. Сделайте выводы и предположения. ✅\n",
    "6. Постройте точечный график количества заказов по пользователям. Сделайте выводы и предположения. ✅\n",
    "7. Посчитайте 95-й и 99-й перцентили количества заказов на пользователя. Выберите границу для определения аномальных пользователей. ✅\n",
    "8. Постройте точечный график стоимостей заказов. Сделайте выводы и предположения. ✅\n",
    "9. Посчитайте 95-й и 99-й перцентили стоимости заказов. Выберите границу для определения аномальных заказов. ✅\n",
    "10. Посчитайте статистическую значимость различий в среднем количестве заказов на посетителя между группами по «сырым» данным. Сделайте выводы и предположения. ✅\n",
    "11. Посчитайте статистическую значимость различий в среднем чеке заказа между группами по «сырым» данным. Сделайте выводы и предположения. ✅\n",
    "12. Посчитайте статистическую значимость различий в среднем количестве заказов на посетителя между группами по «очищенным» данным. Сделайте выводы и предположения. ✅\n",
    "13. Посчитайте статистическую значимость различий в среднем чеке заказа между группами по «очищенным» данным. Сделайте выводы и предположения. ✅\n",
    "14. Примите решение по результатам теста и объясните его. Варианты решений: ✅\n",
    "    * Остановить тест, зафиксировать победу одной из групп.\n",
    "    * Остановить тест, зафиксировать отсутствие различий между группами.\n",
    "    * Продолжить тест."
   ]
  },
  {
   "cell_type": "markdown",
   "metadata": {},
   "source": [
    "---\n",
    "**(4) Напишите выводы** ✅"
   ]
  }
 ],
 "metadata": {
  "ExecuteTimeLog": [
   {
    "duration": 1247,
    "start_time": "2024-01-10T15:42:42.514Z"
   },
   {
    "duration": 3,
    "start_time": "2024-01-10T15:42:43.763Z"
   },
   {
    "duration": 3,
    "start_time": "2024-01-10T15:42:43.774Z"
   },
   {
    "duration": 117,
    "start_time": "2024-01-10T15:42:43.778Z"
   },
   {
    "duration": 12,
    "start_time": "2024-01-10T15:42:43.896Z"
   },
   {
    "duration": 13,
    "start_time": "2024-01-10T15:42:43.909Z"
   },
   {
    "duration": 7,
    "start_time": "2024-01-10T15:42:43.924Z"
   },
   {
    "duration": 4,
    "start_time": "2024-01-10T15:42:43.933Z"
   },
   {
    "duration": 19,
    "start_time": "2024-01-10T15:42:43.940Z"
   },
   {
    "duration": 115,
    "start_time": "2024-01-10T15:42:43.961Z"
   },
   {
    "duration": 9,
    "start_time": "2024-01-10T15:42:44.079Z"
   },
   {
    "duration": 17,
    "start_time": "2024-01-10T15:42:44.089Z"
   },
   {
    "duration": 11,
    "start_time": "2024-01-10T15:42:44.108Z"
   },
   {
    "duration": 9,
    "start_time": "2024-01-10T15:42:44.121Z"
   },
   {
    "duration": 6,
    "start_time": "2024-01-10T15:42:44.131Z"
   },
   {
    "duration": 40,
    "start_time": "2024-01-10T15:42:44.138Z"
   },
   {
    "duration": 20,
    "start_time": "2024-01-10T15:42:44.179Z"
   },
   {
    "duration": 12,
    "start_time": "2024-01-10T15:42:44.201Z"
   },
   {
    "duration": 104,
    "start_time": "2024-01-10T15:42:44.215Z"
   },
   {
    "duration": 7,
    "start_time": "2024-01-10T15:42:44.321Z"
   },
   {
    "duration": 13,
    "start_time": "2024-01-10T15:42:44.329Z"
   },
   {
    "duration": 14,
    "start_time": "2024-01-10T15:42:44.343Z"
   },
   {
    "duration": 26,
    "start_time": "2024-01-10T15:42:44.358Z"
   },
   {
    "duration": 7,
    "start_time": "2024-01-10T15:42:44.386Z"
   },
   {
    "duration": 14,
    "start_time": "2024-01-10T15:42:44.394Z"
   },
   {
    "duration": 7,
    "start_time": "2024-01-10T15:42:44.410Z"
   },
   {
    "duration": 5,
    "start_time": "2024-01-10T15:42:44.422Z"
   },
   {
    "duration": 14,
    "start_time": "2024-01-10T15:42:44.428Z"
   },
   {
    "duration": 12,
    "start_time": "2024-01-10T15:42:44.443Z"
   },
   {
    "duration": 20,
    "start_time": "2024-01-10T15:42:44.457Z"
   },
   {
    "duration": 7,
    "start_time": "2024-01-10T15:42:44.479Z"
   },
   {
    "duration": 127,
    "start_time": "2024-01-10T15:42:44.487Z"
   },
   {
    "duration": 9,
    "start_time": "2024-01-10T15:42:44.616Z"
   },
   {
    "duration": 19,
    "start_time": "2024-01-10T15:42:44.627Z"
   },
   {
    "duration": 10,
    "start_time": "2024-01-10T15:42:44.647Z"
   },
   {
    "duration": 17,
    "start_time": "2024-01-10T15:42:44.658Z"
   },
   {
    "duration": 11,
    "start_time": "2024-01-10T15:42:44.676Z"
   },
   {
    "duration": 10,
    "start_time": "2024-01-10T15:42:44.688Z"
   },
   {
    "duration": 4,
    "start_time": "2024-01-10T15:42:44.699Z"
   },
   {
    "duration": 12,
    "start_time": "2024-01-10T15:42:44.705Z"
   },
   {
    "duration": 14,
    "start_time": "2024-01-10T15:42:44.719Z"
   },
   {
    "duration": 8,
    "start_time": "2024-01-10T15:42:44.735Z"
   },
   {
    "duration": 32,
    "start_time": "2024-01-10T15:42:44.744Z"
   },
   {
    "duration": 11,
    "start_time": "2024-01-10T15:42:44.778Z"
   },
   {
    "duration": 6,
    "start_time": "2024-01-10T15:42:44.790Z"
   },
   {
    "duration": 5,
    "start_time": "2024-01-10T15:42:44.797Z"
   },
   {
    "duration": 24,
    "start_time": "2024-01-10T15:42:44.803Z"
   },
   {
    "duration": 654,
    "start_time": "2024-01-10T15:42:44.829Z"
   },
   {
    "duration": 345,
    "start_time": "2024-01-10T15:42:45.485Z"
   },
   {
    "duration": 13,
    "start_time": "2024-01-10T15:42:45.831Z"
   },
   {
    "duration": 742,
    "start_time": "2024-01-10T15:42:45.845Z"
   },
   {
    "duration": 330,
    "start_time": "2024-01-10T15:42:46.589Z"
   },
   {
    "duration": 553,
    "start_time": "2024-01-10T15:42:46.921Z"
   },
   {
    "duration": 5,
    "start_time": "2024-01-10T15:42:47.476Z"
   },
   {
    "duration": 189,
    "start_time": "2024-01-10T15:42:47.483Z"
   },
   {
    "duration": 134,
    "start_time": "2024-01-10T15:42:47.674Z"
   },
   {
    "duration": 12,
    "start_time": "2024-01-10T15:42:47.809Z"
   },
   {
    "duration": 344,
    "start_time": "2024-01-10T15:42:47.823Z"
   },
   {
    "duration": 322,
    "start_time": "2024-01-10T15:42:48.172Z"
   },
   {
    "duration": 329,
    "start_time": "2024-01-10T15:42:48.495Z"
   },
   {
    "duration": 284,
    "start_time": "2024-01-10T15:42:48.826Z"
   },
   {
    "duration": 331,
    "start_time": "2024-01-10T15:42:49.111Z"
   },
   {
    "duration": 12,
    "start_time": "2024-01-10T15:42:49.444Z"
   },
   {
    "duration": 214,
    "start_time": "2024-01-10T15:42:49.458Z"
   },
   {
    "duration": 4,
    "start_time": "2024-01-10T15:42:49.674Z"
   },
   {
    "duration": 15,
    "start_time": "2024-01-10T15:42:49.679Z"
   },
   {
    "duration": 189,
    "start_time": "2024-01-10T15:42:49.695Z"
   },
   {
    "duration": 4,
    "start_time": "2024-01-10T15:42:49.886Z"
   },
   {
    "duration": 263,
    "start_time": "2024-01-10T15:42:49.891Z"
   },
   {
    "duration": 137,
    "start_time": "2024-01-10T15:42:50.156Z"
   },
   {
    "duration": 6,
    "start_time": "2024-01-10T15:42:50.295Z"
   },
   {
    "duration": 26,
    "start_time": "2024-01-10T15:42:50.303Z"
   },
   {
    "duration": 4,
    "start_time": "2024-01-10T15:42:50.331Z"
   },
   {
    "duration": 41,
    "start_time": "2024-01-10T15:42:50.337Z"
   },
   {
    "duration": 10,
    "start_time": "2024-01-10T15:42:50.380Z"
   },
   {
    "duration": 16,
    "start_time": "2024-01-10T15:42:50.391Z"
   },
   {
    "duration": 8,
    "start_time": "2024-01-10T15:42:50.408Z"
   },
   {
    "duration": 26,
    "start_time": "2024-01-10T15:42:50.418Z"
   },
   {
    "duration": 5,
    "start_time": "2024-01-10T15:42:50.446Z"
   },
   {
    "duration": 45,
    "start_time": "2024-01-10T15:42:50.452Z"
   },
   {
    "duration": 26,
    "start_time": "2024-01-10T15:42:50.502Z"
   },
   {
    "duration": 3,
    "start_time": "2024-01-10T15:42:50.530Z"
   },
   {
    "duration": 38,
    "start_time": "2024-01-10T15:42:50.535Z"
   },
   {
    "duration": 5,
    "start_time": "2024-01-10T15:42:50.575Z"
   },
   {
    "duration": 17,
    "start_time": "2024-01-10T15:42:50.581Z"
   },
   {
    "duration": 13,
    "start_time": "2024-01-10T15:42:50.600Z"
   },
   {
    "duration": 18,
    "start_time": "2024-01-10T15:42:50.615Z"
   },
   {
    "duration": 1479,
    "start_time": "2024-01-10T16:33:29.545Z"
   },
   {
    "duration": 3,
    "start_time": "2024-01-10T16:33:31.026Z"
   },
   {
    "duration": 58,
    "start_time": "2024-01-10T16:33:31.030Z"
   },
   {
    "duration": 139,
    "start_time": "2024-01-10T16:33:31.090Z"
   },
   {
    "duration": 11,
    "start_time": "2024-01-10T16:33:31.231Z"
   },
   {
    "duration": 14,
    "start_time": "2024-01-10T16:33:31.244Z"
   },
   {
    "duration": 20,
    "start_time": "2024-01-10T16:33:31.260Z"
   },
   {
    "duration": 20,
    "start_time": "2024-01-10T16:33:31.282Z"
   },
   {
    "duration": 23,
    "start_time": "2024-01-10T16:33:31.303Z"
   },
   {
    "duration": 114,
    "start_time": "2024-01-10T16:33:31.328Z"
   },
   {
    "duration": 8,
    "start_time": "2024-01-10T16:33:31.444Z"
   },
   {
    "duration": 33,
    "start_time": "2024-01-10T16:33:31.454Z"
   },
   {
    "duration": 38,
    "start_time": "2024-01-10T16:33:31.489Z"
   },
   {
    "duration": 12,
    "start_time": "2024-01-10T16:33:31.529Z"
   },
   {
    "duration": 13,
    "start_time": "2024-01-10T16:33:31.542Z"
   },
   {
    "duration": 6,
    "start_time": "2024-01-10T16:33:31.556Z"
   },
   {
    "duration": 9,
    "start_time": "2024-01-10T16:33:31.564Z"
   },
   {
    "duration": 13,
    "start_time": "2024-01-10T16:33:31.575Z"
   },
   {
    "duration": 91,
    "start_time": "2024-01-10T16:33:31.589Z"
   },
   {
    "duration": 7,
    "start_time": "2024-01-10T16:33:31.682Z"
   },
   {
    "duration": 44,
    "start_time": "2024-01-10T16:33:31.690Z"
   },
   {
    "duration": 29,
    "start_time": "2024-01-10T16:33:31.735Z"
   },
   {
    "duration": 32,
    "start_time": "2024-01-10T16:33:31.766Z"
   },
   {
    "duration": 13,
    "start_time": "2024-01-10T16:33:31.800Z"
   },
   {
    "duration": 15,
    "start_time": "2024-01-10T16:33:31.815Z"
   },
   {
    "duration": 21,
    "start_time": "2024-01-10T16:33:31.831Z"
   },
   {
    "duration": 31,
    "start_time": "2024-01-10T16:33:31.854Z"
   },
   {
    "duration": 33,
    "start_time": "2024-01-10T16:33:31.892Z"
   },
   {
    "duration": 8,
    "start_time": "2024-01-10T16:33:31.928Z"
   },
   {
    "duration": 16,
    "start_time": "2024-01-10T16:33:31.938Z"
   },
   {
    "duration": 22,
    "start_time": "2024-01-10T16:33:31.956Z"
   },
   {
    "duration": 123,
    "start_time": "2024-01-10T16:33:31.980Z"
   },
   {
    "duration": 10,
    "start_time": "2024-01-10T16:33:32.104Z"
   },
   {
    "duration": 84,
    "start_time": "2024-01-10T16:33:32.116Z"
   },
   {
    "duration": 61,
    "start_time": "2024-01-10T16:33:32.202Z"
   },
   {
    "duration": 23,
    "start_time": "2024-01-10T16:33:32.265Z"
   },
   {
    "duration": 38,
    "start_time": "2024-01-10T16:33:32.290Z"
   },
   {
    "duration": 27,
    "start_time": "2024-01-10T16:33:32.330Z"
   },
   {
    "duration": 11,
    "start_time": "2024-01-10T16:33:32.359Z"
   },
   {
    "duration": 24,
    "start_time": "2024-01-10T16:33:32.371Z"
   },
   {
    "duration": 23,
    "start_time": "2024-01-10T16:33:32.396Z"
   },
   {
    "duration": 65,
    "start_time": "2024-01-10T16:33:32.421Z"
   },
   {
    "duration": 43,
    "start_time": "2024-01-10T16:33:32.488Z"
   },
   {
    "duration": 12,
    "start_time": "2024-01-10T16:33:32.533Z"
   },
   {
    "duration": 24,
    "start_time": "2024-01-10T16:33:32.546Z"
   },
   {
    "duration": 49,
    "start_time": "2024-01-10T16:33:32.572Z"
   },
   {
    "duration": 23,
    "start_time": "2024-01-10T16:33:32.623Z"
   },
   {
    "duration": 626,
    "start_time": "2024-01-10T16:33:32.647Z"
   },
   {
    "duration": 352,
    "start_time": "2024-01-10T16:33:33.274Z"
   },
   {
    "duration": 22,
    "start_time": "2024-01-10T16:33:33.628Z"
   },
   {
    "duration": 691,
    "start_time": "2024-01-10T16:33:33.652Z"
   },
   {
    "duration": 348,
    "start_time": "2024-01-10T16:33:34.344Z"
   },
   {
    "duration": 564,
    "start_time": "2024-01-10T16:33:34.694Z"
   },
   {
    "duration": 7,
    "start_time": "2024-01-10T16:33:35.259Z"
   },
   {
    "duration": 176,
    "start_time": "2024-01-10T16:33:35.267Z"
   },
   {
    "duration": 128,
    "start_time": "2024-01-10T16:33:35.445Z"
   },
   {
    "duration": 12,
    "start_time": "2024-01-10T16:33:35.575Z"
   },
   {
    "duration": 344,
    "start_time": "2024-01-10T16:33:35.588Z"
   },
   {
    "duration": 325,
    "start_time": "2024-01-10T16:33:35.934Z"
   },
   {
    "duration": 343,
    "start_time": "2024-01-10T16:33:36.260Z"
   },
   {
    "duration": 272,
    "start_time": "2024-01-10T16:33:36.605Z"
   },
   {
    "duration": 323,
    "start_time": "2024-01-10T16:33:36.879Z"
   },
   {
    "duration": 13,
    "start_time": "2024-01-10T16:33:37.203Z"
   },
   {
    "duration": 227,
    "start_time": "2024-01-10T16:33:37.218Z"
   },
   {
    "duration": 4,
    "start_time": "2024-01-10T16:33:37.446Z"
   },
   {
    "duration": 9,
    "start_time": "2024-01-10T16:33:37.452Z"
   },
   {
    "duration": 191,
    "start_time": "2024-01-10T16:33:37.462Z"
   },
   {
    "duration": 4,
    "start_time": "2024-01-10T16:33:37.655Z"
   },
   {
    "duration": 243,
    "start_time": "2024-01-10T16:33:37.661Z"
   },
   {
    "duration": 127,
    "start_time": "2024-01-10T16:33:37.906Z"
   },
   {
    "duration": 12,
    "start_time": "2024-01-10T16:33:38.034Z"
   },
   {
    "duration": 25,
    "start_time": "2024-01-10T16:33:38.048Z"
   },
   {
    "duration": 6,
    "start_time": "2024-01-10T16:33:38.075Z"
   },
   {
    "duration": 11,
    "start_time": "2024-01-10T16:33:38.082Z"
   },
   {
    "duration": 6,
    "start_time": "2024-01-10T16:33:38.094Z"
   },
   {
    "duration": 59,
    "start_time": "2024-01-10T16:33:38.102Z"
   },
   {
    "duration": 12,
    "start_time": "2024-01-10T16:33:38.163Z"
   },
   {
    "duration": 33,
    "start_time": "2024-01-10T16:33:38.178Z"
   },
   {
    "duration": 6,
    "start_time": "2024-01-10T16:33:38.213Z"
   },
   {
    "duration": 55,
    "start_time": "2024-01-10T16:33:38.221Z"
   },
   {
    "duration": 36,
    "start_time": "2024-01-10T16:33:38.278Z"
   },
   {
    "duration": 5,
    "start_time": "2024-01-10T16:33:38.347Z"
   },
   {
    "duration": 20,
    "start_time": "2024-01-10T16:33:38.354Z"
   },
   {
    "duration": 5,
    "start_time": "2024-01-10T16:33:38.376Z"
   },
   {
    "duration": 13,
    "start_time": "2024-01-10T16:33:38.383Z"
   },
   {
    "duration": 50,
    "start_time": "2024-01-10T16:33:38.398Z"
   },
   {
    "duration": 5,
    "start_time": "2024-01-10T16:33:38.450Z"
   },
   {
    "duration": 1247,
    "start_time": "2024-01-11T06:42:01.990Z"
   },
   {
    "duration": 2,
    "start_time": "2024-01-11T06:42:03.239Z"
   },
   {
    "duration": 26,
    "start_time": "2024-01-11T06:42:03.243Z"
   },
   {
    "duration": 77,
    "start_time": "2024-01-11T06:42:03.271Z"
   },
   {
    "duration": 11,
    "start_time": "2024-01-11T06:42:03.349Z"
   },
   {
    "duration": 26,
    "start_time": "2024-01-11T06:42:03.362Z"
   },
   {
    "duration": 16,
    "start_time": "2024-01-11T06:42:03.390Z"
   },
   {
    "duration": 25,
    "start_time": "2024-01-11T06:42:03.407Z"
   },
   {
    "duration": 40,
    "start_time": "2024-01-11T06:42:03.433Z"
   },
   {
    "duration": 95,
    "start_time": "2024-01-11T06:42:03.477Z"
   },
   {
    "duration": 9,
    "start_time": "2024-01-11T06:42:03.573Z"
   },
   {
    "duration": 14,
    "start_time": "2024-01-11T06:42:03.584Z"
   },
   {
    "duration": 8,
    "start_time": "2024-01-11T06:42:03.600Z"
   },
   {
    "duration": 28,
    "start_time": "2024-01-11T06:42:03.609Z"
   },
   {
    "duration": 5,
    "start_time": "2024-01-11T06:42:03.639Z"
   },
   {
    "duration": 29,
    "start_time": "2024-01-11T06:42:03.645Z"
   },
   {
    "duration": 5,
    "start_time": "2024-01-11T06:42:03.675Z"
   },
   {
    "duration": 12,
    "start_time": "2024-01-11T06:42:03.681Z"
   },
   {
    "duration": 60,
    "start_time": "2024-01-11T06:42:03.695Z"
   },
   {
    "duration": 6,
    "start_time": "2024-01-11T06:42:03.757Z"
   },
   {
    "duration": 16,
    "start_time": "2024-01-11T06:42:03.765Z"
   },
   {
    "duration": 12,
    "start_time": "2024-01-11T06:42:03.783Z"
   },
   {
    "duration": 10,
    "start_time": "2024-01-11T06:42:03.797Z"
   },
   {
    "duration": 6,
    "start_time": "2024-01-11T06:42:03.808Z"
   },
   {
    "duration": 6,
    "start_time": "2024-01-11T06:42:03.815Z"
   },
   {
    "duration": 25,
    "start_time": "2024-01-11T06:42:03.822Z"
   },
   {
    "duration": 6,
    "start_time": "2024-01-11T06:42:03.849Z"
   },
   {
    "duration": 19,
    "start_time": "2024-01-11T06:42:03.860Z"
   },
   {
    "duration": 10,
    "start_time": "2024-01-11T06:42:03.881Z"
   },
   {
    "duration": 8,
    "start_time": "2024-01-11T06:42:03.892Z"
   },
   {
    "duration": 4,
    "start_time": "2024-01-11T06:42:03.902Z"
   },
   {
    "duration": 137,
    "start_time": "2024-01-11T06:42:03.907Z"
   },
   {
    "duration": 10,
    "start_time": "2024-01-11T06:42:04.045Z"
   },
   {
    "duration": 16,
    "start_time": "2024-01-11T06:42:04.057Z"
   },
   {
    "duration": 4,
    "start_time": "2024-01-11T06:42:04.074Z"
   },
   {
    "duration": 16,
    "start_time": "2024-01-11T06:42:04.080Z"
   },
   {
    "duration": 20,
    "start_time": "2024-01-11T06:42:04.097Z"
   },
   {
    "duration": 12,
    "start_time": "2024-01-11T06:42:04.118Z"
   },
   {
    "duration": 4,
    "start_time": "2024-01-11T06:42:04.132Z"
   },
   {
    "duration": 6,
    "start_time": "2024-01-11T06:42:04.137Z"
   },
   {
    "duration": 31,
    "start_time": "2024-01-11T06:42:04.144Z"
   },
   {
    "duration": 7,
    "start_time": "2024-01-11T06:42:04.177Z"
   },
   {
    "duration": 38,
    "start_time": "2024-01-11T06:42:04.185Z"
   },
   {
    "duration": 10,
    "start_time": "2024-01-11T06:42:04.224Z"
   },
   {
    "duration": 6,
    "start_time": "2024-01-11T06:42:04.236Z"
   },
   {
    "duration": 44,
    "start_time": "2024-01-11T06:42:04.243Z"
   },
   {
    "duration": 21,
    "start_time": "2024-01-11T06:42:04.289Z"
   },
   {
    "duration": 621,
    "start_time": "2024-01-11T06:42:04.312Z"
   },
   {
    "duration": 334,
    "start_time": "2024-01-11T06:42:04.934Z"
   },
   {
    "duration": 12,
    "start_time": "2024-01-11T06:42:05.272Z"
   },
   {
    "duration": 697,
    "start_time": "2024-01-11T06:42:05.285Z"
   },
   {
    "duration": 331,
    "start_time": "2024-01-11T06:42:05.984Z"
   },
   {
    "duration": 548,
    "start_time": "2024-01-11T06:42:06.316Z"
   },
   {
    "duration": 11,
    "start_time": "2024-01-11T06:42:06.866Z"
   },
   {
    "duration": 189,
    "start_time": "2024-01-11T06:42:06.878Z"
   },
   {
    "duration": 144,
    "start_time": "2024-01-11T06:42:07.068Z"
   },
   {
    "duration": 13,
    "start_time": "2024-01-11T06:42:07.214Z"
   },
   {
    "duration": 336,
    "start_time": "2024-01-11T06:42:07.229Z"
   },
   {
    "duration": 332,
    "start_time": "2024-01-11T06:42:07.566Z"
   },
   {
    "duration": 332,
    "start_time": "2024-01-11T06:42:07.899Z"
   },
   {
    "duration": 270,
    "start_time": "2024-01-11T06:42:08.233Z"
   },
   {
    "duration": 335,
    "start_time": "2024-01-11T06:42:08.505Z"
   },
   {
    "duration": 11,
    "start_time": "2024-01-11T06:42:08.841Z"
   },
   {
    "duration": 212,
    "start_time": "2024-01-11T06:42:08.854Z"
   },
   {
    "duration": 7,
    "start_time": "2024-01-11T06:42:09.068Z"
   },
   {
    "duration": 17,
    "start_time": "2024-01-11T06:42:09.076Z"
   },
   {
    "duration": 188,
    "start_time": "2024-01-11T06:42:09.095Z"
   },
   {
    "duration": 4,
    "start_time": "2024-01-11T06:42:09.285Z"
   },
   {
    "duration": 223,
    "start_time": "2024-01-11T06:42:09.290Z"
   },
   {
    "duration": 133,
    "start_time": "2024-01-11T06:42:09.515Z"
   },
   {
    "duration": 7,
    "start_time": "2024-01-11T06:42:09.649Z"
   },
   {
    "duration": 26,
    "start_time": "2024-01-11T06:42:09.672Z"
   },
   {
    "duration": 5,
    "start_time": "2024-01-11T06:42:09.700Z"
   },
   {
    "duration": 18,
    "start_time": "2024-01-11T06:42:09.706Z"
   },
   {
    "duration": 9,
    "start_time": "2024-01-11T06:42:09.726Z"
   },
   {
    "duration": 20,
    "start_time": "2024-01-11T06:42:09.737Z"
   },
   {
    "duration": 21,
    "start_time": "2024-01-11T06:42:09.758Z"
   },
   {
    "duration": 44,
    "start_time": "2024-01-11T06:42:09.781Z"
   },
   {
    "duration": 5,
    "start_time": "2024-01-11T06:42:09.827Z"
   },
   {
    "duration": 42,
    "start_time": "2024-01-11T06:42:09.834Z"
   },
   {
    "duration": 26,
    "start_time": "2024-01-11T06:42:09.878Z"
   },
   {
    "duration": 4,
    "start_time": "2024-01-11T06:42:09.909Z"
   },
   {
    "duration": 21,
    "start_time": "2024-01-11T06:42:09.914Z"
   },
   {
    "duration": 15,
    "start_time": "2024-01-11T06:42:09.937Z"
   },
   {
    "duration": 28,
    "start_time": "2024-01-11T06:42:09.954Z"
   },
   {
    "duration": 14,
    "start_time": "2024-01-11T06:42:09.984Z"
   },
   {
    "duration": 18,
    "start_time": "2024-01-11T06:42:10.000Z"
   }
  ],
  "kernelspec": {
   "display_name": "Python 3 (ipykernel)",
   "language": "python",
   "name": "python3"
  },
  "language_info": {
   "codemirror_mode": {
    "name": "ipython",
    "version": 3
   },
   "file_extension": ".py",
   "mimetype": "text/x-python",
   "name": "python",
   "nbconvert_exporter": "python",
   "pygments_lexer": "ipython3",
   "version": "3.9.5"
  },
  "toc": {
   "base_numbering": 1,
   "nav_menu": {},
   "number_sections": true,
   "sideBar": true,
   "skip_h1_title": true,
   "title_cell": "Table of Contents",
   "title_sidebar": "Contents",
   "toc_cell": false,
   "toc_position": {},
   "toc_section_display": true,
   "toc_window_display": true
  }
 },
 "nbformat": 4,
 "nbformat_minor": 4
}
