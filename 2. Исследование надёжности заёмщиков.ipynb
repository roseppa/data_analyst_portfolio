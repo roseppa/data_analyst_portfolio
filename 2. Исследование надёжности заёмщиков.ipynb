{
 "cells": [
  {
   "cell_type": "markdown",
   "id": "386f2ae7",
   "metadata": {
    "deletable": false,
    "editable": false,
    "id": "386f2ae7"
   },
   "source": [
    "# Исследование надежности заемщиков\n"
   ]
  },
  {
   "cell_type": "markdown",
   "id": "ffe86f65",
   "metadata": {
    "deletable": false,
    "editable": false,
    "id": "ffe86f65"
   },
   "source": [
    "Во второй части проекта вы выполните шаги 3 и 4. Их вручную проверит ревьюер.\n",
    "Чтобы вам не пришлось писать код заново для шагов 1 и 2, мы добавили авторские решения в ячейки с кодом. \n",
    "\n"
   ]
  },
  {
   "cell_type": "markdown",
   "id": "26613308",
   "metadata": {
    "deletable": false,
    "editable": false,
    "id": "26613308"
   },
   "source": [
    "## Откройте таблицу и изучите общую информацию о данных"
   ]
  },
  {
   "cell_type": "markdown",
   "id": "3c9f838e",
   "metadata": {
    "deletable": false,
    "editable": false,
    "id": "3c9f838e"
   },
   "source": [
    "**Задание 1. Импортируйте библиотеку pandas. Считайте данные из csv-файла в датафрейм и сохраните в переменную `data`. Путь к файлу:**\n",
    "\n",
    "`/datasets/data.csv`"
   ]
  },
  {
   "cell_type": "code",
   "execution_count": 1,
   "id": "77a68a90",
   "metadata": {
    "deletable": false,
    "id": "77a68a90"
   },
   "outputs": [],
   "source": [
    "import pandas as pd\n",
    "\n",
    "try:\n",
    "    data = pd.read_csv('/datasets/data.csv')\n",
    "except:\n",
    "    data = pd.read_csv('https://code.s3.yandex.net/datasets/data.csv')"
   ]
  },
  {
   "cell_type": "markdown",
   "id": "45365635",
   "metadata": {
    "deletable": false,
    "editable": false,
    "id": "45365635"
   },
   "source": [
    "**Задание 2. Выведите первые 20 строчек датафрейма `data` на экран.**"
   ]
  },
  {
   "cell_type": "code",
   "execution_count": 2,
   "id": "b0451a9a",
   "metadata": {
    "deletable": false,
    "id": "b0451a9a",
    "outputId": "1a8f3ef2-d323-4ec2-ddf7-89670b5944c4"
   },
   "outputs": [
    {
     "data": {
      "text/html": [
       "<div>\n",
       "<style scoped>\n",
       "    .dataframe tbody tr th:only-of-type {\n",
       "        vertical-align: middle;\n",
       "    }\n",
       "\n",
       "    .dataframe tbody tr th {\n",
       "        vertical-align: top;\n",
       "    }\n",
       "\n",
       "    .dataframe thead th {\n",
       "        text-align: right;\n",
       "    }\n",
       "</style>\n",
       "<table border=\"1\" class=\"dataframe\">\n",
       "  <thead>\n",
       "    <tr style=\"text-align: right;\">\n",
       "      <th></th>\n",
       "      <th>children</th>\n",
       "      <th>days_employed</th>\n",
       "      <th>dob_years</th>\n",
       "      <th>education</th>\n",
       "      <th>education_id</th>\n",
       "      <th>family_status</th>\n",
       "      <th>family_status_id</th>\n",
       "      <th>gender</th>\n",
       "      <th>income_type</th>\n",
       "      <th>debt</th>\n",
       "      <th>total_income</th>\n",
       "      <th>purpose</th>\n",
       "    </tr>\n",
       "  </thead>\n",
       "  <tbody>\n",
       "    <tr>\n",
       "      <th>0</th>\n",
       "      <td>1</td>\n",
       "      <td>-8437.673028</td>\n",
       "      <td>42</td>\n",
       "      <td>высшее</td>\n",
       "      <td>0</td>\n",
       "      <td>женат / замужем</td>\n",
       "      <td>0</td>\n",
       "      <td>F</td>\n",
       "      <td>сотрудник</td>\n",
       "      <td>0</td>\n",
       "      <td>253875.639453</td>\n",
       "      <td>покупка жилья</td>\n",
       "    </tr>\n",
       "    <tr>\n",
       "      <th>1</th>\n",
       "      <td>1</td>\n",
       "      <td>-4024.803754</td>\n",
       "      <td>36</td>\n",
       "      <td>среднее</td>\n",
       "      <td>1</td>\n",
       "      <td>женат / замужем</td>\n",
       "      <td>0</td>\n",
       "      <td>F</td>\n",
       "      <td>сотрудник</td>\n",
       "      <td>0</td>\n",
       "      <td>112080.014102</td>\n",
       "      <td>приобретение автомобиля</td>\n",
       "    </tr>\n",
       "    <tr>\n",
       "      <th>2</th>\n",
       "      <td>0</td>\n",
       "      <td>-5623.422610</td>\n",
       "      <td>33</td>\n",
       "      <td>Среднее</td>\n",
       "      <td>1</td>\n",
       "      <td>женат / замужем</td>\n",
       "      <td>0</td>\n",
       "      <td>M</td>\n",
       "      <td>сотрудник</td>\n",
       "      <td>0</td>\n",
       "      <td>145885.952297</td>\n",
       "      <td>покупка жилья</td>\n",
       "    </tr>\n",
       "    <tr>\n",
       "      <th>3</th>\n",
       "      <td>3</td>\n",
       "      <td>-4124.747207</td>\n",
       "      <td>32</td>\n",
       "      <td>среднее</td>\n",
       "      <td>1</td>\n",
       "      <td>женат / замужем</td>\n",
       "      <td>0</td>\n",
       "      <td>M</td>\n",
       "      <td>сотрудник</td>\n",
       "      <td>0</td>\n",
       "      <td>267628.550329</td>\n",
       "      <td>дополнительное образование</td>\n",
       "    </tr>\n",
       "    <tr>\n",
       "      <th>4</th>\n",
       "      <td>0</td>\n",
       "      <td>340266.072047</td>\n",
       "      <td>53</td>\n",
       "      <td>среднее</td>\n",
       "      <td>1</td>\n",
       "      <td>гражданский брак</td>\n",
       "      <td>1</td>\n",
       "      <td>F</td>\n",
       "      <td>пенсионер</td>\n",
       "      <td>0</td>\n",
       "      <td>158616.077870</td>\n",
       "      <td>сыграть свадьбу</td>\n",
       "    </tr>\n",
       "    <tr>\n",
       "      <th>5</th>\n",
       "      <td>0</td>\n",
       "      <td>-926.185831</td>\n",
       "      <td>27</td>\n",
       "      <td>высшее</td>\n",
       "      <td>0</td>\n",
       "      <td>гражданский брак</td>\n",
       "      <td>1</td>\n",
       "      <td>M</td>\n",
       "      <td>компаньон</td>\n",
       "      <td>0</td>\n",
       "      <td>255763.565419</td>\n",
       "      <td>покупка жилья</td>\n",
       "    </tr>\n",
       "    <tr>\n",
       "      <th>6</th>\n",
       "      <td>0</td>\n",
       "      <td>-2879.202052</td>\n",
       "      <td>43</td>\n",
       "      <td>высшее</td>\n",
       "      <td>0</td>\n",
       "      <td>женат / замужем</td>\n",
       "      <td>0</td>\n",
       "      <td>F</td>\n",
       "      <td>компаньон</td>\n",
       "      <td>0</td>\n",
       "      <td>240525.971920</td>\n",
       "      <td>операции с жильем</td>\n",
       "    </tr>\n",
       "    <tr>\n",
       "      <th>7</th>\n",
       "      <td>0</td>\n",
       "      <td>-152.779569</td>\n",
       "      <td>50</td>\n",
       "      <td>СРЕДНЕЕ</td>\n",
       "      <td>1</td>\n",
       "      <td>женат / замужем</td>\n",
       "      <td>0</td>\n",
       "      <td>M</td>\n",
       "      <td>сотрудник</td>\n",
       "      <td>0</td>\n",
       "      <td>135823.934197</td>\n",
       "      <td>образование</td>\n",
       "    </tr>\n",
       "    <tr>\n",
       "      <th>8</th>\n",
       "      <td>2</td>\n",
       "      <td>-6929.865299</td>\n",
       "      <td>35</td>\n",
       "      <td>ВЫСШЕЕ</td>\n",
       "      <td>0</td>\n",
       "      <td>гражданский брак</td>\n",
       "      <td>1</td>\n",
       "      <td>F</td>\n",
       "      <td>сотрудник</td>\n",
       "      <td>0</td>\n",
       "      <td>95856.832424</td>\n",
       "      <td>на проведение свадьбы</td>\n",
       "    </tr>\n",
       "    <tr>\n",
       "      <th>9</th>\n",
       "      <td>0</td>\n",
       "      <td>-2188.756445</td>\n",
       "      <td>41</td>\n",
       "      <td>среднее</td>\n",
       "      <td>1</td>\n",
       "      <td>женат / замужем</td>\n",
       "      <td>0</td>\n",
       "      <td>M</td>\n",
       "      <td>сотрудник</td>\n",
       "      <td>0</td>\n",
       "      <td>144425.938277</td>\n",
       "      <td>покупка жилья для семьи</td>\n",
       "    </tr>\n",
       "    <tr>\n",
       "      <th>10</th>\n",
       "      <td>2</td>\n",
       "      <td>-4171.483647</td>\n",
       "      <td>36</td>\n",
       "      <td>высшее</td>\n",
       "      <td>0</td>\n",
       "      <td>женат / замужем</td>\n",
       "      <td>0</td>\n",
       "      <td>M</td>\n",
       "      <td>компаньон</td>\n",
       "      <td>0</td>\n",
       "      <td>113943.491460</td>\n",
       "      <td>покупка недвижимости</td>\n",
       "    </tr>\n",
       "    <tr>\n",
       "      <th>11</th>\n",
       "      <td>0</td>\n",
       "      <td>-792.701887</td>\n",
       "      <td>40</td>\n",
       "      <td>среднее</td>\n",
       "      <td>1</td>\n",
       "      <td>женат / замужем</td>\n",
       "      <td>0</td>\n",
       "      <td>F</td>\n",
       "      <td>сотрудник</td>\n",
       "      <td>0</td>\n",
       "      <td>77069.234271</td>\n",
       "      <td>покупка коммерческой недвижимости</td>\n",
       "    </tr>\n",
       "    <tr>\n",
       "      <th>12</th>\n",
       "      <td>0</td>\n",
       "      <td>NaN</td>\n",
       "      <td>65</td>\n",
       "      <td>среднее</td>\n",
       "      <td>1</td>\n",
       "      <td>гражданский брак</td>\n",
       "      <td>1</td>\n",
       "      <td>M</td>\n",
       "      <td>пенсионер</td>\n",
       "      <td>0</td>\n",
       "      <td>NaN</td>\n",
       "      <td>сыграть свадьбу</td>\n",
       "    </tr>\n",
       "    <tr>\n",
       "      <th>13</th>\n",
       "      <td>0</td>\n",
       "      <td>-1846.641941</td>\n",
       "      <td>54</td>\n",
       "      <td>неоконченное высшее</td>\n",
       "      <td>2</td>\n",
       "      <td>женат / замужем</td>\n",
       "      <td>0</td>\n",
       "      <td>F</td>\n",
       "      <td>сотрудник</td>\n",
       "      <td>0</td>\n",
       "      <td>130458.228857</td>\n",
       "      <td>приобретение автомобиля</td>\n",
       "    </tr>\n",
       "    <tr>\n",
       "      <th>14</th>\n",
       "      <td>0</td>\n",
       "      <td>-1844.956182</td>\n",
       "      <td>56</td>\n",
       "      <td>высшее</td>\n",
       "      <td>0</td>\n",
       "      <td>гражданский брак</td>\n",
       "      <td>1</td>\n",
       "      <td>F</td>\n",
       "      <td>компаньон</td>\n",
       "      <td>1</td>\n",
       "      <td>165127.911772</td>\n",
       "      <td>покупка жилой недвижимости</td>\n",
       "    </tr>\n",
       "    <tr>\n",
       "      <th>15</th>\n",
       "      <td>1</td>\n",
       "      <td>-972.364419</td>\n",
       "      <td>26</td>\n",
       "      <td>среднее</td>\n",
       "      <td>1</td>\n",
       "      <td>женат / замужем</td>\n",
       "      <td>0</td>\n",
       "      <td>F</td>\n",
       "      <td>сотрудник</td>\n",
       "      <td>0</td>\n",
       "      <td>116820.904450</td>\n",
       "      <td>строительство собственной недвижимости</td>\n",
       "    </tr>\n",
       "    <tr>\n",
       "      <th>16</th>\n",
       "      <td>0</td>\n",
       "      <td>-1719.934226</td>\n",
       "      <td>35</td>\n",
       "      <td>среднее</td>\n",
       "      <td>1</td>\n",
       "      <td>женат / замужем</td>\n",
       "      <td>0</td>\n",
       "      <td>F</td>\n",
       "      <td>сотрудник</td>\n",
       "      <td>0</td>\n",
       "      <td>289202.704229</td>\n",
       "      <td>недвижимость</td>\n",
       "    </tr>\n",
       "    <tr>\n",
       "      <th>17</th>\n",
       "      <td>0</td>\n",
       "      <td>-2369.999720</td>\n",
       "      <td>33</td>\n",
       "      <td>высшее</td>\n",
       "      <td>0</td>\n",
       "      <td>гражданский брак</td>\n",
       "      <td>1</td>\n",
       "      <td>M</td>\n",
       "      <td>сотрудник</td>\n",
       "      <td>0</td>\n",
       "      <td>90410.586745</td>\n",
       "      <td>строительство недвижимости</td>\n",
       "    </tr>\n",
       "    <tr>\n",
       "      <th>18</th>\n",
       "      <td>0</td>\n",
       "      <td>400281.136913</td>\n",
       "      <td>53</td>\n",
       "      <td>среднее</td>\n",
       "      <td>1</td>\n",
       "      <td>вдовец / вдова</td>\n",
       "      <td>2</td>\n",
       "      <td>F</td>\n",
       "      <td>пенсионер</td>\n",
       "      <td>0</td>\n",
       "      <td>56823.777243</td>\n",
       "      <td>на покупку подержанного автомобиля</td>\n",
       "    </tr>\n",
       "    <tr>\n",
       "      <th>19</th>\n",
       "      <td>0</td>\n",
       "      <td>-10038.818549</td>\n",
       "      <td>48</td>\n",
       "      <td>СРЕДНЕЕ</td>\n",
       "      <td>1</td>\n",
       "      <td>в разводе</td>\n",
       "      <td>3</td>\n",
       "      <td>F</td>\n",
       "      <td>сотрудник</td>\n",
       "      <td>0</td>\n",
       "      <td>242831.107982</td>\n",
       "      <td>на покупку своего автомобиля</td>\n",
       "    </tr>\n",
       "  </tbody>\n",
       "</table>\n",
       "</div>"
      ],
      "text/plain": [
       "    children  days_employed  dob_years            education  education_id  \\\n",
       "0          1   -8437.673028         42               высшее             0   \n",
       "1          1   -4024.803754         36              среднее             1   \n",
       "2          0   -5623.422610         33              Среднее             1   \n",
       "3          3   -4124.747207         32              среднее             1   \n",
       "4          0  340266.072047         53              среднее             1   \n",
       "5          0    -926.185831         27               высшее             0   \n",
       "6          0   -2879.202052         43               высшее             0   \n",
       "7          0    -152.779569         50              СРЕДНЕЕ             1   \n",
       "8          2   -6929.865299         35               ВЫСШЕЕ             0   \n",
       "9          0   -2188.756445         41              среднее             1   \n",
       "10         2   -4171.483647         36               высшее             0   \n",
       "11         0    -792.701887         40              среднее             1   \n",
       "12         0            NaN         65              среднее             1   \n",
       "13         0   -1846.641941         54  неоконченное высшее             2   \n",
       "14         0   -1844.956182         56               высшее             0   \n",
       "15         1    -972.364419         26              среднее             1   \n",
       "16         0   -1719.934226         35              среднее             1   \n",
       "17         0   -2369.999720         33               высшее             0   \n",
       "18         0  400281.136913         53              среднее             1   \n",
       "19         0  -10038.818549         48              СРЕДНЕЕ             1   \n",
       "\n",
       "       family_status  family_status_id gender income_type  debt  \\\n",
       "0    женат / замужем                 0      F   сотрудник     0   \n",
       "1    женат / замужем                 0      F   сотрудник     0   \n",
       "2    женат / замужем                 0      M   сотрудник     0   \n",
       "3    женат / замужем                 0      M   сотрудник     0   \n",
       "4   гражданский брак                 1      F   пенсионер     0   \n",
       "5   гражданский брак                 1      M   компаньон     0   \n",
       "6    женат / замужем                 0      F   компаньон     0   \n",
       "7    женат / замужем                 0      M   сотрудник     0   \n",
       "8   гражданский брак                 1      F   сотрудник     0   \n",
       "9    женат / замужем                 0      M   сотрудник     0   \n",
       "10   женат / замужем                 0      M   компаньон     0   \n",
       "11   женат / замужем                 0      F   сотрудник     0   \n",
       "12  гражданский брак                 1      M   пенсионер     0   \n",
       "13   женат / замужем                 0      F   сотрудник     0   \n",
       "14  гражданский брак                 1      F   компаньон     1   \n",
       "15   женат / замужем                 0      F   сотрудник     0   \n",
       "16   женат / замужем                 0      F   сотрудник     0   \n",
       "17  гражданский брак                 1      M   сотрудник     0   \n",
       "18    вдовец / вдова                 2      F   пенсионер     0   \n",
       "19         в разводе                 3      F   сотрудник     0   \n",
       "\n",
       "     total_income                                 purpose  \n",
       "0   253875.639453                           покупка жилья  \n",
       "1   112080.014102                 приобретение автомобиля  \n",
       "2   145885.952297                           покупка жилья  \n",
       "3   267628.550329              дополнительное образование  \n",
       "4   158616.077870                         сыграть свадьбу  \n",
       "5   255763.565419                           покупка жилья  \n",
       "6   240525.971920                       операции с жильем  \n",
       "7   135823.934197                             образование  \n",
       "8    95856.832424                   на проведение свадьбы  \n",
       "9   144425.938277                 покупка жилья для семьи  \n",
       "10  113943.491460                    покупка недвижимости  \n",
       "11   77069.234271       покупка коммерческой недвижимости  \n",
       "12            NaN                         сыграть свадьбу  \n",
       "13  130458.228857                 приобретение автомобиля  \n",
       "14  165127.911772              покупка жилой недвижимости  \n",
       "15  116820.904450  строительство собственной недвижимости  \n",
       "16  289202.704229                            недвижимость  \n",
       "17   90410.586745              строительство недвижимости  \n",
       "18   56823.777243      на покупку подержанного автомобиля  \n",
       "19  242831.107982            на покупку своего автомобиля  "
      ]
     },
     "execution_count": 2,
     "metadata": {},
     "output_type": "execute_result"
    }
   ],
   "source": [
    "data.head(20)"
   ]
  },
  {
   "cell_type": "markdown",
   "id": "0ed8f27f",
   "metadata": {
    "deletable": false,
    "editable": false,
    "id": "0ed8f27f"
   },
   "source": [
    "**Задание 3. Выведите основную информацию о датафрейме с помощью метода `info()`.**"
   ]
  },
  {
   "cell_type": "code",
   "execution_count": 3,
   "id": "ab3f863b",
   "metadata": {
    "deletable": false,
    "id": "ab3f863b",
    "outputId": "15376089-8dad-46c9-b520-c05248d43158"
   },
   "outputs": [
    {
     "name": "stdout",
     "output_type": "stream",
     "text": [
      "<class 'pandas.core.frame.DataFrame'>\n",
      "RangeIndex: 21525 entries, 0 to 21524\n",
      "Data columns (total 12 columns):\n",
      " #   Column            Non-Null Count  Dtype  \n",
      "---  ------            --------------  -----  \n",
      " 0   children          21525 non-null  int64  \n",
      " 1   days_employed     19351 non-null  float64\n",
      " 2   dob_years         21525 non-null  int64  \n",
      " 3   education         21525 non-null  object \n",
      " 4   education_id      21525 non-null  int64  \n",
      " 5   family_status     21525 non-null  object \n",
      " 6   family_status_id  21525 non-null  int64  \n",
      " 7   gender            21525 non-null  object \n",
      " 8   income_type       21525 non-null  object \n",
      " 9   debt              21525 non-null  int64  \n",
      " 10  total_income      19351 non-null  float64\n",
      " 11  purpose           21525 non-null  object \n",
      "dtypes: float64(2), int64(5), object(5)\n",
      "memory usage: 2.0+ MB\n"
     ]
    }
   ],
   "source": [
    "data.info()"
   ]
  },
  {
   "cell_type": "markdown",
   "id": "60e3e22d",
   "metadata": {
    "deletable": false,
    "editable": false,
    "id": "60e3e22d"
   },
   "source": [
    "## Предобработка данных"
   ]
  },
  {
   "cell_type": "markdown",
   "id": "03dc170c",
   "metadata": {
    "deletable": false,
    "editable": false,
    "id": "03dc170c"
   },
   "source": [
    "### Удаление пропусков"
   ]
  },
  {
   "cell_type": "markdown",
   "id": "a4f54eef",
   "metadata": {
    "deletable": false,
    "editable": false,
    "id": "a4f54eef"
   },
   "source": [
    "**Задание 4. Выведите количество пропущенных значений для каждого столбца. Используйте комбинацию двух методов.**"
   ]
  },
  {
   "cell_type": "code",
   "execution_count": 4,
   "id": "2dc372b2",
   "metadata": {
    "deletable": false,
    "id": "2dc372b2",
    "outputId": "81f4d817-781c-465c-ed15-91ce4446810d"
   },
   "outputs": [
    {
     "data": {
      "text/plain": [
       "children               0\n",
       "days_employed       2174\n",
       "dob_years              0\n",
       "education              0\n",
       "education_id           0\n",
       "family_status          0\n",
       "family_status_id       0\n",
       "gender                 0\n",
       "income_type            0\n",
       "debt                   0\n",
       "total_income        2174\n",
       "purpose                0\n",
       "dtype: int64"
      ]
     },
     "execution_count": 4,
     "metadata": {},
     "output_type": "execute_result"
    }
   ],
   "source": [
    "data.isna().sum()"
   ]
  },
  {
   "cell_type": "markdown",
   "id": "14f011b1",
   "metadata": {
    "deletable": false,
    "editable": false,
    "id": "14f011b1"
   },
   "source": [
    "**Задание 5. В двух столбцах есть пропущенные значения. Один из них — `days_employed`. Пропуски в этом столбце вы обработаете на следующем этапе. Другой столбец с пропущенными значениями — `total_income` — хранит данные о доходах. На сумму дохода сильнее всего влияет тип занятости, поэтому заполнить пропуски в этом столбце нужно медианным значением по каждому типу из столбца `income_type`. Например, у человека с типом занятости `сотрудник` пропуск в столбце `total_income` должен быть заполнен медианным доходом среди всех записей с тем же типом.**"
   ]
  },
  {
   "cell_type": "code",
   "execution_count": 5,
   "id": "bdabfb6e",
   "metadata": {
    "deletable": false,
    "id": "bdabfb6e"
   },
   "outputs": [],
   "source": [
    "for t in data['income_type'].unique():\n",
    "    data.loc[(data['income_type'] == t) & (data['total_income'].isna()), 'total_income'] = \\\n",
    "    data.loc[(data['income_type'] == t), 'total_income'].median()"
   ]
  },
  {
   "cell_type": "markdown",
   "id": "5be34059",
   "metadata": {
    "deletable": false,
    "editable": false,
    "id": "5be34059"
   },
   "source": [
    "### Обработка аномальных значений"
   ]
  },
  {
   "cell_type": "markdown",
   "id": "a87606cb",
   "metadata": {
    "deletable": false,
    "editable": false,
    "id": "a87606cb"
   },
   "source": [
    "**Задание 6. В данных могут встречаться артефакты (аномалии) — значения, которые не отражают действительность и появились по какой-то ошибке. таким артефактом будет отрицательное количество дней трудового стажа в столбце `days_employed`. Для реальных данных это нормально. Обработайте значения в этом столбце: замените все отрицательные значения положительными с помощью метода `abs()`.**"
   ]
  },
  {
   "cell_type": "code",
   "execution_count": 6,
   "id": "020c46cc",
   "metadata": {
    "deletable": false,
    "id": "020c46cc"
   },
   "outputs": [],
   "source": [
    "data['days_employed'] = data['days_employed'].abs()"
   ]
  },
  {
   "cell_type": "markdown",
   "id": "45538a3a",
   "metadata": {
    "deletable": false,
    "editable": false,
    "id": "45538a3a"
   },
   "source": [
    "**Задание 7. Для каждого типа занятости выведите медианное значение трудового стажа `days_employed` в днях.**"
   ]
  },
  {
   "cell_type": "code",
   "execution_count": 7,
   "id": "cd3e6328",
   "metadata": {
    "deletable": false,
    "id": "cd3e6328",
    "outputId": "801ef80e-522b-4668-f34e-565af7432bcf"
   },
   "outputs": [
    {
     "data": {
      "text/plain": [
       "income_type\n",
       "безработный        366413.652744\n",
       "в декрете            3296.759962\n",
       "госслужащий          2689.368353\n",
       "компаньон            1547.382223\n",
       "пенсионер          365213.306266\n",
       "предприниматель       520.848083\n",
       "сотрудник            1574.202821\n",
       "студент               578.751554\n",
       "Name: days_employed, dtype: float64"
      ]
     },
     "execution_count": 7,
     "metadata": {},
     "output_type": "execute_result"
    }
   ],
   "source": [
    "data.groupby('income_type')['days_employed'].agg('median')"
   ]
  },
  {
   "cell_type": "markdown",
   "id": "90c5f058",
   "metadata": {
    "deletable": false,
    "editable": false,
    "id": "90c5f058"
   },
   "source": [
    "У двух типов (безработные и пенсионеры) получатся аномально большие значения. Исправить такие значения сложно, поэтому оставьте их как есть."
   ]
  },
  {
   "cell_type": "markdown",
   "id": "9652e50d",
   "metadata": {
    "deletable": false,
    "editable": false,
    "id": "9652e50d"
   },
   "source": [
    "**Задание 8. Выведите перечень уникальных значений столбца `children`.**"
   ]
  },
  {
   "cell_type": "code",
   "execution_count": 8,
   "id": "dbb37b8e",
   "metadata": {
    "deletable": false,
    "id": "dbb37b8e",
    "outputId": "6975b15c-7f95-4697-d16d-a0c79b657b03"
   },
   "outputs": [
    {
     "data": {
      "text/plain": [
       "array([ 1,  0,  3,  2, -1,  4, 20,  5], dtype=int64)"
      ]
     },
     "execution_count": 8,
     "metadata": {},
     "output_type": "execute_result"
    }
   ],
   "source": [
    "data['children'].unique()"
   ]
  },
  {
   "cell_type": "markdown",
   "id": "2b8b0715",
   "metadata": {
    "deletable": false,
    "editable": false,
    "id": "2b8b0715"
   },
   "source": [
    "**Задание 9. В столбце `children` есть два аномальных значения. Удалите строки, в которых встречаются такие аномальные значения из датафрейма `data`.**"
   ]
  },
  {
   "cell_type": "code",
   "execution_count": 9,
   "id": "20009df8",
   "metadata": {
    "deletable": false,
    "id": "20009df8"
   },
   "outputs": [],
   "source": [
    "data = data[(data['children'] != -1) & (data['children'] != 20)]"
   ]
  },
  {
   "cell_type": "markdown",
   "id": "8c6ac9f1",
   "metadata": {
    "deletable": false,
    "editable": false,
    "id": "8c6ac9f1"
   },
   "source": [
    "**Задание 10. Ещё раз выведите перечень уникальных значений столбца `children`, чтобы убедиться, что артефакты удалены.**"
   ]
  },
  {
   "cell_type": "code",
   "execution_count": 10,
   "id": "07337b81",
   "metadata": {
    "deletable": false,
    "id": "07337b81",
    "outputId": "b2097101-d49d-44d9-901b-32a65c9463d1"
   },
   "outputs": [
    {
     "data": {
      "text/plain": [
       "array([1, 0, 3, 2, 4, 5], dtype=int64)"
      ]
     },
     "execution_count": 10,
     "metadata": {},
     "output_type": "execute_result"
    }
   ],
   "source": [
    "data['children'].unique()"
   ]
  },
  {
   "cell_type": "markdown",
   "id": "ee3f52d4",
   "metadata": {
    "deletable": false,
    "editable": false,
    "id": "ee3f52d4"
   },
   "source": [
    "### Удаление пропусков (продолжение)"
   ]
  },
  {
   "cell_type": "markdown",
   "id": "a700b0e4",
   "metadata": {
    "deletable": false,
    "editable": false,
    "id": "a700b0e4"
   },
   "source": [
    "**Задание 11. Заполните пропуски в столбце `days_employed` медианными значениями по каждого типа занятости `income_type`.**"
   ]
  },
  {
   "cell_type": "code",
   "execution_count": 11,
   "id": "61946b83",
   "metadata": {
    "deletable": false,
    "id": "61946b83"
   },
   "outputs": [],
   "source": [
    "for t in data['income_type'].unique():\n",
    "    data.loc[(data['income_type'] == t) & (data['days_employed'].isna()), 'days_employed'] = \\\n",
    "    data.loc[(data['income_type'] == t), 'days_employed'].median()"
   ]
  },
  {
   "cell_type": "markdown",
   "id": "550dcd9b",
   "metadata": {
    "deletable": false,
    "editable": false,
    "id": "550dcd9b"
   },
   "source": [
    "**Задание 12. Убедитесь, что все пропуски заполнены. Проверьте себя и ещё раз выведите количество пропущенных значений для каждого столбца с помощью двух методов.**"
   ]
  },
  {
   "cell_type": "code",
   "execution_count": 12,
   "id": "937c7014",
   "metadata": {
    "deletable": false,
    "id": "937c7014",
    "outputId": "8da1e4e1-358e-4e87-98c9-f261bce0a7b2"
   },
   "outputs": [
    {
     "data": {
      "text/plain": [
       "children            0\n",
       "days_employed       0\n",
       "dob_years           0\n",
       "education           0\n",
       "education_id        0\n",
       "family_status       0\n",
       "family_status_id    0\n",
       "gender              0\n",
       "income_type         0\n",
       "debt                0\n",
       "total_income        0\n",
       "purpose             0\n",
       "dtype: int64"
      ]
     },
     "execution_count": 12,
     "metadata": {},
     "output_type": "execute_result"
    }
   ],
   "source": [
    "data.isna().sum()"
   ]
  },
  {
   "cell_type": "markdown",
   "id": "d522e295",
   "metadata": {
    "deletable": false,
    "editable": false,
    "id": "d522e295"
   },
   "source": [
    "### Изменение типов данных"
   ]
  },
  {
   "cell_type": "markdown",
   "id": "c229c581",
   "metadata": {
    "deletable": false,
    "editable": false,
    "id": "c229c581"
   },
   "source": [
    "**Задание 13. Замените вещественный тип данных в столбце `total_income` на целочисленный с помощью метода `astype()`.**"
   ]
  },
  {
   "cell_type": "code",
   "execution_count": 13,
   "id": "31036462",
   "metadata": {
    "deletable": false,
    "id": "31036462"
   },
   "outputs": [],
   "source": [
    "data['total_income'] = data['total_income'].astype(int)"
   ]
  },
  {
   "cell_type": "markdown",
   "id": "b8e3d1d9",
   "metadata": {
    "deletable": false,
    "editable": false,
    "id": "b8e3d1d9"
   },
   "source": [
    "### Обработка дубликатов"
   ]
  },
  {
   "cell_type": "markdown",
   "id": "9be53c49",
   "metadata": {
    "deletable": false,
    "editable": false,
    "id": "9be53c49"
   },
   "source": [
    "**Задание 14. Обработайте неявные дубликаты в столбце `education`. В этом столбце есть одни и те же значения, но записанные по-разному: с использованием заглавных и строчных букв. Приведите их к нижнему регистру.**"
   ]
  },
  {
   "cell_type": "code",
   "execution_count": 14,
   "id": "d89e73e1",
   "metadata": {
    "deletable": false,
    "id": "d89e73e1"
   },
   "outputs": [],
   "source": [
    "data['education'] = data['education'].str.lower()"
   ]
  },
  {
   "cell_type": "markdown",
   "id": "01d4500e",
   "metadata": {
    "deletable": false,
    "editable": false,
    "id": "01d4500e"
   },
   "source": [
    "**Задание 15. Выведите на экран количество строк-дубликатов в данных. Если такие строки присутствуют, удалите их.**"
   ]
  },
  {
   "cell_type": "code",
   "execution_count": 15,
   "id": "e10efb23",
   "metadata": {
    "deletable": false,
    "id": "e10efb23",
    "outputId": "9684deba-1934-42d1-99e1-cda61740f822"
   },
   "outputs": [
    {
     "data": {
      "text/plain": [
       "71"
      ]
     },
     "execution_count": 15,
     "metadata": {},
     "output_type": "execute_result"
    }
   ],
   "source": [
    "data.duplicated().sum()"
   ]
  },
  {
   "cell_type": "code",
   "execution_count": 16,
   "id": "df853f20",
   "metadata": {
    "deletable": false,
    "id": "df853f20"
   },
   "outputs": [],
   "source": [
    "data = data.drop_duplicates()"
   ]
  },
  {
   "cell_type": "markdown",
   "id": "627be38f",
   "metadata": {
    "deletable": false,
    "editable": false,
    "id": "627be38f"
   },
   "source": [
    "### Категоризация данных"
   ]
  },
  {
   "cell_type": "markdown",
   "id": "4684c3e0",
   "metadata": {
    "deletable": false,
    "editable": false,
    "id": "4684c3e0"
   },
   "source": [
    "**Задание 16. На основании диапазонов, указанных ниже, создайте в датафрейме `data` столбец `total_income_category` с категориями:**\n",
    "\n",
    "- 0–30000 — `'E'`;\n",
    "- 30001–50000 — `'D'`;\n",
    "- 50001–200000 — `'C'`;\n",
    "- 200001–1000000 — `'B'`;\n",
    "- 1000001 и выше — `'A'`.\n",
    "\n",
    "\n",
    "**Например, кредитополучателю с доходом 25000 нужно назначить категорию `'E'`, а клиенту, получающему 235000, — `'B'`. Используйте собственную функцию с именем `categorize_income()` и метод `apply()`.**"
   ]
  },
  {
   "cell_type": "code",
   "execution_count": 17,
   "id": "78965238",
   "metadata": {
    "deletable": false,
    "id": "78965238"
   },
   "outputs": [],
   "source": [
    "def categorize_income(income):\n",
    "    try:\n",
    "        if 0 <= income <= 30000:\n",
    "            return 'E'\n",
    "        elif 30001 <= income <= 50000:\n",
    "            return 'D'\n",
    "        elif 50001 <= income <= 200000:\n",
    "            return 'C'\n",
    "        elif 200001 <= income <= 1000000:\n",
    "            return 'B'\n",
    "        elif income >= 1000001:\n",
    "            return 'A'\n",
    "    except:\n",
    "        pass"
   ]
  },
  {
   "cell_type": "code",
   "execution_count": 18,
   "id": "0980ada1",
   "metadata": {
    "deletable": false,
    "id": "0980ada1"
   },
   "outputs": [],
   "source": [
    "data['total_income_category'] = data['total_income'].apply(categorize_income)"
   ]
  },
  {
   "cell_type": "markdown",
   "id": "9917bba0",
   "metadata": {
    "deletable": false,
    "editable": false,
    "id": "9917bba0"
   },
   "source": [
    "**Задание 17. Выведите на экран перечень уникальных целей взятия кредита из столбца `purpose`.**"
   ]
  },
  {
   "cell_type": "code",
   "execution_count": 19,
   "id": "ee07b65e",
   "metadata": {
    "deletable": false,
    "id": "ee07b65e",
    "outputId": "673c12d9-7d7e-4ae0-9812-c622c89dd244"
   },
   "outputs": [
    {
     "data": {
      "text/plain": [
       "array(['покупка жилья', 'приобретение автомобиля',\n",
       "       'дополнительное образование', 'сыграть свадьбу',\n",
       "       'операции с жильем', 'образование', 'на проведение свадьбы',\n",
       "       'покупка жилья для семьи', 'покупка недвижимости',\n",
       "       'покупка коммерческой недвижимости', 'покупка жилой недвижимости',\n",
       "       'строительство собственной недвижимости', 'недвижимость',\n",
       "       'строительство недвижимости', 'на покупку подержанного автомобиля',\n",
       "       'на покупку своего автомобиля',\n",
       "       'операции с коммерческой недвижимостью',\n",
       "       'строительство жилой недвижимости', 'жилье',\n",
       "       'операции со своей недвижимостью', 'автомобили',\n",
       "       'заняться образованием', 'сделка с подержанным автомобилем',\n",
       "       'получение образования', 'автомобиль', 'свадьба',\n",
       "       'получение дополнительного образования', 'покупка своего жилья',\n",
       "       'операции с недвижимостью', 'получение высшего образования',\n",
       "       'свой автомобиль', 'сделка с автомобилем',\n",
       "       'профильное образование', 'высшее образование',\n",
       "       'покупка жилья для сдачи', 'на покупку автомобиля', 'ремонт жилью',\n",
       "       'заняться высшим образованием'], dtype=object)"
      ]
     },
     "execution_count": 19,
     "metadata": {},
     "output_type": "execute_result"
    }
   ],
   "source": [
    "data['purpose'].unique()"
   ]
  },
  {
   "cell_type": "markdown",
   "id": "52b79d56",
   "metadata": {
    "deletable": false,
    "editable": false,
    "id": "52b79d56"
   },
   "source": [
    "**Задание 18. Создайте функцию, которая на основании данных из столбца `purpose` сформирует новый столбец `purpose_category`, в который войдут следующие категории:**\n",
    "\n",
    "- `'операции с автомобилем'`,\n",
    "- `'операции с недвижимостью'`,\n",
    "- `'проведение свадьбы'`,\n",
    "- `'получение образования'`.\n",
    "\n",
    "**Например, если в столбце `purpose` находится подстрока `'на покупку автомобиля'`, то в столбце `purpose_category` должна появиться строка `'операции с автомобилем'`.**\n",
    "\n",
    "**Используйте собственную функцию с именем `categorize_purpose()` и метод `apply()`. Изучите данные в столбце `purpose` и определите, какие подстроки помогут вам правильно определить категорию.**"
   ]
  },
  {
   "cell_type": "code",
   "execution_count": 20,
   "id": "be41da5d",
   "metadata": {
    "deletable": false,
    "id": "be41da5d"
   },
   "outputs": [],
   "source": [
    "def categorize_purpose(row):\n",
    "    try:\n",
    "        if 'автом' in row:\n",
    "            return 'операции с автомобилем'\n",
    "        elif 'жил' in row or 'недвиж' in row:\n",
    "            return 'операции с недвижимостью'\n",
    "        elif 'свад' in row:\n",
    "            return 'проведение свадьбы'\n",
    "        elif 'образов' in row:\n",
    "            return 'получение образования'\n",
    "    except:\n",
    "        return 'нет категории'"
   ]
  },
  {
   "cell_type": "code",
   "execution_count": 21,
   "id": "94c4a19a",
   "metadata": {
    "deletable": false,
    "id": "94c4a19a"
   },
   "outputs": [],
   "source": [
    "data['purpose_category'] = data['purpose'].apply(categorize_purpose)"
   ]
  },
  {
   "cell_type": "markdown",
   "id": "3d596c34",
   "metadata": {
    "deletable": false,
    "editable": false,
    "id": "3d596c34"
   },
   "source": [
    "### Шаг 3. Исследуйте данные и ответьте на вопросы"
   ]
  },
  {
   "cell_type": "markdown",
   "id": "648db036",
   "metadata": {
    "deletable": false,
    "editable": false,
    "id": "648db036"
   },
   "source": [
    "#### 3.1 Есть ли зависимость между количеством детей и возвратом кредита в срок?"
   ]
  },
  {
   "cell_type": "markdown",
   "id": "1cac0a37",
   "metadata": {},
   "source": [
    "**Шаг 1.** Сформулируем гипотезу.\n",
    "\n",
    "<u>**Гипотеза**</u>: возврат кредита в срок зависит от количества детей у клиента."
   ]
  },
  {
   "cell_type": "markdown",
   "id": "e76c7d0d",
   "metadata": {},
   "source": [
    "**Шаг 2.** Обратимся к датафрейму и определим, какие данные необходимо использовать для анализа."
   ]
  },
  {
   "cell_type": "code",
   "execution_count": 22,
   "id": "df4e81af",
   "metadata": {},
   "outputs": [
    {
     "data": {
      "text/html": [
       "<div>\n",
       "<style scoped>\n",
       "    .dataframe tbody tr th:only-of-type {\n",
       "        vertical-align: middle;\n",
       "    }\n",
       "\n",
       "    .dataframe tbody tr th {\n",
       "        vertical-align: top;\n",
       "    }\n",
       "\n",
       "    .dataframe thead th {\n",
       "        text-align: right;\n",
       "    }\n",
       "</style>\n",
       "<table border=\"1\" class=\"dataframe\">\n",
       "  <thead>\n",
       "    <tr style=\"text-align: right;\">\n",
       "      <th></th>\n",
       "      <th>children</th>\n",
       "      <th>days_employed</th>\n",
       "      <th>dob_years</th>\n",
       "      <th>education</th>\n",
       "      <th>education_id</th>\n",
       "      <th>family_status</th>\n",
       "      <th>family_status_id</th>\n",
       "      <th>gender</th>\n",
       "      <th>income_type</th>\n",
       "      <th>debt</th>\n",
       "      <th>total_income</th>\n",
       "      <th>purpose</th>\n",
       "      <th>total_income_category</th>\n",
       "      <th>purpose_category</th>\n",
       "    </tr>\n",
       "  </thead>\n",
       "  <tbody>\n",
       "    <tr>\n",
       "      <th>0</th>\n",
       "      <td>1</td>\n",
       "      <td>8437.673028</td>\n",
       "      <td>42</td>\n",
       "      <td>высшее</td>\n",
       "      <td>0</td>\n",
       "      <td>женат / замужем</td>\n",
       "      <td>0</td>\n",
       "      <td>F</td>\n",
       "      <td>сотрудник</td>\n",
       "      <td>0</td>\n",
       "      <td>253875</td>\n",
       "      <td>покупка жилья</td>\n",
       "      <td>B</td>\n",
       "      <td>операции с недвижимостью</td>\n",
       "    </tr>\n",
       "    <tr>\n",
       "      <th>1</th>\n",
       "      <td>1</td>\n",
       "      <td>4024.803754</td>\n",
       "      <td>36</td>\n",
       "      <td>среднее</td>\n",
       "      <td>1</td>\n",
       "      <td>женат / замужем</td>\n",
       "      <td>0</td>\n",
       "      <td>F</td>\n",
       "      <td>сотрудник</td>\n",
       "      <td>0</td>\n",
       "      <td>112080</td>\n",
       "      <td>приобретение автомобиля</td>\n",
       "      <td>C</td>\n",
       "      <td>операции с автомобилем</td>\n",
       "    </tr>\n",
       "    <tr>\n",
       "      <th>2</th>\n",
       "      <td>0</td>\n",
       "      <td>5623.422610</td>\n",
       "      <td>33</td>\n",
       "      <td>среднее</td>\n",
       "      <td>1</td>\n",
       "      <td>женат / замужем</td>\n",
       "      <td>0</td>\n",
       "      <td>M</td>\n",
       "      <td>сотрудник</td>\n",
       "      <td>0</td>\n",
       "      <td>145885</td>\n",
       "      <td>покупка жилья</td>\n",
       "      <td>C</td>\n",
       "      <td>операции с недвижимостью</td>\n",
       "    </tr>\n",
       "    <tr>\n",
       "      <th>3</th>\n",
       "      <td>3</td>\n",
       "      <td>4124.747207</td>\n",
       "      <td>32</td>\n",
       "      <td>среднее</td>\n",
       "      <td>1</td>\n",
       "      <td>женат / замужем</td>\n",
       "      <td>0</td>\n",
       "      <td>M</td>\n",
       "      <td>сотрудник</td>\n",
       "      <td>0</td>\n",
       "      <td>267628</td>\n",
       "      <td>дополнительное образование</td>\n",
       "      <td>B</td>\n",
       "      <td>получение образования</td>\n",
       "    </tr>\n",
       "    <tr>\n",
       "      <th>4</th>\n",
       "      <td>0</td>\n",
       "      <td>340266.072047</td>\n",
       "      <td>53</td>\n",
       "      <td>среднее</td>\n",
       "      <td>1</td>\n",
       "      <td>гражданский брак</td>\n",
       "      <td>1</td>\n",
       "      <td>F</td>\n",
       "      <td>пенсионер</td>\n",
       "      <td>0</td>\n",
       "      <td>158616</td>\n",
       "      <td>сыграть свадьбу</td>\n",
       "      <td>C</td>\n",
       "      <td>проведение свадьбы</td>\n",
       "    </tr>\n",
       "  </tbody>\n",
       "</table>\n",
       "</div>"
      ],
      "text/plain": [
       "   children  days_employed  dob_years education  education_id  \\\n",
       "0         1    8437.673028         42    высшее             0   \n",
       "1         1    4024.803754         36   среднее             1   \n",
       "2         0    5623.422610         33   среднее             1   \n",
       "3         3    4124.747207         32   среднее             1   \n",
       "4         0  340266.072047         53   среднее             1   \n",
       "\n",
       "      family_status  family_status_id gender income_type  debt  total_income  \\\n",
       "0   женат / замужем                 0      F   сотрудник     0        253875   \n",
       "1   женат / замужем                 0      F   сотрудник     0        112080   \n",
       "2   женат / замужем                 0      M   сотрудник     0        145885   \n",
       "3   женат / замужем                 0      M   сотрудник     0        267628   \n",
       "4  гражданский брак                 1      F   пенсионер     0        158616   \n",
       "\n",
       "                      purpose total_income_category          purpose_category  \n",
       "0               покупка жилья                     B  операции с недвижимостью  \n",
       "1     приобретение автомобиля                     C    операции с автомобилем  \n",
       "2               покупка жилья                     C  операции с недвижимостью  \n",
       "3  дополнительное образование                     B     получение образования  \n",
       "4             сыграть свадьбу                     C        проведение свадьбы  "
      ]
     },
     "execution_count": 22,
     "metadata": {},
     "output_type": "execute_result"
    }
   ],
   "source": [
    "data.head()"
   ]
  },
  {
   "cell_type": "markdown",
   "id": "98e22d86",
   "metadata": {},
   "source": [
    "Для анализа подходят данные из 2 столбцов: `children` и `debt`. Из описания данных известно, что названия столбцов следующие:\n",
    "* `children` — количество детей в семье;\n",
    "* `debt` — имел ли задолженность по возврату кредитов"
   ]
  },
  {
   "cell_type": "markdown",
   "id": "364773bc",
   "metadata": {},
   "source": [
    "**Шаг 3.** Определим уникальные значения каждого из столбцов. Поскольку ранее была произведена предобработка данных всего датафрема, в дополнительных манипуляцих необходимости нет."
   ]
  },
  {
   "cell_type": "code",
   "execution_count": 23,
   "id": "221f8000",
   "metadata": {},
   "outputs": [
    {
     "data": {
      "text/plain": [
       "array([1, 0, 3, 2, 4, 5], dtype=int64)"
      ]
     },
     "execution_count": 23,
     "metadata": {},
     "output_type": "execute_result"
    }
   ],
   "source": [
    "data['children'].unique()"
   ]
  },
  {
   "cell_type": "markdown",
   "id": "1f1eec70",
   "metadata": {},
   "source": [
    "В столбце `children` представлены значения, которые легко интерпретируются, исходя из описания столбца в документации."
   ]
  },
  {
   "cell_type": "code",
   "execution_count": 24,
   "id": "3107d653",
   "metadata": {},
   "outputs": [
    {
     "data": {
      "text/plain": [
       "array([0, 1], dtype=int64)"
      ]
     },
     "execution_count": 24,
     "metadata": {},
     "output_type": "execute_result"
    }
   ],
   "source": [
    "data['debt'].unique()"
   ]
  },
  {
   "cell_type": "markdown",
   "id": "122d1ebe",
   "metadata": {},
   "source": [
    "В столбце `debt` представлены два значения: 0 и 1. В документации нет пояснения по поводу их интерпретации (необходимо уточнение), но, исходя из описания столбца, будем по умолчанию считать, что:\n",
    "* 0 - клиент НЕ имел задолженность по возврату кредитов\n",
    "* 1 - клиент имел задолженность по возврату кредитов"
   ]
  },
  {
   "cell_type": "markdown",
   "id": "dd862822",
   "metadata": {},
   "source": [
    "**Шаг 4.** Исследуем данные. Построим сводную таблицу с группировкой по столбцу `children`, где будет отображена информация об общем количестве клиентов по каждой группе и количестве клиентов, имевших задолженность по возврату кредитов:"
   ]
  },
  {
   "cell_type": "code",
   "execution_count": 25,
   "id": "01f0a386",
   "metadata": {},
   "outputs": [
    {
     "data": {
      "text/html": [
       "<div>\n",
       "<style scoped>\n",
       "    .dataframe tbody tr th:only-of-type {\n",
       "        vertical-align: middle;\n",
       "    }\n",
       "\n",
       "    .dataframe tbody tr th {\n",
       "        vertical-align: top;\n",
       "    }\n",
       "\n",
       "    .dataframe thead th {\n",
       "        text-align: right;\n",
       "    }\n",
       "</style>\n",
       "<table border=\"1\" class=\"dataframe\">\n",
       "  <thead>\n",
       "    <tr style=\"text-align: right;\">\n",
       "      <th></th>\n",
       "      <th>count</th>\n",
       "      <th>sum</th>\n",
       "      <th>share_debtors</th>\n",
       "    </tr>\n",
       "    <tr>\n",
       "      <th>children</th>\n",
       "      <th></th>\n",
       "      <th></th>\n",
       "      <th></th>\n",
       "    </tr>\n",
       "  </thead>\n",
       "  <tbody>\n",
       "    <tr>\n",
       "      <th>0</th>\n",
       "      <td>14091</td>\n",
       "      <td>1063</td>\n",
       "      <td>7.54</td>\n",
       "    </tr>\n",
       "    <tr>\n",
       "      <th>1</th>\n",
       "      <td>4808</td>\n",
       "      <td>444</td>\n",
       "      <td>9.23</td>\n",
       "    </tr>\n",
       "    <tr>\n",
       "      <th>2</th>\n",
       "      <td>2052</td>\n",
       "      <td>194</td>\n",
       "      <td>9.45</td>\n",
       "    </tr>\n",
       "    <tr>\n",
       "      <th>3</th>\n",
       "      <td>330</td>\n",
       "      <td>27</td>\n",
       "      <td>8.18</td>\n",
       "    </tr>\n",
       "    <tr>\n",
       "      <th>4</th>\n",
       "      <td>41</td>\n",
       "      <td>4</td>\n",
       "      <td>9.76</td>\n",
       "    </tr>\n",
       "    <tr>\n",
       "      <th>5</th>\n",
       "      <td>9</td>\n",
       "      <td>0</td>\n",
       "      <td>0.00</td>\n",
       "    </tr>\n",
       "  </tbody>\n",
       "</table>\n",
       "</div>"
      ],
      "text/plain": [
       "          count   sum  share_debtors\n",
       "children                            \n",
       "0         14091  1063           7.54\n",
       "1          4808   444           9.23\n",
       "2          2052   194           9.45\n",
       "3           330    27           8.18\n",
       "4            41     4           9.76\n",
       "5             9     0           0.00"
      ]
     },
     "execution_count": 25,
     "metadata": {},
     "output_type": "execute_result"
    }
   ],
   "source": [
    "pivot_children_debt = data.pivot_table(index='children', values='debt', aggfunc={'count','sum'})\n",
    "\n",
    "# добавим дополнительный столбец 'share_debt' с расчётом процента клиентов-должников по каждой группе\n",
    "\n",
    "pivot_children_debt['share_debtors'] = round(pivot_children_debt['sum'] / pivot_children_debt['count'] * 100, 2)\n",
    "pivot_children_debt"
   ]
  },
  {
   "cell_type": "markdown",
   "id": "ad5b0fa9",
   "metadata": {},
   "source": [
    "Из полученной выше таблицы мы видим, что доля клиентов с 3-мя и более детьми ничтожно мала по сравнению с другими группами, поэтому есть смысл категоризовать данные в следующие категории:\n",
    "\n",
    "* **нет детей** - клиент не имеет детей;\n",
    "* **1 ребёнок** - у клиента 1 ребёнок;\n",
    "* **2 ребёнка** - у клиента 2 ребёнка;\n",
    "* **3 и более детей** - у клиента 3 и более детей"
   ]
  },
  {
   "cell_type": "markdown",
   "id": "dbea77df",
   "metadata": {},
   "source": [
    "Сделаем категоризацию и выведим обновлённую сводную таблицу, где доля должников будет отсортирована по возрастанию:"
   ]
  },
  {
   "cell_type": "code",
   "execution_count": 26,
   "id": "cd2c0502",
   "metadata": {},
   "outputs": [],
   "source": [
    "# напишем функцию children_category\n",
    "\n",
    "def children_category(row):\n",
    "    children = row['children']\n",
    "    if children == 0:\n",
    "        return 'нет детей'\n",
    "    if children == 1:\n",
    "        return '1 ребёнок'\n",
    "    if children == 2:\n",
    "        return '2 ребёнка'\n",
    "    return '3 и более детей'\n",
    "\n",
    "#напишем новый столбец 'children_category' в датафрейм\n",
    "\n",
    "data['children_category'] = data.apply(children_category, axis=1)"
   ]
  },
  {
   "cell_type": "code",
   "execution_count": 27,
   "id": "7fcff25e",
   "metadata": {
    "deletable": false,
    "id": "7fcff25e"
   },
   "outputs": [
    {
     "data": {
      "text/html": [
       "<div>\n",
       "<style scoped>\n",
       "    .dataframe tbody tr th:only-of-type {\n",
       "        vertical-align: middle;\n",
       "    }\n",
       "\n",
       "    .dataframe tbody tr th {\n",
       "        vertical-align: top;\n",
       "    }\n",
       "\n",
       "    .dataframe thead th {\n",
       "        text-align: right;\n",
       "    }\n",
       "</style>\n",
       "<table border=\"1\" class=\"dataframe\">\n",
       "  <thead>\n",
       "    <tr style=\"text-align: right;\">\n",
       "      <th></th>\n",
       "      <th>clients</th>\n",
       "      <th>debtors</th>\n",
       "      <th>share_debtors</th>\n",
       "    </tr>\n",
       "    <tr>\n",
       "      <th>children_category</th>\n",
       "      <th></th>\n",
       "      <th></th>\n",
       "      <th></th>\n",
       "    </tr>\n",
       "  </thead>\n",
       "  <tbody>\n",
       "    <tr>\n",
       "      <th>нет детей</th>\n",
       "      <td>14091</td>\n",
       "      <td>1063</td>\n",
       "      <td>7.54</td>\n",
       "    </tr>\n",
       "    <tr>\n",
       "      <th>3 и более детей</th>\n",
       "      <td>380</td>\n",
       "      <td>31</td>\n",
       "      <td>8.16</td>\n",
       "    </tr>\n",
       "    <tr>\n",
       "      <th>1 ребёнок</th>\n",
       "      <td>4808</td>\n",
       "      <td>444</td>\n",
       "      <td>9.23</td>\n",
       "    </tr>\n",
       "    <tr>\n",
       "      <th>2 ребёнка</th>\n",
       "      <td>2052</td>\n",
       "      <td>194</td>\n",
       "      <td>9.45</td>\n",
       "    </tr>\n",
       "  </tbody>\n",
       "</table>\n",
       "</div>"
      ],
      "text/plain": [
       "                   clients  debtors  share_debtors\n",
       "children_category                                 \n",
       "нет детей            14091     1063           7.54\n",
       "3 и более детей        380       31           8.16\n",
       "1 ребёнок             4808      444           9.23\n",
       "2 ребёнка             2052      194           9.45"
      ]
     },
     "execution_count": 27,
     "metadata": {},
     "output_type": "execute_result"
    }
   ],
   "source": [
    "# Ваш код будет здесь. Вы можете создавать новые ячейки.\n",
    "\n",
    "pivot_children_debt = data.pivot_table(index='children_category', values='debt', aggfunc={'count','sum'})\n",
    "pivot_children_debt['share_debtors'] = round(pivot_children_debt['sum'] / pivot_children_debt['count'] * 100, 2)\n",
    "\n",
    "# переименуем столбцы 'count' и 'sum'\n",
    "\n",
    "pivot_children_debt = pivot_children_debt.rename(columns={'count': 'clients', 'sum': 'debtors'})\n",
    "\n",
    "# отсортируем столбец 'share_debtors' по возрастанию\n",
    "\n",
    "pivot_children_debt.sort_values(by='share_debtors', ascending=True)"
   ]
  },
  {
   "cell_type": "markdown",
   "id": "2eb9088e",
   "metadata": {
    "deletable": false,
    "id": "2eb9088e"
   },
   "source": [
    "**Вывод:** в целом можно подтвердить ранее сформулированную гипотезу: наблюдается незначительная корреляция между возвратом кредита в срок и количеством детей. Те клиенты, которые имеют хотя бы 1 ребёнка чаще нарушают срок возврата долга. Это можно объяснить тем, что наличие детей является причиной высокой финансовой нагрузки, из-за которой, в свою очередь, возникают просрочки. При этом стоит отметить, что, если рассматривать только клиентов, имеющих детей, то наименьший показатель доли приходится на клиентов с 3 и более детьми, а наибольший - на клиентов, у которых 2 ребёнка. Можно предположить, что семьи с 3 и более детьми более обеспечены в финансовом плане и уверены в своём будущем, если могут позволить себе такое многочисленное потомство и при этом вовремя платить по долгам. Но данная группа клиентов весьма малочисленна, в то время как клиенты, имеющих 2 ребёнка, - большая категория. Скорее всего, здесь представлены молодые люди, у которых присутствует желание быть счастливыми многодетными родителями, но пока их желание не до конца совпадает с их возможностями: текущая должность на работе не приносит необходимого дохода, а из-за чувства высокой ответственности перед своими детьми остальные заботы переходят на второй план, в т. ч. погашение кредитного долга."
   ]
  },
  {
   "cell_type": "markdown",
   "id": "74c9b3a7",
   "metadata": {
    "deletable": false,
    "editable": false,
    "id": "74c9b3a7"
   },
   "source": [
    "#### 3.2 Есть ли зависимость между семейным положением и возвратом кредита в срок?"
   ]
  },
  {
   "cell_type": "markdown",
   "id": "37b4b1b8",
   "metadata": {},
   "source": [
    "**Шаг 1.** Сформулируем гипотезу.\n",
    "\n",
    "<u>**Гипотеза**</u>: возврат кредита в срок зависит от семейного положения клиента."
   ]
  },
  {
   "cell_type": "markdown",
   "id": "e4b92e6a",
   "metadata": {},
   "source": [
    "**Шаг 2.** Обратимся к датафрейму и определим, какие данные необходимо использовать для анализа **(см. п. 3.1)**"
   ]
  },
  {
   "cell_type": "markdown",
   "id": "1ab1a9ff",
   "metadata": {},
   "source": [
    "Для анализа подходят данные из 2 столбцов: `family_status` и `debt`. Из описания данных известно, что названия столбцов следующие:\n",
    "* `family_status` — идентификатор семейного положения;\n",
    "* `debt` — имел ли задолженность по возврату кредитов"
   ]
  },
  {
   "cell_type": "markdown",
   "id": "3e2c2a87",
   "metadata": {},
   "source": [
    "**Шаг 3.** Определим уникальные значения каждого из столбцов. Поскольку ранее была произведена предобработка данных всего датафрема, в дополнительных манипуляцих необходимости нет."
   ]
  },
  {
   "cell_type": "code",
   "execution_count": 28,
   "id": "18b84690",
   "metadata": {},
   "outputs": [
    {
     "data": {
      "text/plain": [
       "array(['женат / замужем', 'гражданский брак', 'вдовец / вдова',\n",
       "       'в разводе', 'Не женат / не замужем'], dtype=object)"
      ]
     },
     "execution_count": 28,
     "metadata": {},
     "output_type": "execute_result"
    }
   ],
   "source": [
    "data['family_status'].unique()"
   ]
  },
  {
   "cell_type": "markdown",
   "id": "c131008b",
   "metadata": {},
   "source": [
    "В столбце `family_status` представлены значения, которые легко интерпретируются, исходя из описания столбца в документации. Но значение *'Не женат / не замужем'* начинается со строчной буквы. Переведём все значения в нижний регистр и снова выведем уникальные значения:"
   ]
  },
  {
   "cell_type": "code",
   "execution_count": 29,
   "id": "21801804",
   "metadata": {},
   "outputs": [
    {
     "data": {
      "text/plain": [
       "array(['женат / замужем', 'гражданский брак', 'вдовец / вдова',\n",
       "       'в разводе', 'не женат / не замужем'], dtype=object)"
      ]
     },
     "execution_count": 29,
     "metadata": {},
     "output_type": "execute_result"
    }
   ],
   "source": [
    "data['family_status'] = data['family_status'].str.lower()\n",
    "data['family_status'].unique()"
   ]
  },
  {
   "cell_type": "markdown",
   "id": "9d54a534",
   "metadata": {},
   "source": [
    "Информацию по уникальным значениям столбца `debt` **см. п. 3.1.**"
   ]
  },
  {
   "cell_type": "markdown",
   "id": "15204319",
   "metadata": {},
   "source": [
    "**Шаг 4.** Исследуем данные. Построим сводную таблицу с группировкой по столбцу `family_status`, где будет отображена информация об общем количестве клиентов по каждой группе и количестве клиентов, имевших задолженность по возврату кредитов:"
   ]
  },
  {
   "cell_type": "code",
   "execution_count": 30,
   "id": "8098ab3b",
   "metadata": {
    "deletable": false,
    "id": "8098ab3b"
   },
   "outputs": [
    {
     "data": {
      "text/html": [
       "<div>\n",
       "<style scoped>\n",
       "    .dataframe tbody tr th:only-of-type {\n",
       "        vertical-align: middle;\n",
       "    }\n",
       "\n",
       "    .dataframe tbody tr th {\n",
       "        vertical-align: top;\n",
       "    }\n",
       "\n",
       "    .dataframe thead th {\n",
       "        text-align: right;\n",
       "    }\n",
       "</style>\n",
       "<table border=\"1\" class=\"dataframe\">\n",
       "  <thead>\n",
       "    <tr style=\"text-align: right;\">\n",
       "      <th></th>\n",
       "      <th>clients</th>\n",
       "      <th>debtors</th>\n",
       "      <th>share_debtors</th>\n",
       "    </tr>\n",
       "    <tr>\n",
       "      <th>family_status</th>\n",
       "      <th></th>\n",
       "      <th></th>\n",
       "      <th></th>\n",
       "    </tr>\n",
       "  </thead>\n",
       "  <tbody>\n",
       "    <tr>\n",
       "      <th>вдовец / вдова</th>\n",
       "      <td>951</td>\n",
       "      <td>63</td>\n",
       "      <td>6.62</td>\n",
       "    </tr>\n",
       "    <tr>\n",
       "      <th>в разводе</th>\n",
       "      <td>1189</td>\n",
       "      <td>84</td>\n",
       "      <td>7.06</td>\n",
       "    </tr>\n",
       "    <tr>\n",
       "      <th>женат / замужем</th>\n",
       "      <td>12261</td>\n",
       "      <td>927</td>\n",
       "      <td>7.56</td>\n",
       "    </tr>\n",
       "    <tr>\n",
       "      <th>гражданский брак</th>\n",
       "      <td>4134</td>\n",
       "      <td>385</td>\n",
       "      <td>9.31</td>\n",
       "    </tr>\n",
       "    <tr>\n",
       "      <th>не женат / не замужем</th>\n",
       "      <td>2796</td>\n",
       "      <td>273</td>\n",
       "      <td>9.76</td>\n",
       "    </tr>\n",
       "  </tbody>\n",
       "</table>\n",
       "</div>"
      ],
      "text/plain": [
       "                       clients  debtors  share_debtors\n",
       "family_status                                         \n",
       "вдовец / вдова             951       63           6.62\n",
       "в разводе                 1189       84           7.06\n",
       "женат / замужем          12261      927           7.56\n",
       "гражданский брак          4134      385           9.31\n",
       "не женат / не замужем     2796      273           9.76"
      ]
     },
     "execution_count": 30,
     "metadata": {},
     "output_type": "execute_result"
    }
   ],
   "source": [
    "# Ваш код будет здесь. Вы можете создавать новые ячейки.\n",
    "\n",
    "pivot_famstatus_debt = data.pivot_table(index='family_status', values='debt', aggfunc={'count','sum'})\n",
    "\n",
    "# добавим дополнительный столбец 'share_debt' с расчётом процента клиентов-должников по каждой группе\n",
    "\n",
    "pivot_famstatus_debt['share_debtors'] = round(pivot_famstatus_debt['sum'] / pivot_famstatus_debt['count'] * 100, 2)\n",
    "\n",
    "# переименуем столбцы 'count' и 'sum'\n",
    "\n",
    "pivot_famstatus_debt = pivot_famstatus_debt.rename(columns={'count': 'clients', 'sum': 'debtors'})\n",
    "\n",
    "# отсортируем столбец 'share_debtors' по возрастанию\n",
    "\n",
    "pivot_famstatus_debt.sort_values(by='share_debtors', ascending=True)"
   ]
  },
  {
   "cell_type": "markdown",
   "id": "c389ca63",
   "metadata": {
    "deletable": false,
    "id": "c389ca63"
   },
   "source": [
    "**Вывод:** гипотеза подтверждена. Действительно, между возвратом кредита в срок и семейным положением прослеживается корреляция. Самыми недобросовестными плательщиками являются клиенты из категорий *'не женат / не замужем'* и *'гражданский брак'.* Для выявления достоверных причин такого поведения необходимо дополнительное исследование, но можно предположить, что большую часть клиентов их этих категорий составляют молодые люди, у которых завышенные потребности, низкий доход и пониженное чувство ответственности, что в совокупности приводит к просрочкам. Средний показатель доли клиентов-должников наблюдается в категории *'женат / замужем',* на которую приходится больше всего выданных кредитов. Самый низкий показатель у клиентов категории *'вдовец / вдова',* где, скорее всего, представлены клиенты пожилого возраста с хорошим достатком, которые стремятся вовремя платить по долгам."
   ]
  },
  {
   "cell_type": "markdown",
   "id": "9529de68",
   "metadata": {
    "deletable": false,
    "editable": false,
    "id": "9529de68"
   },
   "source": [
    "#### 3.3 Есть ли зависимость между уровнем дохода и возвратом кредита в срок?"
   ]
  },
  {
   "cell_type": "markdown",
   "id": "f5b67713",
   "metadata": {},
   "source": [
    "**Шаг 1.** Сформулируем гипотезу.\n",
    "\n",
    "<u>**Гипотеза**</u>: возврат кредита в срок зависит от уровня дохода клиента."
   ]
  },
  {
   "cell_type": "markdown",
   "id": "f4afc50e",
   "metadata": {},
   "source": [
    "**Шаг 2.** Обратимся к датафрейму и определим, какие данные необходимо использовать для анализа **(см. п. 3.1)**"
   ]
  },
  {
   "cell_type": "markdown",
   "id": "17a1a82b",
   "metadata": {},
   "source": [
    "Для анализа подходят данные из 2 столбцов: `total_income_category` и `debt`. Из описания данных известно, что названия столбцов следующие:\n",
    "* `total_income_category` — категории ежемесячного дохода (столбец сформирован на основании данных из столбца `total_income` — ежемесячный доход);\n",
    "* `debt` — имел ли задолженность по возврату кредитов"
   ]
  },
  {
   "cell_type": "markdown",
   "id": "dc7a3de2",
   "metadata": {},
   "source": [
    "**Шаг 3.** Определим уникальные значения каждого из столбцов. Поскольку ранее была произведена предобработка данных всего датафрема, в дополнительных манипуляцих необходимости нет."
   ]
  },
  {
   "cell_type": "code",
   "execution_count": 31,
   "id": "3892bab8",
   "metadata": {},
   "outputs": [
    {
     "data": {
      "text/plain": [
       "array(['B', 'C', 'D', 'E', 'A'], dtype=object)"
      ]
     },
     "execution_count": 31,
     "metadata": {},
     "output_type": "execute_result"
    }
   ],
   "source": [
    "data['total_income_category'].unique()"
   ]
  },
  {
   "cell_type": "markdown",
   "id": "71bff458",
   "metadata": {},
   "source": [
    "В столбце `total_income_category` представлены значения, которые легко интерпретируются, исходя из описания столбца `total_income` в документации:"
   ]
  },
  {
   "cell_type": "markdown",
   "id": "4410bcf9",
   "metadata": {},
   "source": [
    "- 0–30000 — `'E'`;\n",
    "- 30001–50000 — `'D'`;\n",
    "- 50001–200000 — `'C'`;\n",
    "- 200001–1000000 — `'B'`;\n",
    "- 1000001 и выше — `'A'`."
   ]
  },
  {
   "cell_type": "markdown",
   "id": "63da09da",
   "metadata": {},
   "source": [
    "Но при этом нам не известны денежные единицы данного дохода (требуется уточнение). По умолчанию будем считать, что ежемесячный доход выражен в <u>**рублях**<u/>."
   ]
  },
  {
   "cell_type": "markdown",
   "id": "aef9b12f",
   "metadata": {},
   "source": [
    "Информацию по уникальным значениям столбца `debt` **см. п. 3.1.**"
   ]
  },
  {
   "cell_type": "markdown",
   "id": "2caa79ae",
   "metadata": {},
   "source": [
    "**Шаг 4.** Исследуем данные. Построим сводную таблицу с группировкой по столбцу `total_income_category`, где будет отображена информация об общем количестве клиентов по каждой группе и количестве клиентов, имевших задолженность по возврату кредитов:"
   ]
  },
  {
   "cell_type": "code",
   "execution_count": 32,
   "id": "8787f44a",
   "metadata": {
    "deletable": false,
    "id": "8787f44a"
   },
   "outputs": [
    {
     "data": {
      "text/html": [
       "<div>\n",
       "<style scoped>\n",
       "    .dataframe tbody tr th:only-of-type {\n",
       "        vertical-align: middle;\n",
       "    }\n",
       "\n",
       "    .dataframe tbody tr th {\n",
       "        vertical-align: top;\n",
       "    }\n",
       "\n",
       "    .dataframe thead th {\n",
       "        text-align: right;\n",
       "    }\n",
       "</style>\n",
       "<table border=\"1\" class=\"dataframe\">\n",
       "  <thead>\n",
       "    <tr style=\"text-align: right;\">\n",
       "      <th></th>\n",
       "      <th>clients</th>\n",
       "      <th>debtors</th>\n",
       "      <th>share_debtors</th>\n",
       "    </tr>\n",
       "    <tr>\n",
       "      <th>total_income_category</th>\n",
       "      <th></th>\n",
       "      <th></th>\n",
       "      <th></th>\n",
       "    </tr>\n",
       "  </thead>\n",
       "  <tbody>\n",
       "    <tr>\n",
       "      <th>D</th>\n",
       "      <td>349</td>\n",
       "      <td>21</td>\n",
       "      <td>6.02</td>\n",
       "    </tr>\n",
       "    <tr>\n",
       "      <th>B</th>\n",
       "      <td>5014</td>\n",
       "      <td>354</td>\n",
       "      <td>7.06</td>\n",
       "    </tr>\n",
       "    <tr>\n",
       "      <th>A</th>\n",
       "      <td>25</td>\n",
       "      <td>2</td>\n",
       "      <td>8.00</td>\n",
       "    </tr>\n",
       "    <tr>\n",
       "      <th>C</th>\n",
       "      <td>15921</td>\n",
       "      <td>1353</td>\n",
       "      <td>8.50</td>\n",
       "    </tr>\n",
       "    <tr>\n",
       "      <th>E</th>\n",
       "      <td>22</td>\n",
       "      <td>2</td>\n",
       "      <td>9.09</td>\n",
       "    </tr>\n",
       "  </tbody>\n",
       "</table>\n",
       "</div>"
      ],
      "text/plain": [
       "                       clients  debtors  share_debtors\n",
       "total_income_category                                 \n",
       "D                          349       21           6.02\n",
       "B                         5014      354           7.06\n",
       "A                           25        2           8.00\n",
       "C                        15921     1353           8.50\n",
       "E                           22        2           9.09"
      ]
     },
     "execution_count": 32,
     "metadata": {},
     "output_type": "execute_result"
    }
   ],
   "source": [
    "# Ваш код будет здесь. Вы можете создавать новые ячейки.\n",
    "\n",
    "pivot_income_debt = data.pivot_table(index='total_income_category', values='debt', aggfunc={'count','sum'})\n",
    "\n",
    "# добавим дополнительный столбец 'share_debt' с расчётом процента клиентов-должников по каждой группе\n",
    "\n",
    "pivot_income_debt['share_debtors'] = round(pivot_income_debt['sum'] / pivot_income_debt['count'] * 100, 2)\n",
    "\n",
    "# переименуем столбцы 'count' и 'sum'\n",
    "\n",
    "pivot_income_debt = pivot_income_debt.rename(columns={'count': 'clients', 'sum': 'debtors'})\n",
    "\n",
    "# отсортируем столбец 'share_debtors' по возрастанию\n",
    "\n",
    "pivot_income_debt.sort_values(by='share_debtors', ascending=True)"
   ]
  },
  {
   "cell_type": "markdown",
   "id": "6dd14b57",
   "metadata": {
    "deletable": false,
    "id": "6dd14b57"
   },
   "source": [
    "**Вывод:** гипотеза подтверждена. Действительно, возврат кредита в срок зависит от ежемесячного дохода клиента, но при этом категории (доход соответсвующий категории) идут не по убыванию. Самыми добросовестными плательщиками оказались клиенты с доходом от 30 до 50 тыс. рублей. Это можно объяснить тем, что клиенты из данной категории стремятся вовремя платить по долгам, чтобы не обременять себя дополнительными расходами в виде пени, штрафов и иных санкций. Самая многочисленная категория клиентов с доходом от 50 до 200 тыс. рублей имеет один из самых высоких процентов просрочки. Здесь необходимо более детальное исследование для достоверного вывода, но, вероятно, в этой категории представлены клиенты, имеющие высокие затраты, с которыми не всегда удаётся справляться при среднем доходе. При этом вторая самая многочисленная категория клиентов с доходом от 200 тыс. до 1 млн. рублей имеет один самых низких рассматриваемых показателей. В данной группе, скорее всего, представлены клиенты, имеющие такой уровень заработка, который позволяет им не думать об экономии и вполне обеспеченно жить за счёт собственных средств. Но для крупных покупок они берут кредиты, и берут осознанно с полной уверенностью в том, что смогут погасить его в срок. Для этих клиентов кредит - это выгодный финансовый инструмент, позволяющый не только более рационально использовать денежные средства, но и получать материальные блага здесь и сейчас. Самую большую долю клиентов-должников составляют клиенты с самым низким доходом, что является логичным."
   ]
  },
  {
   "cell_type": "markdown",
   "id": "1dcc9b12",
   "metadata": {
    "deletable": false,
    "editable": false,
    "id": "1dcc9b12"
   },
   "source": [
    "#### 3.4 Как разные цели кредита влияют на его возврат в срок?"
   ]
  },
  {
   "cell_type": "markdown",
   "id": "1b8ca6e3",
   "metadata": {},
   "source": [
    "**Шаг 1.** Сформулируем гипотезу.\n",
    "\n",
    "<u>**Гипотеза**</u>: возврат кредита в срок зависит от цели его получения."
   ]
  },
  {
   "cell_type": "markdown",
   "id": "358e8b8d",
   "metadata": {},
   "source": [
    "**Шаг 2.** Обратимся к датафрейму и определим, какие данные необходимо использовать для анализа **(см. п. 3.1)**"
   ]
  },
  {
   "cell_type": "markdown",
   "id": "151a5d6d",
   "metadata": {},
   "source": [
    "Для анализа подходят данные из 2 столбцов: `purpose_category` и `debt`. Из описания данных известно, что названия столбцов следующие:\n",
    "* `purpose_category` — категории целей получения кредита (столбец сформирован на основании данных из столбца `purpose` — цель получения кредита);\n",
    "* `debt` — имел ли задолженность по возврату кредитов"
   ]
  },
  {
   "cell_type": "markdown",
   "id": "95748c47",
   "metadata": {},
   "source": [
    "**Шаг 3.** Определим уникальные значения каждого из столбцов. Поскольку ранее была произведена предобработка данных всего датафрема, в дополнительных манипуляцих необходимости нет."
   ]
  },
  {
   "cell_type": "code",
   "execution_count": 33,
   "id": "705acd1c",
   "metadata": {},
   "outputs": [
    {
     "data": {
      "text/plain": [
       "array(['операции с недвижимостью', 'операции с автомобилем',\n",
       "       'получение образования', 'проведение свадьбы'], dtype=object)"
      ]
     },
     "execution_count": 33,
     "metadata": {},
     "output_type": "execute_result"
    }
   ],
   "source": [
    "data['purpose_category'].unique()"
   ]
  },
  {
   "cell_type": "markdown",
   "id": "3ce6e643",
   "metadata": {},
   "source": [
    "В столбце `purpose_category` представлены значения, которые легко интерпретируются, исходя из описания столбца `purpose` в документации:"
   ]
  },
  {
   "cell_type": "markdown",
   "id": "af7c7fc8",
   "metadata": {},
   "source": [
    "- операции с автомобилем,\n",
    "- операции с недвижимостью,\n",
    "- проведение свадьбы,\n",
    "- получение образования."
   ]
  },
  {
   "cell_type": "markdown",
   "id": "531ad7c4",
   "metadata": {},
   "source": [
    "Информацию по уникальным значениям столбца `debt` **см. п. 3.1.**"
   ]
  },
  {
   "cell_type": "markdown",
   "id": "12926a62",
   "metadata": {},
   "source": [
    "**Шаг 4.** Исследуем данные. Построим сводную таблицу с группировкой по столбцу `purpose_category`, где будет отображена информация об общем количестве клиентов по каждой группе и количестве клиентов, имевших задолженность по возврату кредитов:"
   ]
  },
  {
   "cell_type": "code",
   "execution_count": 34,
   "id": "c602bc8b",
   "metadata": {
    "deletable": false,
    "id": "c602bc8b"
   },
   "outputs": [
    {
     "data": {
      "text/html": [
       "<div>\n",
       "<style scoped>\n",
       "    .dataframe tbody tr th:only-of-type {\n",
       "        vertical-align: middle;\n",
       "    }\n",
       "\n",
       "    .dataframe tbody tr th {\n",
       "        vertical-align: top;\n",
       "    }\n",
       "\n",
       "    .dataframe thead th {\n",
       "        text-align: right;\n",
       "    }\n",
       "</style>\n",
       "<table border=\"1\" class=\"dataframe\">\n",
       "  <thead>\n",
       "    <tr style=\"text-align: right;\">\n",
       "      <th></th>\n",
       "      <th>clients</th>\n",
       "      <th>debtors</th>\n",
       "      <th>share_debtors</th>\n",
       "    </tr>\n",
       "    <tr>\n",
       "      <th>purpose_category</th>\n",
       "      <th></th>\n",
       "      <th></th>\n",
       "      <th></th>\n",
       "    </tr>\n",
       "  </thead>\n",
       "  <tbody>\n",
       "    <tr>\n",
       "      <th>операции с недвижимостью</th>\n",
       "      <td>10751</td>\n",
       "      <td>780</td>\n",
       "      <td>7.26</td>\n",
       "    </tr>\n",
       "    <tr>\n",
       "      <th>проведение свадьбы</th>\n",
       "      <td>2313</td>\n",
       "      <td>183</td>\n",
       "      <td>7.91</td>\n",
       "    </tr>\n",
       "    <tr>\n",
       "      <th>получение образования</th>\n",
       "      <td>3988</td>\n",
       "      <td>369</td>\n",
       "      <td>9.25</td>\n",
       "    </tr>\n",
       "    <tr>\n",
       "      <th>операции с автомобилем</th>\n",
       "      <td>4279</td>\n",
       "      <td>400</td>\n",
       "      <td>9.35</td>\n",
       "    </tr>\n",
       "  </tbody>\n",
       "</table>\n",
       "</div>"
      ],
      "text/plain": [
       "                          clients  debtors  share_debtors\n",
       "purpose_category                                         \n",
       "операции с недвижимостью    10751      780           7.26\n",
       "проведение свадьбы           2313      183           7.91\n",
       "получение образования        3988      369           9.25\n",
       "операции с автомобилем       4279      400           9.35"
      ]
     },
     "execution_count": 34,
     "metadata": {},
     "output_type": "execute_result"
    }
   ],
   "source": [
    "# Ваш код будет здесь. Вы можете создавать новые ячейки.\n",
    "\n",
    "pivot_purpose_debt = data.pivot_table(index='purpose_category', values='debt', aggfunc={'count','sum'})\n",
    "\n",
    "# добавим дополнительный столбец 'share_debt' с расчётом процента клиентов-должников по каждой группе\n",
    "\n",
    "pivot_purpose_debt['share_debtors'] = round(pivot_purpose_debt['sum'] / pivot_purpose_debt['count'] * 100, 2)\n",
    "\n",
    "# переименуем столбцы 'count' и 'sum'\n",
    "\n",
    "pivot_purpose_debt = pivot_purpose_debt.rename(columns={'count': 'clients', 'sum': 'debtors'})\n",
    "\n",
    "# отсортируем столбец 'share_debtors' по возрастанию\n",
    "\n",
    "pivot_purpose_debt.sort_values(by='share_debtors', ascending=True)"
   ]
  },
  {
   "cell_type": "markdown",
   "id": "cf05ed63",
   "metadata": {
    "deletable": false,
    "id": "cf05ed63"
   },
   "source": [
    "**Вывод:** гипотеза подтверждена. Действительно, возврат кредита в срок зависит от цели его получения. Клиенты, которые приобретают собственное жильё и стремятся к благополучию и созданию семьи, более ответственно относятся к уплате долгов, чтобы не возникало дополнительной финансовой нагрузки. У клиентов, выбирающих образование и автомобиль в качестве инвестиций, чаще возникают просрочки."
   ]
  },
  {
   "cell_type": "markdown",
   "id": "46c1f10b",
   "metadata": {
    "deletable": false,
    "editable": false,
    "id": "46c1f10b"
   },
   "source": [
    "#### 3.5 Приведите возможные причины появления пропусков в исходных данных."
   ]
  },
  {
   "cell_type": "markdown",
   "id": "3697d2a9",
   "metadata": {
    "deletable": false,
    "id": "3697d2a9"
   },
   "source": [
    "*Ответ:* в изначальном датафрейме пропуски возникли в 2 столбцах: `days_employed` и `total_income`. Пропусков было одинаковое количество - 2174 ед., из чего можно сделать вывод, что заполнение одного столбца влияло на заполнение другого или наоборот. Причины пропусков: \n",
    "* необязательные данные для заполнения (т.е. клиент пожелал оставить эти поля пустыми;\n",
    "* технический сбой (маловероятно)"
   ]
  },
  {
   "cell_type": "markdown",
   "id": "3137d257",
   "metadata": {
    "deletable": false,
    "editable": false,
    "id": "3137d257"
   },
   "source": [
    "#### 3.6 Объясните, почему заполнить пропуски медианным значением — лучшее решение для количественных переменных."
   ]
  },
  {
   "cell_type": "markdown",
   "id": "cf40012a",
   "metadata": {
    "deletable": false,
    "id": "cf40012a"
   },
   "source": [
    "*Ответ:* Среднее арифметическое и медиана оценивают значения в центре выборки. Когда есть оторванные от основной массы \"показатели-лидеры\", их результаты сильно смещают значение среднего арифметического вверх. Поэтому оценивать показатели лучше медианой."
   ]
  },
  {
   "cell_type": "markdown",
   "id": "57bc304e",
   "metadata": {
    "deletable": false,
    "editable": false,
    "id": "57bc304e"
   },
   "source": [
    "### Шаг 4: общий вывод."
   ]
  },
  {
   "cell_type": "markdown",
   "id": "9bc3d8b4",
   "metadata": {},
   "source": [
    "Для кредитного отдела банка (делее заказчик) было проведено исследование надёжности заёмщиков, цель которого состояла в выявлении влияния определённых показателей на факт погашения кредита в срок. \n",
    "\n",
    "**Для анализа заказчик предоставил файл в CSV-формате со статистикой о платёжеспособности клиентов. В файле были представлены следующие данные**:\n",
    "\n",
    "* `children` — количество детей в семье\n",
    "* `days_employed` — общий трудовой стаж в днях\n",
    "* `dob_years` — возраст клиента в годах\n",
    "* `education` — уровень образования клиента\n",
    "* `education_id` — идентификатор уровня образования\n",
    "* `family_status` — семейное положение\n",
    "* `family_status_id`— идентификатор семейного положения\n",
    "* `gender` — пол клиента\n",
    "* `income_type` — тип занятости\n",
    "* `debt` — имел ли задолженность по возврату кредитов\n",
    "* `total_income` — ежемесячный доход\n",
    "* `purpose` — цель получения кредита\n",
    "\n",
    "На основании полученной информации необходимо было разобраться, существует ли зависимость между показателем `debt` (имел ли задолженность по возврату кредитов) и показателями:\n",
    "\n",
    "* `children` — количество детей в семье\n",
    "* `family_status` — семейное положение\n",
    "* `total_income` — ежемесячный доход\n",
    "* `purpose` — цель получения кредита"
   ]
  },
  {
   "cell_type": "markdown",
   "id": "9020f221",
   "metadata": {},
   "source": [
    "**Перед анализом была проведена предобработка дынных. На этой стадии выполнены следующие действия**:\n",
    "\n",
    "1. Удалены пропуски в столбцах `days_employed` и `total_income`: пропуски заполнены медианным значением;\n",
    "2. Произведена обработка аномальных значений (артефактов):\n",
    "\n",
    "   * отрицательные значения заменены положительными в столбце `days_employed`;\n",
    "   * удалены артефакты в столбце `children`;\n",
    "   \n",
    "   \n",
    "3. Заменён тип данных в столбце `total_income` с вещественного на целочисленный;\n",
    "4. Обработаны неявные дубликаты;\n",
    "5. Выполнена категоризация данных столбцов `total_income`, `purpose` и `children`. В датафрейм добавлены новые столбцы: `total_income_category`, `purpose_category` и `children_category`."
   ]
  },
  {
   "cell_type": "markdown",
   "id": "1ab75d1c",
   "metadata": {
    "deletable": false,
    "id": "1ab75d1c"
   },
   "source": [
    "**Далее был проведён анализ: сформулированы и проверены гипотезы, которые позволили сделать следующий вывод**:\n",
    "    \n",
    "Прослеживается невысокая корреляция между рассматриваемыми показателями, но этого достаточно, чтобы обрисовать предположительные портреты надежного и рискового заемщиков. \n",
    "\n",
    "С наибольшей вероятностью просрочку допустят те клиенты, которые не состоят в браке (или состоят в гражданском браке), имеют доход менее 30 тыс. рублей, но при этом являются родителем 1-2 детей. Как правило, основная цель получения кредита у данной группы клиентов - это операции с автомобилем или получение образования.\n",
    "\n",
    "Надёжными заёмщиками можно считать клиентов, не имеющих детей и пребывающие в плане семейного положения в статусе вдовца или вдовы, либо в статусе разведённого мужчины или разведённой женщины, иными словами являющимися одиночками. В основном они берут кредиты для операций с недвижимостью и проведения свадьбы, так как у них нет возможности совершать крупные приобретения товаров/услуг за счёт собственных средств по причине их низкого дохода (от 30 до 50 тыс. рублей). Но при этом эти люди ответственно подходят к уплате долгов.\n",
    "\n",
    "Результаты проведённого исследования можно использовать для построения модели кредитного скоринга, но стоит учитывать следующее: существует вероятность того, что не все вышеизложенные факторы могут совпасть, а лишь только их часть. Одной из причин этому могут послужить пропущенные значения в предоставленной таблице с данными (в т.ч. в ключевом показателе для анализа - ежемесячном доходе). В любом случае комбинация нескольких факторов может указывать на возможные кредитные просрочки в будущем."
   ]
  }
 ],
 "metadata": {
  "ExecuteTimeLog": [
   {
    "duration": 448,
    "start_time": "2023-11-02T12:27:01.163Z"
   },
   {
    "duration": 22,
    "start_time": "2023-11-02T12:27:01.614Z"
   },
   {
    "duration": 136,
    "start_time": "2023-11-02T12:27:01.638Z"
   },
   {
    "duration": 55,
    "start_time": "2023-11-02T12:27:01.776Z"
   },
   {
    "duration": 97,
    "start_time": "2023-11-02T12:27:01.834Z"
   },
   {
    "duration": 117,
    "start_time": "2023-11-02T12:27:01.933Z"
   },
   {
    "duration": 95,
    "start_time": "2023-11-02T12:27:02.052Z"
   },
   {
    "duration": 51,
    "start_time": "2023-11-02T12:27:02.149Z"
   },
   {
    "duration": 69,
    "start_time": "2023-11-02T12:27:02.202Z"
   },
   {
    "duration": 37,
    "start_time": "2023-11-02T12:27:02.273Z"
   },
   {
    "duration": 72,
    "start_time": "2023-11-02T12:27:02.312Z"
   },
   {
    "duration": 14,
    "start_time": "2023-11-02T12:27:02.386Z"
   },
   {
    "duration": 30,
    "start_time": "2023-11-02T12:27:02.402Z"
   },
   {
    "duration": 35,
    "start_time": "2023-11-02T12:27:02.435Z"
   },
   {
    "duration": 44,
    "start_time": "2023-11-02T12:27:02.472Z"
   },
   {
    "duration": 19,
    "start_time": "2023-11-02T12:27:02.518Z"
   },
   {
    "duration": 14,
    "start_time": "2023-11-02T12:27:02.538Z"
   },
   {
    "duration": 28,
    "start_time": "2023-11-02T12:27:02.554Z"
   },
   {
    "duration": 45,
    "start_time": "2023-11-02T12:27:02.584Z"
   },
   {
    "duration": 19,
    "start_time": "2023-11-02T12:27:02.630Z"
   },
   {
    "duration": 34,
    "start_time": "2023-11-02T12:27:02.651Z"
   },
   {
    "duration": 124,
    "start_time": "2023-11-02T12:27:02.686Z"
   },
   {
    "duration": 221,
    "start_time": "2023-11-02T12:27:02.812Z"
   },
   {
    "duration": 54,
    "start_time": "2023-11-02T12:27:03.035Z"
   },
   {
    "duration": 22,
    "start_time": "2023-11-02T12:27:03.090Z"
   },
   {
    "duration": 51,
    "start_time": "2023-11-03T12:29:19.740Z"
   },
   {
    "duration": 6,
    "start_time": "2023-11-03T12:29:38.848Z"
   },
   {
    "duration": 681,
    "start_time": "2023-11-03T12:30:33.237Z"
   },
   {
    "duration": 21,
    "start_time": "2023-11-03T12:30:33.920Z"
   },
   {
    "duration": 40,
    "start_time": "2023-11-03T12:30:33.943Z"
   },
   {
    "duration": 37,
    "start_time": "2023-11-03T12:30:33.985Z"
   },
   {
    "duration": 48,
    "start_time": "2023-11-03T12:30:34.024Z"
   },
   {
    "duration": 14,
    "start_time": "2023-11-03T12:30:34.073Z"
   },
   {
    "duration": 19,
    "start_time": "2023-11-03T12:30:34.089Z"
   },
   {
    "duration": 28,
    "start_time": "2023-11-03T12:30:34.110Z"
   },
   {
    "duration": 12,
    "start_time": "2023-11-03T12:30:34.139Z"
   },
   {
    "duration": 9,
    "start_time": "2023-11-03T12:30:34.152Z"
   },
   {
    "duration": 44,
    "start_time": "2023-11-03T12:30:34.162Z"
   },
   {
    "duration": 10,
    "start_time": "2023-11-03T12:30:34.208Z"
   },
   {
    "duration": 8,
    "start_time": "2023-11-03T12:30:34.220Z"
   },
   {
    "duration": 22,
    "start_time": "2023-11-03T12:30:34.230Z"
   },
   {
    "duration": 49,
    "start_time": "2023-11-03T12:30:34.253Z"
   },
   {
    "duration": 15,
    "start_time": "2023-11-03T12:30:34.304Z"
   },
   {
    "duration": 4,
    "start_time": "2023-11-03T12:30:34.320Z"
   },
   {
    "duration": 17,
    "start_time": "2023-11-03T12:30:34.325Z"
   },
   {
    "duration": 19,
    "start_time": "2023-11-03T12:30:34.343Z"
   },
   {
    "duration": 3,
    "start_time": "2023-11-03T12:30:34.364Z"
   },
   {
    "duration": 27,
    "start_time": "2023-11-03T12:30:34.369Z"
   },
   {
    "duration": 20,
    "start_time": "2023-11-03T12:30:34.397Z"
   },
   {
    "duration": 25,
    "start_time": "2023-11-03T12:30:34.418Z"
   },
   {
    "duration": 6,
    "start_time": "2023-11-03T12:30:34.445Z"
   },
   {
    "duration": 22,
    "start_time": "2023-11-03T12:30:34.452Z"
   },
   {
    "duration": 9,
    "start_time": "2023-11-03T12:30:34.475Z"
   },
   {
    "duration": 5,
    "start_time": "2023-11-03T12:32:12.667Z"
   },
   {
    "duration": 118,
    "start_time": "2023-11-03T12:32:20.028Z"
   },
   {
    "duration": 5,
    "start_time": "2023-11-03T12:32:35.739Z"
   },
   {
    "duration": 22,
    "start_time": "2023-11-03T12:33:22.959Z"
   },
   {
    "duration": 130,
    "start_time": "2023-11-03T12:34:00.990Z"
   },
   {
    "duration": 25,
    "start_time": "2023-11-03T12:34:10.779Z"
   },
   {
    "duration": 21,
    "start_time": "2023-11-03T12:34:51.750Z"
   },
   {
    "duration": 97,
    "start_time": "2023-11-03T12:36:13.536Z"
   },
   {
    "duration": 5,
    "start_time": "2023-11-03T12:36:48.259Z"
   },
   {
    "duration": 17,
    "start_time": "2023-11-03T12:37:08.850Z"
   },
   {
    "duration": 25,
    "start_time": "2023-11-03T12:37:46.519Z"
   },
   {
    "duration": 6,
    "start_time": "2023-11-03T12:42:00.398Z"
   },
   {
    "duration": 23,
    "start_time": "2023-11-03T12:43:04.081Z"
   },
   {
    "duration": 7,
    "start_time": "2023-11-03T12:44:45.430Z"
   },
   {
    "duration": 23,
    "start_time": "2023-11-03T12:45:41.406Z"
   },
   {
    "duration": 693,
    "start_time": "2023-11-03T17:02:10.463Z"
   },
   {
    "duration": 23,
    "start_time": "2023-11-03T17:02:11.158Z"
   },
   {
    "duration": 28,
    "start_time": "2023-11-03T17:02:11.183Z"
   },
   {
    "duration": 11,
    "start_time": "2023-11-03T17:02:11.213Z"
   },
   {
    "duration": 68,
    "start_time": "2023-11-03T17:02:11.225Z"
   },
   {
    "duration": 3,
    "start_time": "2023-11-03T17:02:11.295Z"
   },
   {
    "duration": 19,
    "start_time": "2023-11-03T17:02:11.300Z"
   },
   {
    "duration": 27,
    "start_time": "2023-11-03T17:02:11.320Z"
   },
   {
    "duration": 15,
    "start_time": "2023-11-03T17:02:11.411Z"
   },
   {
    "duration": 62,
    "start_time": "2023-11-03T17:02:11.428Z"
   },
   {
    "duration": 43,
    "start_time": "2023-11-03T17:02:11.491Z"
   },
   {
    "duration": 42,
    "start_time": "2023-11-03T17:02:11.535Z"
   },
   {
    "duration": 37,
    "start_time": "2023-11-03T17:02:11.579Z"
   },
   {
    "duration": 30,
    "start_time": "2023-11-03T17:02:11.617Z"
   },
   {
    "duration": 19,
    "start_time": "2023-11-03T17:02:11.648Z"
   },
   {
    "duration": 4,
    "start_time": "2023-11-03T17:02:11.668Z"
   },
   {
    "duration": 39,
    "start_time": "2023-11-03T17:02:11.674Z"
   },
   {
    "duration": 20,
    "start_time": "2023-11-03T17:02:11.715Z"
   },
   {
    "duration": 108,
    "start_time": "2023-11-03T17:02:11.737Z"
   },
   {
    "duration": 36,
    "start_time": "2023-11-03T17:02:11.847Z"
   },
   {
    "duration": 35,
    "start_time": "2023-11-03T17:02:11.885Z"
   },
   {
    "duration": 15,
    "start_time": "2023-11-03T17:02:11.922Z"
   },
   {
    "duration": 33,
    "start_time": "2023-11-03T17:02:11.938Z"
   },
   {
    "duration": 40,
    "start_time": "2023-11-03T17:02:11.973Z"
   },
   {
    "duration": 154,
    "start_time": "2023-11-03T17:02:12.015Z"
   },
   {
    "duration": 26,
    "start_time": "2023-11-03T17:02:12.171Z"
   },
   {
    "duration": 34,
    "start_time": "2023-11-03T17:02:12.201Z"
   },
   {
    "duration": 31,
    "start_time": "2023-11-03T17:02:12.237Z"
   },
   {
    "duration": 27,
    "start_time": "2023-11-03T17:02:12.270Z"
   },
   {
    "duration": 7,
    "start_time": "2023-11-03T17:02:12.299Z"
   },
   {
    "duration": 62,
    "start_time": "2023-11-03T17:02:12.308Z"
   },
   {
    "duration": 6,
    "start_time": "2023-11-03T17:02:12.372Z"
   },
   {
    "duration": 23,
    "start_time": "2023-11-03T17:02:12.380Z"
   },
   {
    "duration": 51,
    "start_time": "2023-11-05T07:10:58.115Z"
   },
   {
    "duration": 702,
    "start_time": "2023-11-05T07:11:20.124Z"
   },
   {
    "duration": 22,
    "start_time": "2023-11-05T07:11:20.827Z"
   },
   {
    "duration": 15,
    "start_time": "2023-11-05T07:11:20.850Z"
   },
   {
    "duration": 25,
    "start_time": "2023-11-05T07:11:20.867Z"
   },
   {
    "duration": 37,
    "start_time": "2023-11-05T07:11:20.895Z"
   },
   {
    "duration": 9,
    "start_time": "2023-11-05T07:11:20.934Z"
   },
   {
    "duration": 7,
    "start_time": "2023-11-05T07:11:20.946Z"
   },
   {
    "duration": 8,
    "start_time": "2023-11-05T07:11:20.955Z"
   },
   {
    "duration": 11,
    "start_time": "2023-11-05T07:11:20.964Z"
   },
   {
    "duration": 5,
    "start_time": "2023-11-05T07:11:20.977Z"
   },
   {
    "duration": 39,
    "start_time": "2023-11-05T07:11:20.983Z"
   },
   {
    "duration": 13,
    "start_time": "2023-11-05T07:11:21.043Z"
   },
   {
    "duration": 15,
    "start_time": "2023-11-05T07:11:21.058Z"
   },
   {
    "duration": 26,
    "start_time": "2023-11-05T07:11:21.076Z"
   },
   {
    "duration": 28,
    "start_time": "2023-11-05T07:11:21.104Z"
   },
   {
    "duration": 20,
    "start_time": "2023-11-05T07:11:21.134Z"
   },
   {
    "duration": 5,
    "start_time": "2023-11-05T07:11:21.156Z"
   },
   {
    "duration": 21,
    "start_time": "2023-11-05T07:11:21.163Z"
   },
   {
    "duration": 7,
    "start_time": "2023-11-05T07:11:21.186Z"
   },
   {
    "duration": 4,
    "start_time": "2023-11-05T07:11:21.194Z"
   },
   {
    "duration": 36,
    "start_time": "2023-11-05T07:11:21.200Z"
   },
   {
    "duration": 31,
    "start_time": "2023-11-05T07:11:21.237Z"
   },
   {
    "duration": 22,
    "start_time": "2023-11-05T07:11:21.270Z"
   },
   {
    "duration": 30,
    "start_time": "2023-11-05T07:11:21.293Z"
   },
   {
    "duration": 40,
    "start_time": "2023-11-05T07:11:21.325Z"
   },
   {
    "duration": 139,
    "start_time": "2023-11-05T07:11:21.367Z"
   },
   {
    "duration": 35,
    "start_time": "2023-11-05T07:11:21.508Z"
   },
   {
    "duration": 5,
    "start_time": "2023-11-05T07:11:21.545Z"
   },
   {
    "duration": 17,
    "start_time": "2023-11-05T07:11:21.552Z"
   },
   {
    "duration": 20,
    "start_time": "2023-11-05T07:11:21.570Z"
   },
   {
    "duration": 4,
    "start_time": "2023-11-05T07:11:21.592Z"
   },
   {
    "duration": 22,
    "start_time": "2023-11-05T07:11:21.597Z"
   },
   {
    "duration": 5,
    "start_time": "2023-11-05T07:11:21.644Z"
   },
   {
    "duration": 22,
    "start_time": "2023-11-05T07:11:21.651Z"
   },
   {
    "duration": 139,
    "start_time": "2023-11-05T07:11:48.146Z"
   },
   {
    "duration": 20,
    "start_time": "2023-11-05T07:11:49.969Z"
   },
   {
    "duration": 140,
    "start_time": "2023-11-05T07:13:57.077Z"
   },
   {
    "duration": 22,
    "start_time": "2023-11-05T07:13:59.641Z"
   },
   {
    "duration": 159,
    "start_time": "2023-11-05T07:14:13.806Z"
   },
   {
    "duration": 20,
    "start_time": "2023-11-05T07:14:15.360Z"
   }
  ],
  "colab": {
   "provenance": []
  },
  "kernelspec": {
   "display_name": "Python 3 (ipykernel)",
   "language": "python",
   "name": "python3"
  },
  "language_info": {
   "codemirror_mode": {
    "name": "ipython",
    "version": 3
   },
   "file_extension": ".py",
   "mimetype": "text/x-python",
   "name": "python",
   "nbconvert_exporter": "python",
   "pygments_lexer": "ipython3",
   "version": "3.9.5"
  },
  "toc": {
   "base_numbering": 1,
   "nav_menu": {},
   "number_sections": true,
   "sideBar": true,
   "skip_h1_title": true,
   "title_cell": "Table of Contents",
   "title_sidebar": "Contents",
   "toc_cell": false,
   "toc_position": {
    "height": "calc(100% - 180px)",
    "left": "10px",
    "top": "150px",
    "width": "294.237px"
   },
   "toc_section_display": true,
   "toc_window_display": true
  }
 },
 "nbformat": 4,
 "nbformat_minor": 5
}
