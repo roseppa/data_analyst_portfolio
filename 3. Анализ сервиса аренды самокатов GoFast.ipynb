{
 "cells": [
  {
   "cell_type": "markdown",
   "id": "05779bdf-a986-4146-ae5d-b51db119fac8",
   "metadata": {},
   "source": [
    "# Анализ сервиса аренды самокатов GoFast"
   ]
  },
  {
   "cell_type": "markdown",
   "id": "62e99c47-a916-491e-985c-a3d4cdd95ede",
   "metadata": {},
   "source": [
    "Вы аналитик популярного сервиса аренды самокатов GoFast. Вам передали данные о некоторых пользователях из нескольких городов, а также об их поездках. Проанализируйте данные и проверьте некоторые гипотезы, которые могут помочь бизнесу вырасти.\n",
    "<a id=\"payment\"></a>\n",
    "Чтобы совершать поездки по городу, пользователи сервиса GoFast пользуются мобильным приложением. Сервисом можно пользоваться:\n",
    "\n",
    "* без подписки\n",
    "\n",
    "    * абонентская плата **отсутствует**;\n",
    "    * стоимость одной минуты поездки — **8 рублей**;\n",
    "    * стоимость старта (начала поездки) — **50 рублей**;"
   ]
  },
  {
   "cell_type": "markdown",
   "id": "b734c5bb-48c8-4caf-900a-9f87d6351c09",
   "metadata": {},
   "source": [
    "* с подпиской Ultra\n",
    "\n",
    "    * абонентская плата — **199 рублей в месяц**;\n",
    "    * стоимость одной минуты поездки — **6 рублей**;\n",
    "    * стоимость старта — **бесплатно**."
   ]
  },
  {
   "cell_type": "markdown",
   "id": "bf111759-2b94-4891-b0c7-d936600fa02a",
   "metadata": {},
   "source": [
    "**Цель исследования:** выяснить, стоит ли продакт-менеджерам сервиса (далее - Заказчик) проводить различные акции для увеличиения количества пользователей с подпиской."
   ]
  },
  {
   "cell_type": "markdown",
   "id": "1b824da0-11ff-4179-9623-67148e0bf6b2",
   "metadata": {},
   "source": [
    "**Вопросы заказчика:**\n",
    "\n",
    "1. Тратят ли пользователи с подпиской больше времени на поездки?\n",
    "2. Расстояние одной поездки в 3 130 метров — оптимальное с точки зрения износа самоката. Можно ли сказать, что среднее расстояние, которое проезжают пользователи с подпиской за одну поездку, не превышает 3 130 метров?\n",
    "3. Будет ли помесячная выручка от пользователей с подпиской по месяцам выше, чем выручка от пользователей без подписки?\n",
    "---\n",
    "*Дополнительный вопрос:*\n",
    "\n",
    "4. Снизится ли количество обращений в техподдержку, если техническая команда сервиса обновит сервера, с которыми взаимодействует мобильное приложение?"
   ]
  },
  {
   "cell_type": "markdown",
   "id": "dd46f231-593c-4abe-acda-ac0a4fc3d6d8",
   "metadata": {},
   "source": [
    "**Исходные данные:** данные сервиса GoFast о пользователях из нескольких городов, а также об их поездках."
   ]
  },
  {
   "cell_type": "markdown",
   "id": "f80d12a9-3102-48f6-aecd-e19b15e8d747",
   "metadata": {},
   "source": [
    "<a id=\"documentation\"></a>\n",
    "**Описание данных:**\n",
    "\n",
    "<u>**(1) Пользователи — users_go.csv</u>**\n",
    "\n",
    "* **`user_id`** — уникальный идентификатор пользователя\n",
    "* **`name`** — имя пользователя\n",
    "* **`age`** — возраст\n",
    "* **`city`** — город\n",
    "* **`subscription_type`** — тип подписки (free, ultra)\n",
    "\n",
    "<u>**(2) Поeздки — rides_go.csv</u>**\n",
    "\n",
    "* **`user_id`** — уникальный идентификатор пользователя\n",
    "* **`distance`** — расстояние, которое пользователь проехал в текущей сессии (в метрах)\n",
    "* **`duration`** — продолжительность сессии (в минутах) — время с того момента, как пользователь нажал кнопку «Начать поездку» до момента, как он нажал кнопку «Завершить поездку»\n",
    "* **`date`** — дата совершения поездки\n",
    "\n",
    "<u>**(3) Подписки — subscriptions_go.csv</u>**\n",
    "\n",
    "* **`subscription_type`** — тип подписки\n",
    "* **`minute_price`** — стоимость одной минуты поездки по данной подписке\n",
    "* **`start_ride_price`** — стоимость начала поездки\n",
    "* **`subscription_fee`** — стоимость ежемесячного платежа"
   ]
  },
  {
   "cell_type": "markdown",
   "id": "c42cbe00",
   "metadata": {},
   "source": [
    "## Шаг 1. Загрузка данных"
   ]
  },
  {
   "cell_type": "markdown",
   "id": "eb98a355-53b7-456c-bb30-ac63a84e4fe4",
   "metadata": {},
   "source": [
    "**(1) Импортируем библиотеки Pandas и NumPy, подключаем модуль модуль Pyplot из библиотеки Matplotlib и модуль Stats из библиотеки SciPy:**"
   ]
  },
  {
   "cell_type": "code",
   "execution_count": 1,
   "id": "5855669e-3888-42c2-88f6-a45b5849c238",
   "metadata": {},
   "outputs": [],
   "source": [
    "import pandas as pd\n",
    "import numpy as np\n",
    "import matplotlib.pyplot as plt\n",
    "from scipy import stats as st"
   ]
  },
  {
   "cell_type": "markdown",
   "id": "6b471aad-83c4-45f3-b0f7-4ec281a27de8",
   "metadata": {},
   "source": [
    "**(2) Cбрасываем ограничение на число выводимых столбцов таблицы:**"
   ]
  },
  {
   "cell_type": "code",
   "execution_count": 2,
   "id": "4d8c2c4a-5564-4064-8e9c-0792016ddc65",
   "metadata": {},
   "outputs": [],
   "source": [
    "pd.set_option('display.max_columns', None)"
   ]
  },
  {
   "cell_type": "markdown",
   "id": "930f7c61-db01-414a-be09-0a2e0104040b",
   "metadata": {
    "tags": []
   },
   "source": [
    "**(3) Добавим разделитель разрядов и оставим 2 знака после запятой для числовых значений (тип данных: float):**"
   ]
  },
  {
   "cell_type": "code",
   "execution_count": 3,
   "id": "eff9f206",
   "metadata": {},
   "outputs": [],
   "source": [
    "pd.options.display.float_format = '{:,.2f}'.format"
   ]
  },
  {
   "cell_type": "markdown",
   "id": "8a48d46c-3f6c-4fe6-ae4b-4e74e788fe9d",
   "metadata": {},
   "source": [
    "### 1.1 Пользователи (data_users) <a id=\"users_first\"></a>"
   ]
  },
  {
   "cell_type": "markdown",
   "id": "f8ff941d-9d17-4afb-8e9b-cf50052069ce",
   "metadata": {
    "tags": []
   },
   "source": [
    "**(1) Импортируем файл CSV-формата в датафрейм:**"
   ]
  },
  {
   "cell_type": "code",
   "execution_count": 4,
   "id": "b38b59df-e405-4065-a13d-417780ccd7c8",
   "metadata": {},
   "outputs": [],
   "source": [
    "try:\n",
    "    data_users = pd.read_csv('other/documents/users_go.csv', sep=',')\n",
    "except:\n",
    "    data_users = pd.read_csv('/datasets/users_go.csv', sep=',')"
   ]
  },
  {
   "cell_type": "markdown",
   "id": "a7d67384-515d-40cb-93de-40a2005481b9",
   "metadata": {},
   "source": [
    "**(2) Выведем первые строки таблицы:**"
   ]
  },
  {
   "cell_type": "code",
   "execution_count": 5,
   "id": "1f27e5b7-ef23-4b97-b7d6-94a7d3822f9a",
   "metadata": {},
   "outputs": [
    {
     "data": {
      "text/html": [
       "<div>\n",
       "<style scoped>\n",
       "    .dataframe tbody tr th:only-of-type {\n",
       "        vertical-align: middle;\n",
       "    }\n",
       "\n",
       "    .dataframe tbody tr th {\n",
       "        vertical-align: top;\n",
       "    }\n",
       "\n",
       "    .dataframe thead th {\n",
       "        text-align: right;\n",
       "    }\n",
       "</style>\n",
       "<table border=\"1\" class=\"dataframe\">\n",
       "  <thead>\n",
       "    <tr style=\"text-align: right;\">\n",
       "      <th></th>\n",
       "      <th>user_id</th>\n",
       "      <th>name</th>\n",
       "      <th>age</th>\n",
       "      <th>city</th>\n",
       "      <th>subscription_type</th>\n",
       "    </tr>\n",
       "  </thead>\n",
       "  <tbody>\n",
       "    <tr>\n",
       "      <th>0</th>\n",
       "      <td>1</td>\n",
       "      <td>Кира</td>\n",
       "      <td>22</td>\n",
       "      <td>Тюмень</td>\n",
       "      <td>ultra</td>\n",
       "    </tr>\n",
       "    <tr>\n",
       "      <th>1</th>\n",
       "      <td>2</td>\n",
       "      <td>Станислав</td>\n",
       "      <td>31</td>\n",
       "      <td>Омск</td>\n",
       "      <td>ultra</td>\n",
       "    </tr>\n",
       "    <tr>\n",
       "      <th>2</th>\n",
       "      <td>3</td>\n",
       "      <td>Алексей</td>\n",
       "      <td>20</td>\n",
       "      <td>Москва</td>\n",
       "      <td>ultra</td>\n",
       "    </tr>\n",
       "    <tr>\n",
       "      <th>3</th>\n",
       "      <td>4</td>\n",
       "      <td>Константин</td>\n",
       "      <td>26</td>\n",
       "      <td>Ростов-на-Дону</td>\n",
       "      <td>ultra</td>\n",
       "    </tr>\n",
       "    <tr>\n",
       "      <th>4</th>\n",
       "      <td>5</td>\n",
       "      <td>Адель</td>\n",
       "      <td>28</td>\n",
       "      <td>Омск</td>\n",
       "      <td>ultra</td>\n",
       "    </tr>\n",
       "  </tbody>\n",
       "</table>\n",
       "</div>"
      ],
      "text/plain": [
       "   user_id        name  age            city subscription_type\n",
       "0        1        Кира   22          Тюмень             ultra\n",
       "1        2   Станислав   31            Омск             ultra\n",
       "2        3     Алексей   20          Москва             ultra\n",
       "3        4  Константин   26  Ростов-на-Дону             ultra\n",
       "4        5       Адель   28            Омск             ultra"
      ]
     },
     "execution_count": 5,
     "metadata": {},
     "output_type": "execute_result"
    }
   ],
   "source": [
    "data_users.head()"
   ]
  },
  {
   "cell_type": "markdown",
   "id": "c475a8aa-1f5a-4786-b05c-857d9d1ca429",
   "metadata": {},
   "source": [
    "**(3) Выведем сводную информацию по всему датасету:**"
   ]
  },
  {
   "cell_type": "code",
   "execution_count": 6,
   "id": "46ed889a-4167-4825-b22c-21ebf60e7642",
   "metadata": {
    "tags": []
   },
   "outputs": [
    {
     "name": "stdout",
     "output_type": "stream",
     "text": [
      "<class 'pandas.core.frame.DataFrame'>\n",
      "RangeIndex: 1565 entries, 0 to 1564\n",
      "Data columns (total 5 columns):\n",
      " #   Column             Non-Null Count  Dtype \n",
      "---  ------             --------------  ----- \n",
      " 0   user_id            1565 non-null   int64 \n",
      " 1   name               1565 non-null   object\n",
      " 2   age                1565 non-null   int64 \n",
      " 3   city               1565 non-null   object\n",
      " 4   subscription_type  1565 non-null   object\n",
      "dtypes: int64(2), object(3)\n",
      "memory usage: 61.3+ KB\n",
      "\n",
      "Всего строк: 1565\n",
      "Всего столбцов: 5\n",
      "\n",
      "Количество явных дубликатов: 31\n"
     ]
    }
   ],
   "source": [
    "data_users.info()\n",
    "\n",
    "print('\\nВсего строк:', data_users.shape[0])\n",
    "print('Всего столбцов:', data_users.shape[1])\n",
    "\n",
    "print('\\nКоличество явных дубликатов:', data_users.duplicated().sum())"
   ]
  },
  {
   "cell_type": "markdown",
   "id": "5dc22b07-4585-4f44-a3ca-6ad3e4bb9205",
   "metadata": {},
   "source": [
    "**(4) Выведем информацию по количеству пропущенных значений в каждом столбце:**"
   ]
  },
  {
   "cell_type": "code",
   "execution_count": 7,
   "id": "b1729e74-7525-4196-af72-8b896fae37bc",
   "metadata": {},
   "outputs": [
    {
     "name": "stdout",
     "output_type": "stream",
     "text": [
      "user_id              0\n",
      "name                 0\n",
      "age                  0\n",
      "city                 0\n",
      "subscription_type    0\n",
      "dtype: int64\n",
      "\n",
      "Количество столбцов с пропущенными значениями: 0\n"
     ]
    }
   ],
   "source": [
    "print(data_users.isna().sum())\n",
    "\n",
    "total_isna = []\n",
    "for value in data_users.isna().sum():\n",
    "    if value != 0:\n",
    "        total_isna.append(value)\n",
    "\n",
    "print('\\nКоличество столбцов с пропущенными значениями:', len(total_isna))"
   ]
  },
  {
   "cell_type": "markdown",
   "id": "6e5b1eed-02b3-447a-a190-b042a607b7bc",
   "metadata": {},
   "source": [
    "**(5) Проверим список уникальных значений столбца `city` на наличие неявных дубликатов:**"
   ]
  },
  {
   "cell_type": "code",
   "execution_count": 8,
   "id": "e81e3df8-cbc7-4f1a-979f-12e549cc8d62",
   "metadata": {},
   "outputs": [
    {
     "name": "stdout",
     "output_type": "stream",
     "text": [
      "Количество уникальных значений: 8\n",
      "\n",
      "Екатеринбург\n",
      "Краснодар\n",
      "Москва\n",
      "Омск\n",
      "Пятигорск\n",
      "Ростов-на-Дону\n",
      "Сочи\n",
      "Тюмень\n"
     ]
    }
   ],
   "source": [
    "print('Количество уникальных значений:', data_users['city'].nunique())\n",
    "\n",
    "print()\n",
    "\n",
    "city_name_sorted = data_users.sort_values(by='city', ascending=True)\n",
    "city_name_sorted = city_name_sorted['city'].unique()\n",
    "\n",
    "for name in city_name_sorted:\n",
    "    print(name)"
   ]
  },
  {
   "cell_type": "markdown",
   "id": "d096f7fb-f2b4-43b3-b071-5410a91d2f03",
   "metadata": {},
   "source": [
    "**(6) Cгенерируем описательную статистику для столбца 'age' для проверки наличия аномальных значений (артефактов):**"
   ]
  },
  {
   "cell_type": "code",
   "execution_count": 9,
   "id": "68010755-6719-4992-8b7b-27d5961564fe",
   "metadata": {},
   "outputs": [
    {
     "data": {
      "text/plain": [
       "count   1,565.00\n",
       "mean       24.92\n",
       "std         4.55\n",
       "min        12.00\n",
       "25%        22.00\n",
       "50%        25.00\n",
       "75%        28.00\n",
       "max        43.00\n",
       "Name: age, dtype: float64"
      ]
     },
     "execution_count": 9,
     "metadata": {},
     "output_type": "execute_result"
    }
   ],
   "source": [
    "data_users['age'].describe()"
   ]
  },
  {
   "cell_type": "markdown",
   "id": "5cadde25-a4f6-43ef-8c89-5783d70146b8",
   "metadata": {},
   "source": [
    "### 1.2 Поeздки (data_rides) <a id=\"rides_first\"></a>"
   ]
  },
  {
   "cell_type": "markdown",
   "id": "e9695a47-0c4b-4f1a-991b-24bb29ffc06b",
   "metadata": {
    "tags": []
   },
   "source": [
    "**(1) Импортируем файл CSV-формата в датафрейм:**"
   ]
  },
  {
   "cell_type": "code",
   "execution_count": 10,
   "id": "e2203187-22aa-47fd-a081-55952b6a4338",
   "metadata": {},
   "outputs": [],
   "source": [
    "try:\n",
    "    data_rides = pd.read_csv('other/documents/rides_go.csv', sep=',')\n",
    "except:\n",
    "    data_rides = pd.read_csv('/datasets/rides_go.csv', sep=',')"
   ]
  },
  {
   "cell_type": "markdown",
   "id": "2a2acfe7-8d22-4f65-ab18-7d280dc101b8",
   "metadata": {},
   "source": [
    "**(2) Выведем первые строки таблицы:**"
   ]
  },
  {
   "cell_type": "code",
   "execution_count": 11,
   "id": "3e920286-e816-452d-b24d-8d357776d44d",
   "metadata": {},
   "outputs": [
    {
     "data": {
      "text/html": [
       "<div>\n",
       "<style scoped>\n",
       "    .dataframe tbody tr th:only-of-type {\n",
       "        vertical-align: middle;\n",
       "    }\n",
       "\n",
       "    .dataframe tbody tr th {\n",
       "        vertical-align: top;\n",
       "    }\n",
       "\n",
       "    .dataframe thead th {\n",
       "        text-align: right;\n",
       "    }\n",
       "</style>\n",
       "<table border=\"1\" class=\"dataframe\">\n",
       "  <thead>\n",
       "    <tr style=\"text-align: right;\">\n",
       "      <th></th>\n",
       "      <th>user_id</th>\n",
       "      <th>distance</th>\n",
       "      <th>duration</th>\n",
       "      <th>date</th>\n",
       "    </tr>\n",
       "  </thead>\n",
       "  <tbody>\n",
       "    <tr>\n",
       "      <th>0</th>\n",
       "      <td>1</td>\n",
       "      <td>4,409.92</td>\n",
       "      <td>25.60</td>\n",
       "      <td>2021-01-01</td>\n",
       "    </tr>\n",
       "    <tr>\n",
       "      <th>1</th>\n",
       "      <td>1</td>\n",
       "      <td>2,617.59</td>\n",
       "      <td>15.82</td>\n",
       "      <td>2021-01-18</td>\n",
       "    </tr>\n",
       "    <tr>\n",
       "      <th>2</th>\n",
       "      <td>1</td>\n",
       "      <td>754.16</td>\n",
       "      <td>6.23</td>\n",
       "      <td>2021-04-20</td>\n",
       "    </tr>\n",
       "    <tr>\n",
       "      <th>3</th>\n",
       "      <td>1</td>\n",
       "      <td>2,694.78</td>\n",
       "      <td>18.51</td>\n",
       "      <td>2021-08-11</td>\n",
       "    </tr>\n",
       "    <tr>\n",
       "      <th>4</th>\n",
       "      <td>1</td>\n",
       "      <td>4,028.69</td>\n",
       "      <td>26.27</td>\n",
       "      <td>2021-08-28</td>\n",
       "    </tr>\n",
       "  </tbody>\n",
       "</table>\n",
       "</div>"
      ],
      "text/plain": [
       "   user_id  distance  duration        date\n",
       "0        1  4,409.92     25.60  2021-01-01\n",
       "1        1  2,617.59     15.82  2021-01-18\n",
       "2        1    754.16      6.23  2021-04-20\n",
       "3        1  2,694.78     18.51  2021-08-11\n",
       "4        1  4,028.69     26.27  2021-08-28"
      ]
     },
     "execution_count": 11,
     "metadata": {},
     "output_type": "execute_result"
    }
   ],
   "source": [
    "data_rides.head()"
   ]
  },
  {
   "cell_type": "markdown",
   "id": "fcaa50b3-be19-4df8-8cb0-599ead5ffa1f",
   "metadata": {},
   "source": [
    "**(3) Выведем сводную информацию по всему датасету:**"
   ]
  },
  {
   "cell_type": "code",
   "execution_count": 12,
   "id": "da1706e8-98b4-41f4-80ed-aeeef49dc703",
   "metadata": {},
   "outputs": [
    {
     "name": "stdout",
     "output_type": "stream",
     "text": [
      "<class 'pandas.core.frame.DataFrame'>\n",
      "RangeIndex: 18068 entries, 0 to 18067\n",
      "Data columns (total 4 columns):\n",
      " #   Column    Non-Null Count  Dtype  \n",
      "---  ------    --------------  -----  \n",
      " 0   user_id   18068 non-null  int64  \n",
      " 1   distance  18068 non-null  float64\n",
      " 2   duration  18068 non-null  float64\n",
      " 3   date      18068 non-null  object \n",
      "dtypes: float64(2), int64(1), object(1)\n",
      "memory usage: 564.8+ KB\n",
      "\n",
      "Всего строк: 18068\n",
      "Всего столбцов: 4\n",
      "\n",
      "Количество явных дубликатов: 0\n"
     ]
    }
   ],
   "source": [
    "data_rides.info()\n",
    "\n",
    "print('\\nВсего строк:', data_rides.shape[0])\n",
    "print('Всего столбцов:', data_rides.shape[1])\n",
    "\n",
    "print('\\nКоличество явных дубликатов:', data_rides.duplicated().sum())"
   ]
  },
  {
   "cell_type": "markdown",
   "id": "3b60007a-578d-4242-abed-2650ae68aeeb",
   "metadata": {},
   "source": [
    "**(4) Выведем информацию по количеству пропущенных значений в каждом столбце:**"
   ]
  },
  {
   "cell_type": "code",
   "execution_count": 13,
   "id": "ff66c7a4-f69c-4f95-80be-71dda4591f51",
   "metadata": {},
   "outputs": [
    {
     "name": "stdout",
     "output_type": "stream",
     "text": [
      "user_id     0\n",
      "distance    0\n",
      "duration    0\n",
      "date        0\n",
      "dtype: int64\n",
      "\n",
      "Количество столбцов с пропущенными значениями: 0\n"
     ]
    }
   ],
   "source": [
    "print(data_rides.isna().sum())\n",
    "\n",
    "total_isna = []\n",
    "for value in data_rides.isna().sum():\n",
    "    if value != 0:\n",
    "        total_isna.append(value)\n",
    "\n",
    "print('\\nКоличество столбцов с пропущенными значениями:', len(total_isna))"
   ]
  },
  {
   "cell_type": "markdown",
   "id": "6c05ab0f-7e98-49dd-8459-54fea8aa107a",
   "metadata": {},
   "source": [
    "**(5) Cгенерируем описательную статистику для столбцов `distance` и `duration` для проверки наличия аномальных значений (артефактов):**"
   ]
  },
  {
   "cell_type": "code",
   "execution_count": 14,
   "id": "8edcfdc1-9907-47da-a900-0f135cef9b03",
   "metadata": {},
   "outputs": [
    {
     "name": "stdout",
     "output_type": "stream",
     "text": [
      "count   18,068.00\n",
      "mean     3,070.66\n",
      "std      1,116.83\n",
      "min          0.86\n",
      "25%      2,543.23\n",
      "50%      3,133.61\n",
      "75%      3,776.22\n",
      "max      7,211.01\n",
      "Name: distance, dtype: float64\n",
      "\n",
      "count   18,068.00\n",
      "mean        17.81\n",
      "std          6.09\n",
      "min          0.50\n",
      "25%         13.60\n",
      "50%         17.68\n",
      "75%         21.72\n",
      "max         40.82\n",
      "Name: duration, dtype: float64\n"
     ]
    }
   ],
   "source": [
    "print(data_rides['distance'].describe())\n",
    "\n",
    "print()\n",
    "\n",
    "print(data_rides['duration'].describe())"
   ]
  },
  {
   "cell_type": "markdown",
   "id": "35237020-ae28-48cb-b2b6-12ae1f8f3a82",
   "metadata": {},
   "source": [
    "### 1.3 Подписки (data_subscriptions) <a id=\"subscriptions_first\"></a>"
   ]
  },
  {
   "cell_type": "markdown",
   "id": "ea0c96df-874e-4683-b578-2cc5917b1711",
   "metadata": {
    "tags": []
   },
   "source": [
    "**(1) Импортируем файл CSV-формата в датафрейм:**"
   ]
  },
  {
   "cell_type": "code",
   "execution_count": 15,
   "id": "4c01dd71-11a1-4ba0-844f-e82de65584e7",
   "metadata": {},
   "outputs": [],
   "source": [
    "try:\n",
    "    data_subscriptions = pd.read_csv('other/documents/subscriptions_go.csv', sep=',')\n",
    "except:\n",
    "    data_subscriptions = pd.read_csv('/datasets/subscriptions_go.csv', sep=',')"
   ]
  },
  {
   "cell_type": "markdown",
   "id": "46f46f60-fc0d-46d1-81d4-fc4a4cc66838",
   "metadata": {},
   "source": [
    "**(2) Выведем первые строки таблицы:**"
   ]
  },
  {
   "cell_type": "code",
   "execution_count": 16,
   "id": "2b6ad805-62cc-4fb7-8f6e-ead200cd8833",
   "metadata": {},
   "outputs": [
    {
     "data": {
      "text/html": [
       "<div>\n",
       "<style scoped>\n",
       "    .dataframe tbody tr th:only-of-type {\n",
       "        vertical-align: middle;\n",
       "    }\n",
       "\n",
       "    .dataframe tbody tr th {\n",
       "        vertical-align: top;\n",
       "    }\n",
       "\n",
       "    .dataframe thead th {\n",
       "        text-align: right;\n",
       "    }\n",
       "</style>\n",
       "<table border=\"1\" class=\"dataframe\">\n",
       "  <thead>\n",
       "    <tr style=\"text-align: right;\">\n",
       "      <th></th>\n",
       "      <th>subscription_type</th>\n",
       "      <th>minute_price</th>\n",
       "      <th>start_ride_price</th>\n",
       "      <th>subscription_fee</th>\n",
       "    </tr>\n",
       "  </thead>\n",
       "  <tbody>\n",
       "    <tr>\n",
       "      <th>0</th>\n",
       "      <td>free</td>\n",
       "      <td>8</td>\n",
       "      <td>50</td>\n",
       "      <td>0</td>\n",
       "    </tr>\n",
       "    <tr>\n",
       "      <th>1</th>\n",
       "      <td>ultra</td>\n",
       "      <td>6</td>\n",
       "      <td>0</td>\n",
       "      <td>199</td>\n",
       "    </tr>\n",
       "  </tbody>\n",
       "</table>\n",
       "</div>"
      ],
      "text/plain": [
       "  subscription_type  minute_price  start_ride_price  subscription_fee\n",
       "0              free             8                50                 0\n",
       "1             ultra             6                 0               199"
      ]
     },
     "execution_count": 16,
     "metadata": {},
     "output_type": "execute_result"
    }
   ],
   "source": [
    "data_subscriptions.head()"
   ]
  },
  {
   "cell_type": "markdown",
   "id": "295e2f74-3b5d-499d-b217-6fb289ede60c",
   "metadata": {},
   "source": [
    "**(3) Выведем сводную информацию по всему датасету:**"
   ]
  },
  {
   "cell_type": "code",
   "execution_count": 17,
   "id": "a299d158-38f7-44d4-b668-3a3fcfcd0b97",
   "metadata": {},
   "outputs": [
    {
     "name": "stdout",
     "output_type": "stream",
     "text": [
      "<class 'pandas.core.frame.DataFrame'>\n",
      "RangeIndex: 2 entries, 0 to 1\n",
      "Data columns (total 4 columns):\n",
      " #   Column             Non-Null Count  Dtype \n",
      "---  ------             --------------  ----- \n",
      " 0   subscription_type  2 non-null      object\n",
      " 1   minute_price       2 non-null      int64 \n",
      " 2   start_ride_price   2 non-null      int64 \n",
      " 3   subscription_fee   2 non-null      int64 \n",
      "dtypes: int64(3), object(1)\n",
      "memory usage: 192.0+ bytes\n",
      "\n",
      "Всего строк: 2\n",
      "Всего столбцов: 4\n",
      "\n",
      "Количество явных дубликатов: 0\n"
     ]
    }
   ],
   "source": [
    "data_subscriptions.info()\n",
    "\n",
    "print('\\nВсего строк:', data_subscriptions.shape[0])\n",
    "print('Всего столбцов:', data_subscriptions.shape[1])\n",
    "\n",
    "print('\\nКоличество явных дубликатов:', data_subscriptions.duplicated().sum())"
   ]
  },
  {
   "cell_type": "markdown",
   "id": "ae3ee1a2-e076-4023-8874-b87319fee903",
   "metadata": {},
   "source": [
    "**(4) Выведем информацию по количеству пропущенных значений в каждом столбце:**"
   ]
  },
  {
   "cell_type": "code",
   "execution_count": 18,
   "id": "1a94aa8c-e531-4c0a-8370-1785416ac579",
   "metadata": {},
   "outputs": [
    {
     "name": "stdout",
     "output_type": "stream",
     "text": [
      "subscription_type    0\n",
      "minute_price         0\n",
      "start_ride_price     0\n",
      "subscription_fee     0\n",
      "dtype: int64\n",
      "\n",
      "Количество столбцов с пропущенными значениями: 0\n"
     ]
    }
   ],
   "source": [
    "print(data_subscriptions.isna().sum())\n",
    "\n",
    "total_isna = []\n",
    "for value in data_subscriptions.isna().sum():\n",
    "    if value != 0:\n",
    "        total_isna.append(value)\n",
    "\n",
    "print('\\nКоличество столбцов с пропущенными значениями:', len(total_isna))"
   ]
  },
  {
   "cell_type": "markdown",
   "id": "a4a245c6-0a5e-4f18-b779-fb8d68e5b20d",
   "metadata": {},
   "source": [
    "<a id=\"firstresults\"></a>\n",
    "### <u>**Результаты и выявленные проблемы первичного анализа данных**</u>"
   ]
  },
  {
   "cell_type": "markdown",
   "id": "6fa6b256-618a-46e1-bfbf-a5f62c33093e",
   "metadata": {},
   "source": [
    "**[(1) Пользователи (data_users)](#users_first)**"
   ]
  },
  {
   "cell_type": "markdown",
   "id": "e8496da5-569f-45e0-95c0-c86fe93b076e",
   "metadata": {},
   "source": [
    "1. Датафрейм состоит из **1 565 строк** и **5 столбцов** различных типов данных:\n",
    "\n",
    "     * **object** (текстовые или смешанные числовые и нечисловые значения) - 3 столбца;\n",
    "     * **int** (целые числа) - 2 столбца;"
   ]
  },
  {
   "cell_type": "markdown",
   "id": "bc310f5a-7a2e-4811-91a6-de84b0225d58",
   "metadata": {},
   "source": [
    "2. **Названия столбцов соответствуют стилю \"змеиного регистра\"**;"
   ]
  },
  {
   "cell_type": "markdown",
   "id": "8b1c4e54-f319-4e9c-8d58-ddfa1ceda747",
   "metadata": {},
   "source": [
    "3. **Столбцов с пропущенными значеняими НЕ выявлено**;"
   ]
  },
  {
   "cell_type": "markdown",
   "id": "e4ebe5a2-b112-4949-9552-34b1d9b6537b",
   "metadata": {},
   "source": [
    "4. **Типы данных соответствуют опсанию столбцов из [документации](#documentation)**;"
   ]
  },
  {
   "cell_type": "markdown",
   "id": "f70655bd-f2a3-4846-be27-c024fee6ae37",
   "metadata": {},
   "source": [
    "5. Выявлен **31 явный дубликат**;"
   ]
  },
  {
   "cell_type": "markdown",
   "id": "c17840a0-6430-4341-91f3-18b830448dcf",
   "metadata": {},
   "source": [
    "6. **Неявных дубликатов НЕ выявлено**;"
   ]
  },
  {
   "cell_type": "markdown",
   "id": "551cee07-cc5d-4233-96c4-e30fe42af58f",
   "metadata": {},
   "source": [
    "7. **Аномальные значения (артефакты) отсутствуют**."
   ]
  },
  {
   "cell_type": "code",
   "execution_count": 19,
   "id": "a6365afa-c29c-4a36-ab5d-6279e50d7f57",
   "metadata": {},
   "outputs": [
    {
     "data": {
      "text/plain": [
       "1565"
      ]
     },
     "execution_count": 19,
     "metadata": {},
     "output_type": "execute_result"
    }
   ],
   "source": [
    "# зафиксируем размер датасета до начала предобработки\n",
    "\n",
    "size_users = data_users.shape[0]\n",
    "size_users"
   ]
  },
  {
   "cell_type": "markdown",
   "id": "13a61b32-74b9-4a8e-b9e2-c76f4643b3d6",
   "metadata": {},
   "source": [
    "---\n",
    "**[(2) Поeздки (data_rides)](#rides_first)**"
   ]
  },
  {
   "cell_type": "markdown",
   "id": "85fd327f-37c0-4c9a-85af-c4061b340651",
   "metadata": {},
   "source": [
    "1. Датафрейм состоит из **18 068 строк** и **4 столбцов** различных типов данных:\n",
    "\n",
    "     * **float** (вещественные числа) - 2 столбца;\n",
    "     * **int** (целые числа) - 1 столбец;\n",
    "     * **object** (текстовые или смешанные числовые и нечисловые значения) - 1 столбец;"
   ]
  },
  {
   "cell_type": "markdown",
   "id": "d01e49b1-b0fd-4e65-8e5a-535dc7566718",
   "metadata": {},
   "source": [
    "2. **Названия столбцов соответствуют стилю \"змеиного регистра\"**;"
   ]
  },
  {
   "cell_type": "markdown",
   "id": "4215c367-6d23-45f1-a7f7-5afe0e83a3e8",
   "metadata": {},
   "source": [
    "3. **Столбцов с пропущенными значеняими НЕ выявлено**;"
   ]
  },
  {
   "cell_type": "markdown",
   "id": "a3d7784b-5164-4807-8509-85e7db263317",
   "metadata": {},
   "source": [
    "4. Наблюдается **несоответствие типа данных столбцов описанию из [документации](#documentation)**:\n",
    "\n",
    "    * `date` - текущий тип данных **object** (текстовые или смешанные числовые и нечисловые значения) необходимо заменить на **datetime** (дата и время);"
   ]
  },
  {
   "cell_type": "markdown",
   "id": "593c4b79-a3ab-4d27-b26d-42cd33fc7674",
   "metadata": {},
   "source": [
    "5. **Явных дубликатов НЕ выявлено**;"
   ]
  },
  {
   "cell_type": "markdown",
   "id": "14eebedc-ade0-494c-b8b5-df91bb7e9bfd",
   "metadata": {},
   "source": [
    "6. **Неявных дубликатов НЕ выявлено**;"
   ]
  },
  {
   "cell_type": "markdown",
   "id": "844e4803-4be2-4d06-9e22-261b8667ba6b",
   "metadata": {},
   "source": [
    "7. **Аномальные значения (артефакты) отсутствуют**."
   ]
  },
  {
   "cell_type": "code",
   "execution_count": 20,
   "id": "846e5e21-d5e2-41ff-a963-7de68e89bf70",
   "metadata": {},
   "outputs": [
    {
     "data": {
      "text/plain": [
       "18068"
      ]
     },
     "execution_count": 20,
     "metadata": {},
     "output_type": "execute_result"
    }
   ],
   "source": [
    "# зафиксируем размер датасета до начала предобработки\n",
    "\n",
    "size_rides = data_rides.shape[0]\n",
    "size_rides"
   ]
  },
  {
   "cell_type": "markdown",
   "id": "0e083be5-d474-45a7-8d1f-0281f577a4bd",
   "metadata": {},
   "source": [
    "---\n",
    "**[(3) Подписки (data_subscriptions)](#subscriptions_first)**"
   ]
  },
  {
   "cell_type": "markdown",
   "id": "7832255f-d1e5-46e1-9710-35e167b87efb",
   "metadata": {},
   "source": [
    "1. Датафрейм состоит из **2 строк** и **4 столбцов** различных типов данных:\n",
    "\n",
    "     * **int** (целые числа) - 3 столбца;\n",
    "     * **object** (текстовые или смешанные числовые и нечисловые значения) - 1 столбец;"
   ]
  },
  {
   "cell_type": "markdown",
   "id": "9763752b-846b-48b2-9f59-d49f72e75ba2",
   "metadata": {},
   "source": [
    "2. **Названия столбцов соответствуют стилю \"змеиного регистра\"**;"
   ]
  },
  {
   "cell_type": "markdown",
   "id": "ef68195c-5df0-4b67-afd8-c657b9633460",
   "metadata": {},
   "source": [
    "3. **Столбцов с пропущенными значеняими НЕ выявлено**;"
   ]
  },
  {
   "cell_type": "markdown",
   "id": "cbe7916e-3d94-4c6a-b882-135603b89daa",
   "metadata": {},
   "source": [
    "4. **Типы данных соответствуют опсанию столбцов из [документации](#documentation)**;"
   ]
  },
  {
   "cell_type": "markdown",
   "id": "d68b459a-f8d7-43f2-bdbd-f8d5fc02e03f",
   "metadata": {},
   "source": [
    "5. **Явных дубликатов НЕ выявлено**;"
   ]
  },
  {
   "cell_type": "markdown",
   "id": "0f5ee2eb-6b90-460e-8b62-35f285c26531",
   "metadata": {},
   "source": [
    "6. **Неявных дубликатов НЕ выявлено**;"
   ]
  },
  {
   "cell_type": "markdown",
   "id": "e6963921-d277-461d-9971-037dedcecbca",
   "metadata": {},
   "source": [
    "7. **Аномальные значения (артефакты) отсутствуют**."
   ]
  },
  {
   "cell_type": "code",
   "execution_count": 21,
   "id": "ceda7778-f3ba-41c7-b3c5-ad9190497468",
   "metadata": {},
   "outputs": [
    {
     "data": {
      "text/plain": [
       "2"
      ]
     },
     "execution_count": 21,
     "metadata": {},
     "output_type": "execute_result"
    }
   ],
   "source": [
    "# Зафиксируем размер датасета до начала предобработки\n",
    "\n",
    "size_subscriptions = data_subscriptions.shape[0]\n",
    "size_subscriptions"
   ]
  },
  {
   "cell_type": "markdown",
   "id": "e95ebca7",
   "metadata": {},
   "source": [
    "## Шаг 2. Предобработка данных"
   ]
  },
  {
   "cell_type": "markdown",
   "id": "1116cd6d-52ae-48ef-842d-bbd0568f2ba0",
   "metadata": {},
   "source": [
    "### 2.1 Пользователи (data_users) <a id=\"users_last\"></a>"
   ]
  },
  {
   "cell_type": "markdown",
   "id": "c5b8a53c-3b33-4134-8860-d756265f3edc",
   "metadata": {},
   "source": [
    "**(1) Устраним явные дубликаты:**"
   ]
  },
  {
   "cell_type": "code",
   "execution_count": 22,
   "id": "537110ca-a048-4588-bdb0-ac5773434180",
   "metadata": {},
   "outputs": [],
   "source": [
    "data_users.drop_duplicates(inplace=True)"
   ]
  },
  {
   "cell_type": "markdown",
   "id": "9bf15362-d492-4a53-a7c7-c033d9c11559",
   "metadata": {},
   "source": [
    "**(2) Выведем обновлённую сводную информацию по всему датасету:**"
   ]
  },
  {
   "cell_type": "code",
   "execution_count": 23,
   "id": "58c25a48-273c-4bbf-adcd-9b7a97b2d38e",
   "metadata": {
    "scrolled": true
   },
   "outputs": [
    {
     "name": "stdout",
     "output_type": "stream",
     "text": [
      "<class 'pandas.core.frame.DataFrame'>\n",
      "Int64Index: 1534 entries, 0 to 1533\n",
      "Data columns (total 5 columns):\n",
      " #   Column             Non-Null Count  Dtype \n",
      "---  ------             --------------  ----- \n",
      " 0   user_id            1534 non-null   int64 \n",
      " 1   name               1534 non-null   object\n",
      " 2   age                1534 non-null   int64 \n",
      " 3   city               1534 non-null   object\n",
      " 4   subscription_type  1534 non-null   object\n",
      "dtypes: int64(2), object(3)\n",
      "memory usage: 71.9+ KB\n",
      "\n",
      "Всего строк: 1534\n",
      "Всего столбцов: 5\n",
      "\n",
      "Количество явных дубликатов: 0\n"
     ]
    }
   ],
   "source": [
    "data_users.info()\n",
    "\n",
    "print('\\nВсего строк:', data_users.shape[0])\n",
    "print('Всего столбцов:', data_users.shape[1])\n",
    "\n",
    "print('\\nКоличество явных дубликатов:', data_users.duplicated().sum())"
   ]
  },
  {
   "cell_type": "markdown",
   "id": "4ace5aa6-c783-44ba-a328-1124fcae80ed",
   "metadata": {},
   "source": [
    "**(3) Выведем первые строки обновлённого датафрейма:**"
   ]
  },
  {
   "cell_type": "code",
   "execution_count": 24,
   "id": "4c622bce-444f-41f5-b8ca-5d6a9ddbff5b",
   "metadata": {
    "tags": []
   },
   "outputs": [
    {
     "data": {
      "text/html": [
       "<div>\n",
       "<style scoped>\n",
       "    .dataframe tbody tr th:only-of-type {\n",
       "        vertical-align: middle;\n",
       "    }\n",
       "\n",
       "    .dataframe tbody tr th {\n",
       "        vertical-align: top;\n",
       "    }\n",
       "\n",
       "    .dataframe thead th {\n",
       "        text-align: right;\n",
       "    }\n",
       "</style>\n",
       "<table border=\"1\" class=\"dataframe\">\n",
       "  <thead>\n",
       "    <tr style=\"text-align: right;\">\n",
       "      <th></th>\n",
       "      <th>user_id</th>\n",
       "      <th>name</th>\n",
       "      <th>age</th>\n",
       "      <th>city</th>\n",
       "      <th>subscription_type</th>\n",
       "    </tr>\n",
       "  </thead>\n",
       "  <tbody>\n",
       "    <tr>\n",
       "      <th>0</th>\n",
       "      <td>1</td>\n",
       "      <td>Кира</td>\n",
       "      <td>22</td>\n",
       "      <td>Тюмень</td>\n",
       "      <td>ultra</td>\n",
       "    </tr>\n",
       "    <tr>\n",
       "      <th>1</th>\n",
       "      <td>2</td>\n",
       "      <td>Станислав</td>\n",
       "      <td>31</td>\n",
       "      <td>Омск</td>\n",
       "      <td>ultra</td>\n",
       "    </tr>\n",
       "    <tr>\n",
       "      <th>2</th>\n",
       "      <td>3</td>\n",
       "      <td>Алексей</td>\n",
       "      <td>20</td>\n",
       "      <td>Москва</td>\n",
       "      <td>ultra</td>\n",
       "    </tr>\n",
       "    <tr>\n",
       "      <th>3</th>\n",
       "      <td>4</td>\n",
       "      <td>Константин</td>\n",
       "      <td>26</td>\n",
       "      <td>Ростов-на-Дону</td>\n",
       "      <td>ultra</td>\n",
       "    </tr>\n",
       "    <tr>\n",
       "      <th>4</th>\n",
       "      <td>5</td>\n",
       "      <td>Адель</td>\n",
       "      <td>28</td>\n",
       "      <td>Омск</td>\n",
       "      <td>ultra</td>\n",
       "    </tr>\n",
       "  </tbody>\n",
       "</table>\n",
       "</div>"
      ],
      "text/plain": [
       "   user_id        name  age            city subscription_type\n",
       "0        1        Кира   22          Тюмень             ultra\n",
       "1        2   Станислав   31            Омск             ultra\n",
       "2        3     Алексей   20          Москва             ultra\n",
       "3        4  Константин   26  Ростов-на-Дону             ultra\n",
       "4        5       Адель   28            Омск             ultra"
      ]
     },
     "execution_count": 24,
     "metadata": {},
     "output_type": "execute_result"
    }
   ],
   "source": [
    "data_users.head()"
   ]
  },
  {
   "cell_type": "markdown",
   "id": "a5df6289-6c8d-4c6c-9733-927dc10040ba",
   "metadata": {},
   "source": [
    "### 2.2 Поeздки (data_rides) <a id=\"rides_last\"></a>"
   ]
  },
  {
   "cell_type": "markdown",
   "id": "fc97a590-d08a-4c6b-983a-4c39a5626543",
   "metadata": {},
   "source": [
    "**(1) Изменим тип данных *object* (текстовые или смешанные числовые и нечисловые значения) на *datetime* (дата и время) в столбце `date`:**"
   ]
  },
  {
   "cell_type": "code",
   "execution_count": 25,
   "id": "1a0dd282-965a-4818-944d-d9146de56e07",
   "metadata": {},
   "outputs": [],
   "source": [
    "data_rides['date'] = pd.to_datetime(data_rides['date'], format = '%Y-%m-%d')"
   ]
  },
  {
   "cell_type": "markdown",
   "id": "f73edd1c-05df-4881-9581-39577b33bdfc",
   "metadata": {},
   "source": [
    "**(2) Добавим стоолбец `month` с номером месяца:**"
   ]
  },
  {
   "cell_type": "code",
   "execution_count": 26,
   "id": "8f743dac-fd4f-44aa-af3d-07fe8863edb0",
   "metadata": {},
   "outputs": [],
   "source": [
    "data_rides['month'] = data_rides['date'].dt.month"
   ]
  },
  {
   "cell_type": "markdown",
   "id": "6f532ee5-0dc0-462d-a861-5d1b84a1e903",
   "metadata": {},
   "source": [
    "**(3) Выведем обновлённую сводную информацию по всему датасету:**"
   ]
  },
  {
   "cell_type": "code",
   "execution_count": 27,
   "id": "1611e7a2-139d-4513-932f-bcf9df9cc1d3",
   "metadata": {},
   "outputs": [
    {
     "name": "stdout",
     "output_type": "stream",
     "text": [
      "<class 'pandas.core.frame.DataFrame'>\n",
      "RangeIndex: 18068 entries, 0 to 18067\n",
      "Data columns (total 5 columns):\n",
      " #   Column    Non-Null Count  Dtype         \n",
      "---  ------    --------------  -----         \n",
      " 0   user_id   18068 non-null  int64         \n",
      " 1   distance  18068 non-null  float64       \n",
      " 2   duration  18068 non-null  float64       \n",
      " 3   date      18068 non-null  datetime64[ns]\n",
      " 4   month     18068 non-null  int64         \n",
      "dtypes: datetime64[ns](1), float64(2), int64(2)\n",
      "memory usage: 705.9 KB\n",
      "\n",
      "Всего строк: 18068\n",
      "Всего столбцов: 5\n",
      "\n",
      "Количество явных дубликатов: 0\n"
     ]
    }
   ],
   "source": [
    "data_rides.info()\n",
    "\n",
    "print('\\nВсего строк:', data_rides.shape[0])\n",
    "print('Всего столбцов:', data_rides.shape[1])\n",
    "\n",
    "print('\\nКоличество явных дубликатов:', data_rides.duplicated().sum())"
   ]
  },
  {
   "cell_type": "markdown",
   "id": "e418942d-9e81-4655-8ac0-bcbb202dd933",
   "metadata": {},
   "source": [
    "---\n",
    "**(4) Проверим, за какой период представлены данные в датафрейме. Для этого сделаем следующее:**\n",
    "\n",
    "* по аналогии со столбцом `month` добавим столбец `year` (год совершения поездки);\n",
    "* выведем уникальные значения столбца `year`."
   ]
  },
  {
   "cell_type": "code",
   "execution_count": 28,
   "id": "19558c38-6b4e-4a2a-8855-f46f1febc0de",
   "metadata": {
    "scrolled": true
   },
   "outputs": [
    {
     "data": {
      "text/plain": [
       "array([2021], dtype=int64)"
      ]
     },
     "execution_count": 28,
     "metadata": {},
     "output_type": "execute_result"
    }
   ],
   "source": [
    "data_rides['year'] = data_rides['date'].dt.year\n",
    "\n",
    "data_rides['year'].unique()"
   ]
  },
  {
   "cell_type": "markdown",
   "id": "65bf9a29-e491-420b-8b5e-9a07897f0e43",
   "metadata": {},
   "source": [
    "**(5) Выведем первые строки обновлённого датафрейма:**"
   ]
  },
  {
   "cell_type": "code",
   "execution_count": 29,
   "id": "86dae772-f4a6-4f7b-91ee-11535c389323",
   "metadata": {
    "tags": []
   },
   "outputs": [
    {
     "data": {
      "text/html": [
       "<div>\n",
       "<style scoped>\n",
       "    .dataframe tbody tr th:only-of-type {\n",
       "        vertical-align: middle;\n",
       "    }\n",
       "\n",
       "    .dataframe tbody tr th {\n",
       "        vertical-align: top;\n",
       "    }\n",
       "\n",
       "    .dataframe thead th {\n",
       "        text-align: right;\n",
       "    }\n",
       "</style>\n",
       "<table border=\"1\" class=\"dataframe\">\n",
       "  <thead>\n",
       "    <tr style=\"text-align: right;\">\n",
       "      <th></th>\n",
       "      <th>user_id</th>\n",
       "      <th>distance</th>\n",
       "      <th>duration</th>\n",
       "      <th>date</th>\n",
       "      <th>month</th>\n",
       "      <th>year</th>\n",
       "    </tr>\n",
       "  </thead>\n",
       "  <tbody>\n",
       "    <tr>\n",
       "      <th>0</th>\n",
       "      <td>1</td>\n",
       "      <td>4,409.92</td>\n",
       "      <td>25.60</td>\n",
       "      <td>2021-01-01</td>\n",
       "      <td>1</td>\n",
       "      <td>2021</td>\n",
       "    </tr>\n",
       "    <tr>\n",
       "      <th>1</th>\n",
       "      <td>1</td>\n",
       "      <td>2,617.59</td>\n",
       "      <td>15.82</td>\n",
       "      <td>2021-01-18</td>\n",
       "      <td>1</td>\n",
       "      <td>2021</td>\n",
       "    </tr>\n",
       "    <tr>\n",
       "      <th>2</th>\n",
       "      <td>1</td>\n",
       "      <td>754.16</td>\n",
       "      <td>6.23</td>\n",
       "      <td>2021-04-20</td>\n",
       "      <td>4</td>\n",
       "      <td>2021</td>\n",
       "    </tr>\n",
       "    <tr>\n",
       "      <th>3</th>\n",
       "      <td>1</td>\n",
       "      <td>2,694.78</td>\n",
       "      <td>18.51</td>\n",
       "      <td>2021-08-11</td>\n",
       "      <td>8</td>\n",
       "      <td>2021</td>\n",
       "    </tr>\n",
       "    <tr>\n",
       "      <th>4</th>\n",
       "      <td>1</td>\n",
       "      <td>4,028.69</td>\n",
       "      <td>26.27</td>\n",
       "      <td>2021-08-28</td>\n",
       "      <td>8</td>\n",
       "      <td>2021</td>\n",
       "    </tr>\n",
       "  </tbody>\n",
       "</table>\n",
       "</div>"
      ],
      "text/plain": [
       "   user_id  distance  duration       date  month  year\n",
       "0        1  4,409.92     25.60 2021-01-01      1  2021\n",
       "1        1  2,617.59     15.82 2021-01-18      1  2021\n",
       "2        1    754.16      6.23 2021-04-20      4  2021\n",
       "3        1  2,694.78     18.51 2021-08-11      8  2021\n",
       "4        1  4,028.69     26.27 2021-08-28      8  2021"
      ]
     },
     "execution_count": 29,
     "metadata": {},
     "output_type": "execute_result"
    }
   ],
   "source": [
    "data_rides.head()"
   ]
  },
  {
   "cell_type": "markdown",
   "id": "50f6ce91-3e52-45f1-a0f6-81b092b14aa7",
   "metadata": {},
   "source": [
    "### 2.3 Подписки (data_subscriptions) <a id=\"subscriptions_last\"></a>"
   ]
  },
  {
   "cell_type": "markdown",
   "id": "a1810e68-6e95-44b4-99c1-5d961f4c1beb",
   "metadata": {},
   "source": [
    "Данные корректны, дополнительных манипуляций не требуется."
   ]
  },
  {
   "cell_type": "markdown",
   "id": "b4361c53-0d59-44b1-b855-8778241fd483",
   "metadata": {},
   "source": [
    "<a id=\"preprocessingresults\"></a>\n",
    "### <u>**Результаты предобработки данных**</u>"
   ]
  },
  {
   "cell_type": "markdown",
   "id": "ccf81fcf-0c3b-40ee-a2b0-e46c9095faa1",
   "metadata": {},
   "source": [
    "**[(1) Пользователи (data_users)](#users_last)**"
   ]
  },
  {
   "cell_type": "markdown",
   "id": "f9f313fd-1201-45a8-8501-a96978f5e771",
   "metadata": {},
   "source": [
    "1. **Явные дубликаты удалены** из датафрейма;"
   ]
  },
  {
   "cell_type": "markdown",
   "id": "bb2a5298-a722-402e-a306-3840c84c9817",
   "metadata": {},
   "source": [
    "2. После проведённых манпуляций датафрейм имеет следующие параметры: **1 534 строки** и **5 столбцов**:\n",
    "\n",
    "     * **object** (текстовые или смешанные числовые и нечисловые значения) - 3 столбца;\n",
    "     * **int** (целые числа) - 2 столбца;"
   ]
  },
  {
   "cell_type": "markdown",
   "id": "57245405-40ee-4dab-b3c2-6b50d39e9e89",
   "metadata": {},
   "source": [
    "---\n",
    "**[(2) Поeздки (data_rides)](#rides_last)**"
   ]
  },
  {
   "cell_type": "markdown",
   "id": "e6558d00-f761-482f-b2a2-c47149300810",
   "metadata": {},
   "source": [
    "1. **Тип данных** в столбце `date` **изменён**. Теперь все столбцы соответствуют описанию из [документации](#documentation), и их можно использовать для дальнейшего анализа;"
   ]
  },
  {
   "cell_type": "markdown",
   "id": "279307d1-453d-45f2-88b2-9cdb5e081f21",
   "metadata": {},
   "source": [
    "2. Добавлен **1 новый столбец:**\n",
    "\n",
    "* `month` (месяц совершения поездки)"
   ]
  },
  {
   "cell_type": "markdown",
   "id": "f3785fb0-8f2a-4a65-8759-7096c4ad1773",
   "metadata": {},
   "source": [
    "3. После проведённых манпуляций датафрейм имеет следующие параметры: **18 068 строк** и **5 столбцов**:\n",
    "\n",
    "     * **float** (вещественные числа) - 2 столбца;\n",
    "     * **int** (целые числа) - 2 столбца;\n",
    "     * **datetime** (дата и время) - 1 столбец.     "
   ]
  },
  {
   "cell_type": "markdown",
   "id": "97ab16cf-14a0-457f-9028-44b50381fd59",
   "metadata": {},
   "source": [
    "4. Данные представлены **за 2021 год**."
   ]
  },
  {
   "cell_type": "markdown",
   "id": "96d99ec5-1d2d-4dea-a21d-835e4346ddec",
   "metadata": {},
   "source": [
    "---\n",
    "**[(3) Подписки (data_subscriptions)](#subscriptions_last)**"
   ]
  },
  {
   "cell_type": "markdown",
   "id": "fed7886d-3108-40f5-8a9d-5beab4e7b934",
   "metadata": {},
   "source": [
    "**Параметры датафрейма не изменились**."
   ]
  },
  {
   "cell_type": "markdown",
   "id": "212593c7",
   "metadata": {
    "tags": []
   },
   "source": [
    "## Шаг 3. Исследовательский анализ данных"
   ]
  },
  {
   "cell_type": "markdown",
   "id": "742b479b-c5ff-4911-8a90-1cf8df2fb02f",
   "metadata": {},
   "source": [
    "Проведём исследование следующих параметров: <a id=\"parameters\"></a>\n",
    "\n",
    "1. **[Частота встречаемости городов](#3.1)**;\n",
    "2. **[Соотношение пользователей с подпиской и без подписки](#3.2)**;\n",
    "3. **[Возраст пользователей](#3.3)**;\n",
    "4. **[Расстояние, которое пользователь преодолел за одну поездку](#3.4)**;\n",
    "5. **[Продолжительность поездок](#3.5)**."
   ]
  },
  {
   "cell_type": "markdown",
   "id": "9d544467-9354-4be5-b8b2-898dcdec606f",
   "metadata": {},
   "source": [
    "### 3.1 Частота встречаемости городов <a id=\"3.1\"></a>"
   ]
  },
  {
   "cell_type": "code",
   "execution_count": 30,
   "id": "65703943-3639-49ea-b4da-dc3186d52006",
   "metadata": {},
   "outputs": [
    {
     "data": {
      "image/png": "[encoded data removed]",
      "text/plain": [
       "<Figure size 720x360 with 1 Axes>"
      ]
     },
     "metadata": {
      "needs_background": "light"
     },
     "output_type": "display_data"
    },
    {
     "data": {
      "image/png": "[encoded data removed]",
      "text/plain": [
       "<Figure size 720x360 with 1 Axes>"
      ]
     },
     "metadata": {
      "needs_background": "light"
     },
     "output_type": "display_data"
    }
   ],
   "source": [
    "city_count = data_users['city'].value_counts().to_frame().reset_index()\n",
    "city_count = city_count.rename(columns={'index': 'city', 'city': 'count'})\n",
    "city_count['share'] = city_count['count'] / city_count['count'].sum()\n",
    "\n",
    "# график со значениями в натуральном выражении\n",
    "\n",
    "city = city_count['city']\n",
    "count = city_count['count']\n",
    "\n",
    "plt.figure(figsize=(10,5))\n",
    "plt.barh(city, count, height=0.5)\n",
    "\n",
    "for i in range(len(count)):\n",
    "    plt.annotate(count[i], xy=(count[i],city[i]), ha='left', va='center')\n",
    "   \n",
    "plt.grid(alpha=0.5)\n",
    "plt.title('Распределение пользователей по городам, чел.')\n",
    "\n",
    "plt.show()\n",
    "\n",
    "# график со значениями в процентах\n",
    "\n",
    "city = city_count['city']\n",
    "share = round(city_count['share'] * 100, 1)\n",
    "\n",
    "plt.figure(figsize=(10,5))\n",
    "plt.barh(city, share, height=0.5, color='green')\n",
    "\n",
    "for i in range(len(share)):\n",
    "    plt.annotate(share[i], xy=(share[i],city[i]), ha='left', va='center')\n",
    "   \n",
    "plt.grid(alpha=0.5)\n",
    "plt.title('Распределение пользователей по городам, %')\n",
    "\n",
    "plt.show()"
   ]
  },
  {
   "cell_type": "markdown",
   "id": "57fade3d-e80e-4e64-a814-f6975548cf95",
   "metadata": {},
   "source": [
    "<u>**Вывод:**</u> пользователи представлены в 8 городах, самое большое число пользователей в **Пятигорске** (**219 пользователей** или **14%**), наименьшее - в **Москве** (**168 пользователей** или **11%**). Число пользователей в городах не сильно отличается друг от друга."
   ]
  },
  {
   "cell_type": "markdown",
   "id": "45328daa-2151-4a22-94aa-07ed7c869757",
   "metadata": {},
   "source": [
    "### 3.2 Соотношение пользователей с подпиской и без подписки <a id=\"3.2\"></a>"
   ]
  },
  {
   "cell_type": "code",
   "execution_count": 31,
   "id": "7be5a08c-c0b0-4025-b137-4a0679bff110",
   "metadata": {
    "scrolled": true
   },
   "outputs": [
    {
     "data": {
      "text/plain": [
       "free     835\n",
       "ultra    699\n",
       "Name: subscription_type, dtype: int64"
      ]
     },
     "execution_count": 31,
     "metadata": {},
     "output_type": "execute_result"
    }
   ],
   "source": [
    "subscription_count = data_users['subscription_type'].value_counts()\n",
    "\n",
    "subscription_count"
   ]
  },
  {
   "cell_type": "code",
   "execution_count": 32,
   "id": "c36b06cb-3c5a-467e-bad0-7172bfa2b476",
   "metadata": {},
   "outputs": [
    {
     "data": {
      "image/png": "[encoded data removed]",
      "text/plain": [
       "<Figure size 648x648 with 1 Axes>"
      ]
     },
     "metadata": {},
     "output_type": "display_data"
    }
   ],
   "source": [
    "(subscription_count.plot(kind='pie',\n",
    "                 y='subscription_type', \n",
    "                 figsize=(9,9), \n",
    "                 label='',\n",
    "                 autopct='%1.0f%%',\n",
    "                 colors=['pink','yellow'],\n",
    "                 title='Соотношение пользователей с подпиской \"Ultra\" и без подписки')\n",
    ")\n",
    "plt.show()"
   ]
  },
  {
   "cell_type": "markdown",
   "id": "96c5ed3a-ba84-483d-aaec-b984a1d7fda2",
   "metadata": {},
   "source": [
    "<u>**Вывод:**</u> число пользователей **без подписки** - **835 чел.** или **54%**), с подпиской **\"Ultra\"** - **699 чел.** или **46%**)."
   ]
  },
  {
   "cell_type": "markdown",
   "id": "02515e53-ba6b-4caf-a4a3-a777a02488f4",
   "metadata": {},
   "source": [
    "### 3.3 Возраст пользователей <a id=\"3.3\"></a>"
   ]
  },
  {
   "cell_type": "markdown",
   "id": "0c9da4e4-67f6-4b5c-bc96-58bac4d1f4e0",
   "metadata": {},
   "source": [
    "**(1) Выведем данные описательной статистики**"
   ]
  },
  {
   "cell_type": "code",
   "execution_count": 33,
   "id": "6d012a4a-54df-4d3a-a03c-183c5c55f655",
   "metadata": {},
   "outputs": [
    {
     "name": "stdout",
     "output_type": "stream",
     "text": [
      "Описательная статистика:\n"
     ]
    },
    {
     "data": {
      "text/plain": [
       "count   1,534.00\n",
       "mean       24.90\n",
       "std         4.57\n",
       "min        12.00\n",
       "25%        22.00\n",
       "50%        25.00\n",
       "75%        28.00\n",
       "max        43.00\n",
       "Name: age, dtype: float64"
      ]
     },
     "execution_count": 33,
     "metadata": {},
     "output_type": "execute_result"
    }
   ],
   "source": [
    "print('Описательная статистика:')\n",
    "data_users['age'].describe()"
   ]
  },
  {
   "cell_type": "markdown",
   "id": "d131ed6b-22df-4aec-80f2-5c06f5e64137",
   "metadata": {},
   "source": [
    "**(2) Построим гистограмму**"
   ]
  },
  {
   "cell_type": "code",
   "execution_count": 34,
   "id": "2cf77f9f-d636-424c-8932-0e90a609d3a2",
   "metadata": {},
   "outputs": [
    {
     "data": {
      "image/png": "[encoded data removed]",
      "text/plain": [
       "<Figure size 864x432 with 1 Axes>"
      ]
     },
     "metadata": {
      "needs_background": "light"
     },
     "output_type": "display_data"
    }
   ],
   "source": [
    "(data_users.plot(kind=\"hist\",\n",
    "                 y='age',\n",
    "                 bins=30,\n",
    "                 figsize=(12,6),\n",
    "                 grid=True,\n",
    "                 title='Распределение пользователей по возрасту')\n",
    ")\n",
    "plt.xlabel('Возраст')\n",
    "plt.ylabel('Число пользователей')\n",
    "plt.show()"
   ]
  },
  {
   "cell_type": "markdown",
   "id": "493cd9d7-9979-430e-a9ab-d8ac91355520",
   "metadata": {},
   "source": [
    "На графике представлена гистограмма с нормальным распределением."
   ]
  },
  {
   "cell_type": "markdown",
   "id": "9536e11a-cd35-4fb7-b736-c68ab5f7e141",
   "metadata": {},
   "source": [
    "**(3) Построим диаграмму размаха**"
   ]
  },
  {
   "cell_type": "code",
   "execution_count": 35,
   "id": "4d28a6e1-b59e-416f-8024-d14d148d3a19",
   "metadata": {},
   "outputs": [
    {
     "data": {
      "image/png": "[encoded data removed]",
      "text/plain": [
       "<Figure size 864x432 with 1 Axes>"
      ]
     },
     "metadata": {
      "needs_background": "light"
     },
     "output_type": "display_data"
    }
   ],
   "source": [
    "data_users.boxplot(column=['age'], figsize=(12,6), grid=True)\n",
    "\n",
    "plt.title('Диаграмма размаха возраста пользователей')\n",
    "plt.ylabel('Возраст пользователей')\n",
    "plt.show()"
   ]
  },
  {
   "cell_type": "markdown",
   "id": "f8ec06c7-194c-4fb5-9405-cd9ed77db77d",
   "metadata": {},
   "source": [
    "<a id=\"first_summary_age\"></a>\n",
    "<u>**Промежуточный вывод:**</u> разброс пользователей по возрасту довольно широкий - **от 12 до 43 лет**. На диаграмме размаха несколько значений находятся за пределами 1,5 межквартильного размаха - 1,5 IQR), но в случае с возрастными пользователями эти значения нельязя считать выбросами, так как 40-летний человек вполне может взять в аренду самокат. **Сомнения вызывают пользователи до 18 лет**, так как у многих сервисов прокатов есть огранчения для данной группы пользователей. **Необходимо уточнить в условиях аренды минимальный возраст и допущения, согласно которым лицо, не достигшее 18-летнего возраста имеет право арендовать самокат**. **Пока что для анализа возьмём пользователей всех возрастов** и для наглядной интерпретации разделим их на следующие категории:\n",
    "\n",
    "* до 18 лет;\n",
    "* от 18 до 25 лет;\n",
    "* от 26 до 35 лет;\n",
    "* старше 35 лет."
   ]
  },
  {
   "cell_type": "markdown",
   "id": "a5a9b133-4956-4418-ae25-98400b2239b4",
   "metadata": {},
   "source": [
    "**(4) Напишем функцию *'age_category'***"
   ]
  },
  {
   "cell_type": "code",
   "execution_count": 36,
   "id": "76762c88-b129-4378-b8f1-5ce5d712b2ab",
   "metadata": {},
   "outputs": [],
   "source": [
    "def age_category(row):\n",
    "    age = row['age']\n",
    "    if age < 18:\n",
    "        return 'до 18 лет'\n",
    "    if age >= 18 and age <= 25:\n",
    "        return 'от 18 до 25 лет'\n",
    "    if age >= 26 and age <= 35:\n",
    "        return 'от 26 до 35 лет'\n",
    "    return 'старше 35 лет'\n",
    "\n",
    "# (5) добавим новый столбец 'age_category' в датафрейм\n",
    "\n",
    "data_users['age_category'] = data_users.apply(age_category, axis=1)"
   ]
  },
  {
   "cell_type": "markdown",
   "id": "b349e631-dc44-47e2-95d4-ddb5cc4be833",
   "metadata": {},
   "source": [
    "Проанализируем данные:"
   ]
  },
  {
   "cell_type": "code",
   "execution_count": 37,
   "id": "3b806f1b-0f39-4442-a8ce-8f7be915f31e",
   "metadata": {},
   "outputs": [
    {
     "data": {
      "text/plain": [
       "от 18 до 25 лет    782\n",
       "от 26 до 35 лет    660\n",
       "до 18 лет           79\n",
       "старше 35 лет       13\n",
       "Name: age_category, dtype: int64"
      ]
     },
     "execution_count": 37,
     "metadata": {},
     "output_type": "execute_result"
    }
   ],
   "source": [
    "age_count = data_users['age_category'].value_counts()\n",
    "\n",
    "age_count"
   ]
  },
  {
   "cell_type": "code",
   "execution_count": 38,
   "id": "2ee447ce-9a87-4a82-adde-05a5871b4897",
   "metadata": {},
   "outputs": [
    {
     "data": {
      "image/png": "[encoded data removed]",
      "text/plain": [
       "<Figure size 648x648 with 1 Axes>"
      ]
     },
     "metadata": {},
     "output_type": "display_data"
    }
   ],
   "source": [
    "(age_count.plot(kind='pie',\n",
    "                 y='age_category', \n",
    "                 figsize=(9,9), \n",
    "                 label='',\n",
    "                 autopct='%1.0f%%',\n",
    "                 colors=['cyan','pink','lightgreen','yellow'],\n",
    "                 title='Соотношение пользователей по возрасту')\n",
    ")\n",
    "plt.show()"
   ]
  },
  {
   "cell_type": "markdown",
   "id": "f4b10250-971f-4d32-93f7-f99cce5058d9",
   "metadata": {},
   "source": [
    "<u>**Вывод:**</u> **94%** пользователей составляют лица **от 18 до 35 лет** (категория от 18 до 25 лет и категория о 26 до 35 лет), то есть данную возрастную группу можно считать целевой аудиторией сервиса. Пользователей **старше 35 лет** всего **1%**, это говорит нам о том, что у людей средних лет и старшего поколения самокатшеринг не пользуется спросом. Также есть **5% категория подростков до 18 лет**, которая подлежит проверке из-за причин, описанных выше (см. [промежуточный вывод](#first_summary_age))."
   ]
  },
  {
   "cell_type": "markdown",
   "id": "13cbd7c1-5e84-47eb-a65e-b884be337afc",
   "metadata": {},
   "source": [
    "### 3.4 Расстояние, которое пользователь преодолел за одну поездку <a id=\"3.4\"></a>"
   ]
  },
  {
   "cell_type": "markdown",
   "id": "fa28ebc6-4442-4cdd-9699-41a81df63f7b",
   "metadata": {},
   "source": [
    "**(1) Выведем данные описательной статистики**"
   ]
  },
  {
   "cell_type": "code",
   "execution_count": 39,
   "id": "3af9ce45-1983-436a-9725-402aa5919c46",
   "metadata": {},
   "outputs": [
    {
     "name": "stdout",
     "output_type": "stream",
     "text": [
      "Описательная статистика:\n"
     ]
    },
    {
     "data": {
      "text/plain": [
       "count   18,068.00\n",
       "mean     3,070.66\n",
       "std      1,116.83\n",
       "min          0.86\n",
       "25%      2,543.23\n",
       "50%      3,133.61\n",
       "75%      3,776.22\n",
       "max      7,211.01\n",
       "Name: distance, dtype: float64"
      ]
     },
     "execution_count": 39,
     "metadata": {},
     "output_type": "execute_result"
    }
   ],
   "source": [
    "print('Описательная статистика:')\n",
    "data_rides['distance'].describe()"
   ]
  },
  {
   "cell_type": "markdown",
   "id": "81d3c632-ff2a-400e-b1c9-722f80d083a5",
   "metadata": {},
   "source": [
    "**(2) Построим гистограмму**"
   ]
  },
  {
   "cell_type": "code",
   "execution_count": 40,
   "id": "3130f984-1c86-4c00-bd1e-83e4612dba30",
   "metadata": {},
   "outputs": [
    {
     "data": {
      "image/png": "[encoded data removed]",
      "text/plain": [
       "<Figure size 864x432 with 1 Axes>"
      ]
     },
     "metadata": {
      "needs_background": "light"
     },
     "output_type": "display_data"
    }
   ],
   "source": [
    "(data_rides.plot(kind=\"hist\",\n",
    "                 y='distance',\n",
    "                 bins=100,\n",
    "                 figsize=(12,6),\n",
    "                 grid=True,\n",
    "                 title='Распределение расстояния одной поездки')\n",
    ")\n",
    "plt.xlabel('Расстояние одной поездки (в метрах)')\n",
    "plt.ylabel('Число пользователей')\n",
    "plt.show()"
   ]
  },
  {
   "cell_type": "markdown",
   "id": "94a4d06b-0ac9-43ae-9208-6edf28a54e45",
   "metadata": {},
   "source": [
    "На графике представлена гистограмма с бимодальным распределением (наблюдаются 2 пика)."
   ]
  },
  {
   "cell_type": "markdown",
   "id": "df0fadfe-2699-4ae0-ac53-21b53df587f0",
   "metadata": {},
   "source": [
    "**(3) Построим диаграмму размаха**"
   ]
  },
  {
   "cell_type": "code",
   "execution_count": 41,
   "id": "7ec3a494-cc08-4713-bd17-6a6831c10e10",
   "metadata": {},
   "outputs": [
    {
     "data": {
      "image/png": "[encoded data removed]",
      "text/plain": [
       "<Figure size 864x432 with 1 Axes>"
      ]
     },
     "metadata": {
      "needs_background": "light"
     },
     "output_type": "display_data"
    }
   ],
   "source": [
    "data_rides.boxplot(column=['distance'], figsize=(12,6), grid=True)\n",
    "\n",
    "plt.title('Диаграмма размаха расстояния одной поездки')\n",
    "plt.ylabel('Расстояние одной поездки (в метрах)')\n",
    "plt.show()"
   ]
  },
  {
   "cell_type": "markdown",
   "id": "f6e5e99d-f120-4aaf-b9dd-45e672d6795c",
   "metadata": {},
   "source": [
    "**(4) Топ-10 самых коротких поездок по расстоянию**"
   ]
  },
  {
   "cell_type": "code",
   "execution_count": 42,
   "id": "2e7910fc-6239-41d9-bf01-0a77d2b2baef",
   "metadata": {},
   "outputs": [
    {
     "name": "stdout",
     "output_type": "stream",
     "text": [
      "Самые короткие поездки по расстоянию:\n"
     ]
    },
    {
     "data": {
      "text/plain": [
       "11555    0.86\n",
       "9541     2.57\n",
       "13690    4.33\n",
       "8658     6.78\n",
       "7841     7.10\n",
       "8906    11.28\n",
       "8324    12.23\n",
       "13940   15.00\n",
       "15626   15.37\n",
       "11862   15.63\n",
       "Name: distance, dtype: float64"
      ]
     },
     "execution_count": 42,
     "metadata": {},
     "output_type": "execute_result"
    }
   ],
   "source": [
    "short_rides = data_rides['distance'].sort_values(ascending=True).head(10)\n",
    "print('Самые короткие поездки по расстоянию:')\n",
    "short_rides"
   ]
  },
  {
   "cell_type": "markdown",
   "id": "92deca46-99de-4e82-9485-c7010ecab0c6",
   "metadata": {},
   "source": [
    "**(5) Топ-10 самых длинных поездок по расстоянию**"
   ]
  },
  {
   "cell_type": "code",
   "execution_count": 43,
   "id": "69415909-3fd5-4cbe-b800-3182fb4980bb",
   "metadata": {},
   "outputs": [
    {
     "name": "stdout",
     "output_type": "stream",
     "text": [
      "Самые длинные поездки по расстоянию:\n"
     ]
    },
    {
     "data": {
      "text/plain": [
       "16309   7,211.01\n",
       "16484   7,066.00\n",
       "15580   6,908.49\n",
       "17171   6,760.94\n",
       "17242   6,724.93\n",
       "10341   6,671.97\n",
       "11385   6,601.20\n",
       "12086   6,538.94\n",
       "10915   6,535.39\n",
       "11319   6,503.60\n",
       "Name: distance, dtype: float64"
      ]
     },
     "execution_count": 43,
     "metadata": {},
     "output_type": "execute_result"
    }
   ],
   "source": [
    "long_rides = data_rides['distance'].sort_values(ascending=False).head(10)\n",
    "print('Самые длинные поездки по расстоянию:')\n",
    "long_rides"
   ]
  },
  {
   "cell_type": "markdown",
   "id": "7831f301-6975-4e8c-8e37-cf4ff077847c",
   "metadata": {},
   "source": [
    "<u>**Вывод:**</u> разброс данных по расстоянию одной поездки  - **от 0,86 до 7 211 метров (7,2 км)**. На диаграмме размаха множество значений находятся за пределами 1,5 межквартильного размаха - 1,5 IQR), но они не являются выбросами и будут использоваться для анализа, так как расстояния вполне адекватные. В основном пользователи проезжают **от 2,5 до 4 км**. Очень короткие поездки можно объянсить либо сбоем геолокации при отсутсвии какого-либо движения, либо решением пользователя сразу завершить поездку после начала аренды (из-за неисправности самоката, из-за внезапно начавшегося дождя, из-за появление другого вида транспорта для передвижения и т.д.)."
   ]
  },
  {
   "cell_type": "markdown",
   "id": "f7b0074a-e2d8-47cd-8f94-d8f9bd508810",
   "metadata": {},
   "source": [
    "### 3.5 Продолжительность поездок <a id=\"3.5\"></a>"
   ]
  },
  {
   "cell_type": "markdown",
   "id": "3ab1f599-13ad-4374-bb6e-ebfc70e8bd5b",
   "metadata": {},
   "source": [
    "**(1) Выведем данные описательной статистики**"
   ]
  },
  {
   "cell_type": "code",
   "execution_count": 44,
   "id": "fe4cb43d-7e07-4683-a3e9-820cf548a0a2",
   "metadata": {},
   "outputs": [
    {
     "name": "stdout",
     "output_type": "stream",
     "text": [
      "Описательная статистика:\n"
     ]
    },
    {
     "data": {
      "text/plain": [
       "count   18,068.00\n",
       "mean        17.81\n",
       "std          6.09\n",
       "min          0.50\n",
       "25%         13.60\n",
       "50%         17.68\n",
       "75%         21.72\n",
       "max         40.82\n",
       "Name: duration, dtype: float64"
      ]
     },
     "execution_count": 44,
     "metadata": {},
     "output_type": "execute_result"
    }
   ],
   "source": [
    "print('Описательная статистика:')\n",
    "data_rides['duration'].describe()"
   ]
  },
  {
   "cell_type": "markdown",
   "id": "fcd2b50c-5e7c-41c9-b0eb-d0018f74a6da",
   "metadata": {},
   "source": [
    "**(2) Построим гистограмму**"
   ]
  },
  {
   "cell_type": "code",
   "execution_count": 45,
   "id": "a71e1c13-b6ee-49c0-a700-afa73e609a27",
   "metadata": {
    "tags": []
   },
   "outputs": [
    {
     "data": {
      "image/png": "[encoded data removed]",
      "text/plain": [
       "<Figure size 864x432 with 1 Axes>"
      ]
     },
     "metadata": {
      "needs_background": "light"
     },
     "output_type": "display_data"
    }
   ],
   "source": [
    "(data_rides.plot(kind=\"hist\",\n",
    "                 y='duration',\n",
    "                 bins=100,\n",
    "                 figsize=(12,6),\n",
    "                 grid=True,\n",
    "                 title='Распределение времени одной поездки')\n",
    ")\n",
    "plt.xlabel('Время одной поездки (в минутах)')\n",
    "plt.ylabel('Число пользователей')\n",
    "plt.show()"
   ]
  },
  {
   "cell_type": "markdown",
   "id": "d76a7f2e-5192-440a-b0ce-ca3e506c457c",
   "metadata": {},
   "source": [
    "На графике представлена гистограмма с нормальным распределением, имеющая один выброс."
   ]
  },
  {
   "cell_type": "markdown",
   "id": "5df15278-7504-4099-9395-c68db7eabf78",
   "metadata": {},
   "source": [
    "**(3) Построим диаграмму размаха**"
   ]
  },
  {
   "cell_type": "code",
   "execution_count": 46,
   "id": "1227f6b7-6513-4709-a4a9-128362465859",
   "metadata": {
    "tags": []
   },
   "outputs": [
    {
     "data": {
      "image/png": "[encoded data removed]",
      "text/plain": [
       "<Figure size 864x432 with 1 Axes>"
      ]
     },
     "metadata": {
      "needs_background": "light"
     },
     "output_type": "display_data"
    }
   ],
   "source": [
    "data_rides.boxplot(column=['duration'], figsize=(12,6), grid=True)\n",
    "\n",
    "plt.title('Диаграмма размаха времени одной поездки')\n",
    "plt.ylabel('Время одной поездки (в минутах)')\n",
    "plt.show()"
   ]
  },
  {
   "cell_type": "markdown",
   "id": "49b64628-e3ac-4cb4-88df-b3955bad40ef",
   "metadata": {},
   "source": [
    "**(4) Топ-10 самых коротких поездок по времени**"
   ]
  },
  {
   "cell_type": "code",
   "execution_count": 47,
   "id": "943ec434-75a5-4aea-bcc1-07716decc2fc",
   "metadata": {},
   "outputs": [
    {
     "name": "stdout",
     "output_type": "stream",
     "text": [
      "Самые короткие поездки по времени:\n"
     ]
    },
    {
     "data": {
      "text/plain": [
       "12013   0.50\n",
       "17314   0.50\n",
       "15029   0.50\n",
       "7437    0.50\n",
       "12967   0.50\n",
       "15015   0.50\n",
       "13012   0.50\n",
       "7508    0.50\n",
       "16589   0.50\n",
       "9049    0.50\n",
       "Name: duration, dtype: float64"
      ]
     },
     "execution_count": 47,
     "metadata": {},
     "output_type": "execute_result"
    }
   ],
   "source": [
    "short_time_rides = data_rides['duration'].sort_values(ascending=True).head(10)\n",
    "print('Самые короткие поездки по времени:')\n",
    "short_time_rides"
   ]
  },
  {
   "cell_type": "markdown",
   "id": "8c078796-1edf-445c-9220-7dc4e831549e",
   "metadata": {},
   "source": [
    "**(5) Топ-10 самых длинных поездок по времени**"
   ]
  },
  {
   "cell_type": "code",
   "execution_count": 48,
   "id": "c8b089bf-addd-474d-9f65-2826b3db4ca9",
   "metadata": {},
   "outputs": [
    {
     "name": "stdout",
     "output_type": "stream",
     "text": [
      "Самые длинные поездки по времени:\n"
     ]
    },
    {
     "data": {
      "text/plain": [
       "4215   40.82\n",
       "4709   39.87\n",
       "2623   39.53\n",
       "1998   38.35\n",
       "6453   38.27\n",
       "143    38.13\n",
       "3729   37.01\n",
       "499    36.91\n",
       "6348   36.81\n",
       "4653   36.62\n",
       "Name: duration, dtype: float64"
      ]
     },
     "execution_count": 48,
     "metadata": {},
     "output_type": "execute_result"
    }
   ],
   "source": [
    "long_time_rides = data_rides['duration'].sort_values(ascending=False).head(10)\n",
    "print('Самые длинные поездки по времени:')\n",
    "long_time_rides"
   ]
  },
  {
   "cell_type": "markdown",
   "id": "ca46832d-a21d-49cd-840c-53b268dc00bd",
   "metadata": {},
   "source": [
    "**(6) Дополнительная гистограмма для анализа коротких поездок**"
   ]
  },
  {
   "cell_type": "code",
   "execution_count": 49,
   "id": "7984a8f7-01c3-47f9-a23b-e76285585b0f",
   "metadata": {},
   "outputs": [
    {
     "data": {
      "image/png": "[encoded data removed]",
      "text/plain": [
       "<Figure size 864x432 with 1 Axes>"
      ]
     },
     "metadata": {
      "needs_background": "light"
     },
     "output_type": "display_data"
    }
   ],
   "source": [
    "(data_rides.plot(kind=\"hist\",\n",
    "                 y='duration',\n",
    "                 bins=100,\n",
    "                 range=(0,5),\n",
    "                 figsize=(12,6),\n",
    "                 grid=True,\n",
    "                 title='Распределение времени одной поездки')\n",
    ")\n",
    "plt.xlabel('Время одной поездки (в минутах)')\n",
    "plt.ylabel('Число пользователей')\n",
    "plt.show()"
   ]
  },
  {
   "cell_type": "markdown",
   "id": "db4c8c6a-ceb3-4476-ba81-c3e3ce7e1071",
   "metadata": {},
   "source": [
    "<u>**Промежуточный вывод:**</u> разброс данных по времени одной поездки  - **от 0,5 до 41 минуты**. На диаграмме размаха множество значений находятся за пределами 1,5 межквартильного размаха - 1,5 IQR), но **выбросом будем считать одно значение**, которое находится за пределами нижней границы 1,5 IQR. Речь идёт о значении **0,5**, которое встречается более 90 раз, что выглядит крайне странно. Даже, если 90 пользователей передумали ехать на самокате, **время аренды у них не может быть одинаковым**, тут либо имеет место технический сбой, либо это особенность приложения, которое по умолчанию фиксирует время в **0,5 минут**, если поездка была сразу завершена после её начала. Данный вопрос необходимо уточнить у разработчиков, но пока строки с этим значением будут удалены из анализа."
   ]
  },
  {
   "cell_type": "markdown",
   "id": "8bef16eb-40e9-4fc2-afb1-fdb1a5c23263",
   "metadata": {},
   "source": [
    "**(7) Сделаем срез данных и выведем обновлённую описательную статистику**"
   ]
  },
  {
   "cell_type": "code",
   "execution_count": 50,
   "id": "2f66650b-795a-4e48-ba8b-3524e52d034b",
   "metadata": {},
   "outputs": [
    {
     "data": {
      "text/plain": [
       "count   17,973.00\n",
       "mean        17.90\n",
       "std          5.98\n",
       "min          2.04\n",
       "25%         13.67\n",
       "50%         17.71\n",
       "75%         21.75\n",
       "max         40.82\n",
       "Name: duration, dtype: float64"
      ]
     },
     "execution_count": 50,
     "metadata": {},
     "output_type": "execute_result"
    }
   ],
   "source": [
    "data_rides = data_rides.query('duration != 0.5').reset_index(drop=True)\n",
    "data_rides['duration'].describe()"
   ]
  },
  {
   "cell_type": "markdown",
   "id": "3657dd35-cc3c-4d07-8002-4c60078f6a24",
   "metadata": {},
   "source": [
    "**(8) Построим новую гистограмму**"
   ]
  },
  {
   "cell_type": "code",
   "execution_count": 51,
   "id": "7eb2bb5a-8cec-4da3-9d80-a8273f916514",
   "metadata": {},
   "outputs": [
    {
     "data": {
      "image/png": "[encoded data removed]",
      "text/plain": [
       "<Figure size 864x432 with 1 Axes>"
      ]
     },
     "metadata": {
      "needs_background": "light"
     },
     "output_type": "display_data"
    }
   ],
   "source": [
    "(data_rides.plot(kind=\"hist\",\n",
    "                 y='duration',\n",
    "                 bins=100,\n",
    "                 figsize=(12,6),\n",
    "                 grid=True,\n",
    "                 title='Распределение времени одной поездки')\n",
    ")\n",
    "plt.xlabel('Время одной поездки (в минутах)')\n",
    "plt.ylabel('Число пользователей')\n",
    "plt.show()"
   ]
  },
  {
   "cell_type": "markdown",
   "id": "aec2cb22-7332-4cbd-8e59-6235468ab5cb",
   "metadata": {},
   "source": [
    "На графике представлена гистограмма с нормальным распределением и одним ярковыраженным пиком."
   ]
  },
  {
   "cell_type": "markdown",
   "id": "66e9d31f-295f-4ed6-95c0-c793e303331b",
   "metadata": {},
   "source": [
    "**(9) Построим новую диаграмму размаха**"
   ]
  },
  {
   "cell_type": "code",
   "execution_count": 52,
   "id": "cfb3dae1-77e3-486d-b6f1-a866b8ca5575",
   "metadata": {},
   "outputs": [
    {
     "data": {
      "image/png": "[encoded data removed]",
      "text/plain": [
       "<Figure size 864x432 with 1 Axes>"
      ]
     },
     "metadata": {
      "needs_background": "light"
     },
     "output_type": "display_data"
    }
   ],
   "source": [
    "data_rides.boxplot(column=['duration'], figsize=(12,6), grid=True)\n",
    "plt.show()"
   ]
  },
  {
   "cell_type": "markdown",
   "id": "a34994bb-c79b-4c6b-9e36-2385493baa7b",
   "metadata": {},
   "source": [
    "**(10) Обновлённый топ-10 самых коротких поездок по времени**"
   ]
  },
  {
   "cell_type": "code",
   "execution_count": 53,
   "id": "d485a9fc-3179-476f-b7a8-f19c3c2ae178",
   "metadata": {},
   "outputs": [
    {
     "name": "stdout",
     "output_type": "stream",
     "text": [
      "Самые короткие поездки по времени:\n"
     ]
    },
    {
     "data": {
      "text/plain": [
       "8885    2.04\n",
       "6688    2.05\n",
       "13249   2.18\n",
       "17217   2.22\n",
       "14017   2.22\n",
       "14002   2.23\n",
       "15531   2.25\n",
       "6796    2.29\n",
       "11965   2.32\n",
       "10258   2.32\n",
       "Name: duration, dtype: float64"
      ]
     },
     "execution_count": 53,
     "metadata": {},
     "output_type": "execute_result"
    }
   ],
   "source": [
    "short_time_rides_new = data_rides['duration'].sort_values(ascending=True).head(10)\n",
    "print('Самые короткие поездки по времени:')\n",
    "short_time_rides_new"
   ]
  },
  {
   "cell_type": "markdown",
   "id": "67c6dedd-c590-4b0d-a41e-4abf6180b856",
   "metadata": {},
   "source": [
    "**(11) Обновлённый топ-10 самых длинных поездок по времени**"
   ]
  },
  {
   "cell_type": "code",
   "execution_count": 54,
   "id": "67b851d2-b3de-44bf-a994-bbd83b942a6b",
   "metadata": {},
   "outputs": [
    {
     "name": "stdout",
     "output_type": "stream",
     "text": [
      "Самые длинные поездки по времени:\n"
     ]
    },
    {
     "data": {
      "text/plain": [
       "4215   40.82\n",
       "4709   39.87\n",
       "2623   39.53\n",
       "1998   38.35\n",
       "6453   38.27\n",
       "143    38.13\n",
       "3729   37.01\n",
       "499    36.91\n",
       "6348   36.81\n",
       "4653   36.62\n",
       "Name: duration, dtype: float64"
      ]
     },
     "execution_count": 54,
     "metadata": {},
     "output_type": "execute_result"
    }
   ],
   "source": [
    "long_time_rides = data_rides['duration'].sort_values(ascending=False).head(10)\n",
    "print('Самые длинные поездки по времени:')\n",
    "long_time_rides"
   ]
  },
  {
   "cell_type": "markdown",
   "id": "63113e47-3697-44de-859d-8ea2e20ae513",
   "metadata": {},
   "source": [
    "<u>**Вывод:**</u> разброс данных по времени одной поездки  - **от 2 до 41 минуты**. В основном одна поездка занимает **от 12 до 22 минут**. **Количество поездок более 35 минут - большая редкость**."
   ]
  },
  {
   "cell_type": "markdown",
   "id": "9625175c-a12a-4239-9ce2-ea29da7ab9fb",
   "metadata": {},
   "source": [
    "<a id=\"researchresults\"></a>\n",
    "### <u>**Результаты исследовательского анализа данных**</u>"
   ]
  },
  {
   "cell_type": "markdown",
   "id": "58ff5113-b390-4b6f-87f1-96427d969e31",
   "metadata": {},
   "source": [
    "1. Пользователи представлены в 8 городах, самое большое число пользователей в **Пятигорске** (**219 пользователей** или **14%**), наименьшее - в **Москве** (**168 пользователей** или **11%**)."
   ]
  },
  {
   "cell_type": "markdown",
   "id": "13c07695-1d67-4f26-b58e-d02a07eafa84",
   "metadata": {},
   "source": [
    "2. Число пользователей **без подписки** - **835 чел.** или **54%**), с подпиской **\"Ultra\"** - **699 чел.** или **46%**)."
   ]
  },
  {
   "cell_type": "markdown",
   "id": "6f88be00-74e8-4b8d-9786-c172bc16e369",
   "metadata": {},
   "source": [
    "3. **94%** пользователей составляют лица **от 18 до 35 лет** (категория от 18 до 25 лет и категория о 26 до 35 лет), то есть данную возрастную группу можно считать целевой аудиторией сервиса. Пользователей **старше 35 лет** всего **1%**, это говорит нам о том, что у людей средних лет и старшего поколения самокатшеринг не пользуется спросом. Также есть **5% категория подростков до 18 лет**, которая подлежит проверке из-за причин, описанных выше (см. [промежуточный вывод](#first_summary_age))."
   ]
  },
  {
   "cell_type": "markdown",
   "id": "759cea56-6de1-4351-a165-3e40ca8a35c6",
   "metadata": {},
   "source": [
    "4. За одну поездку пользователи обычно проезжают **от 2,5 до 4 км**."
   ]
  },
  {
   "cell_type": "markdown",
   "id": "98c1e100-1979-44c0-b46c-ebd4d2925d39",
   "metadata": {},
   "source": [
    "5. Одна поездка занимает **от 12 до 22 минут**."
   ]
  },
  {
   "cell_type": "code",
   "execution_count": 55,
   "id": "406a4107-7125-457a-b30e-60b69ddea8f9",
   "metadata": {},
   "outputs": [
    {
     "name": "stdout",
     "output_type": "stream",
     "text": [
      "0.99\n",
      "\n",
      "Данные можно использовать для дальнейшего анализа\n"
     ]
    }
   ],
   "source": [
    "# проверка датасета data_rides после фильтрации\n",
    "\n",
    "print(round(data_rides.shape[0] / size_rides, 2))\n",
    "      \n",
    "if round(data_rides.shape[0] / size_rides, 2) >= 0.9:\n",
    "    print('\\nДанные можно использовать для дальнейшего анализа')\n",
    "else:\n",
    "    print('\\nДанные нельзя использовать для дальнейшего анализа')"
   ]
  },
  {
   "cell_type": "markdown",
   "id": "4ef51331",
   "metadata": {},
   "source": [
    "## Шаг 4. Объединение данных"
   ]
  },
  {
   "cell_type": "markdown",
   "id": "424025f6-ed29-441a-98e1-bd524b5fc2ee",
   "metadata": {},
   "source": [
    "### 4.1 Объединение данных о пользователях, поездках и подписках в один датафрейм"
   ]
  },
  {
   "cell_type": "markdown",
   "id": "bd999b32-ae5b-413f-aca4-9b14495a231c",
   "metadata": {},
   "source": [
    "**(1) Объединим данные о пользователях, поездках и подписках в один датафрейм**"
   ]
  },
  {
   "cell_type": "code",
   "execution_count": 56,
   "id": "ec0bb7bd-df52-4117-8dec-9f6c25daeed3",
   "metadata": {},
   "outputs": [
    {
     "data": {
      "text/html": [
       "<div>\n",
       "<style scoped>\n",
       "    .dataframe tbody tr th:only-of-type {\n",
       "        vertical-align: middle;\n",
       "    }\n",
       "\n",
       "    .dataframe tbody tr th {\n",
       "        vertical-align: top;\n",
       "    }\n",
       "\n",
       "    .dataframe thead th {\n",
       "        text-align: right;\n",
       "    }\n",
       "</style>\n",
       "<table border=\"1\" class=\"dataframe\">\n",
       "  <thead>\n",
       "    <tr style=\"text-align: right;\">\n",
       "      <th></th>\n",
       "      <th>user_id</th>\n",
       "      <th>name</th>\n",
       "      <th>age</th>\n",
       "      <th>city</th>\n",
       "      <th>subscription_type</th>\n",
       "      <th>age_category</th>\n",
       "      <th>distance</th>\n",
       "      <th>duration</th>\n",
       "      <th>date</th>\n",
       "      <th>month</th>\n",
       "      <th>year</th>\n",
       "      <th>minute_price</th>\n",
       "      <th>start_ride_price</th>\n",
       "      <th>subscription_fee</th>\n",
       "    </tr>\n",
       "  </thead>\n",
       "  <tbody>\n",
       "    <tr>\n",
       "      <th>0</th>\n",
       "      <td>1</td>\n",
       "      <td>Кира</td>\n",
       "      <td>22</td>\n",
       "      <td>Тюмень</td>\n",
       "      <td>ultra</td>\n",
       "      <td>от 18 до 25 лет</td>\n",
       "      <td>4,409.92</td>\n",
       "      <td>25.60</td>\n",
       "      <td>2021-01-01</td>\n",
       "      <td>1</td>\n",
       "      <td>2021</td>\n",
       "      <td>6</td>\n",
       "      <td>0</td>\n",
       "      <td>199</td>\n",
       "    </tr>\n",
       "    <tr>\n",
       "      <th>1</th>\n",
       "      <td>1</td>\n",
       "      <td>Кира</td>\n",
       "      <td>22</td>\n",
       "      <td>Тюмень</td>\n",
       "      <td>ultra</td>\n",
       "      <td>от 18 до 25 лет</td>\n",
       "      <td>2,617.59</td>\n",
       "      <td>15.82</td>\n",
       "      <td>2021-01-18</td>\n",
       "      <td>1</td>\n",
       "      <td>2021</td>\n",
       "      <td>6</td>\n",
       "      <td>0</td>\n",
       "      <td>199</td>\n",
       "    </tr>\n",
       "    <tr>\n",
       "      <th>2</th>\n",
       "      <td>1</td>\n",
       "      <td>Кира</td>\n",
       "      <td>22</td>\n",
       "      <td>Тюмень</td>\n",
       "      <td>ultra</td>\n",
       "      <td>от 18 до 25 лет</td>\n",
       "      <td>754.16</td>\n",
       "      <td>6.23</td>\n",
       "      <td>2021-04-20</td>\n",
       "      <td>4</td>\n",
       "      <td>2021</td>\n",
       "      <td>6</td>\n",
       "      <td>0</td>\n",
       "      <td>199</td>\n",
       "    </tr>\n",
       "    <tr>\n",
       "      <th>3</th>\n",
       "      <td>1</td>\n",
       "      <td>Кира</td>\n",
       "      <td>22</td>\n",
       "      <td>Тюмень</td>\n",
       "      <td>ultra</td>\n",
       "      <td>от 18 до 25 лет</td>\n",
       "      <td>2,694.78</td>\n",
       "      <td>18.51</td>\n",
       "      <td>2021-08-11</td>\n",
       "      <td>8</td>\n",
       "      <td>2021</td>\n",
       "      <td>6</td>\n",
       "      <td>0</td>\n",
       "      <td>199</td>\n",
       "    </tr>\n",
       "    <tr>\n",
       "      <th>4</th>\n",
       "      <td>1</td>\n",
       "      <td>Кира</td>\n",
       "      <td>22</td>\n",
       "      <td>Тюмень</td>\n",
       "      <td>ultra</td>\n",
       "      <td>от 18 до 25 лет</td>\n",
       "      <td>4,028.69</td>\n",
       "      <td>26.27</td>\n",
       "      <td>2021-08-28</td>\n",
       "      <td>8</td>\n",
       "      <td>2021</td>\n",
       "      <td>6</td>\n",
       "      <td>0</td>\n",
       "      <td>199</td>\n",
       "    </tr>\n",
       "    <tr>\n",
       "      <th>...</th>\n",
       "      <td>...</td>\n",
       "      <td>...</td>\n",
       "      <td>...</td>\n",
       "      <td>...</td>\n",
       "      <td>...</td>\n",
       "      <td>...</td>\n",
       "      <td>...</td>\n",
       "      <td>...</td>\n",
       "      <td>...</td>\n",
       "      <td>...</td>\n",
       "      <td>...</td>\n",
       "      <td>...</td>\n",
       "      <td>...</td>\n",
       "      <td>...</td>\n",
       "    </tr>\n",
       "    <tr>\n",
       "      <th>17968</th>\n",
       "      <td>1534</td>\n",
       "      <td>Альберт</td>\n",
       "      <td>25</td>\n",
       "      <td>Краснодар</td>\n",
       "      <td>free</td>\n",
       "      <td>от 18 до 25 лет</td>\n",
       "      <td>3,781.10</td>\n",
       "      <td>19.82</td>\n",
       "      <td>2021-11-04</td>\n",
       "      <td>11</td>\n",
       "      <td>2021</td>\n",
       "      <td>8</td>\n",
       "      <td>50</td>\n",
       "      <td>0</td>\n",
       "    </tr>\n",
       "    <tr>\n",
       "      <th>17969</th>\n",
       "      <td>1534</td>\n",
       "      <td>Альберт</td>\n",
       "      <td>25</td>\n",
       "      <td>Краснодар</td>\n",
       "      <td>free</td>\n",
       "      <td>от 18 до 25 лет</td>\n",
       "      <td>2,840.42</td>\n",
       "      <td>21.41</td>\n",
       "      <td>2021-11-16</td>\n",
       "      <td>11</td>\n",
       "      <td>2021</td>\n",
       "      <td>8</td>\n",
       "      <td>50</td>\n",
       "      <td>0</td>\n",
       "    </tr>\n",
       "    <tr>\n",
       "      <th>17970</th>\n",
       "      <td>1534</td>\n",
       "      <td>Альберт</td>\n",
       "      <td>25</td>\n",
       "      <td>Краснодар</td>\n",
       "      <td>free</td>\n",
       "      <td>от 18 до 25 лет</td>\n",
       "      <td>3,826.19</td>\n",
       "      <td>18.44</td>\n",
       "      <td>2021-11-18</td>\n",
       "      <td>11</td>\n",
       "      <td>2021</td>\n",
       "      <td>8</td>\n",
       "      <td>50</td>\n",
       "      <td>0</td>\n",
       "    </tr>\n",
       "    <tr>\n",
       "      <th>17971</th>\n",
       "      <td>1534</td>\n",
       "      <td>Альберт</td>\n",
       "      <td>25</td>\n",
       "      <td>Краснодар</td>\n",
       "      <td>free</td>\n",
       "      <td>от 18 до 25 лет</td>\n",
       "      <td>2,902.31</td>\n",
       "      <td>16.67</td>\n",
       "      <td>2021-11-27</td>\n",
       "      <td>11</td>\n",
       "      <td>2021</td>\n",
       "      <td>8</td>\n",
       "      <td>50</td>\n",
       "      <td>0</td>\n",
       "    </tr>\n",
       "    <tr>\n",
       "      <th>17972</th>\n",
       "      <td>1534</td>\n",
       "      <td>Альберт</td>\n",
       "      <td>25</td>\n",
       "      <td>Краснодар</td>\n",
       "      <td>free</td>\n",
       "      <td>от 18 до 25 лет</td>\n",
       "      <td>2,371.71</td>\n",
       "      <td>15.89</td>\n",
       "      <td>2021-12-29</td>\n",
       "      <td>12</td>\n",
       "      <td>2021</td>\n",
       "      <td>8</td>\n",
       "      <td>50</td>\n",
       "      <td>0</td>\n",
       "    </tr>\n",
       "  </tbody>\n",
       "</table>\n",
       "<p>17973 rows × 14 columns</p>\n",
       "</div>"
      ],
      "text/plain": [
       "       user_id     name  age       city subscription_type     age_category  \\\n",
       "0            1     Кира   22     Тюмень             ultra  от 18 до 25 лет   \n",
       "1            1     Кира   22     Тюмень             ultra  от 18 до 25 лет   \n",
       "2            1     Кира   22     Тюмень             ultra  от 18 до 25 лет   \n",
       "3            1     Кира   22     Тюмень             ultra  от 18 до 25 лет   \n",
       "4            1     Кира   22     Тюмень             ultra  от 18 до 25 лет   \n",
       "...        ...      ...  ...        ...               ...              ...   \n",
       "17968     1534  Альберт   25  Краснодар              free  от 18 до 25 лет   \n",
       "17969     1534  Альберт   25  Краснодар              free  от 18 до 25 лет   \n",
       "17970     1534  Альберт   25  Краснодар              free  от 18 до 25 лет   \n",
       "17971     1534  Альберт   25  Краснодар              free  от 18 до 25 лет   \n",
       "17972     1534  Альберт   25  Краснодар              free  от 18 до 25 лет   \n",
       "\n",
       "       distance  duration       date  month  year  minute_price  \\\n",
       "0      4,409.92     25.60 2021-01-01      1  2021             6   \n",
       "1      2,617.59     15.82 2021-01-18      1  2021             6   \n",
       "2        754.16      6.23 2021-04-20      4  2021             6   \n",
       "3      2,694.78     18.51 2021-08-11      8  2021             6   \n",
       "4      4,028.69     26.27 2021-08-28      8  2021             6   \n",
       "...         ...       ...        ...    ...   ...           ...   \n",
       "17968  3,781.10     19.82 2021-11-04     11  2021             8   \n",
       "17969  2,840.42     21.41 2021-11-16     11  2021             8   \n",
       "17970  3,826.19     18.44 2021-11-18     11  2021             8   \n",
       "17971  2,902.31     16.67 2021-11-27     11  2021             8   \n",
       "17972  2,371.71     15.89 2021-12-29     12  2021             8   \n",
       "\n",
       "       start_ride_price  subscription_fee  \n",
       "0                     0               199  \n",
       "1                     0               199  \n",
       "2                     0               199  \n",
       "3                     0               199  \n",
       "4                     0               199  \n",
       "...                 ...               ...  \n",
       "17968                50                 0  \n",
       "17969                50                 0  \n",
       "17970                50                 0  \n",
       "17971                50                 0  \n",
       "17972                50                 0  \n",
       "\n",
       "[17973 rows x 14 columns]"
      ]
     },
     "execution_count": 56,
     "metadata": {},
     "output_type": "execute_result"
    }
   ],
   "source": [
    "data_full = data_users.merge(data_rides)\n",
    "data_full = data_full.merge(data_subscriptions)\n",
    "data_full"
   ]
  },
  {
   "cell_type": "markdown",
   "id": "a03a0608-3245-48e2-bcf8-e84fa2528d30",
   "metadata": {},
   "source": [
    "**(2) Выведем сводную информацию по всему датасету**"
   ]
  },
  {
   "cell_type": "code",
   "execution_count": 57,
   "id": "3264b3a5-9f4d-4455-a2d3-34947c8a56ce",
   "metadata": {},
   "outputs": [
    {
     "name": "stdout",
     "output_type": "stream",
     "text": [
      "<class 'pandas.core.frame.DataFrame'>\n",
      "Int64Index: 17973 entries, 0 to 17972\n",
      "Data columns (total 14 columns):\n",
      " #   Column             Non-Null Count  Dtype         \n",
      "---  ------             --------------  -----         \n",
      " 0   user_id            17973 non-null  int64         \n",
      " 1   name               17973 non-null  object        \n",
      " 2   age                17973 non-null  int64         \n",
      " 3   city               17973 non-null  object        \n",
      " 4   subscription_type  17973 non-null  object        \n",
      " 5   age_category       17973 non-null  object        \n",
      " 6   distance           17973 non-null  float64       \n",
      " 7   duration           17973 non-null  float64       \n",
      " 8   date               17973 non-null  datetime64[ns]\n",
      " 9   month              17973 non-null  int64         \n",
      " 10  year               17973 non-null  int64         \n",
      " 11  minute_price       17973 non-null  int64         \n",
      " 12  start_ride_price   17973 non-null  int64         \n",
      " 13  subscription_fee   17973 non-null  int64         \n",
      "dtypes: datetime64[ns](1), float64(2), int64(7), object(4)\n",
      "memory usage: 2.1+ MB\n",
      "\n",
      "Всего строк: 17973\n",
      "Всего столбцов: 14\n"
     ]
    }
   ],
   "source": [
    "data_full.info()\n",
    "\n",
    "print('\\nВсего строк:', data_full.shape[0])\n",
    "print('Всего столбцов:', data_full.shape[1])"
   ]
  },
  {
   "cell_type": "markdown",
   "id": "23aa5cac-4751-4497-a465-e99619754b83",
   "metadata": {},
   "source": [
    "Пропусков в данных после объединения не появилось => данные можно использовать для дальнейшего анализа."
   ]
  },
  {
   "cell_type": "markdown",
   "id": "99cd970e-b04d-4a29-9980-cf5dc00dba14",
   "metadata": {},
   "source": [
    "### 4.2 Создание дополнительных датафреймов"
   ]
  },
  {
   "cell_type": "markdown",
   "id": "55dd87da-adf0-4dfd-923f-021939902311",
   "metadata": {},
   "source": [
    "Создадим два датафрейма из датафрейма, созданного на этапе 4.1:\n",
    "\n",
    "* c данными о пользователях без подписки;\n",
    "* с данными о пользователях с подпиской."
   ]
  },
  {
   "cell_type": "markdown",
   "id": "850475a6-c286-404e-887b-57f44afae5e0",
   "metadata": {},
   "source": [
    "**(1) Создадим датафрейм с данными о пользователях без подписки**"
   ]
  },
  {
   "cell_type": "code",
   "execution_count": 58,
   "id": "6324c18d-3d98-4ac7-a584-5384f9c74547",
   "metadata": {},
   "outputs": [
    {
     "data": {
      "text/html": [
       "<div>\n",
       "<style scoped>\n",
       "    .dataframe tbody tr th:only-of-type {\n",
       "        vertical-align: middle;\n",
       "    }\n",
       "\n",
       "    .dataframe tbody tr th {\n",
       "        vertical-align: top;\n",
       "    }\n",
       "\n",
       "    .dataframe thead th {\n",
       "        text-align: right;\n",
       "    }\n",
       "</style>\n",
       "<table border=\"1\" class=\"dataframe\">\n",
       "  <thead>\n",
       "    <tr style=\"text-align: right;\">\n",
       "      <th></th>\n",
       "      <th>user_id</th>\n",
       "      <th>name</th>\n",
       "      <th>age</th>\n",
       "      <th>city</th>\n",
       "      <th>subscription_type</th>\n",
       "      <th>age_category</th>\n",
       "      <th>distance</th>\n",
       "      <th>duration</th>\n",
       "      <th>date</th>\n",
       "      <th>month</th>\n",
       "      <th>year</th>\n",
       "      <th>minute_price</th>\n",
       "      <th>start_ride_price</th>\n",
       "      <th>subscription_fee</th>\n",
       "    </tr>\n",
       "  </thead>\n",
       "  <tbody>\n",
       "    <tr>\n",
       "      <th>0</th>\n",
       "      <td>700</td>\n",
       "      <td>Айдар</td>\n",
       "      <td>22</td>\n",
       "      <td>Омск</td>\n",
       "      <td>free</td>\n",
       "      <td>от 18 до 25 лет</td>\n",
       "      <td>2,515.69</td>\n",
       "      <td>14.94</td>\n",
       "      <td>2021-01-02</td>\n",
       "      <td>1</td>\n",
       "      <td>2021</td>\n",
       "      <td>8</td>\n",
       "      <td>50</td>\n",
       "      <td>0</td>\n",
       "    </tr>\n",
       "    <tr>\n",
       "      <th>1</th>\n",
       "      <td>700</td>\n",
       "      <td>Айдар</td>\n",
       "      <td>22</td>\n",
       "      <td>Омск</td>\n",
       "      <td>free</td>\n",
       "      <td>от 18 до 25 лет</td>\n",
       "      <td>846.93</td>\n",
       "      <td>16.23</td>\n",
       "      <td>2021-02-01</td>\n",
       "      <td>2</td>\n",
       "      <td>2021</td>\n",
       "      <td>8</td>\n",
       "      <td>50</td>\n",
       "      <td>0</td>\n",
       "    </tr>\n",
       "    <tr>\n",
       "      <th>2</th>\n",
       "      <td>700</td>\n",
       "      <td>Айдар</td>\n",
       "      <td>22</td>\n",
       "      <td>Омск</td>\n",
       "      <td>free</td>\n",
       "      <td>от 18 до 25 лет</td>\n",
       "      <td>4,004.43</td>\n",
       "      <td>20.02</td>\n",
       "      <td>2021-02-04</td>\n",
       "      <td>2</td>\n",
       "      <td>2021</td>\n",
       "      <td>8</td>\n",
       "      <td>50</td>\n",
       "      <td>0</td>\n",
       "    </tr>\n",
       "    <tr>\n",
       "      <th>3</th>\n",
       "      <td>700</td>\n",
       "      <td>Айдар</td>\n",
       "      <td>22</td>\n",
       "      <td>Омск</td>\n",
       "      <td>free</td>\n",
       "      <td>от 18 до 25 лет</td>\n",
       "      <td>1,205.91</td>\n",
       "      <td>9.78</td>\n",
       "      <td>2021-02-10</td>\n",
       "      <td>2</td>\n",
       "      <td>2021</td>\n",
       "      <td>8</td>\n",
       "      <td>50</td>\n",
       "      <td>0</td>\n",
       "    </tr>\n",
       "    <tr>\n",
       "      <th>4</th>\n",
       "      <td>700</td>\n",
       "      <td>Айдар</td>\n",
       "      <td>22</td>\n",
       "      <td>Омск</td>\n",
       "      <td>free</td>\n",
       "      <td>от 18 до 25 лет</td>\n",
       "      <td>3,047.38</td>\n",
       "      <td>17.43</td>\n",
       "      <td>2021-02-14</td>\n",
       "      <td>2</td>\n",
       "      <td>2021</td>\n",
       "      <td>8</td>\n",
       "      <td>50</td>\n",
       "      <td>0</td>\n",
       "    </tr>\n",
       "  </tbody>\n",
       "</table>\n",
       "</div>"
      ],
      "text/plain": [
       "   user_id   name  age  city subscription_type     age_category  distance  \\\n",
       "0      700  Айдар   22  Омск              free  от 18 до 25 лет  2,515.69   \n",
       "1      700  Айдар   22  Омск              free  от 18 до 25 лет    846.93   \n",
       "2      700  Айдар   22  Омск              free  от 18 до 25 лет  4,004.43   \n",
       "3      700  Айдар   22  Омск              free  от 18 до 25 лет  1,205.91   \n",
       "4      700  Айдар   22  Омск              free  от 18 до 25 лет  3,047.38   \n",
       "\n",
       "   duration       date  month  year  minute_price  start_ride_price  \\\n",
       "0     14.94 2021-01-02      1  2021             8                50   \n",
       "1     16.23 2021-02-01      2  2021             8                50   \n",
       "2     20.02 2021-02-04      2  2021             8                50   \n",
       "3      9.78 2021-02-10      2  2021             8                50   \n",
       "4     17.43 2021-02-14      2  2021             8                50   \n",
       "\n",
       "   subscription_fee  \n",
       "0                 0  \n",
       "1                 0  \n",
       "2                 0  \n",
       "3                 0  \n",
       "4                 0  "
      ]
     },
     "execution_count": 58,
     "metadata": {},
     "output_type": "execute_result"
    }
   ],
   "source": [
    "free_subscription = data_full.query('subscription_type == \"free\"').reset_index(drop=True)\n",
    "free_subscription.head()"
   ]
  },
  {
   "cell_type": "markdown",
   "id": "2d12b622-5d9e-4fa9-a0a8-beb7a01d9c7a",
   "metadata": {},
   "source": [
    "**(2) Создадим датафрейм с данными о пользователях с подпиской**"
   ]
  },
  {
   "cell_type": "code",
   "execution_count": 59,
   "id": "91221c40-3be7-42fd-b6f0-7da8d7769829",
   "metadata": {},
   "outputs": [
    {
     "data": {
      "text/html": [
       "<div>\n",
       "<style scoped>\n",
       "    .dataframe tbody tr th:only-of-type {\n",
       "        vertical-align: middle;\n",
       "    }\n",
       "\n",
       "    .dataframe tbody tr th {\n",
       "        vertical-align: top;\n",
       "    }\n",
       "\n",
       "    .dataframe thead th {\n",
       "        text-align: right;\n",
       "    }\n",
       "</style>\n",
       "<table border=\"1\" class=\"dataframe\">\n",
       "  <thead>\n",
       "    <tr style=\"text-align: right;\">\n",
       "      <th></th>\n",
       "      <th>user_id</th>\n",
       "      <th>name</th>\n",
       "      <th>age</th>\n",
       "      <th>city</th>\n",
       "      <th>subscription_type</th>\n",
       "      <th>age_category</th>\n",
       "      <th>distance</th>\n",
       "      <th>duration</th>\n",
       "      <th>date</th>\n",
       "      <th>month</th>\n",
       "      <th>year</th>\n",
       "      <th>minute_price</th>\n",
       "      <th>start_ride_price</th>\n",
       "      <th>subscription_fee</th>\n",
       "    </tr>\n",
       "  </thead>\n",
       "  <tbody>\n",
       "    <tr>\n",
       "      <th>0</th>\n",
       "      <td>1</td>\n",
       "      <td>Кира</td>\n",
       "      <td>22</td>\n",
       "      <td>Тюмень</td>\n",
       "      <td>ultra</td>\n",
       "      <td>от 18 до 25 лет</td>\n",
       "      <td>4,409.92</td>\n",
       "      <td>25.60</td>\n",
       "      <td>2021-01-01</td>\n",
       "      <td>1</td>\n",
       "      <td>2021</td>\n",
       "      <td>6</td>\n",
       "      <td>0</td>\n",
       "      <td>199</td>\n",
       "    </tr>\n",
       "    <tr>\n",
       "      <th>1</th>\n",
       "      <td>1</td>\n",
       "      <td>Кира</td>\n",
       "      <td>22</td>\n",
       "      <td>Тюмень</td>\n",
       "      <td>ultra</td>\n",
       "      <td>от 18 до 25 лет</td>\n",
       "      <td>2,617.59</td>\n",
       "      <td>15.82</td>\n",
       "      <td>2021-01-18</td>\n",
       "      <td>1</td>\n",
       "      <td>2021</td>\n",
       "      <td>6</td>\n",
       "      <td>0</td>\n",
       "      <td>199</td>\n",
       "    </tr>\n",
       "    <tr>\n",
       "      <th>2</th>\n",
       "      <td>1</td>\n",
       "      <td>Кира</td>\n",
       "      <td>22</td>\n",
       "      <td>Тюмень</td>\n",
       "      <td>ultra</td>\n",
       "      <td>от 18 до 25 лет</td>\n",
       "      <td>754.16</td>\n",
       "      <td>6.23</td>\n",
       "      <td>2021-04-20</td>\n",
       "      <td>4</td>\n",
       "      <td>2021</td>\n",
       "      <td>6</td>\n",
       "      <td>0</td>\n",
       "      <td>199</td>\n",
       "    </tr>\n",
       "    <tr>\n",
       "      <th>3</th>\n",
       "      <td>1</td>\n",
       "      <td>Кира</td>\n",
       "      <td>22</td>\n",
       "      <td>Тюмень</td>\n",
       "      <td>ultra</td>\n",
       "      <td>от 18 до 25 лет</td>\n",
       "      <td>2,694.78</td>\n",
       "      <td>18.51</td>\n",
       "      <td>2021-08-11</td>\n",
       "      <td>8</td>\n",
       "      <td>2021</td>\n",
       "      <td>6</td>\n",
       "      <td>0</td>\n",
       "      <td>199</td>\n",
       "    </tr>\n",
       "    <tr>\n",
       "      <th>4</th>\n",
       "      <td>1</td>\n",
       "      <td>Кира</td>\n",
       "      <td>22</td>\n",
       "      <td>Тюмень</td>\n",
       "      <td>ultra</td>\n",
       "      <td>от 18 до 25 лет</td>\n",
       "      <td>4,028.69</td>\n",
       "      <td>26.27</td>\n",
       "      <td>2021-08-28</td>\n",
       "      <td>8</td>\n",
       "      <td>2021</td>\n",
       "      <td>6</td>\n",
       "      <td>0</td>\n",
       "      <td>199</td>\n",
       "    </tr>\n",
       "  </tbody>\n",
       "</table>\n",
       "</div>"
      ],
      "text/plain": [
       "   user_id  name  age    city subscription_type     age_category  distance  \\\n",
       "0        1  Кира   22  Тюмень             ultra  от 18 до 25 лет  4,409.92   \n",
       "1        1  Кира   22  Тюмень             ultra  от 18 до 25 лет  2,617.59   \n",
       "2        1  Кира   22  Тюмень             ultra  от 18 до 25 лет    754.16   \n",
       "3        1  Кира   22  Тюмень             ultra  от 18 до 25 лет  2,694.78   \n",
       "4        1  Кира   22  Тюмень             ultra  от 18 до 25 лет  4,028.69   \n",
       "\n",
       "   duration       date  month  year  minute_price  start_ride_price  \\\n",
       "0     25.60 2021-01-01      1  2021             6                 0   \n",
       "1     15.82 2021-01-18      1  2021             6                 0   \n",
       "2      6.23 2021-04-20      4  2021             6                 0   \n",
       "3     18.51 2021-08-11      8  2021             6                 0   \n",
       "4     26.27 2021-08-28      8  2021             6                 0   \n",
       "\n",
       "   subscription_fee  \n",
       "0               199  \n",
       "1               199  \n",
       "2               199  \n",
       "3               199  \n",
       "4               199  "
      ]
     },
     "execution_count": 59,
     "metadata": {},
     "output_type": "execute_result"
    }
   ],
   "source": [
    "ultra_subscription = data_full.query('subscription_type == \"ultra\"').reset_index(drop=True)\n",
    "ultra_subscription.head()"
   ]
  },
  {
   "cell_type": "markdown",
   "id": "609badf8-c0c3-41aa-a0f4-eba15bc5db1d",
   "metadata": {},
   "source": [
    "### 4.3 Визуализация информации о расстоянии и времени поездок"
   ]
  },
  {
   "cell_type": "markdown",
   "id": "edf2c7d8-4db6-4f0b-8894-64fb9bdcebf1",
   "metadata": {},
   "source": [
    "**Пользователи без подписки**"
   ]
  },
  {
   "cell_type": "markdown",
   "id": "ff4ded41-9340-4f7b-8a41-7d2efd06f3d0",
   "metadata": {},
   "source": [
    "**(1) Визуализируем информацию о расстоянии поездок**"
   ]
  },
  {
   "cell_type": "code",
   "execution_count": 60,
   "id": "40b66a3a-7714-4138-9fa7-de1297142c85",
   "metadata": {},
   "outputs": [
    {
     "data": {
      "image/png": "[encoded data removed]",
      "text/plain": [
       "<Figure size 864x432 with 1 Axes>"
      ]
     },
     "metadata": {
      "needs_background": "light"
     },
     "output_type": "display_data"
    }
   ],
   "source": [
    "(free_subscription.plot(kind=\"hist\",\n",
    "                 y='distance',\n",
    "                 bins=100,\n",
    "                 figsize=(12,6),\n",
    "                 grid=True,\n",
    "                 title='Распределение расстояния одной поездки (free)')\n",
    ")\n",
    "plt.xlabel('Расстояние одной поездки (в метрах)')\n",
    "plt.ylabel('Число пользователей без подписки')\n",
    "plt.show()"
   ]
  },
  {
   "cell_type": "markdown",
   "id": "0410dc51-9f8a-4c73-a4e8-144cd6478e34",
   "metadata": {},
   "source": [
    "На графике представлена гистограмма с бимодальным распределением (наблюдаются 2 пика)."
   ]
  },
  {
   "cell_type": "markdown",
   "id": "937ee7b1-3e43-4cd1-8b69-f5d23d7eb37d",
   "metadata": {},
   "source": [
    "**(2) Визуализируем информацию о времени поездок**"
   ]
  },
  {
   "cell_type": "code",
   "execution_count": 61,
   "id": "8c052d03-43e6-4e29-b534-0a918f839d77",
   "metadata": {},
   "outputs": [
    {
     "data": {
      "image/png": "[encoded data removed]",
      "text/plain": [
       "<Figure size 864x432 with 1 Axes>"
      ]
     },
     "metadata": {
      "needs_background": "light"
     },
     "output_type": "display_data"
    }
   ],
   "source": [
    "(free_subscription.plot(kind=\"hist\",\n",
    "                 y='duration',\n",
    "                 bins=100,\n",
    "                 figsize=(12,6),\n",
    "                 grid=True,\n",
    "                 title='Распределение времени одной поездки (free)')\n",
    ")\n",
    "plt.xlabel('Время одной поездки (в минутах)')\n",
    "plt.ylabel('Число пользователей без подписки')\n",
    "plt.show()"
   ]
  },
  {
   "cell_type": "markdown",
   "id": "165390fb-8a4d-4d86-bc93-59ca0afde1ad",
   "metadata": {},
   "source": [
    "На графике представлена гистограмма с нормальным распределением и одним ярковыраженным пиком."
   ]
  },
  {
   "cell_type": "markdown",
   "id": "a7414091-103e-4652-a50c-478b166b86d0",
   "metadata": {},
   "source": [
    "<u>**Вывод:**</u> пользователи без подписки в большинстве своём совершают поездки на расстояние **от 2 до 4,5 км**, и тратят на это **от 10 до 25 минут**. Самая длительная поездка не превышает **35 минут**. При этом два пика на графике говорят нам о том, что в зависимости от расстояния пользователи разделяются на 2 группы: многочисленную - **пользователи, которые проезжают больше 1 км** (они и составляют основу) и малочисленную - **пользователи, которые совершают короткие поездки до 1 км** (из-за отсутствия похожего пика на графике со врменем поездки можно предположить, что данные пользователи либо ездят  на максимальной скорости по прямой ровной дороге без препятствий, либо пренебрегают ПДД). Поскольку стоимость старта без подписки составляет 50 рублей, то пользователи стремятся преодолевать дистанцию за самое короткое время (если поездка не является прогулочной)."
   ]
  },
  {
   "cell_type": "markdown",
   "id": "49a2c0ce-49dd-414d-b3ee-8e2baf355833",
   "metadata": {},
   "source": [
    "---\n",
    "**Пользователи с подпиской Ultra**"
   ]
  },
  {
   "cell_type": "markdown",
   "id": "7145feb7-823c-4f95-bbc4-f6ae75d0eac3",
   "metadata": {},
   "source": [
    "**(1) Визуализируем информацию о расстоянии поездок**"
   ]
  },
  {
   "cell_type": "code",
   "execution_count": 62,
   "id": "84269541-3a4b-4bb7-a4b7-511d8c0129b4",
   "metadata": {},
   "outputs": [
    {
     "data": {
      "image/png": "[encoded data removed]",
      "text/plain": [
       "<Figure size 864x432 with 1 Axes>"
      ]
     },
     "metadata": {
      "needs_background": "light"
     },
     "output_type": "display_data"
    }
   ],
   "source": [
    "(ultra_subscription.plot(kind=\"hist\",\n",
    "                 y='distance',\n",
    "                 bins=100,\n",
    "                 figsize=(12,6),\n",
    "                 grid=True,\n",
    "                 title='Распределение расстояния одной поездки (ultra)')\n",
    ")\n",
    "plt.xlabel('Расстояние одной поездки (в метрах)')\n",
    "plt.ylabel('Число пользователей c подпиcкой Ultra')\n",
    "plt.show()"
   ]
  },
  {
   "cell_type": "markdown",
   "id": "0ef8c5d4-c7d8-42a4-b2f9-62b3bc97aa08",
   "metadata": {},
   "source": [
    "**(2) Визуализируем информацию о времени поездок**"
   ]
  },
  {
   "cell_type": "code",
   "execution_count": 63,
   "id": "28b0a2f8-02b3-4965-8a48-63af3bb0ac1d",
   "metadata": {},
   "outputs": [
    {
     "data": {
      "image/png": "[encoded data removed]",
      "text/plain": [
       "<Figure size 864x432 with 1 Axes>"
      ]
     },
     "metadata": {
      "needs_background": "light"
     },
     "output_type": "display_data"
    }
   ],
   "source": [
    "(ultra_subscription.plot(kind=\"hist\",\n",
    "                 y='duration',\n",
    "                 bins=100,\n",
    "                 figsize=(12,6),\n",
    "                 grid=True,\n",
    "                 title='Распределение времени одной поездки (ultra)')\n",
    ")\n",
    "plt.xlabel('Время одной поездки (в минутах)')\n",
    "plt.ylabel('Число пользователей c подпиcкой Ultra')\n",
    "plt.show()"
   ]
  },
  {
   "cell_type": "markdown",
   "id": "73e25ef7-2e08-4084-a570-22f7d1727be8",
   "metadata": {},
   "source": [
    "<u>**Вывод:**</u> пользователи с подпиской Ultra в большинстве своём совершают поездки на расстояние **от 2,5 до 3,5 км**, и тратят на это **от 10 до 25 минут**. Самая длительная поездка занимает **более 40 минут**. Здесь также есть два пика на графике, но в отличие от графика с пользователями без подписки, здесь первый пик не так ярко выражен, иными словами, **пользователей, совершающих короткие поездки до 1 км** совсем мало. Имея подписку Ultra, людям не приходится платить дополнительные 50 рублей за старт, то есть мотивация преодолевать дистанцию за самое короткое время у них отстутствует. **Оформление подписки является признаком лояльности**: пользователь не только рассматривает элктросамокат как полноценнный вид транспорта, но и считает сервис и тарифы компании GoFast самыми лучшими на рынке."
   ]
  },
  {
   "cell_type": "markdown",
   "id": "aa92cd34-fc4d-4313-849e-221fbb577fb2",
   "metadata": {},
   "source": [
    "<a id=\"mergeresults\"></a>\n",
    "### <u>**Результаты**</u>"
   ]
  },
  {
   "cell_type": "markdown",
   "id": "e16844e2-7b6d-4878-8f5b-10bee12670ce",
   "metadata": {},
   "source": [
    "1. Данные о пользователях, поездках и тарифах объединены в один датафрейм - **data_full**."
   ]
  },
  {
   "cell_type": "markdown",
   "id": "d0fff7f9-aff9-4986-903b-2996dca6b7a1",
   "metadata": {},
   "source": [
    "2. Созданы два датафрейма ина основе **data_full**:\n",
    "\n",
    "* **free_subscription** - данные о пользователях без подписки;\n",
    "* **ultra_subscription** -  данные о пользователях с подпиской."
   ]
  },
  {
   "cell_type": "markdown",
   "id": "c6cee63f-6197-4a2e-afe0-2a87fba7c7b2",
   "metadata": {},
   "source": [
    "3. Пользователи без подписки в большинстве своём совершают поездки на расстояние **от 2 до 4,5 км**, и тратят на это **от 10 до 25 минут**. Самая длительная поездка не превышает **35 минут**. "
   ]
  },
  {
   "cell_type": "markdown",
   "id": "559595fc-88f0-4ca6-8205-0c0a13a74207",
   "metadata": {},
   "source": [
    "4. Пользователи с подпиской Ultra в большинстве своём совершают поездки на расстояние **от 2,5 до 3,5 км**, и тратят на это **от 10 до 25 минут**. Самая длительная поездка занимает **более 40 минут**."
   ]
  },
  {
   "cell_type": "markdown",
   "id": "6298f7ae-d7ca-42a1-a159-eaa15b1a6cdb",
   "metadata": {},
   "source": [
    "5. Пользователи с подпиской Ultra могут совершать более долгие поездки по времени, но по расстоянию они могут быть меньше, чем у пользователей без подписки. Это можно объяснить тем, что **пользователи без подписки стремятся преодолевать дистанцию за самое короткое время** (если поездка не является прогулочной), так как помимо поминутной оплаты им необходимо оплатить стартовый взнос в размере 50 рублей."
   ]
  },
  {
   "cell_type": "markdown",
   "id": "8e4a50da-4ed5-4c05-a4f0-6e1ecd5226e4",
   "metadata": {},
   "source": [
    "6. **Cравнение пользователей с подпиской Ultra и пользователей без подписки по 2-м парметрам:** Расстояние одной поездки (в метрах) и Время одной поездки (в минутах):"
   ]
  },
  {
   "cell_type": "code",
   "execution_count": 64,
   "id": "5c2f652a-8f8f-460b-8807-4436cbf4a879",
   "metadata": {},
   "outputs": [
    {
     "data": {
      "text/plain": [
       "Text(0, 0.5, 'Число пользователей')"
      ]
     },
     "execution_count": 64,
     "metadata": {},
     "output_type": "execute_result"
    },
    {
     "data": {
      "image/png": "[encoded data removed]",
      "text/plain": [
       "<Figure size 864x432 with 1 Axes>"
      ]
     },
     "metadata": {
      "needs_background": "light"
     },
     "output_type": "display_data"
    }
   ],
   "source": [
    "plt.figure(figsize=(12,6))\n",
    "plt.grid()    \n",
    "\n",
    "plt.hist([free_subscription['distance'], ultra_subscription['distance']], bins=100, stacked=True)     \n",
    "\n",
    "plt.title('Расстояние одной поездки (ultra и free)')\n",
    "plt.legend(['free', 'ultra'])\n",
    "plt.xlabel('Расстояние одной поездки (в метрах)')\n",
    "plt.ylabel('Число пользователей')"
   ]
  },
  {
   "cell_type": "code",
   "execution_count": 65,
   "id": "a0840aae-4b23-4f80-bafa-77855b0952cd",
   "metadata": {},
   "outputs": [
    {
     "data": {
      "text/plain": [
       "Text(0, 0.5, 'Число пользователей')"
      ]
     },
     "execution_count": 65,
     "metadata": {},
     "output_type": "execute_result"
    },
    {
     "data": {
      "image/png": "[encoded data removed]",
      "text/plain": [
       "<Figure size 864x432 with 1 Axes>"
      ]
     },
     "metadata": {
      "needs_background": "light"
     },
     "output_type": "display_data"
    }
   ],
   "source": [
    "plt.figure(figsize=(12,6))\n",
    "plt.grid()    \n",
    "\n",
    "plt.hist([free_subscription['duration'], ultra_subscription['duration']], bins=100, stacked=True)     \n",
    "\n",
    "plt.title('Время одной поездки (ultra и free)')\n",
    "plt.legend(['free', 'ultra'])\n",
    "plt.xlabel('Время одной поездки (в минутах)')\n",
    "plt.ylabel('Число пользователей')"
   ]
  },
  {
   "cell_type": "markdown",
   "id": "402d620f",
   "metadata": {},
   "source": [
    "## Шаг 5. Подсчёт выручки"
   ]
  },
  {
   "cell_type": "markdown",
   "id": "e496db13-e380-4822-a9a7-cf3e1b98573e",
   "metadata": {},
   "source": [
    "Для подсчёта выручки необходимо выполнить следующие действия:\n",
    "\n",
    "1. Создать датафрейм с агрегированными данными о поездках на основе датафрейма с объединёнными данными: найти суммарное расстояние, количество поездок и суммарное время для каждого пользователя за каждый месяц;\n",
    "2. В этот же датафрейм добавить столбец с помесячной выручкой, которую принёс каждый пользователь. Для этого необходимо обратиться к информации об условиях оплаты для подписчиков и тех, у кого нет подписки ([см. условия оплаты](#payment)). "
   ]
  },
  {
   "cell_type": "markdown",
   "id": "85246d59-723a-4b52-8fdd-69ce312c3d61",
   "metadata": {},
   "source": [
    "**(1) Округлим значения из столбца `duration` до следующего целого числа**"
   ]
  },
  {
   "cell_type": "code",
   "execution_count": 66,
   "id": "f9b2c19a-5a9a-4c24-8cac-51eab8cc4ba9",
   "metadata": {},
   "outputs": [],
   "source": [
    "data_full['duration'] = np.ceil(data_full['duration'])"
   ]
  },
  {
   "cell_type": "markdown",
   "id": "916ee257-7fa6-40de-9586-a037931522e5",
   "metadata": {},
   "source": [
    "**(2) Cформируем сводную таблицу, где будет отображена информация о суммарном расстоянии, количестве поeздок и суммарном времени для каждого пользователя за каждый месяц**"
   ]
  },
  {
   "cell_type": "code",
   "execution_count": 67,
   "id": "1683854f-32cc-4798-9022-2b34bd2f6b06",
   "metadata": {},
   "outputs": [],
   "source": [
    "data_for_revenue = data_full.pivot_table(index=['month', 'user_id'],\n",
    "                                         values = ['distance', 'duration', 'name', 'subscription_type'],\n",
    "                                         aggfunc = {'distance': sum, 'duration' : sum, 'name' : len, 'subscription_type' : min})\n"
   ]
  },
  {
   "cell_type": "markdown",
   "id": "ed82ca59-824b-4558-8047-a69e2fef982d",
   "metadata": {},
   "source": [
    "**(3) Переименуем столбец `name` в `rides_number`, `duration` в `sum_duration`, `distance` в `sum_distance`**"
   ]
  },
  {
   "cell_type": "code",
   "execution_count": 68,
   "id": "8ce3b971-e508-468d-9987-dc2ca826d312",
   "metadata": {},
   "outputs": [],
   "source": [
    "data_for_revenue.rename(columns = {'name' : 'rides_number','duration' : 'sum_duration', 'distance' : 'sum_distance'}, inplace = True)"
   ]
  },
  {
   "cell_type": "markdown",
   "id": "c273777d-2c56-4794-9c8a-d2c0bb33edb6",
   "metadata": {},
   "source": [
    "**(4) Выведем информацию по количеству пропущенных значений в каждом столбце:**"
   ]
  },
  {
   "cell_type": "code",
   "execution_count": 69,
   "id": "359cd0ff-daa5-4558-8f56-3b46ba82671f",
   "metadata": {},
   "outputs": [
    {
     "name": "stdout",
     "output_type": "stream",
     "text": [
      "sum_distance         0\n",
      "sum_duration         0\n",
      "rides_number         0\n",
      "subscription_type    0\n",
      "dtype: int64\n",
      "\n",
      "Количество столбцов с пропущенными значениями: 0\n"
     ]
    }
   ],
   "source": [
    "print(data_for_revenue.isna().sum())\n",
    "\n",
    "total_isna = []\n",
    "for value in data_for_revenue.isna().sum():\n",
    "    if value != 0:\n",
    "        total_isna.append(value)\n",
    "\n",
    "print('\\nКоличество столбцов с пропущенными значениями:', len(total_isna))"
   ]
  },
  {
   "cell_type": "markdown",
   "id": "b7e50d67-9f2d-40e6-88be-37cd60e2d405",
   "metadata": {},
   "source": [
    "**(5) Выведем сводную таблицу на экран**"
   ]
  },
  {
   "cell_type": "code",
   "execution_count": 70,
   "id": "b2fb73af-5af8-4b2e-943d-ebc59a3e2da5",
   "metadata": {},
   "outputs": [
    {
     "data": {
      "text/html": [
       "<div>\n",
       "<style scoped>\n",
       "    .dataframe tbody tr th:only-of-type {\n",
       "        vertical-align: middle;\n",
       "    }\n",
       "\n",
       "    .dataframe tbody tr th {\n",
       "        vertical-align: top;\n",
       "    }\n",
       "\n",
       "    .dataframe thead th {\n",
       "        text-align: right;\n",
       "    }\n",
       "</style>\n",
       "<table border=\"1\" class=\"dataframe\">\n",
       "  <thead>\n",
       "    <tr style=\"text-align: right;\">\n",
       "      <th></th>\n",
       "      <th></th>\n",
       "      <th>sum_distance</th>\n",
       "      <th>sum_duration</th>\n",
       "      <th>rides_number</th>\n",
       "      <th>subscription_type</th>\n",
       "    </tr>\n",
       "    <tr>\n",
       "      <th>month</th>\n",
       "      <th>user_id</th>\n",
       "      <th></th>\n",
       "      <th></th>\n",
       "      <th></th>\n",
       "      <th></th>\n",
       "    </tr>\n",
       "  </thead>\n",
       "  <tbody>\n",
       "    <tr>\n",
       "      <th rowspan=\"5\" valign=\"top\">1</th>\n",
       "      <th>1</th>\n",
       "      <td>7,027.51</td>\n",
       "      <td>42.00</td>\n",
       "      <td>2</td>\n",
       "      <td>ultra</td>\n",
       "    </tr>\n",
       "    <tr>\n",
       "      <th>1059</th>\n",
       "      <td>11,979.29</td>\n",
       "      <td>74.00</td>\n",
       "      <td>3</td>\n",
       "      <td>free</td>\n",
       "    </tr>\n",
       "    <tr>\n",
       "      <th>1061</th>\n",
       "      <td>12,637.25</td>\n",
       "      <td>43.00</td>\n",
       "      <td>3</td>\n",
       "      <td>free</td>\n",
       "    </tr>\n",
       "    <tr>\n",
       "      <th>1063</th>\n",
       "      <td>3,276.36</td>\n",
       "      <td>10.00</td>\n",
       "      <td>1</td>\n",
       "      <td>free</td>\n",
       "    </tr>\n",
       "    <tr>\n",
       "      <th>1064</th>\n",
       "      <td>5,297.32</td>\n",
       "      <td>15.00</td>\n",
       "      <td>1</td>\n",
       "      <td>free</td>\n",
       "    </tr>\n",
       "    <tr>\n",
       "      <th>...</th>\n",
       "      <th>...</th>\n",
       "      <td>...</td>\n",
       "      <td>...</td>\n",
       "      <td>...</td>\n",
       "      <td>...</td>\n",
       "    </tr>\n",
       "    <tr>\n",
       "      <th rowspan=\"5\" valign=\"top\">12</th>\n",
       "      <th>615</th>\n",
       "      <td>4,338.03</td>\n",
       "      <td>13.00</td>\n",
       "      <td>1</td>\n",
       "      <td>ultra</td>\n",
       "    </tr>\n",
       "    <tr>\n",
       "      <th>616</th>\n",
       "      <td>5,997.44</td>\n",
       "      <td>35.00</td>\n",
       "      <td>2</td>\n",
       "      <td>ultra</td>\n",
       "    </tr>\n",
       "    <tr>\n",
       "      <th>618</th>\n",
       "      <td>5,269.45</td>\n",
       "      <td>33.00</td>\n",
       "      <td>2</td>\n",
       "      <td>ultra</td>\n",
       "    </tr>\n",
       "    <tr>\n",
       "      <th>597</th>\n",
       "      <td>3,753.72</td>\n",
       "      <td>26.00</td>\n",
       "      <td>1</td>\n",
       "      <td>ultra</td>\n",
       "    </tr>\n",
       "    <tr>\n",
       "      <th>1534</th>\n",
       "      <td>2,371.71</td>\n",
       "      <td>16.00</td>\n",
       "      <td>1</td>\n",
       "      <td>free</td>\n",
       "    </tr>\n",
       "  </tbody>\n",
       "</table>\n",
       "<p>11300 rows × 4 columns</p>\n",
       "</div>"
      ],
      "text/plain": [
       "               sum_distance  sum_duration  rides_number subscription_type\n",
       "month user_id                                                            \n",
       "1     1            7,027.51         42.00             2             ultra\n",
       "      1059        11,979.29         74.00             3              free\n",
       "      1061        12,637.25         43.00             3              free\n",
       "      1063         3,276.36         10.00             1              free\n",
       "      1064         5,297.32         15.00             1              free\n",
       "...                     ...           ...           ...               ...\n",
       "12    615          4,338.03         13.00             1             ultra\n",
       "      616          5,997.44         35.00             2             ultra\n",
       "      618          5,269.45         33.00             2             ultra\n",
       "      597          3,753.72         26.00             1             ultra\n",
       "      1534         2,371.71         16.00             1              free\n",
       "\n",
       "[11300 rows x 4 columns]"
      ]
     },
     "execution_count": 70,
     "metadata": {},
     "output_type": "execute_result"
    }
   ],
   "source": [
    "data_for_revenue.sort_values(by='month')"
   ]
  },
  {
   "cell_type": "markdown",
   "id": "2990cbe6-7162-4fef-9b56-eba60496756c",
   "metadata": {},
   "source": [
    "На примере одного пользователя убедимся в корректности сводной таблицы:"
   ]
  },
  {
   "cell_type": "markdown",
   "id": "c263033b-c999-473d-aaf4-b1ace616bc6e",
   "metadata": {},
   "source": [
    "**(6) Проверка корректности сводной таблицы**"
   ]
  },
  {
   "cell_type": "code",
   "execution_count": 71,
   "id": "e2e33ac5-d452-49ec-b963-e220ef5e6bb6",
   "metadata": {},
   "outputs": [
    {
     "data": {
      "text/html": [
       "<div>\n",
       "<style scoped>\n",
       "    .dataframe tbody tr th:only-of-type {\n",
       "        vertical-align: middle;\n",
       "    }\n",
       "\n",
       "    .dataframe tbody tr th {\n",
       "        vertical-align: top;\n",
       "    }\n",
       "\n",
       "    .dataframe thead th {\n",
       "        text-align: right;\n",
       "    }\n",
       "</style>\n",
       "<table border=\"1\" class=\"dataframe\">\n",
       "  <thead>\n",
       "    <tr style=\"text-align: right;\">\n",
       "      <th></th>\n",
       "      <th></th>\n",
       "      <th>sum_distance</th>\n",
       "      <th>sum_duration</th>\n",
       "      <th>rides_number</th>\n",
       "      <th>subscription_type</th>\n",
       "    </tr>\n",
       "    <tr>\n",
       "      <th>month</th>\n",
       "      <th>user_id</th>\n",
       "      <th></th>\n",
       "      <th></th>\n",
       "      <th></th>\n",
       "      <th></th>\n",
       "    </tr>\n",
       "  </thead>\n",
       "  <tbody>\n",
       "    <tr>\n",
       "      <th>1</th>\n",
       "      <th>1</th>\n",
       "      <td>7,027.51</td>\n",
       "      <td>42.00</td>\n",
       "      <td>2</td>\n",
       "      <td>ultra</td>\n",
       "    </tr>\n",
       "    <tr>\n",
       "      <th>4</th>\n",
       "      <th>1</th>\n",
       "      <td>754.16</td>\n",
       "      <td>7.00</td>\n",
       "      <td>1</td>\n",
       "      <td>ultra</td>\n",
       "    </tr>\n",
       "    <tr>\n",
       "      <th>8</th>\n",
       "      <th>1</th>\n",
       "      <td>6,723.47</td>\n",
       "      <td>46.00</td>\n",
       "      <td>2</td>\n",
       "      <td>ultra</td>\n",
       "    </tr>\n",
       "    <tr>\n",
       "      <th>10</th>\n",
       "      <th>1</th>\n",
       "      <td>5,809.91</td>\n",
       "      <td>32.00</td>\n",
       "      <td>2</td>\n",
       "      <td>ultra</td>\n",
       "    </tr>\n",
       "    <tr>\n",
       "      <th>11</th>\n",
       "      <th>1</th>\n",
       "      <td>7,003.50</td>\n",
       "      <td>56.00</td>\n",
       "      <td>3</td>\n",
       "      <td>ultra</td>\n",
       "    </tr>\n",
       "    <tr>\n",
       "      <th>12</th>\n",
       "      <th>1</th>\n",
       "      <td>6,751.63</td>\n",
       "      <td>28.00</td>\n",
       "      <td>2</td>\n",
       "      <td>ultra</td>\n",
       "    </tr>\n",
       "  </tbody>\n",
       "</table>\n",
       "</div>"
      ],
      "text/plain": [
       "               sum_distance  sum_duration  rides_number subscription_type\n",
       "month user_id                                                            \n",
       "1     1            7,027.51         42.00             2             ultra\n",
       "4     1              754.16          7.00             1             ultra\n",
       "8     1            6,723.47         46.00             2             ultra\n",
       "10    1            5,809.91         32.00             2             ultra\n",
       "11    1            7,003.50         56.00             3             ultra\n",
       "12    1            6,751.63         28.00             2             ultra"
      ]
     },
     "execution_count": 71,
     "metadata": {},
     "output_type": "execute_result"
    }
   ],
   "source": [
    "check_pivot = data_for_revenue.query('user_id == 1')\n",
    "check_pivot"
   ]
  },
  {
   "cell_type": "markdown",
   "id": "66367f59-0659-40a2-9035-0d04c12b6d91",
   "metadata": {},
   "source": [
    "Из вышепредставленных данных видно, что пользователь с id под номером 1 (имеющий подписку Ultra) совершил 12 поездок за 6 разных месяцев. "
   ]
  },
  {
   "cell_type": "markdown",
   "id": "32e94afc-06cb-4b40-8dc9-9a023ef5c944",
   "metadata": {},
   "source": [
    "**(7) Добавим в сводную таблицу столбец `sub_fee` с информацией об абонентской плате**"
   ]
  },
  {
   "cell_type": "markdown",
   "id": "0b4f000d-a713-400b-b762-88286ddc6dd2",
   "metadata": {},
   "source": [
    "* без подписки — **отсутствует**;\n",
    "* с подпиской Ultra — **199 рублей в месяц**"
   ]
  },
  {
   "cell_type": "code",
   "execution_count": 72,
   "id": "320e7f11-c373-4901-b5f8-c34996583020",
   "metadata": {},
   "outputs": [],
   "source": [
    "def sub_fee(row):\n",
    "    sub = row['subscription_type']\n",
    "    if sub == 'ultra':\n",
    "        return 199\n",
    "    return 0\n",
    "\n",
    "data_for_revenue['sub_fee'] = data_for_revenue.apply(sub_fee, axis=1)"
   ]
  },
  {
   "cell_type": "markdown",
   "id": "1370de7b-e7c6-49ee-8116-f00a2acf937c",
   "metadata": {},
   "source": [
    "**(8) Добавим в сводную таблицу столбец `one_minute_cost` с информацией о стоимости одной минуты поездки**"
   ]
  },
  {
   "cell_type": "markdown",
   "id": "a768d327-0e35-4364-b45c-851df3a070f0",
   "metadata": {},
   "source": [
    "* без подписки — **6 рублей**;\n",
    "* с подпиской Ultra — **8 рублей**"
   ]
  },
  {
   "cell_type": "code",
   "execution_count": 73,
   "id": "833e3b2d-65f0-4f2d-b3f9-866a063cc7ab",
   "metadata": {},
   "outputs": [],
   "source": [
    "def one_minute_cost(row):\n",
    "    sub = row['subscription_type']\n",
    "    if sub == 'ultra':\n",
    "        return 6\n",
    "    return 8\n",
    "\n",
    "data_for_revenue['one_minute_cost'] = data_for_revenue.apply(one_minute_cost, axis=1)"
   ]
  },
  {
   "cell_type": "markdown",
   "id": "0e53c649-efe5-47ee-9a04-3c356ec518f0",
   "metadata": {},
   "source": [
    "**(9) Добавим в сводную таблицу столбец `start_cost` с информацией о стоимости старта**"
   ]
  },
  {
   "cell_type": "markdown",
   "id": "6677cf82-8921-424e-b9d3-d730e7d5fc5f",
   "metadata": {},
   "source": [
    "* без подписки — **50 рублей**;\n",
    "* с подпиской Ultra — **бесплатно**"
   ]
  },
  {
   "cell_type": "code",
   "execution_count": 74,
   "id": "e9fa8d4e-70f9-4dae-afe7-92553bbb4a7f",
   "metadata": {},
   "outputs": [],
   "source": [
    "def start_cost(row):\n",
    "    sub = row['subscription_type']\n",
    "    if sub == 'ultra':\n",
    "        return 0\n",
    "    return 50\n",
    "\n",
    "data_for_revenue['start_cost'] = data_for_revenue.apply(start_cost, axis=1)"
   ]
  },
  {
   "cell_type": "markdown",
   "id": "610e634d-70ed-4270-8f9c-47b450bca05d",
   "metadata": {},
   "source": [
    "**(10) Добавим столбец `revenue_per_month` с помесячной выручкой**"
   ]
  },
  {
   "cell_type": "code",
   "execution_count": 75,
   "id": "8648afc3-c133-44be-82a3-f76245a2c035",
   "metadata": {},
   "outputs": [],
   "source": [
    "a = data_for_revenue['sum_duration']\n",
    "b = data_for_revenue['one_minute_cost']\n",
    "c = data_for_revenue['sub_fee']\n",
    "d = data_for_revenue['start_cost']\n",
    "e = data_for_revenue['rides_number'] \n",
    "\n",
    "data_for_revenue['revenue_per_month'] = a * b + c + d * e"
   ]
  },
  {
   "cell_type": "markdown",
   "id": "541c2295-5546-4c21-94ea-fe8d14ea8235",
   "metadata": {},
   "source": [
    "Вернёмся к пользователю с id под номером 1 и посмотрим, какую выручку он принёс компании в каждом месяце (месяцы, когда он арендовал электросамокат):"
   ]
  },
  {
   "cell_type": "code",
   "execution_count": 76,
   "id": "d68e9976-07d0-4e26-abf7-b1280d9afe6f",
   "metadata": {},
   "outputs": [
    {
     "data": {
      "text/html": [
       "<div>\n",
       "<style scoped>\n",
       "    .dataframe tbody tr th:only-of-type {\n",
       "        vertical-align: middle;\n",
       "    }\n",
       "\n",
       "    .dataframe tbody tr th {\n",
       "        vertical-align: top;\n",
       "    }\n",
       "\n",
       "    .dataframe thead th {\n",
       "        text-align: right;\n",
       "    }\n",
       "</style>\n",
       "<table border=\"1\" class=\"dataframe\">\n",
       "  <thead>\n",
       "    <tr style=\"text-align: right;\">\n",
       "      <th></th>\n",
       "      <th></th>\n",
       "      <th>sum_distance</th>\n",
       "      <th>sum_duration</th>\n",
       "      <th>rides_number</th>\n",
       "      <th>subscription_type</th>\n",
       "      <th>sub_fee</th>\n",
       "      <th>one_minute_cost</th>\n",
       "      <th>start_cost</th>\n",
       "      <th>revenue_per_month</th>\n",
       "    </tr>\n",
       "    <tr>\n",
       "      <th>month</th>\n",
       "      <th>user_id</th>\n",
       "      <th></th>\n",
       "      <th></th>\n",
       "      <th></th>\n",
       "      <th></th>\n",
       "      <th></th>\n",
       "      <th></th>\n",
       "      <th></th>\n",
       "      <th></th>\n",
       "    </tr>\n",
       "  </thead>\n",
       "  <tbody>\n",
       "    <tr>\n",
       "      <th>1</th>\n",
       "      <th>1</th>\n",
       "      <td>7,027.51</td>\n",
       "      <td>42.00</td>\n",
       "      <td>2</td>\n",
       "      <td>ultra</td>\n",
       "      <td>199</td>\n",
       "      <td>6</td>\n",
       "      <td>0</td>\n",
       "      <td>451.00</td>\n",
       "    </tr>\n",
       "    <tr>\n",
       "      <th>4</th>\n",
       "      <th>1</th>\n",
       "      <td>754.16</td>\n",
       "      <td>7.00</td>\n",
       "      <td>1</td>\n",
       "      <td>ultra</td>\n",
       "      <td>199</td>\n",
       "      <td>6</td>\n",
       "      <td>0</td>\n",
       "      <td>241.00</td>\n",
       "    </tr>\n",
       "    <tr>\n",
       "      <th>8</th>\n",
       "      <th>1</th>\n",
       "      <td>6,723.47</td>\n",
       "      <td>46.00</td>\n",
       "      <td>2</td>\n",
       "      <td>ultra</td>\n",
       "      <td>199</td>\n",
       "      <td>6</td>\n",
       "      <td>0</td>\n",
       "      <td>475.00</td>\n",
       "    </tr>\n",
       "    <tr>\n",
       "      <th>10</th>\n",
       "      <th>1</th>\n",
       "      <td>5,809.91</td>\n",
       "      <td>32.00</td>\n",
       "      <td>2</td>\n",
       "      <td>ultra</td>\n",
       "      <td>199</td>\n",
       "      <td>6</td>\n",
       "      <td>0</td>\n",
       "      <td>391.00</td>\n",
       "    </tr>\n",
       "    <tr>\n",
       "      <th>11</th>\n",
       "      <th>1</th>\n",
       "      <td>7,003.50</td>\n",
       "      <td>56.00</td>\n",
       "      <td>3</td>\n",
       "      <td>ultra</td>\n",
       "      <td>199</td>\n",
       "      <td>6</td>\n",
       "      <td>0</td>\n",
       "      <td>535.00</td>\n",
       "    </tr>\n",
       "    <tr>\n",
       "      <th>12</th>\n",
       "      <th>1</th>\n",
       "      <td>6,751.63</td>\n",
       "      <td>28.00</td>\n",
       "      <td>2</td>\n",
       "      <td>ultra</td>\n",
       "      <td>199</td>\n",
       "      <td>6</td>\n",
       "      <td>0</td>\n",
       "      <td>367.00</td>\n",
       "    </tr>\n",
       "  </tbody>\n",
       "</table>\n",
       "</div>"
      ],
      "text/plain": [
       "               sum_distance  sum_duration  rides_number subscription_type  \\\n",
       "month user_id                                                               \n",
       "1     1            7,027.51         42.00             2             ultra   \n",
       "4     1              754.16          7.00             1             ultra   \n",
       "8     1            6,723.47         46.00             2             ultra   \n",
       "10    1            5,809.91         32.00             2             ultra   \n",
       "11    1            7,003.50         56.00             3             ultra   \n",
       "12    1            6,751.63         28.00             2             ultra   \n",
       "\n",
       "               sub_fee  one_minute_cost  start_cost  revenue_per_month  \n",
       "month user_id                                                           \n",
       "1     1            199                6           0             451.00  \n",
       "4     1            199                6           0             241.00  \n",
       "8     1            199                6           0             475.00  \n",
       "10    1            199                6           0             391.00  \n",
       "11    1            199                6           0             535.00  \n",
       "12    1            199                6           0             367.00  "
      ]
     },
     "execution_count": 76,
     "metadata": {},
     "output_type": "execute_result"
    }
   ],
   "source": [
    "check_pivot_extra = data_for_revenue.query('user_id == 1')\n",
    "check_pivot_extra"
   ]
  },
  {
   "cell_type": "markdown",
   "id": "7f164db8-1d8d-4da8-9d36-cffb981bafef",
   "metadata": {},
   "source": [
    "Дополнительно проверим пользователя без подписка:"
   ]
  },
  {
   "cell_type": "code",
   "execution_count": 77,
   "id": "2d126f22-8a16-4792-88cd-a109eb2cbea4",
   "metadata": {},
   "outputs": [
    {
     "data": {
      "text/html": [
       "<div>\n",
       "<style scoped>\n",
       "    .dataframe tbody tr th:only-of-type {\n",
       "        vertical-align: middle;\n",
       "    }\n",
       "\n",
       "    .dataframe tbody tr th {\n",
       "        vertical-align: top;\n",
       "    }\n",
       "\n",
       "    .dataframe thead th {\n",
       "        text-align: right;\n",
       "    }\n",
       "</style>\n",
       "<table border=\"1\" class=\"dataframe\">\n",
       "  <thead>\n",
       "    <tr style=\"text-align: right;\">\n",
       "      <th></th>\n",
       "      <th></th>\n",
       "      <th>sum_distance</th>\n",
       "      <th>sum_duration</th>\n",
       "      <th>rides_number</th>\n",
       "      <th>subscription_type</th>\n",
       "      <th>sub_fee</th>\n",
       "      <th>one_minute_cost</th>\n",
       "      <th>start_cost</th>\n",
       "      <th>revenue_per_month</th>\n",
       "    </tr>\n",
       "    <tr>\n",
       "      <th>month</th>\n",
       "      <th>user_id</th>\n",
       "      <th></th>\n",
       "      <th></th>\n",
       "      <th></th>\n",
       "      <th></th>\n",
       "      <th></th>\n",
       "      <th></th>\n",
       "      <th></th>\n",
       "      <th></th>\n",
       "    </tr>\n",
       "  </thead>\n",
       "  <tbody>\n",
       "    <tr>\n",
       "      <th>1</th>\n",
       "      <th>756</th>\n",
       "      <td>3,172.11</td>\n",
       "      <td>25.00</td>\n",
       "      <td>1</td>\n",
       "      <td>free</td>\n",
       "      <td>0</td>\n",
       "      <td>8</td>\n",
       "      <td>50</td>\n",
       "      <td>250.00</td>\n",
       "    </tr>\n",
       "    <tr>\n",
       "      <th>2</th>\n",
       "      <th>756</th>\n",
       "      <td>2,931.51</td>\n",
       "      <td>11.00</td>\n",
       "      <td>1</td>\n",
       "      <td>free</td>\n",
       "      <td>0</td>\n",
       "      <td>8</td>\n",
       "      <td>50</td>\n",
       "      <td>138.00</td>\n",
       "    </tr>\n",
       "    <tr>\n",
       "      <th>5</th>\n",
       "      <th>756</th>\n",
       "      <td>4,916.91</td>\n",
       "      <td>40.00</td>\n",
       "      <td>2</td>\n",
       "      <td>free</td>\n",
       "      <td>0</td>\n",
       "      <td>8</td>\n",
       "      <td>50</td>\n",
       "      <td>420.00</td>\n",
       "    </tr>\n",
       "    <tr>\n",
       "      <th>6</th>\n",
       "      <th>756</th>\n",
       "      <td>6,369.71</td>\n",
       "      <td>46.00</td>\n",
       "      <td>2</td>\n",
       "      <td>free</td>\n",
       "      <td>0</td>\n",
       "      <td>8</td>\n",
       "      <td>50</td>\n",
       "      <td>468.00</td>\n",
       "    </tr>\n",
       "    <tr>\n",
       "      <th>7</th>\n",
       "      <th>756</th>\n",
       "      <td>2,381.10</td>\n",
       "      <td>20.00</td>\n",
       "      <td>1</td>\n",
       "      <td>free</td>\n",
       "      <td>0</td>\n",
       "      <td>8</td>\n",
       "      <td>50</td>\n",
       "      <td>210.00</td>\n",
       "    </tr>\n",
       "    <tr>\n",
       "      <th>9</th>\n",
       "      <th>756</th>\n",
       "      <td>7,305.15</td>\n",
       "      <td>45.00</td>\n",
       "      <td>2</td>\n",
       "      <td>free</td>\n",
       "      <td>0</td>\n",
       "      <td>8</td>\n",
       "      <td>50</td>\n",
       "      <td>460.00</td>\n",
       "    </tr>\n",
       "    <tr>\n",
       "      <th>10</th>\n",
       "      <th>756</th>\n",
       "      <td>2,161.61</td>\n",
       "      <td>14.00</td>\n",
       "      <td>1</td>\n",
       "      <td>free</td>\n",
       "      <td>0</td>\n",
       "      <td>8</td>\n",
       "      <td>50</td>\n",
       "      <td>162.00</td>\n",
       "    </tr>\n",
       "    <tr>\n",
       "      <th>11</th>\n",
       "      <th>756</th>\n",
       "      <td>9,015.73</td>\n",
       "      <td>49.00</td>\n",
       "      <td>3</td>\n",
       "      <td>free</td>\n",
       "      <td>0</td>\n",
       "      <td>8</td>\n",
       "      <td>50</td>\n",
       "      <td>542.00</td>\n",
       "    </tr>\n",
       "    <tr>\n",
       "      <th>12</th>\n",
       "      <th>756</th>\n",
       "      <td>2,444.26</td>\n",
       "      <td>23.00</td>\n",
       "      <td>1</td>\n",
       "      <td>free</td>\n",
       "      <td>0</td>\n",
       "      <td>8</td>\n",
       "      <td>50</td>\n",
       "      <td>234.00</td>\n",
       "    </tr>\n",
       "  </tbody>\n",
       "</table>\n",
       "</div>"
      ],
      "text/plain": [
       "               sum_distance  sum_duration  rides_number subscription_type  \\\n",
       "month user_id                                                               \n",
       "1     756          3,172.11         25.00             1              free   \n",
       "2     756          2,931.51         11.00             1              free   \n",
       "5     756          4,916.91         40.00             2              free   \n",
       "6     756          6,369.71         46.00             2              free   \n",
       "7     756          2,381.10         20.00             1              free   \n",
       "9     756          7,305.15         45.00             2              free   \n",
       "10    756          2,161.61         14.00             1              free   \n",
       "11    756          9,015.73         49.00             3              free   \n",
       "12    756          2,444.26         23.00             1              free   \n",
       "\n",
       "               sub_fee  one_minute_cost  start_cost  revenue_per_month  \n",
       "month user_id                                                           \n",
       "1     756            0                8          50             250.00  \n",
       "2     756            0                8          50             138.00  \n",
       "5     756            0                8          50             420.00  \n",
       "6     756            0                8          50             468.00  \n",
       "7     756            0                8          50             210.00  \n",
       "9     756            0                8          50             460.00  \n",
       "10    756            0                8          50             162.00  \n",
       "11    756            0                8          50             542.00  \n",
       "12    756            0                8          50             234.00  "
      ]
     },
     "execution_count": 77,
     "metadata": {},
     "output_type": "execute_result"
    }
   ],
   "source": [
    "check_pivot_extra = data_for_revenue.query('user_id == 756')\n",
    "check_pivot_extra"
   ]
  },
  {
   "cell_type": "code",
   "execution_count": 78,
   "id": "70c2d802",
   "metadata": {},
   "outputs": [
    {
     "data": {
      "text/plain": [
       "3873131.0"
      ]
     },
     "execution_count": 78,
     "metadata": {},
     "output_type": "execute_result"
    }
   ],
   "source": [
    "data_for_revenue['revenue_per_month'].sum()"
   ]
  },
  {
   "cell_type": "markdown",
   "id": "4bafac21-e18d-4210-9616-f20e47c75695",
   "metadata": {},
   "source": [
    "<a id=\"revenueresults\"></a>\n",
    "### <u>**Результаты**</u>"
   ]
  },
  {
   "cell_type": "markdown",
   "id": "da41abb5-66fb-4941-92f0-c78bd2e2f2ba",
   "metadata": {},
   "source": [
    "1. Создан датафрейм **data_for_revenue** с информацией о суммарном расстоянии (`sum_distance`), количестве поeздок (`rides_number`), суммарном времени (`sum_duration`) для каждого пользователя за каждый месяц;"
   ]
  },
  {
   "cell_type": "markdown",
   "id": "c40c1a3b-3d6b-44a4-9922-3779e960d2a3",
   "metadata": {},
   "source": [
    "2.  В датафрейм **data_for_revenue** добавлен столбец `revenue_per_month` с помесячной выручкой, которую принёс каждый пользователь. Выведен реультат для одного пользователя."
   ]
  },
  {
   "cell_type": "markdown",
   "id": "41545ac0",
   "metadata": {},
   "source": [
    "## Шаг 6. Проверка гипотез"
   ]
  },
  {
   "cell_type": "markdown",
   "id": "9070171c-641e-4984-8f58-47aefadb9408",
   "metadata": {},
   "source": [
    "### Гипотеза № 1"
   ]
  },
  {
   "cell_type": "markdown",
   "id": "3b948065-6431-45b0-b0f8-f30f59c672da",
   "metadata": {},
   "source": [
    "<u>**Вопрос заказчика**</u>: Тратят ли пользователи с подпиской больше времени на поездки?"
   ]
  },
  {
   "cell_type": "markdown",
   "id": "e7d5ab31-3f0a-4e27-b015-d70139975ed6",
   "metadata": {},
   "source": [
    "**Проверка гипотезы:** пользователи с подпиской Ultra тратят больше времени на поездки, чем пользователи без подписки."
   ]
  },
  {
   "cell_type": "markdown",
   "id": "b0c8cfb0-10b6-4696-8516-203707dd4116",
   "metadata": {},
   "source": [
    "---\n",
    "**H_0:** Время поездки пользователей (`duration`) по подписке Ultra = Время поездки пользователей пользователей (`duration`) без подписки."
   ]
  },
  {
   "cell_type": "markdown",
   "id": "e1a0594c-3b90-4d95-a04a-36d1147b058b",
   "metadata": {},
   "source": [
    "**H_1:** Время поездки пользователей (`duration`) по подписке Ultra > Время поездки пользователей пользователей (`duration`) без подписки."
   ]
  },
  {
   "cell_type": "markdown",
   "id": "708b2bc0-cc23-4b91-bffc-5eaa4826a01d",
   "metadata": {},
   "source": [
    "---\n",
    "**alpha = 0.05**"
   ]
  },
  {
   "cell_type": "code",
   "execution_count": 79,
   "id": "b73a8ee9-c9a1-4049-ba92-44801afed10a",
   "metadata": {},
   "outputs": [
    {
     "name": "stdout",
     "output_type": "stream",
     "text": [
      "p-значение: 4.7044680744539e-28\n",
      "Отвергаем нулевую гипотезу\n"
     ]
    }
   ],
   "source": [
    "ultra = ultra_subscription['duration'] \n",
    "free = free_subscription['duration']\n",
    "\n",
    "# проводим ttest для двух выборок, в качестве альтернативной используем одностороннюю гипотезу «больше»\n",
    "\n",
    "results = st.ttest_ind(ultra, \n",
    "                       free,\n",
    "                       alternative='greater')\n",
    "\n",
    "# зададим уровень статистической значимости\n",
    "\n",
    "alpha = 0.05\n",
    "\n",
    "# выведем на экран полученное p-значение\n",
    "\n",
    "print('p-значение:', results.pvalue)\n",
    "\n",
    "if results.pvalue < alpha:\n",
    "    print('Отвергаем нулевую гипотезу')\n",
    "else:\n",
    "    print('Не получилось отвергнуть нулевую гипотезу')"
   ]
  },
  {
   "cell_type": "markdown",
   "id": "778f1ed5-78a8-4818-a350-545a54890b99",
   "metadata": {},
   "source": [
    "<u>**Вывод:**</u> нулевая гипотеза отвергнута => время поездки пользователей по подписке Ultra **превышает** время поездки пользователей пользователей без подписки => **пользователи с подпиской Ultra являются «выгодными» для компании**."
   ]
  },
  {
   "cell_type": "markdown",
   "id": "aabb7b96-5c9f-4c64-a8c3-423101e2a0c0",
   "metadata": {},
   "source": [
    "### Гипотеза № 2"
   ]
  },
  {
   "cell_type": "markdown",
   "id": "452877ce-9aff-462a-a95d-644dba0390ef",
   "metadata": {},
   "source": [
    "<u>**Вопрос заказчика**</u>: Расстояние одной поездки в 3 130 метров — оптимальное с точки зрения износа самоката. Можно ли сказать, что среднее расстояние, которое проезжают пользователи с подпиской за одну поездку, не превышает 3 130 метров?"
   ]
  },
  {
   "cell_type": "markdown",
   "id": "12245fbc-4bab-4604-8ee7-0e8265c5578e",
   "metadata": {},
   "source": [
    "**Проверка гипотезы:** пользователи с подпиской Ultra проезжают расстояние, НЕ превышающее 3 130 метров в среднем за одну поездку."
   ]
  },
  {
   "cell_type": "markdown",
   "id": "57b863fc-ee4b-48ae-8af5-50803f39cfef",
   "metadata": {},
   "source": [
    "---\n",
    "**H_0:** Расстояние пользователей (`distance`) по подписке Ultra = 3130 метров."
   ]
  },
  {
   "cell_type": "markdown",
   "id": "9dd6c3d7-d84a-4c6b-87f1-b9d0e23849e2",
   "metadata": {},
   "source": [
    "**H_1:** Расстояние пользователей (`distance`) по подписке Ultra > 3130 метров."
   ]
  },
  {
   "cell_type": "markdown",
   "id": "f6b66bed",
   "metadata": {},
   "source": [
    "<div class=\"alert alert-dan ger\">\n",
    "<font size=\"4\"><b>❌ Комментарий ревьюера</b></font>\n",
    "    <br /> \n",
    "    <font size=\"3\", color = \"black\">\n",
    "<br />В данном случае стоит использовать параметр alternative = 'greater'. Поскольку оптимальное расстояние по износу составляет 3130 м, значит большее расстояние приводит к повышенному износу самоката. Следовательно, имеет смысл сформулировать альтернативную гипотезу \"Подписчики в среднем проезжают расстояние больше оптимального\"\n",
    "</div>"
   ]
  },
  {
   "cell_type": "markdown",
   "id": "cab002c2-05f9-43f1-b7e2-b7ae33beca9e",
   "metadata": {},
   "source": [
    "---\n",
    "**alpha = 0.05**"
   ]
  },
  {
   "cell_type": "code",
   "execution_count": 80,
   "id": "5967e24d-fa4e-474c-8e34-0c12a6c87925",
   "metadata": {},
   "outputs": [
    {
     "name": "stdout",
     "output_type": "stream",
     "text": [
      "p-значение: 0.9195368847849785\n",
      "Не получилось отвергнуть нулевую гипотезу\n"
     ]
    }
   ],
   "source": [
    "ultra_distance = ultra_subscription['distance'] \n",
    "\n",
    "interested_value = 3130\n",
    "\n",
    "# проводим ttest для одной выборки, в качестве альтернативной используем одностороннюю гипотезу «больше»\n",
    "\n",
    "results = st.ttest_1samp(ultra_distance, \n",
    "                       interested_value,\n",
    "                       alternative='greater')\n",
    "\n",
    "# зададим уровень статистической значимости\n",
    "\n",
    "alpha = 0.05\n",
    "\n",
    "# выведем на экран полученное p-значение\n",
    "\n",
    "print('p-значение:', results.pvalue)\n",
    "\n",
    "if results.pvalue < alpha:\n",
    "    print('Отвергаем нулевую гипотезу')\n",
    "else:\n",
    "    print('Не получилось отвергнуть нулевую гипотезу')"
   ]
  },
  {
   "cell_type": "markdown",
   "id": "95a32832-a097-4bbf-a9a7-59d25e827926",
   "metadata": {},
   "source": [
    "<u>**Вывод:**</u> не получилось отвергнуть нулевую гипотезу => пользователи с подпиской Ultra **могут проезжать расстояние, равное 3130 метров в среднем за одну поездку** => нельзя утверждать, что увеличение пользователей с подпиской ускорит износ электросамокатов."
   ]
  },
  {
   "cell_type": "markdown",
   "id": "d862d475-addc-4113-ae7f-5ed18c258f8e",
   "metadata": {},
   "source": [
    "### Гипотеза № 3"
   ]
  },
  {
   "cell_type": "markdown",
   "id": "a8066c96-3a49-44fd-84a5-3da351f0a1f8",
   "metadata": {},
   "source": [
    "<u>**Вопрос заказчика**</u>: Будет ли помесячная выручка от пользователей с подпиской по месяцам выше, чем выручка от пользователей без подписки?"
   ]
  },
  {
   "cell_type": "markdown",
   "id": "4c8c7e7e-e06e-4ea3-b9d8-d7aba999e97f",
   "metadata": {},
   "source": [
    "**Проверка гипотезы:** помесячная выручка от пользователей с подпиской Ultra выше, чем выручка от пользователей без подписки."
   ]
  },
  {
   "cell_type": "markdown",
   "id": "f3fd16c1-0f71-4683-a3ec-6866b78d5da7",
   "metadata": {},
   "source": [
    "---\n",
    "**H_0:** Помесячная выручка пользователей (`revenue_per_month`) по подписке Ultra = Помесячная выручка пользователей (`revenue_per_month`) без подписки."
   ]
  },
  {
   "cell_type": "markdown",
   "id": "420e447b-afbc-4677-907e-9cdb718fd3e2",
   "metadata": {},
   "source": [
    "**H_1:** Помесячная выручка пользователей (`revenue_per_month`) по подписке Ultra > Помесячная выручка пользователей (`revenue_per_month`) без подписки."
   ]
  },
  {
   "cell_type": "markdown",
   "id": "4c857c2d-fa0f-4cfc-9905-242d47ccd6ba",
   "metadata": {},
   "source": [
    "---\n",
    "**alpha = 0.05**"
   ]
  },
  {
   "cell_type": "code",
   "execution_count": 81,
   "id": "6b1b3958-1fcf-4210-b78f-5097eefc2a30",
   "metadata": {},
   "outputs": [
    {
     "name": "stdout",
     "output_type": "stream",
     "text": [
      "p-значение: 2.0314113674863288e-30\n",
      "Отвергаем нулевую гипотезу\n"
     ]
    }
   ],
   "source": [
    "ultra_revnue_month = data_for_revenue.loc[data_for_revenue.subscription_type == 'ultra', 'revenue_per_month'] \n",
    "free_revnue_month = data_for_revenue.loc[data_for_revenue.subscription_type == 'free', 'revenue_per_month'] \n",
    "\n",
    "# проводим ttest для двух выборок, в качестве альтернативной используем одностороннюю гипотезу «больше»\n",
    "\n",
    "results = st.ttest_ind(ultra_revnue_month, \n",
    "                       free_revnue_month,\n",
    "                       alternative ='greater')\n",
    "\n",
    "# зададим уровень статистической значимости\n",
    "\n",
    "alpha = 0.05\n",
    "\n",
    "# выведем на экран полученное p-значение\n",
    "\n",
    "print('p-значение:', results.pvalue)\n",
    "\n",
    "if results.pvalue < alpha:\n",
    "    print('Отвергаем нулевую гипотезу')\n",
    "else:\n",
    "    print('Не получилось отвергнуть нулевую гипотезу')"
   ]
  },
  {
   "cell_type": "markdown",
   "id": "5e21d293-d0a2-4b48-ac65-63ef398a3d40",
   "metadata": {},
   "source": [
    "<u>**Вывод:**</u> нулевая гипотеза отвергнута => помесячная выручка пользователей по подписке Ultra **больше** помесячной выручки пользователей без подписки."
   ]
  },
  {
   "cell_type": "markdown",
   "id": "65c6342e-9a4f-484c-8cde-c23d55d6a468",
   "metadata": {},
   "source": [
    "### Дополнительный вопрос"
   ]
  },
  {
   "cell_type": "markdown",
   "id": "76abcb97-be6a-4606-a1d6-c332f6f39254",
   "metadata": {},
   "source": [
    "<u>**Вопрос**</u>: техническая команда сервиса обновила сервера, с которыми взаимодействует мобильное приложение. Она надеется, что из-за этого количество обращений в техподдержку значимо снизилось. Некоторый файл содержит для каждого пользователя данные о количестве обращений до обновления и после него. Какой тест вам понадобился бы для проверки этой гипотезы?"
   ]
  },
  {
   "cell_type": "markdown",
   "id": "3a4f43c7-929b-41c4-8c1a-1a13b92cddaa",
   "metadata": {},
   "source": [
    "<u>**Ответ:**</u>"
   ]
  },
  {
   "cell_type": "markdown",
   "id": "ea5b14fa-cdcd-49d9-a03f-30f4d44823d3",
   "metadata": {},
   "source": [
    "В данном случае необходимо использовать **гипотезу о равенстве средних для зависимых (парных) выборок**.  Мы будем проверять **одностороннюю гипотезу**, т.е. предположение о снижении количества обращений. Возможность их увеличения мы рассматривать не будем.\n",
    "\n",
    "Гипотезы будут сформулированы так:\n",
    "\n",
    "**H_0 : μ1 = μ2**\n",
    "\n",
    "**H_1 : μ1 != (не равно) μ2**,\n",
    "\n",
    "*где μ1 и μ2 - средние значения количество обращений в техподдержку до и после изменения.*\n",
    "\n",
    "Для проверки гипотезы необходимо применить метод **scipy.stats.ttest_rel()**. Ему достаточно передать всего два параметра: наборы данных до и после. Оба набора должны быть одинаковыми по размеру: каждое измерение должно быть проведено до и после изменения."
   ]
  },
  {
   "cell_type": "markdown",
   "id": "bd916541-d70c-4985-883e-bd4660e9f763",
   "metadata": {},
   "source": [
    "## Шаг 7. Общий вывод"
   ]
  },
  {
   "cell_type": "markdown",
   "id": "70463f66-71b8-4a8e-afd4-41de13cd0eef",
   "metadata": {},
   "source": [
    "Для заказчика было проведено исследование данных сервиса GoFast о пользователях из нескольких городов, а также об их поездках. Цель исследования заключалась в следующем: выяснить, стоит ли продакт-менеджерам сервиса (далее - Заказчик) проводить различные акции для увеличиения количества пользователей с подпиской.\n",
    "\n",
    "Для анализа заказчик предоставил **3 файла** в CSV-формате. В файлах были представлены следующие данные:"
   ]
  },
  {
   "cell_type": "markdown",
   "id": "36421c7b-46bc-439f-8e3b-fdca44a23587",
   "metadata": {},
   "source": [
    "<u>**(1) Пользователи — users_go.csv</u>**\n",
    "\n",
    "* **`user_id`** — уникальный идентификатор пользователя\n",
    "* **`name`** — имя пользователя\n",
    "* **`age`** — возраст\n",
    "* **`city`** — город\n",
    "* **`subscription_type`** — тип подписки (free, ultra)\n",
    "\n",
    "<u>**(2) Поeздки — rides_go.csv</u>**\n",
    "\n",
    "* **`user_id`** — уникальный идентификатор пользователя\n",
    "* **`distance`** — расстояние, которое пользователь проехал в текущей сессии (в метрах)\n",
    "* **`duration`** — продолжительность сессии (в минутах) — время с того момента, как пользователь нажал кнопку «Начать поездку» до момента, как он нажал кнопку «Завершить поездку»\n",
    "* **`date`** — дата совершения поездки\n",
    "\n",
    "<u>**(3) Подписки — subscriptions_go.csv</u>**\n",
    "\n",
    "* **`subscription_type`** — тип подписки\n",
    "* **`minute_price`** — стоимость одной минуты поездки по данной подписке\n",
    "* **`start_ride_price`** — стоимость начала поездки\n",
    "* **`subscription_fee`** — стоимость ежемесячного платежа"
   ]
  },
  {
   "cell_type": "markdown",
   "id": "fc829d79-76e8-462b-8a28-44f5ff4d4049",
   "metadata": {},
   "source": [
    "---\n",
    "Сначала был проведён первичный анализ данных, где были выявлены проблемы в виде явных дубликатов и несоответствия типа данных столбцов описанию из документации. Подробнее см. **[Результаты и выявленные проблемы первичного анализа данных](#firstresults)**."
   ]
  },
  {
   "cell_type": "markdown",
   "id": "aa5a203a-45ff-47d9-a5a2-7d48b5931ab0",
   "metadata": {},
   "source": [
    "---\n",
    "Затем проведена предобработка данных, после которой стало возможным использовать датафрейм для исследовательского анализа. Подробнее см. **[Результаты предобработки данных](#preprocessingresults)**."
   ]
  },
  {
   "cell_type": "markdown",
   "id": "7fc98f50-740c-4abd-a691-739aae67bb70",
   "metadata": {},
   "source": [
    "---\n",
    "На этапе исследовательского анализа были изучены и обработаны 5 параметров из **[списка](#parameters)**. По результатам анализа сформулированы следующие выводы:"
   ]
  },
  {
   "cell_type": "markdown",
   "id": "de5d8189-254b-49d6-9e8d-de618a88b16a",
   "metadata": {},
   "source": [
    "1. Пользователи представлены в 8 городах, самое большое число пользователей в **Пятигорске** (**219 пользователей** или **14%**), наименьшее - в **Москве** (**168 пользователей** или **11%**)."
   ]
  },
  {
   "cell_type": "markdown",
   "id": "4050523c-88e9-4b12-939f-806b1fee4274",
   "metadata": {},
   "source": [
    "2. Число пользователей **без подписки** - **835 чел.** или **54%**), с подпиской **\"Ultra\"** - **699 чел.** или **46%**)."
   ]
  },
  {
   "cell_type": "markdown",
   "id": "682ae372-f810-4536-bc73-15199869d9e4",
   "metadata": {},
   "source": [
    "3. **94%** пользователей составляют лица **от 18 до 35 лет** (категория от 18 до 25 лет и категория о 26 до 35 лет), то есть данную возрастную группу можно считать целевой аудиторией сервиса. Пользователей **старше 35 лет** всего **1%**, это говорит нам о том, что у людей средних лет и старшего поколения самокатшеринг не пользуется спросом. Также есть **5% категория подростков до 18 лет**, которая подлежит проверке из-за причин, описанных ранее (см. [промежуточный вывод](#first_summary_age))."
   ]
  },
  {
   "cell_type": "markdown",
   "id": "89a03bd8-980b-4a76-9208-f055c783dede",
   "metadata": {},
   "source": [
    "4. За одну поездку пользователи обычно проезжают **от 2,5 до 4 км**."
   ]
  },
  {
   "cell_type": "markdown",
   "id": "8f27bab1-a456-4997-af7b-2b183bfb57df",
   "metadata": {},
   "source": [
    "5. Одна поездка занимает **от 12 до 22 минут**."
   ]
  },
  {
   "cell_type": "markdown",
   "id": "5b975f3f-95bf-42be-9c1f-d59a50fe1c66",
   "metadata": {},
   "source": [
    "---\n",
    "Для дальнейшего анализа данные о пользователях, поездках и тарифах объединены в один датафрейм - **data_full**, а затем созданы два датафрейма ина основе **data_full**:\n",
    "\n",
    "* **free_subscription** - данные о пользователях без подписки;\n",
    "* **ultra_subscription** -  данные о пользователях с подпиской."
   ]
  },
  {
   "cell_type": "markdown",
   "id": "ad1e0e07-0679-4096-a482-d30ea97d04f4",
   "metadata": {},
   "source": [
    "После этого детальному исследованию подверглась информация о расстоянии и времени поездок. Сформулированы следующие выводы:"
   ]
  },
  {
   "cell_type": "markdown",
   "id": "9b264120-f237-4acd-9893-1d0327bb6532",
   "metadata": {},
   "source": [
    "1. Пользователи без подписки в большинстве своём совершают поездки на расстояние **от 2 до 4,5 км**, и тратят на это **от 10 до 25 минут**. Самая длительная поездка не превышает **35 минут**. "
   ]
  },
  {
   "cell_type": "markdown",
   "id": "624e1095-acf2-4442-94f6-5efb478d4fc2",
   "metadata": {},
   "source": [
    "2. Пользователи с подпиской Ultra в большинстве своём совершают поездки на расстояние **от 2,5 до 3,5 км**, и тратят на это **от 10 до 25 минут**. Самая длительная поездка занимает **более 40 минут**."
   ]
  },
  {
   "cell_type": "markdown",
   "id": "3db4fa83-88b6-4cd0-9e23-5cf0475aa7df",
   "metadata": {},
   "source": [
    "3. Пользователи с подпиской Ultra могут совершать более долгие поездки по времени, но по расстоянию они могут быть меньше, чем у пользователей без подписки. Это можно объяснить тем, что **пользователи без подписки стремятся преодолевать дистанцию за самое короткое время** (если поездка не является прогулочной), так как помимо поминутной оплаты им необходимо оплатить стартовый взнос в размере 50 рублей."
   ]
  },
  {
   "cell_type": "markdown",
   "id": "892cf8cd-edf9-4e75-916e-42030313574f",
   "metadata": {},
   "source": [
    "---\n",
    "Для расчёта помесячной выручки, которую принёс каждый пользователь, создан датафрейм **data_for_revenue**. Подробнее см. **[Результаты подсчёта выручки](#revenueresults)**."
   ]
  },
  {
   "cell_type": "markdown",
   "id": "1a1417c1-7fb1-4976-9db7-494e559851ab",
   "metadata": {},
   "source": [
    "---\n",
    "Проверены гипотезы:"
   ]
  },
  {
   "cell_type": "markdown",
   "id": "17f20f85-5171-4632-a949-7fe4a7cb14b5",
   "metadata": {},
   "source": [
    "**Гипотеза 1:** пользователи с подпиской Ultra тратят больше времени на поездки, чем пользователи без подписки."
   ]
  },
  {
   "cell_type": "markdown",
   "id": "c61ca595-f942-4ba6-a308-ebf020fbee96",
   "metadata": {},
   "source": [
    "<u>**Вывод:**</u> нулевая гипотеза отвергнута => время поездки пользователей по подписке Ultra **превышает** время поездки пользователей пользователей без подписки => **пользователи с подпиской Ultra являются «выгодными» для компании**."
   ]
  },
  {
   "cell_type": "markdown",
   "id": "a603394c-cff4-481c-a0a2-33080a9cc937",
   "metadata": {},
   "source": [
    "---\n",
    "**Гипотеза 2:** пользователи с подпиской Ultra проезжают расстояние, НЕ превышающее 3 130 метров в среднем за одну поездку."
   ]
  },
  {
   "cell_type": "markdown",
   "id": "e9732364-e93f-42c1-9ff0-1fc95b66b381",
   "metadata": {},
   "source": [
    "<u>**Вывод:**</u> е получилось отвергнуть нулевую гипотезу => пользователи с подпиской Ultra **могут проезжать расстояние, равное 3130 метров в среднем за одну поездку** => нельзя утверждать, что увеличение пользователей с подпиской ускорит износ электросамокатов."
   ]
  },
  {
   "cell_type": "markdown",
   "id": "96e45c00-6c71-4ba9-9129-642a6286a0a3",
   "metadata": {},
   "source": [
    "---\n",
    "**Гипотеза 3:** помесячная выручка от пользователей с подпиской Ultra выше, чем выручка от пользователей без подписки."
   ]
  },
  {
   "cell_type": "markdown",
   "id": "fb79c5e8-0890-4153-826d-9c108284d612",
   "metadata": {},
   "source": [
    "<u>**Вывод:**</u> нулевая гипотеза отвергнута => помесячная выручка пользователей по подписке Ultra **больше** помесячной выручки пользователей без подписки."
   ]
  },
  {
   "cell_type": "markdown",
   "id": "1b0a83ff-b2d8-4632-b577-457b1c0a8ab5",
   "metadata": {},
   "source": [
    "---\n",
    "**Ответ на дополнительный вопрос:** для проверки количества обращений необходимо использовать **гипотезу о равенстве средних для зависимых (парных) выборок**. Мы будем проверять **одностороннюю гипотезу**, т.е. предположение о снижении количества обращений. Возможность их увеличения мы рассматривать не будем."
   ]
  },
  {
   "cell_type": "markdown",
   "id": "b98e6649-8abd-40bf-a97d-4193fe82b396",
   "metadata": {},
   "source": [
    "**РЕЗУЛЬТИРУЮЩИЙ ВЫВОД:**"
   ]
  },
  {
   "cell_type": "markdown",
   "id": "004352e7-623a-44fd-9d0c-31e792b06066",
   "metadata": {},
   "source": [
    "По результатам исследования можно утверждать, что увеличение количества пользователей с подпиской Ultra будет способстовать росту выручки компании, именно поэтому продакт-менеджерам сервиса следует проводить различные акции для достижения данной цели. Только пользователи с подпиской могут использовать электросамокат более 40 минут, так как они меньше тратят за одну минуту поездки и им не нужно платить стартовый взнос. Но следует учитывать тот факт, что пользователи с подпиской за одну поездку преодолевают большее расстояние, чем расстояние, считающееся оптимальным с точки зрения износа электросамокатов. Существует небольшая вероятность того, что увеличатся издержки на ремонт текущих электросамокатов и возникнет необходимость в увеличении размеров парка (электросамокатов)."
   ]
  }
 ],
 "metadata": {
  "ExecuteTimeLog": [
   {
    "duration": 44,
    "start_time": "2023-11-21T21:42:05.773Z"
   },
   {
    "duration": 1035,
    "start_time": "2023-11-21T21:42:11.269Z"
   },
   {
    "duration": 167,
    "start_time": "2023-11-21T21:42:12.306Z"
   },
   {
    "duration": 12,
    "start_time": "2023-11-21T21:42:12.474Z"
   },
   {
    "duration": 7,
    "start_time": "2023-11-21T21:42:12.487Z"
   },
   {
    "duration": 11,
    "start_time": "2023-11-21T21:42:12.495Z"
   },
   {
    "duration": 33,
    "start_time": "2023-11-21T21:42:12.507Z"
   },
   {
    "duration": 210,
    "start_time": "2023-11-21T21:42:12.541Z"
   },
   {
    "duration": 14,
    "start_time": "2023-11-21T21:42:12.752Z"
   },
   {
    "duration": 8,
    "start_time": "2023-11-21T21:42:12.767Z"
   },
   {
    "duration": 8,
    "start_time": "2023-11-21T21:42:12.776Z"
   },
   {
    "duration": 150,
    "start_time": "2023-11-21T21:42:12.786Z"
   },
   {
    "duration": 10,
    "start_time": "2023-11-21T21:42:12.938Z"
   },
   {
    "duration": 5,
    "start_time": "2023-11-21T21:42:12.949Z"
   },
   {
    "duration": 3,
    "start_time": "2023-11-21T21:42:12.957Z"
   },
   {
    "duration": 6,
    "start_time": "2023-11-21T21:42:12.961Z"
   },
   {
    "duration": 12,
    "start_time": "2023-11-21T21:42:12.968Z"
   },
   {
    "duration": 18,
    "start_time": "2023-11-21T21:42:12.981Z"
   },
   {
    "duration": 7,
    "start_time": "2023-11-21T21:42:13.000Z"
   },
   {
    "duration": 40,
    "start_time": "2023-11-21T21:42:13.008Z"
   },
   {
    "duration": 7,
    "start_time": "2023-11-21T21:42:13.049Z"
   },
   {
    "duration": 8,
    "start_time": "2023-11-21T21:42:13.057Z"
   },
   {
    "duration": 158,
    "start_time": "2023-11-21T21:42:13.066Z"
   },
   {
    "duration": 5,
    "start_time": "2023-11-21T21:42:13.225Z"
   },
   {
    "duration": 99,
    "start_time": "2023-11-21T21:42:13.231Z"
   },
   {
    "duration": 15,
    "start_time": "2023-11-21T21:42:13.331Z"
   },
   {
    "duration": 200,
    "start_time": "2023-11-21T21:42:13.347Z"
   },
   {
    "duration": 104,
    "start_time": "2023-11-21T21:42:13.548Z"
   },
   {
    "duration": 13,
    "start_time": "2023-11-21T21:42:13.654Z"
   },
   {
    "duration": 31,
    "start_time": "2023-11-21T21:42:13.668Z"
   },
   {
    "duration": 115,
    "start_time": "2023-11-21T21:42:13.701Z"
   },
   {
    "duration": 8,
    "start_time": "2023-11-21T21:42:13.817Z"
   },
   {
    "duration": 299,
    "start_time": "2023-11-21T21:42:13.826Z"
   },
   {
    "duration": 119,
    "start_time": "2023-11-21T21:42:14.127Z"
   },
   {
    "duration": 7,
    "start_time": "2023-11-21T21:42:14.248Z"
   },
   {
    "duration": 21,
    "start_time": "2023-11-21T21:42:14.256Z"
   },
   {
    "duration": 10,
    "start_time": "2023-11-21T21:42:14.278Z"
   },
   {
    "duration": 313,
    "start_time": "2023-11-21T21:42:14.290Z"
   },
   {
    "duration": 124,
    "start_time": "2023-11-21T21:42:14.605Z"
   },
   {
    "duration": 14,
    "start_time": "2023-11-21T21:42:14.731Z"
   },
   {
    "duration": 9,
    "start_time": "2023-11-21T21:42:14.746Z"
   },
   {
    "duration": 290,
    "start_time": "2023-11-21T21:42:14.760Z"
   },
   {
    "duration": 10,
    "start_time": "2023-11-21T21:42:15.052Z"
   },
   {
    "duration": 560,
    "start_time": "2023-11-21T21:42:15.063Z"
   },
   {
    "duration": 122,
    "start_time": "2023-11-21T21:42:15.624Z"
   },
   {
    "duration": 7,
    "start_time": "2023-11-21T21:42:15.747Z"
   },
   {
    "duration": 38,
    "start_time": "2023-11-21T21:42:15.755Z"
   },
   {
    "duration": 15,
    "start_time": "2023-11-21T21:42:15.794Z"
   },
   {
    "duration": 52,
    "start_time": "2023-11-21T21:42:15.810Z"
   },
   {
    "duration": 19,
    "start_time": "2023-11-21T21:42:15.863Z"
   },
   {
    "duration": 21,
    "start_time": "2023-11-21T21:42:15.883Z"
   },
   {
    "duration": 18,
    "start_time": "2023-11-21T21:42:15.905Z"
   },
   {
    "duration": 292,
    "start_time": "2023-11-21T21:42:15.924Z"
   },
   {
    "duration": 281,
    "start_time": "2023-11-21T21:42:16.217Z"
   },
   {
    "duration": 346,
    "start_time": "2023-11-21T21:42:16.500Z"
   },
   {
    "duration": 286,
    "start_time": "2023-11-21T21:42:16.848Z"
   },
   {
    "duration": 821,
    "start_time": "2023-11-21T21:42:17.135Z"
   },
   {
    "duration": 9,
    "start_time": "2023-11-21T21:42:17.957Z"
   },
   {
    "duration": 130,
    "start_time": "2023-11-21T21:42:17.967Z"
   },
   {
    "duration": 9,
    "start_time": "2023-11-21T21:42:18.099Z"
   },
   {
    "duration": 4,
    "start_time": "2023-11-21T21:42:18.110Z"
   },
   {
    "duration": 4,
    "start_time": "2023-11-21T21:42:18.116Z"
   },
   {
    "duration": 27,
    "start_time": "2023-11-21T21:42:18.121Z"
   },
   {
    "duration": 275,
    "start_time": "2023-11-21T21:42:41.072Z"
   },
   {
    "duration": 16,
    "start_time": "2023-11-21T21:46:57.082Z"
   },
   {
    "duration": 4,
    "start_time": "2023-11-21T21:48:34.118Z"
   },
   {
    "duration": 13,
    "start_time": "2023-11-21T21:48:41.310Z"
   },
   {
    "duration": 78,
    "start_time": "2023-11-21T21:53:38.114Z"
   },
   {
    "duration": 8,
    "start_time": "2023-11-21T21:53:43.650Z"
   },
   {
    "duration": 1029,
    "start_time": "2023-11-21T21:59:16.130Z"
   },
   {
    "duration": 115,
    "start_time": "2023-11-21T21:59:17.161Z"
   },
   {
    "duration": 12,
    "start_time": "2023-11-21T21:59:17.277Z"
   },
   {
    "duration": 27,
    "start_time": "2023-11-21T21:59:17.290Z"
   },
   {
    "duration": 10,
    "start_time": "2023-11-21T21:59:17.319Z"
   },
   {
    "duration": 25,
    "start_time": "2023-11-21T21:59:17.330Z"
   },
   {
    "duration": 169,
    "start_time": "2023-11-21T21:59:17.356Z"
   },
   {
    "duration": 14,
    "start_time": "2023-11-21T21:59:17.526Z"
   },
   {
    "duration": 47,
    "start_time": "2023-11-21T21:59:17.541Z"
   },
   {
    "duration": 12,
    "start_time": "2023-11-21T21:59:17.589Z"
   },
   {
    "duration": 89,
    "start_time": "2023-11-21T21:59:17.602Z"
   },
   {
    "duration": 11,
    "start_time": "2023-11-21T21:59:17.692Z"
   },
   {
    "duration": 13,
    "start_time": "2023-11-21T21:59:17.704Z"
   },
   {
    "duration": 12,
    "start_time": "2023-11-21T21:59:17.720Z"
   },
   {
    "duration": 27,
    "start_time": "2023-11-21T21:59:17.734Z"
   },
   {
    "duration": 16,
    "start_time": "2023-11-21T21:59:17.762Z"
   },
   {
    "duration": 19,
    "start_time": "2023-11-21T21:59:17.779Z"
   },
   {
    "duration": 13,
    "start_time": "2023-11-21T21:59:17.799Z"
   },
   {
    "duration": 50,
    "start_time": "2023-11-21T21:59:17.813Z"
   },
   {
    "duration": 48,
    "start_time": "2023-11-21T21:59:17.864Z"
   },
   {
    "duration": 13,
    "start_time": "2023-11-21T21:59:17.914Z"
   },
   {
    "duration": 154,
    "start_time": "2023-11-21T21:59:17.929Z"
   },
   {
    "duration": 5,
    "start_time": "2023-11-21T21:59:18.084Z"
   },
   {
    "duration": 102,
    "start_time": "2023-11-21T21:59:18.090Z"
   },
   {
    "duration": 7,
    "start_time": "2023-11-21T21:59:18.193Z"
   },
   {
    "duration": 196,
    "start_time": "2023-11-21T21:59:18.201Z"
   },
   {
    "duration": 99,
    "start_time": "2023-11-21T21:59:18.399Z"
   },
   {
    "duration": 13,
    "start_time": "2023-11-21T21:59:18.500Z"
   },
   {
    "duration": 8,
    "start_time": "2023-11-21T21:59:18.514Z"
   },
   {
    "duration": 112,
    "start_time": "2023-11-21T21:59:18.523Z"
   },
   {
    "duration": 14,
    "start_time": "2023-11-21T21:59:18.637Z"
   },
   {
    "duration": 295,
    "start_time": "2023-11-21T21:59:18.653Z"
   },
   {
    "duration": 114,
    "start_time": "2023-11-21T21:59:18.949Z"
   },
   {
    "duration": 6,
    "start_time": "2023-11-21T21:59:19.064Z"
   },
   {
    "duration": 6,
    "start_time": "2023-11-21T21:59:19.072Z"
   },
   {
    "duration": 7,
    "start_time": "2023-11-21T21:59:19.079Z"
   },
   {
    "duration": 353,
    "start_time": "2023-11-21T21:59:19.087Z"
   },
   {
    "duration": 121,
    "start_time": "2023-11-21T21:59:19.441Z"
   },
   {
    "duration": 6,
    "start_time": "2023-11-21T21:59:19.564Z"
   },
   {
    "duration": 18,
    "start_time": "2023-11-21T21:59:19.571Z"
   },
   {
    "duration": 279,
    "start_time": "2023-11-21T21:59:19.592Z"
   },
   {
    "duration": 10,
    "start_time": "2023-11-21T21:59:19.872Z"
   },
   {
    "duration": 278,
    "start_time": "2023-11-21T21:59:19.883Z"
   },
   {
    "duration": 112,
    "start_time": "2023-11-21T21:59:20.163Z"
   },
   {
    "duration": 6,
    "start_time": "2023-11-21T21:59:20.277Z"
   },
   {
    "duration": 40,
    "start_time": "2023-11-21T21:59:20.284Z"
   },
   {
    "duration": 33,
    "start_time": "2023-11-21T21:59:20.325Z"
   },
   {
    "duration": 119,
    "start_time": "2023-11-21T21:59:20.360Z"
   },
   {
    "duration": 52,
    "start_time": "2023-11-21T21:59:20.481Z"
   },
   {
    "duration": 28,
    "start_time": "2023-11-21T21:59:20.534Z"
   },
   {
    "duration": 25,
    "start_time": "2023-11-21T21:59:20.563Z"
   },
   {
    "duration": 292,
    "start_time": "2023-11-21T21:59:20.589Z"
   },
   {
    "duration": 272,
    "start_time": "2023-11-21T21:59:20.882Z"
   },
   {
    "duration": 343,
    "start_time": "2023-11-21T21:59:21.156Z"
   },
   {
    "duration": 278,
    "start_time": "2023-11-21T21:59:21.500Z"
   },
   {
    "duration": 780,
    "start_time": "2023-11-21T21:59:21.780Z"
   },
   {
    "duration": 10,
    "start_time": "2023-11-21T21:59:22.561Z"
   },
   {
    "duration": 130,
    "start_time": "2023-11-21T21:59:22.572Z"
   },
   {
    "duration": 10,
    "start_time": "2023-11-21T21:59:22.703Z"
   },
   {
    "duration": 5,
    "start_time": "2023-11-21T21:59:22.715Z"
   },
   {
    "duration": 24,
    "start_time": "2023-11-21T21:59:22.721Z"
   },
   {
    "duration": 5,
    "start_time": "2023-11-21T21:59:22.746Z"
   },
   {
    "duration": 17,
    "start_time": "2023-11-21T21:59:22.752Z"
   },
   {
    "duration": 4,
    "start_time": "2023-11-21T22:00:07.999Z"
   },
   {
    "duration": 1501,
    "start_time": "2023-11-23T07:48:26.119Z"
   },
   {
    "duration": 3,
    "start_time": "2023-11-23T07:48:27.622Z"
   },
   {
    "duration": 18,
    "start_time": "2023-11-23T07:48:27.626Z"
   },
   {
    "duration": 142,
    "start_time": "2023-11-23T07:48:27.647Z"
   },
   {
    "duration": 11,
    "start_time": "2023-11-23T07:48:27.791Z"
   },
   {
    "duration": 20,
    "start_time": "2023-11-23T07:48:27.803Z"
   },
   {
    "duration": 8,
    "start_time": "2023-11-23T07:48:27.824Z"
   },
   {
    "duration": 8,
    "start_time": "2023-11-23T07:48:27.834Z"
   },
   {
    "duration": 10,
    "start_time": "2023-11-23T07:48:27.843Z"
   },
   {
    "duration": 185,
    "start_time": "2023-11-23T07:48:27.857Z"
   },
   {
    "duration": 8,
    "start_time": "2023-11-23T07:48:28.044Z"
   },
   {
    "duration": 16,
    "start_time": "2023-11-23T07:48:28.054Z"
   },
   {
    "duration": 9,
    "start_time": "2023-11-23T07:48:28.071Z"
   },
   {
    "duration": 14,
    "start_time": "2023-11-23T07:48:28.082Z"
   },
   {
    "duration": 105,
    "start_time": "2023-11-23T07:48:28.097Z"
   },
   {
    "duration": 7,
    "start_time": "2023-11-23T07:48:28.203Z"
   },
   {
    "duration": 11,
    "start_time": "2023-11-23T07:48:28.212Z"
   },
   {
    "duration": 7,
    "start_time": "2023-11-23T07:48:28.225Z"
   },
   {
    "duration": 5,
    "start_time": "2023-11-23T07:48:28.234Z"
   },
   {
    "duration": 5,
    "start_time": "2023-11-23T07:48:28.240Z"
   },
   {
    "duration": 5,
    "start_time": "2023-11-23T07:48:28.246Z"
   },
   {
    "duration": 7,
    "start_time": "2023-11-23T07:48:28.252Z"
   },
   {
    "duration": 13,
    "start_time": "2023-11-23T07:48:28.260Z"
   },
   {
    "duration": 8,
    "start_time": "2023-11-23T07:48:28.275Z"
   },
   {
    "duration": 7,
    "start_time": "2023-11-23T07:48:28.285Z"
   },
   {
    "duration": 5,
    "start_time": "2023-11-23T07:48:28.293Z"
   },
   {
    "duration": 48,
    "start_time": "2023-11-23T07:48:28.299Z"
   },
   {
    "duration": 6,
    "start_time": "2023-11-23T07:48:28.351Z"
   },
   {
    "duration": 10,
    "start_time": "2023-11-23T07:48:28.358Z"
   },
   {
    "duration": 380,
    "start_time": "2023-11-23T07:48:28.370Z"
   },
   {
    "duration": 5,
    "start_time": "2023-11-23T07:48:28.751Z"
   },
   {
    "duration": 110,
    "start_time": "2023-11-23T07:48:28.758Z"
   },
   {
    "duration": 7,
    "start_time": "2023-11-23T07:48:28.869Z"
   },
   {
    "duration": 206,
    "start_time": "2023-11-23T07:48:28.878Z"
   },
   {
    "duration": 128,
    "start_time": "2023-11-23T07:48:29.086Z"
   },
   {
    "duration": 15,
    "start_time": "2023-11-23T07:48:29.215Z"
   },
   {
    "duration": 12,
    "start_time": "2023-11-23T07:48:29.231Z"
   },
   {
    "duration": 121,
    "start_time": "2023-11-23T07:48:29.244Z"
   },
   {
    "duration": 9,
    "start_time": "2023-11-23T07:48:29.366Z"
   },
   {
    "duration": 323,
    "start_time": "2023-11-23T07:48:29.376Z"
   },
   {
    "duration": 156,
    "start_time": "2023-11-23T07:48:29.701Z"
   },
   {
    "duration": 8,
    "start_time": "2023-11-23T07:48:29.858Z"
   },
   {
    "duration": 8,
    "start_time": "2023-11-23T07:48:29.867Z"
   },
   {
    "duration": 9,
    "start_time": "2023-11-23T07:48:29.876Z"
   },
   {
    "duration": 420,
    "start_time": "2023-11-23T07:48:29.886Z"
   },
   {
    "duration": 157,
    "start_time": "2023-11-23T07:48:30.307Z"
   },
   {
    "duration": 8,
    "start_time": "2023-11-23T07:48:30.466Z"
   },
   {
    "duration": 37,
    "start_time": "2023-11-23T07:48:30.475Z"
   },
   {
    "duration": 323,
    "start_time": "2023-11-23T07:48:30.514Z"
   },
   {
    "duration": 13,
    "start_time": "2023-11-23T07:48:30.839Z"
   },
   {
    "duration": 384,
    "start_time": "2023-11-23T07:48:30.854Z"
   },
   {
    "duration": 133,
    "start_time": "2023-11-23T07:48:31.239Z"
   },
   {
    "duration": 10,
    "start_time": "2023-11-23T07:48:31.374Z"
   },
   {
    "duration": 44,
    "start_time": "2023-11-23T07:48:31.386Z"
   },
   {
    "duration": 62,
    "start_time": "2023-11-23T07:48:31.432Z"
   },
   {
    "duration": 71,
    "start_time": "2023-11-23T07:48:31.496Z"
   },
   {
    "duration": 17,
    "start_time": "2023-11-23T07:48:31.569Z"
   },
   {
    "duration": 23,
    "start_time": "2023-11-23T07:48:31.588Z"
   },
   {
    "duration": 30,
    "start_time": "2023-11-23T07:48:31.613Z"
   },
   {
    "duration": 339,
    "start_time": "2023-11-23T07:48:31.645Z"
   },
   {
    "duration": 387,
    "start_time": "2023-11-23T07:48:31.985Z"
   },
   {
    "duration": 300,
    "start_time": "2023-11-23T07:48:32.374Z"
   },
   {
    "duration": 337,
    "start_time": "2023-11-23T07:48:32.675Z"
   },
   {
    "duration": 468,
    "start_time": "2023-11-23T07:48:33.014Z"
   },
   {
    "duration": 464,
    "start_time": "2023-11-23T07:48:33.483Z"
   },
   {
    "duration": 4,
    "start_time": "2023-11-23T07:48:33.948Z"
   },
   {
    "duration": 844,
    "start_time": "2023-11-23T07:48:33.953Z"
   },
   {
    "duration": 3,
    "start_time": "2023-11-23T07:48:34.799Z"
   },
   {
    "duration": 9,
    "start_time": "2023-11-23T07:48:34.803Z"
   },
   {
    "duration": 12,
    "start_time": "2023-11-23T07:48:34.814Z"
   },
   {
    "duration": 24,
    "start_time": "2023-11-23T07:48:34.827Z"
   },
   {
    "duration": 161,
    "start_time": "2023-11-23T07:48:34.852Z"
   },
   {
    "duration": 81,
    "start_time": "2023-11-23T07:48:35.014Z"
   },
   {
    "duration": 84,
    "start_time": "2023-11-23T07:48:35.096Z"
   },
   {
    "duration": 5,
    "start_time": "2023-11-23T07:48:35.182Z"
   },
   {
    "duration": 15,
    "start_time": "2023-11-23T07:48:35.189Z"
   },
   {
    "duration": 12,
    "start_time": "2023-11-23T07:48:35.206Z"
   },
   {
    "duration": 25,
    "start_time": "2023-11-23T07:48:35.219Z"
   },
   {
    "duration": 22,
    "start_time": "2023-11-23T07:48:35.246Z"
   },
   {
    "duration": 10,
    "start_time": "2023-11-23T07:48:35.270Z"
   },
   {
    "duration": 10,
    "start_time": "2023-11-23T07:48:35.281Z"
   },
   {
    "duration": 4,
    "start_time": "2023-11-23T07:48:35.297Z"
   },
   {
    "duration": 1181,
    "start_time": "2023-11-23T14:34:50.451Z"
   },
   {
    "duration": 3,
    "start_time": "2023-11-23T14:34:51.634Z"
   },
   {
    "duration": 4,
    "start_time": "2023-11-23T14:34:51.639Z"
   },
   {
    "duration": 147,
    "start_time": "2023-11-23T14:34:51.645Z"
   },
   {
    "duration": 13,
    "start_time": "2023-11-23T14:34:51.793Z"
   },
   {
    "duration": 19,
    "start_time": "2023-11-23T14:34:51.808Z"
   },
   {
    "duration": 13,
    "start_time": "2023-11-23T14:34:51.829Z"
   },
   {
    "duration": 27,
    "start_time": "2023-11-23T14:34:51.843Z"
   },
   {
    "duration": 12,
    "start_time": "2023-11-23T14:34:51.872Z"
   },
   {
    "duration": 230,
    "start_time": "2023-11-23T14:34:51.887Z"
   },
   {
    "duration": 9,
    "start_time": "2023-11-23T14:34:52.119Z"
   },
   {
    "duration": 41,
    "start_time": "2023-11-23T14:34:52.130Z"
   },
   {
    "duration": 30,
    "start_time": "2023-11-23T14:34:52.173Z"
   },
   {
    "duration": 28,
    "start_time": "2023-11-23T14:34:52.205Z"
   },
   {
    "duration": 143,
    "start_time": "2023-11-23T14:34:52.235Z"
   },
   {
    "duration": 8,
    "start_time": "2023-11-23T14:34:52.379Z"
   },
   {
    "duration": 17,
    "start_time": "2023-11-23T14:34:52.389Z"
   },
   {
    "duration": 29,
    "start_time": "2023-11-23T14:34:52.408Z"
   },
   {
    "duration": 27,
    "start_time": "2023-11-23T14:34:52.439Z"
   },
   {
    "duration": 8,
    "start_time": "2023-11-23T14:34:52.468Z"
   },
   {
    "duration": 22,
    "start_time": "2023-11-23T14:34:52.478Z"
   },
   {
    "duration": 10,
    "start_time": "2023-11-23T14:34:52.502Z"
   },
   {
    "duration": 40,
    "start_time": "2023-11-23T14:34:52.514Z"
   },
   {
    "duration": 12,
    "start_time": "2023-11-23T14:34:52.556Z"
   },
   {
    "duration": 14,
    "start_time": "2023-11-23T14:34:52.570Z"
   },
   {
    "duration": 7,
    "start_time": "2023-11-23T14:34:52.585Z"
   },
   {
    "duration": 30,
    "start_time": "2023-11-23T14:34:52.593Z"
   },
   {
    "duration": 7,
    "start_time": "2023-11-23T14:34:52.629Z"
   },
   {
    "duration": 36,
    "start_time": "2023-11-23T14:34:52.638Z"
   },
   {
    "duration": 403,
    "start_time": "2023-11-23T14:34:52.676Z"
   },
   {
    "duration": 6,
    "start_time": "2023-11-23T14:34:53.081Z"
   },
   {
    "duration": 124,
    "start_time": "2023-11-23T14:34:53.089Z"
   },
   {
    "duration": 8,
    "start_time": "2023-11-23T14:34:53.214Z"
   },
   {
    "duration": 236,
    "start_time": "2023-11-23T14:34:53.224Z"
   },
   {
    "duration": 141,
    "start_time": "2023-11-23T14:34:53.461Z"
   },
   {
    "duration": 16,
    "start_time": "2023-11-23T14:34:53.604Z"
   },
   {
    "duration": 50,
    "start_time": "2023-11-23T14:34:53.621Z"
   },
   {
    "duration": 135,
    "start_time": "2023-11-23T14:34:53.672Z"
   },
   {
    "duration": 10,
    "start_time": "2023-11-23T14:34:53.808Z"
   },
   {
    "duration": 351,
    "start_time": "2023-11-23T14:34:53.819Z"
   },
   {
    "duration": 164,
    "start_time": "2023-11-23T14:34:54.172Z"
   },
   {
    "duration": 8,
    "start_time": "2023-11-23T14:34:54.338Z"
   },
   {
    "duration": 8,
    "start_time": "2023-11-23T14:34:54.359Z"
   },
   {
    "duration": 9,
    "start_time": "2023-11-23T14:34:54.368Z"
   },
   {
    "duration": 436,
    "start_time": "2023-11-23T14:34:54.379Z"
   },
   {
    "duration": 164,
    "start_time": "2023-11-23T14:34:54.817Z"
   },
   {
    "duration": 9,
    "start_time": "2023-11-23T14:34:54.983Z"
   },
   {
    "duration": 36,
    "start_time": "2023-11-23T14:34:54.994Z"
   },
   {
    "duration": 326,
    "start_time": "2023-11-23T14:34:55.032Z"
   },
   {
    "duration": 14,
    "start_time": "2023-11-23T14:34:55.360Z"
   },
   {
    "duration": 343,
    "start_time": "2023-11-23T14:34:55.376Z"
   },
   {
    "duration": 139,
    "start_time": "2023-11-23T14:34:55.721Z"
   },
   {
    "duration": 9,
    "start_time": "2023-11-23T14:34:55.862Z"
   },
   {
    "duration": 32,
    "start_time": "2023-11-23T14:34:55.872Z"
   },
   {
    "duration": 20,
    "start_time": "2023-11-23T14:34:55.906Z"
   },
   {
    "duration": 47,
    "start_time": "2023-11-23T14:34:55.927Z"
   },
   {
    "duration": 19,
    "start_time": "2023-11-23T14:34:55.976Z"
   },
   {
    "duration": 40,
    "start_time": "2023-11-23T14:34:55.997Z"
   },
   {
    "duration": 25,
    "start_time": "2023-11-23T14:34:56.039Z"
   },
   {
    "duration": 337,
    "start_time": "2023-11-23T14:34:56.065Z"
   },
   {
    "duration": 417,
    "start_time": "2023-11-23T14:34:56.404Z"
   },
   {
    "duration": 352,
    "start_time": "2023-11-23T14:34:56.823Z"
   },
   {
    "duration": 353,
    "start_time": "2023-11-23T14:34:57.177Z"
   },
   {
    "duration": 487,
    "start_time": "2023-11-23T14:34:57.532Z"
   },
   {
    "duration": 489,
    "start_time": "2023-11-23T14:34:58.021Z"
   },
   {
    "duration": 4,
    "start_time": "2023-11-23T14:34:58.512Z"
   },
   {
    "duration": 916,
    "start_time": "2023-11-23T14:34:58.518Z"
   },
   {
    "duration": 3,
    "start_time": "2023-11-23T14:34:59.436Z"
   },
   {
    "duration": 18,
    "start_time": "2023-11-23T14:34:59.441Z"
   },
   {
    "duration": 14,
    "start_time": "2023-11-23T14:34:59.461Z"
   },
   {
    "duration": 11,
    "start_time": "2023-11-23T14:34:59.477Z"
   },
   {
    "duration": 195,
    "start_time": "2023-11-23T14:34:59.489Z"
   },
   {
    "duration": 83,
    "start_time": "2023-11-23T14:34:59.685Z"
   },
   {
    "duration": 78,
    "start_time": "2023-11-23T14:34:59.770Z"
   },
   {
    "duration": 5,
    "start_time": "2023-11-23T14:34:59.859Z"
   },
   {
    "duration": 14,
    "start_time": "2023-11-23T14:34:59.866Z"
   },
   {
    "duration": 13,
    "start_time": "2023-11-23T14:34:59.882Z"
   },
   {
    "duration": 5,
    "start_time": "2023-11-23T14:34:59.896Z"
   },
   {
    "duration": 5,
    "start_time": "2023-11-23T14:34:59.902Z"
   },
   {
    "duration": 5,
    "start_time": "2023-11-23T14:34:59.909Z"
   },
   {
    "duration": 47,
    "start_time": "2023-11-23T14:34:59.916Z"
   },
   {
    "duration": 5,
    "start_time": "2023-11-23T14:34:59.968Z"
   },
   {
    "duration": 11,
    "start_time": "2023-11-23T15:44:22.175Z"
   },
   {
    "duration": 4,
    "start_time": "2023-11-23T15:47:30.308Z"
   },
   {
    "duration": 4,
    "start_time": "2023-11-23T15:47:44.571Z"
   },
   {
    "duration": 3,
    "start_time": "2023-11-23T15:47:44.901Z"
   },
   {
    "duration": 3,
    "start_time": "2023-11-23T15:47:45.294Z"
   },
   {
    "duration": 11,
    "start_time": "2023-11-23T15:47:45.830Z"
   },
   {
    "duration": 831,
    "start_time": "2023-11-23T15:47:46.630Z"
   },
   {
    "duration": 3,
    "start_time": "2023-11-23T15:47:47.463Z"
   },
   {
    "duration": 17,
    "start_time": "2023-11-23T15:47:47.468Z"
   },
   {
    "duration": 127,
    "start_time": "2023-11-23T15:47:47.886Z"
   },
   {
    "duration": 12,
    "start_time": "2023-11-23T15:47:48.654Z"
   },
   {
    "duration": 8,
    "start_time": "2023-11-23T15:47:49.178Z"
   },
   {
    "duration": 775,
    "start_time": "2023-11-23T15:47:49.703Z"
   },
   {
    "duration": 9,
    "start_time": "2023-11-23T15:48:01.430Z"
   },
   {
    "duration": 1190,
    "start_time": "2023-11-23T15:48:40.419Z"
   },
   {
    "duration": 3,
    "start_time": "2023-11-23T15:48:41.611Z"
   },
   {
    "duration": 4,
    "start_time": "2023-11-23T15:48:41.615Z"
   },
   {
    "duration": 130,
    "start_time": "2023-11-23T15:48:41.621Z"
   },
   {
    "duration": 11,
    "start_time": "2023-11-23T15:48:41.753Z"
   },
   {
    "duration": 14,
    "start_time": "2023-11-23T15:48:41.765Z"
   },
   {
    "duration": 12,
    "start_time": "2023-11-23T15:48:41.781Z"
   },
   {
    "duration": 11,
    "start_time": "2023-11-23T15:48:41.794Z"
   },
   {
    "duration": 8,
    "start_time": "2023-11-23T15:48:41.806Z"
   },
   {
    "duration": 80,
    "start_time": "2023-11-23T15:48:41.816Z"
   },
   {
    "duration": 8,
    "start_time": "2023-11-23T15:48:41.897Z"
   },
   {
    "duration": 26,
    "start_time": "2023-11-23T15:48:41.907Z"
   },
   {
    "duration": 12,
    "start_time": "2023-11-23T15:48:41.935Z"
   },
   {
    "duration": 25,
    "start_time": "2023-11-23T15:48:41.949Z"
   },
   {
    "duration": 75,
    "start_time": "2023-11-23T15:48:41.976Z"
   },
   {
    "duration": 8,
    "start_time": "2023-11-23T15:48:42.052Z"
   },
   {
    "duration": 13,
    "start_time": "2023-11-23T15:48:42.061Z"
   },
   {
    "duration": 7,
    "start_time": "2023-11-23T15:48:42.076Z"
   },
   {
    "duration": 5,
    "start_time": "2023-11-23T15:48:42.085Z"
   },
   {
    "duration": 4,
    "start_time": "2023-11-23T15:48:42.092Z"
   },
   {
    "duration": 5,
    "start_time": "2023-11-23T15:48:42.097Z"
   },
   {
    "duration": 6,
    "start_time": "2023-11-23T15:48:42.103Z"
   },
   {
    "duration": 49,
    "start_time": "2023-11-23T15:48:42.110Z"
   },
   {
    "duration": 8,
    "start_time": "2023-11-23T15:48:42.161Z"
   },
   {
    "duration": 9,
    "start_time": "2023-11-23T15:48:42.171Z"
   },
   {
    "duration": 5,
    "start_time": "2023-11-23T15:48:42.181Z"
   },
   {
    "duration": 15,
    "start_time": "2023-11-23T15:48:42.187Z"
   },
   {
    "duration": 8,
    "start_time": "2023-11-23T15:48:42.207Z"
   },
   {
    "duration": 49,
    "start_time": "2023-11-23T15:48:42.216Z"
   },
   {
    "duration": 405,
    "start_time": "2023-11-23T15:48:42.267Z"
   },
   {
    "duration": 6,
    "start_time": "2023-11-23T15:48:42.674Z"
   },
   {
    "duration": 123,
    "start_time": "2023-11-23T15:48:42.682Z"
   },
   {
    "duration": 9,
    "start_time": "2023-11-23T15:48:42.807Z"
   },
   {
    "duration": 229,
    "start_time": "2023-11-23T15:48:42.818Z"
   },
   {
    "duration": 139,
    "start_time": "2023-11-23T15:48:43.048Z"
   },
   {
    "duration": 16,
    "start_time": "2023-11-23T15:48:43.189Z"
   },
   {
    "duration": 37,
    "start_time": "2023-11-23T15:48:43.206Z"
   },
   {
    "duration": 136,
    "start_time": "2023-11-23T15:48:43.245Z"
   },
   {
    "duration": 10,
    "start_time": "2023-11-23T15:48:43.383Z"
   },
   {
    "duration": 358,
    "start_time": "2023-11-23T15:48:43.394Z"
   },
   {
    "duration": 158,
    "start_time": "2023-11-23T15:48:43.753Z"
   },
   {
    "duration": 8,
    "start_time": "2023-11-23T15:48:43.912Z"
   },
   {
    "duration": 13,
    "start_time": "2023-11-23T15:48:43.922Z"
   },
   {
    "duration": 31,
    "start_time": "2023-11-23T15:48:43.937Z"
   },
   {
    "duration": 425,
    "start_time": "2023-11-23T15:48:43.971Z"
   },
   {
    "duration": 176,
    "start_time": "2023-11-23T15:48:44.398Z"
   },
   {
    "duration": 9,
    "start_time": "2023-11-23T15:48:44.575Z"
   },
   {
    "duration": 8,
    "start_time": "2023-11-23T15:48:44.585Z"
   },
   {
    "duration": 344,
    "start_time": "2023-11-23T15:48:44.594Z"
   },
   {
    "duration": 24,
    "start_time": "2023-11-23T15:48:44.940Z"
   },
   {
    "duration": 339,
    "start_time": "2023-11-23T15:48:44.966Z"
   },
   {
    "duration": 138,
    "start_time": "2023-11-23T15:48:45.306Z"
   },
   {
    "duration": 17,
    "start_time": "2023-11-23T15:48:45.445Z"
   },
   {
    "duration": 39,
    "start_time": "2023-11-23T15:48:45.463Z"
   },
   {
    "duration": 43,
    "start_time": "2023-11-23T15:48:45.504Z"
   },
   {
    "duration": 58,
    "start_time": "2023-11-23T15:48:45.548Z"
   },
   {
    "duration": 16,
    "start_time": "2023-11-23T15:48:45.608Z"
   },
   {
    "duration": 26,
    "start_time": "2023-11-23T15:48:45.625Z"
   },
   {
    "duration": 27,
    "start_time": "2023-11-23T15:48:45.652Z"
   },
   {
    "duration": 364,
    "start_time": "2023-11-23T15:48:45.680Z"
   },
   {
    "duration": 436,
    "start_time": "2023-11-23T15:48:46.046Z"
   },
   {
    "duration": 338,
    "start_time": "2023-11-23T15:48:46.484Z"
   },
   {
    "duration": 406,
    "start_time": "2023-11-23T15:48:46.824Z"
   },
   {
    "duration": 522,
    "start_time": "2023-11-23T15:48:47.231Z"
   },
   {
    "duration": 492,
    "start_time": "2023-11-23T15:48:47.758Z"
   },
   {
    "duration": 8,
    "start_time": "2023-11-23T15:48:48.252Z"
   },
   {
    "duration": 908,
    "start_time": "2023-11-23T15:48:48.261Z"
   },
   {
    "duration": 4,
    "start_time": "2023-11-23T15:48:49.171Z"
   },
   {
    "duration": 44,
    "start_time": "2023-11-23T15:48:49.177Z"
   },
   {
    "duration": 16,
    "start_time": "2023-11-23T15:48:49.222Z"
   },
   {
    "duration": 24,
    "start_time": "2023-11-23T15:48:49.240Z"
   },
   {
    "duration": 176,
    "start_time": "2023-11-23T15:48:49.266Z"
   },
   {
    "duration": 96,
    "start_time": "2023-11-23T15:48:49.443Z"
   },
   {
    "duration": 89,
    "start_time": "2023-11-23T15:48:49.541Z"
   },
   {
    "duration": 6,
    "start_time": "2023-11-23T15:48:49.631Z"
   },
   {
    "duration": 45,
    "start_time": "2023-11-23T15:48:49.638Z"
   },
   {
    "duration": 60,
    "start_time": "2023-11-23T15:48:49.685Z"
   },
   {
    "duration": 27,
    "start_time": "2023-11-23T15:48:49.746Z"
   },
   {
    "duration": 10,
    "start_time": "2023-11-23T15:48:49.775Z"
   },
   {
    "duration": 25,
    "start_time": "2023-11-23T15:48:49.787Z"
   },
   {
    "duration": 53,
    "start_time": "2023-11-23T15:48:49.814Z"
   },
   {
    "duration": 35,
    "start_time": "2023-11-23T15:48:49.873Z"
   },
   {
    "duration": 41,
    "start_time": "2023-11-23T15:48:49.909Z"
   },
   {
    "duration": 48,
    "start_time": "2023-11-23T15:48:49.952Z"
   },
   {
    "duration": 57,
    "start_time": "2023-11-23T15:48:50.001Z"
   },
   {
    "duration": 45,
    "start_time": "2023-11-23T15:48:50.059Z"
   },
   {
    "duration": 25,
    "start_time": "2023-11-23T15:48:50.105Z"
   },
   {
    "duration": 47,
    "start_time": "2023-11-23T15:48:50.131Z"
   },
   {
    "duration": 9,
    "start_time": "2023-11-23T15:48:50.179Z"
   },
   {
    "duration": 21,
    "start_time": "2023-11-23T15:48:50.189Z"
   },
   {
    "duration": 24,
    "start_time": "2023-11-23T15:48:50.211Z"
   },
   {
    "duration": 42,
    "start_time": "2023-11-23T15:48:50.236Z"
   },
   {
    "duration": 821,
    "start_time": "2023-11-23T15:48:50.279Z"
   },
   {
    "duration": 3,
    "start_time": "2023-11-23T15:48:51.102Z"
   },
   {
    "duration": 45,
    "start_time": "2023-11-23T15:48:51.107Z"
   },
   {
    "duration": 151,
    "start_time": "2023-11-23T15:48:51.153Z"
   },
   {
    "duration": 11,
    "start_time": "2023-11-23T15:48:51.306Z"
   },
   {
    "duration": 49,
    "start_time": "2023-11-23T15:48:51.318Z"
   },
   {
    "duration": 839,
    "start_time": "2023-11-23T15:48:51.368Z"
   },
   {
    "duration": 6,
    "start_time": "2023-11-23T15:48:52.209Z"
   }
  ],
  "kernelspec": {
   "display_name": "Python 3 (ipykernel)",
   "language": "python",
   "name": "python3"
  },
  "language_info": {
   "codemirror_mode": {
    "name": "ipython",
    "version": 3
   },
   "file_extension": ".py",
   "mimetype": "text/x-python",
   "name": "python",
   "nbconvert_exporter": "python",
   "pygments_lexer": "ipython3",
   "version": "3.9.5"
  },
  "toc": {
   "base_numbering": 1,
   "nav_menu": {},
   "number_sections": true,
   "sideBar": true,
   "skip_h1_title": true,
   "title_cell": "Table of Contents",
   "title_sidebar": "Contents",
   "toc_cell": false,
   "toc_position": {},
   "toc_section_display": true,
   "toc_window_display": true
  }
 },
 "nbformat": 4,
 "nbformat_minor": 5
}
